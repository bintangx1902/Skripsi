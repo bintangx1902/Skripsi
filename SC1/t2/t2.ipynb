{
 "cells": [
  {
   "cell_type": "code",
   "id": "initial_id",
   "metadata": {
    "collapsed": true,
    "jupyter": {
     "outputs_hidden": true
    },
    "ExecuteTime": {
     "end_time": "2025-05-01T13:10:22.924481Z",
     "start_time": "2025-05-01T13:10:18.302882Z"
    }
   },
   "source": [
    "import tensorflow as tf\n",
    "import numpy as np\n",
    "import pandas as pd\n",
    "import os\n",
    "import librosa\n",
    "\n",
    "from shared.utils import *\n",
    "from shared.local_path import *\n",
    "\n",
    "from sklearn.model_selection import train_test_split\n",
    "from sklearn.preprocessing import LabelEncoder\n",
    "from matplotlib import pyplot as plt"
   ],
   "outputs": [],
   "execution_count": 1
  },
  {
   "cell_type": "markdown",
   "id": "798f4d85f3be9b46",
   "metadata": {},
   "source": [
    "# Data Preparation & Preprocessing\n",
    "## Audio Data"
   ]
  },
  {
   "cell_type": "code",
   "id": "e4b677859d5d7f23",
   "metadata": {
    "ExecuteTime": {
     "end_time": "2025-05-01T13:10:23.031537Z",
     "start_time": "2025-05-01T13:10:22.936515Z"
    }
   },
   "source": [
    "label = []\n",
    "filepath = []\n",
    "\n",
    "for classes in os.listdir(AUDIO_PATH):\n",
    "    for file in os.listdir(os.path.join(AUDIO_PATH, classes)):\n",
    "        file_path = os.path.join(AUDIO_PATH, classes, file)\n",
    "\n",
    "        filepath.append(file_path)\n",
    "        label.append(classes)\n",
    "\n",
    "audio = pd.DataFrame({\n",
    "    'filepath': filepath,\n",
    "    'label': label,\n",
    "})\n",
    "\n",
    "audio.head()"
   ],
   "outputs": [
    {
     "data": {
      "text/plain": [
       "                                            filepath  label\n",
       "0  E:\\\\Skripsi\\data\\audio\\angry\\03-01-05-01-01-01...  angry\n",
       "1  E:\\\\Skripsi\\data\\audio\\angry\\03-01-05-01-01-01...  angry\n",
       "2  E:\\\\Skripsi\\data\\audio\\angry\\03-01-05-01-01-01...  angry\n",
       "3  E:\\\\Skripsi\\data\\audio\\angry\\03-01-05-01-01-01...  angry\n",
       "4  E:\\\\Skripsi\\data\\audio\\angry\\03-01-05-01-01-01...  angry"
      ],
      "text/html": [
       "<div>\n",
       "<style scoped>\n",
       "    .dataframe tbody tr th:only-of-type {\n",
       "        vertical-align: middle;\n",
       "    }\n",
       "\n",
       "    .dataframe tbody tr th {\n",
       "        vertical-align: top;\n",
       "    }\n",
       "\n",
       "    .dataframe thead th {\n",
       "        text-align: right;\n",
       "    }\n",
       "</style>\n",
       "<table border=\"1\" class=\"dataframe\">\n",
       "  <thead>\n",
       "    <tr style=\"text-align: right;\">\n",
       "      <th></th>\n",
       "      <th>filepath</th>\n",
       "      <th>label</th>\n",
       "    </tr>\n",
       "  </thead>\n",
       "  <tbody>\n",
       "    <tr>\n",
       "      <th>0</th>\n",
       "      <td>E:\\\\Skripsi\\data\\audio\\angry\\03-01-05-01-01-01...</td>\n",
       "      <td>angry</td>\n",
       "    </tr>\n",
       "    <tr>\n",
       "      <th>1</th>\n",
       "      <td>E:\\\\Skripsi\\data\\audio\\angry\\03-01-05-01-01-01...</td>\n",
       "      <td>angry</td>\n",
       "    </tr>\n",
       "    <tr>\n",
       "      <th>2</th>\n",
       "      <td>E:\\\\Skripsi\\data\\audio\\angry\\03-01-05-01-01-01...</td>\n",
       "      <td>angry</td>\n",
       "    </tr>\n",
       "    <tr>\n",
       "      <th>3</th>\n",
       "      <td>E:\\\\Skripsi\\data\\audio\\angry\\03-01-05-01-01-01...</td>\n",
       "      <td>angry</td>\n",
       "    </tr>\n",
       "    <tr>\n",
       "      <th>4</th>\n",
       "      <td>E:\\\\Skripsi\\data\\audio\\angry\\03-01-05-01-01-01...</td>\n",
       "      <td>angry</td>\n",
       "    </tr>\n",
       "  </tbody>\n",
       "</table>\n",
       "</div>"
      ]
     },
     "execution_count": 2,
     "metadata": {},
     "output_type": "execute_result"
    }
   ],
   "execution_count": 2
  },
  {
   "cell_type": "code",
   "id": "f022e07fb2028b32",
   "metadata": {
    "ExecuteTime": {
     "end_time": "2025-05-01T13:10:23.551380Z",
     "start_time": "2025-05-01T13:10:23.535063Z"
    }
   },
   "source": [
    "le = LabelEncoder()\n",
    "le.fit(audio['label'])\n",
    "audio['label_encoded'] = le.transform(audio['label'])\n",
    "num_classes = len(le.classes_)"
   ],
   "outputs": [],
   "execution_count": 3
  },
  {
   "cell_type": "code",
   "id": "ea0470a08288b192",
   "metadata": {
    "ExecuteTime": {
     "end_time": "2025-05-01T13:10:23.609267Z",
     "start_time": "2025-05-01T13:10:23.600503Z"
    }
   },
   "source": [
    "audio.head()"
   ],
   "outputs": [
    {
     "data": {
      "text/plain": [
       "                                            filepath  label  label_encoded\n",
       "0  E:\\\\Skripsi\\data\\audio\\angry\\03-01-05-01-01-01...  angry              0\n",
       "1  E:\\\\Skripsi\\data\\audio\\angry\\03-01-05-01-01-01...  angry              0\n",
       "2  E:\\\\Skripsi\\data\\audio\\angry\\03-01-05-01-01-01...  angry              0\n",
       "3  E:\\\\Skripsi\\data\\audio\\angry\\03-01-05-01-01-01...  angry              0\n",
       "4  E:\\\\Skripsi\\data\\audio\\angry\\03-01-05-01-01-01...  angry              0"
      ],
      "text/html": [
       "<div>\n",
       "<style scoped>\n",
       "    .dataframe tbody tr th:only-of-type {\n",
       "        vertical-align: middle;\n",
       "    }\n",
       "\n",
       "    .dataframe tbody tr th {\n",
       "        vertical-align: top;\n",
       "    }\n",
       "\n",
       "    .dataframe thead th {\n",
       "        text-align: right;\n",
       "    }\n",
       "</style>\n",
       "<table border=\"1\" class=\"dataframe\">\n",
       "  <thead>\n",
       "    <tr style=\"text-align: right;\">\n",
       "      <th></th>\n",
       "      <th>filepath</th>\n",
       "      <th>label</th>\n",
       "      <th>label_encoded</th>\n",
       "    </tr>\n",
       "  </thead>\n",
       "  <tbody>\n",
       "    <tr>\n",
       "      <th>0</th>\n",
       "      <td>E:\\\\Skripsi\\data\\audio\\angry\\03-01-05-01-01-01...</td>\n",
       "      <td>angry</td>\n",
       "      <td>0</td>\n",
       "    </tr>\n",
       "    <tr>\n",
       "      <th>1</th>\n",
       "      <td>E:\\\\Skripsi\\data\\audio\\angry\\03-01-05-01-01-01...</td>\n",
       "      <td>angry</td>\n",
       "      <td>0</td>\n",
       "    </tr>\n",
       "    <tr>\n",
       "      <th>2</th>\n",
       "      <td>E:\\\\Skripsi\\data\\audio\\angry\\03-01-05-01-01-01...</td>\n",
       "      <td>angry</td>\n",
       "      <td>0</td>\n",
       "    </tr>\n",
       "    <tr>\n",
       "      <th>3</th>\n",
       "      <td>E:\\\\Skripsi\\data\\audio\\angry\\03-01-05-01-01-01...</td>\n",
       "      <td>angry</td>\n",
       "      <td>0</td>\n",
       "    </tr>\n",
       "    <tr>\n",
       "      <th>4</th>\n",
       "      <td>E:\\\\Skripsi\\data\\audio\\angry\\03-01-05-01-01-01...</td>\n",
       "      <td>angry</td>\n",
       "      <td>0</td>\n",
       "    </tr>\n",
       "  </tbody>\n",
       "</table>\n",
       "</div>"
      ]
     },
     "execution_count": 4,
     "metadata": {},
     "output_type": "execute_result"
    }
   ],
   "execution_count": 4
  },
  {
   "cell_type": "code",
   "id": "392548489473a753",
   "metadata": {
    "ExecuteTime": {
     "end_time": "2025-05-01T13:10:23.783950Z",
     "start_time": "2025-05-01T13:10:23.772078Z"
    }
   },
   "source": [
    "audio.label_encoded.unique()"
   ],
   "outputs": [
    {
     "data": {
      "text/plain": [
       "array([0, 1, 2, 3, 4, 5, 6, 7])"
      ]
     },
     "execution_count": 5,
     "metadata": {},
     "output_type": "execute_result"
    }
   ],
   "execution_count": 5
  },
  {
   "cell_type": "code",
   "id": "3fe68454f9e1a3b9",
   "metadata": {
    "ExecuteTime": {
     "end_time": "2025-05-01T13:15:18.290568Z",
     "start_time": "2025-05-01T13:10:23.914895Z"
    }
   },
   "source": [
    "with tf.device('/GPU:0'):\n",
    "    audio['data'] = audio.filepath.apply(preprocess_audio)"
   ],
   "outputs": [
    {
     "name": "stderr",
     "output_type": "stream",
     "text": [
      "C:\\ProgramData\\miniconda3\\envs\\tf\\lib\\site-packages\\librosa\\core\\spectrum.py:266: UserWarning: n_fft=2048 is too large for input signal of length=96\n",
      "  warnings.warn(\n",
      "C:\\ProgramData\\miniconda3\\envs\\tf\\lib\\site-packages\\librosa\\core\\spectrum.py:266: UserWarning: n_fft=2048 is too large for input signal of length=1152\n",
      "  warnings.warn(\n",
      "C:\\ProgramData\\miniconda3\\envs\\tf\\lib\\site-packages\\librosa\\core\\spectrum.py:266: UserWarning: n_fft=2048 is too large for input signal of length=1472\n",
      "  warnings.warn(\n",
      "C:\\ProgramData\\miniconda3\\envs\\tf\\lib\\site-packages\\librosa\\core\\spectrum.py:266: UserWarning: n_fft=2048 is too large for input signal of length=1056\n",
      "  warnings.warn(\n",
      "C:\\ProgramData\\miniconda3\\envs\\tf\\lib\\site-packages\\librosa\\core\\spectrum.py:266: UserWarning: n_fft=2048 is too large for input signal of length=1792\n",
      "  warnings.warn(\n",
      "C:\\ProgramData\\miniconda3\\envs\\tf\\lib\\site-packages\\librosa\\core\\spectrum.py:266: UserWarning: n_fft=2048 is too large for input signal of length=320\n",
      "  warnings.warn(\n",
      "C:\\ProgramData\\miniconda3\\envs\\tf\\lib\\site-packages\\librosa\\core\\spectrum.py:266: UserWarning: n_fft=2048 is too large for input signal of length=1280\n",
      "  warnings.warn(\n",
      "C:\\ProgramData\\miniconda3\\envs\\tf\\lib\\site-packages\\librosa\\core\\spectrum.py:266: UserWarning: n_fft=2048 is too large for input signal of length=608\n",
      "  warnings.warn(\n",
      "C:\\ProgramData\\miniconda3\\envs\\tf\\lib\\site-packages\\librosa\\core\\spectrum.py:266: UserWarning: n_fft=2048 is too large for input signal of length=1920\n",
      "  warnings.warn(\n",
      "C:\\ProgramData\\miniconda3\\envs\\tf\\lib\\site-packages\\librosa\\core\\spectrum.py:266: UserWarning: n_fft=2048 is too large for input signal of length=1824\n",
      "  warnings.warn(\n",
      "C:\\ProgramData\\miniconda3\\envs\\tf\\lib\\site-packages\\librosa\\core\\spectrum.py:266: UserWarning: n_fft=2048 is too large for input signal of length=1664\n",
      "  warnings.warn(\n",
      "C:\\ProgramData\\miniconda3\\envs\\tf\\lib\\site-packages\\librosa\\core\\spectrum.py:266: UserWarning: n_fft=2048 is too large for input signal of length=1216\n",
      "  warnings.warn(\n",
      "C:\\ProgramData\\miniconda3\\envs\\tf\\lib\\site-packages\\librosa\\core\\spectrum.py:266: UserWarning: n_fft=2048 is too large for input signal of length=448\n",
      "  warnings.warn(\n",
      "C:\\ProgramData\\miniconda3\\envs\\tf\\lib\\site-packages\\librosa\\core\\spectrum.py:266: UserWarning: n_fft=2048 is too large for input signal of length=800\n",
      "  warnings.warn(\n",
      "C:\\ProgramData\\miniconda3\\envs\\tf\\lib\\site-packages\\librosa\\core\\spectrum.py:266: UserWarning: n_fft=2048 is too large for input signal of length=1952\n",
      "  warnings.warn(\n",
      "C:\\ProgramData\\miniconda3\\envs\\tf\\lib\\site-packages\\librosa\\core\\spectrum.py:266: UserWarning: n_fft=2048 is too large for input signal of length=192\n",
      "  warnings.warn(\n",
      "C:\\ProgramData\\miniconda3\\envs\\tf\\lib\\site-packages\\librosa\\core\\spectrum.py:266: UserWarning: n_fft=2048 is too large for input signal of length=544\n",
      "  warnings.warn(\n",
      "C:\\ProgramData\\miniconda3\\envs\\tf\\lib\\site-packages\\librosa\\core\\spectrum.py:266: UserWarning: n_fft=2048 is too large for input signal of length=1888\n",
      "  warnings.warn(\n",
      "C:\\ProgramData\\miniconda3\\envs\\tf\\lib\\site-packages\\librosa\\core\\spectrum.py:266: UserWarning: n_fft=2048 is too large for input signal of length=576\n",
      "  warnings.warn(\n"
     ]
    }
   ],
   "execution_count": 6
  },
  {
   "cell_type": "code",
   "id": "32b199f072ed11cf",
   "metadata": {
    "ExecuteTime": {
     "end_time": "2025-05-01T13:15:18.903344Z",
     "start_time": "2025-05-01T13:15:18.886916Z"
    }
   },
   "source": [
    "audio['data'][0].shape"
   ],
   "outputs": [
    {
     "data": {
      "text/plain": [
       "(128, 110, 3)"
      ]
     },
     "execution_count": 7,
     "metadata": {},
     "output_type": "execute_result"
    }
   ],
   "execution_count": 7
  },
  {
   "cell_type": "code",
   "id": "3f96fc11afc23f59",
   "metadata": {
    "ExecuteTime": {
     "end_time": "2025-05-01T13:15:19.505416Z",
     "start_time": "2025-05-01T13:15:19.489268Z"
    }
   },
   "source": [
    "del filepath, label"
   ],
   "outputs": [],
   "execution_count": 8
  },
  {
   "cell_type": "code",
   "id": "26e5a6cf33605268",
   "metadata": {
    "ExecuteTime": {
     "end_time": "2025-05-01T13:15:21.925098Z",
     "start_time": "2025-05-01T13:15:20.081862Z"
    }
   },
   "source": [
    "x_audio = np.stack(audio['data'].values)\n",
    "y_audio = audio['label_encoded'].values"
   ],
   "outputs": [],
   "execution_count": 9
  },
  {
   "cell_type": "code",
   "id": "c4be741ca5e42e77",
   "metadata": {
    "ExecuteTime": {
     "end_time": "2025-05-01T13:15:22.702518Z",
     "start_time": "2025-05-01T13:15:22.686432Z"
    }
   },
   "source": [
    "x_audio.shape"
   ],
   "outputs": [
    {
     "data": {
      "text/plain": [
       "(27406, 128, 110, 3)"
      ]
     },
     "execution_count": 10,
     "metadata": {},
     "output_type": "execute_result"
    }
   ],
   "execution_count": 10
  },
  {
   "cell_type": "code",
   "id": "2a16308b95dd1823",
   "metadata": {
    "ExecuteTime": {
     "end_time": "2025-05-01T13:15:24.320739Z",
     "start_time": "2025-05-01T13:15:23.287329Z"
    }
   },
   "source": [
    "del audio"
   ],
   "outputs": [],
   "execution_count": 11
  },
  {
   "cell_type": "code",
   "id": "b8c548dcab51025f",
   "metadata": {
    "ExecuteTime": {
     "end_time": "2025-05-01T13:15:25.754490Z",
     "start_time": "2025-05-01T13:15:24.337430Z"
    }
   },
   "source": [
    "x_audio_train, x_temp, y_audio_train, y_temp = train_test_split(\n",
    "    x_audio, y_audio, test_size=0.4, random_state=42, stratify=y_audio\n",
    ")\n",
    "\n",
    "x_audio_val, x_audio_test, y_audio_val, y_audio_test = train_test_split(\n",
    "    x_temp, y_temp, test_size=0.5, random_state=42, stratify=y_temp\n",
    ")"
   ],
   "outputs": [],
   "execution_count": 12
  },
  {
   "cell_type": "code",
   "id": "7437c5ea8e7b52ab",
   "metadata": {
    "ExecuteTime": {
     "end_time": "2025-05-01T13:15:26.052077Z",
     "start_time": "2025-05-01T13:15:25.787702Z"
    }
   },
   "source": [
    "del x_audio, y_audio"
   ],
   "outputs": [],
   "execution_count": 13
  },
  {
   "cell_type": "code",
   "id": "b295ea97f3fb126b",
   "metadata": {
    "ExecuteTime": {
     "end_time": "2025-05-01T13:15:26.093736Z",
     "start_time": "2025-05-01T13:15:26.081338Z"
    }
   },
   "source": [
    "x_audio_train.shape"
   ],
   "outputs": [
    {
     "data": {
      "text/plain": [
       "(16443, 128, 110, 3)"
      ]
     },
     "execution_count": 14,
     "metadata": {},
     "output_type": "execute_result"
    }
   ],
   "execution_count": 14
  },
  {
   "cell_type": "code",
   "id": "e90eff4ef7e43f",
   "metadata": {
    "ExecuteTime": {
     "end_time": "2025-05-01T13:15:26.139516Z",
     "start_time": "2025-05-01T13:15:26.122833Z"
    }
   },
   "source": [
    "x_audio_train.shape[0] == len(y_audio_train)"
   ],
   "outputs": [
    {
     "data": {
      "text/plain": [
       "True"
      ]
     },
     "execution_count": 15,
     "metadata": {},
     "output_type": "execute_result"
    }
   ],
   "execution_count": 15
  },
  {
   "metadata": {},
   "cell_type": "markdown",
   "source": "## Image data\n",
   "id": "2e8d88eaa3c4fbf7"
  },
  {
   "cell_type": "code",
   "id": "56eaf9e69e66bcc0",
   "metadata": {
    "ExecuteTime": {
     "end_time": "2025-05-01T13:15:28.797580Z",
     "start_time": "2025-05-01T13:15:26.184493Z"
    }
   },
   "source": [
    "filepath = []\n",
    "label = []\n",
    "\n",
    "i = 0\n",
    "for classes in os.listdir(TRAIN_IMAGE_PATH):\n",
    "    for file in os.listdir(os.path.join(TRAIN_IMAGE_PATH, classes)):\n",
    "        path = os.path.join(TRAIN_IMAGE_PATH, classes, file)\n",
    "        filepath.append(path)\n",
    "        label.append(classes)\n",
    "\n",
    "train_df = pd.DataFrame({\n",
    "    'filepath': filepath,\n",
    "    'label': label\n",
    "})\n",
    "\n",
    "del filepath, label\n",
    "\n",
    "print(train_df.shape)\n",
    "print(train_df['label'].unique())\n",
    "train_df.head()"
   ],
   "outputs": [
    {
     "name": "stdout",
     "output_type": "stream",
     "text": [
      "(28709, 2)\n",
      "['angry' 'disgust' 'fear' 'happy' 'neutral' 'sad' 'surprise']\n"
     ]
    },
    {
     "data": {
      "text/plain": [
       "                                            filepath  label\n",
       "0  E:\\\\Skripsi\\data\\new_data\\train\\angry\\Training...  angry\n",
       "1  E:\\\\Skripsi\\data\\new_data\\train\\angry\\Training...  angry\n",
       "2  E:\\\\Skripsi\\data\\new_data\\train\\angry\\Training...  angry\n",
       "3  E:\\\\Skripsi\\data\\new_data\\train\\angry\\Training...  angry\n",
       "4  E:\\\\Skripsi\\data\\new_data\\train\\angry\\Training...  angry"
      ],
      "text/html": [
       "<div>\n",
       "<style scoped>\n",
       "    .dataframe tbody tr th:only-of-type {\n",
       "        vertical-align: middle;\n",
       "    }\n",
       "\n",
       "    .dataframe tbody tr th {\n",
       "        vertical-align: top;\n",
       "    }\n",
       "\n",
       "    .dataframe thead th {\n",
       "        text-align: right;\n",
       "    }\n",
       "</style>\n",
       "<table border=\"1\" class=\"dataframe\">\n",
       "  <thead>\n",
       "    <tr style=\"text-align: right;\">\n",
       "      <th></th>\n",
       "      <th>filepath</th>\n",
       "      <th>label</th>\n",
       "    </tr>\n",
       "  </thead>\n",
       "  <tbody>\n",
       "    <tr>\n",
       "      <th>0</th>\n",
       "      <td>E:\\\\Skripsi\\data\\new_data\\train\\angry\\Training...</td>\n",
       "      <td>angry</td>\n",
       "    </tr>\n",
       "    <tr>\n",
       "      <th>1</th>\n",
       "      <td>E:\\\\Skripsi\\data\\new_data\\train\\angry\\Training...</td>\n",
       "      <td>angry</td>\n",
       "    </tr>\n",
       "    <tr>\n",
       "      <th>2</th>\n",
       "      <td>E:\\\\Skripsi\\data\\new_data\\train\\angry\\Training...</td>\n",
       "      <td>angry</td>\n",
       "    </tr>\n",
       "    <tr>\n",
       "      <th>3</th>\n",
       "      <td>E:\\\\Skripsi\\data\\new_data\\train\\angry\\Training...</td>\n",
       "      <td>angry</td>\n",
       "    </tr>\n",
       "    <tr>\n",
       "      <th>4</th>\n",
       "      <td>E:\\\\Skripsi\\data\\new_data\\train\\angry\\Training...</td>\n",
       "      <td>angry</td>\n",
       "    </tr>\n",
       "  </tbody>\n",
       "</table>\n",
       "</div>"
      ]
     },
     "execution_count": 16,
     "metadata": {},
     "output_type": "execute_result"
    }
   ],
   "execution_count": 16
  },
  {
   "cell_type": "code",
   "id": "781406c42dd93d14",
   "metadata": {
    "ExecuteTime": {
     "end_time": "2025-05-01T13:15:29.623735Z",
     "start_time": "2025-05-01T13:15:28.876788Z"
    }
   },
   "source": [
    "filepath = []\n",
    "label = []\n",
    "\n",
    "i = 0\n",
    "for classes in os.listdir(TEST_IMAGE_PATH):\n",
    "    for file in os.listdir(os.path.join(TEST_IMAGE_PATH, classes)):\n",
    "        path = os.path.join(TEST_IMAGE_PATH, classes, file)\n",
    "        filepath.append(path)\n",
    "        label.append(classes)\n",
    "\n",
    "img_test_df = pd.DataFrame({\n",
    "    'filepath': filepath,\n",
    "    'label': label\n",
    "})\n",
    "\n",
    "del filepath, label\n",
    "\n",
    "print(img_test_df.shape)\n",
    "print(img_test_df['label'].unique())\n",
    "img_test_df.head()"
   ],
   "outputs": [
    {
     "name": "stdout",
     "output_type": "stream",
     "text": [
      "(7311, 2)\n",
      "['angry' 'disgust' 'fear' 'happy' 'neutral' 'sad' 'surprise']\n"
     ]
    },
    {
     "data": {
      "text/plain": [
       "                                            filepath  label\n",
       "0     E:\\\\Skripsi\\data\\new_data\\test\\angry\\Anger.jpg  angry\n",
       "1   E:\\\\Skripsi\\data\\new_data\\test\\angry\\Anger_1.jpg  angry\n",
       "2  E:\\\\Skripsi\\data\\new_data\\test\\angry\\Anger_10.jpg  angry\n",
       "3  E:\\\\Skripsi\\data\\new_data\\test\\angry\\Anger_11.jpg  angry\n",
       "4  E:\\\\Skripsi\\data\\new_data\\test\\angry\\Anger_12.jpg  angry"
      ],
      "text/html": [
       "<div>\n",
       "<style scoped>\n",
       "    .dataframe tbody tr th:only-of-type {\n",
       "        vertical-align: middle;\n",
       "    }\n",
       "\n",
       "    .dataframe tbody tr th {\n",
       "        vertical-align: top;\n",
       "    }\n",
       "\n",
       "    .dataframe thead th {\n",
       "        text-align: right;\n",
       "    }\n",
       "</style>\n",
       "<table border=\"1\" class=\"dataframe\">\n",
       "  <thead>\n",
       "    <tr style=\"text-align: right;\">\n",
       "      <th></th>\n",
       "      <th>filepath</th>\n",
       "      <th>label</th>\n",
       "    </tr>\n",
       "  </thead>\n",
       "  <tbody>\n",
       "    <tr>\n",
       "      <th>0</th>\n",
       "      <td>E:\\\\Skripsi\\data\\new_data\\test\\angry\\Anger.jpg</td>\n",
       "      <td>angry</td>\n",
       "    </tr>\n",
       "    <tr>\n",
       "      <th>1</th>\n",
       "      <td>E:\\\\Skripsi\\data\\new_data\\test\\angry\\Anger_1.jpg</td>\n",
       "      <td>angry</td>\n",
       "    </tr>\n",
       "    <tr>\n",
       "      <th>2</th>\n",
       "      <td>E:\\\\Skripsi\\data\\new_data\\test\\angry\\Anger_10.jpg</td>\n",
       "      <td>angry</td>\n",
       "    </tr>\n",
       "    <tr>\n",
       "      <th>3</th>\n",
       "      <td>E:\\\\Skripsi\\data\\new_data\\test\\angry\\Anger_11.jpg</td>\n",
       "      <td>angry</td>\n",
       "    </tr>\n",
       "    <tr>\n",
       "      <th>4</th>\n",
       "      <td>E:\\\\Skripsi\\data\\new_data\\test\\angry\\Anger_12.jpg</td>\n",
       "      <td>angry</td>\n",
       "    </tr>\n",
       "  </tbody>\n",
       "</table>\n",
       "</div>"
      ]
     },
     "execution_count": 17,
     "metadata": {},
     "output_type": "execute_result"
    }
   ],
   "execution_count": 17
  },
  {
   "cell_type": "code",
   "id": "674c4f6e800dd7b1",
   "metadata": {
    "ExecuteTime": {
     "end_time": "2025-05-01T13:15:29.734084Z",
     "start_time": "2025-05-01T13:15:29.720082Z"
    }
   },
   "source": [
    "le = LabelEncoder()\n",
    "le.fit(train_df['label'])\n",
    "train_df['label_encoded'] = le.transform(train_df['label'])\n",
    "img_test_df['label_encoded'] = le.transform(img_test_df['label'])"
   ],
   "outputs": [],
   "execution_count": 18
  },
  {
   "cell_type": "code",
   "id": "b5f0d7b264bdc9b6",
   "metadata": {
    "ExecuteTime": {
     "end_time": "2025-05-01T13:15:50.847906Z",
     "start_time": "2025-05-01T13:15:29.871763Z"
    }
   },
   "source": [
    "with tf.device('/GPU:0'):\n",
    "    train_df['data'] = train_df['filepath'].apply(preprocess_image)\n",
    "    img_test_df['data'] = img_test_df['filepath'].apply(preprocess_image)"
   ],
   "outputs": [],
   "execution_count": 19
  },
  {
   "cell_type": "code",
   "id": "5c9a533ed87d95dc",
   "metadata": {
    "ExecuteTime": {
     "end_time": "2025-05-01T13:15:55.297269Z",
     "start_time": "2025-05-01T13:15:55.284524Z"
    }
   },
   "source": [
    "train_df.shape"
   ],
   "outputs": [
    {
     "data": {
      "text/plain": [
       "(28709, 4)"
      ]
     },
     "execution_count": 20,
     "metadata": {},
     "output_type": "execute_result"
    }
   ],
   "execution_count": 20
  },
  {
   "cell_type": "code",
   "id": "83bed63661f5101f",
   "metadata": {
    "ExecuteTime": {
     "end_time": "2025-05-01T13:15:57.891993Z",
     "start_time": "2025-05-01T13:15:57.528170Z"
    }
   },
   "source": [
    "x_img = np.stack(train_df['data'].values)\n",
    "y_img = train_df['label_encoded'].values\n",
    "\n",
    "x_img_test = np.stack(img_test_df['data'].values)\n",
    "y_img_test = img_test_df['label_encoded'].values"
   ],
   "outputs": [],
   "execution_count": 21
  },
  {
   "cell_type": "code",
   "id": "342c344f56539f0d",
   "metadata": {
    "ExecuteTime": {
     "end_time": "2025-05-01T13:16:00.394683Z",
     "start_time": "2025-05-01T13:16:00.217699Z"
    }
   },
   "source": [
    "del train_df, img_test_df"
   ],
   "outputs": [],
   "execution_count": 22
  },
  {
   "cell_type": "code",
   "id": "8eeb37fa02749b38",
   "metadata": {
    "ExecuteTime": {
     "end_time": "2025-05-01T13:16:00.438365Z",
     "start_time": "2025-05-01T13:16:00.423995Z"
    }
   },
   "source": [
    "x_img.shape[1:] == x_img_test.shape[1:]"
   ],
   "outputs": [
    {
     "data": {
      "text/plain": [
       "True"
      ]
     },
     "execution_count": 23,
     "metadata": {},
     "output_type": "execute_result"
    }
   ],
   "execution_count": 23
  },
  {
   "cell_type": "code",
   "id": "d713050055abfd98",
   "metadata": {
    "ExecuteTime": {
     "end_time": "2025-05-01T13:16:00.486798Z",
     "start_time": "2025-05-01T13:16:00.470037Z"
    }
   },
   "source": [
    "x_img.shape"
   ],
   "outputs": [
    {
     "data": {
      "text/plain": [
       "(28709, 128, 110, 3)"
      ]
     },
     "execution_count": 24,
     "metadata": {},
     "output_type": "execute_result"
    }
   ],
   "execution_count": 24
  },
  {
   "metadata": {},
   "cell_type": "code",
   "outputs": [],
   "execution_count": null,
   "source": [
    "x_img_train, x_img_val, y_img_train, y_img_val = train_test_split(x_img, y_img, test_size=0.2, random_state=42, stratify=y_img)\n",
    "del x_img, y_img"
   ],
   "id": "f3363ec937cce5bd"
  },
  {
   "metadata": {},
   "cell_type": "markdown",
   "source": "# Modelling",
   "id": "2f6db210dfea4553"
  },
  {
   "cell_type": "code",
   "id": "d19b933a52c569b4",
   "metadata": {
    "ExecuteTime": {
     "end_time": "2025-05-01T13:16:02.131866Z",
     "start_time": "2025-05-01T13:16:00.516242Z"
    }
   },
   "source": "base_model = tf.keras.applications.InceptionV3(include_top=False, weights='imagenet', pooling=\"max\", input_shape=(256, 110, 3))",
   "outputs": [],
   "execution_count": 25
  },
  {
   "cell_type": "code",
   "id": "e1a2a291b290afaa",
   "metadata": {
    "ExecuteTime": {
     "end_time": "2025-05-01T13:16:02.453066Z",
     "start_time": "2025-05-01T13:16:02.162417Z"
    }
   },
   "source": [
    "input_image = tf.keras.layers.Input(shape=(128, 110, 3), name='input_image')\n",
    "input_audio = tf.keras.layers.Input(shape=(128, 110, 3), name='input_audio')\n",
    "\n",
    "inputs = tf.keras.layers.Concatenate(axis=1)([input_image, input_audio])\n",
    "\n",
    "x1 = base_model(inputs)\n",
    "flat = tf.keras.layers.Flatten()(x1)\n",
    "fc1 = tf.keras.layers.Dense(512, activation='relu')(flat)\n",
    "fc2 = tf.keras.layers.Dense(512, activation='relu')(fc1)\n",
    "\n",
    "out1 = tf.keras.layers.Dense(8, activation='softmax', name='image_class')(fc2)\n",
    "out2 = tf.keras.layers.Dense(7, activation='softmax', name='audio_class')(fc2)\n",
    "\n",
    "model = tf.keras.models.Model(inputs=[input_image, input_audio], outputs=[out1, out2])"
   ],
   "outputs": [],
   "execution_count": 26
  },
  {
   "cell_type": "code",
   "id": "6bd651ab45777e8",
   "metadata": {
    "ExecuteTime": {
     "end_time": "2025-05-01T13:16:02.931909Z",
     "start_time": "2025-05-01T13:16:02.481775Z"
    }
   },
   "source": [
    "tf.keras.utils.plot_model(model, show_shapes=True, show_layer_names=True)"
   ],
   "outputs": [
    {
     "data": {
      "image/png": "[encoded data removed]",
      "text/plain": [
       "<IPython.core.display.Image object>"
      ]
     },
     "execution_count": 27,
     "metadata": {},
     "output_type": "execute_result"
    }
   ],
   "execution_count": 27
  },
  {
   "cell_type": "code",
   "id": "612dd80c4ef64178",
   "metadata": {
    "ExecuteTime": {
     "end_time": "2025-05-01T13:16:02.988176Z",
     "start_time": "2025-05-01T13:16:02.961828Z"
    }
   },
   "source": [
    "model.compile(\n",
    "    optimizer=tf.keras.optimizers.Adam(learning_rate=1e-4, clipnorm=1.),\n",
    "    loss={\n",
    "        'image_class': 'sparse_categorical_crossentropy',\n",
    "        'audio_class': 'sparse_categorical_crossentropy'\n",
    "    },\n",
    "    metrics={\n",
    "        'image_class': 'accuracy',\n",
    "        'audio_class': 'accuracy' \n",
    "    }\n",
    ")"
   ],
   "outputs": [],
   "execution_count": 28
  },
  {
   "cell_type": "code",
   "id": "b12671a56558b0e6",
   "metadata": {
    "ExecuteTime": {
     "end_time": "2025-05-01T13:16:03.034356Z",
     "start_time": "2025-05-01T13:16:03.020721Z"
    }
   },
   "source": [
    "min_samples = min(len(x_img_train), len(x_audio_train), len(y_img_train), len(y_audio_train))\n",
    "\n",
    "# Filter inputs and labels\n",
    "x_img_train = x_img_train[:min_samples]\n",
    "x_audio_train = x_audio_train[:min_samples]\n",
    "y_img_train = y_img_train[:min_samples]\n",
    "y_audio_train = y_audio_train[:min_samples]\n",
    "\n",
    "# Print shapes after filtering\n",
    "print(\"Input Image Shape:\", x_img_train.shape) \n",
    "print(\"Input Audio Shape:\", x_audio_train.shape)  \n",
    "print(\"Image Labels Shape:\", y_img_train.shape) \n",
    "print(\"Audio Labels Shape:\", y_audio_train.shape)"
   ],
   "outputs": [
    {
     "name": "stdout",
     "output_type": "stream",
     "text": [
      "Input Image Shape: (16443, 128, 110, 3)\n",
      "Input Audio Shape: (16443, 128, 110, 3)\n",
      "Image Labels Shape: (16443,)\n",
      "Audio Labels Shape: (16443,)\n"
     ]
    }
   ],
   "execution_count": 29
  },
  {
   "cell_type": "code",
   "id": "be020c17311224ff",
   "metadata": {
    "ExecuteTime": {
     "end_time": "2025-05-01T13:16:03.080256Z",
     "start_time": "2025-05-01T13:16:03.066079Z"
    }
   },
   "source": [
    "print(\"Input Image Type:\", x_img_train.dtype) \n",
    "print(\"Input Audio Type:\", x_audio_train.dtype)  \n",
    "print(\"Image Labels Type:\", y_img_train.dtype) \n",
    "print(\"Audio Labels Type:\", y_audio_train.dtype)"
   ],
   "outputs": [
    {
     "name": "stdout",
     "output_type": "stream",
     "text": [
      "Input Image Type: uint8\n",
      "Input Audio Type: float32\n",
      "Image Labels Type: int32\n",
      "Audio Labels Type: int32\n"
     ]
    }
   ],
   "execution_count": 30
  },
  {
   "metadata": {},
   "cell_type": "code",
   "outputs": [],
   "execution_count": null,
   "source": [
    "min_samples = min(len(x_img_val), len(x_audio_val), len(y_img_val), len(y_audio_val))\n",
    "\n",
    "x_img_val = x_img_val[:min_samples]\n",
    "x_audio_val = x_audio_val[:min_samples]\n",
    "y_img_val = y_img_val[:min_samples]\n",
    "y_audio_val = y_audio_val[:min_samples]"
   ],
   "id": "df2999855c698593"
  },
  {
   "metadata": {},
   "cell_type": "code",
   "outputs": [],
   "execution_count": null,
   "source": [
    "class EarlyStop(tf.keras.callbacks.Callback):\n",
    "    def on_epoch_end(self, epoch, logs=None):\n",
    "        if logs.get('loss') < .35:\n",
    "            self.model.stop_training = True"
   ],
   "id": "f3cbe2d3291a2ee8"
  },
  {
   "cell_type": "code",
   "id": "89b4963fbf4c5ea0",
   "metadata": {
    "ExecuteTime": {
     "end_time": "2025-05-01T13:17:13.348920Z",
     "start_time": "2025-05-01T13:16:03.113087Z"
    }
   },
   "source": [
    "history = model.fit(\n",
    "    x=[x_img_train, x_audio_train],\n",
    "    y=[y_img_train, y_audio_train], \n",
    "    validation_data=(\n",
    "        [x_img_val, x_audio_val], \n",
    "        [y_img_val, y_audio_val]  \n",
    "    ),\n",
    "    callbacks=EarlyStop(),\n",
    "    epochs=50, \n",
    "    batch_size=32  \n",
    ")\n"
   ],
   "outputs": [
    {
     "name": "stdout",
     "output_type": "stream",
     "text": [
      "Epoch 1/10\n",
      "514/514 [==============================] - ETA: 0s - loss: nan - image_class_loss: nan - audio_class_loss: nan - image_class_accuracy: 0.2427 - audio_class_accuracy: 0.1578"
     ]
    },
    {
     "ename": "InternalError",
     "evalue": "Failed copying input tensor from /job:localhost/replica:0/task:0/device:CPU:0 to /job:localhost/replica:0/task:0/device:GPU:0 in order to run _EagerConst: Dst tensor is not initialized.",
     "output_type": "error",
     "traceback": [
      "\u001B[1;31m---------------------------------------------------------------------------\u001B[0m",
      "\u001B[1;31mInternalError\u001B[0m                             Traceback (most recent call last)",
      "Cell \u001B[1;32mIn[31], line 1\u001B[0m\n\u001B[1;32m----> 1\u001B[0m history \u001B[38;5;241m=\u001B[39m \u001B[43mmodel\u001B[49m\u001B[38;5;241;43m.\u001B[39;49m\u001B[43mfit\u001B[49m\u001B[43m(\u001B[49m\n\u001B[0;32m      2\u001B[0m \u001B[43m    \u001B[49m\u001B[43mx\u001B[49m\u001B[38;5;241;43m=\u001B[39;49m\u001B[43m[\u001B[49m\u001B[43mx_img\u001B[49m\u001B[43m,\u001B[49m\u001B[43m \u001B[49m\u001B[43mx_audio_train\u001B[49m\u001B[43m]\u001B[49m\u001B[43m,\u001B[49m\n\u001B[0;32m      3\u001B[0m \u001B[43m    \u001B[49m\u001B[43my\u001B[49m\u001B[38;5;241;43m=\u001B[39;49m\u001B[43m[\u001B[49m\u001B[43my_img\u001B[49m\u001B[43m,\u001B[49m\u001B[43m \u001B[49m\u001B[43my_audio_train\u001B[49m\u001B[43m]\u001B[49m\u001B[43m,\u001B[49m\u001B[43m \u001B[49m\n\u001B[0;32m      4\u001B[0m \u001B[43m    \u001B[49m\u001B[43mvalidation_data\u001B[49m\u001B[38;5;241;43m=\u001B[39;49m\u001B[43m(\u001B[49m\n\u001B[0;32m      5\u001B[0m \u001B[43m        \u001B[49m\u001B[43m[\u001B[49m\u001B[43mx_img_test\u001B[49m\u001B[43m,\u001B[49m\u001B[43m \u001B[49m\u001B[43mx_audio_val\u001B[49m\u001B[43m]\u001B[49m\u001B[43m,\u001B[49m\u001B[43m \u001B[49m\n\u001B[0;32m      6\u001B[0m \u001B[43m        \u001B[49m\u001B[43m[\u001B[49m\u001B[43my_img_test\u001B[49m\u001B[43m,\u001B[49m\u001B[43m \u001B[49m\u001B[43my_audio_val\u001B[49m\u001B[43m]\u001B[49m\u001B[43m  \u001B[49m\n\u001B[0;32m      7\u001B[0m \u001B[43m    \u001B[49m\u001B[43m)\u001B[49m\u001B[43m,\u001B[49m\n\u001B[0;32m      8\u001B[0m \u001B[43m    \u001B[49m\u001B[43mepochs\u001B[49m\u001B[38;5;241;43m=\u001B[39;49m\u001B[38;5;241;43m10\u001B[39;49m\u001B[43m,\u001B[49m\u001B[43m \u001B[49m\n\u001B[0;32m      9\u001B[0m \u001B[43m    \u001B[49m\u001B[43mbatch_size\u001B[49m\u001B[38;5;241;43m=\u001B[39;49m\u001B[38;5;241;43m32\u001B[39;49m\u001B[43m  \u001B[49m\n\u001B[0;32m     10\u001B[0m \u001B[43m)\u001B[49m\n",
      "File \u001B[1;32mC:\\ProgramData\\miniconda3\\envs\\tf\\lib\\site-packages\\keras\\utils\\traceback_utils.py:70\u001B[0m, in \u001B[0;36mfilter_traceback.<locals>.error_handler\u001B[1;34m(*args, **kwargs)\u001B[0m\n\u001B[0;32m     67\u001B[0m     filtered_tb \u001B[38;5;241m=\u001B[39m _process_traceback_frames(e\u001B[38;5;241m.\u001B[39m__traceback__)\n\u001B[0;32m     68\u001B[0m     \u001B[38;5;66;03m# To get the full stack trace, call:\u001B[39;00m\n\u001B[0;32m     69\u001B[0m     \u001B[38;5;66;03m# `tf.debugging.disable_traceback_filtering()`\u001B[39;00m\n\u001B[1;32m---> 70\u001B[0m     \u001B[38;5;28;01mraise\u001B[39;00m e\u001B[38;5;241m.\u001B[39mwith_traceback(filtered_tb) \u001B[38;5;28;01mfrom\u001B[39;00m\u001B[38;5;250m \u001B[39m\u001B[38;5;28;01mNone\u001B[39;00m\n\u001B[0;32m     71\u001B[0m \u001B[38;5;28;01mfinally\u001B[39;00m:\n\u001B[0;32m     72\u001B[0m     \u001B[38;5;28;01mdel\u001B[39;00m filtered_tb\n",
      "File \u001B[1;32mC:\\ProgramData\\miniconda3\\envs\\tf\\lib\\site-packages\\tensorflow\\python\\framework\\constant_op.py:102\u001B[0m, in \u001B[0;36mconvert_to_eager_tensor\u001B[1;34m(value, ctx, dtype)\u001B[0m\n\u001B[0;32m    100\u001B[0m     dtype \u001B[38;5;241m=\u001B[39m dtypes\u001B[38;5;241m.\u001B[39mas_dtype(dtype)\u001B[38;5;241m.\u001B[39mas_datatype_enum\n\u001B[0;32m    101\u001B[0m ctx\u001B[38;5;241m.\u001B[39mensure_initialized()\n\u001B[1;32m--> 102\u001B[0m \u001B[38;5;28;01mreturn\u001B[39;00m \u001B[43mops\u001B[49m\u001B[38;5;241;43m.\u001B[39;49m\u001B[43mEagerTensor\u001B[49m\u001B[43m(\u001B[49m\u001B[43mvalue\u001B[49m\u001B[43m,\u001B[49m\u001B[43m \u001B[49m\u001B[43mctx\u001B[49m\u001B[38;5;241;43m.\u001B[39;49m\u001B[43mdevice_name\u001B[49m\u001B[43m,\u001B[49m\u001B[43m \u001B[49m\u001B[43mdtype\u001B[49m\u001B[43m)\u001B[49m\n",
      "\u001B[1;31mInternalError\u001B[0m: Failed copying input tensor from /job:localhost/replica:0/task:0/device:CPU:0 to /job:localhost/replica:0/task:0/device:GPU:0 in order to run _EagerConst: Dst tensor is not initialized."
     ]
    }
   ],
   "execution_count": 31
  },
  {
   "cell_type": "code",
   "execution_count": null,
   "id": "4b3ce01352b377d2",
   "metadata": {},
   "outputs": [],
   "source": "model.save('model.h5')"
  },
  {
   "metadata": {},
   "cell_type": "code",
   "outputs": [],
   "execution_count": null,
   "source": [
    "def plot_and_save(metric_name, history, ylabel, filename):\n",
    "    plt.figure()\n",
    "    plt.plot(history.history[metric_name], label=f'Train {ylabel}')\n",
    "    if f'val_{metric_name}' in history.history:\n",
    "        plt.plot(history.history[f'val_{metric_name}'], label=f'Val {ylabel}')\n",
    "    plt.title(f'{ylabel} over Epochs')\n",
    "    plt.xlabel('Epochs')\n",
    "    plt.ylabel(ylabel)\n",
    "    plt.legend()\n",
    "    plt.grid(True)\n",
    "    plt.savefig(filename)\n",
    "    plt.close()"
   ],
   "id": "ade26887df46f9bd"
  },
  {
   "metadata": {},
   "cell_type": "code",
   "outputs": [],
   "execution_count": null,
   "source": [
    "plot_and_save('loss', history, 'Loss', 'loss_plot.png')\n",
    "\n",
    "plot_and_save('image_class_loss', history, 'Image Classification Loss', 'image_class_loss_plot.png')\n",
    "\n",
    "plot_and_save('audio_class_loss', history, 'Audio Classification Loss', 'audio_class_loss_plot.png')\n",
    "\n",
    "plot_and_save('image_class_accuracy', history, 'Image Classification Accuracy', 'image_class_accuracy_plot.png')\n",
    "\n",
    "plot_and_save('audio_class_accuracy', history, 'Audio Classification Accuracy', 'audio_class_accuracy_plot.png')"
   ],
   "id": "1546fae5c792784e"
  }
 ],
 "metadata": {
  "kernelspec": {
   "display_name": "Python 3 (ipykernel)",
   "language": "python",
   "name": "python3"
  },
  "language_info": {
   "codemirror_mode": {
    "name": "ipython",
    "version": 3
   },
   "file_extension": ".py",
   "mimetype": "text/x-python",
   "name": "python",
   "nbconvert_exporter": "python",
   "pygments_lexer": "ipython3",
   "version": "3.10.16"
  }
 },
 "nbformat": 4,
 "nbformat_minor": 5
}
