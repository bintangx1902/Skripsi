{
 "cells": [
  {
   "cell_type": "code",
   "execution_count": null,
   "id": "initial_id",
   "metadata": {
    "collapsed": true
   },
   "outputs": [],
   "source": [
    "import seaborn as sns\n",
    "import gc\n",
    "\n",
    "from shared.utils import *\n",
    "from shared.local_path import *\n",
    "\n",
    "from matplotlib import pyplot as plt\n",
    "from sklearn.preprocessing import LabelEncoder\n",
    "from sklearn.model_selection import train_test_split\n",
    "from sklearn.metrics import classification_report, confusion_matrix"
   ]
  },
  {
   "metadata": {},
   "cell_type": "markdown",
   "source": [
    "# Data Preprocessing\n",
    "## Read Audio Data"
   ],
   "id": "80cadf94951e5cce"
  },
  {
   "metadata": {},
   "cell_type": "code",
   "outputs": [],
   "execution_count": null,
   "source": [
    "label = []\n",
    "filepath = []\n",
    "\n",
    "for classes in os.listdir(AUDIO_PATH):\n",
    "    for file in os.listdir(os.path.join(AUDIO_PATH, classes)):\n",
    "        file_path = os.path.join(AUDIO_PATH, classes, file)\n",
    "\n",
    "        filepath.append(file_path)\n",
    "        label.append(classes)\n",
    "\n",
    "audio = pd.DataFrame({\n",
    "    'filepath': filepath,\n",
    "    'label': label,\n",
    "})\n",
    "\n",
    "del filepath, label\n",
    "\n",
    "audio.head()"
   ],
   "id": "265905378ad258e1"
  },
  {
   "metadata": {},
   "cell_type": "code",
   "outputs": [],
   "execution_count": null,
   "source": [
    "le = LabelEncoder()\n",
    "le.fit(audio['label'])\n",
    "audio['label_encoded'] = le.transform(audio['label'])\n",
    "num_classes = len(le.classes_)"
   ],
   "id": "3c1b5fcff21930e5"
  },
  {
   "metadata": {},
   "cell_type": "markdown",
   "source": "## Read Image Data",
   "id": "8036520454873c30"
  },
  {
   "metadata": {},
   "cell_type": "code",
   "outputs": [],
   "execution_count": null,
   "source": [
    "filepath = []\n",
    "label = []\n",
    "\n",
    "i = 0\n",
    "for classes in os.listdir(TRAIN_IMAGE_PATH):\n",
    "    for file in os.listdir(os.path.join(TRAIN_IMAGE_PATH, classes)):\n",
    "        path = os.path.join(TRAIN_IMAGE_PATH, classes, file)\n",
    "        filepath.append(path)\n",
    "        label.append(classes)\n",
    "\n",
    "train_df = pd.DataFrame({\n",
    "    'filepath': filepath,\n",
    "    'label': label\n",
    "})\n",
    "\n",
    "del filepath, label\n",
    "\n",
    "print(train_df.shape)\n",
    "print(train_df['label'].unique())\n",
    "train_df.head()"
   ],
   "id": "aee7e2e04b9d4264"
  },
  {
   "metadata": {},
   "cell_type": "code",
   "outputs": [],
   "execution_count": null,
   "source": [
    "filepath = []\n",
    "label = []\n",
    "\n",
    "i = 0\n",
    "for classes in os.listdir(TEST_IMAGE_PATH):\n",
    "    for file in os.listdir(os.path.join(TEST_IMAGE_PATH, classes)):\n",
    "        path = os.path.join(TEST_IMAGE_PATH, classes, file)\n",
    "        filepath.append(path)\n",
    "        label.append(classes)\n",
    "\n",
    "img_test_df = pd.DataFrame({\n",
    "    'filepath': filepath,\n",
    "    'label': label\n",
    "})\n",
    "\n",
    "del filepath, label\n",
    "\n",
    "print(img_test_df.shape)\n",
    "print(img_test_df['label'].unique())\n",
    "img_test_df.head()"
   ],
   "id": "3e884a39b214e2a0"
  },
  {
   "metadata": {},
   "cell_type": "code",
   "outputs": [],
   "execution_count": null,
   "source": [
    "le = LabelEncoder()\n",
    "le.fit(train_df['label'])\n",
    "train_df['label_encoded'] = le.transform(train_df['label'])\n",
    "img_test_df['label_encoded'] = le.transform(img_test_df['label'])"
   ],
   "id": "12a1ecf0c995356d"
  },
  {
   "metadata": {},
   "cell_type": "markdown",
   "source": "## transform the filepath into image data",
   "id": "92ae7041fd8d6c99"
  },
  {
   "metadata": {},
   "cell_type": "code",
   "outputs": [],
   "execution_count": null,
   "source": [
    "with tf.device('/GPU:0'):\n",
    "    audio['data'] = audio.filepath.apply(preprocess_audio)\n",
    "    \n",
    "tf.keras.backend.clear_session()\n",
    "gc.collect()\n",
    "\n",
    "with tf.device('/GPU:0'):\n",
    "    train_df['data'] = train_df['filepath'].apply(\n",
    "        lambda x: preprocess_image(x, (128, 110), preprocess_function=tf.keras.applications.vgg19.preprocess_input, augment=True))\n",
    "    img_test_df['data'] = img_test_df['filepath'].apply(\n",
    "        lambda x: preprocess_image(x, (128, 110), preprocess_function=tf.keras.applications.vgg19.preprocess_input)\n",
    "    )\n",
    "    "
   ],
   "id": "344c3a706a7db115"
  },
  {
   "metadata": {},
   "cell_type": "markdown",
   "source": "## Split and Shuffle Dataset into train, val, and test",
   "id": "204e922d0c967475"
  },
  {
   "metadata": {},
   "cell_type": "code",
   "outputs": [],
   "execution_count": null,
   "source": [
    "# Audio Data\n",
    "audio = audio.sample(frac=1).reset_index(drop=True)\n",
    "_, aud_temp = train_test_split(audio, test_size=0.5, random_state=42)\n",
    "aud_val_df, aud_test_df = train_test_split(aud_temp, test_size=.5, random_state=42)\n",
    "\n",
    "# Image Data\n",
    "train_df = train_df.sample(frac=1).reset_index(drop=True)\n",
    "_, img_val_df = train_test_split(train_df, test_size=.2, random_state=100, shuffle=True)\n",
    "\n",
    "del aud_temp, _"
   ],
   "id": "d113266498a2da78"
  },
  {
   "metadata": {},
   "cell_type": "markdown",
   "source": "## Downsampling with following least dataset amount",
   "id": "5fb8e046ab4e4bb7"
  },
  {
   "metadata": {},
   "cell_type": "code",
   "outputs": [],
   "execution_count": null,
   "source": [
    "train_df, audio = downsample_df(train_df, audio)\n",
    "img_val_df, aud_val_df = downsample_df(img_val_df, aud_val_df)\n",
    "img_test_df, aud_test_df = downsample_df(img_test_df, aud_test_df)"
   ],
   "id": "bbbce24ca4807b6c"
  },
  {
   "metadata": {},
   "cell_type": "code",
   "outputs": [],
   "execution_count": null,
   "source": [
    "print(len(train_df))\n",
    "print(len(img_val_df))\n",
    "print(len(img_test_df))\n",
    "\n",
    "print(\"===============================\")\n",
    "\n",
    "print(len(audio))\n",
    "print(len(aud_val_df))\n",
    "print(len(aud_test_df))"
   ],
   "id": "d4ec4075ce7e937a"
  },
  {
   "metadata": {},
   "cell_type": "markdown",
   "source": "## Convert to Numpy",
   "id": "f385efc8a1e8091b"
  },
  {
   "metadata": {},
   "cell_type": "code",
   "outputs": [],
   "execution_count": null,
   "source": [
    "# Audio Data\n",
    "x_audio_train = np.stack(audio['data'].values)\n",
    "y_audio_train = np.array(audio['label_encoded'].values)\n",
    "\n",
    "x_audio_val = np.stack(aud_val_df['data'].values)\n",
    "y_audio_val = np.array(aud_val_df['label_encoded'].values)\n",
    "\n",
    "x_audio_test = np.stack(aud_test_df['data'].values)\n",
    "y_audio_test = np.array(aud_test_df['label_encoded'].values)\n"
   ],
   "id": "9d72fb15dd4d050d"
  },
  {
   "metadata": {},
   "cell_type": "code",
   "outputs": [],
   "execution_count": null,
   "source": [
    "x_img_train = np.stack(train_df['data'].values)\n",
    "y_img_train = np.array(train_df['label_encoded'].values)\n",
    "\n",
    "x_img_val = np.stack(img_val_df['data'].values)\n",
    "y_img_val = np.array(img_val_df['label_encoded'].values)\n",
    "\n",
    "x_img_test = np.stack(img_test_df['data'].values)\n",
    "y_img_test = np.array(img_test_df['label_encoded'].values)\n",
    "\n",
    "del train_df, audio, img_val_df, img_test_df, aud_val_df, aud_test_df"
   ],
   "id": "f192d5914189200"
  },
  {
   "metadata": {},
   "cell_type": "markdown",
   "source": [
    "# Modeling\n",
    "## Creating Model"
   ],
   "id": "db8b20a330a8a161"
  },
  {
   "metadata": {},
   "cell_type": "code",
   "outputs": [],
   "execution_count": null,
   "source": "base_model = tf.keras.applications.vgg19.VGG19(weights='imagenet', include_top=False, input_shape=(256, 110, 3), pooling='max')",
   "id": "a6eb3cb968a2d224"
  },
  {
   "metadata": {},
   "cell_type": "markdown",
   "source": "## Input Layer",
   "id": "eab5ecc202e2daea"
  },
  {
   "metadata": {},
   "cell_type": "code",
   "outputs": [],
   "execution_count": null,
   "source": [
    "input_image = tf.keras.layers.Input(shape=(128, 110, 3), name='input_image')\n",
    "input_audio = tf.keras.layers.Input(shape=(128, 110, 3), name='input_audio')"
   ],
   "id": "713925df10474f76"
  },
  {
   "metadata": {},
   "cell_type": "markdown",
   "source": "### Concatenate",
   "id": "ccd77724f4027d86"
  },
  {
   "metadata": {},
   "cell_type": "code",
   "outputs": [],
   "execution_count": null,
   "source": [
    "feature = tf.keras.layers.Concatenate(axis=1)([input_image, input_audio])\n",
    "x = base_model(feature)\n",
    "fc1 = tf.keras.layers.Dense(512, activation='relu')(x)\n",
    "fc2 = tf.keras.layers.Dense(512, activation='relu')(fc1)\n",
    "\n",
    "out1 = tf.keras.layers.Dense(7, activation='softmax', name='image_class')(fc2)\n",
    "out2 = tf.keras.layers.Dense(8, activation='softmax', name='audio_class')(fc2)"
   ],
   "id": "4769281dfcb2e89a"
  },
  {
   "metadata": {},
   "cell_type": "code",
   "outputs": [],
   "execution_count": null,
   "source": [
    "model = tf.keras.models.Model(inputs=[input_image, input_audio], outputs=[out1, out2])  \n",
    "plot_model(model, show_shapes=True, show_layer_names=True)"
   ],
   "id": "8d10b4d3bf5024b3"
  },
  {
   "metadata": {},
   "cell_type": "code",
   "outputs": [],
   "execution_count": null,
   "source": [
    "model.compile(\n",
    "    optimizer=tf.keras.optimizers.Adamax(learning_rate=1e-3),\n",
    "    loss={\n",
    "        'image_class': tf.keras.losses.SparseCategoricalCrossentropy(),\n",
    "        'audio_class': tf.keras.losses.SparseCategoricalCrossentropy()\n",
    "    },\n",
    "    metrics={\n",
    "        'image_class': 'accuracy',\n",
    "        'audio_class': 'accuracy'\n",
    "    }\n",
    ")"
   ],
   "id": "95cc44319ed1a436"
  },
  {
   "metadata": {},
   "cell_type": "code",
   "outputs": [],
   "execution_count": null,
   "source": [
    "tf.keras.backend.clear_session()\n",
    "gc.collect()"
   ],
   "id": "f64c9c0ae3b29bf9"
  },
  {
   "metadata": {},
   "cell_type": "code",
   "outputs": [],
   "execution_count": null,
   "source": [
    "early = tf.keras.callbacks.EarlyStopping(\n",
    "    monitor='val_loss',\n",
    "    restore_best_weights=True,\n",
    "    mode='min',\n",
    "    # start_from_epoch=2,\n",
    "    patience=5\n",
    ")\n",
    "\n",
    "checkpoint = tf.keras.callbacks.ModelCheckpoint(\n",
    "    filepath=os.path.join('model', 'best_model.keras'),\n",
    "    verbose=2,\n",
    "    save_best_only=True,\n",
    "    monitor='val_loss',\n",
    "    mode='min'\n",
    ")\n",
    "\n",
    "lr_scheduler = tf.keras.callbacks.ReduceLROnPlateau(monitor='val_loss',\n",
    "                                                    factor=0.2,\n",
    "                                                    min_lr=1e-6,\n",
    "                                                    patience=3,\n",
    "                                                    mode='min'\n",
    "                                                    )"
   ],
   "id": "e1b0e20086e6464f"
  },
  {
   "metadata": {},
   "cell_type": "markdown",
   "source": "## Train the Model",
   "id": "adc918fe24bc05d"
  },
  {
   "metadata": {},
   "cell_type": "code",
   "outputs": [],
   "execution_count": null,
   "source": [
    "history = model.fit(\n",
    "    x=[x_img_train, x_audio_train],\n",
    "    y=[y_img_train, y_audio_train],\n",
    "    validation_data=(\n",
    "        [x_img_val, x_audio_val],\n",
    "        [y_img_val, y_audio_val]\n",
    "    ),\n",
    "    callbacks=[lr_scheduler],\n",
    "    epochs=100,\n",
    "    batch_size=BATCH_SIZE,\n",
    "    steps_per_epoch=len(x_img_train) // BATCH_SIZE,\n",
    "    validation_steps=len(x_img_val) // BATCH_SIZE,\n",
    ")\n"
   ],
   "id": "f36796cedefc507a"
  },
  {
   "metadata": {},
   "cell_type": "markdown",
   "source": "## Plot the model training result",
   "id": "a37a8ef500f56372"
  },
  {
   "metadata": {},
   "cell_type": "code",
   "outputs": [],
   "execution_count": null,
   "source": [
    "def plot_and_save(metric_name, history, ylabel, filename):\n",
    "    plt.figure()\n",
    "    plt.plot(history.history[metric_name], label=f'Train {ylabel}')\n",
    "    if f'val_{metric_name}' in history.history:\n",
    "        plt.plot(history.history[f'val_{metric_name}'], label=f'Val {ylabel}')\n",
    "    plt.title(f'{ylabel} over Epochs')\n",
    "    plt.xlabel('Epochs')\n",
    "    plt.ylabel(ylabel)\n",
    "    plt.legend()\n",
    "    plt.grid(True)\n",
    "    plt.savefig(filename)\n",
    "    plt.close()"
   ],
   "id": "ad467ed6381cedbf"
  },
  {
   "metadata": {},
   "cell_type": "code",
   "outputs": [],
   "execution_count": null,
   "source": [
    "plot_and_save('loss', history, 'Loss', 'loss_plot.png')\n",
    "plot_and_save('image_class_loss', history, 'Image Classification Loss', 'image_class_loss_plot.png')\n",
    "plot_and_save('audio_class_loss', history, 'Audio Classification Loss', 'audio_class_loss_plot.png')\n",
    "plot_and_save('image_class_accuracy', history, 'Image Classification Accuracy', 'image_class_accuracy_plot.png')\n",
    "plot_and_save('audio_class_accuracy', history, 'Audio Classification Accuracy', 'audio_class_accuracy_plot.png')"
   ],
   "id": "9d8678c10613f842"
  },
  {
   "metadata": {},
   "cell_type": "markdown",
   "source": [
    "# Evaluation\n",
    "## Using model.evaluate"
   ],
   "id": "2044eb9ad1561805"
  },
  {
   "metadata": {},
   "cell_type": "code",
   "outputs": [],
   "execution_count": null,
   "source": [
    "model.evaluate([x_img_val, x_audio_val], [y_img_val, y_audio_val], batch_size=BATCH_SIZE, verbose=2,\n",
    "               steps=len(x_img_val) // BATCH_SIZE)"
   ],
   "id": "e0be757efc23ae44"
  },
  {
   "metadata": {},
   "cell_type": "code",
   "outputs": [],
   "execution_count": null,
   "source": [
    "model.evaluate([x_img_test, x_audio_test], [y_img_test, y_audio_test], batch_size=BATCH_SIZE, verbose=2,\n",
    "               steps=len(x_img_test) // BATCH_SIZE)"
   ],
   "id": "8e99dbc3a334cbf7"
  },
  {
   "metadata": {},
   "cell_type": "code",
   "outputs": [],
   "execution_count": null,
   "source": [
    "predictions = model.predict([x_img_test, x_audio_test], batch_size=BATCH_SIZE)\n",
    "\n",
    "image_preds = predictions[0]\n",
    "audio_preds = predictions[1]"
   ],
   "id": "430d4cc73cabc356"
  },
  {
   "metadata": {},
   "cell_type": "markdown",
   "source": "## Using Confusion Matrix",
   "id": "ecc3ddb0f080a4c2"
  },
  {
   "metadata": {},
   "cell_type": "code",
   "outputs": [],
   "execution_count": null,
   "source": [
    "aud_classes = [x for x in os.listdir(AUDIO_PATH)]\n",
    "img_classes = [x for x in os.listdir(TRAIN_IMAGE_PATH)]\n",
    "\n",
    "image_class = np.argmax(predictions[0], axis=1)\n",
    "audio_class = np.argmax(predictions[1], axis=1)\n",
    "\n",
    "image_cm = confusion_matrix(y_img_test, image_class)\n",
    "audio_cm = confusion_matrix(y_audio_test, audio_class)"
   ],
   "id": "c66765b9a7018caa"
  },
  {
   "metadata": {},
   "cell_type": "code",
   "outputs": [],
   "execution_count": null,
   "source": [
    "plt.figure(figsize=(10, 8))  # Set the figure size if needed\n",
    "sns.heatmap(image_cm, annot=True, cmap='Blues', fmt='g')\n",
    "\n",
    "plt.title('Confusion Matrix Image', pad=20, fontsize=20, fontweight=\"bold\")\n",
    "plt.ylabel('Actual')\n",
    "plt.xlabel('Predicted')\n",
    "\n",
    "plt.xticks(ticks=range(len(img_classes)), labels=img_classes, rotation=45)\n",
    "plt.yticks(ticks=range(len(img_classes)), labels=img_classes, rotation=0)\n",
    "plt.savefig('confusion_matrix_image.png', dpi=300, bbox_inches='tight')\n",
    "plt.show()"
   ],
   "id": "beb98b43663b0843"
  },
  {
   "metadata": {},
   "cell_type": "code",
   "outputs": [],
   "execution_count": null,
   "source": [
    "plt.figure(figsize=(10, 8))  # Set the figure size if needed\n",
    "sns.heatmap(audio_cm, annot=True, cmap='Blues', fmt='g')\n",
    "\n",
    "plt.title('Confusion Matrix Audio', pad=20, fontsize=20, fontweight=\"bold\")\n",
    "plt.ylabel('Actual')\n",
    "plt.xlabel('Predicted')\n",
    "\n",
    "plt.xticks(ticks=range(len(aud_classes)), labels=aud_classes, rotation=45)\n",
    "plt.yticks(ticks=range(len(aud_classes)), labels=aud_classes, rotation=0)\n",
    "plt.savefig('confusion_matrix_audio.png', dpi=300, bbox_inches='tight')\n",
    "plt.show()"
   ],
   "id": "f2328ea575c87a3f"
  },
  {
   "metadata": {},
   "cell_type": "code",
   "outputs": [],
   "execution_count": null,
   "source": "print(classification_report(y_img_test, image_class))",
   "id": "33f3e7d8d14c6dc0"
  },
  {
   "metadata": {},
   "cell_type": "code",
   "outputs": [],
   "execution_count": null,
   "source": "print(classification_report(y_audio_test, audio_class))",
   "id": "5e1c0b2508a1822d"
  },
  {
   "metadata": {},
   "cell_type": "code",
   "outputs": [],
   "execution_count": null,
   "source": "model.save('model_sc1t4.h5')",
   "id": "140652fbf0dad2dd"
  }
 ],
 "metadata": {
  "kernelspec": {
   "display_name": "Python 3",
   "language": "python",
   "name": "python3"
  },
  "language_info": {
   "codemirror_mode": {
    "name": "ipython",
    "version": 2
   },
   "file_extension": ".py",
   "mimetype": "text/x-python",
   "name": "python",
   "nbconvert_exporter": "python",
   "pygments_lexer": "ipython2",
   "version": "2.7.6"
  }
 },
 "nbformat": 4,
 "nbformat_minor": 5
}
