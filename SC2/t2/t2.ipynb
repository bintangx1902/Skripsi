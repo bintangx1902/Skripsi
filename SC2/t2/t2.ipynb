{
 "cells": [
  {
   "metadata": {
    "ExecuteTime": {
     "end_time": "2025-05-06T08:04:49.940459Z",
     "start_time": "2025-05-06T08:04:44.510408Z"
    }
   },
   "cell_type": "code",
   "source": [
    "import tensorflow as tf\n",
    "import numpy as np\n",
    "import pandas as pd\n",
    "import os\n",
    "import gc\n",
    "\n",
    "from shared.utils import *\n",
    "from shared.kaggle_path import *\n",
    "\n",
    "from matplotlib import pyplot as plt\n",
    "from sklearn.metrics import confusion_matrix\n",
    "from sklearn.preprocessing import LabelEncoder\n",
    "from sklearn.model_selection import train_test_split\n",
    "\n",
    "strategy = tf.distribute.MirroredStrategy()"
   ],
   "id": "3b0244916772ec61",
   "outputs": [
    {
     "name": "stderr",
     "output_type": "stream",
     "text": [
      "2025-05-06 08:04:44.911348: E external/local_xla/xla/stream_executor/cuda/cuda_dnn.cc:9261] Unable to register cuDNN factory: Attempting to register factory for plugin cuDNN when one has already been registered\n",
      "2025-05-06 08:04:44.911401: E external/local_xla/xla/stream_executor/cuda/cuda_fft.cc:607] Unable to register cuFFT factory: Attempting to register factory for plugin cuFFT when one has already been registered\n",
      "2025-05-06 08:04:44.913195: E external/local_xla/xla/stream_executor/cuda/cuda_blas.cc:1515] Unable to register cuBLAS factory: Attempting to register factory for plugin cuBLAS when one has already been registered\n"
     ]
    }
   ],
   "execution_count": 1
  },
  {
   "metadata": {},
   "cell_type": "markdown",
   "source": [
    "# Data Preprocessing\n",
    "## Audio data"
   ],
   "id": "3488a229ce47c017"
  },
  {
   "metadata": {
    "ExecuteTime": {
     "end_time": "2025-05-06T08:04:50.567521Z",
     "start_time": "2025-05-06T08:04:50.475937Z"
    }
   },
   "cell_type": "code",
   "source": [
    "label = []\n",
    "filepath = []\n",
    "\n",
    "for classes in os.listdir(AUDIO_PATH):\n",
    "    for file in os.listdir(os.path.join(AUDIO_PATH, classes)):\n",
    "        file_path = os.path.join(AUDIO_PATH, classes, file)\n",
    "\n",
    "        filepath.append(file_path)\n",
    "        label.append(classes)\n",
    "\n",
    "audio = pd.DataFrame({\n",
    "    'filepath': filepath,\n",
    "    'label': label,\n",
    "})\n",
    "\n",
    "del filepath, label\n",
    "\n",
    "audio.head()"
   ],
   "id": "c2ec4ecebd5f4c47",
   "outputs": [
    {
     "data": {
      "text/plain": [
       "                                            filepath label\n",
       "0  /kaggle/working/dataset/audio/sad/1049_WSI_SAD...   sad\n",
       "1  /kaggle/working/dataset/audio/sad/OAF_merge_sa...   sad\n",
       "2  /kaggle/working/dataset/audio/sad/1054_DFA_SAD...   sad\n",
       "3  /kaggle/working/dataset/audio/sad/OAF_search_s...   sad\n",
       "4  /kaggle/working/dataset/audio/sad/1086_IWW_SAD...   sad"
      ],
      "text/html": [
       "<div>\n",
       "<style scoped>\n",
       "    .dataframe tbody tr th:only-of-type {\n",
       "        vertical-align: middle;\n",
       "    }\n",
       "\n",
       "    .dataframe tbody tr th {\n",
       "        vertical-align: top;\n",
       "    }\n",
       "\n",
       "    .dataframe thead th {\n",
       "        text-align: right;\n",
       "    }\n",
       "</style>\n",
       "<table border=\"1\" class=\"dataframe\">\n",
       "  <thead>\n",
       "    <tr style=\"text-align: right;\">\n",
       "      <th></th>\n",
       "      <th>filepath</th>\n",
       "      <th>label</th>\n",
       "    </tr>\n",
       "  </thead>\n",
       "  <tbody>\n",
       "    <tr>\n",
       "      <th>0</th>\n",
       "      <td>/kaggle/working/dataset/audio/sad/1049_WSI_SAD...</td>\n",
       "      <td>sad</td>\n",
       "    </tr>\n",
       "    <tr>\n",
       "      <th>1</th>\n",
       "      <td>/kaggle/working/dataset/audio/sad/OAF_merge_sa...</td>\n",
       "      <td>sad</td>\n",
       "    </tr>\n",
       "    <tr>\n",
       "      <th>2</th>\n",
       "      <td>/kaggle/working/dataset/audio/sad/1054_DFA_SAD...</td>\n",
       "      <td>sad</td>\n",
       "    </tr>\n",
       "    <tr>\n",
       "      <th>3</th>\n",
       "      <td>/kaggle/working/dataset/audio/sad/OAF_search_s...</td>\n",
       "      <td>sad</td>\n",
       "    </tr>\n",
       "    <tr>\n",
       "      <th>4</th>\n",
       "      <td>/kaggle/working/dataset/audio/sad/1086_IWW_SAD...</td>\n",
       "      <td>sad</td>\n",
       "    </tr>\n",
       "  </tbody>\n",
       "</table>\n",
       "</div>"
      ]
     },
     "execution_count": 2,
     "metadata": {},
     "output_type": "execute_result"
    }
   ],
   "execution_count": 2
  },
  {
   "metadata": {
    "ExecuteTime": {
     "end_time": "2025-05-06T08:04:51.475202Z",
     "start_time": "2025-05-06T08:04:51.465305Z"
    }
   },
   "cell_type": "code",
   "source": [
    "le = LabelEncoder()\n",
    "le.fit(audio['label'])\n",
    "audio['label_encoded'] = le.transform(audio['label'])\n",
    "num_classes = len(le.classes_)"
   ],
   "id": "5e2b717f857456a",
   "outputs": [],
   "execution_count": 3
  },
  {
   "metadata": {
    "ExecuteTime": {
     "end_time": "2025-05-06T08:20:29.763979Z",
     "start_time": "2025-05-06T08:06:23.884145Z"
    }
   },
   "cell_type": "code",
   "source": [
    "# with tf.device('/GPU:0'):\n",
    "with strategy.scope():\n",
    "    audio['data'] = audio.filepath.apply(preprocess_audio)"
   ],
   "id": "7cf88585aa142ad8",
   "outputs": [
    {
     "name": "stderr",
     "output_type": "stream",
     "text": [
      "/usr/local/lib/python3.11/dist-packages/librosa/core/spectrum.py:266: UserWarning: n_fft=2048 is too large for input signal of length=544\n",
      "  warnings.warn(\n",
      "/usr/local/lib/python3.11/dist-packages/librosa/core/spectrum.py:266: UserWarning: n_fft=2048 is too large for input signal of length=1888\n",
      "  warnings.warn(\n",
      "/usr/local/lib/python3.11/dist-packages/librosa/core/spectrum.py:266: UserWarning: n_fft=2048 is too large for input signal of length=576\n",
      "  warnings.warn(\n",
      "/usr/local/lib/python3.11/dist-packages/librosa/core/spectrum.py:266: UserWarning: n_fft=2048 is too large for input signal of length=1824\n",
      "  warnings.warn(\n",
      "/usr/local/lib/python3.11/dist-packages/librosa/core/spectrum.py:266: UserWarning: n_fft=2048 is too large for input signal of length=1216\n",
      "  warnings.warn(\n",
      "/usr/local/lib/python3.11/dist-packages/librosa/core/spectrum.py:266: UserWarning: n_fft=2048 is too large for input signal of length=448\n",
      "  warnings.warn(\n",
      "/usr/local/lib/python3.11/dist-packages/librosa/core/spectrum.py:266: UserWarning: n_fft=2048 is too large for input signal of length=320\n",
      "  warnings.warn(\n",
      "/usr/local/lib/python3.11/dist-packages/librosa/core/spectrum.py:266: UserWarning: n_fft=2048 is too large for input signal of length=800\n",
      "  warnings.warn(\n",
      "/usr/local/lib/python3.11/dist-packages/librosa/core/spectrum.py:266: UserWarning: n_fft=2048 is too large for input signal of length=1664\n",
      "  warnings.warn(\n",
      "/usr/local/lib/python3.11/dist-packages/librosa/core/spectrum.py:266: UserWarning: n_fft=2048 is too large for input signal of length=1920\n",
      "  warnings.warn(\n",
      "/usr/local/lib/python3.11/dist-packages/librosa/core/spectrum.py:266: UserWarning: n_fft=2048 is too large for input signal of length=608\n",
      "  warnings.warn(\n",
      "/usr/local/lib/python3.11/dist-packages/librosa/core/spectrum.py:266: UserWarning: n_fft=2048 is too large for input signal of length=1280\n",
      "  warnings.warn(\n",
      "/usr/local/lib/python3.11/dist-packages/librosa/core/spectrum.py:266: UserWarning: n_fft=2048 is too large for input signal of length=1792\n",
      "  warnings.warn(\n",
      "/usr/local/lib/python3.11/dist-packages/librosa/core/spectrum.py:266: UserWarning: n_fft=2048 is too large for input signal of length=1056\n",
      "  warnings.warn(\n",
      "/usr/local/lib/python3.11/dist-packages/librosa/core/spectrum.py:266: UserWarning: n_fft=2048 is too large for input signal of length=1472\n",
      "  warnings.warn(\n"
     ]
    }
   ],
   "execution_count": 5
  },
  {
   "metadata": {
    "ExecuteTime": {
     "end_time": "2025-05-06T08:20:36.077517Z",
     "start_time": "2025-05-06T08:20:30.182356Z"
    }
   },
   "cell_type": "code",
   "source": [
    "x_audio = np.stack(audio['data'].values)\n",
    "y_audio = audio['label_encoded'].values\n",
    "print(x_audio.shape)\n",
    "del audio"
   ],
   "id": "7de80f8f8d420b3e",
   "outputs": [
    {
     "name": "stdout",
     "output_type": "stream",
     "text": [
      "(27406, 128, 110, 3)\n"
     ]
    }
   ],
   "execution_count": 6
  },
  {
   "metadata": {
    "ExecuteTime": {
     "end_time": "2025-05-06T08:20:44.833218Z",
     "start_time": "2025-05-06T08:20:36.352204Z"
    }
   },
   "cell_type": "code",
   "source": [
    "x_audio_train, x_temp, y_audio_train, y_temp = train_test_split(\n",
    "    x_audio, y_audio, test_size=0.3, random_state=42, shuffle=True\n",
    ")\n",
    "\n",
    "x_audio_val, x_audio_test, y_audio_val, y_audio_test = train_test_split(\n",
    "    x_temp, y_temp, test_size=0.5, random_state=42,\n",
    ")\n",
    "\n",
    "del x_audio, y_audio\n",
    "print(x_audio_train.shape)"
   ],
   "id": "616036f1b52b546a",
   "outputs": [
    {
     "name": "stdout",
     "output_type": "stream",
     "text": [
      "(19184, 128, 110, 3)\n"
     ]
    }
   ],
   "execution_count": 7
  },
  {
   "metadata": {
    "ExecuteTime": {
     "end_time": "2025-05-06T08:20:45.343438Z",
     "start_time": "2025-05-06T08:20:45.339155Z"
    }
   },
   "cell_type": "code",
   "source": "x_audio_train.shape[0] == len(y_audio_train)",
   "id": "2b6507b409a374eb",
   "outputs": [
    {
     "data": {
      "text/plain": [
       "True"
      ]
     },
     "execution_count": 8,
     "metadata": {},
     "output_type": "execute_result"
    }
   ],
   "execution_count": 8
  },
  {
   "metadata": {},
   "cell_type": "markdown",
   "source": "## Image Data",
   "id": "da0994e9e286595d"
  },
  {
   "metadata": {
    "ExecuteTime": {
     "end_time": "2025-05-06T08:20:45.919062Z",
     "start_time": "2025-05-06T08:20:45.847837Z"
    }
   },
   "cell_type": "code",
   "source": [
    "filepath = []\n",
    "label = []\n",
    "\n",
    "i = 0\n",
    "for classes in os.listdir(TRAIN_IMAGE_PATH):\n",
    "    for file in os.listdir(os.path.join(TRAIN_IMAGE_PATH, classes)):\n",
    "        path = os.path.join(TRAIN_IMAGE_PATH, classes, file)\n",
    "        filepath.append(path)\n",
    "        label.append(classes)\n",
    "\n",
    "train_df = pd.DataFrame({\n",
    "    'filepath': filepath,\n",
    "    'label': label\n",
    "})\n",
    "\n",
    "del filepath, label\n",
    "\n",
    "print(train_df.shape)\n",
    "print(train_df['label'].unique())\n",
    "train_df.head()"
   ],
   "id": "810105f8c9a8b273",
   "outputs": [
    {
     "name": "stdout",
     "output_type": "stream",
     "text": [
      "(28709, 2)\n",
      "['sad' 'surprise' 'happy' 'neutral' 'fear' 'disgust' 'angry']\n"
     ]
    },
    {
     "data": {
      "text/plain": [
       "                                            filepath label\n",
       "0  /kaggle/working/dataset/new_data/train/sad/Tra...   sad\n",
       "1  /kaggle/working/dataset/new_data/train/sad/Tra...   sad\n",
       "2  /kaggle/working/dataset/new_data/train/sad/Tra...   sad\n",
       "3  /kaggle/working/dataset/new_data/train/sad/Tra...   sad\n",
       "4  /kaggle/working/dataset/new_data/train/sad/Tra...   sad"
      ],
      "text/html": [
       "<div>\n",
       "<style scoped>\n",
       "    .dataframe tbody tr th:only-of-type {\n",
       "        vertical-align: middle;\n",
       "    }\n",
       "\n",
       "    .dataframe tbody tr th {\n",
       "        vertical-align: top;\n",
       "    }\n",
       "\n",
       "    .dataframe thead th {\n",
       "        text-align: right;\n",
       "    }\n",
       "</style>\n",
       "<table border=\"1\" class=\"dataframe\">\n",
       "  <thead>\n",
       "    <tr style=\"text-align: right;\">\n",
       "      <th></th>\n",
       "      <th>filepath</th>\n",
       "      <th>label</th>\n",
       "    </tr>\n",
       "  </thead>\n",
       "  <tbody>\n",
       "    <tr>\n",
       "      <th>0</th>\n",
       "      <td>/kaggle/working/dataset/new_data/train/sad/Tra...</td>\n",
       "      <td>sad</td>\n",
       "    </tr>\n",
       "    <tr>\n",
       "      <th>1</th>\n",
       "      <td>/kaggle/working/dataset/new_data/train/sad/Tra...</td>\n",
       "      <td>sad</td>\n",
       "    </tr>\n",
       "    <tr>\n",
       "      <th>2</th>\n",
       "      <td>/kaggle/working/dataset/new_data/train/sad/Tra...</td>\n",
       "      <td>sad</td>\n",
       "    </tr>\n",
       "    <tr>\n",
       "      <th>3</th>\n",
       "      <td>/kaggle/working/dataset/new_data/train/sad/Tra...</td>\n",
       "      <td>sad</td>\n",
       "    </tr>\n",
       "    <tr>\n",
       "      <th>4</th>\n",
       "      <td>/kaggle/working/dataset/new_data/train/sad/Tra...</td>\n",
       "      <td>sad</td>\n",
       "    </tr>\n",
       "  </tbody>\n",
       "</table>\n",
       "</div>"
      ]
     },
     "execution_count": 9,
     "metadata": {},
     "output_type": "execute_result"
    }
   ],
   "execution_count": 9
  },
  {
   "metadata": {
    "ExecuteTime": {
     "end_time": "2025-05-06T08:20:46.448370Z",
     "start_time": "2025-05-06T08:20:46.424830Z"
    }
   },
   "cell_type": "code",
   "source": [
    "filepath = []\n",
    "label = []\n",
    "\n",
    "i = 0\n",
    "for classes in os.listdir(TEST_IMAGE_PATH):\n",
    "    for file in os.listdir(os.path.join(TEST_IMAGE_PATH, classes)):\n",
    "        path = os.path.join(TEST_IMAGE_PATH, classes, file)\n",
    "        filepath.append(path)\n",
    "        label.append(classes)\n",
    "\n",
    "img_test_df = pd.DataFrame({\n",
    "    'filepath': filepath,\n",
    "    'label': label\n",
    "})\n",
    "\n",
    "del filepath, label\n",
    "\n",
    "print(img_test_df.shape)\n",
    "print(img_test_df['label'].unique())\n",
    "img_test_df.head()"
   ],
   "id": "8e8cd7eb7e631359",
   "outputs": [
    {
     "name": "stdout",
     "output_type": "stream",
     "text": [
      "(7311, 2)\n",
      "['sad' 'surprise' 'happy' 'neutral' 'fear' 'disgust' 'angry']\n"
     ]
    },
    {
     "data": {
      "text/plain": [
       "                                            filepath label\n",
       "0  /kaggle/working/dataset/new_data/test/sad/Priv...   sad\n",
       "1  /kaggle/working/dataset/new_data/test/sad/Priv...   sad\n",
       "2  /kaggle/working/dataset/new_data/test/sad/Publ...   sad\n",
       "3  /kaggle/working/dataset/new_data/test/sad/Priv...   sad\n",
       "4  /kaggle/working/dataset/new_data/test/sad/Priv...   sad"
      ],
      "text/html": [
       "<div>\n",
       "<style scoped>\n",
       "    .dataframe tbody tr th:only-of-type {\n",
       "        vertical-align: middle;\n",
       "    }\n",
       "\n",
       "    .dataframe tbody tr th {\n",
       "        vertical-align: top;\n",
       "    }\n",
       "\n",
       "    .dataframe thead th {\n",
       "        text-align: right;\n",
       "    }\n",
       "</style>\n",
       "<table border=\"1\" class=\"dataframe\">\n",
       "  <thead>\n",
       "    <tr style=\"text-align: right;\">\n",
       "      <th></th>\n",
       "      <th>filepath</th>\n",
       "      <th>label</th>\n",
       "    </tr>\n",
       "  </thead>\n",
       "  <tbody>\n",
       "    <tr>\n",
       "      <th>0</th>\n",
       "      <td>/kaggle/working/dataset/new_data/test/sad/Priv...</td>\n",
       "      <td>sad</td>\n",
       "    </tr>\n",
       "    <tr>\n",
       "      <th>1</th>\n",
       "      <td>/kaggle/working/dataset/new_data/test/sad/Priv...</td>\n",
       "      <td>sad</td>\n",
       "    </tr>\n",
       "    <tr>\n",
       "      <th>2</th>\n",
       "      <td>/kaggle/working/dataset/new_data/test/sad/Publ...</td>\n",
       "      <td>sad</td>\n",
       "    </tr>\n",
       "    <tr>\n",
       "      <th>3</th>\n",
       "      <td>/kaggle/working/dataset/new_data/test/sad/Priv...</td>\n",
       "      <td>sad</td>\n",
       "    </tr>\n",
       "    <tr>\n",
       "      <th>4</th>\n",
       "      <td>/kaggle/working/dataset/new_data/test/sad/Priv...</td>\n",
       "      <td>sad</td>\n",
       "    </tr>\n",
       "  </tbody>\n",
       "</table>\n",
       "</div>"
      ]
     },
     "execution_count": 10,
     "metadata": {},
     "output_type": "execute_result"
    }
   ],
   "execution_count": 10
  },
  {
   "metadata": {
    "ExecuteTime": {
     "end_time": "2025-05-06T08:20:46.904591Z",
     "start_time": "2025-05-06T08:20:46.894997Z"
    }
   },
   "cell_type": "code",
   "source": [
    "le = LabelEncoder()\n",
    "le.fit(train_df['label'])\n",
    "train_df['label_encoded'] = le.transform(train_df['label'])\n",
    "img_test_df['label_encoded'] = le.transform(img_test_df['label'])"
   ],
   "id": "86cbbfc9ede9d4e7",
   "outputs": [],
   "execution_count": 11
  },
  {
   "metadata": {
    "ExecuteTime": {
     "end_time": "2025-05-06T08:20:59.433150Z",
     "start_time": "2025-05-06T08:20:47.355836Z"
    }
   },
   "cell_type": "code",
   "source": [
    "# with tf.device('/GPU:0'):\n",
    "with strategy.scope():\n",
    "    train_df['data'] = train_df['filepath'].apply(lambda x : preprocess_image(x, (100, 100)))\n",
    "    img_test_df['data'] = img_test_df['filepath'].apply(lambda x : preprocess_image(x, (100, 100)))\n",
    "\n",
    "train_df.shape"
   ],
   "id": "d70a84674e3eda1e",
   "outputs": [
    {
     "data": {
      "text/plain": [
       "(28709, 4)"
      ]
     },
     "execution_count": 12,
     "metadata": {},
     "output_type": "execute_result"
    }
   ],
   "execution_count": 12
  },
  {
   "metadata": {
    "ExecuteTime": {
     "end_time": "2025-05-06T08:21:00.490165Z",
     "start_time": "2025-05-06T08:20:59.887722Z"
    }
   },
   "cell_type": "code",
   "source": [
    "x_img = np.stack(train_df['data'].values)\n",
    "y_img = train_df['label_encoded'].values\n",
    "\n",
    "x_img_test = np.stack(img_test_df['data'].values)\n",
    "y_img_test = img_test_df['label_encoded'].values\n",
    "\n",
    "del train_df, img_test_df\n",
    "\n",
    "x_img_train, x_img_val, y_img_train, y_img_val = train_test_split(x_img, y_img, test_size=0.2, random_state=42, shuffle=True)\n",
    "del x_img, y_img"
   ],
   "id": "2a609f50a66f13ba",
   "outputs": [],
   "execution_count": 13
  },
  {
   "metadata": {},
   "cell_type": "markdown",
   "source": "# Modelling",
   "id": "ec8f47c712bb2135"
  },
  {
   "metadata": {
    "ExecuteTime": {
     "end_time": "2025-05-06T08:21:00.968391Z",
     "start_time": "2025-05-06T08:21:00.964050Z"
    }
   },
   "cell_type": "code",
   "source": [
    "def create_base_model(instance_name, shape):\n",
    "    base = tf.keras.applications.InceptionV3(\n",
    "        include_top=False,\n",
    "        weights='imagenet',\n",
    "    )\n",
    "    \n",
    "    for layer in base.layers:\n",
    "        layer.trainable = False\n",
    "    \n",
    "    inputs = tf.keras.Input(shape=shape)\n",
    "    base_model = base(inputs)\n",
    "    output_flat = tf.keras.layers.GlobalAveragePooling2D()(base_model)\n",
    "    return tf.keras.Model(inputs, output_flat, name=f\"inception_v3_{instance_name}\")"
   ],
   "id": "f873dcb5f1efc0f8",
   "outputs": [],
   "execution_count": 14
  },
  {
   "metadata": {
    "ExecuteTime": {
     "end_time": "2025-05-06T08:21:11.139976Z",
     "start_time": "2025-05-06T08:21:01.605119Z"
    }
   },
   "cell_type": "code",
   "source": [
    "input_image = tf.keras.layers.Input(shape=(100, 100, 3), name='input_image')\n",
    "input_audio = tf.keras.layers.Input(shape=(128, 110, 3), name='input_audio')\n",
    "\n",
    "input_img_shape = list(input_image.shape)\n",
    "input_audio_shape = list(input_audio.shape)\n",
    "image_features = create_base_model('image', input_img_shape[1:])(input_image)\n",
    "audio_features = create_base_model('audio', input_audio_shape[1:])(input_audio)\n",
    "\n",
    "# image_pooling = tf.keras.layers.GlobalAveragePooling2D()(image_features)\n",
    "# audio_pooling = tf.keras.layers.GlobalAveragePooling2D()(audio_features)\n",
    "\n",
    "\n",
    "feature = tf.keras.layers.Concatenate()([image_features, audio_features])\n",
    "\n",
    "dpo = tf.keras.layers.Dropout(.5)(feature)\n",
    "fc1 = tf.keras.layers.Dense(128, activation='relu')(dpo)\n",
    "\n",
    "out1 = tf.keras.layers.Dense(7, activation='softmax', name='image_class')(fc1)\n",
    "out2 = tf.keras.layers.Dense(8, activation='softmax', name='audio_class')(fc1)\n",
    "\n",
    "model = tf.keras.models.Model(inputs=[input_image, input_audio], outputs=[out1, out2])"
   ],
   "id": "65c815ddf793310f",
   "outputs": [
    {
     "name": "stdout",
     "output_type": "stream",
     "text": [
      "Downloading data from https://storage.googleapis.com/tensorflow/keras-applications/inception_v3/inception_v3_weights_tf_dim_ordering_tf_kernels_notop.h5\n",
      "87910968/87910968 [==============================] - 0s 0us/step\n"
     ]
    }
   ],
   "execution_count": 15
  },
  {
   "metadata": {
    "ExecuteTime": {
     "end_time": "2025-05-06T08:21:11.855145Z",
     "start_time": "2025-05-06T08:21:11.544142Z"
    }
   },
   "cell_type": "code",
   "source": "tf.keras.utils.plot_model(model, show_shapes=True)",
   "id": "6617dfcfbd3c60b3",
   "outputs": [
    {
     "data": {
      "image/png": "[encoded data removed]",
      "text/plain": [
       "<IPython.core.display.Image object>"
      ]
     },
     "execution_count": 16,
     "metadata": {},
     "output_type": "execute_result"
    }
   ],
   "execution_count": 16
  },
  {
   "metadata": {
    "ExecuteTime": {
     "end_time": "2025-05-06T08:21:12.844832Z",
     "start_time": "2025-05-06T08:21:12.815377Z"
    }
   },
   "cell_type": "code",
   "source": [
    "model.compile(\n",
    "    optimizer=tf.keras.optimizers.RMSprop(learning_rate=1e-4),\n",
    "    loss={\n",
    "        'image_class': 'sparse_categorical_crossentropy',\n",
    "        'audio_class': 'sparse_categorical_crossentropy'\n",
    "    },\n",
    "    metrics={\n",
    "        'image_class': 'accuracy',\n",
    "        'audio_class': 'accuracy' \n",
    "    }\n",
    ")"
   ],
   "id": "e12e0e606937543e",
   "outputs": [],
   "execution_count": 17
  },
  {
   "metadata": {
    "ExecuteTime": {
     "end_time": "2025-05-06T08:21:13.424567Z",
     "start_time": "2025-05-06T08:21:13.419969Z"
    }
   },
   "cell_type": "code",
   "source": [
    "min_samples = min(len(x_img_train), len(x_audio_train), len(y_img_train), len(y_audio_train))\n",
    "\n",
    "# Filter inputs and labels\n",
    "x_img_train = x_img_train[:min_samples]\n",
    "x_audio_train = x_audio_train[:min_samples]\n",
    "y_img_train = y_img_train[:min_samples]\n",
    "y_audio_train = y_audio_train[:min_samples]\n",
    "\n",
    "# Print shapes after filtering\n",
    "print(\"Input Image Shape:\", x_img_train.shape) \n",
    "print(\"Input Audio Shape:\", x_audio_train.shape)  \n",
    "print(\"Image Labels Shape:\", y_img_train.shape) \n",
    "print(\"Audio Labels Shape:\", y_audio_train.shape)"
   ],
   "id": "6803a75021e04d19",
   "outputs": [
    {
     "name": "stdout",
     "output_type": "stream",
     "text": [
      "Input Image Shape: (19184, 100, 100, 3)\n",
      "Input Audio Shape: (19184, 128, 110, 3)\n",
      "Image Labels Shape: (19184,)\n",
      "Audio Labels Shape: (19184,)\n"
     ]
    }
   ],
   "execution_count": 18
  },
  {
   "metadata": {
    "ExecuteTime": {
     "end_time": "2025-05-06T08:21:13.735141Z",
     "start_time": "2025-05-06T08:21:13.731179Z"
    }
   },
   "cell_type": "code",
   "source": [
    "print(\"Input Image Type:\", x_img_train.dtype) \n",
    "print(\"Input Audio Type:\", x_audio_train.dtype)  \n",
    "print(\"Image Labels Type:\", y_img_train.dtype) \n",
    "print(\"Audio Labels Type:\", y_audio_train.dtype)"
   ],
   "id": "dd4a4c296b766e19",
   "outputs": [
    {
     "name": "stdout",
     "output_type": "stream",
     "text": [
      "Input Image Type: uint8\n",
      "Input Audio Type: float32\n",
      "Image Labels Type: int64\n",
      "Audio Labels Type: int64\n"
     ]
    }
   ],
   "execution_count": 19
  },
  {
   "metadata": {
    "ExecuteTime": {
     "end_time": "2025-05-06T08:21:14.201176Z",
     "start_time": "2025-05-06T08:21:14.197952Z"
    }
   },
   "cell_type": "code",
   "source": [
    "min_samples = min(len(x_img_val), len(x_audio_val), len(y_img_val), len(y_audio_val))\n",
    "\n",
    "# Filter inputs and labels\n",
    "x_img_val = x_img_val[:min_samples]\n",
    "x_audio_val = x_audio_val[:min_samples]\n",
    "y_img_val = y_img_val[:min_samples]\n",
    "y_audio_val = y_audio_val[:min_samples]\n"
   ],
   "id": "ac09d84e00f16054",
   "outputs": [],
   "execution_count": 20
  },
  {
   "metadata": {
    "ExecuteTime": {
     "end_time": "2025-05-06T08:21:14.558457Z",
     "start_time": "2025-05-06T08:21:14.527406Z"
    }
   },
   "cell_type": "code",
   "source": "tf.keras.backend.clear_session()",
   "id": "d6ef4a12a3e024d2",
   "outputs": [],
   "execution_count": 21
  },
  {
   "metadata": {
    "ExecuteTime": {
     "end_time": "2025-05-06T08:21:14.820784Z",
     "start_time": "2025-05-06T08:21:14.816800Z"
    }
   },
   "cell_type": "code",
   "source": [
    "early = tf.keras.callbacks.EarlyStopping(\n",
    "    monitor='val_loss',\n",
    "    restore_best_weights=True,\n",
    "    mode='min',\n",
    "    start_from_epoch=2,\n",
    "    patience=5\n",
    ")\n",
    "\n",
    "checkpoint = tf.keras.callbacks.ModelCheckpoint(\n",
    "    filepath= os.path.join(MODEL_CHECKPOINT_PATH, 'best_model.keras'),\n",
    "    verbose=2,\n",
    "    save_best_only=True,\n",
    "    monitor='val_loss',\n",
    "    mode='min'\n",
    ")\n",
    "\n",
    "lr_scheduler = tf.keras.callbacks.ReduceLROnPlateau(monitor='val_loss',\n",
    "    factor=0.2,\n",
    "    min_lr=0.000001,\n",
    "    patience=3,\n",
    "    mode='min'\n",
    ")"
   ],
   "id": "55067e12192afb09",
   "outputs": [],
   "execution_count": 22
  },
  {
   "metadata": {
    "ExecuteTime": {
     "end_time": "2025-05-06T08:41:37.847842Z",
     "start_time": "2025-05-06T08:21:15.163046Z"
    }
   },
   "cell_type": "code",
   "source": [
    "history = model.fit(\n",
    "    x=[x_img_train, x_audio_train],\n",
    "    y=[y_img_train, y_audio_train],\n",
    "    validation_data=(\n",
    "        [x_img_val, x_audio_val],\n",
    "        [y_img_val, y_audio_val]\n",
    "    ),\n",
    "    callbacks=[early, checkpoint],\n",
    "    epochs=300,\n",
    "    batch_size=64\n",
    ")\n"
   ],
   "id": "2d22ffb73becfe8f",
   "outputs": [
    {
     "name": "stdout",
     "output_type": "stream",
     "text": [
      "Epoch 1/300\n",
      "  1/300 [..............................] - ETA: 1:38:58 - loss: 178.3952 - image_class_loss: 80.4516 - audio_class_loss: 97.9437 - image_class_accuracy: 0.1719 - audio_class_accuracy: 0.1250"
     ]
    },
    {
     "name": "stderr",
     "output_type": "stream",
     "text": [
      "WARNING: All log messages before absl::InitializeLog() is called are written to STDERR\n",
      "I0000 00:00:1746519704.354557     148 device_compiler.h:186] Compiled cluster using XLA!  This line is logged at most once for the lifetime of the process.\n"
     ]
    },
    {
     "name": "stdout",
     "output_type": "stream",
     "text": [
      "300/300 [==============================] - ETA: 0s - loss: 21.0932 - image_class_loss: 10.2935 - audio_class_loss: 10.7996 - image_class_accuracy: 0.2207 - audio_class_accuracy: 0.1513\n",
      "Epoch 1: val_loss improved from inf to 4.01320, saving model to /working/model_checkpoint/best_model.keras\n",
      "300/300 [==============================] - 61s 139ms/step - loss: 21.0932 - image_class_loss: 10.2935 - audio_class_loss: 10.7996 - image_class_accuracy: 0.2207 - audio_class_accuracy: 0.1513 - val_loss: 4.0132 - val_image_class_loss: 1.9398 - val_audio_class_loss: 2.0734 - val_image_class_accuracy: 0.2471 - val_audio_class_accuracy: 0.1494\n",
      "Epoch 2/300\n",
      "300/300 [==============================] - ETA: 0s - loss: 4.0539 - image_class_loss: 1.9613 - audio_class_loss: 2.0926 - image_class_accuracy: 0.2498 - audio_class_accuracy: 0.1571\n",
      "Epoch 2: val_loss improved from 4.01320 to 3.99880, saving model to /working/model_checkpoint/best_model.keras\n",
      "300/300 [==============================] - 27s 89ms/step - loss: 4.0539 - image_class_loss: 1.9613 - audio_class_loss: 2.0926 - image_class_accuracy: 0.2498 - audio_class_accuracy: 0.1571 - val_loss: 3.9988 - val_image_class_loss: 1.9324 - val_audio_class_loss: 2.0664 - val_image_class_accuracy: 0.2471 - val_audio_class_accuracy: 0.1494\n",
      "Epoch 3/300\n",
      "300/300 [==============================] - ETA: 0s - loss: 4.0167 - image_class_loss: 1.9404 - audio_class_loss: 2.0764 - image_class_accuracy: 0.2507 - audio_class_accuracy: 0.1563\n",
      "Epoch 3: val_loss improved from 3.99880 to 3.98522, saving model to /working/model_checkpoint/best_model.keras\n",
      "300/300 [==============================] - 29s 95ms/step - loss: 4.0167 - image_class_loss: 1.9404 - audio_class_loss: 2.0764 - image_class_accuracy: 0.2507 - audio_class_accuracy: 0.1563 - val_loss: 3.9852 - val_image_class_loss: 1.9254 - val_audio_class_loss: 2.0598 - val_image_class_accuracy: 0.2471 - val_audio_class_accuracy: 0.1627\n",
      "Epoch 4/300\n",
      "300/300 [==============================] - ETA: 0s - loss: 3.9903 - image_class_loss: 1.9284 - audio_class_loss: 2.0618 - image_class_accuracy: 0.2511 - audio_class_accuracy: 0.1623\n",
      "Epoch 4: val_loss improved from 3.98522 to 3.97244, saving model to /working/model_checkpoint/best_model.keras\n",
      "300/300 [==============================] - 27s 91ms/step - loss: 3.9903 - image_class_loss: 1.9284 - audio_class_loss: 2.0618 - image_class_accuracy: 0.2511 - audio_class_accuracy: 0.1623 - val_loss: 3.9724 - val_image_class_loss: 1.9188 - val_audio_class_loss: 2.0537 - val_image_class_accuracy: 0.2471 - val_audio_class_accuracy: 0.1627\n",
      "Epoch 5/300\n",
      "300/300 [==============================] - ETA: 0s - loss: 3.9760 - image_class_loss: 1.9204 - audio_class_loss: 2.0557 - image_class_accuracy: 0.2511 - audio_class_accuracy: 0.1620\n",
      "Epoch 5: val_loss improved from 3.97244 to 3.96047, saving model to /working/model_checkpoint/best_model.keras\n",
      "300/300 [==============================] - 28s 93ms/step - loss: 3.9760 - image_class_loss: 1.9204 - audio_class_loss: 2.0557 - image_class_accuracy: 0.2511 - audio_class_accuracy: 0.1620 - val_loss: 3.9605 - val_image_class_loss: 1.9126 - val_audio_class_loss: 2.0479 - val_image_class_accuracy: 0.2471 - val_audio_class_accuracy: 0.1627\n",
      "Epoch 6/300\n",
      "300/300 [==============================] - ETA: 0s - loss: 3.9626 - image_class_loss: 1.9132 - audio_class_loss: 2.0494 - image_class_accuracy: 0.2511 - audio_class_accuracy: 0.1623\n",
      "Epoch 6: val_loss improved from 3.96047 to 3.94908, saving model to /working/model_checkpoint/best_model.keras\n",
      "300/300 [==============================] - 27s 91ms/step - loss: 3.9626 - image_class_loss: 1.9132 - audio_class_loss: 2.0494 - image_class_accuracy: 0.2511 - audio_class_accuracy: 0.1623 - val_loss: 3.9491 - val_image_class_loss: 1.9067 - val_audio_class_loss: 2.0424 - val_image_class_accuracy: 0.2471 - val_audio_class_accuracy: 0.1627\n",
      "Epoch 7/300\n",
      "300/300 [==============================] - ETA: 0s - loss: 3.9500 - image_class_loss: 1.9067 - audio_class_loss: 2.0432 - image_class_accuracy: 0.2508 - audio_class_accuracy: 0.1621\n",
      "Epoch 7: val_loss improved from 3.94908 to 3.93847, saving model to /working/model_checkpoint/best_model.keras\n",
      "300/300 [==============================] - 28s 92ms/step - loss: 3.9500 - image_class_loss: 1.9067 - audio_class_loss: 2.0432 - image_class_accuracy: 0.2508 - audio_class_accuracy: 0.1621 - val_loss: 3.9385 - val_image_class_loss: 1.9011 - val_audio_class_loss: 2.0374 - val_image_class_accuracy: 0.2471 - val_audio_class_accuracy: 0.1627\n",
      "Epoch 8/300\n",
      "300/300 [==============================] - ETA: 0s - loss: 3.9372 - image_class_loss: 1.9003 - audio_class_loss: 2.0370 - image_class_accuracy: 0.2513 - audio_class_accuracy: 0.1622\n",
      "Epoch 8: val_loss improved from 3.93847 to 3.92847, saving model to /working/model_checkpoint/best_model.keras\n",
      "300/300 [==============================] - 27s 91ms/step - loss: 3.9372 - image_class_loss: 1.9003 - audio_class_loss: 2.0370 - image_class_accuracy: 0.2513 - audio_class_accuracy: 0.1622 - val_loss: 3.9285 - val_image_class_loss: 1.8958 - val_audio_class_loss: 2.0327 - val_image_class_accuracy: 0.2471 - val_audio_class_accuracy: 0.1627\n",
      "Epoch 9/300\n",
      "300/300 [==============================] - ETA: 0s - loss: 3.9269 - image_class_loss: 1.8946 - audio_class_loss: 2.0323 - image_class_accuracy: 0.2513 - audio_class_accuracy: 0.1623\n",
      "Epoch 9: val_loss improved from 3.92847 to 3.91919, saving model to /working/model_checkpoint/best_model.keras\n",
      "300/300 [==============================] - 27s 91ms/step - loss: 3.9269 - image_class_loss: 1.8946 - audio_class_loss: 2.0323 - image_class_accuracy: 0.2513 - audio_class_accuracy: 0.1623 - val_loss: 3.9192 - val_image_class_loss: 1.8909 - val_audio_class_loss: 2.0283 - val_image_class_accuracy: 0.2471 - val_audio_class_accuracy: 0.1627\n",
      "Epoch 10/300\n",
      "300/300 [==============================] - ETA: 0s - loss: 3.9151 - image_class_loss: 1.8881 - audio_class_loss: 2.0270 - image_class_accuracy: 0.2511 - audio_class_accuracy: 0.1623\n",
      "Epoch 10: val_loss improved from 3.91919 to 3.91050, saving model to /working/model_checkpoint/best_model.keras\n",
      "300/300 [==============================] - 28s 93ms/step - loss: 3.9151 - image_class_loss: 1.8881 - audio_class_loss: 2.0270 - image_class_accuracy: 0.2511 - audio_class_accuracy: 0.1623 - val_loss: 3.9105 - val_image_class_loss: 1.8863 - val_audio_class_loss: 2.0242 - val_image_class_accuracy: 0.2471 - val_audio_class_accuracy: 0.1627\n",
      "Epoch 11/300\n",
      "300/300 [==============================] - ETA: 0s - loss: 3.9085 - image_class_loss: 1.8848 - audio_class_loss: 2.0237 - image_class_accuracy: 0.2509 - audio_class_accuracy: 0.1623\n",
      "Epoch 11: val_loss improved from 3.91050 to 3.90235, saving model to /working/model_checkpoint/best_model.keras\n",
      "300/300 [==============================] - 27s 91ms/step - loss: 3.9085 - image_class_loss: 1.8848 - audio_class_loss: 2.0237 - image_class_accuracy: 0.2509 - audio_class_accuracy: 0.1623 - val_loss: 3.9023 - val_image_class_loss: 1.8819 - val_audio_class_loss: 2.0204 - val_image_class_accuracy: 0.2471 - val_audio_class_accuracy: 0.1627\n",
      "Epoch 12/300\n",
      "300/300 [==============================] - ETA: 0s - loss: 3.8992 - image_class_loss: 1.8799 - audio_class_loss: 2.0194 - image_class_accuracy: 0.2513 - audio_class_accuracy: 0.1626\n",
      "Epoch 12: val_loss improved from 3.90235 to 3.89469, saving model to /working/model_checkpoint/best_model.keras\n",
      "300/300 [==============================] - 28s 92ms/step - loss: 3.8992 - image_class_loss: 1.8799 - audio_class_loss: 2.0194 - image_class_accuracy: 0.2513 - audio_class_accuracy: 0.1626 - val_loss: 3.8947 - val_image_class_loss: 1.8778 - val_audio_class_loss: 2.0169 - val_image_class_accuracy: 0.2471 - val_audio_class_accuracy: 0.1627\n",
      "Epoch 13/300\n",
      "300/300 [==============================] - ETA: 0s - loss: 3.8921 - image_class_loss: 1.8756 - audio_class_loss: 2.0164 - image_class_accuracy: 0.2511 - audio_class_accuracy: 0.1622\n",
      "Epoch 13: val_loss improved from 3.89469 to 3.88753, saving model to /working/model_checkpoint/best_model.keras\n",
      "300/300 [==============================] - 27s 91ms/step - loss: 3.8921 - image_class_loss: 1.8756 - audio_class_loss: 2.0164 - image_class_accuracy: 0.2511 - audio_class_accuracy: 0.1622 - val_loss: 3.8875 - val_image_class_loss: 1.8739 - val_audio_class_loss: 2.0137 - val_image_class_accuracy: 0.2471 - val_audio_class_accuracy: 0.1627\n",
      "Epoch 14/300\n",
      "300/300 [==============================] - ETA: 0s - loss: 3.8847 - image_class_loss: 1.8714 - audio_class_loss: 2.0133 - image_class_accuracy: 0.2515 - audio_class_accuracy: 0.1625\n",
      "Epoch 14: val_loss improved from 3.88753 to 3.88075, saving model to /working/model_checkpoint/best_model.keras\n",
      "300/300 [==============================] - 28s 92ms/step - loss: 3.8847 - image_class_loss: 1.8714 - audio_class_loss: 2.0133 - image_class_accuracy: 0.2515 - audio_class_accuracy: 0.1625 - val_loss: 3.8808 - val_image_class_loss: 1.8702 - val_audio_class_loss: 2.0106 - val_image_class_accuracy: 0.2471 - val_audio_class_accuracy: 0.1627\n",
      "Epoch 15/300\n",
      "300/300 [==============================] - ETA: 0s - loss: 3.8779 - image_class_loss: 1.8681 - audio_class_loss: 2.0098 - image_class_accuracy: 0.2513 - audio_class_accuracy: 0.1622\n",
      "Epoch 15: val_loss improved from 3.88075 to 3.87447, saving model to /working/model_checkpoint/best_model.keras\n",
      "300/300 [==============================] - 27s 91ms/step - loss: 3.8779 - image_class_loss: 1.8681 - audio_class_loss: 2.0098 - image_class_accuracy: 0.2513 - audio_class_accuracy: 0.1622 - val_loss: 3.8745 - val_image_class_loss: 1.8667 - val_audio_class_loss: 2.0078 - val_image_class_accuracy: 0.2471 - val_audio_class_accuracy: 0.1627\n",
      "Epoch 16/300\n",
      "300/300 [==============================] - ETA: 0s - loss: 3.8718 - image_class_loss: 1.8642 - audio_class_loss: 2.0076 - image_class_accuracy: 0.2513 - audio_class_accuracy: 0.1622\n",
      "Epoch 16: val_loss improved from 3.87447 to 3.86863, saving model to /working/model_checkpoint/best_model.keras\n",
      "300/300 [==============================] - 27s 91ms/step - loss: 3.8718 - image_class_loss: 1.8642 - audio_class_loss: 2.0076 - image_class_accuracy: 0.2513 - audio_class_accuracy: 0.1622 - val_loss: 3.8686 - val_image_class_loss: 1.8635 - val_audio_class_loss: 2.0052 - val_image_class_accuracy: 0.2471 - val_audio_class_accuracy: 0.1627\n",
      "Epoch 17/300\n",
      "300/300 [==============================] - ETA: 0s - loss: 3.8671 - image_class_loss: 1.8606 - audio_class_loss: 2.0065 - image_class_accuracy: 0.2513 - audio_class_accuracy: 0.1620\n",
      "Epoch 17: val_loss improved from 3.86863 to 3.86323, saving model to /working/model_checkpoint/best_model.keras\n",
      "300/300 [==============================] - 28s 92ms/step - loss: 3.8671 - image_class_loss: 1.8606 - audio_class_loss: 2.0065 - image_class_accuracy: 0.2513 - audio_class_accuracy: 0.1620 - val_loss: 3.8632 - val_image_class_loss: 1.8605 - val_audio_class_loss: 2.0027 - val_image_class_accuracy: 0.2471 - val_audio_class_accuracy: 0.1627\n",
      "Epoch 18/300\n",
      "300/300 [==============================] - ETA: 0s - loss: 3.8614 - image_class_loss: 1.8584 - audio_class_loss: 2.0030 - image_class_accuracy: 0.2509 - audio_class_accuracy: 0.1623\n",
      "Epoch 18: val_loss improved from 3.86323 to 3.85810, saving model to /working/model_checkpoint/best_model.keras\n",
      "300/300 [==============================] - 27s 91ms/step - loss: 3.8614 - image_class_loss: 1.8584 - audio_class_loss: 2.0030 - image_class_accuracy: 0.2509 - audio_class_accuracy: 0.1623 - val_loss: 3.8581 - val_image_class_loss: 1.8576 - val_audio_class_loss: 2.0005 - val_image_class_accuracy: 0.2471 - val_audio_class_accuracy: 0.1627\n",
      "Epoch 19/300\n",
      "300/300 [==============================] - ETA: 0s - loss: 3.8539 - image_class_loss: 1.8537 - audio_class_loss: 2.0002 - image_class_accuracy: 0.2513 - audio_class_accuracy: 0.1623\n",
      "Epoch 19: val_loss improved from 3.85810 to 3.85341, saving model to /working/model_checkpoint/best_model.keras\n",
      "300/300 [==============================] - 28s 92ms/step - loss: 3.8539 - image_class_loss: 1.8537 - audio_class_loss: 2.0002 - image_class_accuracy: 0.2513 - audio_class_accuracy: 0.1623 - val_loss: 3.8534 - val_image_class_loss: 1.8550 - val_audio_class_loss: 1.9984 - val_image_class_accuracy: 0.2471 - val_audio_class_accuracy: 0.1627\n",
      "Epoch 20/300\n",
      "300/300 [==============================] - ETA: 0s - loss: 3.8489 - image_class_loss: 1.8512 - audio_class_loss: 1.9978 - image_class_accuracy: 0.2511 - audio_class_accuracy: 0.1623\n",
      "Epoch 20: val_loss improved from 3.85341 to 3.84896, saving model to /working/model_checkpoint/best_model.keras\n",
      "300/300 [==============================] - 27s 91ms/step - loss: 3.8489 - image_class_loss: 1.8512 - audio_class_loss: 1.9978 - image_class_accuracy: 0.2511 - audio_class_accuracy: 0.1623 - val_loss: 3.8490 - val_image_class_loss: 1.8525 - val_audio_class_loss: 1.9964 - val_image_class_accuracy: 0.2471 - val_audio_class_accuracy: 0.1627\n",
      "Epoch 21/300\n",
      "300/300 [==============================] - ETA: 0s - loss: 3.8441 - image_class_loss: 1.8487 - audio_class_loss: 1.9954 - image_class_accuracy: 0.2512 - audio_class_accuracy: 0.1623\n",
      "Epoch 21: val_loss improved from 3.84896 to 3.84483, saving model to /working/model_checkpoint/best_model.keras\n",
      "300/300 [==============================] - 28s 93ms/step - loss: 3.8441 - image_class_loss: 1.8487 - audio_class_loss: 1.9954 - image_class_accuracy: 0.2512 - audio_class_accuracy: 0.1623 - val_loss: 3.8448 - val_image_class_loss: 1.8502 - val_audio_class_loss: 1.9946 - val_image_class_accuracy: 0.2471 - val_audio_class_accuracy: 0.1627\n",
      "Epoch 22/300\n",
      "300/300 [==============================] - ETA: 0s - loss: 3.8400 - image_class_loss: 1.8464 - audio_class_loss: 1.9936 - image_class_accuracy: 0.2511 - audio_class_accuracy: 0.1623\n",
      "Epoch 22: val_loss improved from 3.84483 to 3.84095, saving model to /working/model_checkpoint/best_model.keras\n",
      "300/300 [==============================] - 27s 91ms/step - loss: 3.8400 - image_class_loss: 1.8464 - audio_class_loss: 1.9936 - image_class_accuracy: 0.2511 - audio_class_accuracy: 0.1623 - val_loss: 3.8409 - val_image_class_loss: 1.8480 - val_audio_class_loss: 1.9929 - val_image_class_accuracy: 0.2471 - val_audio_class_accuracy: 0.1627\n",
      "Epoch 23/300\n",
      "300/300 [==============================] - ETA: 0s - loss: 3.8377 - image_class_loss: 1.8455 - audio_class_loss: 1.9922 - image_class_accuracy: 0.2511 - audio_class_accuracy: 0.1625\n",
      "Epoch 23: val_loss improved from 3.84095 to 3.83737, saving model to /working/model_checkpoint/best_model.keras\n",
      "300/300 [==============================] - 28s 92ms/step - loss: 3.8377 - image_class_loss: 1.8455 - audio_class_loss: 1.9922 - image_class_accuracy: 0.2511 - audio_class_accuracy: 0.1625 - val_loss: 3.8374 - val_image_class_loss: 1.8460 - val_audio_class_loss: 1.9914 - val_image_class_accuracy: 0.2471 - val_audio_class_accuracy: 0.1627\n",
      "Epoch 24/300\n",
      "300/300 [==============================] - ETA: 0s - loss: 3.8336 - image_class_loss: 1.8427 - audio_class_loss: 1.9909 - image_class_accuracy: 0.2510 - audio_class_accuracy: 0.1623\n",
      "Epoch 24: val_loss improved from 3.83737 to 3.83404, saving model to /working/model_checkpoint/best_model.keras\n",
      "300/300 [==============================] - 27s 91ms/step - loss: 3.8336 - image_class_loss: 1.8427 - audio_class_loss: 1.9909 - image_class_accuracy: 0.2510 - audio_class_accuracy: 0.1623 - val_loss: 3.8340 - val_image_class_loss: 1.8441 - val_audio_class_loss: 1.9899 - val_image_class_accuracy: 0.2471 - val_audio_class_accuracy: 0.1627\n",
      "Epoch 25/300\n",
      "300/300 [==============================] - ETA: 0s - loss: 3.8299 - image_class_loss: 1.8411 - audio_class_loss: 1.9888 - image_class_accuracy: 0.2513 - audio_class_accuracy: 0.1625\n",
      "Epoch 25: val_loss improved from 3.83404 to 3.83088, saving model to /working/model_checkpoint/best_model.keras\n",
      "300/300 [==============================] - 27s 91ms/step - loss: 3.8299 - image_class_loss: 1.8411 - audio_class_loss: 1.9888 - image_class_accuracy: 0.2513 - audio_class_accuracy: 0.1625 - val_loss: 3.8309 - val_image_class_loss: 1.8423 - val_audio_class_loss: 1.9886 - val_image_class_accuracy: 0.2471 - val_audio_class_accuracy: 0.1627\n",
      "Epoch 26/300\n",
      "300/300 [==============================] - ETA: 0s - loss: 3.8261 - image_class_loss: 1.8391 - audio_class_loss: 1.9870 - image_class_accuracy: 0.2510 - audio_class_accuracy: 0.1624\n",
      "Epoch 26: val_loss improved from 3.83088 to 3.82795, saving model to /working/model_checkpoint/best_model.keras\n",
      "300/300 [==============================] - 28s 92ms/step - loss: 3.8261 - image_class_loss: 1.8391 - audio_class_loss: 1.9870 - image_class_accuracy: 0.2510 - audio_class_accuracy: 0.1624 - val_loss: 3.8280 - val_image_class_loss: 1.8406 - val_audio_class_loss: 1.9873 - val_image_class_accuracy: 0.2471 - val_audio_class_accuracy: 0.1627\n",
      "Epoch 27/300\n",
      "300/300 [==============================] - ETA: 0s - loss: 3.8223 - image_class_loss: 1.8367 - audio_class_loss: 1.9856 - image_class_accuracy: 0.2512 - audio_class_accuracy: 0.1625\n",
      "Epoch 27: val_loss improved from 3.82795 to 3.82523, saving model to /working/model_checkpoint/best_model.keras\n",
      "300/300 [==============================] - 27s 92ms/step - loss: 3.8223 - image_class_loss: 1.8367 - audio_class_loss: 1.9856 - image_class_accuracy: 0.2512 - audio_class_accuracy: 0.1625 - val_loss: 3.8252 - val_image_class_loss: 1.8391 - val_audio_class_loss: 1.9862 - val_image_class_accuracy: 0.2471 - val_audio_class_accuracy: 0.1627\n",
      "Epoch 28/300\n",
      "300/300 [==============================] - ETA: 0s - loss: 3.8201 - image_class_loss: 1.8350 - audio_class_loss: 1.9851 - image_class_accuracy: 0.2512 - audio_class_accuracy: 0.1622\n",
      "Epoch 28: val_loss improved from 3.82523 to 3.82269, saving model to /working/model_checkpoint/best_model.keras\n",
      "300/300 [==============================] - 28s 92ms/step - loss: 3.8201 - image_class_loss: 1.8350 - audio_class_loss: 1.9851 - image_class_accuracy: 0.2512 - audio_class_accuracy: 0.1622 - val_loss: 3.8227 - val_image_class_loss: 1.8376 - val_audio_class_loss: 1.9851 - val_image_class_accuracy: 0.2471 - val_audio_class_accuracy: 0.1627\n",
      "Epoch 29/300\n",
      "300/300 [==============================] - ETA: 0s - loss: 3.8175 - image_class_loss: 1.8333 - audio_class_loss: 1.9842 - image_class_accuracy: 0.2511 - audio_class_accuracy: 0.1623\n",
      "Epoch 29: val_loss improved from 3.82269 to 3.82032, saving model to /working/model_checkpoint/best_model.keras\n",
      "300/300 [==============================] - 27s 91ms/step - loss: 3.8175 - image_class_loss: 1.8333 - audio_class_loss: 1.9842 - image_class_accuracy: 0.2511 - audio_class_accuracy: 0.1623 - val_loss: 3.8203 - val_image_class_loss: 1.8362 - val_audio_class_loss: 1.9841 - val_image_class_accuracy: 0.2471 - val_audio_class_accuracy: 0.1627\n",
      "Epoch 30/300\n",
      "300/300 [==============================] - ETA: 0s - loss: 3.8154 - image_class_loss: 1.8321 - audio_class_loss: 1.9834 - image_class_accuracy: 0.2511 - audio_class_accuracy: 0.1623\n",
      "Epoch 30: val_loss improved from 3.82032 to 3.81806, saving model to /working/model_checkpoint/best_model.keras\n",
      "300/300 [==============================] - 28s 93ms/step - loss: 3.8154 - image_class_loss: 1.8321 - audio_class_loss: 1.9834 - image_class_accuracy: 0.2511 - audio_class_accuracy: 0.1623 - val_loss: 3.8181 - val_image_class_loss: 1.8349 - val_audio_class_loss: 1.9832 - val_image_class_accuracy: 0.2471 - val_audio_class_accuracy: 0.1627\n",
      "Epoch 31/300\n",
      "300/300 [==============================] - ETA: 0s - loss: 3.8124 - image_class_loss: 1.8305 - audio_class_loss: 1.9819 - image_class_accuracy: 0.2511 - audio_class_accuracy: 0.1624\n",
      "Epoch 31: val_loss improved from 3.81806 to 3.81595, saving model to /working/model_checkpoint/best_model.keras\n",
      "300/300 [==============================] - 27s 91ms/step - loss: 3.8124 - image_class_loss: 1.8305 - audio_class_loss: 1.9819 - image_class_accuracy: 0.2511 - audio_class_accuracy: 0.1624 - val_loss: 3.8159 - val_image_class_loss: 1.8336 - val_audio_class_loss: 1.9823 - val_image_class_accuracy: 0.2471 - val_audio_class_accuracy: 0.1627\n",
      "Epoch 32/300\n",
      "300/300 [==============================] - ETA: 0s - loss: 3.8122 - image_class_loss: 1.8305 - audio_class_loss: 1.9817 - image_class_accuracy: 0.2510 - audio_class_accuracy: 0.1623\n",
      "Epoch 32: val_loss improved from 3.81595 to 3.81399, saving model to /working/model_checkpoint/best_model.keras\n",
      "300/300 [==============================] - 28s 92ms/step - loss: 3.8122 - image_class_loss: 1.8305 - audio_class_loss: 1.9817 - image_class_accuracy: 0.2510 - audio_class_accuracy: 0.1623 - val_loss: 3.8140 - val_image_class_loss: 1.8325 - val_audio_class_loss: 1.9815 - val_image_class_accuracy: 0.2471 - val_audio_class_accuracy: 0.1627\n",
      "Epoch 33/300\n",
      "300/300 [==============================] - ETA: 0s - loss: 3.8095 - image_class_loss: 1.8288 - audio_class_loss: 1.9808 - image_class_accuracy: 0.2510 - audio_class_accuracy: 0.1624\n",
      "Epoch 33: val_loss improved from 3.81399 to 3.81216, saving model to /working/model_checkpoint/best_model.keras\n",
      "300/300 [==============================] - 27s 91ms/step - loss: 3.8095 - image_class_loss: 1.8288 - audio_class_loss: 1.9808 - image_class_accuracy: 0.2510 - audio_class_accuracy: 0.1624 - val_loss: 3.8122 - val_image_class_loss: 1.8314 - val_audio_class_loss: 1.9808 - val_image_class_accuracy: 0.2471 - val_audio_class_accuracy: 0.1627\n",
      "Epoch 34/300\n",
      "300/300 [==============================] - ETA: 0s - loss: 3.8070 - image_class_loss: 1.8272 - audio_class_loss: 1.9798 - image_class_accuracy: 0.2512 - audio_class_accuracy: 0.1624\n",
      "Epoch 34: val_loss improved from 3.81216 to 3.81042, saving model to /working/model_checkpoint/best_model.keras\n",
      "300/300 [==============================] - 27s 91ms/step - loss: 3.8070 - image_class_loss: 1.8272 - audio_class_loss: 1.9798 - image_class_accuracy: 0.2512 - audio_class_accuracy: 0.1624 - val_loss: 3.8104 - val_image_class_loss: 1.8303 - val_audio_class_loss: 1.9801 - val_image_class_accuracy: 0.2471 - val_audio_class_accuracy: 0.1627\n",
      "Epoch 35/300\n",
      "300/300 [==============================] - ETA: 0s - loss: 3.8043 - image_class_loss: 1.8256 - audio_class_loss: 1.9787 - image_class_accuracy: 0.2511 - audio_class_accuracy: 0.1624\n",
      "Epoch 35: val_loss improved from 3.81042 to 3.80880, saving model to /working/model_checkpoint/best_model.keras\n",
      "300/300 [==============================] - 28s 92ms/step - loss: 3.8043 - image_class_loss: 1.8256 - audio_class_loss: 1.9787 - image_class_accuracy: 0.2511 - audio_class_accuracy: 0.1624 - val_loss: 3.8088 - val_image_class_loss: 1.8293 - val_audio_class_loss: 1.9794 - val_image_class_accuracy: 0.2471 - val_audio_class_accuracy: 0.1627\n",
      "Epoch 36/300\n",
      "300/300 [==============================] - ETA: 0s - loss: 3.8044 - image_class_loss: 1.8256 - audio_class_loss: 1.9788 - image_class_accuracy: 0.2511 - audio_class_accuracy: 0.1623\n",
      "Epoch 36: val_loss improved from 3.80880 to 3.80728, saving model to /working/model_checkpoint/best_model.keras\n",
      "300/300 [==============================] - 27s 91ms/step - loss: 3.8044 - image_class_loss: 1.8256 - audio_class_loss: 1.9788 - image_class_accuracy: 0.2511 - audio_class_accuracy: 0.1623 - val_loss: 3.8073 - val_image_class_loss: 1.8284 - val_audio_class_loss: 1.9788 - val_image_class_accuracy: 0.2471 - val_audio_class_accuracy: 0.1627\n",
      "Epoch 37/300\n",
      "300/300 [==============================] - ETA: 0s - loss: 3.8013 - image_class_loss: 1.8238 - audio_class_loss: 1.9775 - image_class_accuracy: 0.2513 - audio_class_accuracy: 0.1625\n",
      "Epoch 37: val_loss improved from 3.80728 to 3.80585, saving model to /working/model_checkpoint/best_model.keras\n",
      "300/300 [==============================] - 28s 93ms/step - loss: 3.8013 - image_class_loss: 1.8238 - audio_class_loss: 1.9775 - image_class_accuracy: 0.2513 - audio_class_accuracy: 0.1625 - val_loss: 3.8058 - val_image_class_loss: 1.8276 - val_audio_class_loss: 1.9783 - val_image_class_accuracy: 0.2471 - val_audio_class_accuracy: 0.1627\n",
      "Epoch 38/300\n",
      "300/300 [==============================] - ETA: 0s - loss: 3.8003 - image_class_loss: 1.8232 - audio_class_loss: 1.9771 - image_class_accuracy: 0.2512 - audio_class_accuracy: 0.1624\n",
      "Epoch 38: val_loss improved from 3.80585 to 3.80453, saving model to /working/model_checkpoint/best_model.keras\n",
      "300/300 [==============================] - 27s 91ms/step - loss: 3.8003 - image_class_loss: 1.8232 - audio_class_loss: 1.9771 - image_class_accuracy: 0.2512 - audio_class_accuracy: 0.1624 - val_loss: 3.8045 - val_image_class_loss: 1.8267 - val_audio_class_loss: 1.9778 - val_image_class_accuracy: 0.2471 - val_audio_class_accuracy: 0.1627\n",
      "Epoch 39/300\n",
      "300/300 [==============================] - ETA: 0s - loss: 3.7998 - image_class_loss: 1.8229 - audio_class_loss: 1.9769 - image_class_accuracy: 0.2512 - audio_class_accuracy: 0.1624\n",
      "Epoch 39: val_loss improved from 3.80453 to 3.80329, saving model to /working/model_checkpoint/best_model.keras\n",
      "300/300 [==============================] - 28s 92ms/step - loss: 3.7998 - image_class_loss: 1.8229 - audio_class_loss: 1.9769 - image_class_accuracy: 0.2512 - audio_class_accuracy: 0.1624 - val_loss: 3.8033 - val_image_class_loss: 1.8260 - val_audio_class_loss: 1.9773 - val_image_class_accuracy: 0.2471 - val_audio_class_accuracy: 0.1627\n",
      "Epoch 40/300\n",
      "300/300 [==============================] - ETA: 0s - loss: 3.7975 - image_class_loss: 1.8213 - audio_class_loss: 1.9762 - image_class_accuracy: 0.2513 - audio_class_accuracy: 0.1622\n",
      "Epoch 40: val_loss improved from 3.80329 to 3.80214, saving model to /working/model_checkpoint/best_model.keras\n",
      "300/300 [==============================] - 27s 91ms/step - loss: 3.7975 - image_class_loss: 1.8213 - audio_class_loss: 1.9762 - image_class_accuracy: 0.2513 - audio_class_accuracy: 0.1622 - val_loss: 3.8021 - val_image_class_loss: 1.8252 - val_audio_class_loss: 1.9769 - val_image_class_accuracy: 0.2471 - val_audio_class_accuracy: 0.1627\n",
      "Epoch 41/300\n",
      "300/300 [==============================] - ETA: 0s - loss: 3.7973 - image_class_loss: 1.8212 - audio_class_loss: 1.9761 - image_class_accuracy: 0.2512 - audio_class_accuracy: 0.1624\n",
      "Epoch 41: val_loss improved from 3.80214 to 3.80104, saving model to /working/model_checkpoint/best_model.keras\n",
      "300/300 [==============================] - 27s 91ms/step - loss: 3.7973 - image_class_loss: 1.8212 - audio_class_loss: 1.9761 - image_class_accuracy: 0.2512 - audio_class_accuracy: 0.1624 - val_loss: 3.8010 - val_image_class_loss: 1.8246 - val_audio_class_loss: 1.9765 - val_image_class_accuracy: 0.2471 - val_audio_class_accuracy: 0.1627\n",
      "Epoch 42/300\n",
      "300/300 [==============================] - ETA: 0s - loss: 3.7951 - image_class_loss: 1.8197 - audio_class_loss: 1.9754 - image_class_accuracy: 0.2513 - audio_class_accuracy: 0.1624\n",
      "Epoch 42: val_loss improved from 3.80104 to 3.80003, saving model to /working/model_checkpoint/best_model.keras\n",
      "300/300 [==============================] - 28s 93ms/step - loss: 3.7951 - image_class_loss: 1.8197 - audio_class_loss: 1.9754 - image_class_accuracy: 0.2513 - audio_class_accuracy: 0.1624 - val_loss: 3.8000 - val_image_class_loss: 1.8239 - val_audio_class_loss: 1.9761 - val_image_class_accuracy: 0.2471 - val_audio_class_accuracy: 0.1627\n",
      "Epoch 43/300\n",
      "300/300 [==============================] - ETA: 0s - loss: 3.7944 - image_class_loss: 1.8197 - audio_class_loss: 1.9747 - image_class_accuracy: 0.2513 - audio_class_accuracy: 0.1623"
     ]
    },
    {
     "ename": "KeyboardInterrupt",
     "evalue": "",
     "output_type": "error",
     "traceback": [
      "\u001B[0;31m---------------------------------------------------------------------------\u001B[0m",
      "\u001B[0;31mKeyboardInterrupt\u001B[0m                         Traceback (most recent call last)",
      "\u001B[0;32m/tmp/ipykernel_111/1795321729.py\u001B[0m in \u001B[0;36m<cell line: 0>\u001B[0;34m()\u001B[0m\n\u001B[0;32m----> 1\u001B[0;31m history = model.fit(\n\u001B[0m\u001B[1;32m      2\u001B[0m     \u001B[0mx\u001B[0m\u001B[0;34m=\u001B[0m\u001B[0;34m[\u001B[0m\u001B[0mx_img_train\u001B[0m\u001B[0;34m,\u001B[0m \u001B[0mx_audio_train\u001B[0m\u001B[0;34m]\u001B[0m\u001B[0;34m,\u001B[0m\u001B[0;34m\u001B[0m\u001B[0;34m\u001B[0m\u001B[0m\n\u001B[1;32m      3\u001B[0m     \u001B[0my\u001B[0m\u001B[0;34m=\u001B[0m\u001B[0;34m[\u001B[0m\u001B[0my_img_train\u001B[0m\u001B[0;34m,\u001B[0m \u001B[0my_audio_train\u001B[0m\u001B[0;34m]\u001B[0m\u001B[0;34m,\u001B[0m\u001B[0;34m\u001B[0m\u001B[0;34m\u001B[0m\u001B[0m\n\u001B[1;32m      4\u001B[0m     validation_data=(\n\u001B[1;32m      5\u001B[0m         \u001B[0;34m[\u001B[0m\u001B[0mx_img_val\u001B[0m\u001B[0;34m,\u001B[0m \u001B[0mx_audio_val\u001B[0m\u001B[0;34m]\u001B[0m\u001B[0;34m,\u001B[0m\u001B[0;34m\u001B[0m\u001B[0;34m\u001B[0m\u001B[0m\n",
      "\u001B[0;32m/usr/local/lib/python3.11/dist-packages/keras/src/utils/traceback_utils.py\u001B[0m in \u001B[0;36merror_handler\u001B[0;34m(*args, **kwargs)\u001B[0m\n\u001B[1;32m     63\u001B[0m         \u001B[0mfiltered_tb\u001B[0m \u001B[0;34m=\u001B[0m \u001B[0;32mNone\u001B[0m\u001B[0;34m\u001B[0m\u001B[0;34m\u001B[0m\u001B[0m\n\u001B[1;32m     64\u001B[0m         \u001B[0;32mtry\u001B[0m\u001B[0;34m:\u001B[0m\u001B[0;34m\u001B[0m\u001B[0;34m\u001B[0m\u001B[0m\n\u001B[0;32m---> 65\u001B[0;31m             \u001B[0;32mreturn\u001B[0m \u001B[0mfn\u001B[0m\u001B[0;34m(\u001B[0m\u001B[0;34m*\u001B[0m\u001B[0margs\u001B[0m\u001B[0;34m,\u001B[0m \u001B[0;34m**\u001B[0m\u001B[0mkwargs\u001B[0m\u001B[0;34m)\u001B[0m\u001B[0;34m\u001B[0m\u001B[0;34m\u001B[0m\u001B[0m\n\u001B[0m\u001B[1;32m     66\u001B[0m         \u001B[0;32mexcept\u001B[0m \u001B[0mException\u001B[0m \u001B[0;32mas\u001B[0m \u001B[0me\u001B[0m\u001B[0;34m:\u001B[0m\u001B[0;34m\u001B[0m\u001B[0;34m\u001B[0m\u001B[0m\n\u001B[1;32m     67\u001B[0m             \u001B[0mfiltered_tb\u001B[0m \u001B[0;34m=\u001B[0m \u001B[0m_process_traceback_frames\u001B[0m\u001B[0;34m(\u001B[0m\u001B[0me\u001B[0m\u001B[0;34m.\u001B[0m\u001B[0m__traceback__\u001B[0m\u001B[0;34m)\u001B[0m\u001B[0;34m\u001B[0m\u001B[0;34m\u001B[0m\u001B[0m\n",
      "\u001B[0;32m/usr/local/lib/python3.11/dist-packages/keras/src/engine/training.py\u001B[0m in \u001B[0;36mfit\u001B[0;34m(self, x, y, batch_size, epochs, verbose, callbacks, validation_split, validation_data, shuffle, class_weight, sample_weight, initial_epoch, steps_per_epoch, validation_steps, validation_batch_size, validation_freq, max_queue_size, workers, use_multiprocessing)\u001B[0m\n\u001B[1;32m   1854\u001B[0m                             \u001B[0mpss_evaluation_shards\u001B[0m\u001B[0;34m=\u001B[0m\u001B[0mself\u001B[0m\u001B[0;34m.\u001B[0m\u001B[0m_pss_evaluation_shards\u001B[0m\u001B[0;34m,\u001B[0m\u001B[0;34m\u001B[0m\u001B[0;34m\u001B[0m\u001B[0m\n\u001B[1;32m   1855\u001B[0m                         )\n\u001B[0;32m-> 1856\u001B[0;31m                     val_logs = self.evaluate(\n\u001B[0m\u001B[1;32m   1857\u001B[0m                         \u001B[0mx\u001B[0m\u001B[0;34m=\u001B[0m\u001B[0mval_x\u001B[0m\u001B[0;34m,\u001B[0m\u001B[0;34m\u001B[0m\u001B[0;34m\u001B[0m\u001B[0m\n\u001B[1;32m   1858\u001B[0m                         \u001B[0my\u001B[0m\u001B[0;34m=\u001B[0m\u001B[0mval_y\u001B[0m\u001B[0;34m,\u001B[0m\u001B[0;34m\u001B[0m\u001B[0;34m\u001B[0m\u001B[0m\n",
      "\u001B[0;32m/usr/local/lib/python3.11/dist-packages/keras/src/utils/traceback_utils.py\u001B[0m in \u001B[0;36merror_handler\u001B[0;34m(*args, **kwargs)\u001B[0m\n\u001B[1;32m     63\u001B[0m         \u001B[0mfiltered_tb\u001B[0m \u001B[0;34m=\u001B[0m \u001B[0;32mNone\u001B[0m\u001B[0;34m\u001B[0m\u001B[0;34m\u001B[0m\u001B[0m\n\u001B[1;32m     64\u001B[0m         \u001B[0;32mtry\u001B[0m\u001B[0;34m:\u001B[0m\u001B[0;34m\u001B[0m\u001B[0;34m\u001B[0m\u001B[0m\n\u001B[0;32m---> 65\u001B[0;31m             \u001B[0;32mreturn\u001B[0m \u001B[0mfn\u001B[0m\u001B[0;34m(\u001B[0m\u001B[0;34m*\u001B[0m\u001B[0margs\u001B[0m\u001B[0;34m,\u001B[0m \u001B[0;34m**\u001B[0m\u001B[0mkwargs\u001B[0m\u001B[0;34m)\u001B[0m\u001B[0;34m\u001B[0m\u001B[0;34m\u001B[0m\u001B[0m\n\u001B[0m\u001B[1;32m     66\u001B[0m         \u001B[0;32mexcept\u001B[0m \u001B[0mException\u001B[0m \u001B[0;32mas\u001B[0m \u001B[0me\u001B[0m\u001B[0;34m:\u001B[0m\u001B[0;34m\u001B[0m\u001B[0;34m\u001B[0m\u001B[0m\n\u001B[1;32m     67\u001B[0m             \u001B[0mfiltered_tb\u001B[0m \u001B[0;34m=\u001B[0m \u001B[0m_process_traceback_frames\u001B[0m\u001B[0;34m(\u001B[0m\u001B[0me\u001B[0m\u001B[0;34m.\u001B[0m\u001B[0m__traceback__\u001B[0m\u001B[0;34m)\u001B[0m\u001B[0;34m\u001B[0m\u001B[0;34m\u001B[0m\u001B[0m\n",
      "\u001B[0;32m/usr/local/lib/python3.11/dist-packages/keras/src/engine/training.py\u001B[0m in \u001B[0;36mevaluate\u001B[0;34m(self, x, y, batch_size, verbose, sample_weight, steps, callbacks, max_queue_size, workers, use_multiprocessing, return_dict, **kwargs)\u001B[0m\n\u001B[1;32m   2294\u001B[0m                         ):\n\u001B[1;32m   2295\u001B[0m                             \u001B[0mcallbacks\u001B[0m\u001B[0;34m.\u001B[0m\u001B[0mon_test_batch_begin\u001B[0m\u001B[0;34m(\u001B[0m\u001B[0mstep\u001B[0m\u001B[0;34m)\u001B[0m\u001B[0;34m\u001B[0m\u001B[0;34m\u001B[0m\u001B[0m\n\u001B[0;32m-> 2296\u001B[0;31m                             logs = test_function_runner.run_step(\n\u001B[0m\u001B[1;32m   2297\u001B[0m                                 \u001B[0mdataset_or_iterator\u001B[0m\u001B[0;34m,\u001B[0m\u001B[0;34m\u001B[0m\u001B[0;34m\u001B[0m\u001B[0m\n\u001B[1;32m   2298\u001B[0m                                 \u001B[0mdata_handler\u001B[0m\u001B[0;34m,\u001B[0m\u001B[0;34m\u001B[0m\u001B[0;34m\u001B[0m\u001B[0m\n",
      "\u001B[0;32m/usr/local/lib/python3.11/dist-packages/keras/src/engine/training.py\u001B[0m in \u001B[0;36mrun_step\u001B[0;34m(self, dataset_or_iterator, data_handler, step, unused_shards)\u001B[0m\n\u001B[1;32m   4106\u001B[0m \u001B[0;34m\u001B[0m\u001B[0m\n\u001B[1;32m   4107\u001B[0m     \u001B[0;32mdef\u001B[0m \u001B[0mrun_step\u001B[0m\u001B[0;34m(\u001B[0m\u001B[0mself\u001B[0m\u001B[0;34m,\u001B[0m \u001B[0mdataset_or_iterator\u001B[0m\u001B[0;34m,\u001B[0m \u001B[0mdata_handler\u001B[0m\u001B[0;34m,\u001B[0m \u001B[0mstep\u001B[0m\u001B[0;34m,\u001B[0m \u001B[0munused_shards\u001B[0m\u001B[0;34m)\u001B[0m\u001B[0;34m:\u001B[0m\u001B[0;34m\u001B[0m\u001B[0;34m\u001B[0m\u001B[0m\n\u001B[0;32m-> 4108\u001B[0;31m         \u001B[0mtmp_logs\u001B[0m \u001B[0;34m=\u001B[0m \u001B[0mself\u001B[0m\u001B[0;34m.\u001B[0m\u001B[0m_function\u001B[0m\u001B[0;34m(\u001B[0m\u001B[0mdataset_or_iterator\u001B[0m\u001B[0;34m)\u001B[0m\u001B[0;34m\u001B[0m\u001B[0;34m\u001B[0m\u001B[0m\n\u001B[0m\u001B[1;32m   4109\u001B[0m         \u001B[0;32mif\u001B[0m \u001B[0mdata_handler\u001B[0m\u001B[0;34m.\u001B[0m\u001B[0mshould_sync\u001B[0m\u001B[0;34m:\u001B[0m\u001B[0;34m\u001B[0m\u001B[0;34m\u001B[0m\u001B[0m\n\u001B[1;32m   4110\u001B[0m             \u001B[0mcontext\u001B[0m\u001B[0;34m.\u001B[0m\u001B[0masync_wait\u001B[0m\u001B[0;34m(\u001B[0m\u001B[0;34m)\u001B[0m\u001B[0;34m\u001B[0m\u001B[0;34m\u001B[0m\u001B[0m\n",
      "\u001B[0;32m/usr/local/lib/python3.11/dist-packages/tensorflow/python/util/traceback_utils.py\u001B[0m in \u001B[0;36merror_handler\u001B[0;34m(*args, **kwargs)\u001B[0m\n\u001B[1;32m    148\u001B[0m     \u001B[0mfiltered_tb\u001B[0m \u001B[0;34m=\u001B[0m \u001B[0;32mNone\u001B[0m\u001B[0;34m\u001B[0m\u001B[0;34m\u001B[0m\u001B[0m\n\u001B[1;32m    149\u001B[0m     \u001B[0;32mtry\u001B[0m\u001B[0;34m:\u001B[0m\u001B[0;34m\u001B[0m\u001B[0;34m\u001B[0m\u001B[0m\n\u001B[0;32m--> 150\u001B[0;31m       \u001B[0;32mreturn\u001B[0m \u001B[0mfn\u001B[0m\u001B[0;34m(\u001B[0m\u001B[0;34m*\u001B[0m\u001B[0margs\u001B[0m\u001B[0;34m,\u001B[0m \u001B[0;34m**\u001B[0m\u001B[0mkwargs\u001B[0m\u001B[0;34m)\u001B[0m\u001B[0;34m\u001B[0m\u001B[0;34m\u001B[0m\u001B[0m\n\u001B[0m\u001B[1;32m    151\u001B[0m     \u001B[0;32mexcept\u001B[0m \u001B[0mException\u001B[0m \u001B[0;32mas\u001B[0m \u001B[0me\u001B[0m\u001B[0;34m:\u001B[0m\u001B[0;34m\u001B[0m\u001B[0;34m\u001B[0m\u001B[0m\n\u001B[1;32m    152\u001B[0m       \u001B[0mfiltered_tb\u001B[0m \u001B[0;34m=\u001B[0m \u001B[0m_process_traceback_frames\u001B[0m\u001B[0;34m(\u001B[0m\u001B[0me\u001B[0m\u001B[0;34m.\u001B[0m\u001B[0m__traceback__\u001B[0m\u001B[0;34m)\u001B[0m\u001B[0;34m\u001B[0m\u001B[0;34m\u001B[0m\u001B[0m\n",
      "\u001B[0;32m/usr/local/lib/python3.11/dist-packages/tensorflow/python/eager/polymorphic_function/polymorphic_function.py\u001B[0m in \u001B[0;36m__call__\u001B[0;34m(self, *args, **kwds)\u001B[0m\n\u001B[1;32m    830\u001B[0m \u001B[0;34m\u001B[0m\u001B[0m\n\u001B[1;32m    831\u001B[0m       \u001B[0;32mwith\u001B[0m \u001B[0mOptionalXlaContext\u001B[0m\u001B[0;34m(\u001B[0m\u001B[0mself\u001B[0m\u001B[0;34m.\u001B[0m\u001B[0m_jit_compile\u001B[0m\u001B[0;34m)\u001B[0m\u001B[0;34m:\u001B[0m\u001B[0;34m\u001B[0m\u001B[0;34m\u001B[0m\u001B[0m\n\u001B[0;32m--> 832\u001B[0;31m         \u001B[0mresult\u001B[0m \u001B[0;34m=\u001B[0m \u001B[0mself\u001B[0m\u001B[0;34m.\u001B[0m\u001B[0m_call\u001B[0m\u001B[0;34m(\u001B[0m\u001B[0;34m*\u001B[0m\u001B[0margs\u001B[0m\u001B[0;34m,\u001B[0m \u001B[0;34m**\u001B[0m\u001B[0mkwds\u001B[0m\u001B[0;34m)\u001B[0m\u001B[0;34m\u001B[0m\u001B[0;34m\u001B[0m\u001B[0m\n\u001B[0m\u001B[1;32m    833\u001B[0m \u001B[0;34m\u001B[0m\u001B[0m\n\u001B[1;32m    834\u001B[0m       \u001B[0mnew_tracing_count\u001B[0m \u001B[0;34m=\u001B[0m \u001B[0mself\u001B[0m\u001B[0;34m.\u001B[0m\u001B[0mexperimental_get_tracing_count\u001B[0m\u001B[0;34m(\u001B[0m\u001B[0;34m)\u001B[0m\u001B[0;34m\u001B[0m\u001B[0;34m\u001B[0m\u001B[0m\n",
      "\u001B[0;32m/usr/local/lib/python3.11/dist-packages/tensorflow/python/eager/polymorphic_function/polymorphic_function.py\u001B[0m in \u001B[0;36m_call\u001B[0;34m(self, *args, **kwds)\u001B[0m\n\u001B[1;32m    875\u001B[0m       \u001B[0;31m# In this case we have not created variables on the first call. So we can\u001B[0m\u001B[0;34m\u001B[0m\u001B[0;34m\u001B[0m\u001B[0m\n\u001B[1;32m    876\u001B[0m       \u001B[0;31m# run the first trace but we should fail if variables are created.\u001B[0m\u001B[0;34m\u001B[0m\u001B[0;34m\u001B[0m\u001B[0m\n\u001B[0;32m--> 877\u001B[0;31m       results = tracing_compilation.call_function(\n\u001B[0m\u001B[1;32m    878\u001B[0m           \u001B[0margs\u001B[0m\u001B[0;34m,\u001B[0m \u001B[0mkwds\u001B[0m\u001B[0;34m,\u001B[0m \u001B[0mself\u001B[0m\u001B[0;34m.\u001B[0m\u001B[0m_variable_creation_config\u001B[0m\u001B[0;34m\u001B[0m\u001B[0;34m\u001B[0m\u001B[0m\n\u001B[1;32m    879\u001B[0m       )\n",
      "\u001B[0;32m/usr/local/lib/python3.11/dist-packages/tensorflow/python/eager/polymorphic_function/tracing_compilation.py\u001B[0m in \u001B[0;36mcall_function\u001B[0;34m(args, kwargs, tracing_options)\u001B[0m\n\u001B[1;32m    137\u001B[0m   \u001B[0mbound_args\u001B[0m \u001B[0;34m=\u001B[0m \u001B[0mfunction\u001B[0m\u001B[0;34m.\u001B[0m\u001B[0mfunction_type\u001B[0m\u001B[0;34m.\u001B[0m\u001B[0mbind\u001B[0m\u001B[0;34m(\u001B[0m\u001B[0;34m*\u001B[0m\u001B[0margs\u001B[0m\u001B[0;34m,\u001B[0m \u001B[0;34m**\u001B[0m\u001B[0mkwargs\u001B[0m\u001B[0;34m)\u001B[0m\u001B[0;34m\u001B[0m\u001B[0;34m\u001B[0m\u001B[0m\n\u001B[1;32m    138\u001B[0m   \u001B[0mflat_inputs\u001B[0m \u001B[0;34m=\u001B[0m \u001B[0mfunction\u001B[0m\u001B[0;34m.\u001B[0m\u001B[0mfunction_type\u001B[0m\u001B[0;34m.\u001B[0m\u001B[0munpack_inputs\u001B[0m\u001B[0;34m(\u001B[0m\u001B[0mbound_args\u001B[0m\u001B[0;34m)\u001B[0m\u001B[0;34m\u001B[0m\u001B[0;34m\u001B[0m\u001B[0m\n\u001B[0;32m--> 139\u001B[0;31m   return function._call_flat(  # pylint: disable=protected-access\n\u001B[0m\u001B[1;32m    140\u001B[0m       \u001B[0mflat_inputs\u001B[0m\u001B[0;34m,\u001B[0m \u001B[0mcaptured_inputs\u001B[0m\u001B[0;34m=\u001B[0m\u001B[0mfunction\u001B[0m\u001B[0;34m.\u001B[0m\u001B[0mcaptured_inputs\u001B[0m\u001B[0;34m\u001B[0m\u001B[0;34m\u001B[0m\u001B[0m\n\u001B[1;32m    141\u001B[0m   )\n",
      "\u001B[0;32m/usr/local/lib/python3.11/dist-packages/tensorflow/python/eager/polymorphic_function/concrete_function.py\u001B[0m in \u001B[0;36m_call_flat\u001B[0;34m(self, tensor_inputs, captured_inputs)\u001B[0m\n\u001B[1;32m   1321\u001B[0m         and executing_eagerly):\n\u001B[1;32m   1322\u001B[0m       \u001B[0;31m# No tape is watching; skip to running the function.\u001B[0m\u001B[0;34m\u001B[0m\u001B[0;34m\u001B[0m\u001B[0m\n\u001B[0;32m-> 1323\u001B[0;31m       \u001B[0;32mreturn\u001B[0m \u001B[0mself\u001B[0m\u001B[0;34m.\u001B[0m\u001B[0m_inference_function\u001B[0m\u001B[0;34m.\u001B[0m\u001B[0mcall_preflattened\u001B[0m\u001B[0;34m(\u001B[0m\u001B[0margs\u001B[0m\u001B[0;34m)\u001B[0m\u001B[0;34m\u001B[0m\u001B[0;34m\u001B[0m\u001B[0m\n\u001B[0m\u001B[1;32m   1324\u001B[0m     forward_backward = self._select_forward_and_backward_functions(\n\u001B[1;32m   1325\u001B[0m         \u001B[0margs\u001B[0m\u001B[0;34m,\u001B[0m\u001B[0;34m\u001B[0m\u001B[0;34m\u001B[0m\u001B[0m\n",
      "\u001B[0;32m/usr/local/lib/python3.11/dist-packages/tensorflow/python/eager/polymorphic_function/atomic_function.py\u001B[0m in \u001B[0;36mcall_preflattened\u001B[0;34m(self, args)\u001B[0m\n\u001B[1;32m    214\u001B[0m   \u001B[0;32mdef\u001B[0m \u001B[0mcall_preflattened\u001B[0m\u001B[0;34m(\u001B[0m\u001B[0mself\u001B[0m\u001B[0;34m,\u001B[0m \u001B[0margs\u001B[0m\u001B[0;34m:\u001B[0m \u001B[0mSequence\u001B[0m\u001B[0;34m[\u001B[0m\u001B[0mcore\u001B[0m\u001B[0;34m.\u001B[0m\u001B[0mTensor\u001B[0m\u001B[0;34m]\u001B[0m\u001B[0;34m)\u001B[0m \u001B[0;34m->\u001B[0m \u001B[0mAny\u001B[0m\u001B[0;34m:\u001B[0m\u001B[0;34m\u001B[0m\u001B[0;34m\u001B[0m\u001B[0m\n\u001B[1;32m    215\u001B[0m     \u001B[0;34m\"\"\"Calls with flattened tensor inputs and returns the structured output.\"\"\"\u001B[0m\u001B[0;34m\u001B[0m\u001B[0;34m\u001B[0m\u001B[0m\n\u001B[0;32m--> 216\u001B[0;31m     \u001B[0mflat_outputs\u001B[0m \u001B[0;34m=\u001B[0m \u001B[0mself\u001B[0m\u001B[0;34m.\u001B[0m\u001B[0mcall_flat\u001B[0m\u001B[0;34m(\u001B[0m\u001B[0;34m*\u001B[0m\u001B[0margs\u001B[0m\u001B[0;34m)\u001B[0m\u001B[0;34m\u001B[0m\u001B[0;34m\u001B[0m\u001B[0m\n\u001B[0m\u001B[1;32m    217\u001B[0m     \u001B[0;32mreturn\u001B[0m \u001B[0mself\u001B[0m\u001B[0;34m.\u001B[0m\u001B[0mfunction_type\u001B[0m\u001B[0;34m.\u001B[0m\u001B[0mpack_output\u001B[0m\u001B[0;34m(\u001B[0m\u001B[0mflat_outputs\u001B[0m\u001B[0;34m)\u001B[0m\u001B[0;34m\u001B[0m\u001B[0;34m\u001B[0m\u001B[0m\n\u001B[1;32m    218\u001B[0m \u001B[0;34m\u001B[0m\u001B[0m\n",
      "\u001B[0;32m/usr/local/lib/python3.11/dist-packages/tensorflow/python/eager/polymorphic_function/atomic_function.py\u001B[0m in \u001B[0;36mcall_flat\u001B[0;34m(self, *args)\u001B[0m\n\u001B[1;32m    249\u001B[0m         \u001B[0;32mwith\u001B[0m \u001B[0mrecord\u001B[0m\u001B[0;34m.\u001B[0m\u001B[0mstop_recording\u001B[0m\u001B[0;34m(\u001B[0m\u001B[0;34m)\u001B[0m\u001B[0;34m:\u001B[0m\u001B[0;34m\u001B[0m\u001B[0;34m\u001B[0m\u001B[0m\n\u001B[1;32m    250\u001B[0m           \u001B[0;32mif\u001B[0m \u001B[0mself\u001B[0m\u001B[0;34m.\u001B[0m\u001B[0m_bound_context\u001B[0m\u001B[0;34m.\u001B[0m\u001B[0mexecuting_eagerly\u001B[0m\u001B[0;34m(\u001B[0m\u001B[0;34m)\u001B[0m\u001B[0;34m:\u001B[0m\u001B[0;34m\u001B[0m\u001B[0;34m\u001B[0m\u001B[0m\n\u001B[0;32m--> 251\u001B[0;31m             outputs = self._bound_context.call_function(\n\u001B[0m\u001B[1;32m    252\u001B[0m                 \u001B[0mself\u001B[0m\u001B[0;34m.\u001B[0m\u001B[0mname\u001B[0m\u001B[0;34m,\u001B[0m\u001B[0;34m\u001B[0m\u001B[0;34m\u001B[0m\u001B[0m\n\u001B[1;32m    253\u001B[0m                 \u001B[0mlist\u001B[0m\u001B[0;34m(\u001B[0m\u001B[0margs\u001B[0m\u001B[0;34m)\u001B[0m\u001B[0;34m,\u001B[0m\u001B[0;34m\u001B[0m\u001B[0;34m\u001B[0m\u001B[0m\n",
      "\u001B[0;32m/usr/local/lib/python3.11/dist-packages/tensorflow/python/eager/context.py\u001B[0m in \u001B[0;36mcall_function\u001B[0;34m(self, name, tensor_inputs, num_outputs)\u001B[0m\n\u001B[1;32m   1484\u001B[0m     \u001B[0mcancellation_context\u001B[0m \u001B[0;34m=\u001B[0m \u001B[0mcancellation\u001B[0m\u001B[0;34m.\u001B[0m\u001B[0mcontext\u001B[0m\u001B[0;34m(\u001B[0m\u001B[0;34m)\u001B[0m\u001B[0;34m\u001B[0m\u001B[0;34m\u001B[0m\u001B[0m\n\u001B[1;32m   1485\u001B[0m     \u001B[0;32mif\u001B[0m \u001B[0mcancellation_context\u001B[0m \u001B[0;32mis\u001B[0m \u001B[0;32mNone\u001B[0m\u001B[0;34m:\u001B[0m\u001B[0;34m\u001B[0m\u001B[0;34m\u001B[0m\u001B[0m\n\u001B[0;32m-> 1486\u001B[0;31m       outputs = execute.execute(\n\u001B[0m\u001B[1;32m   1487\u001B[0m           \u001B[0mname\u001B[0m\u001B[0;34m.\u001B[0m\u001B[0mdecode\u001B[0m\u001B[0;34m(\u001B[0m\u001B[0;34m\"utf-8\"\u001B[0m\u001B[0;34m)\u001B[0m\u001B[0;34m,\u001B[0m\u001B[0;34m\u001B[0m\u001B[0;34m\u001B[0m\u001B[0m\n\u001B[1;32m   1488\u001B[0m           \u001B[0mnum_outputs\u001B[0m\u001B[0;34m=\u001B[0m\u001B[0mnum_outputs\u001B[0m\u001B[0;34m,\u001B[0m\u001B[0;34m\u001B[0m\u001B[0;34m\u001B[0m\u001B[0m\n",
      "\u001B[0;32m/usr/local/lib/python3.11/dist-packages/tensorflow/python/eager/execute.py\u001B[0m in \u001B[0;36mquick_execute\u001B[0;34m(op_name, num_outputs, inputs, attrs, ctx, name)\u001B[0m\n\u001B[1;32m     51\u001B[0m   \u001B[0;32mtry\u001B[0m\u001B[0;34m:\u001B[0m\u001B[0;34m\u001B[0m\u001B[0;34m\u001B[0m\u001B[0m\n\u001B[1;32m     52\u001B[0m     \u001B[0mctx\u001B[0m\u001B[0;34m.\u001B[0m\u001B[0mensure_initialized\u001B[0m\u001B[0;34m(\u001B[0m\u001B[0;34m)\u001B[0m\u001B[0;34m\u001B[0m\u001B[0;34m\u001B[0m\u001B[0m\n\u001B[0;32m---> 53\u001B[0;31m     tensors = pywrap_tfe.TFE_Py_Execute(ctx._handle, device_name, op_name,\n\u001B[0m\u001B[1;32m     54\u001B[0m                                         inputs, attrs, num_outputs)\n\u001B[1;32m     55\u001B[0m   \u001B[0;32mexcept\u001B[0m \u001B[0mcore\u001B[0m\u001B[0;34m.\u001B[0m\u001B[0m_NotOkStatusException\u001B[0m \u001B[0;32mas\u001B[0m \u001B[0me\u001B[0m\u001B[0;34m:\u001B[0m\u001B[0;34m\u001B[0m\u001B[0;34m\u001B[0m\u001B[0m\n",
      "\u001B[0;31mKeyboardInterrupt\u001B[0m: "
     ]
    }
   ],
   "execution_count": 23
  },
  {
   "metadata": {
    "ExecuteTime": {
     "end_time": "2025-05-06T08:41:38.525150985Z",
     "start_time": "2025-05-06T06:58:48.886780Z"
    }
   },
   "cell_type": "code",
   "source": "model.save('model.keras')",
   "id": "fe2d5103ffa34ce5",
   "outputs": [],
   "execution_count": 52
  },
  {
   "metadata": {
    "ExecuteTime": {
     "end_time": "2025-05-06T08:41:38.553733626Z",
     "start_time": "2025-05-06T07:08:29.087735Z"
    }
   },
   "cell_type": "code",
   "source": [
    "def plot_and_save(metric_name, history, ylabel, filename):\n",
    "    plt.figure()\n",
    "    plt.plot(history.history[metric_name], label=f'Train {ylabel}')\n",
    "    if f'val_{metric_name}' in history.history:\n",
    "        plt.plot(history.history[f'val_{metric_name}'], label=f'Val {ylabel}')\n",
    "    plt.title(f'{ylabel} over Epochs')\n",
    "    plt.xlabel('Epochs')\n",
    "    plt.ylabel(ylabel)\n",
    "    plt.legend()\n",
    "    plt.grid(True)\n",
    "    plt.savefig(filename)\n",
    "    plt.close()"
   ],
   "id": "26e49659f6655a6d",
   "outputs": [],
   "execution_count": 53
  },
  {
   "metadata": {
    "ExecuteTime": {
     "end_time": "2025-05-06T08:41:38.554950205Z",
     "start_time": "2025-05-06T07:09:02.955540Z"
    }
   },
   "cell_type": "code",
   "source": [
    "plot_and_save('loss', history, 'Loss', 'loss_plot.png')\n",
    "plot_and_save('image_class_loss', history, 'Image Classification Loss', 'image_class_loss_plot.png')\n",
    "plot_and_save('audio_class_loss', history, 'Audio Classification Loss', 'audio_class_loss_plot.png')\n",
    "plot_and_save('image_class_accuracy', history, 'Image Classification Accuracy', 'image_class_accuracy_plot.png')\n",
    "plot_and_save('audio_class_accuracy', history, 'Audio Classification Accuracy', 'audio_class_accuracy_plot.png')"
   ],
   "id": "1e3ae21d2ad339d8",
   "outputs": [],
   "execution_count": 54
  },
  {
   "metadata": {},
   "cell_type": "code",
   "outputs": [],
   "execution_count": null,
   "source": "",
   "id": "3d43253be9f3ffe4"
  }
 ],
 "metadata": {
  "kernelspec": {
   "display_name": "Python 3",
   "language": "python",
   "name": "python3"
  },
  "language_info": {
   "codemirror_mode": {
    "name": "ipython",
    "version": 2
   },
   "file_extension": ".py",
   "mimetype": "text/x-python",
   "name": "python",
   "nbconvert_exporter": "python",
   "pygments_lexer": "ipython2",
   "version": "2.7.6"
  }
 },
 "nbformat": 4,
 "nbformat_minor": 5
}
