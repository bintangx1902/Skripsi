{
 "cells": [
  {
   "cell_type": "code",
   "id": "initial_id",
   "metadata": {
    "collapsed": true,
    "ExecuteTime": {
     "end_time": "2025-05-30T14:09:10.650388Z",
     "start_time": "2025-05-30T14:09:07.405737Z"
    }
   },
   "source": [
    "import seaborn as sns\n",
    "import gc\n",
    "\n",
    "from shared.utils import *\n",
    "from shared.local_path import *\n",
    "\n",
    "from matplotlib import pyplot as plt\n",
    "from sklearn.preprocessing import LabelEncoder\n",
    "from sklearn.model_selection import train_test_split\n",
    "from sklearn.metrics import classification_report, confusion_matrix"
   ],
   "outputs": [],
   "execution_count": 1
  },
  {
   "metadata": {},
   "cell_type": "markdown",
   "source": [
    "# Data Preprocessing\n",
    "## Read Audio Data"
   ],
   "id": "4129cc45fc997124"
  },
  {
   "metadata": {},
   "cell_type": "code",
   "outputs": [],
   "execution_count": null,
   "source": [
    "label = []\n",
    "filepath = []\n",
    "\n",
    "for classes in os.listdir(AUDIO_PATH):\n",
    "    for file in os.listdir(os.path.join(AUDIO_PATH, classes)):\n",
    "        file_path = os.path.join(AUDIO_PATH, classes, file)\n",
    "\n",
    "        filepath.append(file_path)\n",
    "        label.append(classes)\n",
    "\n",
    "audio = pd.DataFrame({\n",
    "    'filepath': filepath,\n",
    "    'label': label,\n",
    "})\n",
    "\n",
    "del filepath, label\n",
    "\n",
    "audio.head()"
   ],
   "id": "8a4bb54b508e58e"
  },
  {
   "metadata": {},
   "cell_type": "code",
   "outputs": [],
   "execution_count": null,
   "source": [
    "le = LabelEncoder()\n",
    "le.fit(audio['label'])\n",
    "audio['label_encoded'] = le.transform(audio['label'])\n",
    "num_classes = len(le.classes_)"
   ],
   "id": "db95fb32b541a55c"
  },
  {
   "metadata": {},
   "cell_type": "markdown",
   "source": "## Read Image Data",
   "id": "e635f603e4ad24b7"
  },
  {
   "metadata": {},
   "cell_type": "code",
   "outputs": [],
   "execution_count": null,
   "source": [
    "filepath = []\n",
    "label = []\n",
    "\n",
    "i = 0\n",
    "for classes in os.listdir(TRAIN_IMAGE_PATH):\n",
    "    for file in os.listdir(os.path.join(TRAIN_IMAGE_PATH, classes)):\n",
    "        path = os.path.join(TRAIN_IMAGE_PATH, classes, file)\n",
    "        filepath.append(path)\n",
    "        label.append(classes)\n",
    "\n",
    "train_df = pd.DataFrame({\n",
    "    'filepath': filepath,\n",
    "    'label': label\n",
    "})\n",
    "\n",
    "del filepath, label\n",
    "\n",
    "print(train_df.shape)\n",
    "print(train_df['label'].unique())\n",
    "train_df.head()"
   ],
   "id": "7a36b54c279eb481"
  },
  {
   "metadata": {},
   "cell_type": "code",
   "outputs": [],
   "execution_count": null,
   "source": [
    "filepath = []\n",
    "label = []\n",
    "\n",
    "i = 0\n",
    "for classes in os.listdir(TEST_IMAGE_PATH):\n",
    "    for file in os.listdir(os.path.join(TEST_IMAGE_PATH, classes)):\n",
    "        path = os.path.join(TEST_IMAGE_PATH, classes, file)\n",
    "        filepath.append(path)\n",
    "        label.append(classes)\n",
    "\n",
    "img_test_df = pd.DataFrame({\n",
    "    'filepath': filepath,\n",
    "    'label': label\n",
    "})\n",
    "\n",
    "del filepath, label\n",
    "\n",
    "print(img_test_df.shape)\n",
    "print(img_test_df['label'].unique())\n",
    "img_test_df.head()"
   ],
   "id": "1616b4cf3c49c9e5"
  },
  {
   "metadata": {},
   "cell_type": "code",
   "outputs": [],
   "execution_count": null,
   "source": [
    "le = LabelEncoder()\n",
    "le.fit(train_df['label'])\n",
    "train_df['label_encoded'] = le.transform(train_df['label'])\n",
    "img_test_df['label_encoded'] = le.transform(img_test_df['label'])"
   ],
   "id": "5a09d9945527f4d5"
  },
  {
   "metadata": {},
   "cell_type": "markdown",
   "source": "## transform the filepath into image data",
   "id": "87d59b52c5ab5798"
  },
  {
   "metadata": {},
   "cell_type": "code",
   "outputs": [],
   "execution_count": null,
   "source": [
    "with tf.device('/GPU:0'):\n",
    "    audio['data'] = audio.filepath.apply(preprocess_audio)\n",
    "    \n",
    "tf.keras.backend.clear_session()\n",
    "gc.collect()\n",
    "\n",
    "with tf.device('/GPU:0'):\n",
    "    train_df['data'] = train_df['filepath'].apply(\n",
    "        lambda x: preprocess_image(x, (100, 100), preprocess_function=tf.keras.applications.vgg19.preprocess_input, augment=True))\n",
    "    img_test_df['data'] = img_test_df['filepath'].apply(\n",
    "        lambda x: preprocess_image(x, (100, 100), preprocess_function=tf.keras.applications.vgg19.preprocess_input)\n",
    "    )\n",
    "    "
   ],
   "id": "16c76d39e913bc78"
  },
  {
   "metadata": {},
   "cell_type": "markdown",
   "source": "## Split and Shuffle Dataset into train, val, and test",
   "id": "f2af6a9b6dafb65a"
  },
  {
   "metadata": {},
   "cell_type": "code",
   "outputs": [],
   "execution_count": null,
   "source": [
    "# Audio Data\n",
    "audio = audio.sample(frac=1).reset_index(drop=True)\n",
    "_, aud_temp = train_test_split(audio, test_size=0.5, random_state=42)\n",
    "aud_val_df, aud_test_df = train_test_split(aud_temp, test_size=.5, random_state=42)\n",
    "\n",
    "# Image Data\n",
    "train_df = train_df.sample(frac=1).reset_index(drop=True)\n",
    "_, img_val_df = train_test_split(train_df, test_size=.2, random_state=100, shuffle=True)\n",
    "\n",
    "del aud_temp, _"
   ],
   "id": "6b3fbb8e6e5c9723"
  },
  {
   "metadata": {},
   "cell_type": "markdown",
   "source": "## Downsampling with following least dataset amount",
   "id": "da33c545d7029664"
  },
  {
   "metadata": {},
   "cell_type": "code",
   "outputs": [],
   "execution_count": null,
   "source": [
    "train_df, audio = downsample_df(train_df, audio)\n",
    "img_val_df, aud_val_df = downsample_df(img_val_df, aud_val_df)\n",
    "img_test_df, aud_test_df = downsample_df(img_test_df, aud_test_df)"
   ],
   "id": "ecb3ea58de11dc0f"
  },
  {
   "metadata": {},
   "cell_type": "code",
   "outputs": [],
   "execution_count": null,
   "source": [
    "print(len(train_df))\n",
    "print(len(img_val_df))\n",
    "print(len(img_test_df))\n",
    "\n",
    "print(\"===============================\")\n",
    "\n",
    "print(len(audio))\n",
    "print(len(aud_val_df))\n",
    "print(len(aud_test_df))"
   ],
   "id": "b18800aaf15ea0dd"
  },
  {
   "metadata": {},
   "cell_type": "markdown",
   "source": "## Convert to Numpy",
   "id": "1ee9b5fac4b77ec2"
  },
  {
   "metadata": {},
   "cell_type": "code",
   "outputs": [],
   "execution_count": null,
   "source": [
    "# Audio Data\n",
    "x_audio_train = np.stack(audio['data'].values)\n",
    "y_audio_train = np.array(audio['label_encoded'].values)\n",
    "\n",
    "x_audio_val = np.stack(aud_val_df['data'].values)\n",
    "y_audio_val = np.array(aud_val_df['label_encoded'].values)\n",
    "\n",
    "x_audio_test = np.stack(aud_test_df['data'].values)\n",
    "y_audio_test = np.array(aud_test_df['label_encoded'].values)\n"
   ],
   "id": "61ee5aaa55c1031f"
  },
  {
   "metadata": {},
   "cell_type": "code",
   "outputs": [],
   "execution_count": null,
   "source": [
    "x_img_train = np.stack(train_df['data'].values)\n",
    "y_img_train = np.array(train_df['label_encoded'].values)\n",
    "\n",
    "x_img_val = np.stack(img_val_df['data'].values)\n",
    "y_img_val = np.array(img_val_df['label_encoded'].values)\n",
    "\n",
    "x_img_test = np.stack(img_test_df['data'].values)\n",
    "y_img_test = np.array(img_test_df['label_encoded'].values)\n",
    "\n",
    "del train_df, audio, img_val_df, img_test_df, aud_val_df, aud_test_df"
   ],
   "id": "815091851f2e409"
  },
  {
   "metadata": {},
   "cell_type": "markdown",
   "source": [
    "# Modeling\n",
    "## Creating Model"
   ],
   "id": "a940310650ce14b5"
  },
  {
   "metadata": {
    "ExecuteTime": {
     "end_time": "2025-05-30T14:09:10.666507Z",
     "start_time": "2025-05-30T14:09:10.658390Z"
    }
   },
   "cell_type": "code",
   "source": [
    "def create_base_model(inputs: tf.keras.layers.Input, instance_name: str, freeze_layer=False, pooling: str=None) -> tf.keras.Model:\n",
    "    base = tf.keras.applications.VGG19(\n",
    "        include_top=False,\n",
    "        weights='imagenet',\n",
    "        input_tensor=inputs,\n",
    "        pooling=pooling\n",
    "    )\n",
    "    \n",
    "    if freeze_layer:\n",
    "        for layer in base.layers:\n",
    "            layer.trainable = False\n",
    "            \n",
    "    outputs = base(inputs)\n",
    "    return tf.keras.Model(base.inputs, outputs, name=f\"vgg19_{instance_name}\")"
   ],
   "id": "54f00883e30960f3",
   "outputs": [],
   "execution_count": 2
  },
  {
   "metadata": {},
   "cell_type": "markdown",
   "source": "### Image Layer",
   "id": "af5264235f7adf2a"
  },
  {
   "metadata": {
    "ExecuteTime": {
     "end_time": "2025-05-30T14:12:50.366134Z",
     "start_time": "2025-05-30T14:12:48.685464Z"
    }
   },
   "cell_type": "code",
   "outputs": [],
   "execution_count": 3,
   "source": [
    "input_image = tf.keras.layers.Input(shape=(100, 100, 3), name='input_image')\n",
    "image_base = create_base_model(input_image, 'image_base', freeze_layer=True, pooling=\"max\")\n",
    "left = image_base(input_image)"
   ],
   "id": "cc46a23f7002d3b6"
  },
  {
   "metadata": {},
   "cell_type": "markdown",
   "source": "### Audio Layer",
   "id": "ee37e2bfdcc8e28f"
  },
  {
   "metadata": {
    "ExecuteTime": {
     "end_time": "2025-05-30T14:12:50.652555Z",
     "start_time": "2025-05-30T14:12:50.382747Z"
    }
   },
   "cell_type": "code",
   "source": [
    "input_audio = tf.keras.layers.Input(shape=(128, 110, 3), name='input_audio')\n",
    "audio_base = create_base_model(input_audio, 'audio_base', freeze_layer=True, pooling=\"max\")\n",
    "right = audio_base(input_audio)"
   ],
   "id": "1fa1a64e0ec70646",
   "outputs": [],
   "execution_count": 4
  },
  {
   "metadata": {},
   "cell_type": "markdown",
   "source": "### Concatenate",
   "id": "954dfe544a60c85f"
  },
  {
   "metadata": {
    "ExecuteTime": {
     "end_time": "2025-05-30T14:12:50.716467Z",
     "start_time": "2025-05-30T14:12:50.669560Z"
    }
   },
   "cell_type": "code",
   "source": [
    "feature = tf.keras.layers.Concatenate()([left, right])\n",
    "fc1 = tf.keras.layers.Dense(512, activation='relu')(feature)\n",
    "fc2 = tf.keras.layers.Dense(512, activation='relu')(fc1)\n",
    "\n",
    "out1 = tf.keras.layers.Dense(7, activation='softmax', name='image_class')(fc2)\n",
    "out2 = tf.keras.layers.Dense(8, activation='softmax', name='audio_class')(fc2)"
   ],
   "id": "9c435c880d1afc3",
   "outputs": [],
   "execution_count": 5
  },
  {
   "metadata": {
    "ExecuteTime": {
     "end_time": "2025-05-30T14:12:51.883588Z",
     "start_time": "2025-05-30T14:12:51.335326Z"
    }
   },
   "cell_type": "code",
   "source": [
    "model = tf.keras.models.Model(inputs=[input_image, input_audio], outputs=[out1, out2])  \n",
    "plot_model(model, show_shapes=True, show_layer_names=True)"
   ],
   "id": "70828aa26ea3c8fd",
   "outputs": [
    {
     "data": {
      "image/png": "[encoded data removed]",
      "text/plain": [
       "<IPython.core.display.Image object>"
      ]
     },
     "execution_count": 6,
     "metadata": {},
     "output_type": "execute_result"
    }
   ],
   "execution_count": 6
  },
  {
   "metadata": {},
   "cell_type": "code",
   "outputs": [],
   "execution_count": null,
   "source": [
    "model.compile(\n",
    "    optimizer=tf.keras.optimizers.Adamax(learning_rate=1e-3),\n",
    "    loss={\n",
    "        'image_class': tf.keras.losses.SparseCategoricalCrossentropy(),\n",
    "        'audio_class': tf.keras.losses.SparseCategoricalCrossentropy()\n",
    "    },\n",
    "    metrics={\n",
    "        'image_class': 'accuracy',\n",
    "        'audio_class': 'accuracy'\n",
    "    }\n",
    ")"
   ],
   "id": "c83b00ffef3d68f5"
  },
  {
   "metadata": {},
   "cell_type": "code",
   "outputs": [],
   "execution_count": null,
   "source": [
    "tf.keras.backend.clear_session()\n",
    "gc.collect()"
   ],
   "id": "51091627c06e4457"
  },
  {
   "metadata": {},
   "cell_type": "code",
   "outputs": [],
   "execution_count": null,
   "source": [
    "early = tf.keras.callbacks.EarlyStopping(\n",
    "    monitor='val_loss',\n",
    "    restore_best_weights=True,\n",
    "    mode='min',\n",
    "    # start_from_epoch=2,\n",
    "    patience=5\n",
    ")\n",
    "\n",
    "checkpoint = tf.keras.callbacks.ModelCheckpoint(\n",
    "    filepath=os.path.join('model', 'best_model.keras'),\n",
    "    verbose=2,\n",
    "    save_best_only=True,\n",
    "    monitor='val_loss',\n",
    "    mode='min'\n",
    ")\n",
    "\n",
    "lr_scheduler = tf.keras.callbacks.ReduceLROnPlateau(monitor='val_loss',\n",
    "                                                    factor=0.2,\n",
    "                                                    min_lr=1e-6,\n",
    "                                                    patience=3,\n",
    "                                                    mode='min'\n",
    "                                                    )"
   ],
   "id": "29054299209a69bf"
  },
  {
   "metadata": {},
   "cell_type": "markdown",
   "source": "## Train the model",
   "id": "b986f5c42e3a69b0"
  },
  {
   "metadata": {},
   "cell_type": "code",
   "outputs": [],
   "execution_count": null,
   "source": [
    "history = model.fit(\n",
    "    x=[x_img_train, x_audio_train],\n",
    "    y=[y_img_train, y_audio_train],\n",
    "    validation_data=(\n",
    "        [x_img_val, x_audio_val],\n",
    "        [y_img_val, y_audio_val]\n",
    "    ),\n",
    "    callbacks=[lr_scheduler],\n",
    "    epochs=100,\n",
    "    batch_size=BATCH_SIZE,\n",
    "    steps_per_epoch=len(x_img_train) // BATCH_SIZE,\n",
    "    validation_steps=len(x_img_val) // BATCH_SIZE,\n",
    ")\n"
   ],
   "id": "d5c3308f4a766fd9"
  },
  {
   "metadata": {},
   "cell_type": "markdown",
   "source": "## Plot the model training result",
   "id": "5045fc039c279cf3"
  },
  {
   "metadata": {},
   "cell_type": "code",
   "outputs": [],
   "execution_count": null,
   "source": [
    "def plot_and_save(metric_name, history, ylabel, filename):\n",
    "    plt.figure()\n",
    "    plt.plot(history.history[metric_name], label=f'Train {ylabel}')\n",
    "    if f'val_{metric_name}' in history.history:\n",
    "        plt.plot(history.history[f'val_{metric_name}'], label=f'Val {ylabel}')\n",
    "    plt.title(f'{ylabel} over Epochs')\n",
    "    plt.xlabel('Epochs')\n",
    "    plt.ylabel(ylabel)\n",
    "    plt.legend()\n",
    "    plt.grid(True)\n",
    "    plt.savefig(filename)\n",
    "    plt.close()"
   ],
   "id": "9b3fb296750444c1"
  },
  {
   "metadata": {},
   "cell_type": "code",
   "outputs": [],
   "execution_count": null,
   "source": [
    "plot_and_save('loss', history, 'Loss', 'loss_plot.png')\n",
    "plot_and_save('image_class_loss', history, 'Image Classification Loss', 'image_class_loss_plot.png')\n",
    "plot_and_save('audio_class_loss', history, 'Audio Classification Loss', 'audio_class_loss_plot.png')\n",
    "plot_and_save('image_class_accuracy', history, 'Image Classification Accuracy', 'image_class_accuracy_plot.png')\n",
    "plot_and_save('audio_class_accuracy', history, 'Audio Classification Accuracy', 'audio_class_accuracy_plot.png')"
   ],
   "id": "e89d93e4a0f95b75"
  },
  {
   "metadata": {},
   "cell_type": "markdown",
   "source": [
    "# Evaluation\n",
    "## Using model.evaluate"
   ],
   "id": "8ef3e48ebc72ad8"
  },
  {
   "metadata": {},
   "cell_type": "code",
   "outputs": [],
   "execution_count": null,
   "source": [
    "model.evaluate([x_img_val, x_audio_val], [y_img_val, y_audio_val], batch_size=BATCH_SIZE, verbose=2,\n",
    "               steps=len(x_img_val) // BATCH_SIZE)"
   ],
   "id": "b0c948b0f6bc55e4"
  },
  {
   "metadata": {},
   "cell_type": "code",
   "outputs": [],
   "execution_count": null,
   "source": [
    "model.evaluate([x_img_test, x_audio_test], [y_img_test, y_audio_test], batch_size=BATCH_SIZE, verbose=2,\n",
    "               steps=len(x_img_test) // BATCH_SIZE)"
   ],
   "id": "4e0eee947016afe9"
  },
  {
   "metadata": {},
   "cell_type": "code",
   "outputs": [],
   "execution_count": null,
   "source": [
    "predictions = model.predict([x_img_test, x_audio_test], batch_size=BATCH_SIZE)\n",
    "\n",
    "image_preds = predictions[0]\n",
    "audio_preds = predictions[1]"
   ],
   "id": "19b7f970e11d044e"
  },
  {
   "metadata": {},
   "cell_type": "markdown",
   "source": "## Using Confusion Matrix",
   "id": "c5cc741a7c4ac84"
  },
  {
   "metadata": {},
   "cell_type": "code",
   "outputs": [],
   "execution_count": null,
   "source": [
    "aud_classes = [x for x in os.listdir(AUDIO_PATH)]\n",
    "img_classes = [x for x in os.listdir(TRAIN_IMAGE_PATH)]\n",
    "\n",
    "image_class = np.argmax(predictions[0], axis=1)\n",
    "audio_class = np.argmax(predictions[1], axis=1)\n",
    "\n",
    "image_cm = confusion_matrix(y_img_test, image_class)\n",
    "audio_cm = confusion_matrix(y_audio_test, audio_class)"
   ],
   "id": "bb00b7b1e02e34f7"
  },
  {
   "metadata": {},
   "cell_type": "code",
   "outputs": [],
   "execution_count": null,
   "source": [
    "plt.figure(figsize=(10, 8))  # Set the figure size if needed\n",
    "sns.heatmap(image_cm, annot=True, cmap='Blues', fmt='g')\n",
    "\n",
    "plt.title('Confusion Matrix Image', pad=20, fontsize=20, fontweight=\"bold\")\n",
    "plt.ylabel('Actual')\n",
    "plt.xlabel('Predicted')\n",
    "\n",
    "plt.xticks(ticks=range(len(img_classes)), labels=img_classes, rotation=45)\n",
    "plt.yticks(ticks=range(len(img_classes)), labels=img_classes, rotation=0)\n",
    "plt.savefig('confusion_matrix_image.png', dpi=300, bbox_inches='tight')\n",
    "plt.show()"
   ],
   "id": "d78881cfd56978e5"
  },
  {
   "metadata": {},
   "cell_type": "code",
   "outputs": [],
   "execution_count": null,
   "source": [
    "plt.figure(figsize=(10, 8))  # Set the figure size if needed\n",
    "sns.heatmap(audio_cm, annot=True, cmap='Blues', fmt='g')\n",
    "\n",
    "plt.title('Confusion Matrix Audio', pad=20, fontsize=20, fontweight=\"bold\")\n",
    "plt.ylabel('Actual')\n",
    "plt.xlabel('Predicted')\n",
    "\n",
    "plt.xticks(ticks=range(len(aud_classes)), labels=aud_classes, rotation=45)\n",
    "plt.yticks(ticks=range(len(aud_classes)), labels=aud_classes, rotation=0)\n",
    "plt.savefig('confusion_matrix_audio.png', dpi=300, bbox_inches='tight')\n",
    "plt.show()"
   ],
   "id": "198f5306b76326d5"
  },
  {
   "metadata": {},
   "cell_type": "code",
   "outputs": [],
   "execution_count": null,
   "source": "print(classification_report(y_img_test, image_class))",
   "id": "17516d8378fb18f8"
  },
  {
   "metadata": {},
   "cell_type": "code",
   "outputs": [],
   "execution_count": null,
   "source": "print(classification_report(y_audio_test, audio_class))",
   "id": "ee6ff46bffcbd49d"
  },
  {
   "metadata": {},
   "cell_type": "code",
   "outputs": [],
   "execution_count": null,
   "source": "model.save('model_sc2t4.h5')",
   "id": "9cf6d93d32a069de"
  }
 ],
 "metadata": {
  "kernelspec": {
   "display_name": "Python 3",
   "language": "python",
   "name": "python3"
  },
  "language_info": {
   "codemirror_mode": {
    "name": "ipython",
    "version": 2
   },
   "file_extension": ".py",
   "mimetype": "text/x-python",
   "name": "python",
   "nbconvert_exporter": "python",
   "pygments_lexer": "ipython2",
   "version": "2.7.6"
  }
 },
 "nbformat": 4,
 "nbformat_minor": 5
}
