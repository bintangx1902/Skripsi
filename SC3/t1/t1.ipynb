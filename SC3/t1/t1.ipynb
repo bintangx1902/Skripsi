{
 "cells": [
  {
   "cell_type": "code",
   "id": "initial_id",
   "metadata": {
    "collapsed": true,
    "ExecuteTime": {
     "end_time": "2025-04-12T12:19:54.401934Z",
     "start_time": "2025-04-12T12:19:50.950408Z"
    }
   },
   "source": [
    "import tensorflow as tf\n",
    "import numpy as np\n",
    "import pandas as pd\n",
    "import os\n",
    "import gc\n",
    "\n",
    "from shared.utils import *\n",
    "from shared.colab_path import *\n",
    "\n",
    "from matplotlib import pyplot as plt\n",
    "from sklearn.metrics import confusion_matrix\n",
    "from sklearn.preprocessing import LabelEncoder\n",
    "from sklearn.model_selection import train_test_split\n",
    "\n",
    "strategy = tf.distribute.MirroredStrategy()"
   ],
   "outputs": [],
   "execution_count": 1
  },
  {
   "metadata": {},
   "cell_type": "markdown",
   "source": [
    "# Data Preprocessing\n",
    "## Audio Data"
   ],
   "id": "efdea3412ed88f5a"
  },
  {
   "metadata": {},
   "cell_type": "code",
   "outputs": [],
   "execution_count": null,
   "source": [
    "label = []\n",
    "filepath = []\n",
    "\n",
    "for classes in os.listdir(AUDIO_PATH):\n",
    "    for file in os.listdir(os.path.join(AUDIO_PATH, classes)):\n",
    "        file_path = os.path.join(AUDIO_PATH, classes, file)\n",
    "\n",
    "        filepath.append(file_path)\n",
    "        label.append(classes)\n",
    "\n",
    "audio = pd.DataFrame({\n",
    "    'filepath': filepath,\n",
    "    'label': label,\n",
    "})\n",
    "\n",
    "del filepath, label\n",
    "\n",
    "audio.head()"
   ],
   "id": "8195f38fe3b40e7"
  },
  {
   "metadata": {},
   "cell_type": "code",
   "outputs": [],
   "execution_count": null,
   "source": [
    "le = LabelEncoder()\n",
    "le.fit(audio['label'])\n",
    "audio['label_encoded'] = le.transform(audio['label'])\n",
    "num_classes = len(le.classes_)"
   ],
   "id": "37ab2658d899cda0"
  },
  {
   "metadata": {},
   "cell_type": "code",
   "outputs": [],
   "execution_count": null,
   "source": [
    "with tf.device('/GPU:0'):\n",
    "    audio['data'] = audio.filepath.apply(preprocess_audio)"
   ],
   "id": "e7b51c8fe138775e"
  },
  {
   "metadata": {},
   "cell_type": "code",
   "outputs": [],
   "execution_count": null,
   "source": [
    "x_audio = np.stack(audio['data'].values)\n",
    "y_audio = audio['label_encoded'].values\n",
    "print(x_audio.shape)\n",
    "del audio"
   ],
   "id": "b4ca0deeea0b1c52"
  },
  {
   "metadata": {},
   "cell_type": "code",
   "outputs": [],
   "execution_count": null,
   "source": [
    "x_audio_train, x_temp, y_audio_train, y_temp = train_test_split(\n",
    "    x_audio, y_audio, test_size=0.3, random_state=42, shuffle=True\n",
    ")\n",
    "\n",
    "x_audio_val, x_audio_test, y_audio_val, y_audio_test = train_test_split(\n",
    "    x_temp, y_temp, test_size=0.5, random_state=42,\n",
    ")\n",
    "\n",
    "del x_audio, y_audio\n",
    "print(x_audio_train.shape)"
   ],
   "id": "6ac1595e8d09bb0c"
  },
  {
   "metadata": {},
   "cell_type": "code",
   "outputs": [],
   "execution_count": null,
   "source": "print(x_audio_train.shape[0] == len(y_audio_train))",
   "id": "ccca2cc7c4c4ac7e"
  },
  {
   "metadata": {},
   "cell_type": "markdown",
   "source": "## Image Data",
   "id": "37414cb34c15f829"
  },
  {
   "metadata": {},
   "cell_type": "code",
   "outputs": [],
   "execution_count": null,
   "source": [
    "filepath = []\n",
    "label = []\n",
    "\n",
    "i = 0\n",
    "for classes in os.listdir(TRAIN_IMAGE_PATH):\n",
    "    for file in os.listdir(os.path.join(TRAIN_IMAGE_PATH, classes)):\n",
    "        path = os.path.join(TRAIN_IMAGE_PATH, classes, file)\n",
    "        filepath.append(path)\n",
    "        label.append(classes)\n",
    "\n",
    "train_df = pd.DataFrame({\n",
    "    'filepath': filepath,\n",
    "    'label': label\n",
    "})\n",
    "\n",
    "del filepath, label\n",
    "\n",
    "print(train_df.shape)\n",
    "print(train_df['label'].unique())\n",
    "train_df.head()"
   ],
   "id": "205ee65515b5ea1e"
  },
  {
   "metadata": {},
   "cell_type": "code",
   "outputs": [],
   "execution_count": null,
   "source": [
    "filepath = []\n",
    "label = []\n",
    "\n",
    "i = 0\n",
    "for classes in os.listdir(TEST_IMAGE_PATH):\n",
    "    for file in os.listdir(os.path.join(TEST_IMAGE_PATH, classes)):\n",
    "        path = os.path.join(TEST_IMAGE_PATH, classes, file)\n",
    "        filepath.append(path)\n",
    "        label.append(classes)\n",
    "\n",
    "img_test_df = pd.DataFrame({\n",
    "    'filepath': filepath,\n",
    "    'label': label\n",
    "})\n",
    "\n",
    "del filepath, label\n",
    "\n",
    "print(img_test_df.shape)\n",
    "print(img_test_df['label'].unique())\n",
    "img_test_df.head()"
   ],
   "id": "258377763ee89f96"
  },
  {
   "metadata": {},
   "cell_type": "code",
   "outputs": [],
   "execution_count": null,
   "source": [
    "le = LabelEncoder()\n",
    "le.fit(train_df['label'])\n",
    "train_df['label_encoded'] = le.transform(train_df['label'])\n",
    "img_test_df['label_encoded'] = le.transform(img_test_df['label'])"
   ],
   "id": "fce8b451f579002f"
  },
  {
   "metadata": {},
   "cell_type": "code",
   "outputs": [],
   "execution_count": null,
   "source": [
    "with tf.device('/GPU:0'):\n",
    "    train_df['data'] = train_df['filepath'].apply(lambda x : preprocess_image(x, (100, 100)))\n",
    "    img_test_df['data'] = img_test_df['filepath'].apply(lambda x : preprocess_image(x, (100, 100)))\n",
    "\n",
    "train_df.shape"
   ],
   "id": "86321bbd942a8dc6"
  },
  {
   "metadata": {},
   "cell_type": "code",
   "outputs": [],
   "execution_count": null,
   "source": [
    "x_img = np.stack(train_df['data'].values)\n",
    "y_img = train_df['label_encoded'].values\n",
    "\n",
    "x_img_test = np.stack(img_test_df['data'].values)\n",
    "y_img_test = img_test_df['label_encoded'].values\n",
    "\n",
    "del train_df, img_test_df\n",
    "\n",
    "x_img_train, x_img_val, y_img_train, y_img_val = train_test_split(x_img, y_img, test_size=0.2, random_state=42, stratify=y_img, shuffle=True)\n",
    "del x_img, y_img"
   ],
   "id": "e8bb50dde4647323"
  },
  {
   "metadata": {},
   "cell_type": "markdown",
   "source": "# Modeling",
   "id": "12f6ebf0c75ec925"
  },
  {
   "metadata": {
    "ExecuteTime": {
     "end_time": "2025-04-12T12:28:16.447563Z",
     "start_time": "2025-04-12T12:28:16.436155Z"
    }
   },
   "cell_type": "code",
   "source": [
    "def create_base_model(inputs: tf.keras.layers.Input, instance_name: str) -> tf.keras.Model:\n",
    "    base = tf.keras.applications.InceptionV3(\n",
    "        include_top=False,\n",
    "        weights='imagenet',\n",
    "    )\n",
    "    outputs = base(inputs)\n",
    "    base.trainable = False\n",
    "    for layer in base.layers:\n",
    "        layer.trainable = False\n",
    "    return tf.keras.Model(inputs, outputs, name=f\"inception_v3_{instance_name}\")"
   ],
   "id": "8f6c0aa46261cc13",
   "outputs": [],
   "execution_count": 13
  },
  {
   "metadata": {
    "ExecuteTime": {
     "end_time": "2025-04-12T12:28:58.093240Z",
     "start_time": "2025-04-12T12:28:54.667208Z"
    }
   },
   "cell_type": "code",
   "source": [
    "input_image = tf.keras.Input(shape=(100, 100, 3), name='input_image')\n",
    "input_audio = tf.keras.Input(shape=(128, 110, 3), name='input_audio')\n",
    "\n",
    "image_base = create_base_model(input_image, 'image_base')\n",
    "audio_base = create_base_model(input_audio, 'audio_base')\n",
    "\n",
    "left = image_base(input_image)\n",
    "right = audio_base(input_audio)\n",
    "\n",
    "left = tf.keras.layers.Flatten()(left)\n",
    "left = tf.keras.layers.Dense(512, activation='relu')(left)\n",
    "\n",
    "right = tf.keras.layers.Flatten()(right)\n",
    "right = tf.keras.layers.Dense(512, activation='relu')(right)\n",
    "\n",
    "out1 = tf.keras.layers.Dense(7, activation='softmax', name='image_class')(left)\n",
    "out2 = tf.keras.layers.Dense(8, activation='softmax', name='audio_class')(right)\n",
    "\n",
    "model = tf.keras.models.Model(inputs=[input_image, input_audio], outputs=[out1, out2])\n"
   ],
   "id": "71fc865b4d03934d",
   "outputs": [],
   "execution_count": 15
  },
  {
   "metadata": {
    "ExecuteTime": {
     "end_time": "2025-04-12T12:28:58.789722Z",
     "start_time": "2025-04-12T12:28:58.097150Z"
    }
   },
   "cell_type": "code",
   "source": "tf.keras.utils.plot_model(model, show_shapes=True)",
   "id": "3ac4c0920738db24",
   "outputs": [
    {
     "data": {
      "image/png": "[encoded data removed]",
      "text/plain": [
       "<IPython.core.display.Image object>"
      ]
     },
     "execution_count": 16,
     "metadata": {},
     "output_type": "execute_result"
    }
   ],
   "execution_count": 16
  },
  {
   "metadata": {},
   "cell_type": "code",
   "outputs": [],
   "execution_count": null,
   "source": [
    "model.compile(\n",
    "    optimizer=tf.keras.optimizers.RMSprop(learning_rate=1e-4),\n",
    "    loss={\n",
    "        'image_class': 'sparse_categorical_crossentropy',\n",
    "        'audio_class': 'sparse_categorical_crossentropy'\n",
    "    },\n",
    "    metrics={\n",
    "        'image_class': 'accuracy',\n",
    "        'audio_class': 'accuracy'\n",
    "    }\n",
    ")"
   ],
   "id": "a932378ce524fb9f"
  },
  {
   "metadata": {},
   "cell_type": "code",
   "outputs": [],
   "execution_count": null,
   "source": [
    "min_samples = min(len(x_img_train), len(x_audio_train), len(y_img_train), len(y_audio_train))\n",
    "\n",
    "# Filter inputs and labels\n",
    "x_img_train = x_img_train[:min_samples]\n",
    "x_audio_train = x_audio_train[:min_samples]\n",
    "y_img_train = y_img_train[:min_samples]\n",
    "y_audio_train = y_audio_train[:min_samples]\n",
    "\n",
    "# Print shapes after filtering\n",
    "print(\"Input Image Shape:\", x_img_train.shape)\n",
    "print(\"Input Audio Shape:\", x_audio_train.shape)\n",
    "print(\"Image Labels Shape:\", y_img_train.shape)\n",
    "print(\"Audio Labels Shape:\", y_audio_train.shape)\n",
    "\n",
    "print(\"Input Image Type:\", x_img_train.dtype)\n",
    "print(\"Input Audio Type:\", x_audio_train.dtype)\n",
    "print(\"Image Labels Type:\", y_img_train.dtype)\n",
    "print(\"Audio Labels Type:\", y_audio_train.dtype)"
   ],
   "id": "6480da444bdf4002"
  },
  {
   "metadata": {},
   "cell_type": "code",
   "outputs": [],
   "execution_count": null,
   "source": [
    "min_samples = min(len(x_img_val), len(x_audio_val), len(y_img_val), len(y_audio_val))\n",
    "\n",
    "# Filter inputs and labels\n",
    "x_img_val = x_img_val[:min_samples]\n",
    "x_audio_val = x_audio_val[:min_samples]\n",
    "y_img_val = y_img_val[:min_samples]\n",
    "y_audio_val = y_audio_val[:min_samples]\n"
   ],
   "id": "68da5a2247941800"
  },
  {
   "metadata": {},
   "cell_type": "code",
   "outputs": [],
   "execution_count": null,
   "source": "tf.keras.backend.clear_session()",
   "id": "baddf84a7273bf78"
  },
  {
   "metadata": {},
   "cell_type": "code",
   "outputs": [],
   "execution_count": null,
   "source": [
    "early = tf.keras.callbacks.EarlyStopping(\n",
    "    monitor='val_loss',\n",
    "    restore_best_weights=True,\n",
    "    mode='min',\n",
    "    start_from_epoch=2,\n",
    "    patience=5\n",
    ")\n",
    "\n",
    "checkpoint = tf.keras.callbacks.ModelCheckpoint(\n",
    "    filepath= os.path.join(MODEL_CHECKPOINT_PATH, 'best_model.keras'),\n",
    "    verbose=2,\n",
    "    save_best_only=True,\n",
    "    monitor='val_loss',\n",
    "    mode='min'\n",
    ")\n",
    "\n",
    "lr_scheduler = tf.keras.callbacks.ReduceLROnPlateau(monitor='val_loss',\n",
    "    factor=0.2,\n",
    "    min_lr=0.000001,\n",
    "    patience=3,\n",
    "    mode='min'\n",
    ")"
   ],
   "id": "11a7f4b4713ffa80"
  },
  {
   "metadata": {},
   "cell_type": "code",
   "outputs": [],
   "execution_count": null,
   "source": [
    "history = model.fit(\n",
    "    x=[x_img_train, x_audio_train],\n",
    "    y=[y_img_train, y_audio_train],\n",
    "    validation_data=(\n",
    "        [x_img_val, x_audio_val],\n",
    "        [y_img_val, y_audio_val]\n",
    "    ),\n",
    "    callbacks=[early, checkpoint],\n",
    "    epochs=300,\n",
    "    batch_size=64\n",
    ")\n"
   ],
   "id": "b9e067acdb1b2a69"
  },
  {
   "metadata": {},
   "cell_type": "code",
   "outputs": [],
   "execution_count": null,
   "source": [
    "def plot_and_save(metric_name, history, ylabel, filename):\n",
    "    plt.figure()\n",
    "    plt.plot(history.history[metric_name], label=f'Train {ylabel}')\n",
    "    if f'val_{metric_name}' in history.history:\n",
    "        plt.plot(history.history[f'val_{metric_name}'], label=f'Val {ylabel}')\n",
    "    plt.title(f'{ylabel} over Epochs')\n",
    "    plt.xlabel('Epochs')\n",
    "    plt.ylabel(ylabel)\n",
    "    plt.legend()\n",
    "    plt.grid(True)\n",
    "    plt.savefig(filename)\n",
    "    plt.close()"
   ],
   "id": "a1fd58c297ccda41"
  },
  {
   "metadata": {},
   "cell_type": "code",
   "outputs": [],
   "execution_count": null,
   "source": [
    "plot_and_save('loss', history, 'Loss', 'loss_plot.png')\n",
    "plot_and_save('image_class_loss', history, 'Image Classification Loss', 'image_class_loss_plot.png')\n",
    "plot_and_save('audio_class_loss', history, 'Audio Classification Loss', 'audio_class_loss_plot.png')\n",
    "plot_and_save('image_class_accuracy', history, 'Image Classification Accuracy', 'image_class_accuracy_plot.png')\n",
    "plot_and_save('audio_class_accuracy', history, 'Audio Classification Accuracy', 'audio_class_accuracy_plot.png')"
   ],
   "id": "b19d6fefe3e50435"
  },
  {
   "metadata": {},
   "cell_type": "code",
   "outputs": [],
   "execution_count": null,
   "source": "model.save('model.h5')",
   "id": "861592ff9f831021"
  }
 ],
 "metadata": {
  "kernelspec": {
   "display_name": "Python 3",
   "language": "python",
   "name": "python3"
  },
  "language_info": {
   "codemirror_mode": {
    "name": "ipython",
    "version": 2
   },
   "file_extension": ".py",
   "mimetype": "text/x-python",
   "name": "python",
   "nbconvert_exporter": "python",
   "pygments_lexer": "ipython2",
   "version": "2.7.6"
  }
 },
 "nbformat": 4,
 "nbformat_minor": 5
}
