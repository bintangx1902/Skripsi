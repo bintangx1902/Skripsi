{
 "cells": [
  {
   "cell_type": "code",
   "id": "initial_id",
   "metadata": {
    "collapsed": true,
    "ExecuteTime": {
     "end_time": "2025-05-12T06:10:57.449488Z",
     "start_time": "2025-05-12T06:10:54.187117Z"
    }
   },
   "source": [
    "import gc\n",
    "import os\n",
    "import numpy as np\n",
    "import pandas as pd\n",
    "import seaborn as sns\n",
    "import tensorflow as tf\n",
    "\n",
    "from shared.utils import *\n",
    "from shared.local_path import *\n",
    "\n",
    "from collections import Counter\n",
    "from matplotlib import pyplot as plt\n",
    "from sklearn.preprocessing import LabelEncoder\n",
    "from sklearn.model_selection import train_test_split\n",
    "from sklearn.metrics import confusion_matrix, classification_report"
   ],
   "outputs": [],
   "execution_count": 1
  },
  {
   "metadata": {},
   "cell_type": "markdown",
   "source": [
    "# Data Preprocessing\n",
    "## Audio Data"
   ],
   "id": "ed0cd944472eb1c7"
  },
  {
   "metadata": {
    "ExecuteTime": {
     "end_time": "2025-05-12T06:10:57.558956Z",
     "start_time": "2025-05-12T06:10:57.461504Z"
    }
   },
   "cell_type": "code",
   "source": [
    "label = []\n",
    "filepath = []\n",
    "\n",
    "for classes in os.listdir(AUDIO_PATH):\n",
    "    for file in os.listdir(os.path.join(AUDIO_PATH, classes)):\n",
    "        file_path = os.path.join(AUDIO_PATH, classes, file)\n",
    "\n",
    "        filepath.append(file_path)\n",
    "        label.append(classes)\n",
    "\n",
    "audio = pd.DataFrame({\n",
    "    'filepath': filepath,\n",
    "    'label': label,\n",
    "})\n",
    "\n",
    "del filepath, label\n",
    "\n",
    "audio.head()"
   ],
   "id": "4d479c1351a90ce3",
   "outputs": [
    {
     "data": {
      "text/plain": [
       "                                            filepath  label\n",
       "0  E:\\\\Skripsi\\data\\audio\\angry\\03-01-05-01-01-01...  angry\n",
       "1  E:\\\\Skripsi\\data\\audio\\angry\\03-01-05-01-01-01...  angry\n",
       "2  E:\\\\Skripsi\\data\\audio\\angry\\03-01-05-01-01-01...  angry\n",
       "3  E:\\\\Skripsi\\data\\audio\\angry\\03-01-05-01-01-01...  angry\n",
       "4  E:\\\\Skripsi\\data\\audio\\angry\\03-01-05-01-01-01...  angry"
      ],
      "text/html": [
       "<div>\n",
       "<style scoped>\n",
       "    .dataframe tbody tr th:only-of-type {\n",
       "        vertical-align: middle;\n",
       "    }\n",
       "\n",
       "    .dataframe tbody tr th {\n",
       "        vertical-align: top;\n",
       "    }\n",
       "\n",
       "    .dataframe thead th {\n",
       "        text-align: right;\n",
       "    }\n",
       "</style>\n",
       "<table border=\"1\" class=\"dataframe\">\n",
       "  <thead>\n",
       "    <tr style=\"text-align: right;\">\n",
       "      <th></th>\n",
       "      <th>filepath</th>\n",
       "      <th>label</th>\n",
       "    </tr>\n",
       "  </thead>\n",
       "  <tbody>\n",
       "    <tr>\n",
       "      <th>0</th>\n",
       "      <td>E:\\\\Skripsi\\data\\audio\\angry\\03-01-05-01-01-01...</td>\n",
       "      <td>angry</td>\n",
       "    </tr>\n",
       "    <tr>\n",
       "      <th>1</th>\n",
       "      <td>E:\\\\Skripsi\\data\\audio\\angry\\03-01-05-01-01-01...</td>\n",
       "      <td>angry</td>\n",
       "    </tr>\n",
       "    <tr>\n",
       "      <th>2</th>\n",
       "      <td>E:\\\\Skripsi\\data\\audio\\angry\\03-01-05-01-01-01...</td>\n",
       "      <td>angry</td>\n",
       "    </tr>\n",
       "    <tr>\n",
       "      <th>3</th>\n",
       "      <td>E:\\\\Skripsi\\data\\audio\\angry\\03-01-05-01-01-01...</td>\n",
       "      <td>angry</td>\n",
       "    </tr>\n",
       "    <tr>\n",
       "      <th>4</th>\n",
       "      <td>E:\\\\Skripsi\\data\\audio\\angry\\03-01-05-01-01-01...</td>\n",
       "      <td>angry</td>\n",
       "    </tr>\n",
       "  </tbody>\n",
       "</table>\n",
       "</div>"
      ]
     },
     "execution_count": 2,
     "metadata": {},
     "output_type": "execute_result"
    }
   ],
   "execution_count": 2
  },
  {
   "metadata": {
    "ExecuteTime": {
     "end_time": "2025-05-12T06:10:58.185199Z",
     "start_time": "2025-05-12T06:10:58.170408Z"
    }
   },
   "cell_type": "code",
   "source": [
    "le = LabelEncoder()\n",
    "le.fit(audio['label'])\n",
    "audio['label_encoded'] = le.transform(audio['label'])\n",
    "num_classes = len(le.classes_)"
   ],
   "id": "7edb68451961ab8c",
   "outputs": [],
   "execution_count": 3
  },
  {
   "metadata": {
    "ExecuteTime": {
     "end_time": "2025-05-12T06:14:53.084891Z",
     "start_time": "2025-05-12T06:10:58.329198Z"
    }
   },
   "cell_type": "code",
   "source": [
    "with tf.device('/GPU:0'):\n",
    "    audio['data'] = audio.filepath.apply(preprocess_audio)\n",
    "    audio = audio.sample(frac=1).reset_index(drop=True)"
   ],
   "id": "5d6860be2a732a99",
   "outputs": [
    {
     "name": "stderr",
     "output_type": "stream",
     "text": [
      "C:\\ProgramData\\miniconda3\\envs\\tf\\lib\\site-packages\\librosa\\core\\spectrum.py:266: UserWarning: n_fft=2048 is too large for input signal of length=96\n",
      "  warnings.warn(\n",
      "C:\\ProgramData\\miniconda3\\envs\\tf\\lib\\site-packages\\librosa\\core\\spectrum.py:266: UserWarning: n_fft=2048 is too large for input signal of length=1152\n",
      "  warnings.warn(\n",
      "C:\\ProgramData\\miniconda3\\envs\\tf\\lib\\site-packages\\librosa\\core\\spectrum.py:266: UserWarning: n_fft=2048 is too large for input signal of length=1472\n",
      "  warnings.warn(\n",
      "C:\\ProgramData\\miniconda3\\envs\\tf\\lib\\site-packages\\librosa\\core\\spectrum.py:266: UserWarning: n_fft=2048 is too large for input signal of length=1056\n",
      "  warnings.warn(\n",
      "C:\\ProgramData\\miniconda3\\envs\\tf\\lib\\site-packages\\librosa\\core\\spectrum.py:266: UserWarning: n_fft=2048 is too large for input signal of length=1792\n",
      "  warnings.warn(\n",
      "C:\\ProgramData\\miniconda3\\envs\\tf\\lib\\site-packages\\librosa\\core\\spectrum.py:266: UserWarning: n_fft=2048 is too large for input signal of length=320\n",
      "  warnings.warn(\n",
      "C:\\ProgramData\\miniconda3\\envs\\tf\\lib\\site-packages\\librosa\\core\\spectrum.py:266: UserWarning: n_fft=2048 is too large for input signal of length=1280\n",
      "  warnings.warn(\n",
      "C:\\ProgramData\\miniconda3\\envs\\tf\\lib\\site-packages\\librosa\\core\\spectrum.py:266: UserWarning: n_fft=2048 is too large for input signal of length=608\n",
      "  warnings.warn(\n",
      "C:\\ProgramData\\miniconda3\\envs\\tf\\lib\\site-packages\\librosa\\core\\spectrum.py:266: UserWarning: n_fft=2048 is too large for input signal of length=1920\n",
      "  warnings.warn(\n",
      "C:\\ProgramData\\miniconda3\\envs\\tf\\lib\\site-packages\\librosa\\core\\spectrum.py:266: UserWarning: n_fft=2048 is too large for input signal of length=1824\n",
      "  warnings.warn(\n",
      "C:\\ProgramData\\miniconda3\\envs\\tf\\lib\\site-packages\\librosa\\core\\spectrum.py:266: UserWarning: n_fft=2048 is too large for input signal of length=1664\n",
      "  warnings.warn(\n",
      "C:\\ProgramData\\miniconda3\\envs\\tf\\lib\\site-packages\\librosa\\core\\spectrum.py:266: UserWarning: n_fft=2048 is too large for input signal of length=1216\n",
      "  warnings.warn(\n",
      "C:\\ProgramData\\miniconda3\\envs\\tf\\lib\\site-packages\\librosa\\core\\spectrum.py:266: UserWarning: n_fft=2048 is too large for input signal of length=448\n",
      "  warnings.warn(\n",
      "C:\\ProgramData\\miniconda3\\envs\\tf\\lib\\site-packages\\librosa\\core\\spectrum.py:266: UserWarning: n_fft=2048 is too large for input signal of length=800\n",
      "  warnings.warn(\n",
      "C:\\ProgramData\\miniconda3\\envs\\tf\\lib\\site-packages\\librosa\\core\\spectrum.py:266: UserWarning: n_fft=2048 is too large for input signal of length=1952\n",
      "  warnings.warn(\n",
      "C:\\ProgramData\\miniconda3\\envs\\tf\\lib\\site-packages\\librosa\\core\\spectrum.py:266: UserWarning: n_fft=2048 is too large for input signal of length=192\n",
      "  warnings.warn(\n",
      "C:\\ProgramData\\miniconda3\\envs\\tf\\lib\\site-packages\\librosa\\core\\spectrum.py:266: UserWarning: n_fft=2048 is too large for input signal of length=544\n",
      "  warnings.warn(\n",
      "C:\\ProgramData\\miniconda3\\envs\\tf\\lib\\site-packages\\librosa\\core\\spectrum.py:266: UserWarning: n_fft=2048 is too large for input signal of length=1888\n",
      "  warnings.warn(\n",
      "C:\\ProgramData\\miniconda3\\envs\\tf\\lib\\site-packages\\librosa\\core\\spectrum.py:266: UserWarning: n_fft=2048 is too large for input signal of length=576\n",
      "  warnings.warn(\n"
     ]
    }
   ],
   "execution_count": 4
  },
  {
   "metadata": {
    "ExecuteTime": {
     "end_time": "2025-05-12T06:15:00.273275Z",
     "start_time": "2025-05-12T06:14:54.229800Z"
    }
   },
   "cell_type": "code",
   "source": [
    "x_audio = np.stack(audio['data'].values)\n",
    "y_audio = audio['label_encoded'].values\n",
    "print(x_audio.shape)\n",
    "del audio"
   ],
   "id": "8cb2e4d2463e4407",
   "outputs": [
    {
     "name": "stdout",
     "output_type": "stream",
     "text": [
      "(27406, 128, 110, 3)\n"
     ]
    }
   ],
   "execution_count": 5
  },
  {
   "metadata": {
    "ExecuteTime": {
     "end_time": "2025-05-12T06:15:01.829311Z",
     "start_time": "2025-05-12T06:15:00.305276Z"
    }
   },
   "cell_type": "code",
   "source": [
    "x_audio_train, x_temp, y_audio_train, y_temp = train_test_split(\n",
    "    x_audio, y_audio, test_size=0.3, random_state=100,\n",
    ")\n",
    "\n",
    "x_audio_val, x_audio_test, y_audio_val, y_audio_test = train_test_split(\n",
    "    x_temp, y_temp, test_size=0.5, random_state=222,\n",
    ")\n",
    "\n",
    "del x_audio, y_audio\n",
    "print(x_audio_train.shape)\n",
    "print(x_audio_train.shape[0] == len(y_audio_train))"
   ],
   "id": "c4114e4bd61cfff",
   "outputs": [
    {
     "name": "stdout",
     "output_type": "stream",
     "text": [
      "(19184, 128, 110, 3)\n",
      "True\n"
     ]
    }
   ],
   "execution_count": 6
  },
  {
   "metadata": {
    "ExecuteTime": {
     "end_time": "2025-05-12T06:15:01.893310Z",
     "start_time": "2025-05-12T06:15:01.878313Z"
    }
   },
   "cell_type": "code",
   "source": "print(x_audio_train.shape[0] == len(y_audio_train))",
   "id": "182ea243f5d27a3e",
   "outputs": [
    {
     "name": "stdout",
     "output_type": "stream",
     "text": [
      "True\n"
     ]
    }
   ],
   "execution_count": 7
  },
  {
   "metadata": {},
   "cell_type": "markdown",
   "source": "## Image Data",
   "id": "365a05a1e0f281c8"
  },
  {
   "metadata": {
    "ExecuteTime": {
     "end_time": "2025-05-12T06:15:04.405523Z",
     "start_time": "2025-05-12T06:15:01.951311Z"
    }
   },
   "cell_type": "code",
   "source": [
    "filepath = []\n",
    "label = []\n",
    "\n",
    "i = 0\n",
    "for classes in os.listdir(TRAIN_IMAGE_PATH):\n",
    "    for file in os.listdir(os.path.join(TRAIN_IMAGE_PATH, classes)):\n",
    "        path = os.path.join(TRAIN_IMAGE_PATH, classes, file)\n",
    "        filepath.append(path)\n",
    "        label.append(classes)\n",
    "\n",
    "train_df = pd.DataFrame({\n",
    "    'filepath': filepath,\n",
    "    'label': label\n",
    "})\n",
    "\n",
    "del filepath, label\n",
    "\n",
    "print(train_df.shape)\n",
    "print(train_df['label'].unique())\n",
    "train_df.head()"
   ],
   "id": "5829ee6ec9df9628",
   "outputs": [
    {
     "name": "stdout",
     "output_type": "stream",
     "text": [
      "(33228, 2)\n",
      "['angry' 'disgust' 'fear' 'happy' 'neutral' 'sad' 'surprise']\n"
     ]
    },
    {
     "data": {
      "text/plain": [
       "                                            filepath  label\n",
       "0  E:\\\\Skripsi\\data\\new_data\\train\\angry\\angry_0_...  angry\n",
       "1  E:\\\\Skripsi\\data\\new_data\\train\\angry\\angry_0_...  angry\n",
       "2  E:\\\\Skripsi\\data\\new_data\\train\\angry\\angry_0_...  angry\n",
       "3  E:\\\\Skripsi\\data\\new_data\\train\\angry\\angry_0_...  angry\n",
       "4  E:\\\\Skripsi\\data\\new_data\\train\\angry\\angry_0_...  angry"
      ],
      "text/html": [
       "<div>\n",
       "<style scoped>\n",
       "    .dataframe tbody tr th:only-of-type {\n",
       "        vertical-align: middle;\n",
       "    }\n",
       "\n",
       "    .dataframe tbody tr th {\n",
       "        vertical-align: top;\n",
       "    }\n",
       "\n",
       "    .dataframe thead th {\n",
       "        text-align: right;\n",
       "    }\n",
       "</style>\n",
       "<table border=\"1\" class=\"dataframe\">\n",
       "  <thead>\n",
       "    <tr style=\"text-align: right;\">\n",
       "      <th></th>\n",
       "      <th>filepath</th>\n",
       "      <th>label</th>\n",
       "    </tr>\n",
       "  </thead>\n",
       "  <tbody>\n",
       "    <tr>\n",
       "      <th>0</th>\n",
       "      <td>E:\\\\Skripsi\\data\\new_data\\train\\angry\\angry_0_...</td>\n",
       "      <td>angry</td>\n",
       "    </tr>\n",
       "    <tr>\n",
       "      <th>1</th>\n",
       "      <td>E:\\\\Skripsi\\data\\new_data\\train\\angry\\angry_0_...</td>\n",
       "      <td>angry</td>\n",
       "    </tr>\n",
       "    <tr>\n",
       "      <th>2</th>\n",
       "      <td>E:\\\\Skripsi\\data\\new_data\\train\\angry\\angry_0_...</td>\n",
       "      <td>angry</td>\n",
       "    </tr>\n",
       "    <tr>\n",
       "      <th>3</th>\n",
       "      <td>E:\\\\Skripsi\\data\\new_data\\train\\angry\\angry_0_...</td>\n",
       "      <td>angry</td>\n",
       "    </tr>\n",
       "    <tr>\n",
       "      <th>4</th>\n",
       "      <td>E:\\\\Skripsi\\data\\new_data\\train\\angry\\angry_0_...</td>\n",
       "      <td>angry</td>\n",
       "    </tr>\n",
       "  </tbody>\n",
       "</table>\n",
       "</div>"
      ]
     },
     "execution_count": 8,
     "metadata": {},
     "output_type": "execute_result"
    }
   ],
   "execution_count": 8
  },
  {
   "metadata": {
    "ExecuteTime": {
     "end_time": "2025-05-12T06:15:05.034210Z",
     "start_time": "2025-05-12T06:15:04.486525Z"
    }
   },
   "cell_type": "code",
   "source": [
    "filepath = []\n",
    "label = []\n",
    "\n",
    "i = 0\n",
    "for classes in os.listdir(TEST_IMAGE_PATH):\n",
    "    for file in os.listdir(os.path.join(TEST_IMAGE_PATH, classes)):\n",
    "        path = os.path.join(TEST_IMAGE_PATH, classes, file)\n",
    "        filepath.append(path)\n",
    "        label.append(classes)\n",
    "\n",
    "img_test_df = pd.DataFrame({\n",
    "    'filepath': filepath,\n",
    "    'label': label\n",
    "})\n",
    "\n",
    "del filepath, label\n",
    "\n",
    "print(img_test_df.shape)\n",
    "print(img_test_df['label'].unique())\n",
    "img_test_df.head()"
   ],
   "id": "37cc4ba5ade05829",
   "outputs": [
    {
     "name": "stdout",
     "output_type": "stream",
     "text": [
      "(7311, 2)\n",
      "['angry' 'disgust' 'fear' 'happy' 'neutral' 'sad' 'surprise']\n"
     ]
    },
    {
     "data": {
      "text/plain": [
       "                                            filepath  label\n",
       "0     E:\\\\Skripsi\\data\\new_data\\test\\angry\\Anger.jpg  angry\n",
       "1   E:\\\\Skripsi\\data\\new_data\\test\\angry\\Anger_1.jpg  angry\n",
       "2  E:\\\\Skripsi\\data\\new_data\\test\\angry\\Anger_10.jpg  angry\n",
       "3  E:\\\\Skripsi\\data\\new_data\\test\\angry\\Anger_11.jpg  angry\n",
       "4  E:\\\\Skripsi\\data\\new_data\\test\\angry\\Anger_12.jpg  angry"
      ],
      "text/html": [
       "<div>\n",
       "<style scoped>\n",
       "    .dataframe tbody tr th:only-of-type {\n",
       "        vertical-align: middle;\n",
       "    }\n",
       "\n",
       "    .dataframe tbody tr th {\n",
       "        vertical-align: top;\n",
       "    }\n",
       "\n",
       "    .dataframe thead th {\n",
       "        text-align: right;\n",
       "    }\n",
       "</style>\n",
       "<table border=\"1\" class=\"dataframe\">\n",
       "  <thead>\n",
       "    <tr style=\"text-align: right;\">\n",
       "      <th></th>\n",
       "      <th>filepath</th>\n",
       "      <th>label</th>\n",
       "    </tr>\n",
       "  </thead>\n",
       "  <tbody>\n",
       "    <tr>\n",
       "      <th>0</th>\n",
       "      <td>E:\\\\Skripsi\\data\\new_data\\test\\angry\\Anger.jpg</td>\n",
       "      <td>angry</td>\n",
       "    </tr>\n",
       "    <tr>\n",
       "      <th>1</th>\n",
       "      <td>E:\\\\Skripsi\\data\\new_data\\test\\angry\\Anger_1.jpg</td>\n",
       "      <td>angry</td>\n",
       "    </tr>\n",
       "    <tr>\n",
       "      <th>2</th>\n",
       "      <td>E:\\\\Skripsi\\data\\new_data\\test\\angry\\Anger_10.jpg</td>\n",
       "      <td>angry</td>\n",
       "    </tr>\n",
       "    <tr>\n",
       "      <th>3</th>\n",
       "      <td>E:\\\\Skripsi\\data\\new_data\\test\\angry\\Anger_11.jpg</td>\n",
       "      <td>angry</td>\n",
       "    </tr>\n",
       "    <tr>\n",
       "      <th>4</th>\n",
       "      <td>E:\\\\Skripsi\\data\\new_data\\test\\angry\\Anger_12.jpg</td>\n",
       "      <td>angry</td>\n",
       "    </tr>\n",
       "  </tbody>\n",
       "</table>\n",
       "</div>"
      ]
     },
     "execution_count": 9,
     "metadata": {},
     "output_type": "execute_result"
    }
   ],
   "execution_count": 9
  },
  {
   "metadata": {
    "ExecuteTime": {
     "end_time": "2025-05-12T06:15:05.157546Z",
     "start_time": "2025-05-12T06:15:05.142547Z"
    }
   },
   "cell_type": "code",
   "source": [
    "le = LabelEncoder()\n",
    "le.fit(train_df['label'])\n",
    "train_df['label_encoded'] = le.transform(train_df['label'])\n",
    "img_test_df['label_encoded'] = le.transform(img_test_df['label'])"
   ],
   "id": "1bdbcbcbd6b8d8ed",
   "outputs": [],
   "execution_count": 10
  },
  {
   "metadata": {
    "ExecuteTime": {
     "end_time": "2025-05-12T06:15:25.482993Z",
     "start_time": "2025-05-12T06:15:05.252145Z"
    }
   },
   "cell_type": "code",
   "source": [
    "with tf.device('/GPU:0'):\n",
    "    train_df['data'] = train_df['filepath'].apply(lambda x: preprocess_image(x, (100, 100)))\n",
    "    img_test_df['data'] = img_test_df['filepath'].apply(lambda x: preprocess_image(x, (100, 100)))\n",
    "\n",
    "train_df.shape"
   ],
   "id": "820909cffc2fc363",
   "outputs": [
    {
     "data": {
      "text/plain": [
       "(33228, 4)"
      ]
     },
     "execution_count": 11,
     "metadata": {},
     "output_type": "execute_result"
    }
   ],
   "execution_count": 11
  },
  {
   "metadata": {
    "ExecuteTime": {
     "end_time": "2025-05-12T06:15:30.891784Z",
     "start_time": "2025-05-12T06:15:29.936237Z"
    }
   },
   "cell_type": "code",
   "source": [
    "x_img = np.stack(train_df['data'].values)\n",
    "y_img = train_df['label_encoded'].values\n",
    "\n",
    "x_img_test = np.stack(img_test_df['data'].values)\n",
    "y_img_test = img_test_df['label_encoded'].values\n",
    "\n",
    "del train_df, img_test_df\n",
    "\n",
    "x_img_train, x_img_val, y_img_train, y_img_val = train_test_split(x_img, y_img, test_size=0.3, random_state=100,\n",
    "                                                                  shuffle=True, stratify=y_img)\n",
    "del x_img, y_img"
   ],
   "id": "c08c5b9e0b3ab540",
   "outputs": [],
   "execution_count": 12
  },
  {
   "metadata": {},
   "cell_type": "markdown",
   "source": [
    "# Modeling\n",
    "## Creating Model"
   ],
   "id": "39be3081289728c6"
  },
  {
   "metadata": {
    "ExecuteTime": {
     "end_time": "2025-05-11T09:27:40.944334Z",
     "start_time": "2025-05-11T09:27:40.929336Z"
    }
   },
   "cell_type": "code",
   "source": [
    "def create_base_model(inputs: tf.keras.layers.Input, instance_name: str) -> tf.keras.Model:\n",
    "    base = tf.keras.applications.VGG19(\n",
    "        include_top=False,\n",
    "        weights='imagenet',\n",
    "    )\n",
    "    outputs = base(inputs)\n",
    "\n",
    "    for layer in base.layers:\n",
    "        layer.trainable = False\n",
    "\n",
    "    return tf.keras.Model(inputs, outputs, name=f\"inception_v3_{instance_name}\")"
   ],
   "id": "892c1140577093a7",
   "outputs": [],
   "execution_count": 14
  },
  {
   "metadata": {
    "ExecuteTime": {
     "end_time": "2025-05-11T09:27:42.242485Z",
     "start_time": "2025-05-11T09:27:41.009335Z"
    }
   },
   "cell_type": "code",
   "source": [
    "input_image = tf.keras.Input(shape=(100, 100, 3), name='input_image')\n",
    "input_audio = tf.keras.Input(shape=(128, 110, 3), name='input_audio')\n",
    "\n",
    "image_base = create_base_model(input_image, 'image_base')\n",
    "audio_base = create_base_model(input_audio, 'audio_base')\n",
    "\n",
    "left = image_base(input_image)\n",
    "right = audio_base(input_audio)\n",
    "\n",
    "left = tf.keras.layers.Flatten()(left)\n",
    "left = tf.keras.layers.Dense(512, activation='relu')(left)\n",
    "\n",
    "right = tf.keras.layers.Flatten()(right)\n",
    "right = tf.keras.layers.Dense(512, activation='relu')(right)\n",
    "\n",
    "out1 = tf.keras.layers.Dense(7, activation='softmax', name='image_class')(left)\n",
    "out2 = tf.keras.layers.Dense(8, activation='softmax', name='audio_class')(right)\n",
    "\n",
    "model = tf.keras.models.Model(inputs=[input_image, input_audio], outputs=[out1, out2])\n"
   ],
   "id": "5c220f15fb3e8597",
   "outputs": [],
   "execution_count": 15
  },
  {
   "metadata": {
    "ExecuteTime": {
     "end_time": "2025-05-11T09:27:43.448941Z",
     "start_time": "2025-05-11T09:27:42.274922Z"
    }
   },
   "cell_type": "code",
   "source": "plot_model(model, show_shapes=True)",
   "id": "ab82a75540e064ac",
   "outputs": [],
   "execution_count": 16
  },
  {
   "metadata": {},
   "cell_type": "markdown",
   "source": "## Compile the model",
   "id": "78550b0c816205ce"
  },
  {
   "metadata": {
    "ExecuteTime": {
     "end_time": "2025-05-11T09:27:43.496434Z",
     "start_time": "2025-05-11T09:27:43.481435Z"
    }
   },
   "cell_type": "code",
   "source": [
    "model.compile(\n",
    "    optimizer=tf.keras.optimizers.Adam(learning_rate=1e-3),\n",
    "    loss={\n",
    "        'image_class': tf.keras.losses.SparseCategoricalCrossentropy(),\n",
    "        'audio_class': tf.keras.losses.SparseCategoricalCrossentropy()\n",
    "    },\n",
    "    metrics={\n",
    "        'image_class': 'accuracy',\n",
    "        'audio_class': 'accuracy'\n",
    "    }\n",
    ")"
   ],
   "id": "69489a80f0dd8d7a",
   "outputs": [],
   "execution_count": 17
  },
  {
   "metadata": {},
   "cell_type": "markdown",
   "source": "## Make sure the data has same quantity",
   "id": "6dda9e333defda49"
  },
  {
   "metadata": {
    "ExecuteTime": {
     "end_time": "2025-05-11T09:27:43.559830Z",
     "start_time": "2025-05-11T09:27:43.544831Z"
    }
   },
   "cell_type": "code",
   "source": [
    "min_samples = min(len(x_img_train), len(x_audio_train), len(y_img_train), len(y_audio_train))\n",
    "\n",
    "x_img_train = x_img_train[:min_samples]\n",
    "x_audio_train = x_audio_train[:min_samples]\n",
    "y_img_train = y_img_train[:min_samples]\n",
    "y_audio_train = y_audio_train[:min_samples]\n",
    "\n",
    "print(\"Input Image Shape:\", x_img_train.shape)\n",
    "print(\"Input Audio Shape:\", x_audio_train.shape)\n",
    "print(\"Image Labels Shape:\", y_img_train.shape)\n",
    "print(\"Audio Labels Shape:\", y_audio_train.shape)\n",
    "\n",
    "print(\"Input Image Type:\", x_img_train.dtype)\n",
    "print(\"Input Audio Type:\", x_audio_train.dtype)\n",
    "print(\"Image Labels Type:\", y_img_train.dtype)\n",
    "print(\"Audio Labels Type:\", y_audio_train.dtype)"
   ],
   "id": "91218dac75f9a437",
   "outputs": [
    {
     "name": "stdout",
     "output_type": "stream",
     "text": [
      "Input Image Shape: (19184, 100, 100, 3)\n",
      "Input Audio Shape: (19184, 128, 110, 3)\n",
      "Image Labels Shape: (19184,)\n",
      "Audio Labels Shape: (19184,)\n",
      "Input Image Type: uint8\n",
      "Input Audio Type: float32\n",
      "Image Labels Type: int32\n",
      "Audio Labels Type: int32\n"
     ]
    }
   ],
   "execution_count": 18
  },
  {
   "metadata": {
    "ExecuteTime": {
     "end_time": "2025-05-11T09:27:43.622326Z",
     "start_time": "2025-05-11T09:27:43.607326Z"
    }
   },
   "cell_type": "code",
   "source": [
    "min_samples = min(len(x_img_val), len(x_audio_val), len(y_img_val), len(y_audio_val))\n",
    "\n",
    "x_img_val = x_img_val[:min_samples]\n",
    "x_audio_val = x_audio_val[:min_samples]\n",
    "y_img_val = y_img_val[:min_samples]\n",
    "y_audio_val = y_audio_val[:min_samples]"
   ],
   "id": "59efdbb42ee9b38e",
   "outputs": [],
   "execution_count": 19
  },
  {
   "metadata": {},
   "cell_type": "code",
   "outputs": [],
   "execution_count": null,
   "source": [
    "min_samples = min(len(x_img_test), len(x_audio_test), len(y_img_test), len(y_audio_test))\n",
    "\n",
    "x_img_test = x_img_test[:min_samples]\n",
    "x_audio_test = x_audio_test[:min_samples]\n",
    "y_img_test = y_img_test[:min_samples]\n",
    "y_audio_test = y_audio_test[:min_samples]"
   ],
   "id": "e72d88f58da75f95"
  },
  {
   "metadata": {
    "ExecuteTime": {
     "end_time": "2025-05-12T06:15:48.688210Z",
     "start_time": "2025-05-12T06:15:48.674211Z"
    }
   },
   "cell_type": "code",
   "source": [
    "def stratified_downsample(x_img, x_audio, y_img, y_audio, downsample_size=None):\n",
    "    \"\"\"\n",
    "    Downsamples the datasets while preserving class distribution.\n",
    "    \n",
    "    Args:\n",
    "        x_img (np.array): Image inputs.\n",
    "        x_audio (np.array): Audio inputs.\n",
    "        y_img (np.array): Image labels.\n",
    "        y_audio (np.array): Audio labels.\n",
    "        downsample_size (int, optional): Total number of samples after downsampling.\n",
    "                                           If None, downsample to the smallest class count.\n",
    "                                           \n",
    "    Returns:\n",
    "        Tuple of downsampled (x_img, x_audio, y_img, y_audio).\n",
    "    \"\"\"\n",
    "    # Count samples per class\n",
    "    class_counts = Counter(y_img)\n",
    "    min_class_count = min(class_counts.values())\n",
    "\n",
    "    if downsample_size is None:\n",
    "        downsample_size = min_class_count\n",
    "    else:\n",
    "        downsample_size = min(downsample_size, min_class_count)\n",
    "\n",
    "    indices_per_class = {}\n",
    "    for cls in class_counts:\n",
    "        indices = np.where(y_img == cls)[0]\n",
    "        np.random.shuffle(indices)\n",
    "        selected_indices = indices[:downsample_size]\n",
    "        indices_per_class[cls] = selected_indices\n",
    "\n",
    "    selected_indices = np.concatenate(list(indices_per_class.values()))\n",
    "    np.random.shuffle(selected_indices)\n",
    "\n",
    "    x_img_ds = x_img[selected_indices]\n",
    "    x_audio_ds = x_audio[selected_indices]\n",
    "    y_img_ds = y_img[selected_indices]\n",
    "    y_audio_ds = y_audio[selected_indices]\n",
    "\n",
    "    return x_img_ds, x_audio_ds, y_img_ds, y_audio_ds\n",
    "\n"
   ],
   "id": "d3597e81f1cdbcd0",
   "outputs": [],
   "execution_count": 14
  },
  {
   "metadata": {
    "ExecuteTime": {
     "end_time": "2025-05-12T06:15:49.114202Z",
     "start_time": "2025-05-12T06:15:48.981434Z"
    }
   },
   "cell_type": "code",
   "source": [
    "x_img_train, x_audio_train, y_img_train, y_audio_train = stratified_downsample(\n",
    "    x_img_train, x_audio_train, y_img_train, y_audio_train\n",
    ")\n",
    "\n",
    "min_samples_val = min(len(y_img_val), len(y_audio_val))\n",
    "x_img_val, x_audio_val, y_img_val, y_audio_val = stratified_downsample(\n",
    "    x_img_val, x_audio_val, y_img_val, y_audio_val, downsample_size=min_samples_val\n",
    ")\n",
    "\n",
    "min_samples_test = min(len(y_img_test), len(y_audio_test))\n",
    "x_img_test, x_audio_test, y_img_test, y_audio_test = stratified_downsample(\n",
    "    x_img_test, x_audio_test, y_img_test, y_audio_test, downsample_size=min_samples_test\n",
    ")\n",
    "\n",
    "print(\"Downsampled training shape:\", x_img_train.shape)\n",
    "print(\"Training labels distribution:\", Counter(y_img_train))"
   ],
   "id": "79b2f10a7b910935",
   "outputs": [
    {
     "ename": "IndexError",
     "evalue": "index 20415 is out of bounds for axis 0 with size 19184",
     "output_type": "error",
     "traceback": [
      "\u001B[1;31m---------------------------------------------------------------------------\u001B[0m",
      "\u001B[1;31mIndexError\u001B[0m                                Traceback (most recent call last)",
      "Cell \u001B[1;32mIn[15], line 1\u001B[0m\n\u001B[1;32m----> 1\u001B[0m x_img_train, x_audio_train, y_img_train, y_audio_train \u001B[38;5;241m=\u001B[39m \u001B[43mstratified_downsample\u001B[49m\u001B[43m(\u001B[49m\n\u001B[0;32m      2\u001B[0m \u001B[43m    \u001B[49m\u001B[43mx_img_train\u001B[49m\u001B[43m,\u001B[49m\u001B[43m \u001B[49m\u001B[43mx_audio_train\u001B[49m\u001B[43m,\u001B[49m\u001B[43m \u001B[49m\u001B[43my_img_train\u001B[49m\u001B[43m,\u001B[49m\u001B[43m \u001B[49m\u001B[43my_audio_train\u001B[49m\n\u001B[0;32m      3\u001B[0m \u001B[43m)\u001B[49m\n\u001B[0;32m      5\u001B[0m min_samples_val \u001B[38;5;241m=\u001B[39m \u001B[38;5;28mmin\u001B[39m(\u001B[38;5;28mlen\u001B[39m(y_img_val), \u001B[38;5;28mlen\u001B[39m(y_audio_val))\n\u001B[0;32m      6\u001B[0m x_img_val, x_audio_val, y_img_val, y_audio_val \u001B[38;5;241m=\u001B[39m stratified_downsample(\n\u001B[0;32m      7\u001B[0m     x_img_val, x_audio_val, y_img_val, y_audio_val, downsample_size\u001B[38;5;241m=\u001B[39mmin_samples_val\n\u001B[0;32m      8\u001B[0m )\n",
      "Cell \u001B[1;32mIn[14], line 39\u001B[0m, in \u001B[0;36mstratified_downsample\u001B[1;34m(x_img, x_audio, y_img, y_audio, downsample_size)\u001B[0m\n\u001B[0;32m     36\u001B[0m np\u001B[38;5;241m.\u001B[39mrandom\u001B[38;5;241m.\u001B[39mshuffle(selected_indices)\n\u001B[0;32m     38\u001B[0m x_img_ds \u001B[38;5;241m=\u001B[39m x_img[selected_indices]\n\u001B[1;32m---> 39\u001B[0m x_audio_ds \u001B[38;5;241m=\u001B[39m \u001B[43mx_audio\u001B[49m\u001B[43m[\u001B[49m\u001B[43mselected_indices\u001B[49m\u001B[43m]\u001B[49m\n\u001B[0;32m     40\u001B[0m y_img_ds \u001B[38;5;241m=\u001B[39m y_img[selected_indices]\n\u001B[0;32m     41\u001B[0m y_audio_ds \u001B[38;5;241m=\u001B[39m y_audio[selected_indices]\n",
      "\u001B[1;31mIndexError\u001B[0m: index 20415 is out of bounds for axis 0 with size 19184"
     ]
    }
   ],
   "execution_count": 15
  },
  {
   "metadata": {},
   "cell_type": "code",
   "outputs": [],
   "execution_count": null,
   "source": "",
   "id": "65397b9ed766357e"
  },
  {
   "metadata": {
    "ExecuteTime": {
     "end_time": "2025-05-11T09:27:43.686317Z",
     "start_time": "2025-05-11T09:27:43.671319Z"
    }
   },
   "cell_type": "code",
   "source": [
    "tf.keras.backend.clear_session()\n",
    "gc.collect()"
   ],
   "id": "825b9a046a50f32a",
   "outputs": [],
   "execution_count": 20
  },
  {
   "metadata": {},
   "cell_type": "markdown",
   "source": "## Prepare needed callbacks",
   "id": "d5b80a4155e67bde"
  },
  {
   "metadata": {
    "ExecuteTime": {
     "end_time": "2025-05-11T09:28:42.633448Z",
     "start_time": "2025-05-11T09:28:42.620453Z"
    }
   },
   "cell_type": "code",
   "source": [
    "early = tf.keras.callbacks.EarlyStopping(\n",
    "    monitor='val_loss',\n",
    "    restore_best_weights=True,\n",
    "    mode='min',\n",
    "    # start_from_epoch=2,\n",
    "    patience=5\n",
    ")\n",
    "\n",
    "checkpoint = tf.keras.callbacks.ModelCheckpoint(\n",
    "    filepath=os.path.join(MODEL_CHECKPOINT_PATH, 'best_model.keras'),\n",
    "    verbose=2,\n",
    "    save_best_only=True,\n",
    "    monitor='val_loss',\n",
    "    mode='min'\n",
    ")\n",
    "\n",
    "lr_scheduler = tf.keras.callbacks.ReduceLROnPlateau(monitor='val_loss',\n",
    "                                                    factor=0.2,\n",
    "                                                    min_lr=0.000001,\n",
    "                                                    patience=3,\n",
    "                                                    mode='min'\n",
    "                                                    )"
   ],
   "id": "ad736d96d7673a01",
   "outputs": [],
   "execution_count": 22
  },
  {
   "metadata": {},
   "cell_type": "markdown",
   "source": "## Train",
   "id": "881771d02731a0a9"
  },
  {
   "metadata": {
    "ExecuteTime": {
     "end_time": "2025-05-11T09:29:40.268318Z",
     "start_time": "2025-05-11T09:29:29.670905Z"
    }
   },
   "cell_type": "code",
   "source": [
    "history = model.fit(\n",
    "    x=[x_img_train, x_audio_train],\n",
    "    y=[y_img_train, y_audio_train],\n",
    "    validation_data=(\n",
    "        [x_img_val, x_audio_val],\n",
    "        [y_img_val, y_audio_val]\n",
    "    ),\n",
    "    callbacks=[lr_scheduler, checkpoint],\n",
    "    epochs=100,\n",
    "    batch_size=BATCH_SIZE,\n",
    "    steps_per_epoch=len(x_img_train) // BATCH_SIZE,\n",
    ")\n"
   ],
   "id": "dbff00f03908983d",
   "outputs": [
    {
     "ename": "InternalError",
     "evalue": "Failed copying input tensor from /job:localhost/replica:0/task:0/device:CPU:0 to /job:localhost/replica:0/task:0/device:GPU:0 in order to run _EagerConst: Dst tensor is not initialized.",
     "output_type": "error",
     "traceback": [
      "\u001B[1;31m---------------------------------------------------------------------------\u001B[0m",
      "\u001B[1;31mInternalError\u001B[0m                             Traceback (most recent call last)",
      "Cell \u001B[1;32mIn[24], line 1\u001B[0m\n\u001B[1;32m----> 1\u001B[0m history \u001B[38;5;241m=\u001B[39m \u001B[43mmodel\u001B[49m\u001B[38;5;241;43m.\u001B[39;49m\u001B[43mfit\u001B[49m\u001B[43m(\u001B[49m\n\u001B[0;32m      2\u001B[0m \u001B[43m    \u001B[49m\u001B[43mx\u001B[49m\u001B[38;5;241;43m=\u001B[39;49m\u001B[43m[\u001B[49m\u001B[43mx_img_train\u001B[49m\u001B[43m,\u001B[49m\u001B[43m \u001B[49m\u001B[43mx_audio_train\u001B[49m\u001B[43m]\u001B[49m\u001B[43m,\u001B[49m\n\u001B[0;32m      3\u001B[0m \u001B[43m    \u001B[49m\u001B[43my\u001B[49m\u001B[38;5;241;43m=\u001B[39;49m\u001B[43m[\u001B[49m\u001B[43my_img_train\u001B[49m\u001B[43m,\u001B[49m\u001B[43m \u001B[49m\u001B[43my_audio_train\u001B[49m\u001B[43m]\u001B[49m\u001B[43m,\u001B[49m\n\u001B[0;32m      4\u001B[0m \u001B[43m    \u001B[49m\u001B[43mvalidation_data\u001B[49m\u001B[38;5;241;43m=\u001B[39;49m\u001B[43m(\u001B[49m\n\u001B[0;32m      5\u001B[0m \u001B[43m        \u001B[49m\u001B[43m[\u001B[49m\u001B[43mx_img_val\u001B[49m\u001B[43m,\u001B[49m\u001B[43m \u001B[49m\u001B[43mx_audio_val\u001B[49m\u001B[43m]\u001B[49m\u001B[43m,\u001B[49m\n\u001B[0;32m      6\u001B[0m \u001B[43m        \u001B[49m\u001B[43m[\u001B[49m\u001B[43my_img_val\u001B[49m\u001B[43m,\u001B[49m\u001B[43m \u001B[49m\u001B[43my_audio_val\u001B[49m\u001B[43m]\u001B[49m\n\u001B[0;32m      7\u001B[0m \u001B[43m    \u001B[49m\u001B[43m)\u001B[49m\u001B[43m,\u001B[49m\n\u001B[0;32m      8\u001B[0m \u001B[43m    \u001B[49m\u001B[43mcallbacks\u001B[49m\u001B[38;5;241;43m=\u001B[39;49m\u001B[43m[\u001B[49m\u001B[43mlr_scheduler\u001B[49m\u001B[43m,\u001B[49m\u001B[43m \u001B[49m\u001B[43mcheckpoint\u001B[49m\u001B[43m]\u001B[49m\u001B[43m,\u001B[49m\n\u001B[0;32m      9\u001B[0m \u001B[43m    \u001B[49m\u001B[43mepochs\u001B[49m\u001B[38;5;241;43m=\u001B[39;49m\u001B[38;5;241;43m300\u001B[39;49m\u001B[43m,\u001B[49m\n\u001B[0;32m     10\u001B[0m \u001B[43m    \u001B[49m\u001B[43mbatch_size\u001B[49m\u001B[38;5;241;43m=\u001B[39;49m\u001B[43mBATCH_SIZE\u001B[49m\u001B[43m,\u001B[49m\n\u001B[0;32m     11\u001B[0m \u001B[43m    \u001B[49m\u001B[43msteps_per_epoch\u001B[49m\u001B[38;5;241;43m=\u001B[39;49m\u001B[38;5;28;43mlen\u001B[39;49m\u001B[43m(\u001B[49m\u001B[43mx_img_train\u001B[49m\u001B[43m)\u001B[49m\u001B[43m \u001B[49m\u001B[38;5;241;43m/\u001B[39;49m\u001B[38;5;241;43m/\u001B[39;49m\u001B[43m \u001B[49m\u001B[43mBATCH_SIZE\u001B[49m\u001B[43m,\u001B[49m\n\u001B[0;32m     12\u001B[0m \u001B[43m)\u001B[49m\n",
      "File \u001B[1;32mC:\\ProgramData\\miniconda3\\envs\\tf\\lib\\site-packages\\keras\\utils\\traceback_utils.py:70\u001B[0m, in \u001B[0;36mfilter_traceback.<locals>.error_handler\u001B[1;34m(*args, **kwargs)\u001B[0m\n\u001B[0;32m     67\u001B[0m     filtered_tb \u001B[38;5;241m=\u001B[39m _process_traceback_frames(e\u001B[38;5;241m.\u001B[39m__traceback__)\n\u001B[0;32m     68\u001B[0m     \u001B[38;5;66;03m# To get the full stack trace, call:\u001B[39;00m\n\u001B[0;32m     69\u001B[0m     \u001B[38;5;66;03m# `tf.debugging.disable_traceback_filtering()`\u001B[39;00m\n\u001B[1;32m---> 70\u001B[0m     \u001B[38;5;28;01mraise\u001B[39;00m e\u001B[38;5;241m.\u001B[39mwith_traceback(filtered_tb) \u001B[38;5;28;01mfrom\u001B[39;00m\u001B[38;5;250m \u001B[39m\u001B[38;5;28;01mNone\u001B[39;00m\n\u001B[0;32m     71\u001B[0m \u001B[38;5;28;01mfinally\u001B[39;00m:\n\u001B[0;32m     72\u001B[0m     \u001B[38;5;28;01mdel\u001B[39;00m filtered_tb\n",
      "File \u001B[1;32mC:\\ProgramData\\miniconda3\\envs\\tf\\lib\\site-packages\\tensorflow\\python\\framework\\constant_op.py:102\u001B[0m, in \u001B[0;36mconvert_to_eager_tensor\u001B[1;34m(value, ctx, dtype)\u001B[0m\n\u001B[0;32m    100\u001B[0m     dtype \u001B[38;5;241m=\u001B[39m dtypes\u001B[38;5;241m.\u001B[39mas_dtype(dtype)\u001B[38;5;241m.\u001B[39mas_datatype_enum\n\u001B[0;32m    101\u001B[0m ctx\u001B[38;5;241m.\u001B[39mensure_initialized()\n\u001B[1;32m--> 102\u001B[0m \u001B[38;5;28;01mreturn\u001B[39;00m \u001B[43mops\u001B[49m\u001B[38;5;241;43m.\u001B[39;49m\u001B[43mEagerTensor\u001B[49m\u001B[43m(\u001B[49m\u001B[43mvalue\u001B[49m\u001B[43m,\u001B[49m\u001B[43m \u001B[49m\u001B[43mctx\u001B[49m\u001B[38;5;241;43m.\u001B[39;49m\u001B[43mdevice_name\u001B[49m\u001B[43m,\u001B[49m\u001B[43m \u001B[49m\u001B[43mdtype\u001B[49m\u001B[43m)\u001B[49m\n",
      "\u001B[1;31mInternalError\u001B[0m: Failed copying input tensor from /job:localhost/replica:0/task:0/device:CPU:0 to /job:localhost/replica:0/task:0/device:GPU:0 in order to run _EagerConst: Dst tensor is not initialized."
     ]
    }
   ],
   "execution_count": 24
  },
  {
   "metadata": {},
   "cell_type": "markdown",
   "source": "## Plot the training result",
   "id": "ef2f75c0c134bfd1"
  },
  {
   "metadata": {},
   "cell_type": "code",
   "outputs": [],
   "execution_count": null,
   "source": [
    "def plot_and_save(metric_name, history, ylabel, filename):\n",
    "    plt.figure()\n",
    "    plt.plot(history.history[metric_name], label=f'Train {ylabel}')\n",
    "    if f'val_{metric_name}' in history.history:\n",
    "        plt.plot(history.history[f'val_{metric_name}'], label=f'Val {ylabel}')\n",
    "    plt.title(f'{ylabel} over Epochs')\n",
    "    plt.xlabel('Epochs')\n",
    "    plt.ylabel(ylabel)\n",
    "    plt.legend()\n",
    "    plt.grid(True)\n",
    "    plt.savefig(filename)\n",
    "    plt.close()"
   ],
   "id": "cd16c995e624e989"
  },
  {
   "metadata": {},
   "cell_type": "code",
   "outputs": [],
   "execution_count": null,
   "source": [
    "plot_and_save('loss', history, 'Loss', 'loss_plot.png')\n",
    "plot_and_save('image_class_loss', history, 'Image Classification Loss', 'image_class_loss_plot.png')\n",
    "plot_and_save('audio_class_loss', history, 'Audio Classification Loss', 'audio_class_loss_plot.png')\n",
    "plot_and_save('image_class_accuracy', history, 'Image Classification Accuracy', 'image_class_accuracy_plot.png')\n",
    "plot_and_save('audio_class_accuracy', history, 'Audio Classification Accuracy', 'audio_class_accuracy_plot.png')"
   ],
   "id": "f88889e03d007176"
  },
  {
   "metadata": {},
   "cell_type": "markdown",
   "source": [
    "# Evaluation\n",
    "## Using model.evaluate"
   ],
   "id": "f3e8014e73d27107"
  },
  {
   "metadata": {},
   "cell_type": "code",
   "outputs": [],
   "execution_count": null,
   "source": [
    "model.evaluate([x_img_val, x_audio_val], [y_img_val, y_audio_val], batch_size=BATCH_SIZE, verbose=2,\n",
    "               steps=len(x_img_val) // BATCH_SIZE)"
   ],
   "id": "d6cf988c857a73a7"
  },
  {
   "metadata": {},
   "cell_type": "code",
   "outputs": [],
   "execution_count": null,
   "source": [
    "model.evaluate([x_img_test, x_audio_test], [y_img_test, y_audio_test], batch_size=BATCH_SIZE, verbose=2,\n",
    "               steps=len(x_img_test) // BATCH_SIZE)"
   ],
   "id": "f84e0679a0982eda"
  },
  {
   "metadata": {},
   "cell_type": "code",
   "outputs": [],
   "execution_count": null,
   "source": [
    "predictions = model.predict([x_img_test, x_audio_test], batch_size=BATCH_SIZE)\n",
    "\n",
    "image_preds = predictions[0]\n",
    "audio_preds = predictions[1]"
   ],
   "id": "61e26bb0474bd730"
  },
  {
   "metadata": {},
   "cell_type": "markdown",
   "source": "## Using confusion matrix",
   "id": "ce7a6c039fb3ae96"
  },
  {
   "metadata": {},
   "cell_type": "code",
   "outputs": [],
   "execution_count": null,
   "source": [
    "image_class = np.argmax(predictions[0], axis=1)\n",
    "audio_class = np.argmax(predictions[1], axis=1)\n",
    "\n",
    "image_cm = confusion_matrix(y_img_test, image_class)\n",
    "audio_cm = confusion_matrix(y_audio_test, audio_class)"
   ],
   "id": "e037339b1eef8188"
  },
  {
   "metadata": {},
   "cell_type": "markdown",
   "source": "### Plot the confusion Matrix",
   "id": "5f5f4b73c945eb4e"
  },
  {
   "metadata": {},
   "cell_type": "code",
   "outputs": [],
   "execution_count": null,
   "source": [
    "cm = confusion_matrix(y_audio_test, predictions)\n",
    "\n",
    "plt.figure(figsize=(10, 8))  # Set the figure size if needed\n",
    "sns.heatmap(image_cm, annot=True, cmap='Blues', fmt='g')\n",
    "\n",
    "plt.title('Confusion Matrix Image', pad=20, fontsize=20, fontweight=\"bold\")\n",
    "plt.ylabel('Actual')\n",
    "plt.xlabel('Predicted')\n",
    "\n",
    "# Set ticks for the x and y axes using class names\n",
    "plt.xticks(ticks=range(len(image_class)), labels=image_class, rotation=45)\n",
    "plt.yticks(ticks=range(len(image_class)), labels=image_class, rotation=0)\n",
    "plt.savefig('confusion_matrix_image.png', dpi=300, bbox_inches='tight')\n",
    "plt.show()"
   ],
   "id": "91273bf386645be8"
  },
  {
   "metadata": {},
   "cell_type": "code",
   "outputs": [],
   "execution_count": null,
   "source": [
    "cm = confusion_matrix(y_audio_test, predictions)\n",
    "\n",
    "plt.figure(figsize=(10, 8))  # Set the figure size if needed\n",
    "sns.heatmap(audio_cm, annot=True, cmap='Blues', fmt='g')\n",
    "\n",
    "plt.title('Confusion Matrix Audio', pad=20, fontsize=20, fontweight=\"bold\")\n",
    "plt.ylabel('Actual')\n",
    "plt.xlabel('Predicted')\n",
    "\n",
    "# Set ticks for the x and y axes using class names\n",
    "plt.xticks(ticks=range(len(audio_class)), labels=audio_class, rotation=45)\n",
    "plt.yticks(ticks=range(len(audio_class)), labels=audio_class, rotation=0)\n",
    "plt.savefig('confusion_matrix_audio.png', dpi=300, bbox_inches='tight')\n",
    "plt.show()"
   ],
   "id": "ac62e53f590e65c3"
  },
  {
   "metadata": {},
   "cell_type": "markdown",
   "source": "## Using Classification Report",
   "id": "7be3b004f38a6247"
  },
  {
   "metadata": {},
   "cell_type": "code",
   "outputs": [],
   "execution_count": null,
   "source": [
    "aud_classes = [x for x in os.listdir(AUDIO_PATH)]\n",
    "img_classes = [x for x in os.listdir(TRAIN_IMAGE_PATH)]\n",
    "\n",
    "print(aud_classes, img_classes, sep='\\n')"
   ],
   "id": "f1553fa92fac32bc"
  },
  {
   "metadata": {},
   "cell_type": "code",
   "outputs": [],
   "execution_count": null,
   "source": "print(classification_report(y_img_test, image_class))",
   "id": "ceaf7236de7442c0"
  },
  {
   "metadata": {},
   "cell_type": "code",
   "outputs": [],
   "execution_count": null,
   "source": "print(classification_report(y_audio_test, audio_class))",
   "id": "1a082b07c292e2e"
  },
  {
   "metadata": {},
   "cell_type": "code",
   "outputs": [],
   "execution_count": null,
   "source": "model.save('model_sc3t3.h5')",
   "id": "e79290c20c7b28e9"
  }
 ],
 "metadata": {
  "kernelspec": {
   "display_name": "Python 3",
   "language": "python",
   "name": "python3"
  },
  "language_info": {
   "codemirror_mode": {
    "name": "ipython",
    "version": 2
   },
   "file_extension": ".py",
   "mimetype": "text/x-python",
   "name": "python",
   "nbconvert_exporter": "python",
   "pygments_lexer": "ipython2",
   "version": "2.7.6"
  }
 },
 "nbformat": 4,
 "nbformat_minor": 5
}
