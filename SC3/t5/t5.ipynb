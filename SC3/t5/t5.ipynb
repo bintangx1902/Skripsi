{
 "cells": [
  {
   "cell_type": "code",
   "id": "initial_id",
   "metadata": {
    "collapsed": true,
    "ExecuteTime": {
     "end_time": "2025-05-18T08:09:02.315593Z",
     "start_time": "2025-05-18T08:09:00.051860Z"
    }
   },
   "source": [
    "import seaborn as sns\n",
    "import gc\n",
    "\n",
    "from shared.utils import *\n",
    "from shared.local_path import *\n",
    "\n",
    "from matplotlib import pyplot as plt\n",
    "from sklearn.preprocessing import LabelEncoder\n",
    "from sklearn.model_selection import train_test_split\n",
    "from sklearn.metrics import classification_report, confusion_matrix"
   ],
   "outputs": [],
   "execution_count": 1
  },
  {
   "metadata": {},
   "cell_type": "markdown",
   "source": [
    "# Data Preprocessing\n",
    "### Read Audio Data"
   ],
   "id": "b4485c269dba66e4"
  },
  {
   "metadata": {
    "ExecuteTime": {
     "end_time": "2025-05-18T08:09:03.238015Z",
     "start_time": "2025-05-18T08:09:02.773372Z"
    }
   },
   "cell_type": "code",
   "source": [
    "label = []\n",
    "filepath = []\n",
    "\n",
    "for classes in os.listdir(AUDIO_PATH):\n",
    "    for file in os.listdir(os.path.join(AUDIO_PATH, classes)):\n",
    "        file_path = os.path.join(AUDIO_PATH, classes, file)\n",
    "\n",
    "        filepath.append(file_path)\n",
    "        label.append(classes)\n",
    "\n",
    "audio = pd.DataFrame({\n",
    "    'filepath': filepath,\n",
    "    'label': label,\n",
    "})\n",
    "\n",
    "del filepath, label\n",
    "\n",
    "audio.head()"
   ],
   "id": "d38fbe05d3e923b7",
   "outputs": [
    {
     "data": {
      "text/plain": [
       "                                            filepath  label\n",
       "0  E:\\Skripsi\\data\\audio\\angry\\03-01-05-01-01-01-...  angry\n",
       "1  E:\\Skripsi\\data\\audio\\angry\\03-01-05-01-01-01-...  angry\n",
       "2  E:\\Skripsi\\data\\audio\\angry\\03-01-05-01-01-01-...  angry\n",
       "3  E:\\Skripsi\\data\\audio\\angry\\03-01-05-01-01-01-...  angry\n",
       "4  E:\\Skripsi\\data\\audio\\angry\\03-01-05-01-01-01-...  angry"
      ],
      "text/html": [
       "<div>\n",
       "<style scoped>\n",
       "    .dataframe tbody tr th:only-of-type {\n",
       "        vertical-align: middle;\n",
       "    }\n",
       "\n",
       "    .dataframe tbody tr th {\n",
       "        vertical-align: top;\n",
       "    }\n",
       "\n",
       "    .dataframe thead th {\n",
       "        text-align: right;\n",
       "    }\n",
       "</style>\n",
       "<table border=\"1\" class=\"dataframe\">\n",
       "  <thead>\n",
       "    <tr style=\"text-align: right;\">\n",
       "      <th></th>\n",
       "      <th>filepath</th>\n",
       "      <th>label</th>\n",
       "    </tr>\n",
       "  </thead>\n",
       "  <tbody>\n",
       "    <tr>\n",
       "      <th>0</th>\n",
       "      <td>E:\\Skripsi\\data\\audio\\angry\\03-01-05-01-01-01-...</td>\n",
       "      <td>angry</td>\n",
       "    </tr>\n",
       "    <tr>\n",
       "      <th>1</th>\n",
       "      <td>E:\\Skripsi\\data\\audio\\angry\\03-01-05-01-01-01-...</td>\n",
       "      <td>angry</td>\n",
       "    </tr>\n",
       "    <tr>\n",
       "      <th>2</th>\n",
       "      <td>E:\\Skripsi\\data\\audio\\angry\\03-01-05-01-01-01-...</td>\n",
       "      <td>angry</td>\n",
       "    </tr>\n",
       "    <tr>\n",
       "      <th>3</th>\n",
       "      <td>E:\\Skripsi\\data\\audio\\angry\\03-01-05-01-01-01-...</td>\n",
       "      <td>angry</td>\n",
       "    </tr>\n",
       "    <tr>\n",
       "      <th>4</th>\n",
       "      <td>E:\\Skripsi\\data\\audio\\angry\\03-01-05-01-01-01-...</td>\n",
       "      <td>angry</td>\n",
       "    </tr>\n",
       "  </tbody>\n",
       "</table>\n",
       "</div>"
      ]
     },
     "execution_count": 2,
     "metadata": {},
     "output_type": "execute_result"
    }
   ],
   "execution_count": 2
  },
  {
   "metadata": {
    "ExecuteTime": {
     "end_time": "2025-05-18T08:09:03.300760Z",
     "start_time": "2025-05-18T08:09:03.285761Z"
    }
   },
   "cell_type": "code",
   "source": [
    "le = LabelEncoder()\n",
    "le.fit(audio['label'])\n",
    "audio['label_encoded'] = le.transform(audio['label'])\n",
    "num_classes = len(le.classes_)"
   ],
   "id": "87361d67a2973e74",
   "outputs": [],
   "execution_count": 3
  },
  {
   "metadata": {},
   "cell_type": "markdown",
   "source": "### Read Image Data",
   "id": "fb39eefea78185cf"
  },
  {
   "metadata": {
    "ExecuteTime": {
     "end_time": "2025-05-18T08:09:04.139122Z",
     "start_time": "2025-05-18T08:09:03.348762Z"
    }
   },
   "cell_type": "code",
   "source": [
    "filepath = []\n",
    "label = []\n",
    "\n",
    "i = 0\n",
    "for classes in os.listdir(TRAIN_IMAGE_PATH):\n",
    "    for file in os.listdir(os.path.join(TRAIN_IMAGE_PATH, classes)):\n",
    "        path = os.path.join(TRAIN_IMAGE_PATH, classes, file)\n",
    "        filepath.append(path)\n",
    "        label.append(classes)\n",
    "\n",
    "train_df = pd.DataFrame({\n",
    "    'filepath': filepath,\n",
    "    'label': label\n",
    "})\n",
    "\n",
    "del filepath, label\n",
    "\n",
    "print(train_df.shape)\n",
    "print(train_df['label'].unique())\n",
    "train_df.head()"
   ],
   "id": "c0c919652686485a",
   "outputs": [
    {
     "name": "stdout",
     "output_type": "stream",
     "text": [
      "(33348, 2)\n",
      "['angry' 'disgust' 'fear' 'happy' 'neutral' 'sad' 'surprise']\n"
     ]
    },
    {
     "data": {
      "text/plain": [
       "                                            filepath  label\n",
       "0  E:\\Skripsi\\data\\new_data\\train\\angry\\angry_0_1...  angry\n",
       "1  E:\\Skripsi\\data\\new_data\\train\\angry\\angry_0_1...  angry\n",
       "2  E:\\Skripsi\\data\\new_data\\train\\angry\\angry_0_1...  angry\n",
       "3  E:\\Skripsi\\data\\new_data\\train\\angry\\angry_0_1...  angry\n",
       "4  E:\\Skripsi\\data\\new_data\\train\\angry\\angry_0_1...  angry"
      ],
      "text/html": [
       "<div>\n",
       "<style scoped>\n",
       "    .dataframe tbody tr th:only-of-type {\n",
       "        vertical-align: middle;\n",
       "    }\n",
       "\n",
       "    .dataframe tbody tr th {\n",
       "        vertical-align: top;\n",
       "    }\n",
       "\n",
       "    .dataframe thead th {\n",
       "        text-align: right;\n",
       "    }\n",
       "</style>\n",
       "<table border=\"1\" class=\"dataframe\">\n",
       "  <thead>\n",
       "    <tr style=\"text-align: right;\">\n",
       "      <th></th>\n",
       "      <th>filepath</th>\n",
       "      <th>label</th>\n",
       "    </tr>\n",
       "  </thead>\n",
       "  <tbody>\n",
       "    <tr>\n",
       "      <th>0</th>\n",
       "      <td>E:\\Skripsi\\data\\new_data\\train\\angry\\angry_0_1...</td>\n",
       "      <td>angry</td>\n",
       "    </tr>\n",
       "    <tr>\n",
       "      <th>1</th>\n",
       "      <td>E:\\Skripsi\\data\\new_data\\train\\angry\\angry_0_1...</td>\n",
       "      <td>angry</td>\n",
       "    </tr>\n",
       "    <tr>\n",
       "      <th>2</th>\n",
       "      <td>E:\\Skripsi\\data\\new_data\\train\\angry\\angry_0_1...</td>\n",
       "      <td>angry</td>\n",
       "    </tr>\n",
       "    <tr>\n",
       "      <th>3</th>\n",
       "      <td>E:\\Skripsi\\data\\new_data\\train\\angry\\angry_0_1...</td>\n",
       "      <td>angry</td>\n",
       "    </tr>\n",
       "    <tr>\n",
       "      <th>4</th>\n",
       "      <td>E:\\Skripsi\\data\\new_data\\train\\angry\\angry_0_1...</td>\n",
       "      <td>angry</td>\n",
       "    </tr>\n",
       "  </tbody>\n",
       "</table>\n",
       "</div>"
      ]
     },
     "execution_count": 4,
     "metadata": {},
     "output_type": "execute_result"
    }
   ],
   "execution_count": 4
  },
  {
   "metadata": {
    "ExecuteTime": {
     "end_time": "2025-05-18T08:09:04.453625Z",
     "start_time": "2025-05-18T08:09:04.203433Z"
    }
   },
   "cell_type": "code",
   "source": [
    "filepath = []\n",
    "label = []\n",
    "\n",
    "i = 0\n",
    "for classes in os.listdir(TEST_IMAGE_PATH):\n",
    "    for file in os.listdir(os.path.join(TEST_IMAGE_PATH, classes)):\n",
    "        path = os.path.join(TEST_IMAGE_PATH, classes, file)\n",
    "        filepath.append(path)\n",
    "        label.append(classes)\n",
    "\n",
    "img_test_df = pd.DataFrame({\n",
    "    'filepath': filepath,\n",
    "    'label': label\n",
    "})\n",
    "\n",
    "del filepath, label\n",
    "\n",
    "print(img_test_df.shape)\n",
    "print(img_test_df['label'].unique())\n",
    "img_test_df.head()"
   ],
   "id": "c71041d0d4f41f26",
   "outputs": [
    {
     "name": "stdout",
     "output_type": "stream",
     "text": [
      "(7831, 2)\n",
      "['angry' 'disgust' 'fear' 'happy' 'neutral' 'sad' 'surprise']\n"
     ]
    },
    {
     "data": {
      "text/plain": [
       "                                           filepath  label\n",
       "0     E:\\Skripsi\\data\\new_data\\test\\angry\\Anger.jpg  angry\n",
       "1   E:\\Skripsi\\data\\new_data\\test\\angry\\Anger_1.jpg  angry\n",
       "2  E:\\Skripsi\\data\\new_data\\test\\angry\\Anger_10.jpg  angry\n",
       "3  E:\\Skripsi\\data\\new_data\\test\\angry\\Anger_11.jpg  angry\n",
       "4  E:\\Skripsi\\data\\new_data\\test\\angry\\Anger_12.jpg  angry"
      ],
      "text/html": [
       "<div>\n",
       "<style scoped>\n",
       "    .dataframe tbody tr th:only-of-type {\n",
       "        vertical-align: middle;\n",
       "    }\n",
       "\n",
       "    .dataframe tbody tr th {\n",
       "        vertical-align: top;\n",
       "    }\n",
       "\n",
       "    .dataframe thead th {\n",
       "        text-align: right;\n",
       "    }\n",
       "</style>\n",
       "<table border=\"1\" class=\"dataframe\">\n",
       "  <thead>\n",
       "    <tr style=\"text-align: right;\">\n",
       "      <th></th>\n",
       "      <th>filepath</th>\n",
       "      <th>label</th>\n",
       "    </tr>\n",
       "  </thead>\n",
       "  <tbody>\n",
       "    <tr>\n",
       "      <th>0</th>\n",
       "      <td>E:\\Skripsi\\data\\new_data\\test\\angry\\Anger.jpg</td>\n",
       "      <td>angry</td>\n",
       "    </tr>\n",
       "    <tr>\n",
       "      <th>1</th>\n",
       "      <td>E:\\Skripsi\\data\\new_data\\test\\angry\\Anger_1.jpg</td>\n",
       "      <td>angry</td>\n",
       "    </tr>\n",
       "    <tr>\n",
       "      <th>2</th>\n",
       "      <td>E:\\Skripsi\\data\\new_data\\test\\angry\\Anger_10.jpg</td>\n",
       "      <td>angry</td>\n",
       "    </tr>\n",
       "    <tr>\n",
       "      <th>3</th>\n",
       "      <td>E:\\Skripsi\\data\\new_data\\test\\angry\\Anger_11.jpg</td>\n",
       "      <td>angry</td>\n",
       "    </tr>\n",
       "    <tr>\n",
       "      <th>4</th>\n",
       "      <td>E:\\Skripsi\\data\\new_data\\test\\angry\\Anger_12.jpg</td>\n",
       "      <td>angry</td>\n",
       "    </tr>\n",
       "  </tbody>\n",
       "</table>\n",
       "</div>"
      ]
     },
     "execution_count": 5,
     "metadata": {},
     "output_type": "execute_result"
    }
   ],
   "execution_count": 5
  },
  {
   "metadata": {
    "ExecuteTime": {
     "end_time": "2025-05-18T08:09:04.547627Z",
     "start_time": "2025-05-18T08:09:04.533626Z"
    }
   },
   "cell_type": "code",
   "source": [
    "le = LabelEncoder()\n",
    "le.fit(train_df['label'])\n",
    "train_df['label_encoded'] = le.transform(train_df['label'])\n",
    "img_test_df['label_encoded'] = le.transform(img_test_df['label'])"
   ],
   "id": "92230c1bb52efd13",
   "outputs": [],
   "execution_count": 6
  },
  {
   "metadata": {},
   "cell_type": "markdown",
   "source": "## transform the filepath into image data",
   "id": "c6fec7d0746f0d0e"
  },
  {
   "metadata": {},
   "cell_type": "code",
   "outputs": [],
   "execution_count": null,
   "source": [
    "with tf.device('/GPU:0'):\n",
    "    audio['data'] = audio.filepath.apply(preprocess_audio)\n",
    "\n",
    "with tf.device('/GPU:0'):    \n",
    "    train_df['data'] = train_df['filepath'].apply(\n",
    "        lambda x: preprocess_image(x, (100, 100), augment=True, normalize=True))\n",
    "    img_test_df['data'] = img_test_df['filepath'].apply(\n",
    "        lambda x: preprocess_image(x, (100, 100), normalize=True)\n",
    "    )\n",
    "    "
   ],
   "id": "3ad405e920f8613f"
  },
  {
   "metadata": {},
   "cell_type": "markdown",
   "source": "## Split and Shuffle Dataset into train, val, and test",
   "id": "82badffd9d6aeb00"
  },
  {
   "metadata": {
    "ExecuteTime": {
     "end_time": "2025-05-18T08:09:04.642921Z",
     "start_time": "2025-05-18T08:09:04.612634Z"
    }
   },
   "cell_type": "code",
   "source": [
    "# Audio Data\n",
    "audio = audio.sample(frac=1).reset_index(drop=True)\n",
    "_, aud_temp = train_test_split(audio, test_size=0.5, random_state=42)\n",
    "aud_val_df, aud_test_df = train_test_split(aud_temp, test_size=.5, random_state=42)\n",
    "\n",
    "# Image Data\n",
    "train_df = train_df.sample(frac=1).reset_index(drop=True)\n",
    "_, img_val_df = train_test_split(train_df, test_size=.2, random_state=100, shuffle=True)\n",
    "\n",
    "del aud_temp, _"
   ],
   "id": "f93245b800fb8c2a",
   "outputs": [],
   "execution_count": 7
  },
  {
   "metadata": {},
   "cell_type": "markdown",
   "source": "## Downsampling with following least dataset amount",
   "id": "f9015cda1cda573d"
  },
  {
   "metadata": {},
   "cell_type": "code",
   "outputs": [],
   "execution_count": null,
   "source": [
    "train_df, audio = downsample_df(train_df, audio)\n",
    "img_val_df, aud_val_df = downsample_df(img_val_df, aud_val_df)\n",
    "img_test_df, aud_test_df = downsample_df(img_test_df, aud_test_df)"
   ],
   "id": "6909a8372ec6e293"
  },
  {
   "metadata": {},
   "cell_type": "code",
   "outputs": [],
   "execution_count": null,
   "source": [
    "print(len(train_df))\n",
    "print(len(img_val_df))\n",
    "print(len(img_test_df))\n",
    "\n",
    "print(\"===============================\")\n",
    "\n",
    "print(len(audio))\n",
    "print(len(aud_val_df))\n",
    "print(len(aud_test_df))"
   ],
   "id": "eaa5c3fd8cfc20b5"
  },
  {
   "metadata": {},
   "cell_type": "markdown",
   "source": "## Convert to Numpy",
   "id": "572b7d86cb7382e6"
  },
  {
   "metadata": {},
   "cell_type": "code",
   "source": [
    "# Audio Data\n",
    "x_audio_train = np.stack(audio['data'].values)\n",
    "y_audio_train = np.array(audio['label_encoded'].values)\n",
    "\n",
    "x_audio_val = np.stack(aud_val_df['data'].values)\n",
    "y_audio_val = np.array(aud_val_df['label_encoded'].values)\n",
    "\n",
    "x_audio_test = np.stack(aud_test_df['data'].values)\n",
    "y_audio_test = np.array(aud_test_df['label_encoded'].values)"
   ],
   "id": "f0d3c7a34f364d3c",
   "outputs": [],
   "execution_count": null
  },
  {
   "metadata": {},
   "cell_type": "code",
   "outputs": [],
   "execution_count": null,
   "source": [
    "x_img_train = np.stack(train_df['data'].values)\n",
    "y_img_train = np.array(train_df['label_encoded'].values)\n",
    "\n",
    "x_img_val = np.stack(img_val_df['data'].values)\n",
    "y_img_val = np.array(img_val_df['label_encoded'].values)\n",
    "\n",
    "x_img_test = np.stack(img_test_df['data'].values)\n",
    "y_img_test = np.array(img_test_df['label_encoded'].values)"
   ],
   "id": "2979bd91f67e17f"
  },
  {
   "metadata": {},
   "cell_type": "code",
   "outputs": [],
   "execution_count": null,
   "source": "del train_df, audio, img_val_df, img_test_df, aud_val_df, aud_test_df",
   "id": "d90c7a8bd1d5e7b2"
  },
  {
   "metadata": {},
   "cell_type": "markdown",
   "source": [
    "# Modeling\n",
    "## Creating Model"
   ],
   "id": "fbcf6770a70c43d8"
  },
  {
   "metadata": {},
   "cell_type": "code",
   "outputs": [],
   "execution_count": null,
   "source": [
    "def create_base_model(inputs: tf.keras.layers.Input, instance_name: str, freeze_layer=False) -> tf.keras.Model:\n",
    "    base = tf.keras.applications.VGG19(\n",
    "        include_top=False,\n",
    "        weights='imagenet',\n",
    "        input_tensor=inputs,\n",
    "        pooling=None\n",
    "    )\n",
    "    \n",
    "    if freeze_layer:\n",
    "        for layer in base.layers:\n",
    "            layer.trainable = False\n",
    "            \n",
    "    outputs = base(inputs)\n",
    "    return tf.keras.Model(base.inputs, outputs, name=f\"vgg19_{instance_name}\")"
   ],
   "id": "3d8bcb8a27ee7d52"
  },
  {
   "metadata": {},
   "cell_type": "code",
   "outputs": [],
   "execution_count": null,
   "source": [
    "input_image = tf.keras.Input(shape=(100, 100, 3), name='input_image')\n",
    "input_audio = tf.keras.Input(shape=(128, 110, 3), name='input_audio')\n",
    "\n",
    "image_base = create_base_model(input_image, 'image_base')\n",
    "audio_base = create_base_model(input_audio, 'audio_base', True)\n",
    "\n",
    "left = image_base(input_image)\n",
    "right = audio_base(input_audio)\n",
    "\n",
    "left = tf.keras.layers.GlobalMaxPooling2D()(left)\n",
    "left = tf.keras.layers.Dense(512, activation='relu')(left)\n",
    "left = tf.keras.layers.Dense(512, activation='relu')(left)\n",
    "\n",
    "right = tf.keras.layers.GlobalAveragePooling2D()(right)\n",
    "right = tf.keras.layers.Dense(512, activation='relu')(right)\n",
    "\n",
    "out1 = tf.keras.layers.Dense(7, activation='softmax', name='image_class')(left)\n",
    "out2 = tf.keras.layers.Dense(8, activation='softmax', name='audio_class')(right)\n",
    "\n",
    "model = tf.keras.models.Model(inputs=[input_image, input_audio], outputs=[out1, out2])"
   ],
   "id": "863a1e9547c3f104"
  },
  {
   "metadata": {},
   "cell_type": "code",
   "outputs": [],
   "execution_count": null,
   "source": "plot_model(model, show_shapes=True, show_layer_names=True)",
   "id": "4443982ecae82513"
  },
  {
   "metadata": {},
   "cell_type": "markdown",
   "source": "## Compile the model",
   "id": "27682b2fa80eba43"
  },
  {
   "metadata": {},
   "cell_type": "code",
   "outputs": [],
   "execution_count": null,
   "source": [
    "model.compile(\n",
    "    optimizer=tf.keras.optimizers.Adam(learning_rate=1e-3),\n",
    "    loss={\n",
    "        'image_class': tf.keras.losses.SparseCategoricalCrossentropy(),\n",
    "        'audio_class': tf.keras.losses.SparseCategoricalCrossentropy()\n",
    "    },\n",
    "    metrics={\n",
    "        'image_class': 'accuracy',\n",
    "        'audio_class': 'accuracy'\n",
    "    }\n",
    ")"
   ],
   "id": "354444500e93155b"
  },
  {
   "metadata": {},
   "cell_type": "code",
   "outputs": [],
   "execution_count": null,
   "source": [
    "tf.keras.backend.clear_session()\n",
    "gc.collect()"
   ],
   "id": "ff82969e8406b315"
  },
  {
   "metadata": {},
   "cell_type": "code",
   "outputs": [],
   "execution_count": null,
   "source": [
    "early = tf.keras.callbacks.EarlyStopping(\n",
    "    monitor='val_loss',\n",
    "    restore_best_weights=True,\n",
    "    mode='min',\n",
    "    # start_from_epoch=2,\n",
    "    patience=5\n",
    ")\n",
    "\n",
    "checkpoint = tf.keras.callbacks.ModelCheckpoint(\n",
    "    filepath=os.path.join('model', 'best_model.keras'),\n",
    "    verbose=2,\n",
    "    save_best_only=True,\n",
    "    monitor='val_loss',\n",
    "    mode='min'\n",
    ")\n",
    "\n",
    "lr_scheduler = tf.keras.callbacks.ReduceLROnPlateau(monitor='val_loss',\n",
    "                                                    factor=0.2,\n",
    "                                                    min_lr=1e-6,\n",
    "                                                    patience=3,\n",
    "                                                    mode='min'\n",
    "                                                    )"
   ],
   "id": "a5616ca24295c6a1"
  },
  {
   "metadata": {},
   "cell_type": "markdown",
   "source": "## Train the model",
   "id": "d406967db1f43d88"
  },
  {
   "metadata": {},
   "cell_type": "code",
   "outputs": [],
   "execution_count": null,
   "source": [
    "history = model.fit(\n",
    "    x=[x_img_train, x_audio_train],\n",
    "    y=[y_img_train, y_audio_train],\n",
    "    validation_data=(\n",
    "        [x_img_val, x_audio_val],\n",
    "        [y_img_val, y_audio_val]\n",
    "    ),\n",
    "    callbacks=[lr_scheduler],\n",
    "    epochs=100,\n",
    "    batch_size=BATCH_SIZE,\n",
    "    steps_per_epoch=len(x_img_train) // BATCH_SIZE,\n",
    "    validation_steps=len(x_img_val) // BATCH_SIZE,\n",
    ")\n"
   ],
   "id": "74855c29b77614fb"
  },
  {
   "metadata": {},
   "cell_type": "markdown",
   "source": "## Plot the training result",
   "id": "b6e3ca67d8210de7"
  },
  {
   "metadata": {},
   "cell_type": "code",
   "outputs": [],
   "execution_count": null,
   "source": [
    "def plot_and_save(metric_name, history, ylabel, filename):\n",
    "    plt.figure()\n",
    "    plt.plot(history.history[metric_name], label=f'Train {ylabel}')\n",
    "    if f'val_{metric_name}' in history.history:\n",
    "        plt.plot(history.history[f'val_{metric_name}'], label=f'Val {ylabel}')\n",
    "    plt.title(f'{ylabel} over Epochs')\n",
    "    plt.xlabel('Epochs')\n",
    "    plt.ylabel(ylabel)\n",
    "    plt.legend()\n",
    "    plt.grid(True)\n",
    "    plt.savefig(filename)\n",
    "    plt.close()"
   ],
   "id": "297a12447f1f4cf7"
  },
  {
   "metadata": {},
   "cell_type": "code",
   "outputs": [],
   "execution_count": null,
   "source": [
    "plot_and_save('loss', history, 'Loss', 'loss_plot.png')\n",
    "plot_and_save('image_class_loss', history, 'Image Classification Loss', 'image_class_loss_plot.png')\n",
    "plot_and_save('audio_class_loss', history, 'Audio Classification Loss', 'audio_class_loss_plot.png')\n",
    "plot_and_save('image_class_accuracy', history, 'Image Classification Accuracy', 'image_class_accuracy_plot.png')\n",
    "plot_and_save('audio_class_accuracy', history, 'Audio Classification Accuracy', 'audio_class_accuracy_plot.png')"
   ],
   "id": "2c29f9693cf4430f"
  },
  {
   "metadata": {},
   "cell_type": "markdown",
   "source": [
    "# Evaluation\n",
    "## Using model.evaluate"
   ],
   "id": "d69e8944b9665c09"
  },
  {
   "metadata": {},
   "cell_type": "code",
   "outputs": [],
   "execution_count": null,
   "source": [
    "model.evaluate([x_img_val, x_audio_val], [y_img_val, y_audio_val], batch_size=BATCH_SIZE, verbose=2,\n",
    "               steps=len(x_img_val) // BATCH_SIZE)"
   ],
   "id": "fdfa109b6729f034"
  },
  {
   "metadata": {},
   "cell_type": "code",
   "outputs": [],
   "execution_count": null,
   "source": [
    "model.evaluate([x_img_test, x_audio_test], [y_img_test, y_audio_test], batch_size=BATCH_SIZE, verbose=2,\n",
    "               steps=len(x_img_test) // BATCH_SIZE)"
   ],
   "id": "6cf558e75eeb3d1a"
  },
  {
   "metadata": {},
   "cell_type": "code",
   "outputs": [],
   "execution_count": null,
   "source": [
    "predictions = model.predict([x_img_test, x_audio_test], batch_size=BATCH_SIZE)\n",
    "\n",
    "image_preds = predictions[0]\n",
    "audio_preds = predictions[1]"
   ],
   "id": "afc07bdf45af1e52"
  },
  {
   "metadata": {},
   "cell_type": "markdown",
   "source": "## Using confusion matrix",
   "id": "deccd111c42baff7"
  },
  {
   "metadata": {},
   "cell_type": "code",
   "outputs": [],
   "execution_count": null,
   "source": [
    "aud_classes = [x for x in os.listdir(AUDIO_PATH)]\n",
    "img_classes = [x for x in os.listdir(TRAIN_IMAGE_PATH)]\n",
    "\n",
    "image_class = np.argmax(predictions[0], axis=1)\n",
    "audio_class = np.argmax(predictions[1], axis=1)\n",
    "\n",
    "image_cm = confusion_matrix(y_img_test, image_class)\n",
    "audio_cm = confusion_matrix(y_audio_test, audio_class)"
   ],
   "id": "80a7254d0983024b"
  },
  {
   "metadata": {},
   "cell_type": "markdown",
   "source": "### Plot the confusion Matrix",
   "id": "76c0d5e73d6ab706"
  },
  {
   "metadata": {},
   "cell_type": "code",
   "outputs": [],
   "execution_count": null,
   "source": [
    "plt.figure(figsize=(10, 8))  # Set the figure size if needed\n",
    "sns.heatmap(image_cm, annot=True, cmap='Blues', fmt='g')\n",
    "\n",
    "plt.title('Confusion Matrix Image', pad=20, fontsize=20, fontweight=\"bold\")\n",
    "plt.ylabel('Actual')\n",
    "plt.xlabel('Predicted')\n",
    "\n",
    "plt.xticks(ticks=range(len(img_classes)), labels=img_classes, rotation=45)\n",
    "plt.yticks(ticks=range(len(img_classes)), labels=img_classes, rotation=0)\n",
    "plt.savefig('confusion_matrix_image.png', dpi=300, bbox_inches='tight')\n",
    "plt.show()"
   ],
   "id": "68627362493f4158"
  },
  {
   "metadata": {},
   "cell_type": "code",
   "outputs": [],
   "execution_count": null,
   "source": [
    "plt.figure(figsize=(10, 8))  # Set the figure size if needed\n",
    "sns.heatmap(audio_cm, annot=True, cmap='Blues', fmt='g')\n",
    "\n",
    "plt.title('Confusion Matrix Audio', pad=20, fontsize=20, fontweight=\"bold\")\n",
    "plt.ylabel('Actual')\n",
    "plt.xlabel('Predicted')\n",
    "\n",
    "plt.xticks(ticks=range(len(aud_classes)), labels=aud_classes, rotation=45)\n",
    "plt.yticks(ticks=range(len(aud_classes)), labels=aud_classes, rotation=0)\n",
    "plt.savefig('confusion_matrix_audio.png', dpi=300, bbox_inches='tight')\n",
    "plt.show()"
   ],
   "id": "5fd12ac080d5045e"
  },
  {
   "metadata": {},
   "cell_type": "code",
   "outputs": [],
   "execution_count": null,
   "source": "print(classification_report(y_img_test, image_class))",
   "id": "b22289e4687b1bff"
  },
  {
   "metadata": {},
   "cell_type": "code",
   "outputs": [],
   "execution_count": null,
   "source": "print(classification_report(y_audio_test, audio_class))",
   "id": "b963b32e30308ce1"
  },
  {
   "metadata": {},
   "cell_type": "code",
   "outputs": [],
   "execution_count": null,
   "source": "model.save('model_sc3t5.h5')",
   "id": "31e448a351826986"
  },
  {
   "metadata": {},
   "cell_type": "code",
   "outputs": [],
   "execution_count": null,
   "source": "",
   "id": "e24e955694ec8676"
  }
 ],
 "metadata": {
  "kernelspec": {
   "display_name": "Python 3",
   "language": "python",
   "name": "python3"
  },
  "language_info": {
   "codemirror_mode": {
    "name": "ipython",
    "version": 2
   },
   "file_extension": ".py",
   "mimetype": "text/x-python",
   "name": "python",
   "nbconvert_exporter": "python",
   "pygments_lexer": "ipython2",
   "version": "2.7.6"
  }
 },
 "nbformat": 4,
 "nbformat_minor": 5
}
