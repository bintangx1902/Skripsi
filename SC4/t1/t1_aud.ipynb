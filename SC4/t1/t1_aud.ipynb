{
 "cells": [
  {
   "cell_type": "code",
   "id": "initial_id",
   "metadata": {
    "collapsed": true,
    "ExecuteTime": {
     "end_time": "2025-05-10T08:35:39.285062Z",
     "start_time": "2025-05-10T08:35:39.277647Z"
    }
   },
   "source": [
    "import tensorflow as tf\n",
    "import numpy as np\n",
    "import pandas as pd\n",
    "import seaborn as sns\n",
    "import os\n",
    "import gc\n",
    "\n",
    "from shared.utils import *\n",
    "from shared.kaggle_path import *\n",
    "\n",
    "from matplotlib import pyplot as plt\n",
    "from sklearn.preprocessing import LabelEncoder\n",
    "from sklearn.model_selection import train_test_split\n",
    "from sklearn.metrics import confusion_matrix, classification_report\n",
    "\n",
    "strategy = tf.distribute.MirroredStrategy()"
   ],
   "outputs": [],
   "execution_count": 4
  },
  {
   "metadata": {},
   "cell_type": "markdown",
   "source": [
    "# Data Preprocessing\n",
    "## Audio Data"
   ],
   "id": "1bb851ac4139d0b7"
  },
  {
   "metadata": {
    "ExecuteTime": {
     "end_time": "2025-05-10T08:35:40.964461Z",
     "start_time": "2025-05-10T08:35:40.878262Z"
    }
   },
   "cell_type": "code",
   "source": [
    "label = []\n",
    "filepath = []\n",
    "\n",
    "for classes in os.listdir(AUDIO_PATH):\n",
    "    for file in os.listdir(os.path.join(AUDIO_PATH, classes)):\n",
    "        file_path = os.path.join(AUDIO_PATH, classes, file)\n",
    "\n",
    "        filepath.append(file_path)\n",
    "        label.append(classes)\n",
    "\n",
    "audio = pd.DataFrame({\n",
    "    'filepath': filepath,\n",
    "    'label': label,\n",
    "})\n",
    "\n",
    "del filepath, label\n",
    "\n",
    "audio.head()"
   ],
   "id": "40f1d84afe936100",
   "outputs": [
    {
     "data": {
      "text/plain": [
       "                                            filepath    label\n",
       "0  /kaggle/working/dataset/audio/disgust/1065_TIE...  disgust\n",
       "1  /kaggle/working/dataset/audio/disgust/1036_TIE...  disgust\n",
       "2  /kaggle/working/dataset/audio/disgust/1004_ITH...  disgust\n",
       "3  /kaggle/working/dataset/audio/disgust/1016_IEO...  disgust\n",
       "4  /kaggle/working/dataset/audio/disgust/1063_MTI...  disgust"
      ],
      "text/html": [
       "<div>\n",
       "<style scoped>\n",
       "    .dataframe tbody tr th:only-of-type {\n",
       "        vertical-align: middle;\n",
       "    }\n",
       "\n",
       "    .dataframe tbody tr th {\n",
       "        vertical-align: top;\n",
       "    }\n",
       "\n",
       "    .dataframe thead th {\n",
       "        text-align: right;\n",
       "    }\n",
       "</style>\n",
       "<table border=\"1\" class=\"dataframe\">\n",
       "  <thead>\n",
       "    <tr style=\"text-align: right;\">\n",
       "      <th></th>\n",
       "      <th>filepath</th>\n",
       "      <th>label</th>\n",
       "    </tr>\n",
       "  </thead>\n",
       "  <tbody>\n",
       "    <tr>\n",
       "      <th>0</th>\n",
       "      <td>/kaggle/working/dataset/audio/disgust/1065_TIE...</td>\n",
       "      <td>disgust</td>\n",
       "    </tr>\n",
       "    <tr>\n",
       "      <th>1</th>\n",
       "      <td>/kaggle/working/dataset/audio/disgust/1036_TIE...</td>\n",
       "      <td>disgust</td>\n",
       "    </tr>\n",
       "    <tr>\n",
       "      <th>2</th>\n",
       "      <td>/kaggle/working/dataset/audio/disgust/1004_ITH...</td>\n",
       "      <td>disgust</td>\n",
       "    </tr>\n",
       "    <tr>\n",
       "      <th>3</th>\n",
       "      <td>/kaggle/working/dataset/audio/disgust/1016_IEO...</td>\n",
       "      <td>disgust</td>\n",
       "    </tr>\n",
       "    <tr>\n",
       "      <th>4</th>\n",
       "      <td>/kaggle/working/dataset/audio/disgust/1063_MTI...</td>\n",
       "      <td>disgust</td>\n",
       "    </tr>\n",
       "  </tbody>\n",
       "</table>\n",
       "</div>"
      ]
     },
     "execution_count": 5,
     "metadata": {},
     "output_type": "execute_result"
    }
   ],
   "execution_count": 5
  },
  {
   "metadata": {
    "ExecuteTime": {
     "end_time": "2025-05-10T08:35:41.681298Z",
     "start_time": "2025-05-10T08:35:41.671254Z"
    }
   },
   "cell_type": "code",
   "source": [
    "le = LabelEncoder()\n",
    "le.fit(audio['label'])\n",
    "audio['label_encoded'] = le.transform(audio['label'])\n",
    "num_classes = len(le.classes_)"
   ],
   "id": "da70704c453287dd",
   "outputs": [],
   "execution_count": 6
  },
  {
   "metadata": {
    "ExecuteTime": {
     "end_time": "2025-05-10T08:51:10.435628Z",
     "start_time": "2025-05-10T08:35:42.110043Z"
    }
   },
   "cell_type": "code",
   "source": [
    "# with tf.device('/GPU:0'):\n",
    "with strategy.scope():\n",
    "    audio['data'] = audio.filepath.apply(preprocess_audio)\n",
    "    audio = audio.sample(frac=1).reset_index(drop=True)"
   ],
   "id": "527ce5b642666bf2",
   "outputs": [
    {
     "name": "stderr",
     "output_type": "stream",
     "text": [
      "/usr/local/lib/python3.11/dist-packages/librosa/core/spectrum.py:266: UserWarning: n_fft=2048 is too large for input signal of length=96\n",
      "  warnings.warn(\n",
      "/usr/local/lib/python3.11/dist-packages/librosa/core/spectrum.py:266: UserWarning: n_fft=2048 is too large for input signal of length=1152\n",
      "  warnings.warn(\n",
      "/usr/local/lib/python3.11/dist-packages/librosa/core/spectrum.py:266: UserWarning: n_fft=2048 is too large for input signal of length=1056\n",
      "  warnings.warn(\n",
      "/usr/local/lib/python3.11/dist-packages/librosa/core/spectrum.py:266: UserWarning: n_fft=2048 is too large for input signal of length=320\n",
      "  warnings.warn(\n",
      "/usr/local/lib/python3.11/dist-packages/librosa/core/spectrum.py:266: UserWarning: n_fft=2048 is too large for input signal of length=1280\n",
      "  warnings.warn(\n",
      "/usr/local/lib/python3.11/dist-packages/librosa/core/spectrum.py:266: UserWarning: n_fft=2048 is too large for input signal of length=1792\n",
      "  warnings.warn(\n",
      "/usr/local/lib/python3.11/dist-packages/librosa/core/spectrum.py:266: UserWarning: n_fft=2048 is too large for input signal of length=608\n",
      "  warnings.warn(\n",
      "/usr/local/lib/python3.11/dist-packages/librosa/core/spectrum.py:266: UserWarning: n_fft=2048 is too large for input signal of length=576\n",
      "  warnings.warn(\n",
      "/usr/local/lib/python3.11/dist-packages/librosa/core/spectrum.py:266: UserWarning: n_fft=2048 is too large for input signal of length=1216\n",
      "  warnings.warn(\n",
      "/usr/local/lib/python3.11/dist-packages/librosa/core/spectrum.py:266: UserWarning: n_fft=2048 is too large for input signal of length=1664\n",
      "  warnings.warn(\n",
      "/usr/local/lib/python3.11/dist-packages/librosa/core/spectrum.py:266: UserWarning: n_fft=2048 is too large for input signal of length=448\n",
      "  warnings.warn(\n",
      "/usr/local/lib/python3.11/dist-packages/librosa/core/spectrum.py:266: UserWarning: n_fft=2048 is too large for input signal of length=800\n",
      "  warnings.warn(\n",
      "/usr/local/lib/python3.11/dist-packages/librosa/core/spectrum.py:266: UserWarning: n_fft=2048 is too large for input signal of length=1952\n",
      "  warnings.warn(\n",
      "/usr/local/lib/python3.11/dist-packages/librosa/core/spectrum.py:266: UserWarning: n_fft=2048 is too large for input signal of length=1888\n",
      "  warnings.warn(\n",
      "/usr/local/lib/python3.11/dist-packages/librosa/core/spectrum.py:266: UserWarning: n_fft=2048 is too large for input signal of length=192\n",
      "  warnings.warn(\n",
      "/usr/local/lib/python3.11/dist-packages/librosa/core/spectrum.py:266: UserWarning: n_fft=2048 is too large for input signal of length=544\n",
      "  warnings.warn(\n",
      "/usr/local/lib/python3.11/dist-packages/librosa/core/spectrum.py:266: UserWarning: n_fft=2048 is too large for input signal of length=1920\n",
      "  warnings.warn(\n",
      "/usr/local/lib/python3.11/dist-packages/librosa/core/spectrum.py:266: UserWarning: n_fft=2048 is too large for input signal of length=1472\n",
      "  warnings.warn(\n",
      "/usr/local/lib/python3.11/dist-packages/librosa/core/spectrum.py:266: UserWarning: n_fft=2048 is too large for input signal of length=1824\n",
      "  warnings.warn(\n"
     ]
    }
   ],
   "execution_count": 7
  },
  {
   "metadata": {
    "ExecuteTime": {
     "end_time": "2025-05-10T08:51:15.907795Z",
     "start_time": "2025-05-10T08:51:10.702058Z"
    }
   },
   "cell_type": "code",
   "source": [
    "x_audio = np.stack(audio['data'].values)\n",
    "y_audio = audio['label_encoded'].values\n",
    "print(x_audio.shape)\n",
    "del audio"
   ],
   "id": "68092b8e401656e7",
   "outputs": [
    {
     "name": "stdout",
     "output_type": "stream",
     "text": [
      "(27406, 128, 110, 3)\n"
     ]
    }
   ],
   "execution_count": 8
  },
  {
   "metadata": {
    "ExecuteTime": {
     "end_time": "2025-05-10T08:51:24.713790Z",
     "start_time": "2025-05-10T08:51:16.194462Z"
    }
   },
   "cell_type": "code",
   "source": [
    "x_audio_train, x_temp, y_audio_train, y_temp = train_test_split(\n",
    "    x_audio, y_audio, test_size=0.3, random_state=100,\n",
    ")\n",
    "\n",
    "x_audio_val, x_audio_test, y_audio_val, y_audio_test = train_test_split(\n",
    "    x_temp, y_temp, test_size=0.5, random_state=222, shuffle=True, stratify=y_temp\n",
    ")\n",
    "\n",
    "del x_audio, y_audio\n",
    "print(x_audio_train.shape)\n",
    "print(x_audio_train.shape[0] == len(y_audio_train))"
   ],
   "id": "f153f9e105be8284",
   "outputs": [
    {
     "name": "stdout",
     "output_type": "stream",
     "text": [
      "(19184, 128, 110, 3)\n",
      "True\n"
     ]
    }
   ],
   "execution_count": 9
  },
  {
   "metadata": {},
   "cell_type": "markdown",
   "source": [
    "# Modeling\n",
    "## Model Image"
   ],
   "id": "b3d42e28b911fbe9"
  },
  {
   "metadata": {
    "ExecuteTime": {
     "end_time": "2025-05-10T08:51:27.513853Z",
     "start_time": "2025-05-10T08:51:25.149277Z"
    }
   },
   "cell_type": "code",
   "source": [
    "base_model = tf.keras.applications.Xception(\n",
    "    weights='imagenet',\n",
    "    include_top=False,\n",
    "    input_tensor=tf.keras.layers.Input(shape=(128, 110, 3)),\n",
    ")\n",
    "\n",
    "base_model.trainable = False\n",
    "for layer in base_model.layers:\n",
    "    layer.trainable = False"
   ],
   "id": "a38969480decd6a6",
   "outputs": [
    {
     "name": "stdout",
     "output_type": "stream",
     "text": [
      "Downloading data from https://storage.googleapis.com/tensorflow/keras-applications/xception/xception_weights_tf_dim_ordering_tf_kernels_notop.h5\n",
      "83683744/83683744 [==============================] - 0s 0us/step\n"
     ]
    }
   ],
   "execution_count": 10
  },
  {
   "metadata": {
    "ExecuteTime": {
     "end_time": "2025-05-10T08:51:28.335797Z",
     "start_time": "2025-05-10T08:51:27.781108Z"
    }
   },
   "cell_type": "code",
   "source": [
    "model = tf.keras.Sequential([\n",
    "    base_model,\n",
    "    tf.keras.layers.GlobalAveragePooling2D(),\n",
    "    tf.keras.layers.Dense(512, activation='relu'),\n",
    "    tf.keras.layers.Dense(8, activation='softmax'),\n",
    "])\n",
    "\n",
    "model.compile(\n",
    "    optimizer=tf.keras.optimizers.Adam(learning_rate=1e-4),\n",
    "    loss='sparse_categorical_crossentropy',\n",
    "    metrics=['accuracy'],\n",
    ")"
   ],
   "id": "a34252231df934ad",
   "outputs": [],
   "execution_count": 11
  },
  {
   "metadata": {
    "ExecuteTime": {
     "end_time": "2025-05-10T08:51:28.727766Z",
     "start_time": "2025-05-10T08:51:28.588673Z"
    }
   },
   "cell_type": "code",
   "source": "tf.keras.utils.plot_model(model, show_shapes=True)",
   "id": "ec227e73a0eef37",
   "outputs": [
    {
     "data": {
      "image/png": "[encoded data removed]",
      "text/plain": [
       "<IPython.core.display.Image object>"
      ]
     },
     "execution_count": 12,
     "metadata": {},
     "output_type": "execute_result"
    }
   ],
   "execution_count": 12
  },
  {
   "metadata": {
    "ExecuteTime": {
     "end_time": "2025-05-10T08:51:29.370848Z",
     "start_time": "2025-05-10T08:51:29.366667Z"
    }
   },
   "cell_type": "code",
   "source": [
    "early = tf.keras.callbacks.EarlyStopping(\n",
    "    monitor='val_loss',\n",
    "    restore_best_weights=True,\n",
    "    mode='min',\n",
    "    # start_from_epoch=2,\n",
    "    patience=5\n",
    ")\n",
    "\n",
    "checkpoint = tf.keras.callbacks.ModelCheckpoint(\n",
    "    filepath=os.path.join('model', 'best_model.keras'),\n",
    "    verbose=2,\n",
    "    save_best_only=True,\n",
    "    monitor='val_loss',\n",
    "    mode='min'\n",
    ")\n",
    "\n",
    "lr_scheduler = tf.keras.callbacks.ReduceLROnPlateau(monitor='val_loss',\n",
    "                                                    factor=0.2,\n",
    "                                                    min_lr=1e-6,\n",
    "                                                    patience=3,\n",
    "                                                    mode='min'\n",
    "                                                    )"
   ],
   "id": "11692b91042ecc9b",
   "outputs": [],
   "execution_count": 13
  },
  {
   "metadata": {
    "ExecuteTime": {
     "end_time": "2025-05-10T09:46:04.192629Z",
     "start_time": "2025-05-10T08:51:29.815230Z"
    }
   },
   "cell_type": "code",
   "source": [
    "history = model.fit(\n",
    "    x_audio_train,\n",
    "    y_audio_train,\n",
    "    validation_data=(x_audio_val, y_audio_val),\n",
    "    # callbacks=[early, checkpoint, lr_scheduler],\n",
    "    epochs=100,\n",
    "    verbose=2,\n",
    "    batch_size=64,\n",
    "    steps_per_epoch=len(x_audio_train) // 64,\n",
    "    validation_steps=len(x_audio_val) // 64,\n",
    ")\n"
   ],
   "id": "1a53f4cefc3629d1",
   "outputs": [
    {
     "name": "stdout",
     "output_type": "stream",
     "text": [
      "Epoch 1/100\n"
     ]
    },
    {
     "name": "stderr",
     "output_type": "stream",
     "text": [
      "WARNING: All log messages before absl::InitializeLog() is called are written to STDERR\n",
      "I0000 00:00:1746867107.155029     147 device_compiler.h:186] Compiled cluster using XLA!  This line is logged at most once for the lifetime of the process.\n"
     ]
    },
    {
     "name": "stdout",
     "output_type": "stream",
     "text": [
      "299/299 - 48s - loss: 1.6336 - accuracy: 0.3906 - val_loss: 1.4219 - val_accuracy: 0.4587 - 48s/epoch - 159ms/step\n",
      "Epoch 2/100\n",
      "299/299 - 33s - loss: 1.3537 - accuracy: 0.4845 - val_loss: 1.3491 - val_accuracy: 0.4971 - 33s/epoch - 111ms/step\n",
      "Epoch 3/100\n",
      "299/299 - 33s - loss: 1.2599 - accuracy: 0.5174 - val_loss: 1.2698 - val_accuracy: 0.5188 - 33s/epoch - 110ms/step\n",
      "Epoch 4/100\n",
      "299/299 - 33s - loss: 1.1952 - accuracy: 0.5452 - val_loss: 1.2549 - val_accuracy: 0.5325 - 33s/epoch - 109ms/step\n",
      "Epoch 5/100\n",
      "299/299 - 32s - loss: 1.1372 - accuracy: 0.5703 - val_loss: 1.2504 - val_accuracy: 0.5254 - 32s/epoch - 108ms/step\n",
      "Epoch 6/100\n",
      "299/299 - 33s - loss: 1.0993 - accuracy: 0.5835 - val_loss: 1.2256 - val_accuracy: 0.5361 - 33s/epoch - 109ms/step\n",
      "Epoch 7/100\n",
      "299/299 - 33s - loss: 1.0581 - accuracy: 0.6027 - val_loss: 1.1972 - val_accuracy: 0.5493 - 33s/epoch - 109ms/step\n",
      "Epoch 8/100\n",
      "299/299 - 33s - loss: 1.0203 - accuracy: 0.6203 - val_loss: 1.1853 - val_accuracy: 0.5527 - 33s/epoch - 109ms/step\n",
      "Epoch 9/100\n",
      "299/299 - 33s - loss: 0.9844 - accuracy: 0.6367 - val_loss: 1.1492 - val_accuracy: 0.5776 - 33s/epoch - 109ms/step\n",
      "Epoch 10/100\n",
      "299/299 - 33s - loss: 0.9533 - accuracy: 0.6537 - val_loss: 1.1498 - val_accuracy: 0.5740 - 33s/epoch - 109ms/step\n",
      "Epoch 11/100\n",
      "299/299 - 33s - loss: 0.9248 - accuracy: 0.6608 - val_loss: 1.1343 - val_accuracy: 0.5823 - 33s/epoch - 109ms/step\n",
      "Epoch 12/100\n",
      "299/299 - 33s - loss: 0.8998 - accuracy: 0.6714 - val_loss: 1.1390 - val_accuracy: 0.5735 - 33s/epoch - 109ms/step\n",
      "Epoch 13/100\n",
      "299/299 - 33s - loss: 0.8734 - accuracy: 0.6879 - val_loss: 1.1222 - val_accuracy: 0.5886 - 33s/epoch - 109ms/step\n",
      "Epoch 14/100\n",
      "299/299 - 33s - loss: 0.8403 - accuracy: 0.7017 - val_loss: 1.1072 - val_accuracy: 0.5903 - 33s/epoch - 109ms/step\n",
      "Epoch 15/100\n",
      "299/299 - 33s - loss: 0.8176 - accuracy: 0.7108 - val_loss: 1.0813 - val_accuracy: 0.6018 - 33s/epoch - 109ms/step\n",
      "Epoch 16/100\n",
      "299/299 - 33s - loss: 0.7895 - accuracy: 0.7235 - val_loss: 1.0737 - val_accuracy: 0.6101 - 33s/epoch - 109ms/step\n",
      "Epoch 17/100\n",
      "299/299 - 33s - loss: 0.7618 - accuracy: 0.7361 - val_loss: 1.0861 - val_accuracy: 0.5989 - 33s/epoch - 109ms/step\n",
      "Epoch 18/100\n",
      "299/299 - 33s - loss: 0.7452 - accuracy: 0.7448 - val_loss: 1.0609 - val_accuracy: 0.6130 - 33s/epoch - 109ms/step\n",
      "Epoch 19/100\n",
      "299/299 - 33s - loss: 0.7188 - accuracy: 0.7555 - val_loss: 1.0765 - val_accuracy: 0.6094 - 33s/epoch - 109ms/step\n",
      "Epoch 20/100\n",
      "299/299 - 33s - loss: 0.7027 - accuracy: 0.7629 - val_loss: 1.0924 - val_accuracy: 0.5962 - 33s/epoch - 109ms/step\n",
      "Epoch 21/100\n",
      "299/299 - 33s - loss: 0.6792 - accuracy: 0.7711 - val_loss: 1.0641 - val_accuracy: 0.6174 - 33s/epoch - 109ms/step\n",
      "Epoch 22/100\n",
      "299/299 - 33s - loss: 0.6611 - accuracy: 0.7829 - val_loss: 1.0352 - val_accuracy: 0.6211 - 33s/epoch - 109ms/step\n",
      "Epoch 23/100\n",
      "299/299 - 33s - loss: 0.6373 - accuracy: 0.7915 - val_loss: 1.0303 - val_accuracy: 0.6284 - 33s/epoch - 109ms/step\n",
      "Epoch 24/100\n",
      "299/299 - 33s - loss: 0.6145 - accuracy: 0.8017 - val_loss: 1.0454 - val_accuracy: 0.6328 - 33s/epoch - 109ms/step\n",
      "Epoch 25/100\n",
      "299/299 - 33s - loss: 0.6010 - accuracy: 0.8088 - val_loss: 1.0357 - val_accuracy: 0.6343 - 33s/epoch - 109ms/step\n",
      "Epoch 26/100\n",
      "299/299 - 33s - loss: 0.5824 - accuracy: 0.8121 - val_loss: 1.0013 - val_accuracy: 0.6470 - 33s/epoch - 109ms/step\n",
      "Epoch 27/100\n",
      "299/299 - 32s - loss: 0.5606 - accuracy: 0.8279 - val_loss: 1.0079 - val_accuracy: 0.6501 - 32s/epoch - 109ms/step\n",
      "Epoch 28/100\n",
      "299/299 - 32s - loss: 0.5406 - accuracy: 0.8324 - val_loss: 1.0155 - val_accuracy: 0.6511 - 32s/epoch - 109ms/step\n",
      "Epoch 29/100\n",
      "299/299 - 33s - loss: 0.5315 - accuracy: 0.8343 - val_loss: 1.0091 - val_accuracy: 0.6565 - 33s/epoch - 109ms/step\n",
      "Epoch 30/100\n",
      "299/299 - 33s - loss: 0.5075 - accuracy: 0.8468 - val_loss: 0.9813 - val_accuracy: 0.6675 - 33s/epoch - 109ms/step\n",
      "Epoch 31/100\n",
      "299/299 - 33s - loss: 0.4979 - accuracy: 0.8504 - val_loss: 0.9935 - val_accuracy: 0.6584 - 33s/epoch - 109ms/step\n",
      "Epoch 32/100\n",
      "299/299 - 33s - loss: 0.4797 - accuracy: 0.8587 - val_loss: 0.9960 - val_accuracy: 0.6604 - 33s/epoch - 109ms/step\n",
      "Epoch 33/100\n",
      "299/299 - 33s - loss: 0.4605 - accuracy: 0.8671 - val_loss: 0.9935 - val_accuracy: 0.6692 - 33s/epoch - 109ms/step\n",
      "Epoch 34/100\n",
      "299/299 - 33s - loss: 0.4497 - accuracy: 0.8698 - val_loss: 1.0064 - val_accuracy: 0.6631 - 33s/epoch - 109ms/step\n",
      "Epoch 35/100\n",
      "299/299 - 33s - loss: 0.4339 - accuracy: 0.8757 - val_loss: 0.9702 - val_accuracy: 0.6787 - 33s/epoch - 109ms/step\n",
      "Epoch 36/100\n",
      "299/299 - 32s - loss: 0.4253 - accuracy: 0.8788 - val_loss: 0.9528 - val_accuracy: 0.6968 - 32s/epoch - 109ms/step\n",
      "Epoch 37/100\n",
      "299/299 - 33s - loss: 0.4004 - accuracy: 0.8900 - val_loss: 0.9644 - val_accuracy: 0.6870 - 33s/epoch - 109ms/step\n",
      "Epoch 38/100\n",
      "299/299 - 33s - loss: 0.3922 - accuracy: 0.8928 - val_loss: 0.9694 - val_accuracy: 0.6873 - 33s/epoch - 109ms/step\n",
      "Epoch 39/100\n",
      "299/299 - 33s - loss: 0.3809 - accuracy: 0.8956 - val_loss: 0.9459 - val_accuracy: 0.6970 - 33s/epoch - 109ms/step\n",
      "Epoch 40/100\n",
      "299/299 - 33s - loss: 0.3658 - accuracy: 0.9031 - val_loss: 0.9983 - val_accuracy: 0.6802 - 33s/epoch - 109ms/step\n",
      "Epoch 41/100\n",
      "299/299 - 33s - loss: 0.3582 - accuracy: 0.9037 - val_loss: 0.9551 - val_accuracy: 0.6985 - 33s/epoch - 109ms/step\n",
      "Epoch 42/100\n",
      "299/299 - 33s - loss: 0.3447 - accuracy: 0.9080 - val_loss: 0.9388 - val_accuracy: 0.7073 - 33s/epoch - 109ms/step\n",
      "Epoch 43/100\n",
      "299/299 - 33s - loss: 0.3329 - accuracy: 0.9145 - val_loss: 0.9609 - val_accuracy: 0.7078 - 33s/epoch - 109ms/step\n",
      "Epoch 44/100\n",
      "299/299 - 33s - loss: 0.3206 - accuracy: 0.9180 - val_loss: 0.9429 - val_accuracy: 0.7114 - 33s/epoch - 109ms/step\n",
      "Epoch 45/100\n",
      "299/299 - 33s - loss: 0.3136 - accuracy: 0.9187 - val_loss: 0.9332 - val_accuracy: 0.7207 - 33s/epoch - 109ms/step\n",
      "Epoch 46/100\n",
      "299/299 - 32s - loss: 0.3035 - accuracy: 0.9228 - val_loss: 0.9745 - val_accuracy: 0.7090 - 32s/epoch - 109ms/step\n",
      "Epoch 47/100\n",
      "299/299 - 32s - loss: 0.2887 - accuracy: 0.9307 - val_loss: 0.9275 - val_accuracy: 0.7285 - 32s/epoch - 109ms/step\n",
      "Epoch 48/100\n",
      "299/299 - 33s - loss: 0.2847 - accuracy: 0.9275 - val_loss: 0.9803 - val_accuracy: 0.7100 - 33s/epoch - 109ms/step\n",
      "Epoch 49/100\n",
      "299/299 - 32s - loss: 0.2724 - accuracy: 0.9340 - val_loss: 0.9296 - val_accuracy: 0.7310 - 32s/epoch - 109ms/step\n",
      "Epoch 50/100\n",
      "299/299 - 32s - loss: 0.2582 - accuracy: 0.9385 - val_loss: 0.9470 - val_accuracy: 0.7280 - 32s/epoch - 109ms/step\n",
      "Epoch 51/100\n",
      "299/299 - 32s - loss: 0.2560 - accuracy: 0.9392 - val_loss: 0.9552 - val_accuracy: 0.7190 - 32s/epoch - 108ms/step\n",
      "Epoch 52/100\n",
      "299/299 - 32s - loss: 0.2439 - accuracy: 0.9414 - val_loss: 0.9347 - val_accuracy: 0.7339 - 32s/epoch - 109ms/step\n",
      "Epoch 53/100\n",
      "299/299 - 32s - loss: 0.2372 - accuracy: 0.9445 - val_loss: 0.9324 - val_accuracy: 0.7317 - 32s/epoch - 108ms/step\n",
      "Epoch 54/100\n",
      "299/299 - 32s - loss: 0.2296 - accuracy: 0.9481 - val_loss: 0.9345 - val_accuracy: 0.7371 - 32s/epoch - 108ms/step\n",
      "Epoch 55/100\n",
      "299/299 - 32s - loss: 0.2180 - accuracy: 0.9514 - val_loss: 0.9513 - val_accuracy: 0.7346 - 32s/epoch - 108ms/step\n",
      "Epoch 56/100\n",
      "299/299 - 32s - loss: 0.2086 - accuracy: 0.9554 - val_loss: 0.9310 - val_accuracy: 0.7454 - 32s/epoch - 108ms/step\n",
      "Epoch 57/100\n",
      "299/299 - 32s - loss: 0.2092 - accuracy: 0.9546 - val_loss: 0.9449 - val_accuracy: 0.7417 - 32s/epoch - 108ms/step\n",
      "Epoch 58/100\n",
      "299/299 - 32s - loss: 0.1996 - accuracy: 0.9574 - val_loss: 0.9537 - val_accuracy: 0.7434 - 32s/epoch - 108ms/step\n",
      "Epoch 59/100\n",
      "299/299 - 32s - loss: 0.1926 - accuracy: 0.9584 - val_loss: 0.9386 - val_accuracy: 0.7461 - 32s/epoch - 109ms/step\n",
      "Epoch 60/100\n",
      "299/299 - 33s - loss: 0.1879 - accuracy: 0.9608 - val_loss: 0.9688 - val_accuracy: 0.7439 - 33s/epoch - 109ms/step\n",
      "Epoch 61/100\n",
      "299/299 - 33s - loss: 0.1830 - accuracy: 0.9613 - val_loss: 0.9302 - val_accuracy: 0.7539 - 33s/epoch - 109ms/step\n",
      "Epoch 62/100\n",
      "299/299 - 33s - loss: 0.1748 - accuracy: 0.9620 - val_loss: 1.0093 - val_accuracy: 0.7310 - 33s/epoch - 109ms/step\n",
      "Epoch 63/100\n",
      "299/299 - 33s - loss: 0.1703 - accuracy: 0.9644 - val_loss: 0.9424 - val_accuracy: 0.7537 - 33s/epoch - 110ms/step\n",
      "Epoch 64/100\n",
      "299/299 - 33s - loss: 0.1658 - accuracy: 0.9651 - val_loss: 0.9618 - val_accuracy: 0.7566 - 33s/epoch - 109ms/step\n",
      "Epoch 65/100\n",
      "299/299 - 33s - loss: 0.1595 - accuracy: 0.9666 - val_loss: 0.9576 - val_accuracy: 0.7585 - 33s/epoch - 109ms/step\n",
      "Epoch 66/100\n",
      "299/299 - 32s - loss: 0.1537 - accuracy: 0.9689 - val_loss: 0.9703 - val_accuracy: 0.7534 - 32s/epoch - 108ms/step\n",
      "Epoch 67/100\n",
      "299/299 - 32s - loss: 0.1476 - accuracy: 0.9708 - val_loss: 0.9460 - val_accuracy: 0.7593 - 32s/epoch - 108ms/step\n",
      "Epoch 68/100\n",
      "299/299 - 32s - loss: 0.1383 - accuracy: 0.9730 - val_loss: 0.9863 - val_accuracy: 0.7532 - 32s/epoch - 108ms/step\n",
      "Epoch 69/100\n",
      "299/299 - 32s - loss: 0.1422 - accuracy: 0.9717 - val_loss: 0.9676 - val_accuracy: 0.7612 - 32s/epoch - 108ms/step\n",
      "Epoch 70/100\n",
      "299/299 - 32s - loss: 0.1325 - accuracy: 0.9746 - val_loss: 0.9790 - val_accuracy: 0.7605 - 32s/epoch - 108ms/step\n",
      "Epoch 71/100\n",
      "299/299 - 32s - loss: 0.1315 - accuracy: 0.9743 - val_loss: 0.9675 - val_accuracy: 0.7666 - 32s/epoch - 108ms/step\n",
      "Epoch 72/100\n",
      "299/299 - 32s - loss: 0.1220 - accuracy: 0.9776 - val_loss: 0.9939 - val_accuracy: 0.7603 - 32s/epoch - 108ms/step\n",
      "Epoch 73/100\n",
      "299/299 - 32s - loss: 0.1241 - accuracy: 0.9743 - val_loss: 0.9849 - val_accuracy: 0.7629 - 32s/epoch - 108ms/step\n",
      "Epoch 74/100\n",
      "299/299 - 32s - loss: 0.1211 - accuracy: 0.9755 - val_loss: 0.9916 - val_accuracy: 0.7651 - 32s/epoch - 108ms/step\n",
      "Epoch 75/100\n",
      "299/299 - 32s - loss: 0.1126 - accuracy: 0.9779 - val_loss: 0.9775 - val_accuracy: 0.7708 - 32s/epoch - 108ms/step\n",
      "Epoch 76/100\n",
      "299/299 - 32s - loss: 0.1086 - accuracy: 0.9784 - val_loss: 0.9778 - val_accuracy: 0.7686 - 32s/epoch - 108ms/step\n",
      "Epoch 77/100\n",
      "299/299 - 32s - loss: 0.1141 - accuracy: 0.9763 - val_loss: 1.0001 - val_accuracy: 0.7683 - 32s/epoch - 108ms/step\n",
      "Epoch 78/100\n",
      "299/299 - 32s - loss: 0.1044 - accuracy: 0.9797 - val_loss: 0.9929 - val_accuracy: 0.7712 - 32s/epoch - 108ms/step\n",
      "Epoch 79/100\n",
      "299/299 - 32s - loss: 0.1015 - accuracy: 0.9811 - val_loss: 0.9940 - val_accuracy: 0.7690 - 32s/epoch - 109ms/step\n",
      "Epoch 80/100\n",
      "299/299 - 32s - loss: 0.0948 - accuracy: 0.9820 - val_loss: 0.9977 - val_accuracy: 0.7656 - 32s/epoch - 109ms/step\n",
      "Epoch 81/100\n",
      "299/299 - 32s - loss: 0.0975 - accuracy: 0.9804 - val_loss: 1.0085 - val_accuracy: 0.7683 - 32s/epoch - 109ms/step\n",
      "Epoch 82/100\n",
      "299/299 - 33s - loss: 0.0960 - accuracy: 0.9804 - val_loss: 1.0100 - val_accuracy: 0.7778 - 33s/epoch - 109ms/step\n",
      "Epoch 83/100\n",
      "299/299 - 33s - loss: 0.0859 - accuracy: 0.9833 - val_loss: 1.0502 - val_accuracy: 0.7683 - 33s/epoch - 109ms/step\n",
      "Epoch 84/100\n",
      "299/299 - 33s - loss: 0.0900 - accuracy: 0.9819 - val_loss: 1.0153 - val_accuracy: 0.7771 - 33s/epoch - 109ms/step\n",
      "Epoch 85/100\n",
      "299/299 - 33s - loss: 0.0858 - accuracy: 0.9828 - val_loss: 1.0795 - val_accuracy: 0.7654 - 33s/epoch - 109ms/step\n",
      "Epoch 86/100\n",
      "299/299 - 33s - loss: 0.0834 - accuracy: 0.9829 - val_loss: 1.0911 - val_accuracy: 0.7644 - 33s/epoch - 109ms/step\n",
      "Epoch 87/100\n",
      "299/299 - 32s - loss: 0.0843 - accuracy: 0.9824 - val_loss: 1.0624 - val_accuracy: 0.7688 - 32s/epoch - 109ms/step\n",
      "Epoch 88/100\n",
      "299/299 - 32s - loss: 0.0826 - accuracy: 0.9817 - val_loss: 1.0536 - val_accuracy: 0.7778 - 32s/epoch - 109ms/step\n",
      "Epoch 89/100\n",
      "299/299 - 32s - loss: 0.0775 - accuracy: 0.9837 - val_loss: 1.0836 - val_accuracy: 0.7715 - 32s/epoch - 108ms/step\n",
      "Epoch 90/100\n",
      "299/299 - 32s - loss: 0.0767 - accuracy: 0.9837 - val_loss: 1.0703 - val_accuracy: 0.7710 - 32s/epoch - 108ms/step\n",
      "Epoch 91/100\n",
      "299/299 - 32s - loss: 0.0755 - accuracy: 0.9840 - val_loss: 1.0470 - val_accuracy: 0.7747 - 32s/epoch - 108ms/step\n",
      "Epoch 92/100\n",
      "299/299 - 32s - loss: 0.0712 - accuracy: 0.9848 - val_loss: 1.0886 - val_accuracy: 0.7722 - 32s/epoch - 109ms/step\n",
      "Epoch 93/100\n",
      "299/299 - 32s - loss: 0.0728 - accuracy: 0.9838 - val_loss: 1.0815 - val_accuracy: 0.7739 - 32s/epoch - 108ms/step\n",
      "Epoch 94/100\n",
      "299/299 - 32s - loss: 0.0660 - accuracy: 0.9864 - val_loss: 1.0990 - val_accuracy: 0.7729 - 32s/epoch - 108ms/step\n",
      "Epoch 95/100\n",
      "299/299 - 32s - loss: 0.0684 - accuracy: 0.9839 - val_loss: 1.1002 - val_accuracy: 0.7725 - 32s/epoch - 108ms/step\n",
      "Epoch 96/100\n",
      "299/299 - 32s - loss: 0.0727 - accuracy: 0.9834 - val_loss: 1.0838 - val_accuracy: 0.7756 - 32s/epoch - 108ms/step\n",
      "Epoch 97/100\n",
      "299/299 - 32s - loss: 0.0620 - accuracy: 0.9862 - val_loss: 1.0871 - val_accuracy: 0.7747 - 32s/epoch - 108ms/step\n",
      "Epoch 98/100\n",
      "299/299 - 32s - loss: 0.0621 - accuracy: 0.9860 - val_loss: 1.1292 - val_accuracy: 0.7737 - 32s/epoch - 108ms/step\n",
      "Epoch 99/100\n",
      "299/299 - 32s - loss: 0.0639 - accuracy: 0.9850 - val_loss: 1.1275 - val_accuracy: 0.7754 - 32s/epoch - 108ms/step\n",
      "Epoch 100/100\n",
      "299/299 - 32s - loss: 0.0680 - accuracy: 0.9838 - val_loss: 1.1077 - val_accuracy: 0.7786 - 32s/epoch - 108ms/step\n"
     ]
    }
   ],
   "execution_count": 14
  },
  {
   "metadata": {
    "ExecuteTime": {
     "end_time": "2025-05-10T09:46:04.649649Z",
     "start_time": "2025-05-10T09:46:04.641724Z"
    }
   },
   "cell_type": "code",
   "source": [
    "def plot_and_save(metric_name, history, ylabel, filename):\n",
    "    plt.figure()\n",
    "    plt.plot(history.history[metric_name], label=f'Train {ylabel}')\n",
    "    if f'val_{metric_name}' in history.history:\n",
    "        plt.plot(history.history[f'val_{metric_name}'], label=f'Val {ylabel}')\n",
    "    plt.title(f'{ylabel} over Epochs')\n",
    "    plt.xlabel('Epochs')\n",
    "    plt.ylabel(ylabel)\n",
    "    plt.legend()\n",
    "    plt.grid(True)\n",
    "    plt.savefig(filename)\n",
    "    plt.close()"
   ],
   "id": "c199f1606d7de37e",
   "outputs": [],
   "execution_count": 15
  },
  {
   "metadata": {
    "ExecuteTime": {
     "end_time": "2025-05-10T09:46:05.511091Z",
     "start_time": "2025-05-10T09:46:05.108232Z"
    }
   },
   "cell_type": "code",
   "source": [
    "plot_and_save('loss', history, 'Loss', 'audio_loss_plot.png')\n",
    "plot_and_save('accuracy', history, 'Audio Classification Accuracy', 'audio_class_accuracy_plot.png')"
   ],
   "id": "71e9eec9b69779d1",
   "outputs": [],
   "execution_count": 16
  },
  {
   "metadata": {
    "ExecuteTime": {
     "end_time": "2025-05-10T09:46:16.771431Z",
     "start_time": "2025-05-10T09:46:05.784468Z"
    }
   },
   "cell_type": "code",
   "source": [
    "predictions = model.predict(x_audio_test)\n",
    "predictions = np.argmax(predictions, axis=1)"
   ],
   "id": "927152f09eb27b96",
   "outputs": [
    {
     "name": "stdout",
     "output_type": "stream",
     "text": [
      "129/129 [==============================] - 9s 50ms/step\n"
     ]
    }
   ],
   "execution_count": 17
  },
  {
   "metadata": {
    "ExecuteTime": {
     "end_time": "2025-05-10T09:46:17.236295Z",
     "start_time": "2025-05-10T09:46:17.231834Z"
    }
   },
   "cell_type": "code",
   "source": [
    "classes = [x for x in os.listdir(TRAIN_IMAGE_PATH)]\n",
    "print(classes)"
   ],
   "id": "f6f12ae8d6fb1ff1",
   "outputs": [
    {
     "name": "stdout",
     "output_type": "stream",
     "text": [
      "['disgust', 'surprise', 'neutral', 'sad', 'fear', 'angry', 'happy']\n"
     ]
    }
   ],
   "execution_count": 18
  },
  {
   "metadata": {
    "ExecuteTime": {
     "end_time": "2025-05-10T09:46:18.683659Z",
     "start_time": "2025-05-10T09:46:17.682568Z"
    }
   },
   "cell_type": "code",
   "source": [
    "cm = confusion_matrix(y_audio_test, predictions)\n",
    "\n",
    "plt.figure(figsize=(10, 8))  # Set the figure size if needed\n",
    "sns.heatmap(cm, annot=True, cmap='Blues', fmt='g')\n",
    "\n",
    "plt.title('Confusion Matrix audio', pad=20, fontsize=20, fontweight=\"bold\")\n",
    "plt.ylabel('Actual')\n",
    "plt.xlabel('Predicted')\n",
    "\n",
    "# Set ticks for the x and y axes using class names\n",
    "plt.xticks(ticks=range(len(classes)), labels=classes, rotation=45)\n",
    "plt.yticks(ticks=range(len(classes)), labels=classes, rotation=0)\n",
    "plt.savefig('confusion_matrix.png', dpi=300, bbox_inches='tight')\n",
    "plt.show()"
   ],
   "id": "8f9a0727bc736f45",
   "outputs": [
    {
     "data": {
      "text/plain": [
       "<Figure size 1000x800 with 2 Axes>"
      ],
      "image/png": "[encoded data removed]"
     },
     "metadata": {},
     "output_type": "display_data"
    }
   ],
   "execution_count": 19
  },
  {
   "metadata": {
    "ExecuteTime": {
     "end_time": "2025-05-10T09:46:19.352745Z",
     "start_time": "2025-05-10T09:46:19.336660Z"
    }
   },
   "cell_type": "code",
   "source": "print(classification_report(y_audio_test, predictions))",
   "id": "c2433b616efcab1d",
   "outputs": [
    {
     "name": "stdout",
     "output_type": "stream",
     "text": [
      "              precision    recall  f1-score   support\n",
      "\n",
      "           0       0.79      0.81      0.80       654\n",
      "           1       0.82      0.62      0.71        93\n",
      "           2       0.71      0.78      0.74       659\n",
      "           3       0.78      0.73      0.75       668\n",
      "           4       0.76      0.78      0.77       629\n",
      "           5       0.81      0.81      0.81       541\n",
      "           6       0.81      0.80      0.81       635\n",
      "           7       0.82      0.79      0.80       232\n",
      "\n",
      "    accuracy                           0.78      4111\n",
      "   macro avg       0.79      0.76      0.77      4111\n",
      "weighted avg       0.78      0.78      0.78      4111\n",
      "\n"
     ]
    }
   ],
   "execution_count": 20
  },
  {
   "metadata": {
    "ExecuteTime": {
     "end_time": "2025-05-10T08:33:38.695736400Z",
     "start_time": "2025-05-10T07:29:22.159375Z"
    }
   },
   "cell_type": "code",
   "source": "",
   "id": "6d0b79a25513ba62",
   "outputs": [],
   "execution_count": null
  }
 ],
 "metadata": {
  "kernelspec": {
   "display_name": "Python 3",
   "language": "python",
   "name": "python3"
  },
  "language_info": {
   "codemirror_mode": {
    "name": "ipython",
    "version": 2
   },
   "file_extension": ".py",
   "mimetype": "text/x-python",
   "name": "python",
   "nbconvert_exporter": "python",
   "pygments_lexer": "ipython2",
   "version": "2.7.6"
  }
 },
 "nbformat": 4,
 "nbformat_minor": 5
}
