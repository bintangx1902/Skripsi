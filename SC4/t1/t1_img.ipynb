{
 "cells": [
  {
   "cell_type": "code",
   "id": "initial_id",
   "metadata": {
    "collapsed": true,
    "ExecuteTime": {
     "end_time": "2025-05-09T08:11:25.352479Z",
     "start_time": "2025-05-09T08:11:25.347929Z"
    }
   },
   "source": [
    "import tensorflow as tf\n",
    "import numpy as np\n",
    "import pandas as pd\n",
    "import seaborn as sns\n",
    "import os\n",
    "import gc\n",
    "\n",
    "from shared.utils import *\n",
    "from shared.kaggle_path import *\n",
    "\n",
    "from matplotlib import pyplot as plt\n",
    "from sklearn.preprocessing import LabelEncoder\n",
    "from sklearn.model_selection import train_test_split\n",
    "from sklearn.metrics import confusion_matrix, classification_report"
   ],
   "outputs": [],
   "execution_count": 20
  },
  {
   "metadata": {},
   "cell_type": "markdown",
   "source": "## Image Data",
   "id": "f6ff5e315cb2c033"
  },
  {
   "metadata": {
    "ExecuteTime": {
     "end_time": "2025-05-09T08:11:27.629555Z",
     "start_time": "2025-05-09T08:11:27.556341Z"
    }
   },
   "cell_type": "code",
   "source": [
    "filepath = []\n",
    "label = []\n",
    "\n",
    "i = 0\n",
    "for classes in os.listdir(TRAIN_IMAGE_PATH):\n",
    "    for file in os.listdir(os.path.join(TRAIN_IMAGE_PATH, classes)):\n",
    "        path = os.path.join(TRAIN_IMAGE_PATH, classes, file)\n",
    "        filepath.append(path)\n",
    "        label.append(classes)\n",
    "\n",
    "train_df = pd.DataFrame({\n",
    "    'filepath': filepath,\n",
    "    'label': label\n",
    "})\n",
    "\n",
    "del filepath, label\n",
    "\n",
    "print(train_df.shape)\n",
    "print(train_df['label'].unique())\n",
    "train_df.head()"
   ],
   "id": "cc651108e86367ac",
   "outputs": [
    {
     "name": "stdout",
     "output_type": "stream",
     "text": [
      "(33228, 2)\n",
      "['angry' 'happy' 'sad' 'fear' 'neutral' 'disgust' 'surprise']\n"
     ]
    },
    {
     "data": {
      "text/plain": [
       "                                            filepath  label\n",
       "0  /kaggle/working/dataset/new_data/train/angry/a...  angry\n",
       "1  /kaggle/working/dataset/new_data/train/angry/T...  angry\n",
       "2  /kaggle/working/dataset/new_data/train/angry/T...  angry\n",
       "3  /kaggle/working/dataset/new_data/train/angry/T...  angry\n",
       "4  /kaggle/working/dataset/new_data/train/angry/a...  angry"
      ],
      "text/html": [
       "<div>\n",
       "<style scoped>\n",
       "    .dataframe tbody tr th:only-of-type {\n",
       "        vertical-align: middle;\n",
       "    }\n",
       "\n",
       "    .dataframe tbody tr th {\n",
       "        vertical-align: top;\n",
       "    }\n",
       "\n",
       "    .dataframe thead th {\n",
       "        text-align: right;\n",
       "    }\n",
       "</style>\n",
       "<table border=\"1\" class=\"dataframe\">\n",
       "  <thead>\n",
       "    <tr style=\"text-align: right;\">\n",
       "      <th></th>\n",
       "      <th>filepath</th>\n",
       "      <th>label</th>\n",
       "    </tr>\n",
       "  </thead>\n",
       "  <tbody>\n",
       "    <tr>\n",
       "      <th>0</th>\n",
       "      <td>/kaggle/working/dataset/new_data/train/angry/a...</td>\n",
       "      <td>angry</td>\n",
       "    </tr>\n",
       "    <tr>\n",
       "      <th>1</th>\n",
       "      <td>/kaggle/working/dataset/new_data/train/angry/T...</td>\n",
       "      <td>angry</td>\n",
       "    </tr>\n",
       "    <tr>\n",
       "      <th>2</th>\n",
       "      <td>/kaggle/working/dataset/new_data/train/angry/T...</td>\n",
       "      <td>angry</td>\n",
       "    </tr>\n",
       "    <tr>\n",
       "      <th>3</th>\n",
       "      <td>/kaggle/working/dataset/new_data/train/angry/T...</td>\n",
       "      <td>angry</td>\n",
       "    </tr>\n",
       "    <tr>\n",
       "      <th>4</th>\n",
       "      <td>/kaggle/working/dataset/new_data/train/angry/a...</td>\n",
       "      <td>angry</td>\n",
       "    </tr>\n",
       "  </tbody>\n",
       "</table>\n",
       "</div>"
      ]
     },
     "execution_count": 26,
     "metadata": {},
     "output_type": "execute_result"
    }
   ],
   "execution_count": 26
  },
  {
   "metadata": {
    "ExecuteTime": {
     "end_time": "2025-05-09T08:11:28.123072Z",
     "start_time": "2025-05-09T08:11:28.099068Z"
    }
   },
   "cell_type": "code",
   "source": [
    "filepath = []\n",
    "label = []\n",
    "\n",
    "i = 0\n",
    "for classes in os.listdir(TEST_IMAGE_PATH):\n",
    "    for file in os.listdir(os.path.join(TEST_IMAGE_PATH, classes)):\n",
    "        path = os.path.join(TEST_IMAGE_PATH, classes, file)\n",
    "        filepath.append(path)\n",
    "        label.append(classes)\n",
    "\n",
    "img_test_df = pd.DataFrame({\n",
    "    'filepath': filepath,\n",
    "    'label': label\n",
    "})\n",
    "\n",
    "del filepath, label\n",
    "\n",
    "print(img_test_df.shape)\n",
    "print(img_test_df['label'].unique())\n",
    "img_test_df.head()"
   ],
   "id": "7bdb41b7837c28d",
   "outputs": [
    {
     "name": "stdout",
     "output_type": "stream",
     "text": [
      "(7311, 2)\n",
      "['angry' 'happy' 'sad' 'fear' 'neutral' 'disgust' 'surprise']\n"
     ]
    },
    {
     "data": {
      "text/plain": [
       "                                            filepath  label\n",
       "0  /kaggle/working/dataset/new_data/test/angry/Pu...  angry\n",
       "1  /kaggle/working/dataset/new_data/test/angry/Pu...  angry\n",
       "2  /kaggle/working/dataset/new_data/test/angry/Pr...  angry\n",
       "3  /kaggle/working/dataset/new_data/test/angry/Pr...  angry\n",
       "4  /kaggle/working/dataset/new_data/test/angry/Pu...  angry"
      ],
      "text/html": [
       "<div>\n",
       "<style scoped>\n",
       "    .dataframe tbody tr th:only-of-type {\n",
       "        vertical-align: middle;\n",
       "    }\n",
       "\n",
       "    .dataframe tbody tr th {\n",
       "        vertical-align: top;\n",
       "    }\n",
       "\n",
       "    .dataframe thead th {\n",
       "        text-align: right;\n",
       "    }\n",
       "</style>\n",
       "<table border=\"1\" class=\"dataframe\">\n",
       "  <thead>\n",
       "    <tr style=\"text-align: right;\">\n",
       "      <th></th>\n",
       "      <th>filepath</th>\n",
       "      <th>label</th>\n",
       "    </tr>\n",
       "  </thead>\n",
       "  <tbody>\n",
       "    <tr>\n",
       "      <th>0</th>\n",
       "      <td>/kaggle/working/dataset/new_data/test/angry/Pu...</td>\n",
       "      <td>angry</td>\n",
       "    </tr>\n",
       "    <tr>\n",
       "      <th>1</th>\n",
       "      <td>/kaggle/working/dataset/new_data/test/angry/Pu...</td>\n",
       "      <td>angry</td>\n",
       "    </tr>\n",
       "    <tr>\n",
       "      <th>2</th>\n",
       "      <td>/kaggle/working/dataset/new_data/test/angry/Pr...</td>\n",
       "      <td>angry</td>\n",
       "    </tr>\n",
       "    <tr>\n",
       "      <th>3</th>\n",
       "      <td>/kaggle/working/dataset/new_data/test/angry/Pr...</td>\n",
       "      <td>angry</td>\n",
       "    </tr>\n",
       "    <tr>\n",
       "      <th>4</th>\n",
       "      <td>/kaggle/working/dataset/new_data/test/angry/Pu...</td>\n",
       "      <td>angry</td>\n",
       "    </tr>\n",
       "  </tbody>\n",
       "</table>\n",
       "</div>"
      ]
     },
     "execution_count": 27,
     "metadata": {},
     "output_type": "execute_result"
    }
   ],
   "execution_count": 27
  },
  {
   "metadata": {
    "ExecuteTime": {
     "end_time": "2025-05-09T08:11:28.521068Z",
     "start_time": "2025-05-09T08:11:28.509512Z"
    }
   },
   "cell_type": "code",
   "source": [
    "le = LabelEncoder()\n",
    "le.fit(train_df['label'])\n",
    "train_df['label_encoded'] = le.transform(train_df['label'])\n",
    "img_test_df['label_encoded'] = le.transform(img_test_df['label'])"
   ],
   "id": "2f4087f0c6e8895f",
   "outputs": [],
   "execution_count": 28
  },
  {
   "metadata": {
    "ExecuteTime": {
     "end_time": "2025-05-09T08:11:45.539980Z",
     "start_time": "2025-05-09T08:11:28.800411Z"
    }
   },
   "cell_type": "code",
   "source": [
    "with tf.device('/GPU:0'):\n",
    "    train_df['data'] = train_df['filepath'].apply(lambda x: preprocess_image(x, (100, 100)))\n",
    "    img_test_df['data'] = img_test_df['filepath'].apply(lambda x: preprocess_image(x, (100, 100)))\n",
    "\n",
    "train_df.shape"
   ],
   "id": "37b5172bb389c3aa",
   "outputs": [
    {
     "data": {
      "text/plain": [
       "(33228, 4)"
      ]
     },
     "execution_count": 29,
     "metadata": {},
     "output_type": "execute_result"
    }
   ],
   "execution_count": 29
  },
  {
   "metadata": {
    "ExecuteTime": {
     "end_time": "2025-05-09T08:11:47.535969Z",
     "start_time": "2025-05-09T08:11:45.890723Z"
    }
   },
   "cell_type": "code",
   "source": [
    "x_img = np.stack(train_df['data'].values)\n",
    "y_img = train_df['label_encoded'].values\n",
    "\n",
    "x_img_test = np.stack(img_test_df['data'].values)\n",
    "y_img_test = img_test_df['label_encoded'].values\n",
    "\n",
    "del train_df, img_test_df\n",
    "\n",
    "x_img_train, x_img_val, y_img_train, y_img_val = train_test_split(x_img, y_img, test_size=0.25, random_state=102, shuffle=True, stratify=y_img)\n",
    "del x_img, y_img"
   ],
   "id": "40ca85ff676eaba0",
   "outputs": [],
   "execution_count": 30
  },
  {
   "metadata": {},
   "cell_type": "markdown",
   "source": [
    "# Modeling\n",
    "## Model Image"
   ],
   "id": "b3d42e28b911fbe9"
  },
  {
   "metadata": {
    "ExecuteTime": {
     "end_time": "2025-05-09T08:11:51.713991Z",
     "start_time": "2025-05-09T08:11:47.871028Z"
    }
   },
   "cell_type": "code",
   "source": [
    "base_model = tf.keras.applications.ResNet50(\n",
    "    weights='imagenet',\n",
    "    include_top=False,\n",
    "    input_tensor=tf.keras.layers.Input(shape=(100, 100, 3)),\n",
    ")\n",
    "\n",
    "# base_model.trainable = False\n",
    "# for layer in base_model.layers:\n",
    "#     layer.trainable = False"
   ],
   "id": "a38969480decd6a6",
   "outputs": [],
   "execution_count": 31
  },
  {
   "metadata": {
    "ExecuteTime": {
     "end_time": "2025-05-09T08:11:53.312794Z",
     "start_time": "2025-05-09T08:11:52.371200Z"
    }
   },
   "cell_type": "code",
   "source": [
    "model = tf.keras.Sequential([\n",
    "    base_model,\n",
    "    tf.keras.layers.GlobalAveragePooling2D(),\n",
    "    tf.keras.layers.Dense(512, activation='relu'),\n",
    "    tf.keras.layers.Dense(7, activation='softmax'),\n",
    "])\n",
    "\n",
    "model.compile(\n",
    "    optimizer=tf.keras.optimizers.Adam(learning_rate=1e-3),\n",
    "    loss=tf.keras.losses.SparseCategoricalCrossentropy(),\n",
    "    metrics=['accuracy'],\n",
    ")"
   ],
   "id": "a34252231df934ad",
   "outputs": [],
   "execution_count": 32
  },
  {
   "metadata": {
    "ExecuteTime": {
     "end_time": "2025-05-09T08:11:53.666163Z",
     "start_time": "2025-05-09T08:11:53.600941Z"
    }
   },
   "cell_type": "code",
   "source": "tf.keras.utils.plot_model(model, show_shapes=True)",
   "id": "ec227e73a0eef37",
   "outputs": [
    {
     "data": {
      "image/png": "[encoded data removed]",
      "text/plain": [
       "<IPython.core.display.Image object>"
      ]
     },
     "execution_count": 33,
     "metadata": {},
     "output_type": "execute_result"
    }
   ],
   "execution_count": 33
  },
  {
   "metadata": {
    "ExecuteTime": {
     "end_time": "2025-05-09T08:11:54.194270Z",
     "start_time": "2025-05-09T08:11:54.188846Z"
    }
   },
   "cell_type": "code",
   "source": [
    "early = tf.keras.callbacks.EarlyStopping(\n",
    "    monitor='val_loss',\n",
    "    restore_best_weights=True,\n",
    "    mode='min',\n",
    "    # start_from_epoch=2,\n",
    "    patience=5\n",
    ")\n",
    "\n",
    "checkpoint = tf.keras.callbacks.ModelCheckpoint(\n",
    "    filepath=os.path.join('model', 'best_model.keras'),\n",
    "    verbose=2,\n",
    "    save_best_only=True,\n",
    "    monitor='val_loss',\n",
    "    mode='min'\n",
    ")\n",
    "\n",
    "lr_scheduler = tf.keras.callbacks.ReduceLROnPlateau(monitor='val_loss',\n",
    "                                                    factor=0.2,\n",
    "                                                    min_lr=1e-6,\n",
    "                                                    patience=3,\n",
    "                                                    mode='min'\n",
    "                                                    )"
   ],
   "id": "11692b91042ecc9b",
   "outputs": [],
   "execution_count": 34
  },
  {
   "metadata": {
    "ExecuteTime": {
     "end_time": "2025-05-09T08:48:38.647322Z",
     "start_time": "2025-05-09T08:11:54.721855Z"
    }
   },
   "cell_type": "code",
   "source": [
    "history = model.fit(\n",
    "    x_img_train,\n",
    "    y_img_train,\n",
    "    validation_data=(x_img_val, y_img_val),\n",
    "    # callbacks=[early, checkpoint, lr_scheduler],\n",
    "    epochs=100,\n",
    "    verbose=2,\n",
    "    batch_size=64,\n",
    "    steps_per_epoch=len(x_img_train) // 64,\n",
    "    validation_steps=len(x_img_val) // 64,\n",
    ")\n"
   ],
   "id": "1a53f4cefc3629d1",
   "outputs": [
    {
     "name": "stdout",
     "output_type": "stream",
     "text": [
      "Epoch 1/100\n"
     ]
    },
    {
     "name": "stderr",
     "output_type": "stream",
     "text": [
      "WARNING: All log messages before absl::InitializeLog() is called are written to STDERR\n",
      "I0000 00:00:1746778336.013795     294 device_compiler.h:186] Compiled cluster using XLA!  This line is logged at most once for the lifetime of the process.\n"
     ]
    },
    {
     "name": "stdout",
     "output_type": "stream",
     "text": [
      "415/415 - 50s - loss: 11.1860 - accuracy: 0.1776 - val_loss: 7.1102 - val_accuracy: 0.1992 - 50s/epoch - 121ms/step\n",
      "Epoch 2/100\n",
      "415/415 - 37s - loss: 6.4593 - accuracy: 0.2074 - val_loss: 5.9692 - val_accuracy: 0.1968 - 37s/epoch - 89ms/step\n",
      "Epoch 3/100\n",
      "415/415 - 27s - loss: 5.3252 - accuracy: 0.2259 - val_loss: 6.2275 - val_accuracy: 0.2113 - 27s/epoch - 65ms/step\n",
      "Epoch 4/100\n",
      "415/415 - 27s - loss: 4.7064 - accuracy: 0.2350 - val_loss: 4.4397 - val_accuracy: 0.2339 - 27s/epoch - 66ms/step\n",
      "Epoch 5/100\n",
      "415/415 - 27s - loss: 4.1985 - accuracy: 0.2478 - val_loss: 4.4831 - val_accuracy: 0.2327 - 27s/epoch - 65ms/step\n",
      "Epoch 6/100\n",
      "415/415 - 27s - loss: 3.9855 - accuracy: 0.2536 - val_loss: 4.8220 - val_accuracy: 0.2151 - 27s/epoch - 66ms/step\n",
      "Epoch 7/100\n",
      "415/415 - 27s - loss: 3.7324 - accuracy: 0.2621 - val_loss: 4.1248 - val_accuracy: 0.2365 - 27s/epoch - 66ms/step\n",
      "Epoch 8/100\n",
      "415/415 - 27s - loss: 3.6579 - accuracy: 0.2679 - val_loss: 4.9087 - val_accuracy: 0.2086 - 27s/epoch - 66ms/step\n",
      "Epoch 9/100\n",
      "415/415 - 27s - loss: 3.4545 - accuracy: 0.2767 - val_loss: 4.0158 - val_accuracy: 0.2319 - 27s/epoch - 66ms/step\n",
      "Epoch 10/100\n",
      "415/415 - 27s - loss: 3.3036 - accuracy: 0.2842 - val_loss: 3.4026 - val_accuracy: 0.2356 - 27s/epoch - 66ms/step\n",
      "Epoch 11/100\n",
      "415/415 - 27s - loss: 3.0956 - accuracy: 0.2977 - val_loss: 4.1551 - val_accuracy: 0.2307 - 27s/epoch - 65ms/step\n",
      "Epoch 12/100\n",
      "415/415 - 27s - loss: 3.2151 - accuracy: 0.2905 - val_loss: 3.2442 - val_accuracy: 0.2538 - 27s/epoch - 66ms/step\n",
      "Epoch 13/100\n",
      "415/415 - 27s - loss: 2.9473 - accuracy: 0.3012 - val_loss: 4.2427 - val_accuracy: 0.2333 - 27s/epoch - 66ms/step\n",
      "Epoch 14/100\n",
      "415/415 - 27s - loss: 2.8268 - accuracy: 0.3114 - val_loss: 3.9322 - val_accuracy: 0.2618 - 27s/epoch - 66ms/step\n",
      "Epoch 15/100\n",
      "415/415 - 27s - loss: 2.8228 - accuracy: 0.3176 - val_loss: 3.8487 - val_accuracy: 0.2212 - 27s/epoch - 66ms/step\n",
      "Epoch 16/100\n",
      "415/415 - 27s - loss: 3.0655 - accuracy: 0.3109 - val_loss: 3.9816 - val_accuracy: 0.2233 - 27s/epoch - 66ms/step\n",
      "Epoch 17/100\n",
      "415/415 - 27s - loss: 2.7485 - accuracy: 0.3276 - val_loss: 3.6587 - val_accuracy: 0.2535 - 27s/epoch - 66ms/step\n",
      "Epoch 18/100\n",
      "415/415 - 27s - loss: 2.6291 - accuracy: 0.3351 - val_loss: 3.4705 - val_accuracy: 0.2304 - 27s/epoch - 66ms/step\n",
      "Epoch 19/100\n",
      "415/415 - 27s - loss: 2.7914 - accuracy: 0.3302 - val_loss: 3.3423 - val_accuracy: 0.2417 - 27s/epoch - 66ms/step\n",
      "Epoch 20/100\n",
      "415/415 - 27s - loss: 2.5373 - accuracy: 0.3428 - val_loss: 4.0221 - val_accuracy: 0.2450 - 27s/epoch - 66ms/step\n",
      "Epoch 21/100\n",
      "415/415 - 27s - loss: 2.5645 - accuracy: 0.3475 - val_loss: 3.0045 - val_accuracy: 0.2638 - 27s/epoch - 66ms/step\n",
      "Epoch 22/100\n",
      "415/415 - 27s - loss: 2.6007 - accuracy: 0.3433 - val_loss: 3.2518 - val_accuracy: 0.2853 - 27s/epoch - 66ms/step\n",
      "Epoch 23/100\n",
      "415/415 - 27s - loss: 2.4748 - accuracy: 0.3517 - val_loss: 3.8710 - val_accuracy: 0.2500 - 27s/epoch - 66ms/step\n",
      "Epoch 24/100\n",
      "415/415 - 27s - loss: 2.3873 - accuracy: 0.3617 - val_loss: 2.9064 - val_accuracy: 0.2823 - 27s/epoch - 66ms/step\n",
      "Epoch 25/100\n",
      "415/415 - 27s - loss: 2.5316 - accuracy: 0.3579 - val_loss: 3.2894 - val_accuracy: 0.2781 - 27s/epoch - 66ms/step\n",
      "Epoch 26/100\n",
      "415/415 - 27s - loss: 2.3078 - accuracy: 0.3696 - val_loss: 3.5162 - val_accuracy: 0.2632 - 27s/epoch - 66ms/step\n",
      "Epoch 27/100\n",
      "415/415 - 27s - loss: 2.4176 - accuracy: 0.3692 - val_loss: 3.2773 - val_accuracy: 0.2235 - 27s/epoch - 66ms/step\n",
      "Epoch 28/100\n",
      "415/415 - 27s - loss: 2.3136 - accuracy: 0.3763 - val_loss: 3.4367 - val_accuracy: 0.2526 - 27s/epoch - 66ms/step\n",
      "Epoch 29/100\n",
      "415/415 - 27s - loss: 2.4895 - accuracy: 0.3699 - val_loss: 3.4326 - val_accuracy: 0.2772 - 27s/epoch - 66ms/step\n",
      "Epoch 30/100\n",
      "415/415 - 27s - loss: 2.1696 - accuracy: 0.3925 - val_loss: 2.9951 - val_accuracy: 0.2588 - 27s/epoch - 66ms/step\n",
      "Epoch 31/100\n",
      "415/415 - 27s - loss: 2.2667 - accuracy: 0.3840 - val_loss: 3.8422 - val_accuracy: 0.2034 - 27s/epoch - 66ms/step\n",
      "Epoch 32/100\n",
      "415/415 - 27s - loss: 2.1847 - accuracy: 0.3920 - val_loss: 2.9753 - val_accuracy: 0.2920 - 27s/epoch - 66ms/step\n",
      "Epoch 33/100\n",
      "415/415 - 27s - loss: 2.2643 - accuracy: 0.3903 - val_loss: 3.6744 - val_accuracy: 0.2518 - 27s/epoch - 66ms/step\n",
      "Epoch 34/100\n",
      "415/415 - 27s - loss: 2.1350 - accuracy: 0.4021 - val_loss: 3.5687 - val_accuracy: 0.2621 - 27s/epoch - 66ms/step\n",
      "Epoch 35/100\n",
      "415/415 - 27s - loss: 2.0725 - accuracy: 0.4098 - val_loss: 3.1968 - val_accuracy: 0.2740 - 27s/epoch - 66ms/step\n",
      "Epoch 36/100\n",
      "415/415 - 27s - loss: 2.0529 - accuracy: 0.4095 - val_loss: 3.1968 - val_accuracy: 0.2627 - 27s/epoch - 66ms/step\n",
      "Epoch 37/100\n",
      "415/415 - 27s - loss: 2.2495 - accuracy: 0.4005 - val_loss: 4.0652 - val_accuracy: 0.2511 - 27s/epoch - 66ms/step\n",
      "Epoch 38/100\n",
      "415/415 - 27s - loss: 2.1230 - accuracy: 0.4107 - val_loss: 3.8883 - val_accuracy: 0.2280 - 27s/epoch - 65ms/step\n",
      "Epoch 39/100\n",
      "415/415 - 27s - loss: 2.0366 - accuracy: 0.4205 - val_loss: 2.9974 - val_accuracy: 0.2849 - 27s/epoch - 66ms/step\n",
      "Epoch 40/100\n",
      "415/415 - 27s - loss: 2.0188 - accuracy: 0.4211 - val_loss: 3.0749 - val_accuracy: 0.2785 - 27s/epoch - 66ms/step\n",
      "Epoch 41/100\n",
      "415/415 - 27s - loss: 2.1057 - accuracy: 0.4197 - val_loss: 3.6940 - val_accuracy: 0.2291 - 27s/epoch - 66ms/step\n",
      "Epoch 42/100\n",
      "415/415 - 27s - loss: 2.0204 - accuracy: 0.4252 - val_loss: 3.4877 - val_accuracy: 0.2673 - 27s/epoch - 66ms/step\n",
      "Epoch 43/100\n",
      "415/415 - 27s - loss: 1.9682 - accuracy: 0.4326 - val_loss: 3.4482 - val_accuracy: 0.2637 - 27s/epoch - 66ms/step\n",
      "Epoch 44/100\n",
      "415/415 - 27s - loss: 1.9659 - accuracy: 0.4370 - val_loss: 3.0520 - val_accuracy: 0.2855 - 27s/epoch - 66ms/step\n",
      "Epoch 45/100\n",
      "415/415 - 27s - loss: 1.9435 - accuracy: 0.4347 - val_loss: 3.2575 - val_accuracy: 0.2715 - 27s/epoch - 66ms/step\n",
      "Epoch 46/100\n",
      "415/415 - 27s - loss: 1.9201 - accuracy: 0.4409 - val_loss: 4.5100 - val_accuracy: 0.2145 - 27s/epoch - 66ms/step\n",
      "Epoch 47/100\n",
      "415/415 - 27s - loss: 1.9615 - accuracy: 0.4407 - val_loss: 2.9356 - val_accuracy: 0.3023 - 27s/epoch - 66ms/step\n",
      "Epoch 48/100\n",
      "415/415 - 27s - loss: 1.8362 - accuracy: 0.4552 - val_loss: 4.3971 - val_accuracy: 0.2762 - 27s/epoch - 66ms/step\n",
      "Epoch 49/100\n",
      "415/415 - 27s - loss: 1.8760 - accuracy: 0.4519 - val_loss: 3.3633 - val_accuracy: 0.2758 - 27s/epoch - 66ms/step\n",
      "Epoch 50/100\n",
      "415/415 - 27s - loss: 1.9300 - accuracy: 0.4458 - val_loss: 3.2975 - val_accuracy: 0.2769 - 27s/epoch - 66ms/step\n",
      "Epoch 51/100\n",
      "415/415 - 27s - loss: 1.7637 - accuracy: 0.4716 - val_loss: 3.4400 - val_accuracy: 0.2715 - 27s/epoch - 66ms/step\n",
      "Epoch 52/100\n",
      "415/415 - 27s - loss: 1.9018 - accuracy: 0.4547 - val_loss: 3.1159 - val_accuracy: 0.2806 - 27s/epoch - 66ms/step\n",
      "Epoch 53/100\n",
      "415/415 - 27s - loss: 1.7855 - accuracy: 0.4673 - val_loss: 3.3051 - val_accuracy: 0.2852 - 27s/epoch - 66ms/step\n",
      "Epoch 54/100\n",
      "415/415 - 27s - loss: 1.7936 - accuracy: 0.4691 - val_loss: 3.4958 - val_accuracy: 0.2809 - 27s/epoch - 66ms/step\n",
      "Epoch 55/100\n",
      "415/415 - 27s - loss: 1.7490 - accuracy: 0.4749 - val_loss: 3.0767 - val_accuracy: 0.2828 - 27s/epoch - 66ms/step\n",
      "Epoch 56/100\n",
      "415/415 - 27s - loss: 1.8284 - accuracy: 0.4663 - val_loss: 3.5728 - val_accuracy: 0.2620 - 27s/epoch - 66ms/step\n",
      "Epoch 57/100\n",
      "415/415 - 27s - loss: 1.8147 - accuracy: 0.4720 - val_loss: 3.6793 - val_accuracy: 0.2403 - 27s/epoch - 66ms/step\n",
      "Epoch 58/100\n",
      "415/415 - 27s - loss: 1.7049 - accuracy: 0.4856 - val_loss: 3.4414 - val_accuracy: 0.2752 - 27s/epoch - 66ms/step\n",
      "Epoch 59/100\n",
      "415/415 - 27s - loss: 1.8832 - accuracy: 0.4698 - val_loss: 3.1529 - val_accuracy: 0.2876 - 27s/epoch - 66ms/step\n",
      "Epoch 60/100\n",
      "415/415 - 27s - loss: 1.6570 - accuracy: 0.4912 - val_loss: 3.2071 - val_accuracy: 0.2844 - 27s/epoch - 66ms/step\n",
      "Epoch 61/100\n",
      "415/415 - 27s - loss: 1.6400 - accuracy: 0.4949 - val_loss: 3.1212 - val_accuracy: 0.2776 - 27s/epoch - 66ms/step\n",
      "Epoch 62/100\n",
      "415/415 - 23s - loss: 1.7354 - accuracy: 0.4818 - val_loss: 3.4890 - val_accuracy: 0.2873 - 23s/epoch - 56ms/step\n",
      "Epoch 63/100\n",
      "415/415 - 19s - loss: 1.6365 - accuracy: 0.5018 - val_loss: 3.8176 - val_accuracy: 0.2838 - 19s/epoch - 46ms/step\n",
      "Epoch 64/100\n",
      "415/415 - 20s - loss: 1.6505 - accuracy: 0.4989 - val_loss: 3.6366 - val_accuracy: 0.2600 - 20s/epoch - 47ms/step\n",
      "Epoch 65/100\n",
      "415/415 - 19s - loss: 1.5832 - accuracy: 0.5034 - val_loss: 3.4855 - val_accuracy: 0.2952 - 19s/epoch - 46ms/step\n",
      "Epoch 66/100\n",
      "415/415 - 12s - loss: 1.7019 - accuracy: 0.4939 - val_loss: 3.9612 - val_accuracy: 0.2803 - 12s/epoch - 29ms/step\n",
      "Epoch 67/100\n",
      "415/415 - 12s - loss: 1.6668 - accuracy: 0.4970 - val_loss: 3.1893 - val_accuracy: 0.3078 - 12s/epoch - 29ms/step\n",
      "Epoch 68/100\n",
      "415/415 - 12s - loss: 1.5164 - accuracy: 0.5186 - val_loss: 4.1131 - val_accuracy: 0.2178 - 12s/epoch - 29ms/step\n",
      "Epoch 69/100\n",
      "415/415 - 12s - loss: 1.6005 - accuracy: 0.5083 - val_loss: 3.1385 - val_accuracy: 0.2990 - 12s/epoch - 29ms/step\n",
      "Epoch 70/100\n",
      "415/415 - 12s - loss: 1.5446 - accuracy: 0.5164 - val_loss: 3.7540 - val_accuracy: 0.2708 - 12s/epoch - 29ms/step\n",
      "Epoch 71/100\n",
      "415/415 - 12s - loss: 1.6140 - accuracy: 0.5118 - val_loss: 3.3441 - val_accuracy: 0.2893 - 12s/epoch - 29ms/step\n",
      "Epoch 72/100\n",
      "415/415 - 12s - loss: 1.5620 - accuracy: 0.5148 - val_loss: 3.4367 - val_accuracy: 0.3026 - 12s/epoch - 29ms/step\n",
      "Epoch 73/100\n",
      "415/415 - 12s - loss: 1.6782 - accuracy: 0.5017 - val_loss: 3.2662 - val_accuracy: 0.2814 - 12s/epoch - 29ms/step\n",
      "Epoch 74/100\n",
      "415/415 - 12s - loss: 1.5277 - accuracy: 0.5262 - val_loss: 3.5614 - val_accuracy: 0.2646 - 12s/epoch - 29ms/step\n",
      "Epoch 75/100\n",
      "415/415 - 12s - loss: 1.5000 - accuracy: 0.5266 - val_loss: 3.2976 - val_accuracy: 0.2969 - 12s/epoch - 29ms/step\n",
      "Epoch 76/100\n",
      "415/415 - 12s - loss: 1.5520 - accuracy: 0.5221 - val_loss: 3.2880 - val_accuracy: 0.3119 - 12s/epoch - 29ms/step\n",
      "Epoch 77/100\n",
      "415/415 - 12s - loss: 1.5185 - accuracy: 0.5280 - val_loss: 3.5345 - val_accuracy: 0.3064 - 12s/epoch - 29ms/step\n",
      "Epoch 78/100\n",
      "415/415 - 12s - loss: 1.5212 - accuracy: 0.5318 - val_loss: 3.7802 - val_accuracy: 0.2677 - 12s/epoch - 29ms/step\n",
      "Epoch 79/100\n",
      "415/415 - 12s - loss: 1.5625 - accuracy: 0.5250 - val_loss: 3.8690 - val_accuracy: 0.2684 - 12s/epoch - 29ms/step\n",
      "Epoch 80/100\n",
      "415/415 - 12s - loss: 1.5387 - accuracy: 0.5273 - val_loss: 3.5823 - val_accuracy: 0.2617 - 12s/epoch - 29ms/step\n",
      "Epoch 81/100\n",
      "415/415 - 12s - loss: 1.4440 - accuracy: 0.5412 - val_loss: 3.3881 - val_accuracy: 0.2873 - 12s/epoch - 29ms/step\n",
      "Epoch 82/100\n",
      "415/415 - 12s - loss: 1.4426 - accuracy: 0.5477 - val_loss: 3.4479 - val_accuracy: 0.2960 - 12s/epoch - 29ms/step\n",
      "Epoch 83/100\n",
      "415/415 - 12s - loss: 1.4720 - accuracy: 0.5436 - val_loss: 3.4481 - val_accuracy: 0.3011 - 12s/epoch - 29ms/step\n",
      "Epoch 84/100\n",
      "415/415 - 12s - loss: 1.4069 - accuracy: 0.5492 - val_loss: 3.5958 - val_accuracy: 0.2799 - 12s/epoch - 29ms/step\n",
      "Epoch 85/100\n",
      "415/415 - 12s - loss: 1.5080 - accuracy: 0.5420 - val_loss: 3.4527 - val_accuracy: 0.2834 - 12s/epoch - 29ms/step\n",
      "Epoch 86/100\n",
      "415/415 - 12s - loss: 1.5063 - accuracy: 0.5391 - val_loss: 3.7273 - val_accuracy: 0.2887 - 12s/epoch - 29ms/step\n",
      "Epoch 87/100\n",
      "415/415 - 12s - loss: 1.3765 - accuracy: 0.5608 - val_loss: 3.3963 - val_accuracy: 0.2985 - 12s/epoch - 29ms/step\n",
      "Epoch 88/100\n",
      "415/415 - 12s - loss: 1.3982 - accuracy: 0.5551 - val_loss: 3.6156 - val_accuracy: 0.2961 - 12s/epoch - 29ms/step\n",
      "Epoch 89/100\n",
      "415/415 - 12s - loss: 1.3642 - accuracy: 0.5626 - val_loss: 3.9104 - val_accuracy: 0.2809 - 12s/epoch - 29ms/step\n",
      "Epoch 90/100\n",
      "415/415 - 12s - loss: 1.4175 - accuracy: 0.5558 - val_loss: 3.5724 - val_accuracy: 0.2806 - 12s/epoch - 29ms/step\n",
      "Epoch 91/100\n",
      "415/415 - 12s - loss: 1.4064 - accuracy: 0.5548 - val_loss: 3.8441 - val_accuracy: 0.2840 - 12s/epoch - 29ms/step\n",
      "Epoch 92/100\n",
      "415/415 - 12s - loss: 1.4366 - accuracy: 0.5559 - val_loss: 3.7811 - val_accuracy: 0.2665 - 12s/epoch - 29ms/step\n",
      "Epoch 93/100\n",
      "415/415 - 12s - loss: 1.2335 - accuracy: 0.5887 - val_loss: 3.6827 - val_accuracy: 0.2779 - 12s/epoch - 29ms/step\n",
      "Epoch 94/100\n",
      "415/415 - 12s - loss: 1.3751 - accuracy: 0.5689 - val_loss: 4.1010 - val_accuracy: 0.2882 - 12s/epoch - 29ms/step\n",
      "Epoch 95/100\n",
      "415/415 - 12s - loss: 1.4268 - accuracy: 0.5586 - val_loss: 4.1165 - val_accuracy: 0.2967 - 12s/epoch - 29ms/step\n",
      "Epoch 96/100\n",
      "415/415 - 12s - loss: 1.3720 - accuracy: 0.5646 - val_loss: 3.4660 - val_accuracy: 0.2963 - 12s/epoch - 29ms/step\n",
      "Epoch 97/100\n",
      "415/415 - 12s - loss: 1.3435 - accuracy: 0.5748 - val_loss: 3.5728 - val_accuracy: 0.2772 - 12s/epoch - 29ms/step\n",
      "Epoch 98/100\n",
      "415/415 - 12s - loss: 1.2863 - accuracy: 0.5833 - val_loss: 3.7761 - val_accuracy: 0.2890 - 12s/epoch - 29ms/step\n",
      "Epoch 99/100\n",
      "415/415 - 12s - loss: 1.2870 - accuracy: 0.5841 - val_loss: 3.5051 - val_accuracy: 0.3107 - 12s/epoch - 29ms/step\n",
      "Epoch 100/100\n",
      "415/415 - 12s - loss: 1.3372 - accuracy: 0.5784 - val_loss: 4.0886 - val_accuracy: 0.2591 - 12s/epoch - 29ms/step\n"
     ]
    }
   ],
   "execution_count": 35
  },
  {
   "metadata": {
    "ExecuteTime": {
     "end_time": "2025-05-09T08:48:39.069492Z",
     "start_time": "2025-05-09T08:48:39.064933Z"
    }
   },
   "cell_type": "code",
   "source": [
    "def plot_and_save(metric_name, history, ylabel, filename):\n",
    "    plt.figure()\n",
    "    plt.plot(history.history[metric_name], label=f'Train {ylabel}')\n",
    "    if f'val_{metric_name}' in history.history:\n",
    "        plt.plot(history.history[f'val_{metric_name}'], label=f'Val {ylabel}')\n",
    "    plt.title(f'{ylabel} over Epochs')\n",
    "    plt.xlabel('Epochs')\n",
    "    plt.ylabel(ylabel)\n",
    "    plt.legend()\n",
    "    plt.grid(True)\n",
    "    plt.savefig(filename)\n",
    "    plt.close()"
   ],
   "id": "c199f1606d7de37e",
   "outputs": [],
   "execution_count": 36
  },
  {
   "metadata": {
    "ExecuteTime": {
     "end_time": "2025-05-09T08:48:39.769062Z",
     "start_time": "2025-05-09T08:48:39.451200Z"
    }
   },
   "cell_type": "code",
   "source": [
    "plot_and_save('loss', history, 'Loss', 'vgg19-image_loss_plot.png')\n",
    "plot_and_save('accuracy', history, 'Image Classification Accuracy', 'vgg19-image_class_accuracy_plot.png')"
   ],
   "id": "71e9eec9b69779d1",
   "outputs": [],
   "execution_count": 37
  },
  {
   "metadata": {
    "ExecuteTime": {
     "end_time": "2025-05-09T08:48:49.142059Z",
     "start_time": "2025-05-09T08:48:40.165378Z"
    }
   },
   "cell_type": "code",
   "source": [
    "predictions = model.predict(x_img_test)\n",
    "predictions = np.argmax(predictions, axis=1)"
   ],
   "id": "927152f09eb27b96",
   "outputs": [
    {
     "name": "stdout",
     "output_type": "stream",
     "text": [
      "229/229 [==============================] - 9s 21ms/step\n"
     ]
    }
   ],
   "execution_count": 38
  },
  {
   "metadata": {
    "ExecuteTime": {
     "end_time": "2025-05-09T08:48:49.519996Z",
     "start_time": "2025-05-09T08:48:49.515945Z"
    }
   },
   "cell_type": "code",
   "source": [
    "classes = [x for x in os.listdir(TRAIN_IMAGE_PATH)]\n",
    "print(classes)"
   ],
   "id": "f6f12ae8d6fb1ff1",
   "outputs": [
    {
     "name": "stdout",
     "output_type": "stream",
     "text": [
      "['angry', 'happy', 'sad', 'fear', 'neutral', 'disgust', 'surprise']\n"
     ]
    }
   ],
   "execution_count": 39
  },
  {
   "metadata": {
    "ExecuteTime": {
     "end_time": "2025-05-09T08:48:50.810903Z",
     "start_time": "2025-05-09T08:48:49.917100Z"
    }
   },
   "cell_type": "code",
   "source": [
    "cm = confusion_matrix(y_img_test, predictions)\n",
    "\n",
    "plt.figure(figsize=(10, 8))  # Set the figure size if needed\n",
    "sns.heatmap(cm, annot=True, cmap='Blues', fmt='g')\n",
    "\n",
    "plt.title('Confusion Matrix VGG19-IMG', pad=20, fontsize=20, fontweight=\"bold\")\n",
    "plt.ylabel('Actual')\n",
    "plt.xlabel('Predicted')\n",
    "\n",
    "# Set ticks for the x and y axes using class names\n",
    "plt.xticks(ticks=range(len(classes)), labels=classes, rotation=45)\n",
    "plt.yticks(ticks=range(len(classes)), labels=classes, rotation=0)\n",
    "plt.savefig('confusion_matrix.png', dpi=300, bbox_inches='tight')\n",
    "plt.show()"
   ],
   "id": "8f9a0727bc736f45",
   "outputs": [
    {
     "data": {
      "text/plain": [
       "<Figure size 1000x800 with 2 Axes>"
      ],
      "image/png": "[encoded data removed]"
     },
     "metadata": {},
     "output_type": "display_data"
    }
   ],
   "execution_count": 40
  },
  {
   "metadata": {},
   "cell_type": "markdown",
   "source": [
    "# Eval Result\n",
    "## Accuracy\n",
    "Accuracy = (Sum of diagonal elements) / (Sum of all elements) <br>\n",
    "= (442 + 51 + 459 + 1255 + 673 + 655 + 622) / Sum of all values <br>\n",
    "= 4157 / 7331 <br>\n",
    "= 0.5670 or 56.70% <br>\n",
    "\n",
    "## Class-wise Metrics\n",
    "### Angry\n",
    "- Precision = TP / (TP + FP) = 442 / (442 + 24 + 121 + 98 + 123 + 132 + 26) = 442 / 966 = 0.4576 or 45.76%\n",
    "- Recall = TP / (TP + FN) = 442 / (442 + 16 + 161 + 50 + 105 + 183 + 20) = 442 / 977 = 0.4524 or 45.24%\n",
    "- F1-score = 2 × (Precision × Recall) / (Precision + Recall) = 2 × (0.4576 × 0.4524) / (0.4576 + 0.4524) = 0.4550 or 45.50%\n",
    "\n",
    "### Disgust\n",
    "- Precision = 51 / (51 + 16 + 7 + 10 + 4 + 12 + 1) = 51 / 101 = 0.5050 or 50.50%\n",
    "- Recall = 51 / (51 + 24 + 15 + 14 + 6 + 16 + 4) = 51 / 130 = 0.3923 or 39.23%\n",
    "- F1-score = 2 × (0.5050 × 0.3923) / (0.5050 + 0.3923) = 0.4414 or 44.14%\n",
    "\n",
    "### Fear\n",
    "- Precision = 459 / (459 + 161 + 100 + 120 + 186 + 80) = 459 / 1106 = 0.4150 or 41.50%\n",
    "- Recall = 459 / (459 + 121 + 7 + 39 + 115 + 200 + 102) = 459 / 1043 = 0.4401 or 44.01%\n",
    "- F1-score = 2 × (0.4150 × 0.4401) / (0.4150 + 0.4401) = 0.4271 or 42.71%\n",
    "\n",
    "### Happy\n",
    "- Precision = 1255 / (1255 + 50 + 14 + 39 + 72 + 53 + 45) = 1255 / 1528 = 0.8213 or 82.13%\n",
    "- Recall = 1255 / (1255 + 98 + 10 + 100 + 147 + 124 + 59) = 1255 / 1793 = 0.6999 or 69.99%\n",
    "- F1-score = 2 × (0.8213 × 0.6999) / (0.8213 + 0.6999) = 0.7554 or 75.54%\n",
    "\n",
    "### Neutral\n",
    "- Precision = 673 / (673 + 105 + 6 + 115 + 147 + 195 + 40) = 673 / 1281 = 0.5254 or 52.54%\n",
    "- Recall = 673 / (673 + 123 + 4 + 120 + 72 + 227 + 33) = 673 / 1252 = 0.5376 or 53.76%\n",
    "- F1-score = 2 × (0.5254 × 0.5376) / (0.5254 + 0.5376) = 0.5314 or 53.14%\n",
    "\n",
    "### Sad\n",
    "- Precision = 655 / (655 + 183 + 16 + 200 + 124 + 227 + 36) = 655 / 1441 = 0.4546 or 45.46%\n",
    "- Recall = 655 / (655 + 132 + 12 + 186 + 53 + 195 + 33) = 655 / 1266 = 0.5174 or 51.74%\n",
    "- F1-score = 2 × (0.4546 × 0.5174) / (0.4546 + 0.5174) = 0.4839 or 48.39%\n",
    "\n",
    "### Surprise\n",
    "- Precision = 622 / (622 + 20 + 4 + 102 + 59 + 33 + 33) = 622 / 873 = 0.7125 or 71.25%\n",
    "- Recall = 622 / (622 + 26 + 1 + 80 + 45 + 40 + 36) = 622 / 850 = 0.7318 or 73.18%\n",
    "- F1-score = 2 × (0.7125 × 0.7318) / (0.7125 + 0.7318) = 0.7220 or 72.20%\n",
    "\n",
    "## Macro Average (unweighted)\n",
    "- Macro Precision = (0.4576 + 0.5050 + 0.4150 + 0.8213 + 0.5254 + 0.4546 + 0.7125) / 7 = 0.5559 or 55.59%\n",
    "- Macro Recall = (0.4524 + 0.3923 + 0.4401 + 0.6999 + 0.5376 + 0.5174 + 0.7318) / 7 = 0.5388 or 53.88%\n",
    "- Macro F1-score = (0.4550 + 0.4414 + 0.4271 + 0.7554 + 0.5314 + 0.4839 + 0.7220) / 7 = 0.5452 or 54.52%\n",
    "\n",
    "## Summary of Results:\n",
    "- Overall Accuracy: 56.70%\n",
    "- Macro Precision: 55.59%\n",
    "- Macro Recall: 53.88%\n",
    "- Macro F1-score: 54.52%\n",
    "\n",
    "The model performs best on the \"happy\" and \"surprise\" classes, with F1-scores of 75.54% and 72.20% respectively, while struggling more with \"fear\" (42.71%) and \"disgust\" (44.14%)."
   ],
   "id": "bd1d287594830579"
  },
  {
   "metadata": {},
   "cell_type": "code",
   "outputs": [],
   "execution_count": null,
   "source": "print(classification_report(y_img_test, predictions))",
   "id": "904964224c79b3ff"
  }
 ],
 "metadata": {
  "kernelspec": {
   "display_name": "Python 3",
   "language": "python",
   "name": "python3"
  },
  "language_info": {
   "codemirror_mode": {
    "name": "ipython",
    "version": 2
   },
   "file_extension": ".py",
   "mimetype": "text/x-python",
   "name": "python",
   "nbconvert_exporter": "python",
   "pygments_lexer": "ipython2",
   "version": "2.7.6"
  }
 },
 "nbformat": 4,
 "nbformat_minor": 5
}
