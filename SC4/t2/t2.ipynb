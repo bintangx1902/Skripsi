{
 "cells": [
  {
   "cell_type": "code",
   "id": "initial_id",
   "metadata": {
    "collapsed": true,
    "ExecuteTime": {
     "end_time": "2025-05-10T09:21:57.344237Z",
     "start_time": "2025-05-10T09:21:54.688875Z"
    }
   },
   "source": [
    "import tensorflow as tf\n",
    "import numpy as np\n",
    "import pandas as pd\n",
    "import seaborn as sns\n",
    "import os\n",
    "import gc\n",
    "\n",
    "from shared.utils import *\n",
    "from shared.local_path import *\n",
    "\n",
    "from matplotlib import pyplot as plt\n",
    "from sklearn.preprocessing import LabelEncoder\n",
    "from sklearn.model_selection import train_test_split\n",
    "from sklearn.metrics import confusion_matrix, classification_report"
   ],
   "outputs": [],
   "execution_count": 1
  },
  {
   "metadata": {},
   "cell_type": "markdown",
   "source": [
    "# Data Preprocessing\n",
    "## Audio Data"
   ],
   "id": "1bb851ac4139d0b7"
  },
  {
   "metadata": {
    "ExecuteTime": {
     "end_time": "2025-05-10T09:21:57.834112Z",
     "start_time": "2025-05-10T09:21:57.820114Z"
    }
   },
   "cell_type": "code",
   "source": [
    "# label = []\n",
    "# filepath = []\n",
    "#\n",
    "# for classes in os.listdir(AUDIO_PATH):\n",
    "#     for file in os.listdir(os.path.join(AUDIO_PATH, classes)):\n",
    "#         file_path = os.path.join(AUDIO_PATH, classes, file)\n",
    "#\n",
    "#         filepath.append(file_path)\n",
    "#         label.append(classes)\n",
    "#\n",
    "# audio = pd.DataFrame({\n",
    "#     'filepath': filepath,\n",
    "#     'label': label,\n",
    "# })\n",
    "#\n",
    "# del filepath, label\n",
    "#\n",
    "# audio.head()"
   ],
   "id": "40f1d84afe936100",
   "outputs": [],
   "execution_count": 2
  },
  {
   "metadata": {
    "ExecuteTime": {
     "end_time": "2025-05-10T09:21:57.866113Z",
     "start_time": "2025-05-10T09:21:57.852113Z"
    }
   },
   "cell_type": "code",
   "source": [
    "# le = LabelEncoder()\n",
    "# le.fit(audio['label'])\n",
    "# audio['label_encoded'] = le.transform(audio['label'])\n",
    "# num_classes = len(le.classes_)"
   ],
   "id": "da70704c453287dd",
   "outputs": [],
   "execution_count": 3
  },
  {
   "metadata": {
    "ExecuteTime": {
     "end_time": "2025-05-10T09:21:57.898112Z",
     "start_time": "2025-05-10T09:21:57.883113Z"
    }
   },
   "cell_type": "code",
   "source": [
    "# with tf.device('/GPU:0'):\n",
    "#     audio['data'] = audio.filepath.apply(preprocess_audio)\n",
    "#     audio = audio.sample(frac=1).reset_index(drop=True)"
   ],
   "id": "527ce5b642666bf2",
   "outputs": [],
   "execution_count": 4
  },
  {
   "metadata": {
    "ExecuteTime": {
     "end_time": "2025-05-10T09:21:57.930114Z",
     "start_time": "2025-05-10T09:21:57.915114Z"
    }
   },
   "cell_type": "code",
   "source": [
    "# x_audio = np.stack(audio['data'].values)\n",
    "# y_audio = audio['label_encoded'].values\n",
    "# print(x_audio.shape)\n",
    "# del audio"
   ],
   "id": "68092b8e401656e7",
   "outputs": [],
   "execution_count": 5
  },
  {
   "metadata": {
    "ExecuteTime": {
     "end_time": "2025-05-10T09:21:57.962112Z",
     "start_time": "2025-05-10T09:21:57.947114Z"
    }
   },
   "cell_type": "code",
   "source": [
    "# x_audio_train, x_temp, y_audio_train, y_temp = train_test_split(\n",
    "#     x_audio, y_audio, test_size=0.3, random_state=100,\n",
    "# )\n",
    "#\n",
    "# x_audio_val, x_audio_test, y_audio_val, y_audio_test = train_test_split(\n",
    "#     x_temp, y_temp, test_size=0.5, random_state=222,\n",
    "# )\n",
    "#\n",
    "# del x_audio, y_audio\n",
    "# print(x_audio_train.shape)\n",
    "# print(x_audio_train.shape[0] == len(y_audio_train))"
   ],
   "id": "f153f9e105be8284",
   "outputs": [],
   "execution_count": 6
  },
  {
   "metadata": {},
   "cell_type": "markdown",
   "source": "## Image Data",
   "id": "f6ff5e315cb2c033"
  },
  {
   "metadata": {
    "ExecuteTime": {
     "end_time": "2025-05-10T09:21:58.548502Z",
     "start_time": "2025-05-10T09:21:57.980113Z"
    }
   },
   "cell_type": "code",
   "source": [
    "filepath = []\n",
    "label = []\n",
    "\n",
    "i = 0\n",
    "for classes in os.listdir(TRAIN_IMAGE_PATH):\n",
    "    for file in os.listdir(os.path.join(TRAIN_IMAGE_PATH, classes)):\n",
    "        path = os.path.join(TRAIN_IMAGE_PATH, classes, file)\n",
    "        filepath.append(path)\n",
    "        label.append(classes)\n",
    "\n",
    "train_df = pd.DataFrame({\n",
    "    'filepath': filepath,\n",
    "    'label': label\n",
    "})\n",
    "\n",
    "del filepath, label\n",
    "\n",
    "print(train_df.shape)\n",
    "print(train_df['label'].unique())\n",
    "train_df.head()"
   ],
   "id": "cc651108e86367ac",
   "outputs": [
    {
     "name": "stdout",
     "output_type": "stream",
     "text": [
      "(33228, 2)\n",
      "['angry' 'disgust' 'fear' 'happy' 'neutral' 'sad' 'surprise']\n"
     ]
    },
    {
     "data": {
      "text/plain": [
       "                                            filepath  label\n",
       "0  E:\\\\Skripsi\\data\\new_data\\train\\angry\\angry_0_...  angry\n",
       "1  E:\\\\Skripsi\\data\\new_data\\train\\angry\\angry_0_...  angry\n",
       "2  E:\\\\Skripsi\\data\\new_data\\train\\angry\\angry_0_...  angry\n",
       "3  E:\\\\Skripsi\\data\\new_data\\train\\angry\\angry_0_...  angry\n",
       "4  E:\\\\Skripsi\\data\\new_data\\train\\angry\\angry_0_...  angry"
      ],
      "text/html": [
       "<div>\n",
       "<style scoped>\n",
       "    .dataframe tbody tr th:only-of-type {\n",
       "        vertical-align: middle;\n",
       "    }\n",
       "\n",
       "    .dataframe tbody tr th {\n",
       "        vertical-align: top;\n",
       "    }\n",
       "\n",
       "    .dataframe thead th {\n",
       "        text-align: right;\n",
       "    }\n",
       "</style>\n",
       "<table border=\"1\" class=\"dataframe\">\n",
       "  <thead>\n",
       "    <tr style=\"text-align: right;\">\n",
       "      <th></th>\n",
       "      <th>filepath</th>\n",
       "      <th>label</th>\n",
       "    </tr>\n",
       "  </thead>\n",
       "  <tbody>\n",
       "    <tr>\n",
       "      <th>0</th>\n",
       "      <td>E:\\\\Skripsi\\data\\new_data\\train\\angry\\angry_0_...</td>\n",
       "      <td>angry</td>\n",
       "    </tr>\n",
       "    <tr>\n",
       "      <th>1</th>\n",
       "      <td>E:\\\\Skripsi\\data\\new_data\\train\\angry\\angry_0_...</td>\n",
       "      <td>angry</td>\n",
       "    </tr>\n",
       "    <tr>\n",
       "      <th>2</th>\n",
       "      <td>E:\\\\Skripsi\\data\\new_data\\train\\angry\\angry_0_...</td>\n",
       "      <td>angry</td>\n",
       "    </tr>\n",
       "    <tr>\n",
       "      <th>3</th>\n",
       "      <td>E:\\\\Skripsi\\data\\new_data\\train\\angry\\angry_0_...</td>\n",
       "      <td>angry</td>\n",
       "    </tr>\n",
       "    <tr>\n",
       "      <th>4</th>\n",
       "      <td>E:\\\\Skripsi\\data\\new_data\\train\\angry\\angry_0_...</td>\n",
       "      <td>angry</td>\n",
       "    </tr>\n",
       "  </tbody>\n",
       "</table>\n",
       "</div>"
      ]
     },
     "execution_count": 7,
     "metadata": {},
     "output_type": "execute_result"
    }
   ],
   "execution_count": 7
  },
  {
   "metadata": {
    "ExecuteTime": {
     "end_time": "2025-05-10T09:21:58.675511Z",
     "start_time": "2025-05-10T09:21:58.597504Z"
    }
   },
   "cell_type": "code",
   "source": [
    "filepath = []\n",
    "label = []\n",
    "\n",
    "i = 0\n",
    "for classes in os.listdir(TEST_IMAGE_PATH):\n",
    "    for file in os.listdir(os.path.join(TEST_IMAGE_PATH, classes)):\n",
    "        path = os.path.join(TEST_IMAGE_PATH, classes, file)\n",
    "        filepath.append(path)\n",
    "        label.append(classes)\n",
    "\n",
    "img_test_df = pd.DataFrame({\n",
    "    'filepath': filepath,\n",
    "    'label': label\n",
    "})\n",
    "\n",
    "del filepath, label\n",
    "\n",
    "print(img_test_df.shape)\n",
    "print(img_test_df['label'].unique())\n",
    "img_test_df.head()"
   ],
   "id": "7bdb41b7837c28d",
   "outputs": [
    {
     "name": "stdout",
     "output_type": "stream",
     "text": [
      "(7311, 2)\n",
      "['angry' 'disgust' 'fear' 'happy' 'neutral' 'sad' 'surprise']\n"
     ]
    },
    {
     "data": {
      "text/plain": [
       "                                            filepath  label\n",
       "0     E:\\\\Skripsi\\data\\new_data\\test\\angry\\Anger.jpg  angry\n",
       "1   E:\\\\Skripsi\\data\\new_data\\test\\angry\\Anger_1.jpg  angry\n",
       "2  E:\\\\Skripsi\\data\\new_data\\test\\angry\\Anger_10.jpg  angry\n",
       "3  E:\\\\Skripsi\\data\\new_data\\test\\angry\\Anger_11.jpg  angry\n",
       "4  E:\\\\Skripsi\\data\\new_data\\test\\angry\\Anger_12.jpg  angry"
      ],
      "text/html": [
       "<div>\n",
       "<style scoped>\n",
       "    .dataframe tbody tr th:only-of-type {\n",
       "        vertical-align: middle;\n",
       "    }\n",
       "\n",
       "    .dataframe tbody tr th {\n",
       "        vertical-align: top;\n",
       "    }\n",
       "\n",
       "    .dataframe thead th {\n",
       "        text-align: right;\n",
       "    }\n",
       "</style>\n",
       "<table border=\"1\" class=\"dataframe\">\n",
       "  <thead>\n",
       "    <tr style=\"text-align: right;\">\n",
       "      <th></th>\n",
       "      <th>filepath</th>\n",
       "      <th>label</th>\n",
       "    </tr>\n",
       "  </thead>\n",
       "  <tbody>\n",
       "    <tr>\n",
       "      <th>0</th>\n",
       "      <td>E:\\\\Skripsi\\data\\new_data\\test\\angry\\Anger.jpg</td>\n",
       "      <td>angry</td>\n",
       "    </tr>\n",
       "    <tr>\n",
       "      <th>1</th>\n",
       "      <td>E:\\\\Skripsi\\data\\new_data\\test\\angry\\Anger_1.jpg</td>\n",
       "      <td>angry</td>\n",
       "    </tr>\n",
       "    <tr>\n",
       "      <th>2</th>\n",
       "      <td>E:\\\\Skripsi\\data\\new_data\\test\\angry\\Anger_10.jpg</td>\n",
       "      <td>angry</td>\n",
       "    </tr>\n",
       "    <tr>\n",
       "      <th>3</th>\n",
       "      <td>E:\\\\Skripsi\\data\\new_data\\test\\angry\\Anger_11.jpg</td>\n",
       "      <td>angry</td>\n",
       "    </tr>\n",
       "    <tr>\n",
       "      <th>4</th>\n",
       "      <td>E:\\\\Skripsi\\data\\new_data\\test\\angry\\Anger_12.jpg</td>\n",
       "      <td>angry</td>\n",
       "    </tr>\n",
       "  </tbody>\n",
       "</table>\n",
       "</div>"
      ]
     },
     "execution_count": 8,
     "metadata": {},
     "output_type": "execute_result"
    }
   ],
   "execution_count": 8
  },
  {
   "metadata": {
    "ExecuteTime": {
     "end_time": "2025-05-10T09:21:58.769305Z",
     "start_time": "2025-05-10T09:21:58.754304Z"
    }
   },
   "cell_type": "code",
   "source": [
    "le = LabelEncoder()\n",
    "le.fit(train_df['label'])\n",
    "train_df['label_encoded'] = le.transform(train_df['label'])\n",
    "img_test_df['label_encoded'] = le.transform(img_test_df['label'])"
   ],
   "id": "2f4087f0c6e8895f",
   "outputs": [],
   "execution_count": 9
  },
  {
   "metadata": {
    "ExecuteTime": {
     "end_time": "2025-05-10T09:22:18.872984Z",
     "start_time": "2025-05-10T09:21:58.816580Z"
    }
   },
   "cell_type": "code",
   "source": [
    "with tf.device('/GPU:0'):\n",
    "    train_df['data'] = train_df['filepath'].apply(lambda x: preprocess_image(x, (100, 100)))\n",
    "    img_test_df['data'] = img_test_df['filepath'].apply(lambda x: preprocess_image(x, (100, 100)))\n",
    "\n",
    "train_df.shape"
   ],
   "id": "37b5172bb389c3aa",
   "outputs": [
    {
     "data": {
      "text/plain": [
       "(33228, 4)"
      ]
     },
     "execution_count": 10,
     "metadata": {},
     "output_type": "execute_result"
    }
   ],
   "execution_count": 10
  },
  {
   "metadata": {
    "ExecuteTime": {
     "end_time": "2025-05-10T09:22:26.059591Z",
     "start_time": "2025-05-10T09:22:25.567593Z"
    }
   },
   "cell_type": "code",
   "source": [
    "x_img = np.stack(train_df['data'].values)\n",
    "y_img = train_df['label_encoded'].values\n",
    "\n",
    "x_img_test = np.stack(img_test_df['data'].values)\n",
    "y_img_test = img_test_df['label_encoded'].values\n",
    "\n",
    "del train_df, img_test_df\n",
    "\n",
    "x_img_train, x_img_val, y_img_train, y_img_val = train_test_split(x_img, y_img, test_size=0.3, random_state=100, shuffle=True, stratify=y_img)\n",
    "del x_img, y_img"
   ],
   "id": "40ca85ff676eaba0",
   "outputs": [],
   "execution_count": 11
  },
  {
   "metadata": {},
   "cell_type": "markdown",
   "source": [
    "# Modeling\n",
    "## Model Image"
   ],
   "id": "b3d42e28b911fbe9"
  },
  {
   "metadata": {
    "ExecuteTime": {
     "end_time": "2025-05-10T09:22:32.617997Z",
     "start_time": "2025-05-10T09:22:26.091593Z"
    }
   },
   "cell_type": "code",
   "source": [
    "base_model = tf.keras.applications.VGG19(\n",
    "    weights='imagenet',\n",
    "    include_top=False,\n",
    "    input_tensor=tf.keras.layers.Input(shape=(100, 100, 3)),\n",
    ")\n",
    "\n",
    "for layer in base_model.layers:\n",
    "    layer.trainable = False"
   ],
   "id": "a38969480decd6a6",
   "outputs": [
    {
     "name": "stdout",
     "output_type": "stream",
     "text": [
      "Downloading data from https://storage.googleapis.com/tensorflow/keras-applications/vgg19/vgg19_weights_tf_dim_ordering_tf_kernels_notop.h5\n",
      "80134624/80134624 [==============================] - 5s 0us/step\n"
     ]
    }
   ],
   "execution_count": 12
  },
  {
   "metadata": {
    "ExecuteTime": {
     "end_time": "2025-05-10T09:22:32.760997Z",
     "start_time": "2025-05-10T09:22:32.651997Z"
    }
   },
   "cell_type": "code",
   "source": [
    "model = tf.keras.Sequential([\n",
    "    base_model,\n",
    "    tf.keras.layers.GlobalAveragePooling2D(),\n",
    "    tf.keras.layers.Dense(512, activation='relu'),\n",
    "    tf.keras.layers.Dense(7, activation='softmax'),\n",
    "])\n",
    "\n",
    "model.compile(\n",
    "    optimizer=tf.keras.optimizers.Adam(),\n",
    "    loss=tf.keras.losses.SparseCategoricalCrossentropy(),\n",
    "    metrics=['accuracy'],\n",
    ")"
   ],
   "id": "a34252231df934ad",
   "outputs": [],
   "execution_count": 13
  },
  {
   "metadata": {
    "ExecuteTime": {
     "end_time": "2025-05-10T09:22:33.505995Z",
     "start_time": "2025-05-10T09:22:32.793996Z"
    }
   },
   "cell_type": "code",
   "source": "plot_model(model, show_shapes=True)",
   "id": "ec227e73a0eef37",
   "outputs": [],
   "execution_count": 14
  },
  {
   "metadata": {
    "ExecuteTime": {
     "end_time": "2025-05-10T09:22:33.553996Z",
     "start_time": "2025-05-10T09:22:33.538996Z"
    }
   },
   "cell_type": "code",
   "source": [
    "early = tf.keras.callbacks.EarlyStopping(\n",
    "    monitor='val_loss',\n",
    "    restore_best_weights=True,\n",
    "    mode='min',\n",
    "    # start_from_epoch=2,\n",
    "    patience=5\n",
    ")\n",
    "\n",
    "checkpoint = tf.keras.callbacks.ModelCheckpoint(\n",
    "    filepath=os.path.join('model', 'best_model.keras'),\n",
    "    verbose=2,\n",
    "    save_best_only=True,\n",
    "    monitor='val_loss',\n",
    "    mode='min'\n",
    ")\n",
    "\n",
    "lr_scheduler = tf.keras.callbacks.ReduceLROnPlateau(monitor='val_loss',\n",
    "                                                    factor=0.2,\n",
    "                                                    min_lr=1e-6,\n",
    "                                                    patience=3,\n",
    "                                                    mode='min'\n",
    "                                                    )"
   ],
   "id": "11692b91042ecc9b",
   "outputs": [],
   "execution_count": 15
  },
  {
   "metadata": {
    "ExecuteTime": {
     "end_time": "2025-05-10T09:49:15.718972Z",
     "start_time": "2025-05-10T09:22:33.586996Z"
    }
   },
   "cell_type": "code",
   "source": [
    "history = model.fit(\n",
    "    x_img_train,\n",
    "    y_img_train,\n",
    "    validation_data=(x_img_val, y_img_val),\n",
    "    # callbacks=[early, checkpoint, lr_scheduler],\n",
    "    epochs=50,\n",
    "    verbose=2,\n",
    "    batch_size=64,\n",
    "    steps_per_epoch=len(x_img_train) // 64,\n",
    "    validation_steps=len(x_img_val) // 64,\n",
    ")\n"
   ],
   "id": "1a53f4cefc3629d1",
   "outputs": [
    {
     "name": "stdout",
     "output_type": "stream",
     "text": [
      "Epoch 1/50\n",
      "363/363 - 74s - loss: 2.4003 - accuracy: 0.1466 - val_loss: 1.9417 - val_accuracy: 0.1754 - 74s/epoch - 205ms/step\n",
      "Epoch 2/50\n",
      "363/363 - 68s - loss: 1.9441 - accuracy: 0.1485 - val_loss: 1.9355 - val_accuracy: 0.1558 - 68s/epoch - 186ms/step\n",
      "Epoch 3/50\n",
      "363/363 - 65s - loss: 1.9311 - accuracy: 0.1769 - val_loss: 1.9266 - val_accuracy: 0.1816 - 65s/epoch - 180ms/step\n",
      "Epoch 4/50\n",
      "363/363 - 65s - loss: 1.9407 - accuracy: 0.1539 - val_loss: 1.9455 - val_accuracy: 0.1495 - 65s/epoch - 180ms/step\n",
      "Epoch 5/50\n",
      "363/363 - 65s - loss: 1.9458 - accuracy: 0.1455 - val_loss: 1.9457 - val_accuracy: 0.1495 - 65s/epoch - 178ms/step\n",
      "Epoch 6/50\n",
      "363/363 - 64s - loss: 1.9459 - accuracy: 0.1486 - val_loss: 1.9457 - val_accuracy: 0.1495 - 64s/epoch - 177ms/step\n",
      "Epoch 7/50\n",
      "363/363 - 64s - loss: 1.9459 - accuracy: 0.1475 - val_loss: 1.9456 - val_accuracy: 0.1495 - 64s/epoch - 178ms/step\n",
      "Epoch 8/50\n",
      "363/363 - 65s - loss: 1.9457 - accuracy: 0.1503 - val_loss: 1.9457 - val_accuracy: 0.1495 - 65s/epoch - 179ms/step\n",
      "Epoch 9/50\n",
      "363/363 - 64s - loss: 1.9459 - accuracy: 0.1463 - val_loss: 1.9457 - val_accuracy: 0.1495 - 64s/epoch - 177ms/step\n",
      "Epoch 10/50\n",
      "363/363 - 64s - loss: 1.9459 - accuracy: 0.1427 - val_loss: 1.9457 - val_accuracy: 0.1439 - 64s/epoch - 177ms/step\n",
      "Epoch 11/50\n",
      "363/363 - 64s - loss: 1.9458 - accuracy: 0.1474 - val_loss: 1.9456 - val_accuracy: 0.1495 - 64s/epoch - 177ms/step\n",
      "Epoch 12/50\n",
      "363/363 - 64s - loss: 1.9459 - accuracy: 0.1475 - val_loss: 1.9456 - val_accuracy: 0.1495 - 64s/epoch - 177ms/step\n",
      "Epoch 13/50\n",
      "363/363 - 64s - loss: 1.9458 - accuracy: 0.1493 - val_loss: 1.9456 - val_accuracy: 0.1495 - 64s/epoch - 177ms/step\n",
      "Epoch 14/50\n",
      "363/363 - 64s - loss: 1.9459 - accuracy: 0.1457 - val_loss: 1.9457 - val_accuracy: 0.1495 - 64s/epoch - 177ms/step\n",
      "Epoch 15/50\n",
      "363/363 - 64s - loss: 1.9458 - accuracy: 0.1458 - val_loss: 1.9457 - val_accuracy: 0.1453 - 64s/epoch - 177ms/step\n",
      "Epoch 16/50\n",
      "363/363 - 64s - loss: 1.9458 - accuracy: 0.1484 - val_loss: 1.9456 - val_accuracy: 0.1495 - 64s/epoch - 177ms/step\n",
      "Epoch 17/50\n",
      "363/363 - 65s - loss: 1.9458 - accuracy: 0.1459 - val_loss: 1.9456 - val_accuracy: 0.1495 - 65s/epoch - 178ms/step\n",
      "Epoch 18/50\n",
      "363/363 - 64s - loss: 1.9458 - accuracy: 0.1498 - val_loss: 1.9458 - val_accuracy: 0.1495 - 64s/epoch - 178ms/step\n",
      "Epoch 19/50\n",
      "363/363 - 64s - loss: 1.9458 - accuracy: 0.1472 - val_loss: 1.9456 - val_accuracy: 0.1453 - 64s/epoch - 177ms/step\n",
      "Epoch 20/50\n",
      "363/363 - 64s - loss: 1.9460 - accuracy: 0.1474 - val_loss: 1.9456 - val_accuracy: 0.1495 - 64s/epoch - 178ms/step\n",
      "Epoch 21/50\n",
      "363/363 - 64s - loss: 1.9457 - accuracy: 0.1493 - val_loss: 1.9457 - val_accuracy: 0.1495 - 64s/epoch - 178ms/step\n",
      "Epoch 22/50\n",
      "363/363 - 65s - loss: 1.9459 - accuracy: 0.1493 - val_loss: 1.9456 - val_accuracy: 0.1495 - 65s/epoch - 178ms/step\n",
      "Epoch 23/50\n",
      "363/363 - 64s - loss: 1.9458 - accuracy: 0.1478 - val_loss: 1.9456 - val_accuracy: 0.1495 - 64s/epoch - 177ms/step\n",
      "Epoch 24/50\n",
      "363/363 - 64s - loss: 1.9458 - accuracy: 0.1502 - val_loss: 1.9456 - val_accuracy: 0.1495 - 64s/epoch - 178ms/step\n",
      "Epoch 25/50\n"
     ]
    },
    {
     "ename": "KeyboardInterrupt",
     "evalue": "",
     "output_type": "error",
     "traceback": [
      "\u001B[1;31m---------------------------------------------------------------------------\u001B[0m",
      "\u001B[1;31mKeyboardInterrupt\u001B[0m                         Traceback (most recent call last)",
      "Cell \u001B[1;32mIn[16], line 1\u001B[0m\n\u001B[1;32m----> 1\u001B[0m history \u001B[38;5;241m=\u001B[39m \u001B[43mmodel\u001B[49m\u001B[38;5;241;43m.\u001B[39;49m\u001B[43mfit\u001B[49m\u001B[43m(\u001B[49m\n\u001B[0;32m      2\u001B[0m \u001B[43m    \u001B[49m\u001B[43mx_img_train\u001B[49m\u001B[43m,\u001B[49m\n\u001B[0;32m      3\u001B[0m \u001B[43m    \u001B[49m\u001B[43my_img_train\u001B[49m\u001B[43m,\u001B[49m\n\u001B[0;32m      4\u001B[0m \u001B[43m    \u001B[49m\u001B[43mvalidation_data\u001B[49m\u001B[38;5;241;43m=\u001B[39;49m\u001B[43m(\u001B[49m\u001B[43mx_img_val\u001B[49m\u001B[43m,\u001B[49m\u001B[43m \u001B[49m\u001B[43my_img_val\u001B[49m\u001B[43m)\u001B[49m\u001B[43m,\u001B[49m\n\u001B[0;32m      5\u001B[0m \u001B[43m    \u001B[49m\u001B[38;5;66;43;03m# callbacks=[early, checkpoint, lr_scheduler],\u001B[39;49;00m\n\u001B[0;32m      6\u001B[0m \u001B[43m    \u001B[49m\u001B[43mepochs\u001B[49m\u001B[38;5;241;43m=\u001B[39;49m\u001B[38;5;241;43m50\u001B[39;49m\u001B[43m,\u001B[49m\n\u001B[0;32m      7\u001B[0m \u001B[43m    \u001B[49m\u001B[43mverbose\u001B[49m\u001B[38;5;241;43m=\u001B[39;49m\u001B[38;5;241;43m2\u001B[39;49m\u001B[43m,\u001B[49m\n\u001B[0;32m      8\u001B[0m \u001B[43m    \u001B[49m\u001B[43mbatch_size\u001B[49m\u001B[38;5;241;43m=\u001B[39;49m\u001B[38;5;241;43m64\u001B[39;49m\u001B[43m,\u001B[49m\n\u001B[0;32m      9\u001B[0m \u001B[43m    \u001B[49m\u001B[43msteps_per_epoch\u001B[49m\u001B[38;5;241;43m=\u001B[39;49m\u001B[38;5;28;43mlen\u001B[39;49m\u001B[43m(\u001B[49m\u001B[43mx_img_train\u001B[49m\u001B[43m)\u001B[49m\u001B[43m \u001B[49m\u001B[38;5;241;43m/\u001B[39;49m\u001B[38;5;241;43m/\u001B[39;49m\u001B[43m \u001B[49m\u001B[38;5;241;43m64\u001B[39;49m\u001B[43m,\u001B[49m\n\u001B[0;32m     10\u001B[0m \u001B[43m    \u001B[49m\u001B[43mvalidation_steps\u001B[49m\u001B[38;5;241;43m=\u001B[39;49m\u001B[38;5;28;43mlen\u001B[39;49m\u001B[43m(\u001B[49m\u001B[43mx_img_val\u001B[49m\u001B[43m)\u001B[49m\u001B[43m \u001B[49m\u001B[38;5;241;43m/\u001B[39;49m\u001B[38;5;241;43m/\u001B[39;49m\u001B[43m \u001B[49m\u001B[38;5;241;43m64\u001B[39;49m\u001B[43m,\u001B[49m\n\u001B[0;32m     11\u001B[0m \u001B[43m)\u001B[49m\n",
      "File \u001B[1;32mC:\\ProgramData\\miniconda3\\envs\\tf\\lib\\site-packages\\keras\\utils\\traceback_utils.py:65\u001B[0m, in \u001B[0;36mfilter_traceback.<locals>.error_handler\u001B[1;34m(*args, **kwargs)\u001B[0m\n\u001B[0;32m     63\u001B[0m filtered_tb \u001B[38;5;241m=\u001B[39m \u001B[38;5;28;01mNone\u001B[39;00m\n\u001B[0;32m     64\u001B[0m \u001B[38;5;28;01mtry\u001B[39;00m:\n\u001B[1;32m---> 65\u001B[0m     \u001B[38;5;28;01mreturn\u001B[39;00m fn(\u001B[38;5;241m*\u001B[39margs, \u001B[38;5;241m*\u001B[39m\u001B[38;5;241m*\u001B[39mkwargs)\n\u001B[0;32m     66\u001B[0m \u001B[38;5;28;01mexcept\u001B[39;00m \u001B[38;5;167;01mException\u001B[39;00m \u001B[38;5;28;01mas\u001B[39;00m e:\n\u001B[0;32m     67\u001B[0m     filtered_tb \u001B[38;5;241m=\u001B[39m _process_traceback_frames(e\u001B[38;5;241m.\u001B[39m__traceback__)\n",
      "File \u001B[1;32mC:\\ProgramData\\miniconda3\\envs\\tf\\lib\\site-packages\\keras\\engine\\training.py:1555\u001B[0m, in \u001B[0;36mModel.fit\u001B[1;34m(self, x, y, batch_size, epochs, verbose, callbacks, validation_split, validation_data, shuffle, class_weight, sample_weight, initial_epoch, steps_per_epoch, validation_steps, validation_batch_size, validation_freq, max_queue_size, workers, use_multiprocessing)\u001B[0m\n\u001B[0;32m   1551\u001B[0m \u001B[38;5;28;01mwith\u001B[39;00m data_handler\u001B[38;5;241m.\u001B[39mcatch_stop_iteration():\n\u001B[0;32m   1552\u001B[0m     data_handler\u001B[38;5;241m.\u001B[39m_initial_step \u001B[38;5;241m=\u001B[39m data_handler\u001B[38;5;241m.\u001B[39m_initial_step \u001B[38;5;129;01mor\u001B[39;00m (\n\u001B[0;32m   1553\u001B[0m         \u001B[38;5;28mself\u001B[39m\u001B[38;5;241m.\u001B[39m_maybe_load_initial_step_from_ckpt()\n\u001B[0;32m   1554\u001B[0m     )\n\u001B[1;32m-> 1555\u001B[0m     \u001B[38;5;28;01mfor\u001B[39;00m step \u001B[38;5;129;01min\u001B[39;00m data_handler\u001B[38;5;241m.\u001B[39msteps():\n\u001B[0;32m   1556\u001B[0m         \u001B[38;5;28;01mwith\u001B[39;00m tf\u001B[38;5;241m.\u001B[39mprofiler\u001B[38;5;241m.\u001B[39mexperimental\u001B[38;5;241m.\u001B[39mTrace(\n\u001B[0;32m   1557\u001B[0m             \u001B[38;5;124m\"\u001B[39m\u001B[38;5;124mtrain\u001B[39m\u001B[38;5;124m\"\u001B[39m,\n\u001B[0;32m   1558\u001B[0m             epoch_num\u001B[38;5;241m=\u001B[39mepoch,\n\u001B[1;32m   (...)\u001B[0m\n\u001B[0;32m   1561\u001B[0m             _r\u001B[38;5;241m=\u001B[39m\u001B[38;5;241m1\u001B[39m,\n\u001B[0;32m   1562\u001B[0m         ):\n\u001B[0;32m   1563\u001B[0m             callbacks\u001B[38;5;241m.\u001B[39mon_train_batch_begin(step)\n",
      "File \u001B[1;32mC:\\ProgramData\\miniconda3\\envs\\tf\\lib\\site-packages\\keras\\engine\\data_adapter.py:1374\u001B[0m, in \u001B[0;36mDataHandler.steps\u001B[1;34m(self)\u001B[0m\n\u001B[0;32m   1372\u001B[0m \u001B[38;5;28;01mif\u001B[39;00m \u001B[38;5;28mself\u001B[39m\u001B[38;5;241m.\u001B[39m_insufficient_data:  \u001B[38;5;66;03m# Set by `catch_stop_iteration`.\u001B[39;00m\n\u001B[0;32m   1373\u001B[0m     \u001B[38;5;28;01mbreak\u001B[39;00m\n\u001B[1;32m-> 1374\u001B[0m original_spe \u001B[38;5;241m=\u001B[39m \u001B[38;5;28;43mself\u001B[39;49m\u001B[38;5;241;43m.\u001B[39;49m\u001B[43m_steps_per_execution\u001B[49m\u001B[38;5;241;43m.\u001B[39;49m\u001B[43mnumpy\u001B[49m\u001B[43m(\u001B[49m\u001B[43m)\u001B[49m\u001B[38;5;241m.\u001B[39mitem()\n\u001B[0;32m   1375\u001B[0m can_run_full_execution \u001B[38;5;241m=\u001B[39m (\n\u001B[0;32m   1376\u001B[0m     original_spe \u001B[38;5;241m==\u001B[39m \u001B[38;5;241m1\u001B[39m\n\u001B[0;32m   1377\u001B[0m     \u001B[38;5;129;01mor\u001B[39;00m \u001B[38;5;28mself\u001B[39m\u001B[38;5;241m.\u001B[39m_inferred_steps \u001B[38;5;129;01mis\u001B[39;00m \u001B[38;5;28;01mNone\u001B[39;00m\n\u001B[0;32m   1378\u001B[0m     \u001B[38;5;129;01mor\u001B[39;00m \u001B[38;5;28mself\u001B[39m\u001B[38;5;241m.\u001B[39m_inferred_steps \u001B[38;5;241m-\u001B[39m \u001B[38;5;28mself\u001B[39m\u001B[38;5;241m.\u001B[39m_current_step \u001B[38;5;241m>\u001B[39m\u001B[38;5;241m=\u001B[39m original_spe\n\u001B[0;32m   1379\u001B[0m )\n\u001B[0;32m   1381\u001B[0m \u001B[38;5;28;01mif\u001B[39;00m can_run_full_execution:\n",
      "File \u001B[1;32mC:\\ProgramData\\miniconda3\\envs\\tf\\lib\\site-packages\\tensorflow\\python\\ops\\resource_variable_ops.py:637\u001B[0m, in \u001B[0;36mBaseResourceVariable.numpy\u001B[1;34m(self)\u001B[0m\n\u001B[0;32m    635\u001B[0m \u001B[38;5;28;01mdef\u001B[39;00m\u001B[38;5;250m \u001B[39m\u001B[38;5;21mnumpy\u001B[39m(\u001B[38;5;28mself\u001B[39m):\n\u001B[0;32m    636\u001B[0m   \u001B[38;5;28;01mif\u001B[39;00m context\u001B[38;5;241m.\u001B[39mexecuting_eagerly():\n\u001B[1;32m--> 637\u001B[0m     \u001B[38;5;28;01mreturn\u001B[39;00m \u001B[38;5;28;43mself\u001B[39;49m\u001B[38;5;241;43m.\u001B[39;49m\u001B[43mread_value\u001B[49m\u001B[43m(\u001B[49m\u001B[43m)\u001B[49m\u001B[38;5;241;43m.\u001B[39;49m\u001B[43mnumpy\u001B[49m\u001B[43m(\u001B[49m\u001B[43m)\u001B[49m\n\u001B[0;32m    638\u001B[0m   \u001B[38;5;28;01mraise\u001B[39;00m \u001B[38;5;167;01mNotImplementedError\u001B[39;00m(\n\u001B[0;32m    639\u001B[0m       \u001B[38;5;124m\"\u001B[39m\u001B[38;5;124mnumpy() is only available when eager execution is enabled.\u001B[39m\u001B[38;5;124m\"\u001B[39m)\n",
      "File \u001B[1;32mC:\\ProgramData\\miniconda3\\envs\\tf\\lib\\site-packages\\tensorflow\\python\\framework\\ops.py:1157\u001B[0m, in \u001B[0;36m_EagerTensorBase.numpy\u001B[1;34m(self)\u001B[0m\n\u001B[0;32m   1134\u001B[0m \u001B[38;5;250m\u001B[39m\u001B[38;5;124;03m\"\"\"Copy of the contents of this Tensor into a NumPy array or scalar.\u001B[39;00m\n\u001B[0;32m   1135\u001B[0m \n\u001B[0;32m   1136\u001B[0m \u001B[38;5;124;03mUnlike NumPy arrays, Tensors are immutable, so this method has to copy\u001B[39;00m\n\u001B[1;32m   (...)\u001B[0m\n\u001B[0;32m   1154\u001B[0m \u001B[38;5;124;03m    NumPy dtype.\u001B[39;00m\n\u001B[0;32m   1155\u001B[0m \u001B[38;5;124;03m\"\"\"\u001B[39;00m\n\u001B[0;32m   1156\u001B[0m \u001B[38;5;66;03m# TODO(slebedev): Consider avoiding a copy for non-CPU or remote tensors.\u001B[39;00m\n\u001B[1;32m-> 1157\u001B[0m maybe_arr \u001B[38;5;241m=\u001B[39m \u001B[38;5;28;43mself\u001B[39;49m\u001B[38;5;241;43m.\u001B[39;49m\u001B[43m_numpy\u001B[49m\u001B[43m(\u001B[49m\u001B[43m)\u001B[49m  \u001B[38;5;66;03m# pylint: disable=protected-access\u001B[39;00m\n\u001B[0;32m   1158\u001B[0m \u001B[38;5;28;01mreturn\u001B[39;00m maybe_arr\u001B[38;5;241m.\u001B[39mcopy() \u001B[38;5;28;01mif\u001B[39;00m \u001B[38;5;28misinstance\u001B[39m(maybe_arr, np\u001B[38;5;241m.\u001B[39mndarray) \u001B[38;5;28;01melse\u001B[39;00m maybe_arr\n",
      "File \u001B[1;32mC:\\ProgramData\\miniconda3\\envs\\tf\\lib\\site-packages\\tensorflow\\python\\framework\\ops.py:1123\u001B[0m, in \u001B[0;36m_EagerTensorBase._numpy\u001B[1;34m(self)\u001B[0m\n\u001B[0;32m   1121\u001B[0m \u001B[38;5;28;01mdef\u001B[39;00m\u001B[38;5;250m \u001B[39m\u001B[38;5;21m_numpy\u001B[39m(\u001B[38;5;28mself\u001B[39m):\n\u001B[0;32m   1122\u001B[0m   \u001B[38;5;28;01mtry\u001B[39;00m:\n\u001B[1;32m-> 1123\u001B[0m     \u001B[38;5;28;01mreturn\u001B[39;00m \u001B[38;5;28;43mself\u001B[39;49m\u001B[38;5;241;43m.\u001B[39;49m\u001B[43m_numpy_internal\u001B[49m\u001B[43m(\u001B[49m\u001B[43m)\u001B[49m\n\u001B[0;32m   1124\u001B[0m   \u001B[38;5;28;01mexcept\u001B[39;00m core\u001B[38;5;241m.\u001B[39m_NotOkStatusException \u001B[38;5;28;01mas\u001B[39;00m e:  \u001B[38;5;66;03m# pylint: disable=protected-access\u001B[39;00m\n\u001B[0;32m   1125\u001B[0m     \u001B[38;5;28;01mraise\u001B[39;00m core\u001B[38;5;241m.\u001B[39m_status_to_exception(e) \u001B[38;5;28;01mfrom\u001B[39;00m\u001B[38;5;250m \u001B[39m\u001B[38;5;28;01mNone\u001B[39;00m\n",
      "\u001B[1;31mKeyboardInterrupt\u001B[0m: "
     ]
    }
   ],
   "execution_count": 16
  },
  {
   "metadata": {},
   "cell_type": "markdown",
   "source": [
    "# Evaluate Model\n",
    "## Using the model.evaluate\n",
    "### using test set"
   ],
   "id": "3fb45f73c4c4a6e"
  },
  {
   "metadata": {
    "ExecuteTime": {
     "end_time": "2025-05-10T09:49:15.783972900Z",
     "start_time": "2025-05-10T09:08:57.380105Z"
    }
   },
   "cell_type": "code",
   "source": "print(model.evaluate(x_img_test, y_img_test, batch_size=BATCH_SIZE, steps=len(x_img_test) // BATCH_SIZE))",
   "id": "b5a3f97562c807f2",
   "outputs": [
    {
     "name": "stdout",
     "output_type": "stream",
     "text": [
      "228/228 [==============================] - 3s 12ms/step - loss: 3.0614 - accuracy: 0.5916\n",
      "[3.06137752532959, 0.5915570259094238]\n"
     ]
    }
   ],
   "execution_count": 17
  },
  {
   "metadata": {},
   "cell_type": "markdown",
   "source": "### Using validation set",
   "id": "2295aa8d2779cc45"
  },
  {
   "metadata": {
    "ExecuteTime": {
     "end_time": "2025-05-10T09:49:15.804973300Z",
     "start_time": "2025-05-10T09:09:00.280352Z"
    }
   },
   "cell_type": "code",
   "source": "print(model.evaluate(x_img_val, y_img_val, batch_size=BATCH_SIZE, steps=len(x_img_val) // BATCH_SIZE))",
   "id": "4a7d091b99a7d597",
   "outputs": [
    {
     "name": "stdout",
     "output_type": "stream",
     "text": [
      "311/311 [==============================] - 4s 12ms/step - loss: 2.7322 - accuracy: 0.6297\n",
      "[2.73222279548645, 0.6297226548194885]\n"
     ]
    }
   ],
   "execution_count": 18
  },
  {
   "metadata": {
    "ExecuteTime": {
     "end_time": "2025-05-10T09:49:15.806973100Z",
     "start_time": "2025-05-10T09:09:04.034989Z"
    }
   },
   "cell_type": "code",
   "source": [
    "def plot_and_save(metric_name, history, ylabel, filename):\n",
    "    plt.figure()\n",
    "    plt.plot(history.history[metric_name], label=f'Train {ylabel}')\n",
    "    if f'val_{metric_name}' in history.history:\n",
    "        plt.plot(history.history[f'val_{metric_name}'], label=f'Val {ylabel}')\n",
    "    plt.title(f'{ylabel} over Epochs')\n",
    "    plt.xlabel('Epochs')\n",
    "    plt.ylabel(ylabel)\n",
    "    plt.legend()\n",
    "    plt.grid(True)\n",
    "    plt.savefig(filename)\n",
    "    plt.close()"
   ],
   "id": "c199f1606d7de37e",
   "outputs": [],
   "execution_count": 19
  },
  {
   "metadata": {
    "ExecuteTime": {
     "end_time": "2025-05-10T09:49:15.808974800Z",
     "start_time": "2025-05-10T09:09:04.080911Z"
    }
   },
   "cell_type": "code",
   "source": [
    "plot_and_save('loss', history, 'Loss', 'loss_plot.png')\n",
    "plot_and_save('accuracy', history, 'Image Classification Accuracy', 'image_class_accuracy_plot.png')"
   ],
   "id": "71e9eec9b69779d1",
   "outputs": [],
   "execution_count": 20
  },
  {
   "metadata": {
    "ExecuteTime": {
     "end_time": "2025-05-10T09:49:15.809972600Z",
     "start_time": "2025-05-10T09:09:04.299861Z"
    }
   },
   "cell_type": "code",
   "source": [
    "predictions = model.predict(x_img_test)\n",
    "predictions = np.argmax(predictions, axis=1)"
   ],
   "id": "927152f09eb27b96",
   "outputs": [
    {
     "name": "stdout",
     "output_type": "stream",
     "text": [
      "229/229 [==============================] - 3s 11ms/step\n"
     ]
    }
   ],
   "execution_count": 21
  },
  {
   "metadata": {
    "ExecuteTime": {
     "end_time": "2025-05-10T09:49:15.816974200Z",
     "start_time": "2025-05-10T09:09:07.219215Z"
    }
   },
   "cell_type": "code",
   "source": [
    "classes = [x for x in os.listdir(TRAIN_IMAGE_PATH)]\n",
    "print(classes)"
   ],
   "id": "f6f12ae8d6fb1ff1",
   "outputs": [
    {
     "name": "stdout",
     "output_type": "stream",
     "text": [
      "['angry', 'disgust', 'fear', 'happy', 'neutral', 'sad', 'surprise']\n"
     ]
    }
   ],
   "execution_count": 22
  },
  {
   "metadata": {
    "ExecuteTime": {
     "end_time": "2025-05-10T09:49:15.817974900Z",
     "start_time": "2025-05-10T09:09:07.250193Z"
    }
   },
   "cell_type": "code",
   "source": [
    "cm = confusion_matrix(y_img_test, predictions)\n",
    "\n",
    "plt.figure(figsize=(10, 8))  # Set the figure size if needed\n",
    "sns.heatmap(cm, annot=True, cmap='Blues', fmt='g')\n",
    "\n",
    "plt.title('Confusion Matrix ', pad=20, fontsize=20, fontweight=\"bold\")\n",
    "plt.ylabel('Actual')\n",
    "plt.xlabel('Predicted')\n",
    "\n",
    "# Set ticks for the x and y axes using class names\n",
    "plt.xticks(ticks=range(len(classes)), labels=classes, rotation=45)\n",
    "plt.yticks(ticks=range(len(classes)), labels=classes, rotation=0)\n",
    "plt.savefig('confusion_matrix.png', dpi=300, bbox_inches='tight')\n",
    "plt.show()"
   ],
   "id": "8f9a0727bc736f45",
   "outputs": [
    {
     "data": {
      "text/plain": [
       "<Figure size 1000x800 with 2 Axes>"
      ],
      "image/png": "[encoded data removed]"
     },
     "metadata": {},
     "output_type": "display_data"
    }
   ],
   "execution_count": 23
  },
  {
   "metadata": {
    "ExecuteTime": {
     "end_time": "2025-05-10T09:49:15.822976500Z",
     "start_time": "2025-05-10T09:09:07.628807Z"
    }
   },
   "cell_type": "code",
   "source": "print(classification_report(predictions, y_img_test))",
   "id": "5d358e1eac861571",
   "outputs": [
    {
     "name": "stdout",
     "output_type": "stream",
     "text": [
      "              precision    recall  f1-score   support\n",
      "\n",
      "           0       0.45      0.59      0.51       745\n",
      "           1       0.39      0.50      0.44       101\n",
      "           2       0.37      0.48      0.42       798\n",
      "           3       0.69      0.92      0.79      1341\n",
      "           4       0.68      0.47      0.56      1790\n",
      "           5       0.52      0.44      0.48      1483\n",
      "           6       0.82      0.66      0.73      1053\n",
      "\n",
      "    accuracy                           0.59      7311\n",
      "   macro avg       0.56      0.58      0.56      7311\n",
      "weighted avg       0.61      0.59      0.59      7311\n",
      "\n"
     ]
    }
   ],
   "execution_count": 24
  }
 ],
 "metadata": {
  "kernelspec": {
   "display_name": "Python 3",
   "language": "python",
   "name": "python3"
  },
  "language_info": {
   "codemirror_mode": {
    "name": "ipython",
    "version": 2
   },
   "file_extension": ".py",
   "mimetype": "text/x-python",
   "name": "python",
   "nbconvert_exporter": "python",
   "pygments_lexer": "ipython2",
   "version": "2.7.6"
  }
 },
 "nbformat": 4,
 "nbformat_minor": 5
}
