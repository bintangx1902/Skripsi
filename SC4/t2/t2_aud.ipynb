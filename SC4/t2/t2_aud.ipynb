{
 "cells": [
  {
   "cell_type": "code",
   "id": "initial_id",
   "metadata": {
    "collapsed": true,
    "ExecuteTime": {
     "end_time": "2025-05-10T07:42:49.899687Z",
     "start_time": "2025-05-10T07:42:46.592135Z"
    }
   },
   "source": [
    "import tensorflow as tf\n",
    "import numpy as np\n",
    "import pandas as pd\n",
    "import seaborn as sns\n",
    "import os\n",
    "import gc\n",
    "\n",
    "from shared.utils import *\n",
    "from shared.local_path import *\n",
    "\n",
    "from matplotlib import pyplot as plt\n",
    "from sklearn.preprocessing import LabelEncoder\n",
    "from sklearn.model_selection import train_test_split\n",
    "from sklearn.metrics import confusion_matrix, classification_report"
   ],
   "outputs": [],
   "execution_count": 1
  },
  {
   "metadata": {},
   "cell_type": "markdown",
   "source": [
    "# Data Preprocessing\n",
    "## Audio Data"
   ],
   "id": "1bb851ac4139d0b7"
  },
  {
   "metadata": {
    "ExecuteTime": {
     "end_time": "2025-05-10T07:42:50.554757Z",
     "start_time": "2025-05-10T07:42:50.539757Z"
    }
   },
   "cell_type": "code",
   "source": [
    "label = []\n",
    "filepath = []\n",
    "\n",
    "for classes in os.listdir(AUDIO_PATH):\n",
    "    for file in os.listdir(os.path.join(AUDIO_PATH, classes)):\n",
    "        file_path = os.path.join(AUDIO_PATH, classes, file)\n",
    "\n",
    "        filepath.append(file_path)\n",
    "        label.append(classes)\n",
    "\n",
    "audio = pd.DataFrame({\n",
    "    'filepath': filepath,\n",
    "    'label': label,\n",
    "})\n",
    "\n",
    "del filepath, label\n",
    "\n",
    "audio.head()"
   ],
   "id": "40f1d84afe936100",
   "outputs": [],
   "execution_count": 2
  },
  {
   "metadata": {
    "ExecuteTime": {
     "end_time": "2025-05-10T07:42:50.586757Z",
     "start_time": "2025-05-10T07:42:50.571758Z"
    }
   },
   "cell_type": "code",
   "source": [
    "le = LabelEncoder()\n",
    "le.fit(audio['label'])\n",
    "audio['label_encoded'] = le.transform(audio['label'])\n",
    "num_classes = len(le.classes_)"
   ],
   "id": "da70704c453287dd",
   "outputs": [],
   "execution_count": 3
  },
  {
   "metadata": {
    "ExecuteTime": {
     "end_time": "2025-05-10T07:42:50.618053Z",
     "start_time": "2025-05-10T07:42:50.603120Z"
    }
   },
   "cell_type": "code",
   "source": [
    "with tf.device('/GPU:0'):\n",
    "    audio['data'] = audio.filepath.apply(preprocess_audio)\n",
    "    audio = audio.sample(frac=1).reset_index(drop=True)"
   ],
   "id": "527ce5b642666bf2",
   "outputs": [],
   "execution_count": 4
  },
  {
   "metadata": {
    "ExecuteTime": {
     "end_time": "2025-05-10T07:42:50.650066Z",
     "start_time": "2025-05-10T07:42:50.635061Z"
    }
   },
   "cell_type": "code",
   "source": [
    "x_audio = np.stack(audio['data'].values)\n",
    "y_audio = audio['label_encoded'].values\n",
    "print(x_audio.shape)\n",
    "del audio"
   ],
   "id": "68092b8e401656e7",
   "outputs": [],
   "execution_count": 5
  },
  {
   "metadata": {
    "ExecuteTime": {
     "end_time": "2025-05-10T07:42:50.681088Z",
     "start_time": "2025-05-10T07:42:50.666827Z"
    }
   },
   "cell_type": "code",
   "source": [
    "x_audio_train, x_temp, y_audio_train, y_temp = train_test_split(\n",
    "    x_audio, y_audio, test_size=0.3, random_state=100,\n",
    ")\n",
    "\n",
    "x_audio_val, x_audio_test, y_audio_val, y_audio_test = train_test_split(\n",
    "    x_temp, y_temp, test_size=0.5, random_state=222,\n",
    ")\n",
    "\n",
    "del x_audio, y_audio\n",
    "print(x_audio_train.shape)\n",
    "print(x_audio_train.shape[0] == len(y_audio_train))"
   ],
   "id": "f153f9e105be8284",
   "outputs": [],
   "execution_count": 6
  },
  {
   "metadata": {},
   "cell_type": "markdown",
   "source": [
    "# Modeling\n",
    "## Model Image"
   ],
   "id": "b3d42e28b911fbe9"
  },
  {
   "metadata": {
    "ExecuteTime": {
     "end_time": "2025-05-09T13:16:04.223306Z",
     "start_time": "2025-05-09T13:16:02.531535Z"
    }
   },
   "cell_type": "code",
   "source": [
    "base_model = tf.keras.applications.Xception(\n",
    "    weights='imagenet',\n",
    "    include_top=False,\n",
    "    input_tensor=tf.keras.layers.Input(shape=(100, 100, 3)),\n",
    ")"
   ],
   "id": "a38969480decd6a6",
   "outputs": [],
   "execution_count": 12
  },
  {
   "metadata": {
    "ExecuteTime": {
     "end_time": "2025-05-09T13:16:04.575306Z",
     "start_time": "2025-05-09T13:16:04.240307Z"
    }
   },
   "cell_type": "code",
   "source": [
    "model = tf.keras.Sequential([\n",
    "    base_model,\n",
    "    tf.keras.layers.GlobalAveragePooling2D(),\n",
    "    tf.keras.layers.Dense(512, activation='relu'),\n",
    "    tf.keras.layers.Dense(7, activation='softmax'),\n",
    "])\n",
    "\n",
    "model.compile(\n",
    "    optimizer=tf.keras.optimizers.Adam(),\n",
    "    loss=tf.keras.losses.SparseCategoricalCrossentropy(),\n",
    "    metrics=['accuracy'],\n",
    ")"
   ],
   "id": "a34252231df934ad",
   "outputs": [],
   "execution_count": 13
  },
  {
   "metadata": {
    "ExecuteTime": {
     "end_time": "2025-05-09T13:16:05.037687Z",
     "start_time": "2025-05-09T13:16:04.591952Z"
    }
   },
   "cell_type": "code",
   "source": "plot_model(model, show_shapes=True)",
   "id": "ec227e73a0eef37",
   "outputs": [],
   "execution_count": 14
  },
  {
   "metadata": {
    "ExecuteTime": {
     "end_time": "2025-05-09T13:16:05.068692Z",
     "start_time": "2025-05-09T13:16:05.054692Z"
    }
   },
   "cell_type": "code",
   "source": [
    "early = tf.keras.callbacks.EarlyStopping(\n",
    "    monitor='val_loss',\n",
    "    restore_best_weights=True,\n",
    "    mode='min',\n",
    "    # start_from_epoch=2,\n",
    "    patience=5\n",
    ")\n",
    "\n",
    "checkpoint = tf.keras.callbacks.ModelCheckpoint(\n",
    "    filepath=os.path.join('model', 'best_model.keras'),\n",
    "    verbose=2,\n",
    "    save_best_only=True,\n",
    "    monitor='val_loss',\n",
    "    mode='min'\n",
    ")\n",
    "\n",
    "lr_scheduler = tf.keras.callbacks.ReduceLROnPlateau(monitor='val_loss',\n",
    "                                                    factor=0.2,\n",
    "                                                    min_lr=1e-6,\n",
    "                                                    patience=3,\n",
    "                                                    mode='min'\n",
    "                                                    )"
   ],
   "id": "11692b91042ecc9b",
   "outputs": [],
   "execution_count": 15
  },
  {
   "metadata": {
    "ExecuteTime": {
     "end_time": "2025-05-09T13:48:39.912550Z",
     "start_time": "2025-05-09T13:16:05.085691Z"
    }
   },
   "cell_type": "code",
   "source": [
    "history = model.fit(\n",
    "    x_audio_train,\n",
    "    y_audio_train,\n",
    "    validation_data=(x_audio_val, y_audio_val),\n",
    "    # callbacks=[early, checkpoint, lr_scheduler],\n",
    "    epochs=100,\n",
    "    verbose=2,\n",
    "    batch_size=128,\n",
    "    steps_per_epoch=len(x_audio_train) // 128,\n",
    "    validation_steps=len(x_audio_val) // 128,\n",
    ")\n"
   ],
   "id": "1a53f4cefc3629d1",
   "outputs": [
    {
     "name": "stdout",
     "output_type": "stream",
     "text": [
      "Epoch 1/100\n",
      "181/181 - 28s - loss: 1.7409 - accuracy: 0.3073 - val_loss: 1.5480 - val_accuracy: 0.4093 - 28s/epoch - 156ms/step\n",
      "Epoch 2/100\n",
      "181/181 - 20s - loss: 1.2731 - accuracy: 0.5170 - val_loss: 1.2636 - val_accuracy: 0.5170 - 20s/epoch - 113ms/step\n",
      "Epoch 3/100\n",
      "181/181 - 20s - loss: 0.9079 - accuracy: 0.6662 - val_loss: 1.2722 - val_accuracy: 0.5319 - 20s/epoch - 108ms/step\n",
      "Epoch 4/100\n",
      "181/181 - 19s - loss: 0.5809 - accuracy: 0.7973 - val_loss: 1.4549 - val_accuracy: 0.5416 - 19s/epoch - 107ms/step\n",
      "Epoch 5/100\n",
      "181/181 - 19s - loss: 0.3512 - accuracy: 0.8811 - val_loss: 1.5776 - val_accuracy: 0.5450 - 19s/epoch - 107ms/step\n",
      "Epoch 6/100\n",
      "181/181 - 19s - loss: 0.2312 - accuracy: 0.9220 - val_loss: 1.7728 - val_accuracy: 0.5543 - 19s/epoch - 107ms/step\n",
      "Epoch 7/100\n",
      "181/181 - 19s - loss: 0.1810 - accuracy: 0.9387 - val_loss: 1.8882 - val_accuracy: 0.5430 - 19s/epoch - 107ms/step\n",
      "Epoch 8/100\n",
      "181/181 - 19s - loss: 0.1537 - accuracy: 0.9488 - val_loss: 2.0100 - val_accuracy: 0.5577 - 19s/epoch - 107ms/step\n",
      "Epoch 9/100\n",
      "181/181 - 19s - loss: 0.1227 - accuracy: 0.9585 - val_loss: 2.0949 - val_accuracy: 0.5591 - 19s/epoch - 107ms/step\n",
      "Epoch 10/100\n",
      "181/181 - 19s - loss: 0.1094 - accuracy: 0.9632 - val_loss: 2.2014 - val_accuracy: 0.5565 - 19s/epoch - 107ms/step\n",
      "Epoch 11/100\n",
      "181/181 - 19s - loss: 0.1071 - accuracy: 0.9636 - val_loss: 2.2359 - val_accuracy: 0.5635 - 19s/epoch - 107ms/step\n",
      "Epoch 12/100\n",
      "181/181 - 19s - loss: 0.1063 - accuracy: 0.9647 - val_loss: 2.2886 - val_accuracy: 0.5648 - 19s/epoch - 107ms/step\n",
      "Epoch 13/100\n",
      "181/181 - 20s - loss: 0.0988 - accuracy: 0.9663 - val_loss: 2.2401 - val_accuracy: 0.5508 - 20s/epoch - 109ms/step\n",
      "Epoch 14/100\n",
      "181/181 - 20s - loss: 0.1030 - accuracy: 0.9649 - val_loss: 2.2829 - val_accuracy: 0.5630 - 20s/epoch - 108ms/step\n",
      "Epoch 15/100\n",
      "181/181 - 20s - loss: 0.0999 - accuracy: 0.9666 - val_loss: 2.2185 - val_accuracy: 0.5683 - 20s/epoch - 108ms/step\n",
      "Epoch 16/100\n",
      "181/181 - 20s - loss: 0.0783 - accuracy: 0.9734 - val_loss: 2.3469 - val_accuracy: 0.5771 - 20s/epoch - 109ms/step\n",
      "Epoch 17/100\n",
      "181/181 - 20s - loss: 0.0730 - accuracy: 0.9756 - val_loss: 2.3858 - val_accuracy: 0.5767 - 20s/epoch - 109ms/step\n",
      "Epoch 18/100\n",
      "181/181 - 20s - loss: 0.0690 - accuracy: 0.9761 - val_loss: 2.3419 - val_accuracy: 0.5829 - 20s/epoch - 109ms/step\n",
      "Epoch 19/100\n",
      "181/181 - 20s - loss: 0.0688 - accuracy: 0.9768 - val_loss: 2.4119 - val_accuracy: 0.5788 - 20s/epoch - 108ms/step\n",
      "Epoch 20/100\n",
      "181/181 - 19s - loss: 0.0732 - accuracy: 0.9759 - val_loss: 2.4265 - val_accuracy: 0.5727 - 19s/epoch - 108ms/step\n",
      "Epoch 21/100\n",
      "181/181 - 19s - loss: 0.0706 - accuracy: 0.9762 - val_loss: 2.2976 - val_accuracy: 0.5823 - 19s/epoch - 107ms/step\n",
      "Epoch 22/100\n",
      "181/181 - 19s - loss: 0.0584 - accuracy: 0.9802 - val_loss: 2.5190 - val_accuracy: 0.5916 - 19s/epoch - 107ms/step\n",
      "Epoch 23/100\n",
      "181/181 - 19s - loss: 0.0636 - accuracy: 0.9789 - val_loss: 2.5432 - val_accuracy: 0.5734 - 19s/epoch - 107ms/step\n",
      "Epoch 24/100\n",
      "181/181 - 19s - loss: 0.0514 - accuracy: 0.9828 - val_loss: 2.4191 - val_accuracy: 0.5870 - 19s/epoch - 107ms/step\n",
      "Epoch 25/100\n",
      "181/181 - 19s - loss: 0.0657 - accuracy: 0.9781 - val_loss: 2.4250 - val_accuracy: 0.5836 - 19s/epoch - 107ms/step\n",
      "Epoch 26/100\n",
      "181/181 - 19s - loss: 0.0651 - accuracy: 0.9776 - val_loss: 2.4142 - val_accuracy: 0.5861 - 19s/epoch - 107ms/step\n",
      "Epoch 27/100\n",
      "181/181 - 19s - loss: 0.0529 - accuracy: 0.9822 - val_loss: 2.4532 - val_accuracy: 0.5898 - 19s/epoch - 107ms/step\n",
      "Epoch 28/100\n",
      "181/181 - 19s - loss: 0.0437 - accuracy: 0.9854 - val_loss: 2.5193 - val_accuracy: 0.5966 - 19s/epoch - 107ms/step\n",
      "Epoch 29/100\n",
      "181/181 - 19s - loss: 0.0502 - accuracy: 0.9829 - val_loss: 2.5144 - val_accuracy: 0.5894 - 19s/epoch - 107ms/step\n",
      "Epoch 30/100\n",
      "181/181 - 19s - loss: 0.0497 - accuracy: 0.9837 - val_loss: 2.5487 - val_accuracy: 0.5888 - 19s/epoch - 107ms/step\n",
      "Epoch 31/100\n",
      "181/181 - 19s - loss: 0.0611 - accuracy: 0.9793 - val_loss: 2.4671 - val_accuracy: 0.5833 - 19s/epoch - 107ms/step\n",
      "Epoch 32/100\n",
      "181/181 - 19s - loss: 0.0480 - accuracy: 0.9834 - val_loss: 2.4027 - val_accuracy: 0.5999 - 19s/epoch - 107ms/step\n",
      "Epoch 33/100\n",
      "181/181 - 19s - loss: 0.0414 - accuracy: 0.9861 - val_loss: 2.5335 - val_accuracy: 0.5919 - 19s/epoch - 108ms/step\n",
      "Epoch 34/100\n",
      "181/181 - 20s - loss: 0.0400 - accuracy: 0.9862 - val_loss: 2.5242 - val_accuracy: 0.5975 - 20s/epoch - 108ms/step\n",
      "Epoch 35/100\n",
      "181/181 - 19s - loss: 0.0399 - accuracy: 0.9860 - val_loss: 2.6018 - val_accuracy: 0.5979 - 19s/epoch - 107ms/step\n",
      "Epoch 36/100\n",
      "181/181 - 19s - loss: 0.0438 - accuracy: 0.9852 - val_loss: 2.5200 - val_accuracy: 0.5983 - 19s/epoch - 107ms/step\n",
      "Epoch 37/100\n",
      "181/181 - 19s - loss: 0.0430 - accuracy: 0.9856 - val_loss: 2.5778 - val_accuracy: 0.5944 - 19s/epoch - 108ms/step\n",
      "Epoch 38/100\n",
      "181/181 - 19s - loss: 0.0405 - accuracy: 0.9858 - val_loss: 2.5170 - val_accuracy: 0.5876 - 19s/epoch - 107ms/step\n",
      "Epoch 39/100\n",
      "181/181 - 19s - loss: 0.0383 - accuracy: 0.9867 - val_loss: 2.5554 - val_accuracy: 0.5957 - 19s/epoch - 107ms/step\n",
      "Epoch 40/100\n",
      "181/181 - 19s - loss: 0.0377 - accuracy: 0.9875 - val_loss: 2.5597 - val_accuracy: 0.5979 - 19s/epoch - 107ms/step\n",
      "Epoch 41/100\n",
      "181/181 - 19s - loss: 0.0363 - accuracy: 0.9871 - val_loss: 2.6204 - val_accuracy: 0.5842 - 19s/epoch - 107ms/step\n",
      "Epoch 42/100\n",
      "181/181 - 19s - loss: 0.0478 - accuracy: 0.9828 - val_loss: 2.5479 - val_accuracy: 0.6001 - 19s/epoch - 107ms/step\n",
      "Epoch 43/100\n",
      "181/181 - 19s - loss: 0.0402 - accuracy: 0.9866 - val_loss: 2.5268 - val_accuracy: 0.5940 - 19s/epoch - 107ms/step\n",
      "Epoch 44/100\n",
      "181/181 - 19s - loss: 0.0358 - accuracy: 0.9874 - val_loss: 2.4908 - val_accuracy: 0.5920 - 19s/epoch - 107ms/step\n",
      "Epoch 45/100\n",
      "181/181 - 20s - loss: 0.0325 - accuracy: 0.9888 - val_loss: 2.5621 - val_accuracy: 0.5948 - 20s/epoch - 108ms/step\n",
      "Epoch 46/100\n",
      "181/181 - 19s - loss: 0.0302 - accuracy: 0.9888 - val_loss: 2.6736 - val_accuracy: 0.5998 - 19s/epoch - 107ms/step\n",
      "Epoch 47/100\n",
      "181/181 - 20s - loss: 0.0395 - accuracy: 0.9865 - val_loss: 2.5562 - val_accuracy: 0.5982 - 20s/epoch - 108ms/step\n",
      "Epoch 48/100\n",
      "181/181 - 19s - loss: 0.0369 - accuracy: 0.9877 - val_loss: 2.6088 - val_accuracy: 0.5914 - 19s/epoch - 108ms/step\n",
      "Epoch 49/100\n",
      "181/181 - 19s - loss: 0.0379 - accuracy: 0.9867 - val_loss: 2.6218 - val_accuracy: 0.5981 - 19s/epoch - 107ms/step\n",
      "Epoch 50/100\n",
      "181/181 - 19s - loss: 0.0365 - accuracy: 0.9874 - val_loss: 2.5641 - val_accuracy: 0.5981 - 19s/epoch - 107ms/step\n",
      "Epoch 51/100\n",
      "181/181 - 19s - loss: 0.0366 - accuracy: 0.9878 - val_loss: 2.5712 - val_accuracy: 0.5960 - 19s/epoch - 107ms/step\n",
      "Epoch 52/100\n",
      "181/181 - 19s - loss: 0.0387 - accuracy: 0.9877 - val_loss: 2.5812 - val_accuracy: 0.6032 - 19s/epoch - 107ms/step\n",
      "Epoch 53/100\n",
      "181/181 - 19s - loss: 0.0292 - accuracy: 0.9892 - val_loss: 2.5653 - val_accuracy: 0.6102 - 19s/epoch - 108ms/step\n",
      "Epoch 54/100\n",
      "181/181 - 19s - loss: 0.0271 - accuracy: 0.9905 - val_loss: 2.6518 - val_accuracy: 0.6063 - 19s/epoch - 107ms/step\n",
      "Epoch 55/100\n",
      "181/181 - 19s - loss: 0.0317 - accuracy: 0.9892 - val_loss: 2.4893 - val_accuracy: 0.5969 - 19s/epoch - 107ms/step\n",
      "Epoch 56/100\n",
      "181/181 - 19s - loss: 0.0296 - accuracy: 0.9895 - val_loss: 2.5170 - val_accuracy: 0.6032 - 19s/epoch - 108ms/step\n",
      "Epoch 57/100\n",
      "181/181 - 20s - loss: 0.0264 - accuracy: 0.9918 - val_loss: 2.5771 - val_accuracy: 0.5979 - 20s/epoch - 109ms/step\n",
      "Epoch 58/100\n",
      "181/181 - 20s - loss: 0.0239 - accuracy: 0.9916 - val_loss: 2.6863 - val_accuracy: 0.6010 - 20s/epoch - 108ms/step\n",
      "Epoch 59/100\n",
      "181/181 - 19s - loss: 0.0223 - accuracy: 0.9921 - val_loss: 2.7032 - val_accuracy: 0.6048 - 19s/epoch - 107ms/step\n",
      "Epoch 60/100\n",
      "181/181 - 19s - loss: 0.0325 - accuracy: 0.9885 - val_loss: 2.7114 - val_accuracy: 0.6029 - 19s/epoch - 107ms/step\n",
      "Epoch 61/100\n",
      "181/181 - 19s - loss: 0.0387 - accuracy: 0.9861 - val_loss: 2.7180 - val_accuracy: 0.6074 - 19s/epoch - 107ms/step\n",
      "Epoch 62/100\n",
      "181/181 - 19s - loss: 0.0347 - accuracy: 0.9879 - val_loss: 2.5020 - val_accuracy: 0.6084 - 19s/epoch - 107ms/step\n",
      "Epoch 63/100\n",
      "181/181 - 19s - loss: 0.0215 - accuracy: 0.9925 - val_loss: 2.6094 - val_accuracy: 0.6096 - 19s/epoch - 107ms/step\n",
      "Epoch 64/100\n",
      "181/181 - 19s - loss: 0.0228 - accuracy: 0.9920 - val_loss: 2.6254 - val_accuracy: 0.6066 - 19s/epoch - 107ms/step\n",
      "Epoch 65/100\n",
      "181/181 - 19s - loss: 0.0284 - accuracy: 0.9898 - val_loss: 2.7442 - val_accuracy: 0.6049 - 19s/epoch - 107ms/step\n",
      "Epoch 66/100\n",
      "181/181 - 19s - loss: 0.0355 - accuracy: 0.9871 - val_loss: 2.5938 - val_accuracy: 0.6093 - 19s/epoch - 107ms/step\n",
      "Epoch 67/100\n",
      "181/181 - 19s - loss: 0.0337 - accuracy: 0.9889 - val_loss: 2.5837 - val_accuracy: 0.6010 - 19s/epoch - 107ms/step\n",
      "Epoch 68/100\n",
      "181/181 - 19s - loss: 0.0309 - accuracy: 0.9894 - val_loss: 2.6609 - val_accuracy: 0.6014 - 19s/epoch - 107ms/step\n",
      "Epoch 69/100\n",
      "181/181 - 19s - loss: 0.0265 - accuracy: 0.9915 - val_loss: 2.5337 - val_accuracy: 0.6132 - 19s/epoch - 107ms/step\n",
      "Epoch 70/100\n",
      "181/181 - 19s - loss: 0.0202 - accuracy: 0.9931 - val_loss: 2.6111 - val_accuracy: 0.6099 - 19s/epoch - 107ms/step\n",
      "Epoch 71/100\n",
      "181/181 - 19s - loss: 0.0162 - accuracy: 0.9943 - val_loss: 2.7093 - val_accuracy: 0.6099 - 19s/epoch - 107ms/step\n",
      "Epoch 72/100\n",
      "181/181 - 19s - loss: 0.0242 - accuracy: 0.9919 - val_loss: 2.7253 - val_accuracy: 0.6177 - 19s/epoch - 107ms/step\n",
      "Epoch 73/100\n",
      "181/181 - 19s - loss: 0.0193 - accuracy: 0.9923 - val_loss: 2.6308 - val_accuracy: 0.6143 - 19s/epoch - 108ms/step\n",
      "Epoch 74/100\n",
      "181/181 - 19s - loss: 0.0252 - accuracy: 0.9915 - val_loss: 2.6452 - val_accuracy: 0.6095 - 19s/epoch - 107ms/step\n",
      "Epoch 75/100\n",
      "181/181 - 19s - loss: 0.0289 - accuracy: 0.9900 - val_loss: 2.6934 - val_accuracy: 0.6030 - 19s/epoch - 107ms/step\n",
      "Epoch 76/100\n",
      "181/181 - 19s - loss: 0.0323 - accuracy: 0.9890 - val_loss: 2.6802 - val_accuracy: 0.6067 - 19s/epoch - 107ms/step\n",
      "Epoch 77/100\n",
      "181/181 - 19s - loss: 0.0308 - accuracy: 0.9901 - val_loss: 2.5863 - val_accuracy: 0.6109 - 19s/epoch - 108ms/step\n",
      "Epoch 78/100\n",
      "181/181 - 20s - loss: 0.0248 - accuracy: 0.9919 - val_loss: 2.5189 - val_accuracy: 0.6177 - 20s/epoch - 108ms/step\n",
      "Epoch 79/100\n",
      "181/181 - 19s - loss: 0.0205 - accuracy: 0.9931 - val_loss: 2.6726 - val_accuracy: 0.6128 - 19s/epoch - 108ms/step\n",
      "Epoch 80/100\n",
      "181/181 - 19s - loss: 0.0296 - accuracy: 0.9901 - val_loss: 2.6168 - val_accuracy: 0.6144 - 19s/epoch - 107ms/step\n",
      "Epoch 81/100\n",
      "181/181 - 19s - loss: 0.0168 - accuracy: 0.9939 - val_loss: 2.7570 - val_accuracy: 0.6115 - 19s/epoch - 107ms/step\n",
      "Epoch 82/100\n",
      "181/181 - 19s - loss: 0.0237 - accuracy: 0.9913 - val_loss: 2.7233 - val_accuracy: 0.6060 - 19s/epoch - 107ms/step\n",
      "Epoch 83/100\n",
      "181/181 - 19s - loss: 0.0316 - accuracy: 0.9891 - val_loss: 2.5594 - val_accuracy: 0.6020 - 19s/epoch - 107ms/step\n",
      "Epoch 84/100\n",
      "181/181 - 20s - loss: 0.0274 - accuracy: 0.9909 - val_loss: 2.6560 - val_accuracy: 0.6028 - 20s/epoch - 108ms/step\n",
      "Epoch 85/100\n",
      "181/181 - 20s - loss: 0.0220 - accuracy: 0.9922 - val_loss: 2.7656 - val_accuracy: 0.6052 - 20s/epoch - 108ms/step\n",
      "Epoch 86/100\n",
      "181/181 - 20s - loss: 0.0247 - accuracy: 0.9917 - val_loss: 2.5686 - val_accuracy: 0.6063 - 20s/epoch - 109ms/step\n",
      "Epoch 87/100\n",
      "181/181 - 19s - loss: 0.0216 - accuracy: 0.9930 - val_loss: 2.6046 - val_accuracy: 0.6090 - 19s/epoch - 107ms/step\n",
      "Epoch 88/100\n",
      "181/181 - 19s - loss: 0.0244 - accuracy: 0.9920 - val_loss: 2.5648 - val_accuracy: 0.6108 - 19s/epoch - 107ms/step\n",
      "Epoch 89/100\n",
      "181/181 - 19s - loss: 0.0161 - accuracy: 0.9937 - val_loss: 2.6934 - val_accuracy: 0.6094 - 19s/epoch - 107ms/step\n",
      "Epoch 90/100\n",
      "181/181 - 19s - loss: 0.0153 - accuracy: 0.9948 - val_loss: 2.7889 - val_accuracy: 0.6070 - 19s/epoch - 107ms/step\n",
      "Epoch 91/100\n",
      "181/181 - 19s - loss: 0.0172 - accuracy: 0.9939 - val_loss: 2.7677 - val_accuracy: 0.6045 - 19s/epoch - 107ms/step\n",
      "Epoch 92/100\n",
      "181/181 - 19s - loss: 0.0219 - accuracy: 0.9927 - val_loss: 2.7731 - val_accuracy: 0.6148 - 19s/epoch - 107ms/step\n",
      "Epoch 93/100\n",
      "181/181 - 19s - loss: 0.0247 - accuracy: 0.9920 - val_loss: 2.6759 - val_accuracy: 0.6085 - 19s/epoch - 107ms/step\n",
      "Epoch 94/100\n",
      "181/181 - 19s - loss: 0.0213 - accuracy: 0.9923 - val_loss: 2.7087 - val_accuracy: 0.6123 - 19s/epoch - 107ms/step\n",
      "Epoch 95/100\n",
      "181/181 - 19s - loss: 0.0222 - accuracy: 0.9921 - val_loss: 2.6245 - val_accuracy: 0.6091 - 19s/epoch - 107ms/step\n",
      "Epoch 96/100\n",
      "181/181 - 19s - loss: 0.0221 - accuracy: 0.9924 - val_loss: 2.7050 - val_accuracy: 0.6114 - 19s/epoch - 107ms/step\n",
      "Epoch 97/100\n",
      "181/181 - 19s - loss: 0.0197 - accuracy: 0.9929 - val_loss: 2.7205 - val_accuracy: 0.6132 - 19s/epoch - 107ms/step\n",
      "Epoch 98/100\n",
      "181/181 - 19s - loss: 0.0209 - accuracy: 0.9926 - val_loss: 2.6870 - val_accuracy: 0.6168 - 19s/epoch - 107ms/step\n",
      "Epoch 99/100\n",
      "181/181 - 19s - loss: 0.0230 - accuracy: 0.9915 - val_loss: 2.8042 - val_accuracy: 0.6158 - 19s/epoch - 107ms/step\n",
      "Epoch 100/100\n",
      "181/181 - 19s - loss: 0.0222 - accuracy: 0.9925 - val_loss: 2.5566 - val_accuracy: 0.6127 - 19s/epoch - 107ms/step\n"
     ]
    }
   ],
   "execution_count": 16
  },
  {
   "metadata": {},
   "cell_type": "markdown",
   "source": [
    "# Evaluate Model\n",
    "## Using the model.evaluate\n",
    "### using test set"
   ],
   "id": "3fb45f73c4c4a6e"
  },
  {
   "metadata": {
    "ExecuteTime": {
     "end_time": "2025-05-09T13:48:42.825815Z",
     "start_time": "2025-05-09T13:48:39.990346Z"
    }
   },
   "cell_type": "code",
   "source": "print(model.evaluate(x_audio_test, y_audio_test, batch_size=BATCH_SIZE, steps=len(x_audio_test) // BATCH_SIZE))",
   "id": "b5a3f97562c807f2",
   "outputs": [
    {
     "name": "stdout",
     "output_type": "stream",
     "text": [
      "228/228 [==============================] - 3s 11ms/step - loss: 2.9297 - accuracy: 0.5698\n",
      "[2.9297237396240234, 0.569764256477356]\n"
     ]
    }
   ],
   "execution_count": 17
  },
  {
   "metadata": {},
   "cell_type": "markdown",
   "source": "### Using validation set",
   "id": "2295aa8d2779cc45"
  },
  {
   "metadata": {
    "ExecuteTime": {
     "end_time": "2025-05-09T13:48:46.379524Z",
     "start_time": "2025-05-09T13:48:42.857097Z"
    }
   },
   "cell_type": "code",
   "source": "print(model.evaluate(x_audio_val, y_audio_val, batch_size=BATCH_SIZE, steps=len(x_audio_val) // BATCH_SIZE))",
   "id": "4a7d091b99a7d597",
   "outputs": [
    {
     "name": "stdout",
     "output_type": "stream",
     "text": [
      "311/311 [==============================] - 3s 10ms/step - loss: 2.5516 - accuracy: 0.6125\n",
      "[2.5515756607055664, 0.6125401854515076]\n"
     ]
    }
   ],
   "execution_count": 18
  },
  {
   "metadata": {
    "ExecuteTime": {
     "end_time": "2025-05-09T13:48:46.425624Z",
     "start_time": "2025-05-09T13:48:46.410702Z"
    }
   },
   "cell_type": "code",
   "source": [
    "def plot_and_save(metric_name, history, ylabel, filename):\n",
    "    plt.figure()\n",
    "    plt.plot(history.history[metric_name], label=f'Train {ylabel}')\n",
    "    if f'val_{metric_name}' in history.history:\n",
    "        plt.plot(history.history[f'val_{metric_name}'], label=f'Val {ylabel}')\n",
    "    plt.title(f'{ylabel} over Epochs')\n",
    "    plt.xlabel('Epochs')\n",
    "    plt.ylabel(ylabel)\n",
    "    plt.legend()\n",
    "    plt.grid(True)\n",
    "    plt.savefig(filename)\n",
    "    plt.close()"
   ],
   "id": "c199f1606d7de37e",
   "outputs": [],
   "execution_count": 19
  },
  {
   "metadata": {
    "ExecuteTime": {
     "end_time": "2025-05-09T13:48:46.692606Z",
     "start_time": "2025-05-09T13:48:46.457826Z"
    }
   },
   "cell_type": "code",
   "source": [
    "plot_and_save('loss', history, 'Loss', 'loss_plot.png')\n",
    "plot_and_save('accuracy', history, 'Image Classification Accuracy', 'image_class_accuracy_plot.png')"
   ],
   "id": "71e9eec9b69779d1",
   "outputs": [],
   "execution_count": 20
  },
  {
   "metadata": {
    "ExecuteTime": {
     "end_time": "2025-05-09T13:48:49.774881Z",
     "start_time": "2025-05-09T13:48:46.709626Z"
    }
   },
   "cell_type": "code",
   "source": [
    "predictions = model.predict(x_audio_test)\n",
    "predictions = np.argmax(predictions, axis=1)"
   ],
   "id": "927152f09eb27b96",
   "outputs": [
    {
     "name": "stdout",
     "output_type": "stream",
     "text": [
      "229/229 [==============================] - 3s 10ms/step\n"
     ]
    }
   ],
   "execution_count": 21
  },
  {
   "metadata": {
    "ExecuteTime": {
     "end_time": "2025-05-09T13:48:49.806882Z",
     "start_time": "2025-05-09T13:48:49.791885Z"
    }
   },
   "cell_type": "code",
   "source": [
    "classes = [x for x in os.listdir(TRAIN_IMAGE_PATH)]\n",
    "print(classes)"
   ],
   "id": "f6f12ae8d6fb1ff1",
   "outputs": [
    {
     "name": "stdout",
     "output_type": "stream",
     "text": [
      "['angry', 'disgust', 'fear', 'happy', 'neutral', 'sad', 'surprise']\n"
     ]
    }
   ],
   "execution_count": 22
  },
  {
   "metadata": {
    "ExecuteTime": {
     "end_time": "2025-05-09T13:48:50.202606Z",
     "start_time": "2025-05-09T13:48:49.838937Z"
    }
   },
   "cell_type": "code",
   "source": [
    "cm = confusion_matrix(y_audio_test, predictions)\n",
    "\n",
    "plt.figure(figsize=(10, 8))  # Set the figure size if needed\n",
    "sns.heatmap(cm, annot=True, cmap='Blues', fmt='g')\n",
    "\n",
    "plt.title('Confusion Matrix ', pad=20, fontsize=20, fontweight=\"bold\")\n",
    "plt.ylabel('Actual')\n",
    "plt.xlabel('Predicted')\n",
    "\n",
    "# Set ticks for the x and y axes using class names\n",
    "plt.xticks(ticks=range(len(classes)), labels=classes, rotation=45)\n",
    "plt.yticks(ticks=range(len(classes)), labels=classes, rotation=0)\n",
    "plt.savefig('confusion_matrix.png', dpi=300, bbox_inches='tight')\n",
    "plt.show()"
   ],
   "id": "8f9a0727bc736f45",
   "outputs": [
    {
     "data": {
      "text/plain": [
       "<Figure size 1000x800 with 2 Axes>"
      ],
      "image/png": "[encoded data removed]"
     },
     "metadata": {},
     "output_type": "display_data"
    }
   ],
   "execution_count": 23
  },
  {
   "metadata": {},
   "cell_type": "code",
   "outputs": [],
   "execution_count": null,
   "source": "print(classification_report(predictions, y_audio_test))",
   "id": "5d358e1eac861571"
  }
 ],
 "metadata": {
  "kernelspec": {
   "display_name": "Python 3",
   "language": "python",
   "name": "python3"
  },
  "language_info": {
   "codemirror_mode": {
    "name": "ipython",
    "version": 2
   },
   "file_extension": ".py",
   "mimetype": "text/x-python",
   "name": "python",
   "nbconvert_exporter": "python",
   "pygments_lexer": "ipython2",
   "version": "2.7.6"
  }
 },
 "nbformat": 4,
 "nbformat_minor": 5
}
