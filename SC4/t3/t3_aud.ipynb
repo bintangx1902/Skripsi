{
 "cells": [
  {
   "cell_type": "code",
   "id": "initial_id",
   "metadata": {
    "collapsed": true,
    "ExecuteTime": {
     "end_time": "2025-05-10T13:21:29.411094Z",
     "start_time": "2025-05-10T13:21:26.210231Z"
    }
   },
   "source": [
    "import tensorflow as tf\n",
    "import numpy as np\n",
    "import pandas as pd\n",
    "import seaborn as sns\n",
    "import os\n",
    "import gc\n",
    "\n",
    "from shared.utils import *\n",
    "from shared.local_path import *\n",
    "\n",
    "from matplotlib import pyplot as plt\n",
    "from sklearn.preprocessing import LabelEncoder\n",
    "from sklearn.model_selection import train_test_split\n",
    "from sklearn.metrics import confusion_matrix, classification_report"
   ],
   "outputs": [],
   "execution_count": 1
  },
  {
   "metadata": {},
   "cell_type": "markdown",
   "source": [
    "# Data Preprocessing\n",
    "## Audio Data"
   ],
   "id": "1bb851ac4139d0b7"
  },
  {
   "metadata": {
    "ExecuteTime": {
     "end_time": "2025-05-10T13:21:31.762568Z",
     "start_time": "2025-05-10T13:21:29.866221Z"
    }
   },
   "cell_type": "code",
   "source": [
    "label = []\n",
    "filepath = []\n",
    "\n",
    "for classes in os.listdir(AUDIO_PATH):\n",
    "    for file in os.listdir(os.path.join(AUDIO_PATH, classes)):\n",
    "        file_path = os.path.join(AUDIO_PATH, classes, file)\n",
    "\n",
    "        filepath.append(file_path)\n",
    "        label.append(classes)\n",
    "\n",
    "audio = pd.DataFrame({\n",
    "    'filepath': filepath,\n",
    "    'label': label,\n",
    "})\n",
    "\n",
    "del filepath, label\n",
    "\n",
    "audio.head()"
   ],
   "id": "40f1d84afe936100",
   "outputs": [
    {
     "data": {
      "text/plain": [
       "                                            filepath  label\n",
       "0  E:\\\\Skripsi\\data\\audio\\angry\\03-01-05-01-01-01...  angry\n",
       "1  E:\\\\Skripsi\\data\\audio\\angry\\03-01-05-01-01-01...  angry\n",
       "2  E:\\\\Skripsi\\data\\audio\\angry\\03-01-05-01-01-01...  angry\n",
       "3  E:\\\\Skripsi\\data\\audio\\angry\\03-01-05-01-01-01...  angry\n",
       "4  E:\\\\Skripsi\\data\\audio\\angry\\03-01-05-01-01-01...  angry"
      ],
      "text/html": [
       "<div>\n",
       "<style scoped>\n",
       "    .dataframe tbody tr th:only-of-type {\n",
       "        vertical-align: middle;\n",
       "    }\n",
       "\n",
       "    .dataframe tbody tr th {\n",
       "        vertical-align: top;\n",
       "    }\n",
       "\n",
       "    .dataframe thead th {\n",
       "        text-align: right;\n",
       "    }\n",
       "</style>\n",
       "<table border=\"1\" class=\"dataframe\">\n",
       "  <thead>\n",
       "    <tr style=\"text-align: right;\">\n",
       "      <th></th>\n",
       "      <th>filepath</th>\n",
       "      <th>label</th>\n",
       "    </tr>\n",
       "  </thead>\n",
       "  <tbody>\n",
       "    <tr>\n",
       "      <th>0</th>\n",
       "      <td>E:\\\\Skripsi\\data\\audio\\angry\\03-01-05-01-01-01...</td>\n",
       "      <td>angry</td>\n",
       "    </tr>\n",
       "    <tr>\n",
       "      <th>1</th>\n",
       "      <td>E:\\\\Skripsi\\data\\audio\\angry\\03-01-05-01-01-01...</td>\n",
       "      <td>angry</td>\n",
       "    </tr>\n",
       "    <tr>\n",
       "      <th>2</th>\n",
       "      <td>E:\\\\Skripsi\\data\\audio\\angry\\03-01-05-01-01-01...</td>\n",
       "      <td>angry</td>\n",
       "    </tr>\n",
       "    <tr>\n",
       "      <th>3</th>\n",
       "      <td>E:\\\\Skripsi\\data\\audio\\angry\\03-01-05-01-01-01...</td>\n",
       "      <td>angry</td>\n",
       "    </tr>\n",
       "    <tr>\n",
       "      <th>4</th>\n",
       "      <td>E:\\\\Skripsi\\data\\audio\\angry\\03-01-05-01-01-01...</td>\n",
       "      <td>angry</td>\n",
       "    </tr>\n",
       "  </tbody>\n",
       "</table>\n",
       "</div>"
      ]
     },
     "execution_count": 2,
     "metadata": {},
     "output_type": "execute_result"
    }
   ],
   "execution_count": 2
  },
  {
   "metadata": {
    "ExecuteTime": {
     "end_time": "2025-05-10T13:21:31.826630Z",
     "start_time": "2025-05-10T13:21:31.811633Z"
    }
   },
   "cell_type": "code",
   "source": [
    "le = LabelEncoder()\n",
    "le.fit(audio['label'])\n",
    "audio['label_encoded'] = le.transform(audio['label'])\n",
    "num_classes = len(le.classes_)"
   ],
   "id": "da70704c453287dd",
   "outputs": [],
   "execution_count": 3
  },
  {
   "metadata": {
    "ExecuteTime": {
     "end_time": "2025-05-10T13:25:16.332813Z",
     "start_time": "2025-05-10T13:21:31.889631Z"
    }
   },
   "cell_type": "code",
   "source": [
    "with tf.device('/GPU:0'):\n",
    "    audio['data'] = audio.filepath.apply(preprocess_audio)\n",
    "    audio = audio.sample(frac=1).reset_index(drop=True)"
   ],
   "id": "527ce5b642666bf2",
   "outputs": [
    {
     "name": "stderr",
     "output_type": "stream",
     "text": [
      "C:\\ProgramData\\miniconda3\\envs\\tf\\lib\\site-packages\\librosa\\core\\spectrum.py:266: UserWarning: n_fft=2048 is too large for input signal of length=96\n",
      "  warnings.warn(\n",
      "C:\\ProgramData\\miniconda3\\envs\\tf\\lib\\site-packages\\librosa\\core\\spectrum.py:266: UserWarning: n_fft=2048 is too large for input signal of length=1152\n",
      "  warnings.warn(\n",
      "C:\\ProgramData\\miniconda3\\envs\\tf\\lib\\site-packages\\librosa\\core\\spectrum.py:266: UserWarning: n_fft=2048 is too large for input signal of length=1472\n",
      "  warnings.warn(\n",
      "C:\\ProgramData\\miniconda3\\envs\\tf\\lib\\site-packages\\librosa\\core\\spectrum.py:266: UserWarning: n_fft=2048 is too large for input signal of length=1056\n",
      "  warnings.warn(\n",
      "C:\\ProgramData\\miniconda3\\envs\\tf\\lib\\site-packages\\librosa\\core\\spectrum.py:266: UserWarning: n_fft=2048 is too large for input signal of length=1792\n",
      "  warnings.warn(\n",
      "C:\\ProgramData\\miniconda3\\envs\\tf\\lib\\site-packages\\librosa\\core\\spectrum.py:266: UserWarning: n_fft=2048 is too large for input signal of length=320\n",
      "  warnings.warn(\n",
      "C:\\ProgramData\\miniconda3\\envs\\tf\\lib\\site-packages\\librosa\\core\\spectrum.py:266: UserWarning: n_fft=2048 is too large for input signal of length=1280\n",
      "  warnings.warn(\n",
      "C:\\ProgramData\\miniconda3\\envs\\tf\\lib\\site-packages\\librosa\\core\\spectrum.py:266: UserWarning: n_fft=2048 is too large for input signal of length=608\n",
      "  warnings.warn(\n",
      "C:\\ProgramData\\miniconda3\\envs\\tf\\lib\\site-packages\\librosa\\core\\spectrum.py:266: UserWarning: n_fft=2048 is too large for input signal of length=1920\n",
      "  warnings.warn(\n",
      "C:\\ProgramData\\miniconda3\\envs\\tf\\lib\\site-packages\\librosa\\core\\spectrum.py:266: UserWarning: n_fft=2048 is too large for input signal of length=1824\n",
      "  warnings.warn(\n",
      "C:\\ProgramData\\miniconda3\\envs\\tf\\lib\\site-packages\\librosa\\core\\spectrum.py:266: UserWarning: n_fft=2048 is too large for input signal of length=1664\n",
      "  warnings.warn(\n",
      "C:\\ProgramData\\miniconda3\\envs\\tf\\lib\\site-packages\\librosa\\core\\spectrum.py:266: UserWarning: n_fft=2048 is too large for input signal of length=1216\n",
      "  warnings.warn(\n",
      "C:\\ProgramData\\miniconda3\\envs\\tf\\lib\\site-packages\\librosa\\core\\spectrum.py:266: UserWarning: n_fft=2048 is too large for input signal of length=448\n",
      "  warnings.warn(\n",
      "C:\\ProgramData\\miniconda3\\envs\\tf\\lib\\site-packages\\librosa\\core\\spectrum.py:266: UserWarning: n_fft=2048 is too large for input signal of length=800\n",
      "  warnings.warn(\n",
      "C:\\ProgramData\\miniconda3\\envs\\tf\\lib\\site-packages\\librosa\\core\\spectrum.py:266: UserWarning: n_fft=2048 is too large for input signal of length=1952\n",
      "  warnings.warn(\n",
      "C:\\ProgramData\\miniconda3\\envs\\tf\\lib\\site-packages\\librosa\\core\\spectrum.py:266: UserWarning: n_fft=2048 is too large for input signal of length=192\n",
      "  warnings.warn(\n",
      "C:\\ProgramData\\miniconda3\\envs\\tf\\lib\\site-packages\\librosa\\core\\spectrum.py:266: UserWarning: n_fft=2048 is too large for input signal of length=544\n",
      "  warnings.warn(\n",
      "C:\\ProgramData\\miniconda3\\envs\\tf\\lib\\site-packages\\librosa\\core\\spectrum.py:266: UserWarning: n_fft=2048 is too large for input signal of length=1888\n",
      "  warnings.warn(\n",
      "C:\\ProgramData\\miniconda3\\envs\\tf\\lib\\site-packages\\librosa\\core\\spectrum.py:266: UserWarning: n_fft=2048 is too large for input signal of length=576\n",
      "  warnings.warn(\n"
     ]
    }
   ],
   "execution_count": 4
  },
  {
   "metadata": {
    "ExecuteTime": {
     "end_time": "2025-05-10T13:25:24.564339Z",
     "start_time": "2025-05-10T13:25:17.494993Z"
    }
   },
   "cell_type": "code",
   "source": [
    "x_audio = np.stack(audio['data'].values)\n",
    "y_audio = audio['label_encoded'].values\n",
    "print(x_audio.shape)\n",
    "del audio"
   ],
   "id": "68092b8e401656e7",
   "outputs": [
    {
     "name": "stdout",
     "output_type": "stream",
     "text": [
      "(27406, 128, 110, 3)\n"
     ]
    }
   ],
   "execution_count": 5
  },
  {
   "metadata": {
    "ExecuteTime": {
     "end_time": "2025-05-10T13:25:26.103852Z",
     "start_time": "2025-05-10T13:25:24.597069Z"
    }
   },
   "cell_type": "code",
   "source": [
    "x_audio_train, x_temp, y_audio_train, y_temp = train_test_split(\n",
    "    x_audio, y_audio, test_size=0.3, random_state=100,\n",
    ")\n",
    "\n",
    "x_audio_val, x_audio_test, y_audio_val, y_audio_test = train_test_split(\n",
    "    x_temp, y_temp, test_size=0.5, random_state=222,\n",
    ")\n",
    "\n",
    "del x_audio, y_audio\n",
    "print(x_audio_train.shape)\n",
    "print(x_audio_train.shape[0] == len(y_audio_train))"
   ],
   "id": "f153f9e105be8284",
   "outputs": [
    {
     "name": "stdout",
     "output_type": "stream",
     "text": [
      "(19184, 128, 110, 3)\n",
      "True\n"
     ]
    }
   ],
   "execution_count": 6
  },
  {
   "metadata": {},
   "cell_type": "markdown",
   "source": [
    "# Modeling\n",
    "## Model Image"
   ],
   "id": "b3d42e28b911fbe9"
  },
  {
   "metadata": {
    "ExecuteTime": {
     "end_time": "2025-05-10T13:25:26.923933Z",
     "start_time": "2025-05-10T13:25:26.136851Z"
    }
   },
   "cell_type": "code",
   "source": [
    "base_model = tf.keras.applications.VGG19(\n",
    "    weights='imagenet',\n",
    "    include_top=False,\n",
    "    input_tensor=tf.keras.layers.Input(shape=(128, 110, 3)),\n",
    ")\n",
    "\n",
    "for layer in base_model.layers:\n",
    "    layer.trainable = False"
   ],
   "id": "a38969480decd6a6",
   "outputs": [],
   "execution_count": 7
  },
  {
   "metadata": {
    "ExecuteTime": {
     "end_time": "2025-05-10T13:25:27.018103Z",
     "start_time": "2025-05-10T13:25:26.956522Z"
    }
   },
   "cell_type": "code",
   "source": [
    "model = tf.keras.Sequential([\n",
    "    base_model,\n",
    "    tf.keras.layers.GlobalAveragePooling2D(),\n",
    "    tf.keras.layers.Dense(512, activation='relu'),\n",
    "    tf.keras.layers.Dense(8, activation='softmax'),\n",
    "])\n",
    "\n",
    "model.compile(\n",
    "    optimizer=tf.keras.optimizers.Adam(),\n",
    "    loss=tf.keras.losses.SparseCategoricalCrossentropy(),\n",
    "    metrics=['accuracy'],\n",
    ")"
   ],
   "id": "a34252231df934ad",
   "outputs": [],
   "execution_count": 8
  },
  {
   "metadata": {
    "ExecuteTime": {
     "end_time": "2025-05-10T13:25:28.229674Z",
     "start_time": "2025-05-10T13:25:27.050127Z"
    }
   },
   "cell_type": "code",
   "source": "plot_model(model, show_shapes=True)",
   "id": "ec227e73a0eef37",
   "outputs": [],
   "execution_count": 9
  },
  {
   "metadata": {
    "ExecuteTime": {
     "end_time": "2025-05-10T13:25:28.276197Z",
     "start_time": "2025-05-10T13:25:28.262199Z"
    }
   },
   "cell_type": "code",
   "source": [
    "early = tf.keras.callbacks.EarlyStopping(\n",
    "    monitor='val_loss',\n",
    "    restore_best_weights=True,\n",
    "    mode='min',\n",
    "    # start_from_epoch=2,\n",
    "    patience=5\n",
    ")\n",
    "\n",
    "checkpoint = tf.keras.callbacks.ModelCheckpoint(\n",
    "    filepath=os.path.join('model', 'best_model.keras'),\n",
    "    verbose=2,\n",
    "    save_best_only=True,\n",
    "    monitor='val_loss',\n",
    "    mode='min'\n",
    ")\n",
    "\n",
    "lr_scheduler = tf.keras.callbacks.ReduceLROnPlateau(monitor='val_loss',\n",
    "                                                    factor=0.2,\n",
    "                                                    min_lr=1e-6,\n",
    "                                                    patience=3,\n",
    "                                                    mode='min'\n",
    "                                                    )"
   ],
   "id": "11692b91042ecc9b",
   "outputs": [],
   "execution_count": 10
  },
  {
   "metadata": {
    "ExecuteTime": {
     "end_time": "2025-05-10T13:46:06.401333Z",
     "start_time": "2025-05-10T13:25:28.308197Z"
    }
   },
   "cell_type": "code",
   "source": [
    "history = model.fit(\n",
    "    x_audio_train,\n",
    "    y_audio_train,\n",
    "    validation_data=(x_audio_val, y_audio_val),\n",
    "    callbacks=[lr_scheduler],\n",
    "    epochs=50,\n",
    "    verbose=2,\n",
    "    batch_size=BATCH_SIZE,\n",
    "    steps_per_epoch=len(x_audio_train) // BATCH_SIZE,\n",
    "    validation_steps=len(x_audio_val) // BATCH_SIZE,\n",
    ")\n"
   ],
   "id": "1a53f4cefc3629d1",
   "outputs": [
    {
     "name": "stdout",
     "output_type": "stream",
     "text": [
      "Epoch 1/50\n",
      "299/299 - 33s - loss: 1.3877 - accuracy: 0.4777 - val_loss: 1.1811 - val_accuracy: 0.5540 - lr: 0.0010 - 33s/epoch - 110ms/step\n",
      "Epoch 2/50\n",
      "299/299 - 26s - loss: 1.1518 - accuracy: 0.5543 - val_loss: 1.1815 - val_accuracy: 0.5337 - lr: 0.0010 - 26s/epoch - 86ms/step\n",
      "Epoch 3/50\n",
      "299/299 - 24s - loss: 1.0527 - accuracy: 0.5956 - val_loss: 1.0770 - val_accuracy: 0.5913 - lr: 0.0010 - 24s/epoch - 81ms/step\n",
      "Epoch 4/50\n",
      "299/299 - 24s - loss: 0.9784 - accuracy: 0.6260 - val_loss: 1.0559 - val_accuracy: 0.5867 - lr: 0.0010 - 24s/epoch - 82ms/step\n",
      "Epoch 5/50\n",
      "299/299 - 24s - loss: 0.9120 - accuracy: 0.6519 - val_loss: 1.0222 - val_accuracy: 0.6042 - lr: 0.0010 - 24s/epoch - 81ms/step\n",
      "Epoch 6/50\n",
      "299/299 - 24s - loss: 0.8457 - accuracy: 0.6797 - val_loss: 0.9936 - val_accuracy: 0.6208 - lr: 0.0010 - 24s/epoch - 81ms/step\n",
      "Epoch 7/50\n",
      "299/299 - 25s - loss: 0.7875 - accuracy: 0.7079 - val_loss: 1.0213 - val_accuracy: 0.6208 - lr: 0.0010 - 25s/epoch - 82ms/step\n",
      "Epoch 8/50\n",
      "299/299 - 25s - loss: 0.7220 - accuracy: 0.7309 - val_loss: 0.9855 - val_accuracy: 0.6326 - lr: 0.0010 - 25s/epoch - 84ms/step\n",
      "Epoch 9/50\n",
      "299/299 - 25s - loss: 0.6585 - accuracy: 0.7599 - val_loss: 0.9079 - val_accuracy: 0.6746 - lr: 0.0010 - 25s/epoch - 83ms/step\n",
      "Epoch 10/50\n",
      "299/299 - 24s - loss: 0.5946 - accuracy: 0.7868 - val_loss: 0.9525 - val_accuracy: 0.6680 - lr: 0.0010 - 24s/epoch - 82ms/step\n",
      "Epoch 11/50\n",
      "299/299 - 25s - loss: 0.5562 - accuracy: 0.8044 - val_loss: 0.8865 - val_accuracy: 0.6870 - lr: 0.0010 - 25s/epoch - 82ms/step\n",
      "Epoch 12/50\n",
      "299/299 - 25s - loss: 0.5000 - accuracy: 0.8222 - val_loss: 0.8635 - val_accuracy: 0.7087 - lr: 0.0010 - 25s/epoch - 82ms/step\n",
      "Epoch 13/50\n",
      "299/299 - 24s - loss: 0.4640 - accuracy: 0.8374 - val_loss: 0.9417 - val_accuracy: 0.6824 - lr: 0.0010 - 24s/epoch - 82ms/step\n",
      "Epoch 14/50\n",
      "299/299 - 24s - loss: 0.4132 - accuracy: 0.8589 - val_loss: 0.8784 - val_accuracy: 0.7231 - lr: 0.0010 - 24s/epoch - 82ms/step\n",
      "Epoch 15/50\n",
      "299/299 - 25s - loss: 0.3959 - accuracy: 0.8641 - val_loss: 0.8551 - val_accuracy: 0.7388 - lr: 0.0010 - 25s/epoch - 82ms/step\n",
      "Epoch 16/50\n",
      "299/299 - 25s - loss: 0.3529 - accuracy: 0.8823 - val_loss: 0.8558 - val_accuracy: 0.7476 - lr: 0.0010 - 25s/epoch - 82ms/step\n",
      "Epoch 17/50\n",
      "299/299 - 25s - loss: 0.3164 - accuracy: 0.8947 - val_loss: 0.9090 - val_accuracy: 0.7253 - lr: 0.0010 - 25s/epoch - 83ms/step\n",
      "Epoch 18/50\n",
      "299/299 - 25s - loss: 0.2996 - accuracy: 0.9002 - val_loss: 0.8926 - val_accuracy: 0.7358 - lr: 0.0010 - 25s/epoch - 82ms/step\n",
      "Epoch 19/50\n",
      "299/299 - 25s - loss: 0.2113 - accuracy: 0.9387 - val_loss: 0.8016 - val_accuracy: 0.7815 - lr: 2.0000e-04 - 25s/epoch - 82ms/step\n",
      "Epoch 20/50\n",
      "299/299 - 25s - loss: 0.1905 - accuracy: 0.9455 - val_loss: 0.8024 - val_accuracy: 0.7837 - lr: 2.0000e-04 - 25s/epoch - 82ms/step\n",
      "Epoch 21/50\n",
      "299/299 - 24s - loss: 0.1856 - accuracy: 0.9483 - val_loss: 0.7979 - val_accuracy: 0.7812 - lr: 2.0000e-04 - 24s/epoch - 82ms/step\n",
      "Epoch 22/50\n",
      "299/299 - 25s - loss: 0.1775 - accuracy: 0.9512 - val_loss: 0.8016 - val_accuracy: 0.7893 - lr: 2.0000e-04 - 25s/epoch - 82ms/step\n",
      "Epoch 23/50\n",
      "299/299 - 25s - loss: 0.1734 - accuracy: 0.9516 - val_loss: 0.8058 - val_accuracy: 0.7881 - lr: 2.0000e-04 - 25s/epoch - 82ms/step\n",
      "Epoch 24/50\n",
      "299/299 - 24s - loss: 0.1698 - accuracy: 0.9546 - val_loss: 0.8003 - val_accuracy: 0.7942 - lr: 2.0000e-04 - 24s/epoch - 82ms/step\n",
      "Epoch 25/50\n",
      "299/299 - 25s - loss: 0.1555 - accuracy: 0.9589 - val_loss: 0.7976 - val_accuracy: 0.7942 - lr: 4.0000e-05 - 25s/epoch - 82ms/step\n",
      "Epoch 26/50\n",
      "299/299 - 25s - loss: 0.1528 - accuracy: 0.9607 - val_loss: 0.7986 - val_accuracy: 0.7959 - lr: 4.0000e-05 - 25s/epoch - 82ms/step\n",
      "Epoch 27/50\n",
      "299/299 - 25s - loss: 0.1537 - accuracy: 0.9596 - val_loss: 0.7992 - val_accuracy: 0.7947 - lr: 4.0000e-05 - 25s/epoch - 82ms/step\n",
      "Epoch 28/50\n",
      "299/299 - 25s - loss: 0.1500 - accuracy: 0.9615 - val_loss: 0.8009 - val_accuracy: 0.7952 - lr: 4.0000e-05 - 25s/epoch - 82ms/step\n",
      "Epoch 29/50\n",
      "299/299 - 25s - loss: 0.1494 - accuracy: 0.9614 - val_loss: 0.7987 - val_accuracy: 0.7959 - lr: 8.0000e-06 - 25s/epoch - 82ms/step\n",
      "Epoch 30/50\n",
      "299/299 - 25s - loss: 0.1486 - accuracy: 0.9618 - val_loss: 0.7994 - val_accuracy: 0.7964 - lr: 8.0000e-06 - 25s/epoch - 82ms/step\n",
      "Epoch 31/50\n",
      "299/299 - 24s - loss: 0.1460 - accuracy: 0.9642 - val_loss: 0.7996 - val_accuracy: 0.7964 - lr: 8.0000e-06 - 24s/epoch - 82ms/step\n",
      "Epoch 32/50\n",
      "299/299 - 25s - loss: 0.1463 - accuracy: 0.9623 - val_loss: 0.7996 - val_accuracy: 0.7961 - lr: 1.6000e-06 - 25s/epoch - 82ms/step\n",
      "Epoch 33/50\n",
      "299/299 - 25s - loss: 0.1476 - accuracy: 0.9627 - val_loss: 0.7999 - val_accuracy: 0.7964 - lr: 1.6000e-06 - 25s/epoch - 82ms/step\n",
      "Epoch 34/50\n",
      "299/299 - 25s - loss: 0.1463 - accuracy: 0.9630 - val_loss: 0.7998 - val_accuracy: 0.7959 - lr: 1.6000e-06 - 25s/epoch - 82ms/step\n",
      "Epoch 35/50\n",
      "299/299 - 25s - loss: 0.1465 - accuracy: 0.9628 - val_loss: 0.7998 - val_accuracy: 0.7959 - lr: 1.0000e-06 - 25s/epoch - 82ms/step\n",
      "Epoch 36/50\n",
      "299/299 - 25s - loss: 0.1471 - accuracy: 0.9624 - val_loss: 0.7999 - val_accuracy: 0.7959 - lr: 1.0000e-06 - 25s/epoch - 82ms/step\n",
      "Epoch 37/50\n",
      "299/299 - 25s - loss: 0.1456 - accuracy: 0.9635 - val_loss: 0.7999 - val_accuracy: 0.7964 - lr: 1.0000e-06 - 25s/epoch - 82ms/step\n",
      "Epoch 38/50\n",
      "299/299 - 24s - loss: 0.1447 - accuracy: 0.9632 - val_loss: 0.8000 - val_accuracy: 0.7961 - lr: 1.0000e-06 - 24s/epoch - 82ms/step\n",
      "Epoch 39/50\n",
      "299/299 - 25s - loss: 0.1486 - accuracy: 0.9630 - val_loss: 0.8001 - val_accuracy: 0.7959 - lr: 1.0000e-06 - 25s/epoch - 82ms/step\n",
      "Epoch 40/50\n",
      "299/299 - 24s - loss: 0.1455 - accuracy: 0.9623 - val_loss: 0.8000 - val_accuracy: 0.7959 - lr: 1.0000e-06 - 24s/epoch - 82ms/step\n",
      "Epoch 41/50\n",
      "299/299 - 25s - loss: 0.1444 - accuracy: 0.9641 - val_loss: 0.8001 - val_accuracy: 0.7961 - lr: 1.0000e-06 - 25s/epoch - 82ms/step\n",
      "Epoch 42/50\n",
      "299/299 - 24s - loss: 0.1480 - accuracy: 0.9621 - val_loss: 0.8001 - val_accuracy: 0.7959 - lr: 1.0000e-06 - 24s/epoch - 82ms/step\n",
      "Epoch 43/50\n",
      "299/299 - 24s - loss: 0.1467 - accuracy: 0.9625 - val_loss: 0.8002 - val_accuracy: 0.7961 - lr: 1.0000e-06 - 24s/epoch - 82ms/step\n",
      "Epoch 44/50\n",
      "299/299 - 25s - loss: 0.1462 - accuracy: 0.9631 - val_loss: 0.8001 - val_accuracy: 0.7961 - lr: 1.0000e-06 - 25s/epoch - 83ms/step\n",
      "Epoch 45/50\n",
      "299/299 - 25s - loss: 0.1473 - accuracy: 0.9621 - val_loss: 0.8001 - val_accuracy: 0.7959 - lr: 1.0000e-06 - 25s/epoch - 83ms/step\n",
      "Epoch 46/50\n",
      "299/299 - 24s - loss: 0.1442 - accuracy: 0.9643 - val_loss: 0.8003 - val_accuracy: 0.7961 - lr: 1.0000e-06 - 24s/epoch - 82ms/step\n",
      "Epoch 47/50\n",
      "299/299 - 25s - loss: 0.1457 - accuracy: 0.9630 - val_loss: 0.8003 - val_accuracy: 0.7964 - lr: 1.0000e-06 - 25s/epoch - 82ms/step\n",
      "Epoch 48/50\n",
      "299/299 - 25s - loss: 0.1479 - accuracy: 0.9620 - val_loss: 0.8002 - val_accuracy: 0.7961 - lr: 1.0000e-06 - 25s/epoch - 82ms/step\n",
      "Epoch 49/50\n",
      "299/299 - 25s - loss: 0.1449 - accuracy: 0.9636 - val_loss: 0.8002 - val_accuracy: 0.7959 - lr: 1.0000e-06 - 25s/epoch - 83ms/step\n",
      "Epoch 50/50\n",
      "299/299 - 25s - loss: 0.1466 - accuracy: 0.9627 - val_loss: 0.8005 - val_accuracy: 0.7964 - lr: 1.0000e-06 - 25s/epoch - 83ms/step\n"
     ]
    }
   ],
   "execution_count": 11
  },
  {
   "metadata": {},
   "cell_type": "markdown",
   "source": [
    "# Evaluate Model\n",
    "## Using the model.evaluate\n",
    "### using test set"
   ],
   "id": "3fb45f73c4c4a6e"
  },
  {
   "metadata": {
    "ExecuteTime": {
     "end_time": "2025-05-10T13:46:13.104147Z",
     "start_time": "2025-05-10T13:46:06.464334Z"
    }
   },
   "cell_type": "code",
   "source": "print(model.evaluate(x_audio_test, y_audio_test, batch_size=BATCH_SIZE, steps=len(x_audio_test) // BATCH_SIZE))",
   "id": "b5a3f97562c807f2",
   "outputs": [
    {
     "name": "stdout",
     "output_type": "stream",
     "text": [
      "128/128 [==============================] - 6s 36ms/step - loss: 0.8059 - accuracy: 0.7971\n",
      "[0.8058531284332275, 0.797119140625]\n"
     ]
    }
   ],
   "execution_count": 12
  },
  {
   "metadata": {},
   "cell_type": "markdown",
   "source": "### Using validation set",
   "id": "2295aa8d2779cc45"
  },
  {
   "metadata": {
    "ExecuteTime": {
     "end_time": "2025-05-10T13:46:18.649296Z",
     "start_time": "2025-05-10T13:46:13.168149Z"
    }
   },
   "cell_type": "code",
   "source": "print(model.evaluate(x_audio_val, y_audio_val, batch_size=BATCH_SIZE, steps=len(x_audio_val) // BATCH_SIZE))",
   "id": "4a7d091b99a7d597",
   "outputs": [
    {
     "name": "stdout",
     "output_type": "stream",
     "text": [
      "128/128 [==============================] - 5s 35ms/step - loss: 0.8005 - accuracy: 0.7964\n",
      "[0.8005247712135315, 0.79638671875]\n"
     ]
    }
   ],
   "execution_count": 13
  },
  {
   "metadata": {
    "ExecuteTime": {
     "end_time": "2025-05-10T13:46:18.711550Z",
     "start_time": "2025-05-10T13:46:18.696550Z"
    }
   },
   "cell_type": "code",
   "source": [
    "def plot_and_save(metric_name, history, ylabel, filename):\n",
    "    plt.figure()\n",
    "    plt.plot(history.history[metric_name], label=f'Train {ylabel}')\n",
    "    if f'val_{metric_name}' in history.history:\n",
    "        plt.plot(history.history[f'val_{metric_name}'], label=f'Val {ylabel}')\n",
    "    plt.title(f'{ylabel} over Epochs')\n",
    "    plt.xlabel('Epochs')\n",
    "    plt.ylabel(ylabel)\n",
    "    plt.legend()\n",
    "    plt.grid(True)\n",
    "    plt.savefig(filename)\n",
    "    plt.close()"
   ],
   "id": "c199f1606d7de37e",
   "outputs": [],
   "execution_count": 14
  },
  {
   "metadata": {
    "ExecuteTime": {
     "end_time": "2025-05-10T13:46:19.040223Z",
     "start_time": "2025-05-10T13:46:18.775551Z"
    }
   },
   "cell_type": "code",
   "source": [
    "plot_and_save('loss', history, 'Audio_Loss', 'Audio_loss_plot-nolr.png')\n",
    "plot_and_save('accuracy', history, 'Audio Classification Accuracy', 'Audio_class_accuracy_plot-nolr.png')"
   ],
   "id": "71e9eec9b69779d1",
   "outputs": [],
   "execution_count": 15
  },
  {
   "metadata": {
    "ExecuteTime": {
     "end_time": "2025-05-10T13:46:24.551593Z",
     "start_time": "2025-05-10T13:46:19.072223Z"
    }
   },
   "cell_type": "code",
   "source": [
    "predictions = model.predict(x_audio_test)\n",
    "predictions = np.argmax(predictions, axis=1)"
   ],
   "id": "927152f09eb27b96",
   "outputs": [
    {
     "name": "stdout",
     "output_type": "stream",
     "text": [
      "129/129 [==============================] - 5s 39ms/step\n"
     ]
    }
   ],
   "execution_count": 16
  },
  {
   "metadata": {
    "ExecuteTime": {
     "end_time": "2025-05-10T13:46:24.614593Z",
     "start_time": "2025-05-10T13:46:24.599594Z"
    }
   },
   "cell_type": "code",
   "source": [
    "classes = [x for x in os.listdir(AUDIO_PATH)]\n",
    "print(classes)"
   ],
   "id": "f6f12ae8d6fb1ff1",
   "outputs": [
    {
     "name": "stdout",
     "output_type": "stream",
     "text": [
      "['angry', 'calm', 'disgust', 'fear', 'happy', 'neutral', 'sad', 'surprise']\n"
     ]
    }
   ],
   "execution_count": 17
  },
  {
   "metadata": {
    "ExecuteTime": {
     "end_time": "2025-05-10T13:46:25.056Z",
     "start_time": "2025-05-10T13:46:24.646776Z"
    }
   },
   "cell_type": "code",
   "source": [
    "cm = confusion_matrix(y_audio_test, predictions)\n",
    "\n",
    "plt.figure(figsize=(10, 8))  # Set the figure size if needed\n",
    "sns.heatmap(cm, annot=True, cmap='Blues', fmt='g')\n",
    "\n",
    "plt.title('Confusion Matrix Audio', pad=20, fontsize=20, fontweight=\"bold\")\n",
    "plt.ylabel('Actual')\n",
    "plt.xlabel('Predicted')\n",
    "\n",
    "# Set ticks for the x and y axes using class names\n",
    "plt.xticks(ticks=range(len(classes)), labels=classes, rotation=45)\n",
    "plt.yticks(ticks=range(len(classes)), labels=classes, rotation=0)\n",
    "plt.savefig('confusion_matrix_audio.png', dpi=300, bbox_inches='tight')\n",
    "plt.show()"
   ],
   "id": "8f9a0727bc736f45",
   "outputs": [
    {
     "data": {
      "text/plain": [
       "<Figure size 1000x800 with 2 Axes>"
      ],
      "image/png": "[encoded data removed]"
     },
     "metadata": {},
     "output_type": "display_data"
    }
   ],
   "execution_count": 18
  },
  {
   "metadata": {
    "ExecuteTime": {
     "end_time": "2025-05-10T13:46:25.102283Z",
     "start_time": "2025-05-10T13:46:25.088283Z"
    }
   },
   "cell_type": "code",
   "source": "print(classification_report(predictions, y_audio_test))",
   "id": "5d358e1eac861571",
   "outputs": [
    {
     "name": "stdout",
     "output_type": "stream",
     "text": [
      "              precision    recall  f1-score   support\n",
      "\n",
      "           0       0.81      0.83      0.82       640\n",
      "           1       0.69      0.76      0.73        85\n",
      "           2       0.80      0.74      0.77       729\n",
      "           3       0.75      0.78      0.77       628\n",
      "           4       0.80      0.80      0.80       627\n",
      "           5       0.84      0.82      0.83       553\n",
      "           6       0.79      0.82      0.80       617\n",
      "           7       0.84      0.81      0.82       232\n",
      "\n",
      "    accuracy                           0.80      4111\n",
      "   macro avg       0.79      0.80      0.79      4111\n",
      "weighted avg       0.80      0.80      0.80      4111\n",
      "\n"
     ]
    }
   ],
   "execution_count": 19
  },
  {
   "metadata": {},
   "cell_type": "code",
   "outputs": [],
   "execution_count": null,
   "source": "model.save('model_sc4_t3_audio.h5')",
   "id": "d542bf09407b4734"
  }
 ],
 "metadata": {
  "kernelspec": {
   "display_name": "Python 3",
   "language": "python",
   "name": "python3"
  },
  "language_info": {
   "codemirror_mode": {
    "name": "ipython",
    "version": 2
   },
   "file_extension": ".py",
   "mimetype": "text/x-python",
   "name": "python",
   "nbconvert_exporter": "python",
   "pygments_lexer": "ipython2",
   "version": "2.7.6"
  }
 },
 "nbformat": 4,
 "nbformat_minor": 5
}
