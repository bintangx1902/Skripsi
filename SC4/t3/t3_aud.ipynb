{
 "cells": [
  {
   "cell_type": "code",
   "id": "initial_id",
   "metadata": {
    "collapsed": true,
    "ExecuteTime": {
     "end_time": "2025-05-17T07:37:04.566392Z",
     "start_time": "2025-05-17T07:37:01.445608Z"
    }
   },
   "source": [
    "import tensorflow as tf\n",
    "import numpy as np\n",
    "import pandas as pd\n",
    "import seaborn as sns\n",
    "import os\n",
    "import gc\n",
    "\n",
    "from shared.utils import *\n",
    "from shared.local_path import *\n",
    "\n",
    "from matplotlib import pyplot as plt\n",
    "from sklearn.preprocessing import LabelEncoder\n",
    "from sklearn.model_selection import train_test_split\n",
    "from sklearn.metrics import confusion_matrix, classification_report"
   ],
   "outputs": [],
   "execution_count": 1
  },
  {
   "metadata": {},
   "cell_type": "markdown",
   "source": [
    "# Data Preprocessing\n",
    "## Audio Data"
   ],
   "id": "1bb851ac4139d0b7"
  },
  {
   "metadata": {
    "ExecuteTime": {
     "end_time": "2025-05-17T07:37:06.893521Z",
     "start_time": "2025-05-17T07:37:05.039098Z"
    }
   },
   "cell_type": "code",
   "source": [
    "label = []\n",
    "filepath = []\n",
    "\n",
    "for classes in os.listdir(AUDIO_PATH):\n",
    "    for file in os.listdir(os.path.join(AUDIO_PATH, classes)):\n",
    "        file_path = os.path.join(AUDIO_PATH, classes, file)\n",
    "\n",
    "        filepath.append(file_path)\n",
    "        label.append(classes)\n",
    "\n",
    "audio = pd.DataFrame({\n",
    "    'filepath': filepath,\n",
    "    'label': label,\n",
    "})\n",
    "\n",
    "del filepath, label\n",
    "\n",
    "audio.head()"
   ],
   "id": "40f1d84afe936100",
   "outputs": [
    {
     "data": {
      "text/plain": [
       "                                            filepath  label\n",
       "0  E:\\\\Skripsi\\data\\audio\\angry\\03-01-05-01-01-01...  angry\n",
       "1  E:\\\\Skripsi\\data\\audio\\angry\\03-01-05-01-01-01...  angry\n",
       "2  E:\\\\Skripsi\\data\\audio\\angry\\03-01-05-01-01-01...  angry\n",
       "3  E:\\\\Skripsi\\data\\audio\\angry\\03-01-05-01-01-01...  angry\n",
       "4  E:\\\\Skripsi\\data\\audio\\angry\\03-01-05-01-01-01...  angry"
      ],
      "text/html": [
       "<div>\n",
       "<style scoped>\n",
       "    .dataframe tbody tr th:only-of-type {\n",
       "        vertical-align: middle;\n",
       "    }\n",
       "\n",
       "    .dataframe tbody tr th {\n",
       "        vertical-align: top;\n",
       "    }\n",
       "\n",
       "    .dataframe thead th {\n",
       "        text-align: right;\n",
       "    }\n",
       "</style>\n",
       "<table border=\"1\" class=\"dataframe\">\n",
       "  <thead>\n",
       "    <tr style=\"text-align: right;\">\n",
       "      <th></th>\n",
       "      <th>filepath</th>\n",
       "      <th>label</th>\n",
       "    </tr>\n",
       "  </thead>\n",
       "  <tbody>\n",
       "    <tr>\n",
       "      <th>0</th>\n",
       "      <td>E:\\\\Skripsi\\data\\audio\\angry\\03-01-05-01-01-01...</td>\n",
       "      <td>angry</td>\n",
       "    </tr>\n",
       "    <tr>\n",
       "      <th>1</th>\n",
       "      <td>E:\\\\Skripsi\\data\\audio\\angry\\03-01-05-01-01-01...</td>\n",
       "      <td>angry</td>\n",
       "    </tr>\n",
       "    <tr>\n",
       "      <th>2</th>\n",
       "      <td>E:\\\\Skripsi\\data\\audio\\angry\\03-01-05-01-01-01...</td>\n",
       "      <td>angry</td>\n",
       "    </tr>\n",
       "    <tr>\n",
       "      <th>3</th>\n",
       "      <td>E:\\\\Skripsi\\data\\audio\\angry\\03-01-05-01-01-01...</td>\n",
       "      <td>angry</td>\n",
       "    </tr>\n",
       "    <tr>\n",
       "      <th>4</th>\n",
       "      <td>E:\\\\Skripsi\\data\\audio\\angry\\03-01-05-01-01-01...</td>\n",
       "      <td>angry</td>\n",
       "    </tr>\n",
       "  </tbody>\n",
       "</table>\n",
       "</div>"
      ]
     },
     "execution_count": 2,
     "metadata": {},
     "output_type": "execute_result"
    }
   ],
   "execution_count": 2
  },
  {
   "metadata": {
    "ExecuteTime": {
     "end_time": "2025-05-17T07:37:06.957273Z",
     "start_time": "2025-05-17T07:37:06.942272Z"
    }
   },
   "cell_type": "code",
   "source": [
    "le = LabelEncoder()\n",
    "le.fit(audio['label'])\n",
    "audio['label_encoded'] = le.transform(audio['label'])\n",
    "num_classes = len(le.classes_)"
   ],
   "id": "da70704c453287dd",
   "outputs": [],
   "execution_count": 3
  },
  {
   "metadata": {
    "ExecuteTime": {
     "end_time": "2025-05-17T07:43:12.224671Z",
     "start_time": "2025-05-17T07:37:07.006275Z"
    }
   },
   "cell_type": "code",
   "source": [
    "with tf.device('/GPU:0'):\n",
    "    audio['data'] = audio.filepath.apply(preprocess_audio)\n",
    "    audio = audio.sample(frac=1).reset_index(drop=True)"
   ],
   "id": "527ce5b642666bf2",
   "outputs": [
    {
     "name": "stderr",
     "output_type": "stream",
     "text": [
      "C:\\ProgramData\\miniconda3\\envs\\tf\\lib\\site-packages\\librosa\\core\\spectrum.py:266: UserWarning: n_fft=2048 is too large for input signal of length=96\n",
      "  warnings.warn(\n",
      "C:\\ProgramData\\miniconda3\\envs\\tf\\lib\\site-packages\\librosa\\core\\spectrum.py:266: UserWarning: n_fft=2048 is too large for input signal of length=1152\n",
      "  warnings.warn(\n",
      "C:\\ProgramData\\miniconda3\\envs\\tf\\lib\\site-packages\\librosa\\core\\spectrum.py:266: UserWarning: n_fft=2048 is too large for input signal of length=1472\n",
      "  warnings.warn(\n",
      "C:\\ProgramData\\miniconda3\\envs\\tf\\lib\\site-packages\\librosa\\core\\spectrum.py:266: UserWarning: n_fft=2048 is too large for input signal of length=1056\n",
      "  warnings.warn(\n",
      "C:\\ProgramData\\miniconda3\\envs\\tf\\lib\\site-packages\\librosa\\core\\spectrum.py:266: UserWarning: n_fft=2048 is too large for input signal of length=1792\n",
      "  warnings.warn(\n",
      "C:\\ProgramData\\miniconda3\\envs\\tf\\lib\\site-packages\\librosa\\core\\spectrum.py:266: UserWarning: n_fft=2048 is too large for input signal of length=320\n",
      "  warnings.warn(\n",
      "C:\\ProgramData\\miniconda3\\envs\\tf\\lib\\site-packages\\librosa\\core\\spectrum.py:266: UserWarning: n_fft=2048 is too large for input signal of length=1280\n",
      "  warnings.warn(\n",
      "C:\\ProgramData\\miniconda3\\envs\\tf\\lib\\site-packages\\librosa\\core\\spectrum.py:266: UserWarning: n_fft=2048 is too large for input signal of length=608\n",
      "  warnings.warn(\n",
      "C:\\ProgramData\\miniconda3\\envs\\tf\\lib\\site-packages\\librosa\\core\\spectrum.py:266: UserWarning: n_fft=2048 is too large for input signal of length=1920\n",
      "  warnings.warn(\n",
      "C:\\ProgramData\\miniconda3\\envs\\tf\\lib\\site-packages\\librosa\\core\\spectrum.py:266: UserWarning: n_fft=2048 is too large for input signal of length=1824\n",
      "  warnings.warn(\n",
      "C:\\ProgramData\\miniconda3\\envs\\tf\\lib\\site-packages\\librosa\\core\\spectrum.py:266: UserWarning: n_fft=2048 is too large for input signal of length=1664\n",
      "  warnings.warn(\n",
      "C:\\ProgramData\\miniconda3\\envs\\tf\\lib\\site-packages\\librosa\\core\\spectrum.py:266: UserWarning: n_fft=2048 is too large for input signal of length=1216\n",
      "  warnings.warn(\n",
      "C:\\ProgramData\\miniconda3\\envs\\tf\\lib\\site-packages\\librosa\\core\\spectrum.py:266: UserWarning: n_fft=2048 is too large for input signal of length=448\n",
      "  warnings.warn(\n",
      "C:\\ProgramData\\miniconda3\\envs\\tf\\lib\\site-packages\\librosa\\core\\spectrum.py:266: UserWarning: n_fft=2048 is too large for input signal of length=800\n",
      "  warnings.warn(\n",
      "C:\\ProgramData\\miniconda3\\envs\\tf\\lib\\site-packages\\librosa\\core\\spectrum.py:266: UserWarning: n_fft=2048 is too large for input signal of length=1952\n",
      "  warnings.warn(\n",
      "C:\\ProgramData\\miniconda3\\envs\\tf\\lib\\site-packages\\librosa\\core\\spectrum.py:266: UserWarning: n_fft=2048 is too large for input signal of length=192\n",
      "  warnings.warn(\n",
      "C:\\ProgramData\\miniconda3\\envs\\tf\\lib\\site-packages\\librosa\\core\\spectrum.py:266: UserWarning: n_fft=2048 is too large for input signal of length=544\n",
      "  warnings.warn(\n",
      "C:\\ProgramData\\miniconda3\\envs\\tf\\lib\\site-packages\\librosa\\core\\spectrum.py:266: UserWarning: n_fft=2048 is too large for input signal of length=1888\n",
      "  warnings.warn(\n",
      "C:\\ProgramData\\miniconda3\\envs\\tf\\lib\\site-packages\\librosa\\core\\spectrum.py:266: UserWarning: n_fft=2048 is too large for input signal of length=576\n",
      "  warnings.warn(\n"
     ]
    }
   ],
   "execution_count": 4
  },
  {
   "metadata": {
    "ExecuteTime": {
     "end_time": "2025-05-17T07:43:13.401067Z",
     "start_time": "2025-05-17T07:43:13.370559Z"
    }
   },
   "cell_type": "code",
   "source": [
    "_, temp = train_test_split(audio, test_size=0.4, random_state=42)\n",
    "test_df, val_df = train_test_split(temp, test_size=0.5, random_state=42)"
   ],
   "id": "56bfb308fd570b35",
   "outputs": [],
   "execution_count": 5
  },
  {
   "metadata": {
    "ExecuteTime": {
     "end_time": "2025-05-17T07:43:36.306372Z",
     "start_time": "2025-05-17T07:43:17.920740Z"
    }
   },
   "cell_type": "code",
   "source": [
    "x_audio_train = np.stack(audio['data'].values)\n",
    "y_audio_train = np.array(audio.label_encoded.values)\n",
    "\n",
    "x_audio_val = np.stack(val_df['data'].values)\n",
    "y_audio_val = np.array(val_df.label_encoded.values)\n",
    "\n",
    "x_audio_test = np.stack(test_df['data'].values)\n",
    "y_audio_test = np.array(test_df.label_encoded.values)\n",
    "\n",
    "del _, temp, test_df, val_df, audio"
   ],
   "id": "d1821041c9cd2b3d",
   "outputs": [],
   "execution_count": 6
  },
  {
   "metadata": {
    "ExecuteTime": {
     "end_time": "2025-05-17T07:43:36.400414Z",
     "start_time": "2025-05-17T07:43:36.385406Z"
    }
   },
   "cell_type": "code",
   "source": [
    "print(x_audio_train.shape)\n",
    "print(x_audio_val.shape)\n",
    "print(x_audio_test.shape)"
   ],
   "id": "2e9715474a7c2285",
   "outputs": [
    {
     "name": "stdout",
     "output_type": "stream",
     "text": [
      "(33938, 128, 110, 3)\n",
      "(6788, 128, 110, 3)\n",
      "(6788, 128, 110, 3)\n"
     ]
    }
   ],
   "execution_count": 7
  },
  {
   "metadata": {},
   "cell_type": "markdown",
   "source": [
    "# Modeling\n",
    "## Model Image"
   ],
   "id": "b3d42e28b911fbe9"
  },
  {
   "metadata": {
    "ExecuteTime": {
     "end_time": "2025-05-17T07:43:37.500156Z",
     "start_time": "2025-05-17T07:43:36.479280Z"
    }
   },
   "cell_type": "code",
   "source": [
    "base_model = tf.keras.applications.VGG19(\n",
    "    weights='imagenet',\n",
    "    include_top=False,\n",
    "    input_tensor=tf.keras.layers.Input(shape=(128, 110, 3)),\n",
    ")\n",
    "\n",
    "for layer in base_model.layers:\n",
    "    layer.trainable = False"
   ],
   "id": "a38969480decd6a6",
   "outputs": [],
   "execution_count": 8
  },
  {
   "metadata": {
    "ExecuteTime": {
     "end_time": "2025-05-17T07:43:37.642156Z",
     "start_time": "2025-05-17T07:43:37.533157Z"
    }
   },
   "cell_type": "code",
   "source": [
    "with tf.device('/CPU:0'):\n",
    "    model = tf.keras.Sequential([\n",
    "        base_model,\n",
    "        tf.keras.layers.Flatten(),\n",
    "        tf.keras.layers.Dropout(.5),\n",
    "        tf.keras.layers.Dense(512, activation='relu'),\n",
    "        tf.keras.layers.Dense(8, activation='softmax'),\n",
    "    ])\n",
    "    \n",
    "    model.compile(\n",
    "        optimizer=tf.keras.optimizers.Adam(),\n",
    "        loss=tf.keras.losses.SparseCategoricalCrossentropy(),\n",
    "        metrics=['accuracy'],\n",
    "    )"
   ],
   "id": "a34252231df934ad",
   "outputs": [],
   "execution_count": 9
  },
  {
   "metadata": {
    "ExecuteTime": {
     "end_time": "2025-05-17T07:43:38.354157Z",
     "start_time": "2025-05-17T07:43:37.674156Z"
    }
   },
   "cell_type": "code",
   "source": "plot_model(model, show_shapes=True)",
   "id": "ec227e73a0eef37",
   "outputs": [
    {
     "data": {
      "image/png": "[encoded data removed]",
      "text/plain": [
       "<IPython.core.display.Image object>"
      ]
     },
     "execution_count": 10,
     "metadata": {},
     "output_type": "execute_result"
    }
   ],
   "execution_count": 10
  },
  {
   "metadata": {
    "ExecuteTime": {
     "end_time": "2025-05-17T07:43:38.400156Z",
     "start_time": "2025-05-17T07:43:38.387157Z"
    }
   },
   "cell_type": "code",
   "source": [
    "early = tf.keras.callbacks.EarlyStopping(\n",
    "    monitor='val_loss',\n",
    "    restore_best_weights=True,\n",
    "    mode='min',\n",
    "    # start_from_epoch=2,\n",
    "    patience=5\n",
    ")\n",
    "\n",
    "checkpoint = tf.keras.callbacks.ModelCheckpoint(\n",
    "    filepath=os.path.join('model', 'best_model.keras'),\n",
    "    verbose=2,\n",
    "    save_best_only=True,\n",
    "    monitor='val_loss',\n",
    "    mode='min'\n",
    ")\n",
    "\n",
    "lr_scheduler = tf.keras.callbacks.ReduceLROnPlateau(monitor='val_loss',\n",
    "                                                    factor=0.2,\n",
    "                                                    min_lr=1e-6,\n",
    "                                                    patience=3,\n",
    "                                                    mode='min'\n",
    "                                                    )"
   ],
   "id": "11692b91042ecc9b",
   "outputs": [],
   "execution_count": 11
  },
  {
   "metadata": {},
   "cell_type": "code",
   "source": [
    "with tf.device('/GPU:0'):\n",
    "    history = model.fit(\n",
    "        x_audio_train,\n",
    "        y_audio_train,\n",
    "        validation_data=(x_audio_val, y_audio_val),\n",
    "        callbacks=[lr_scheduler],\n",
    "        epochs=100,\n",
    "        verbose=2,\n",
    "        batch_size=BATCH_SIZE,\n",
    "        steps_per_epoch=len(x_audio_train) // BATCH_SIZE,\n",
    "        validation_steps=len(x_audio_val) // BATCH_SIZE,\n",
    "    )\n"
   ],
   "id": "1a53f4cefc3629d1",
   "outputs": [],
   "execution_count": null
  },
  {
   "metadata": {},
   "cell_type": "markdown",
   "source": [
    "# Evaluate Model\n",
    "## Using the model.evaluate\n",
    "### using test set"
   ],
   "id": "3fb45f73c4c4a6e"
  },
  {
   "metadata": {
    "ExecuteTime": {
     "end_time": "2025-05-17T07:43:48.743366700Z",
     "start_time": "2025-05-10T13:46:06.464334Z"
    }
   },
   "cell_type": "code",
   "source": "print(model.evaluate(x_audio_test, y_audio_test, batch_size=BATCH_SIZE, steps=len(x_audio_test) // BATCH_SIZE))",
   "id": "b5a3f97562c807f2",
   "outputs": [
    {
     "name": "stdout",
     "output_type": "stream",
     "text": [
      "128/128 [==============================] - 6s 36ms/step - loss: 0.8059 - accuracy: 0.7971\n",
      "[0.8058531284332275, 0.797119140625]\n"
     ]
    }
   ],
   "execution_count": 12
  },
  {
   "metadata": {},
   "cell_type": "markdown",
   "source": "### Using validation set",
   "id": "2295aa8d2779cc45"
  },
  {
   "metadata": {
    "ExecuteTime": {
     "end_time": "2025-05-17T07:43:48.743366700Z",
     "start_time": "2025-05-10T13:46:13.168149Z"
    }
   },
   "cell_type": "code",
   "source": "print(model.evaluate(x_audio_val, y_audio_val, batch_size=BATCH_SIZE, steps=len(x_audio_val) // BATCH_SIZE))",
   "id": "4a7d091b99a7d597",
   "outputs": [
    {
     "name": "stdout",
     "output_type": "stream",
     "text": [
      "128/128 [==============================] - 5s 35ms/step - loss: 0.8005 - accuracy: 0.7964\n",
      "[0.8005247712135315, 0.79638671875]\n"
     ]
    }
   ],
   "execution_count": 13
  },
  {
   "metadata": {
    "ExecuteTime": {
     "end_time": "2025-05-17T07:43:48.748365600Z",
     "start_time": "2025-05-10T13:46:18.696550Z"
    }
   },
   "cell_type": "code",
   "source": [
    "def plot_and_save(metric_name, history, ylabel, filename):\n",
    "    plt.figure()\n",
    "    plt.plot(history.history[metric_name], label=f'Train {ylabel}')\n",
    "    if f'val_{metric_name}' in history.history:\n",
    "        plt.plot(history.history[f'val_{metric_name}'], label=f'Val {ylabel}')\n",
    "    plt.title(f'{ylabel} over Epochs')\n",
    "    plt.xlabel('Epochs')\n",
    "    plt.ylabel(ylabel)\n",
    "    plt.legend()\n",
    "    plt.grid(True)\n",
    "    plt.savefig(filename)\n",
    "    plt.close()"
   ],
   "id": "c199f1606d7de37e",
   "outputs": [],
   "execution_count": 14
  },
  {
   "metadata": {
    "ExecuteTime": {
     "end_time": "2025-05-17T07:43:48.749366800Z",
     "start_time": "2025-05-10T13:46:18.775551Z"
    }
   },
   "cell_type": "code",
   "source": [
    "plot_and_save('loss', history, 'Audio_Loss', 'Audio_loss_plot-nolr.png')\n",
    "plot_and_save('accuracy', history, 'Audio Classification Accuracy', 'Audio_class_accuracy_plot-nolr.png')"
   ],
   "id": "71e9eec9b69779d1",
   "outputs": [],
   "execution_count": 15
  },
  {
   "metadata": {
    "ExecuteTime": {
     "end_time": "2025-05-17T07:43:48.750366600Z",
     "start_time": "2025-05-10T13:46:19.072223Z"
    }
   },
   "cell_type": "code",
   "source": [
    "predictions = model.predict(x_audio_test)\n",
    "predictions = np.argmax(predictions, axis=1)"
   ],
   "id": "927152f09eb27b96",
   "outputs": [
    {
     "name": "stdout",
     "output_type": "stream",
     "text": [
      "129/129 [==============================] - 5s 39ms/step\n"
     ]
    }
   ],
   "execution_count": 16
  },
  {
   "metadata": {
    "ExecuteTime": {
     "end_time": "2025-05-17T07:43:48.751365900Z",
     "start_time": "2025-05-10T13:46:24.599594Z"
    }
   },
   "cell_type": "code",
   "source": [
    "classes = [x for x in os.listdir(AUDIO_PATH)]\n",
    "print(classes)"
   ],
   "id": "f6f12ae8d6fb1ff1",
   "outputs": [
    {
     "name": "stdout",
     "output_type": "stream",
     "text": [
      "['angry', 'calm', 'disgust', 'fear', 'happy', 'neutral', 'sad', 'surprise']\n"
     ]
    }
   ],
   "execution_count": 17
  },
  {
   "metadata": {
    "ExecuteTime": {
     "end_time": "2025-05-17T07:43:48.757365400Z",
     "start_time": "2025-05-10T13:46:24.646776Z"
    }
   },
   "cell_type": "code",
   "source": [
    "cm = confusion_matrix(y_audio_test, predictions)\n",
    "\n",
    "plt.figure(figsize=(10, 8))  # Set the figure size if needed\n",
    "sns.heatmap(cm, annot=True, cmap='Blues', fmt='g')\n",
    "\n",
    "plt.title('Confusion Matrix Audio', pad=20, fontsize=20, fontweight=\"bold\")\n",
    "plt.ylabel('Actual')\n",
    "plt.xlabel('Predicted')\n",
    "\n",
    "# Set ticks for the x and y axes using class names\n",
    "plt.xticks(ticks=range(len(classes)), labels=classes, rotation=45)\n",
    "plt.yticks(ticks=range(len(classes)), labels=classes, rotation=0)\n",
    "plt.savefig('confusion_matrix_audio.png', dpi=300, bbox_inches='tight')\n",
    "plt.show()"
   ],
   "id": "8f9a0727bc736f45",
   "outputs": [
    {
     "data": {
      "text/plain": [
       "<Figure size 1000x800 with 2 Axes>"
      ],
      "image/png": "[encoded data removed]"
     },
     "metadata": {},
     "output_type": "display_data"
    }
   ],
   "execution_count": 18
  },
  {
   "metadata": {
    "ExecuteTime": {
     "end_time": "2025-05-17T07:43:48.758366900Z",
     "start_time": "2025-05-10T13:46:25.088283Z"
    }
   },
   "cell_type": "code",
   "source": "print(classification_report(predictions, y_audio_test))",
   "id": "5d358e1eac861571",
   "outputs": [
    {
     "name": "stdout",
     "output_type": "stream",
     "text": [
      "              precision    recall  f1-score   support\n",
      "\n",
      "           0       0.81      0.83      0.82       640\n",
      "           1       0.69      0.76      0.73        85\n",
      "           2       0.80      0.74      0.77       729\n",
      "           3       0.75      0.78      0.77       628\n",
      "           4       0.80      0.80      0.80       627\n",
      "           5       0.84      0.82      0.83       553\n",
      "           6       0.79      0.82      0.80       617\n",
      "           7       0.84      0.81      0.82       232\n",
      "\n",
      "    accuracy                           0.80      4111\n",
      "   macro avg       0.79      0.80      0.79      4111\n",
      "weighted avg       0.80      0.80      0.80      4111\n",
      "\n"
     ]
    }
   ],
   "execution_count": 19
  },
  {
   "metadata": {},
   "cell_type": "code",
   "outputs": [],
   "execution_count": null,
   "source": "model.save('model_sc4_t3_audio.h5')",
   "id": "d542bf09407b4734"
  }
 ],
 "metadata": {
  "kernelspec": {
   "display_name": "Python 3",
   "language": "python",
   "name": "python3"
  },
  "language_info": {
   "codemirror_mode": {
    "name": "ipython",
    "version": 2
   },
   "file_extension": ".py",
   "mimetype": "text/x-python",
   "name": "python",
   "nbconvert_exporter": "python",
   "pygments_lexer": "ipython2",
   "version": "2.7.6"
  }
 },
 "nbformat": 4,
 "nbformat_minor": 5
}
