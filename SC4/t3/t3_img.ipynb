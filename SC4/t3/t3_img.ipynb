{
 "cells": [
  {
   "cell_type": "code",
   "id": "initial_id",
   "metadata": {
    "collapsed": true,
    "ExecuteTime": {
     "end_time": "2025-05-15T13:12:24.150421Z",
     "start_time": "2025-05-15T13:12:21.341707Z"
    }
   },
   "source": [
    "import tensorflow as tf\n",
    "import numpy as np\n",
    "import pandas as pd\n",
    "import seaborn as sns\n",
    "import os\n",
    "import gc\n",
    "\n",
    "from shared.utils import *\n",
    "from shared.local_path import *\n",
    "\n",
    "from matplotlib import pyplot as plt\n",
    "from sklearn.preprocessing import LabelEncoder\n",
    "from sklearn.model_selection import train_test_split\n",
    "from sklearn.metrics import confusion_matrix, classification_report"
   ],
   "outputs": [],
   "execution_count": 1
  },
  {
   "metadata": {},
   "cell_type": "markdown",
   "source": [
    "# Data Preprocessing\n",
    "## Image Data"
   ],
   "id": "1bb851ac4139d0b7"
  },
  {
   "metadata": {
    "ExecuteTime": {
     "end_time": "2025-05-15T13:12:26.537092Z",
     "start_time": "2025-05-15T13:12:24.684355Z"
    }
   },
   "cell_type": "code",
   "source": [
    "filepath = []\n",
    "label = []\n",
    "\n",
    "i = 0\n",
    "for classes in os.listdir(TRAIN_IMAGE_PATH):\n",
    "    for file in os.listdir(os.path.join(TRAIN_IMAGE_PATH, classes)):\n",
    "        path = os.path.join(TRAIN_IMAGE_PATH, classes, file)\n",
    "        filepath.append(path)\n",
    "        label.append(classes)\n",
    "\n",
    "train_df = pd.DataFrame({\n",
    "    'filepath': filepath,\n",
    "    'label': label\n",
    "})\n",
    "\n",
    "del filepath, label\n",
    "\n",
    "print(train_df.shape)\n",
    "print(train_df['label'].unique())\n",
    "train_df.head()"
   ],
   "id": "cc651108e86367ac",
   "outputs": [
    {
     "name": "stdout",
     "output_type": "stream",
     "text": [
      "(33228, 2)\n",
      "['angry' 'disgust' 'fear' 'happy' 'neutral' 'sad' 'surprise']\n"
     ]
    },
    {
     "data": {
      "text/plain": [
       "                                            filepath  label\n",
       "0  E:\\\\Skripsi\\data\\new_data\\train\\angry\\angry_0_...  angry\n",
       "1  E:\\\\Skripsi\\data\\new_data\\train\\angry\\angry_0_...  angry\n",
       "2  E:\\\\Skripsi\\data\\new_data\\train\\angry\\angry_0_...  angry\n",
       "3  E:\\\\Skripsi\\data\\new_data\\train\\angry\\angry_0_...  angry\n",
       "4  E:\\\\Skripsi\\data\\new_data\\train\\angry\\angry_0_...  angry"
      ],
      "text/html": [
       "<div>\n",
       "<style scoped>\n",
       "    .dataframe tbody tr th:only-of-type {\n",
       "        vertical-align: middle;\n",
       "    }\n",
       "\n",
       "    .dataframe tbody tr th {\n",
       "        vertical-align: top;\n",
       "    }\n",
       "\n",
       "    .dataframe thead th {\n",
       "        text-align: right;\n",
       "    }\n",
       "</style>\n",
       "<table border=\"1\" class=\"dataframe\">\n",
       "  <thead>\n",
       "    <tr style=\"text-align: right;\">\n",
       "      <th></th>\n",
       "      <th>filepath</th>\n",
       "      <th>label</th>\n",
       "    </tr>\n",
       "  </thead>\n",
       "  <tbody>\n",
       "    <tr>\n",
       "      <th>0</th>\n",
       "      <td>E:\\\\Skripsi\\data\\new_data\\train\\angry\\angry_0_...</td>\n",
       "      <td>angry</td>\n",
       "    </tr>\n",
       "    <tr>\n",
       "      <th>1</th>\n",
       "      <td>E:\\\\Skripsi\\data\\new_data\\train\\angry\\angry_0_...</td>\n",
       "      <td>angry</td>\n",
       "    </tr>\n",
       "    <tr>\n",
       "      <th>2</th>\n",
       "      <td>E:\\\\Skripsi\\data\\new_data\\train\\angry\\angry_0_...</td>\n",
       "      <td>angry</td>\n",
       "    </tr>\n",
       "    <tr>\n",
       "      <th>3</th>\n",
       "      <td>E:\\\\Skripsi\\data\\new_data\\train\\angry\\angry_0_...</td>\n",
       "      <td>angry</td>\n",
       "    </tr>\n",
       "    <tr>\n",
       "      <th>4</th>\n",
       "      <td>E:\\\\Skripsi\\data\\new_data\\train\\angry\\angry_0_...</td>\n",
       "      <td>angry</td>\n",
       "    </tr>\n",
       "  </tbody>\n",
       "</table>\n",
       "</div>"
      ]
     },
     "execution_count": 2,
     "metadata": {},
     "output_type": "execute_result"
    }
   ],
   "execution_count": 2
  },
  {
   "metadata": {
    "ExecuteTime": {
     "end_time": "2025-05-15T13:12:26.769967Z",
     "start_time": "2025-05-15T13:12:26.585724Z"
    }
   },
   "cell_type": "code",
   "source": [
    "filepath = []\n",
    "label = []\n",
    "\n",
    "i = 0\n",
    "for classes in os.listdir(TEST_IMAGE_PATH):\n",
    "    for file in os.listdir(os.path.join(TEST_IMAGE_PATH, classes)):\n",
    "        path = os.path.join(TEST_IMAGE_PATH, classes, file)\n",
    "        filepath.append(path)\n",
    "        label.append(classes)\n",
    "\n",
    "img_test_df = pd.DataFrame({\n",
    "    'filepath': filepath,\n",
    "    'label': label\n",
    "})\n",
    "\n",
    "del filepath, label\n",
    "\n",
    "print(img_test_df.shape)\n",
    "print(img_test_df['label'].unique())\n",
    "img_test_df.head()"
   ],
   "id": "7bdb41b7837c28d",
   "outputs": [
    {
     "name": "stdout",
     "output_type": "stream",
     "text": [
      "(7311, 2)\n",
      "['angry' 'disgust' 'fear' 'happy' 'neutral' 'sad' 'surprise']\n"
     ]
    },
    {
     "data": {
      "text/plain": [
       "                                            filepath  label\n",
       "0     E:\\\\Skripsi\\data\\new_data\\test\\angry\\Anger.jpg  angry\n",
       "1   E:\\\\Skripsi\\data\\new_data\\test\\angry\\Anger_1.jpg  angry\n",
       "2  E:\\\\Skripsi\\data\\new_data\\test\\angry\\Anger_10.jpg  angry\n",
       "3  E:\\\\Skripsi\\data\\new_data\\test\\angry\\Anger_11.jpg  angry\n",
       "4  E:\\\\Skripsi\\data\\new_data\\test\\angry\\Anger_12.jpg  angry"
      ],
      "text/html": [
       "<div>\n",
       "<style scoped>\n",
       "    .dataframe tbody tr th:only-of-type {\n",
       "        vertical-align: middle;\n",
       "    }\n",
       "\n",
       "    .dataframe tbody tr th {\n",
       "        vertical-align: top;\n",
       "    }\n",
       "\n",
       "    .dataframe thead th {\n",
       "        text-align: right;\n",
       "    }\n",
       "</style>\n",
       "<table border=\"1\" class=\"dataframe\">\n",
       "  <thead>\n",
       "    <tr style=\"text-align: right;\">\n",
       "      <th></th>\n",
       "      <th>filepath</th>\n",
       "      <th>label</th>\n",
       "    </tr>\n",
       "  </thead>\n",
       "  <tbody>\n",
       "    <tr>\n",
       "      <th>0</th>\n",
       "      <td>E:\\\\Skripsi\\data\\new_data\\test\\angry\\Anger.jpg</td>\n",
       "      <td>angry</td>\n",
       "    </tr>\n",
       "    <tr>\n",
       "      <th>1</th>\n",
       "      <td>E:\\\\Skripsi\\data\\new_data\\test\\angry\\Anger_1.jpg</td>\n",
       "      <td>angry</td>\n",
       "    </tr>\n",
       "    <tr>\n",
       "      <th>2</th>\n",
       "      <td>E:\\\\Skripsi\\data\\new_data\\test\\angry\\Anger_10.jpg</td>\n",
       "      <td>angry</td>\n",
       "    </tr>\n",
       "    <tr>\n",
       "      <th>3</th>\n",
       "      <td>E:\\\\Skripsi\\data\\new_data\\test\\angry\\Anger_11.jpg</td>\n",
       "      <td>angry</td>\n",
       "    </tr>\n",
       "    <tr>\n",
       "      <th>4</th>\n",
       "      <td>E:\\\\Skripsi\\data\\new_data\\test\\angry\\Anger_12.jpg</td>\n",
       "      <td>angry</td>\n",
       "    </tr>\n",
       "  </tbody>\n",
       "</table>\n",
       "</div>"
      ]
     },
     "execution_count": 3,
     "metadata": {},
     "output_type": "execute_result"
    }
   ],
   "execution_count": 3
  },
  {
   "metadata": {
    "ExecuteTime": {
     "end_time": "2025-05-15T13:12:26.863981Z",
     "start_time": "2025-05-15T13:12:26.848981Z"
    }
   },
   "cell_type": "code",
   "source": [
    "le = LabelEncoder()\n",
    "le.fit(train_df['label'])\n",
    "train_df['label_encoded'] = le.transform(train_df['label'])\n",
    "img_test_df['label_encoded'] = le.transform(img_test_df['label'])"
   ],
   "id": "2f4087f0c6e8895f",
   "outputs": [],
   "execution_count": 4
  },
  {
   "metadata": {
    "ExecuteTime": {
     "end_time": "2025-05-15T13:12:46.660928Z",
     "start_time": "2025-05-15T13:12:26.927982Z"
    }
   },
   "cell_type": "code",
   "source": [
    "with tf.device('/GPU:0'):\n",
    "    train_df['data'] = train_df['filepath'].apply(lambda x: preprocess_image(x, (100, 100)))\n",
    "    img_test_df['data'] = img_test_df['filepath'].apply(lambda x: preprocess_image(x, (100, 100)))\n",
    "    train_df = train_df.sample(frac=1).reset_index(drop=True)\n",
    "    \n",
    "train_df.shape"
   ],
   "id": "37b5172bb389c3aa",
   "outputs": [
    {
     "data": {
      "text/plain": [
       "(33228, 4)"
      ]
     },
     "execution_count": 5,
     "metadata": {},
     "output_type": "execute_result"
    }
   ],
   "execution_count": 5
  },
  {
   "metadata": {
    "ExecuteTime": {
     "end_time": "2025-05-15T13:12:53.651622Z",
     "start_time": "2025-05-15T13:12:51.205848Z"
    }
   },
   "cell_type": "code",
   "source": [
    "x_img = np.stack(train_df['data'].values)\n",
    "y_img = train_df['label_encoded'].values\n",
    "\n",
    "x_img_val = np.stack(img_test_df['data'].values)\n",
    "y_img_val = img_test_df['label_encoded'].values\n",
    "del train_df, img_test_df"
   ],
   "id": "40ca85ff676eaba0",
   "outputs": [],
   "execution_count": 6
  },
  {
   "metadata": {
    "ExecuteTime": {
     "end_time": "2025-05-15T13:12:58.344419Z",
     "start_time": "2025-05-15T13:12:58.139419Z"
    }
   },
   "cell_type": "code",
   "source": [
    "x_img_train, x_img_test, y_img_train, y_img_test = train_test_split(x_img, y_img, test_size=0.2, random_state=100, stratify=y_img)\n",
    "del x_img, y_img"
   ],
   "id": "183726cda21bdfd6",
   "outputs": [],
   "execution_count": 7
  },
  {
   "metadata": {
    "ExecuteTime": {
     "end_time": "2025-05-15T13:13:26.454747Z",
     "start_time": "2025-05-15T13:13:26.440748Z"
    }
   },
   "cell_type": "code",
   "source": [
    "from collections import Counter\n",
    "\n",
    "print(Counter(y_img_train))\n",
    "print(Counter(y_img_val))\n",
    "print(Counter(y_img_test))"
   ],
   "id": "7c4f6ed4597ff002",
   "outputs": [
    {
     "name": "stdout",
     "output_type": "stream",
     "text": [
      "Counter({4: 3972, 5: 3864, 6: 3828, 3: 3800, 2: 3767, 0: 3753, 1: 3598})\n",
      "Counter({3: 1793, 5: 1266, 4: 1252, 2: 1043, 0: 977, 6: 850, 1: 130})\n",
      "Counter({4: 993, 5: 966, 6: 957, 3: 950, 2: 942, 0: 939, 1: 899})\n"
     ]
    }
   ],
   "execution_count": 9
  },
  {
   "metadata": {
    "ExecuteTime": {
     "end_time": "2025-05-15T13:14:12.973767Z",
     "start_time": "2025-05-15T13:14:12.963766Z"
    }
   },
   "cell_type": "code",
   "source": [
    "print(y_img_train.shape)\n",
    "print(y_img_val.shape)\n",
    "print(y_img_test.shape)"
   ],
   "id": "e88e9fd03dadbe17",
   "outputs": [
    {
     "name": "stdout",
     "output_type": "stream",
     "text": [
      "(26582,)\n",
      "(7311,)\n",
      "(6646,)\n"
     ]
    }
   ],
   "execution_count": 10
  },
  {
   "metadata": {},
   "cell_type": "markdown",
   "source": [
    "# Modeling\n",
    "## Model Image"
   ],
   "id": "b3d42e28b911fbe9"
  },
  {
   "metadata": {
    "ExecuteTime": {
     "end_time": "2025-05-15T13:14:30.838730Z",
     "start_time": "2025-05-15T13:14:30.160196Z"
    }
   },
   "cell_type": "code",
   "source": [
    "base_model = tf.keras.applications.VGG19(\n",
    "    weights='imagenet',\n",
    "    include_top=False,\n",
    "    input_tensor=tf.keras.layers.Input(shape=(100, 100, 3)),\n",
    ")\n",
    "\n",
    "for layer in base_model.layers:\n",
    "    layer.trainable = False"
   ],
   "id": "a38969480decd6a6",
   "outputs": [],
   "execution_count": 11
  },
  {
   "metadata": {
    "ExecuteTime": {
     "end_time": "2025-05-15T13:14:32.926262Z",
     "start_time": "2025-05-15T13:14:32.865263Z"
    }
   },
   "cell_type": "code",
   "source": [
    "model = tf.keras.Sequential([\n",
    "    base_model,\n",
    "    tf.keras.layers.Flatten(),\n",
    "    tf.keras.layers.Dense(512, activation='relu'),\n",
    "    tf.keras.layers.Dense(7, activation='softmax'),\n",
    "])\n",
    "\n",
    "model.compile(\n",
    "    optimizer=tf.keras.optimizers.Adam(),\n",
    "    loss=tf.keras.losses.SparseCategoricalCrossentropy(),\n",
    "    metrics=['accuracy'],\n",
    ")"
   ],
   "id": "a34252231df934ad",
   "outputs": [],
   "execution_count": 12
  },
  {
   "metadata": {
    "ExecuteTime": {
     "end_time": "2025-05-15T13:14:43.610517Z",
     "start_time": "2025-05-15T13:14:42.563227Z"
    }
   },
   "cell_type": "code",
   "source": "tf.keras.utils.plot_model(model, show_shapes=True)",
   "id": "ec227e73a0eef37",
   "outputs": [
    {
     "data": {
      "image/png": "[encoded data removed]",
      "text/plain": [
       "<IPython.core.display.Image object>"
      ]
     },
     "execution_count": 13,
     "metadata": {},
     "output_type": "execute_result"
    }
   ],
   "execution_count": 13
  },
  {
   "metadata": {
    "ExecuteTime": {
     "end_time": "2025-05-15T13:14:47.761292Z",
     "start_time": "2025-05-15T13:14:47.748293Z"
    }
   },
   "cell_type": "code",
   "source": [
    "early = tf.keras.callbacks.EarlyStopping(\n",
    "    monitor='val_loss',\n",
    "    restore_best_weights=True,\n",
    "    mode='min',\n",
    "    # start_from_epoch=2,\n",
    "    patience=5\n",
    ")\n",
    "\n",
    "checkpoint = tf.keras.callbacks.ModelCheckpoint(\n",
    "    filepath=os.path.join('model', 'best_model.keras'),\n",
    "    verbose=2,\n",
    "    save_best_only=True,\n",
    "    monitor='val_loss',\n",
    "    mode='min'\n",
    ")\n",
    "\n",
    "lr_scheduler = tf.keras.callbacks.ReduceLROnPlateau(monitor='val_loss',\n",
    "                                                    factor=0.2,\n",
    "                                                    min_lr=1e-6,\n",
    "                                                    patience=3,\n",
    "                                                    mode='min'\n",
    "                                                    )"
   ],
   "id": "11692b91042ecc9b",
   "outputs": [],
   "execution_count": 14
  },
  {
   "metadata": {
    "ExecuteTime": {
     "end_time": "2025-05-15T13:37:07.059020Z",
     "start_time": "2025-05-15T13:14:51.583298Z"
    }
   },
   "cell_type": "code",
   "source": [
    "history = model.fit(\n",
    "    x_img_train,\n",
    "    y_img_train,\n",
    "    validation_data=(x_img_val, y_img_val),\n",
    "    callbacks=[checkpoint, lr_scheduler],\n",
    "    epochs=50,\n",
    "    verbose=2,\n",
    "    batch_size=BATCH_SIZE,\n",
    "    steps_per_epoch=len(x_img_train) // BATCH_SIZE,\n",
    "    validation_steps=len(x_img_val) // BATCH_SIZE,\n",
    ")\n"
   ],
   "id": "1a53f4cefc3629d1",
   "outputs": [
    {
     "name": "stdout",
     "output_type": "stream",
     "text": [
      "Epoch 1/50\n",
      "\n",
      "Epoch 1: val_loss improved from inf to 1.63124, saving model to model\\best_model.keras\n",
      "415/415 - 33s - loss: 2.8668 - accuracy: 0.3575 - val_loss: 1.6312 - val_accuracy: 0.3714 - lr: 0.0010 - 33s/epoch - 81ms/step\n",
      "Epoch 2/50\n",
      "\n",
      "Epoch 2: val_loss improved from 1.63124 to 1.52117, saving model to model\\best_model.keras\n",
      "415/415 - 28s - loss: 1.3582 - accuracy: 0.4851 - val_loss: 1.5212 - val_accuracy: 0.4352 - lr: 0.0010 - 28s/epoch - 67ms/step\n",
      "Epoch 3/50\n",
      "\n",
      "Epoch 3: val_loss did not improve from 1.52117\n",
      "415/415 - 26s - loss: 1.1867 - accuracy: 0.5507 - val_loss: 1.5388 - val_accuracy: 0.4490 - lr: 0.0010 - 26s/epoch - 63ms/step\n",
      "Epoch 4/50\n",
      "\n",
      "Epoch 4: val_loss did not improve from 1.52117\n",
      "415/415 - 27s - loss: 1.0657 - accuracy: 0.5953 - val_loss: 1.5792 - val_accuracy: 0.4431 - lr: 0.0010 - 27s/epoch - 64ms/step\n",
      "Epoch 5/50\n",
      "\n",
      "Epoch 5: val_loss did not improve from 1.52117\n",
      "415/415 - 27s - loss: 0.9502 - accuracy: 0.6405 - val_loss: 1.6373 - val_accuracy: 0.4393 - lr: 0.0010 - 27s/epoch - 64ms/step\n",
      "Epoch 6/50\n",
      "\n",
      "Epoch 6: val_loss did not improve from 1.52117\n",
      "415/415 - 26s - loss: 0.7364 - accuracy: 0.7196 - val_loss: 1.6402 - val_accuracy: 0.4645 - lr: 2.0000e-04 - 26s/epoch - 63ms/step\n",
      "Epoch 7/50\n",
      "\n",
      "Epoch 7: val_loss did not improve from 1.52117\n",
      "415/415 - 27s - loss: 0.6406 - accuracy: 0.7570 - val_loss: 1.7261 - val_accuracy: 0.4664 - lr: 2.0000e-04 - 27s/epoch - 65ms/step\n",
      "Epoch 8/50\n",
      "\n",
      "Epoch 8: val_loss did not improve from 1.52117\n",
      "415/415 - 27s - loss: 0.5794 - accuracy: 0.7805 - val_loss: 1.8026 - val_accuracy: 0.4649 - lr: 2.0000e-04 - 27s/epoch - 64ms/step\n",
      "Epoch 9/50\n",
      "\n",
      "Epoch 9: val_loss did not improve from 1.52117\n",
      "415/415 - 27s - loss: 0.5011 - accuracy: 0.8160 - val_loss: 1.8553 - val_accuracy: 0.4716 - lr: 4.0000e-05 - 27s/epoch - 64ms/step\n",
      "Epoch 10/50\n",
      "\n",
      "Epoch 10: val_loss did not improve from 1.52117\n",
      "415/415 - 26s - loss: 0.4796 - accuracy: 0.8246 - val_loss: 1.8869 - val_accuracy: 0.4700 - lr: 4.0000e-05 - 26s/epoch - 64ms/step\n",
      "Epoch 11/50\n",
      "\n",
      "Epoch 11: val_loss did not improve from 1.52117\n",
      "415/415 - 26s - loss: 0.4621 - accuracy: 0.8326 - val_loss: 1.9354 - val_accuracy: 0.4671 - lr: 4.0000e-05 - 26s/epoch - 64ms/step\n",
      "Epoch 12/50\n",
      "\n",
      "Epoch 12: val_loss did not improve from 1.52117\n",
      "415/415 - 26s - loss: 0.4405 - accuracy: 0.8441 - val_loss: 1.9464 - val_accuracy: 0.4693 - lr: 8.0000e-06 - 26s/epoch - 64ms/step\n",
      "Epoch 13/50\n",
      "\n",
      "Epoch 13: val_loss did not improve from 1.52117\n",
      "415/415 - 26s - loss: 0.4402 - accuracy: 0.8433 - val_loss: 1.9534 - val_accuracy: 0.4694 - lr: 8.0000e-06 - 26s/epoch - 64ms/step\n",
      "Epoch 14/50\n",
      "\n",
      "Epoch 14: val_loss did not improve from 1.52117\n",
      "415/415 - 26s - loss: 0.4308 - accuracy: 0.8476 - val_loss: 1.9660 - val_accuracy: 0.4688 - lr: 8.0000e-06 - 26s/epoch - 64ms/step\n",
      "Epoch 15/50\n",
      "\n",
      "Epoch 15: val_loss did not improve from 1.52117\n",
      "415/415 - 26s - loss: 0.4283 - accuracy: 0.8486 - val_loss: 1.9674 - val_accuracy: 0.4697 - lr: 1.6000e-06 - 26s/epoch - 64ms/step\n",
      "Epoch 16/50\n",
      "\n",
      "Epoch 16: val_loss did not improve from 1.52117\n",
      "415/415 - 26s - loss: 0.4265 - accuracy: 0.8499 - val_loss: 1.9711 - val_accuracy: 0.4698 - lr: 1.6000e-06 - 26s/epoch - 63ms/step\n",
      "Epoch 17/50\n",
      "\n",
      "Epoch 17: val_loss did not improve from 1.52117\n",
      "415/415 - 26s - loss: 0.4279 - accuracy: 0.8492 - val_loss: 1.9736 - val_accuracy: 0.4703 - lr: 1.6000e-06 - 26s/epoch - 64ms/step\n",
      "Epoch 18/50\n",
      "\n",
      "Epoch 18: val_loss did not improve from 1.52117\n",
      "415/415 - 26s - loss: 0.4245 - accuracy: 0.8499 - val_loss: 1.9748 - val_accuracy: 0.4700 - lr: 1.0000e-06 - 26s/epoch - 64ms/step\n",
      "Epoch 19/50\n",
      "\n",
      "Epoch 19: val_loss did not improve from 1.52117\n",
      "415/415 - 27s - loss: 0.4253 - accuracy: 0.8497 - val_loss: 1.9772 - val_accuracy: 0.4703 - lr: 1.0000e-06 - 27s/epoch - 64ms/step\n",
      "Epoch 20/50\n",
      "\n",
      "Epoch 20: val_loss did not improve from 1.52117\n",
      "415/415 - 27s - loss: 0.4230 - accuracy: 0.8509 - val_loss: 1.9780 - val_accuracy: 0.4698 - lr: 1.0000e-06 - 27s/epoch - 64ms/step\n",
      "Epoch 21/50\n",
      "\n",
      "Epoch 21: val_loss did not improve from 1.52117\n",
      "415/415 - 27s - loss: 0.4247 - accuracy: 0.8507 - val_loss: 1.9802 - val_accuracy: 0.4698 - lr: 1.0000e-06 - 27s/epoch - 64ms/step\n",
      "Epoch 22/50\n",
      "\n",
      "Epoch 22: val_loss did not improve from 1.52117\n",
      "415/415 - 27s - loss: 0.4209 - accuracy: 0.8512 - val_loss: 1.9813 - val_accuracy: 0.4698 - lr: 1.0000e-06 - 27s/epoch - 64ms/step\n",
      "Epoch 23/50\n",
      "\n",
      "Epoch 23: val_loss did not improve from 1.52117\n",
      "415/415 - 27s - loss: 0.4242 - accuracy: 0.8500 - val_loss: 1.9827 - val_accuracy: 0.4697 - lr: 1.0000e-06 - 27s/epoch - 64ms/step\n",
      "Epoch 24/50\n",
      "\n",
      "Epoch 24: val_loss did not improve from 1.52117\n",
      "415/415 - 26s - loss: 0.4216 - accuracy: 0.8515 - val_loss: 1.9848 - val_accuracy: 0.4697 - lr: 1.0000e-06 - 26s/epoch - 64ms/step\n",
      "Epoch 25/50\n",
      "\n",
      "Epoch 25: val_loss did not improve from 1.52117\n",
      "415/415 - 27s - loss: 0.4205 - accuracy: 0.8514 - val_loss: 1.9863 - val_accuracy: 0.4700 - lr: 1.0000e-06 - 27s/epoch - 64ms/step\n",
      "Epoch 26/50\n",
      "\n",
      "Epoch 26: val_loss did not improve from 1.52117\n",
      "415/415 - 26s - loss: 0.4212 - accuracy: 0.8508 - val_loss: 1.9879 - val_accuracy: 0.4697 - lr: 1.0000e-06 - 26s/epoch - 64ms/step\n",
      "Epoch 27/50\n",
      "\n",
      "Epoch 27: val_loss did not improve from 1.52117\n",
      "415/415 - 26s - loss: 0.4200 - accuracy: 0.8522 - val_loss: 1.9897 - val_accuracy: 0.4694 - lr: 1.0000e-06 - 26s/epoch - 64ms/step\n",
      "Epoch 28/50\n",
      "\n",
      "Epoch 28: val_loss did not improve from 1.52117\n",
      "415/415 - 26s - loss: 0.4180 - accuracy: 0.8525 - val_loss: 1.9915 - val_accuracy: 0.4694 - lr: 1.0000e-06 - 26s/epoch - 64ms/step\n",
      "Epoch 29/50\n",
      "\n",
      "Epoch 29: val_loss did not improve from 1.52117\n",
      "415/415 - 26s - loss: 0.4175 - accuracy: 0.8533 - val_loss: 1.9928 - val_accuracy: 0.4693 - lr: 1.0000e-06 - 26s/epoch - 64ms/step\n",
      "Epoch 30/50\n",
      "\n",
      "Epoch 30: val_loss did not improve from 1.52117\n",
      "415/415 - 26s - loss: 0.4200 - accuracy: 0.8518 - val_loss: 1.9947 - val_accuracy: 0.4692 - lr: 1.0000e-06 - 26s/epoch - 64ms/step\n",
      "Epoch 31/50\n",
      "\n",
      "Epoch 31: val_loss did not improve from 1.52117\n",
      "415/415 - 26s - loss: 0.4166 - accuracy: 0.8523 - val_loss: 1.9960 - val_accuracy: 0.4693 - lr: 1.0000e-06 - 26s/epoch - 64ms/step\n",
      "Epoch 32/50\n",
      "\n",
      "Epoch 32: val_loss did not improve from 1.52117\n",
      "415/415 - 26s - loss: 0.4174 - accuracy: 0.8524 - val_loss: 1.9973 - val_accuracy: 0.4692 - lr: 1.0000e-06 - 26s/epoch - 63ms/step\n",
      "Epoch 33/50\n",
      "\n",
      "Epoch 33: val_loss did not improve from 1.52117\n",
      "415/415 - 26s - loss: 0.4175 - accuracy: 0.8526 - val_loss: 1.9990 - val_accuracy: 0.4696 - lr: 1.0000e-06 - 26s/epoch - 64ms/step\n",
      "Epoch 34/50\n",
      "\n",
      "Epoch 34: val_loss did not improve from 1.52117\n",
      "415/415 - 26s - loss: 0.4151 - accuracy: 0.8530 - val_loss: 2.0010 - val_accuracy: 0.4690 - lr: 1.0000e-06 - 26s/epoch - 64ms/step\n",
      "Epoch 35/50\n",
      "\n",
      "Epoch 35: val_loss did not improve from 1.52117\n",
      "415/415 - 26s - loss: 0.4143 - accuracy: 0.8538 - val_loss: 2.0024 - val_accuracy: 0.4692 - lr: 1.0000e-06 - 26s/epoch - 64ms/step\n",
      "Epoch 36/50\n",
      "\n",
      "Epoch 36: val_loss did not improve from 1.52117\n",
      "415/415 - 26s - loss: 0.4139 - accuracy: 0.8541 - val_loss: 2.0037 - val_accuracy: 0.4692 - lr: 1.0000e-06 - 26s/epoch - 64ms/step\n",
      "Epoch 37/50\n",
      "\n",
      "Epoch 37: val_loss did not improve from 1.52117\n",
      "415/415 - 26s - loss: 0.4148 - accuracy: 0.8533 - val_loss: 2.0050 - val_accuracy: 0.4686 - lr: 1.0000e-06 - 26s/epoch - 64ms/step\n",
      "Epoch 38/50\n",
      "\n",
      "Epoch 38: val_loss did not improve from 1.52117\n",
      "415/415 - 26s - loss: 0.4151 - accuracy: 0.8540 - val_loss: 2.0069 - val_accuracy: 0.4685 - lr: 1.0000e-06 - 26s/epoch - 64ms/step\n",
      "Epoch 39/50\n",
      "\n",
      "Epoch 39: val_loss did not improve from 1.52117\n",
      "415/415 - 26s - loss: 0.4103 - accuracy: 0.8560 - val_loss: 2.0081 - val_accuracy: 0.4689 - lr: 1.0000e-06 - 26s/epoch - 63ms/step\n",
      "Epoch 40/50\n",
      "\n",
      "Epoch 40: val_loss did not improve from 1.52117\n",
      "415/415 - 26s - loss: 0.4140 - accuracy: 0.8544 - val_loss: 2.0107 - val_accuracy: 0.4685 - lr: 1.0000e-06 - 26s/epoch - 64ms/step\n",
      "Epoch 41/50\n",
      "\n",
      "Epoch 41: val_loss did not improve from 1.52117\n",
      "415/415 - 26s - loss: 0.4124 - accuracy: 0.8555 - val_loss: 2.0114 - val_accuracy: 0.4683 - lr: 1.0000e-06 - 26s/epoch - 64ms/step\n",
      "Epoch 42/50\n",
      "\n",
      "Epoch 42: val_loss did not improve from 1.52117\n",
      "415/415 - 26s - loss: 0.4117 - accuracy: 0.8541 - val_loss: 2.0132 - val_accuracy: 0.4690 - lr: 1.0000e-06 - 26s/epoch - 64ms/step\n",
      "Epoch 43/50\n",
      "\n",
      "Epoch 43: val_loss did not improve from 1.52117\n",
      "415/415 - 26s - loss: 0.4112 - accuracy: 0.8570 - val_loss: 2.0147 - val_accuracy: 0.4692 - lr: 1.0000e-06 - 26s/epoch - 64ms/step\n",
      "Epoch 44/50\n",
      "\n",
      "Epoch 44: val_loss did not improve from 1.52117\n",
      "415/415 - 27s - loss: 0.4097 - accuracy: 0.8557 - val_loss: 2.0163 - val_accuracy: 0.4694 - lr: 1.0000e-06 - 27s/epoch - 66ms/step\n",
      "Epoch 45/50\n",
      "\n",
      "Epoch 45: val_loss did not improve from 1.52117\n",
      "415/415 - 27s - loss: 0.4087 - accuracy: 0.8566 - val_loss: 2.0177 - val_accuracy: 0.4689 - lr: 1.0000e-06 - 27s/epoch - 64ms/step\n",
      "Epoch 46/50\n",
      "\n",
      "Epoch 46: val_loss did not improve from 1.52117\n",
      "415/415 - 27s - loss: 0.4074 - accuracy: 0.8582 - val_loss: 2.0193 - val_accuracy: 0.4689 - lr: 1.0000e-06 - 27s/epoch - 65ms/step\n",
      "Epoch 47/50\n",
      "\n",
      "Epoch 47: val_loss did not improve from 1.52117\n",
      "415/415 - 27s - loss: 0.4081 - accuracy: 0.8552 - val_loss: 2.0208 - val_accuracy: 0.4688 - lr: 1.0000e-06 - 27s/epoch - 65ms/step\n",
      "Epoch 48/50\n",
      "\n",
      "Epoch 48: val_loss did not improve from 1.52117\n",
      "415/415 - 26s - loss: 0.4089 - accuracy: 0.8571 - val_loss: 2.0228 - val_accuracy: 0.4692 - lr: 1.0000e-06 - 26s/epoch - 64ms/step\n",
      "Epoch 49/50\n",
      "\n",
      "Epoch 49: val_loss did not improve from 1.52117\n",
      "415/415 - 28s - loss: 0.4039 - accuracy: 0.8581 - val_loss: 2.0241 - val_accuracy: 0.4693 - lr: 1.0000e-06 - 28s/epoch - 66ms/step\n",
      "Epoch 50/50\n",
      "\n",
      "Epoch 50: val_loss did not improve from 1.52117\n",
      "415/415 - 27s - loss: 0.4097 - accuracy: 0.8568 - val_loss: 2.0254 - val_accuracy: 0.4696 - lr: 1.0000e-06 - 27s/epoch - 64ms/step\n"
     ]
    }
   ],
   "execution_count": 15
  },
  {
   "metadata": {},
   "cell_type": "markdown",
   "source": [
    "# Evaluate Model\n",
    "## Using the model.evaluate\n",
    "### using test set"
   ],
   "id": "3fb45f73c4c4a6e"
  },
  {
   "metadata": {
    "ExecuteTime": {
     "end_time": "2025-05-15T13:37:12.781325Z",
     "start_time": "2025-05-15T13:37:07.141964Z"
    }
   },
   "cell_type": "code",
   "source": "print(model.evaluate(x_img_test, y_img_test, batch_size=BATCH_SIZE, steps=len(x_img_test) // BATCH_SIZE))",
   "id": "b5a3f97562c807f2",
   "outputs": [
    {
     "name": "stdout",
     "output_type": "stream",
     "text": [
      "103/103 [==============================] - 5s 53ms/step - loss: 1.7691 - accuracy: 0.5281\n",
      "[1.7690691947937012, 0.5280643105506897]\n"
     ]
    }
   ],
   "execution_count": 16
  },
  {
   "metadata": {},
   "cell_type": "markdown",
   "source": "### Using validation set",
   "id": "2295aa8d2779cc45"
  },
  {
   "metadata": {
    "ExecuteTime": {
     "end_time": "2025-05-15T13:37:19.126026Z",
     "start_time": "2025-05-15T13:37:12.813487Z"
    }
   },
   "cell_type": "code",
   "source": "print(model.evaluate(x_img_val, y_img_val, batch_size=BATCH_SIZE, steps=len(x_img_val) // BATCH_SIZE))",
   "id": "4a7d091b99a7d597",
   "outputs": [
    {
     "name": "stdout",
     "output_type": "stream",
     "text": [
      "114/114 [==============================] - 6s 54ms/step - loss: 2.0254 - accuracy: 0.4696\n",
      "[2.0254015922546387, 0.46957236528396606]\n"
     ]
    }
   ],
   "execution_count": 17
  },
  {
   "metadata": {
    "ExecuteTime": {
     "end_time": "2025-05-15T13:37:19.157181Z",
     "start_time": "2025-05-15T13:37:19.143030Z"
    }
   },
   "cell_type": "code",
   "source": [
    "def plot_and_save(metric_name, history, ylabel, filename):\n",
    "    plt.figure()\n",
    "    plt.plot(history.history[metric_name], label=f'Train {ylabel}')\n",
    "    if f'val_{metric_name}' in history.history:\n",
    "        plt.plot(history.history[f'val_{metric_name}'], label=f'Val {ylabel}')\n",
    "    plt.title(f'{ylabel} over Epochs')\n",
    "    plt.xlabel('Epochs')\n",
    "    plt.ylabel(ylabel)\n",
    "    plt.legend()\n",
    "    plt.grid(True)\n",
    "    plt.savefig(filename)\n",
    "    plt.close()"
   ],
   "id": "c199f1606d7de37e",
   "outputs": [],
   "execution_count": 18
  },
  {
   "metadata": {
    "ExecuteTime": {
     "end_time": "2025-05-15T13:37:19.395205Z",
     "start_time": "2025-05-15T13:37:19.174186Z"
    }
   },
   "cell_type": "code",
   "source": [
    "plot_and_save('loss', history, 'Loss', 'image_loss_plot.png')\n",
    "plot_and_save('accuracy', history, 'Image Classification Accuracy', 'image_class_accuracy_plot.png')"
   ],
   "id": "71e9eec9b69779d1",
   "outputs": [],
   "execution_count": 19
  },
  {
   "metadata": {
    "ExecuteTime": {
     "end_time": "2025-05-15T13:37:25.788308Z",
     "start_time": "2025-05-15T13:37:19.428212Z"
    }
   },
   "cell_type": "code",
   "source": [
    "predictions = model.predict(x_img_test)\n",
    "predictions = np.argmax(predictions, axis=1)"
   ],
   "id": "927152f09eb27b96",
   "outputs": [
    {
     "name": "stdout",
     "output_type": "stream",
     "text": [
      "208/208 [==============================] - 6s 25ms/step\n"
     ]
    }
   ],
   "execution_count": 20
  },
  {
   "metadata": {
    "ExecuteTime": {
     "end_time": "2025-05-15T13:37:25.819818Z",
     "start_time": "2025-05-15T13:37:25.804820Z"
    }
   },
   "cell_type": "code",
   "source": [
    "classes = [x for x in os.listdir(TRAIN_IMAGE_PATH)]\n",
    "print(classes)"
   ],
   "id": "f6f12ae8d6fb1ff1",
   "outputs": [
    {
     "name": "stdout",
     "output_type": "stream",
     "text": [
      "['angry', 'disgust', 'fear', 'happy', 'neutral', 'sad', 'surprise']\n"
     ]
    }
   ],
   "execution_count": 21
  },
  {
   "metadata": {
    "ExecuteTime": {
     "end_time": "2025-05-15T13:37:26.433644Z",
     "start_time": "2025-05-15T13:37:25.836822Z"
    }
   },
   "cell_type": "code",
   "source": [
    "cm = confusion_matrix(y_img_test, predictions)\n",
    "\n",
    "plt.figure(figsize=(10, 8))  # Set the figure size if needed\n",
    "sns.heatmap(cm, annot=True, cmap='Blues', fmt='g')\n",
    "\n",
    "plt.title('Confusion Matrix Image', pad=20, fontsize=20, fontweight=\"bold\")\n",
    "plt.ylabel('Actual')\n",
    "plt.xlabel('Predicted')\n",
    "\n",
    "# Set ticks for the x and y axes using class names\n",
    "plt.xticks(ticks=range(len(classes)), labels=classes, rotation=45)\n",
    "plt.yticks(ticks=range(len(classes)), labels=classes, rotation=0)\n",
    "plt.savefig('confusion_matrix_img.png', dpi=300, bbox_inches='tight')\n",
    "plt.show()"
   ],
   "id": "8f9a0727bc736f45",
   "outputs": [
    {
     "data": {
      "text/plain": [
       "<Figure size 1000x800 with 2 Axes>"
      ],
      "image/png": "[encoded data removed]"
     },
     "metadata": {},
     "output_type": "display_data"
    }
   ],
   "execution_count": 22
  },
  {
   "metadata": {
    "ExecuteTime": {
     "end_time": "2025-05-15T13:37:27.541389Z",
     "start_time": "2025-05-15T13:37:27.527390Z"
    }
   },
   "cell_type": "code",
   "source": "print(classification_report(predictions, y_img_test))",
   "id": "5d358e1eac861571",
   "outputs": [
    {
     "name": "stdout",
     "output_type": "stream",
     "text": [
      "              precision    recall  f1-score   support\n",
      "\n",
      "           0       0.37      0.41      0.39       843\n",
      "           1       0.79      0.79      0.79       907\n",
      "           2       0.33      0.38      0.35       835\n",
      "           3       0.61      0.59      0.60       985\n",
      "           4       0.51      0.46      0.48      1097\n",
      "           5       0.42      0.40      0.41      1024\n",
      "           6       0.66      0.67      0.67       955\n",
      "\n",
      "    accuracy                           0.53      6646\n",
      "   macro avg       0.53      0.53      0.53      6646\n",
      "weighted avg       0.53      0.53      0.53      6646\n",
      "\n"
     ]
    }
   ],
   "execution_count": 23
  },
  {
   "metadata": {
    "ExecuteTime": {
     "end_time": "2025-05-15T13:37:27.933595Z",
     "start_time": "2025-05-15T13:37:27.558392Z"
    }
   },
   "cell_type": "code",
   "source": "model.save('model_img.h5')",
   "id": "f6d8b8f5f49903b2",
   "outputs": [],
   "execution_count": 24
  },
  {
   "metadata": {},
   "cell_type": "code",
   "outputs": [],
   "execution_count": null,
   "source": "",
   "id": "b0cbfcabae61491f"
  }
 ],
 "metadata": {
  "kernelspec": {
   "display_name": "Python 3",
   "language": "python",
   "name": "python3"
  },
  "language_info": {
   "codemirror_mode": {
    "name": "ipython",
    "version": 2
   },
   "file_extension": ".py",
   "mimetype": "text/x-python",
   "name": "python",
   "nbconvert_exporter": "python",
   "pygments_lexer": "ipython2",
   "version": "2.7.6"
  }
 },
 "nbformat": 4,
 "nbformat_minor": 5
}
