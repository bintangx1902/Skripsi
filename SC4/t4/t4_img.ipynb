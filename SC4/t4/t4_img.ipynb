{
 "cells": [
  {
   "cell_type": "code",
   "id": "initial_id",
   "metadata": {
    "collapsed": true,
    "ExecuteTime": {
     "end_time": "2025-05-16T14:24:51.590106Z",
     "start_time": "2025-05-16T14:24:47.780254Z"
    }
   },
   "source": [
    "import tensorflow as tf\n",
    "import numpy as np\n",
    "import pandas as pd\n",
    "import seaborn as sns\n",
    "import os\n",
    "import gc\n",
    "\n",
    "from shared.utils import *\n",
    "from shared.local_path import *\n",
    "\n",
    "from matplotlib import pyplot as plt\n",
    "from sklearn.preprocessing import LabelEncoder\n",
    "from sklearn.model_selection import train_test_split\n",
    "from sklearn.metrics import confusion_matrix, classification_report"
   ],
   "outputs": [],
   "execution_count": 1
  },
  {
   "metadata": {
    "ExecuteTime": {
     "end_time": "2025-05-16T14:24:51.980902Z",
     "start_time": "2025-05-16T14:24:51.604576Z"
    }
   },
   "cell_type": "code",
   "source": [
    "filepath = []\n",
    "label = []\n",
    "\n",
    "i = 0\n",
    "for classes in os.listdir(TRAIN_IMAGE_PATH):\n",
    "    for file in os.listdir(os.path.join(TRAIN_IMAGE_PATH, classes)):\n",
    "        path = os.path.join(TRAIN_IMAGE_PATH, classes, file)\n",
    "        filepath.append(path)\n",
    "        label.append(classes)\n",
    "\n",
    "train_df = pd.DataFrame({\n",
    "    'filepath': filepath,\n",
    "    'label': label\n",
    "})\n",
    "\n",
    "del filepath, label\n",
    "\n",
    "print(train_df.shape)\n",
    "print(train_df['label'].unique())\n",
    "train_df.head()"
   ],
   "id": "b18e21f91c919afc",
   "outputs": [
    {
     "name": "stdout",
     "output_type": "stream",
     "text": [
      "(33348, 2)\n",
      "['angry' 'disgust' 'fear' 'happy' 'neutral' 'sad' 'surprise']\n"
     ]
    },
    {
     "data": {
      "text/plain": [
       "                                            filepath  label\n",
       "0  E:\\\\Skripsi\\data\\new_data\\train\\angry\\angry_0_...  angry\n",
       "1  E:\\\\Skripsi\\data\\new_data\\train\\angry\\angry_0_...  angry\n",
       "2  E:\\\\Skripsi\\data\\new_data\\train\\angry\\angry_0_...  angry\n",
       "3  E:\\\\Skripsi\\data\\new_data\\train\\angry\\angry_0_...  angry\n",
       "4  E:\\\\Skripsi\\data\\new_data\\train\\angry\\angry_0_...  angry"
      ],
      "text/html": [
       "<div>\n",
       "<style scoped>\n",
       "    .dataframe tbody tr th:only-of-type {\n",
       "        vertical-align: middle;\n",
       "    }\n",
       "\n",
       "    .dataframe tbody tr th {\n",
       "        vertical-align: top;\n",
       "    }\n",
       "\n",
       "    .dataframe thead th {\n",
       "        text-align: right;\n",
       "    }\n",
       "</style>\n",
       "<table border=\"1\" class=\"dataframe\">\n",
       "  <thead>\n",
       "    <tr style=\"text-align: right;\">\n",
       "      <th></th>\n",
       "      <th>filepath</th>\n",
       "      <th>label</th>\n",
       "    </tr>\n",
       "  </thead>\n",
       "  <tbody>\n",
       "    <tr>\n",
       "      <th>0</th>\n",
       "      <td>E:\\\\Skripsi\\data\\new_data\\train\\angry\\angry_0_...</td>\n",
       "      <td>angry</td>\n",
       "    </tr>\n",
       "    <tr>\n",
       "      <th>1</th>\n",
       "      <td>E:\\\\Skripsi\\data\\new_data\\train\\angry\\angry_0_...</td>\n",
       "      <td>angry</td>\n",
       "    </tr>\n",
       "    <tr>\n",
       "      <th>2</th>\n",
       "      <td>E:\\\\Skripsi\\data\\new_data\\train\\angry\\angry_0_...</td>\n",
       "      <td>angry</td>\n",
       "    </tr>\n",
       "    <tr>\n",
       "      <th>3</th>\n",
       "      <td>E:\\\\Skripsi\\data\\new_data\\train\\angry\\angry_0_...</td>\n",
       "      <td>angry</td>\n",
       "    </tr>\n",
       "    <tr>\n",
       "      <th>4</th>\n",
       "      <td>E:\\\\Skripsi\\data\\new_data\\train\\angry\\angry_0_...</td>\n",
       "      <td>angry</td>\n",
       "    </tr>\n",
       "  </tbody>\n",
       "</table>\n",
       "</div>"
      ]
     },
     "execution_count": 2,
     "metadata": {},
     "output_type": "execute_result"
    }
   ],
   "execution_count": 2
  },
  {
   "metadata": {
    "ExecuteTime": {
     "end_time": "2025-05-16T08:44:11.814269Z",
     "start_time": "2025-05-16T08:44:11.788936Z"
    }
   },
   "cell_type": "code",
   "source": [
    "filepath = []\n",
    "label = []\n",
    "\n",
    "i = 0\n",
    "for classes in os.listdir(TEST_IMAGE_PATH):\n",
    "    for file in os.listdir(os.path.join(TEST_IMAGE_PATH, classes)):\n",
    "        path = os.path.join(TEST_IMAGE_PATH, classes, file)\n",
    "        filepath.append(path)\n",
    "        label.append(classes)\n",
    "\n",
    "img_test_df = pd.DataFrame({\n",
    "    'filepath': filepath,\n",
    "    'label': label\n",
    "})\n",
    "\n",
    "del filepath, label\n",
    "\n",
    "print(img_test_df.shape)\n",
    "print(img_test_df['label'].unique())\n",
    "img_test_df.head()"
   ],
   "id": "a2651b65ead0304",
   "outputs": [
    {
     "name": "stdout",
     "output_type": "stream",
     "text": [
      "(7831, 2)\n",
      "['angry' 'happy' 'surprise' 'disgust' 'fear' 'sad' 'neutral']\n"
     ]
    },
    {
     "data": {
      "text/plain": [
       "                                            filepath  label\n",
       "0  /kaggle/working/dataset/new_data/test/angry/Pu...  angry\n",
       "1  /kaggle/working/dataset/new_data/test/angry/Pr...  angry\n",
       "2  /kaggle/working/dataset/new_data/test/angry/Pu...  angry\n",
       "3  /kaggle/working/dataset/new_data/test/angry/Pr...  angry\n",
       "4  /kaggle/working/dataset/new_data/test/angry/Pr...  angry"
      ],
      "text/html": [
       "<div>\n",
       "<style scoped>\n",
       "    .dataframe tbody tr th:only-of-type {\n",
       "        vertical-align: middle;\n",
       "    }\n",
       "\n",
       "    .dataframe tbody tr th {\n",
       "        vertical-align: top;\n",
       "    }\n",
       "\n",
       "    .dataframe thead th {\n",
       "        text-align: right;\n",
       "    }\n",
       "</style>\n",
       "<table border=\"1\" class=\"dataframe\">\n",
       "  <thead>\n",
       "    <tr style=\"text-align: right;\">\n",
       "      <th></th>\n",
       "      <th>filepath</th>\n",
       "      <th>label</th>\n",
       "    </tr>\n",
       "  </thead>\n",
       "  <tbody>\n",
       "    <tr>\n",
       "      <th>0</th>\n",
       "      <td>/kaggle/working/dataset/new_data/test/angry/Pu...</td>\n",
       "      <td>angry</td>\n",
       "    </tr>\n",
       "    <tr>\n",
       "      <th>1</th>\n",
       "      <td>/kaggle/working/dataset/new_data/test/angry/Pr...</td>\n",
       "      <td>angry</td>\n",
       "    </tr>\n",
       "    <tr>\n",
       "      <th>2</th>\n",
       "      <td>/kaggle/working/dataset/new_data/test/angry/Pu...</td>\n",
       "      <td>angry</td>\n",
       "    </tr>\n",
       "    <tr>\n",
       "      <th>3</th>\n",
       "      <td>/kaggle/working/dataset/new_data/test/angry/Pr...</td>\n",
       "      <td>angry</td>\n",
       "    </tr>\n",
       "    <tr>\n",
       "      <th>4</th>\n",
       "      <td>/kaggle/working/dataset/new_data/test/angry/Pr...</td>\n",
       "      <td>angry</td>\n",
       "    </tr>\n",
       "  </tbody>\n",
       "</table>\n",
       "</div>"
      ]
     },
     "execution_count": 3,
     "metadata": {},
     "output_type": "execute_result"
    }
   ],
   "execution_count": 3
  },
  {
   "metadata": {
    "ExecuteTime": {
     "end_time": "2025-05-16T08:44:12.347310Z",
     "start_time": "2025-05-16T08:44:12.336671Z"
    }
   },
   "cell_type": "code",
   "source": [
    "le = LabelEncoder()\n",
    "le.fit(train_df['label'])\n",
    "train_df['label'] = le.transform(train_df['label'])\n",
    "img_test_df['label'] = le.transform(img_test_df['label'])"
   ],
   "id": "723270e0df09401",
   "outputs": [],
   "execution_count": 4
  },
  {
   "metadata": {
    "ExecuteTime": {
     "end_time": "2025-05-16T08:44:31.818088Z",
     "start_time": "2025-05-16T08:44:12.813546Z"
    }
   },
   "cell_type": "code",
   "source": [
    "with tf.device('/GPU:0'):\n",
    "    train_df['data'] = train_df['filepath'].apply(lambda x: preprocess_image(x, (100, 100)))\n",
    "    img_test_df['data'] = img_test_df['filepath'].apply(lambda x: preprocess_image(x, (100, 100)))"
   ],
   "id": "e4b4afadbd3b5668",
   "outputs": [],
   "execution_count": 5
  },
  {
   "metadata": {
    "ExecuteTime": {
     "end_time": "2025-05-16T08:44:32.121513Z",
     "start_time": "2025-05-16T08:44:32.100397Z"
    }
   },
   "cell_type": "code",
   "source": "img_train_df, img_val_df = train_test_split(train_df, test_size=0.2, random_state=42, shuffle=True)",
   "id": "7500c7c9801c23b2",
   "outputs": [],
   "execution_count": 6
  },
  {
   "metadata": {
    "ExecuteTime": {
     "end_time": "2025-05-16T08:44:37.716530Z",
     "start_time": "2025-05-16T08:44:32.432164Z"
    }
   },
   "cell_type": "code",
   "source": [
    "x_img_train = np.stack(img_train_df['data'].values)\n",
    "y_img_train = np.array(img_train_df['label'].values)\n",
    "\n",
    "x_img_val = np.stack(img_val_df['data'].values)\n",
    "y_img_val = np.array(img_val_df['label'].values)\n",
    "\n",
    "x_img_test = np.stack(img_test_df['data'].values)\n",
    "y_img_test = np.array(img_test_df['label'].values)\n",
    "\n",
    "del train_df, img_test_df, img_train_df, img_val_df"
   ],
   "id": "1be477342bdfe565",
   "outputs": [],
   "execution_count": 7
  },
  {
   "metadata": {
    "ExecuteTime": {
     "end_time": "2025-05-16T08:44:38.234794Z",
     "start_time": "2025-05-16T08:44:38.223456Z"
    }
   },
   "cell_type": "code",
   "source": [
    "from collections import Counter\n",
    "\n",
    "print(Counter(y_img_train))\n",
    "print(Counter(y_img_val))\n",
    "print(Counter(y_img_test))"
   ],
   "id": "29e88c46a3906220",
   "outputs": [
    {
     "name": "stdout",
     "output_type": "stream",
     "text": [
      "Counter({4: 3979, 2: 3859, 5: 3856, 3: 3824, 6: 3791, 0: 3784, 1: 3585})\n",
      "Counter({4: 986, 3: 976, 5: 974, 6: 959, 0: 938, 2: 936, 1: 901})\n",
      "Counter({5: 1266, 4: 1252, 3: 1250, 2: 1043, 0: 1025, 1: 1004, 6: 991})\n"
     ]
    }
   ],
   "execution_count": 8
  },
  {
   "metadata": {
    "ExecuteTime": {
     "end_time": "2025-05-16T08:44:38.718010Z",
     "start_time": "2025-05-16T08:44:38.714659Z"
    }
   },
   "cell_type": "code",
   "source": [
    "print(y_img_train.shape)\n",
    "print(y_img_val.shape)\n",
    "print(y_img_test.shape)"
   ],
   "id": "c9dcf39f07c32a2d",
   "outputs": [
    {
     "name": "stdout",
     "output_type": "stream",
     "text": [
      "(26678,)\n",
      "(6670,)\n",
      "(7831,)\n"
     ]
    }
   ],
   "execution_count": 9
  },
  {
   "metadata": {
    "ExecuteTime": {
     "end_time": "2025-05-16T08:44:51.556026Z",
     "start_time": "2025-05-16T08:44:48.303662Z"
    }
   },
   "cell_type": "code",
   "source": [
    "base_model = tf.keras.applications.VGG19(\n",
    "    weights='imagenet',\n",
    "    include_top=False,\n",
    "    input_tensor=tf.keras.layers.Input(shape=(100, 100, 3)),\n",
    ")\n",
    "\n",
    "for layer in base_model.layers:\n",
    "    layer.trainable = False"
   ],
   "id": "9e522fbeccefd01f",
   "outputs": [
    {
     "name": "stdout",
     "output_type": "stream",
     "text": [
      "Downloading data from https://storage.googleapis.com/tensorflow/keras-applications/vgg19/vgg19_weights_tf_dim_ordering_tf_kernels_notop.h5\n",
      "80134624/80134624 [==============================] - 3s 0us/step\n"
     ]
    }
   ],
   "execution_count": 10
  },
  {
   "metadata": {
    "ExecuteTime": {
     "end_time": "2025-05-16T08:44:52.269147Z",
     "start_time": "2025-05-16T08:44:52.137698Z"
    }
   },
   "cell_type": "code",
   "source": [
    "model = tf.keras.Sequential([\n",
    "    base_model,\n",
    "    tf.keras.layers.GlobalAveragePooling2D(),\n",
    "    tf.keras.layers.Dense(512, activation='relu'),\n",
    "    tf.keras.layers.Dropout(.5),\n",
    "    tf.keras.layers.Dense(7, activation='softmax'),\n",
    "])\n",
    "\n",
    "model.compile(\n",
    "    optimizer=tf.keras.optimizers.Adam(),\n",
    "    loss=tf.keras.losses.SparseCategoricalCrossentropy(),\n",
    "    metrics=['accuracy'],\n",
    ")"
   ],
   "id": "e35e86193412fa39",
   "outputs": [],
   "execution_count": 11
  },
  {
   "metadata": {
    "ExecuteTime": {
     "end_time": "2025-05-16T08:44:54.267691Z",
     "start_time": "2025-05-16T08:44:53.945941Z"
    }
   },
   "cell_type": "code",
   "source": "tf.keras.utils.plot_model(model, show_shapes=True)",
   "id": "291fed117f01a63d",
   "outputs": [
    {
     "data": {
      "image/png": "[encoded data removed]",
      "text/plain": [
       "<IPython.core.display.Image object>"
      ]
     },
     "execution_count": 12,
     "metadata": {},
     "output_type": "execute_result"
    }
   ],
   "execution_count": 12
  },
  {
   "metadata": {
    "ExecuteTime": {
     "end_time": "2025-05-16T08:44:55.400725Z",
     "start_time": "2025-05-16T08:44:55.396210Z"
    }
   },
   "cell_type": "code",
   "source": [
    "early = tf.keras.callbacks.EarlyStopping(\n",
    "    monitor='val_loss',\n",
    "    restore_best_weights=True,\n",
    "    mode='min',\n",
    "    # start_from_epoch=2,\n",
    "    patience=5\n",
    ")\n",
    "\n",
    "checkpoint = tf.keras.callbacks.ModelCheckpoint(\n",
    "    filepath=os.path.join('model', 'best_model.keras'),\n",
    "    verbose=2,\n",
    "    save_best_only=True,\n",
    "    monitor='val_loss',\n",
    "    mode='min'\n",
    ")\n",
    "\n",
    "lr_scheduler = tf.keras.callbacks.ReduceLROnPlateau(monitor='val_loss',\n",
    "                                                    factor=0.2,\n",
    "                                                    min_lr=1e-4,\n",
    "                                                    patience=3,\n",
    "                                                    mode='min'\n",
    "                                                    )"
   ],
   "id": "a2e1e4b9e9f48327",
   "outputs": [],
   "execution_count": 13
  },
  {
   "metadata": {
    "ExecuteTime": {
     "end_time": "2025-05-16T09:18:20.663103Z",
     "start_time": "2025-05-16T08:45:03.791930Z"
    }
   },
   "cell_type": "code",
   "source": [
    "history = model.fit(\n",
    "    x_img_train,\n",
    "    y_img_train,\n",
    "    validation_data=(x_img_val, y_img_val),\n",
    "    callbacks=[checkpoint, lr_scheduler],\n",
    "    epochs=100,\n",
    "    verbose=2,\n",
    "    batch_size=BATCH_SIZE,\n",
    "    # steps_per_epoch=len(x_img_train) // BATCH_SIZE,\n",
    "    # validation_steps=len(x_img_val) // BATCH_SIZE,\n",
    ")\n"
   ],
   "id": "df3e99bcf95944a7",
   "outputs": [
    {
     "name": "stdout",
     "output_type": "stream",
     "text": [
      "Epoch 1/100\n"
     ]
    },
    {
     "name": "stderr",
     "output_type": "stream",
     "text": [
      "WARNING: All log messages before absl::InitializeLog() is called are written to STDERR\n",
      "I0000 00:00:1747385116.752354     148 device_compiler.h:186] Compiled cluster using XLA!  This line is logged at most once for the lifetime of the process.\n"
     ]
    },
    {
     "name": "stdout",
     "output_type": "stream",
     "text": [
      "\n",
      "Epoch 1: val_loss improved from inf to 1.58933, saving model to model/best_model.keras\n",
      "417/417 - 29s - loss: 1.6836 - accuracy: 0.3398 - val_loss: 1.5893 - val_accuracy: 0.3951 - lr: 0.0010 - 29s/epoch - 70ms/step\n",
      "Epoch 2/100\n",
      "\n",
      "Epoch 2: val_loss improved from 1.58933 to 1.54911, saving model to model/best_model.keras\n",
      "417/417 - 20s - loss: 1.5824 - accuracy: 0.3885 - val_loss: 1.5491 - val_accuracy: 0.4103 - lr: 0.0010 - 20s/epoch - 48ms/step\n",
      "Epoch 3/100\n",
      "\n",
      "Epoch 3: val_loss improved from 1.54911 to 1.51091, saving model to model/best_model.keras\n",
      "417/417 - 20s - loss: 1.5459 - accuracy: 0.4068 - val_loss: 1.5109 - val_accuracy: 0.4184 - lr: 0.0010 - 20s/epoch - 48ms/step\n",
      "Epoch 4/100\n",
      "\n",
      "Epoch 4: val_loss did not improve from 1.51091\n",
      "417/417 - 20s - loss: 1.5197 - accuracy: 0.4163 - val_loss: 1.5300 - val_accuracy: 0.4118 - lr: 0.0010 - 20s/epoch - 47ms/step\n",
      "Epoch 5/100\n",
      "\n",
      "Epoch 5: val_loss improved from 1.51091 to 1.49773, saving model to model/best_model.keras\n",
      "417/417 - 20s - loss: 1.5002 - accuracy: 0.4244 - val_loss: 1.4977 - val_accuracy: 0.4210 - lr: 0.0010 - 20s/epoch - 48ms/step\n",
      "Epoch 6/100\n",
      "\n",
      "Epoch 6: val_loss improved from 1.49773 to 1.48009, saving model to model/best_model.keras\n",
      "417/417 - 20s - loss: 1.4850 - accuracy: 0.4287 - val_loss: 1.4801 - val_accuracy: 0.4330 - lr: 0.0010 - 20s/epoch - 48ms/step\n",
      "Epoch 7/100\n",
      "\n",
      "Epoch 7: val_loss improved from 1.48009 to 1.47050, saving model to model/best_model.keras\n",
      "417/417 - 20s - loss: 1.4654 - accuracy: 0.4422 - val_loss: 1.4705 - val_accuracy: 0.4409 - lr: 0.0010 - 20s/epoch - 48ms/step\n",
      "Epoch 8/100\n",
      "\n",
      "Epoch 8: val_loss improved from 1.47050 to 1.46114, saving model to model/best_model.keras\n",
      "417/417 - 20s - loss: 1.4589 - accuracy: 0.4405 - val_loss: 1.4611 - val_accuracy: 0.4397 - lr: 0.0010 - 20s/epoch - 48ms/step\n",
      "Epoch 9/100\n",
      "\n",
      "Epoch 9: val_loss improved from 1.46114 to 1.45422, saving model to model/best_model.keras\n",
      "417/417 - 20s - loss: 1.4366 - accuracy: 0.4493 - val_loss: 1.4542 - val_accuracy: 0.4391 - lr: 0.0010 - 20s/epoch - 48ms/step\n",
      "Epoch 10/100\n",
      "\n",
      "Epoch 10: val_loss improved from 1.45422 to 1.44643, saving model to model/best_model.keras\n",
      "417/417 - 20s - loss: 1.4305 - accuracy: 0.4497 - val_loss: 1.4464 - val_accuracy: 0.4477 - lr: 0.0010 - 20s/epoch - 48ms/step\n",
      "Epoch 11/100\n",
      "\n",
      "Epoch 11: val_loss improved from 1.44643 to 1.43758, saving model to model/best_model.keras\n",
      "417/417 - 20s - loss: 1.4163 - accuracy: 0.4587 - val_loss: 1.4376 - val_accuracy: 0.4528 - lr: 0.0010 - 20s/epoch - 48ms/step\n",
      "Epoch 12/100\n",
      "\n",
      "Epoch 12: val_loss improved from 1.43758 to 1.43090, saving model to model/best_model.keras\n",
      "417/417 - 20s - loss: 1.4084 - accuracy: 0.4585 - val_loss: 1.4309 - val_accuracy: 0.4519 - lr: 0.0010 - 20s/epoch - 48ms/step\n",
      "Epoch 13/100\n",
      "\n",
      "Epoch 13: val_loss improved from 1.43090 to 1.42106, saving model to model/best_model.keras\n",
      "417/417 - 20s - loss: 1.3947 - accuracy: 0.4680 - val_loss: 1.4211 - val_accuracy: 0.4595 - lr: 0.0010 - 20s/epoch - 48ms/step\n",
      "Epoch 14/100\n",
      "\n",
      "Epoch 14: val_loss improved from 1.42106 to 1.41505, saving model to model/best_model.keras\n",
      "417/417 - 20s - loss: 1.3816 - accuracy: 0.4734 - val_loss: 1.4151 - val_accuracy: 0.4606 - lr: 0.0010 - 20s/epoch - 48ms/step\n",
      "Epoch 15/100\n",
      "\n",
      "Epoch 15: val_loss did not improve from 1.41505\n",
      "417/417 - 20s - loss: 1.3737 - accuracy: 0.4775 - val_loss: 1.4189 - val_accuracy: 0.4627 - lr: 0.0010 - 20s/epoch - 47ms/step\n",
      "Epoch 16/100\n",
      "\n",
      "Epoch 16: val_loss did not improve from 1.41505\n",
      "417/417 - 20s - loss: 1.3660 - accuracy: 0.4795 - val_loss: 1.4294 - val_accuracy: 0.4514 - lr: 0.0010 - 20s/epoch - 47ms/step\n",
      "Epoch 17/100\n",
      "\n",
      "Epoch 17: val_loss improved from 1.41505 to 1.40726, saving model to model/best_model.keras\n",
      "417/417 - 20s - loss: 1.3566 - accuracy: 0.4776 - val_loss: 1.4073 - val_accuracy: 0.4691 - lr: 0.0010 - 20s/epoch - 48ms/step\n",
      "Epoch 18/100\n",
      "\n",
      "Epoch 18: val_loss did not improve from 1.40726\n",
      "417/417 - 20s - loss: 1.3432 - accuracy: 0.4879 - val_loss: 1.4315 - val_accuracy: 0.4595 - lr: 0.0010 - 20s/epoch - 47ms/step\n",
      "Epoch 19/100\n",
      "\n",
      "Epoch 19: val_loss improved from 1.40726 to 1.40706, saving model to model/best_model.keras\n",
      "417/417 - 20s - loss: 1.3386 - accuracy: 0.4910 - val_loss: 1.4071 - val_accuracy: 0.4669 - lr: 0.0010 - 20s/epoch - 48ms/step\n",
      "Epoch 20/100\n",
      "\n",
      "Epoch 20: val_loss improved from 1.40706 to 1.40144, saving model to model/best_model.keras\n",
      "417/417 - 20s - loss: 1.3302 - accuracy: 0.4939 - val_loss: 1.4014 - val_accuracy: 0.4658 - lr: 0.0010 - 20s/epoch - 48ms/step\n",
      "Epoch 21/100\n",
      "\n",
      "Epoch 21: val_loss improved from 1.40144 to 1.39268, saving model to model/best_model.keras\n",
      "417/417 - 20s - loss: 1.3201 - accuracy: 0.4984 - val_loss: 1.3927 - val_accuracy: 0.4759 - lr: 0.0010 - 20s/epoch - 48ms/step\n",
      "Epoch 22/100\n",
      "\n",
      "Epoch 22: val_loss did not improve from 1.39268\n",
      "417/417 - 20s - loss: 1.3128 - accuracy: 0.4997 - val_loss: 1.3998 - val_accuracy: 0.4742 - lr: 0.0010 - 20s/epoch - 47ms/step\n",
      "Epoch 23/100\n",
      "\n",
      "Epoch 23: val_loss improved from 1.39268 to 1.39258, saving model to model/best_model.keras\n",
      "417/417 - 20s - loss: 1.3029 - accuracy: 0.5019 - val_loss: 1.3926 - val_accuracy: 0.4688 - lr: 0.0010 - 20s/epoch - 48ms/step\n",
      "Epoch 24/100\n",
      "\n",
      "Epoch 24: val_loss improved from 1.39258 to 1.38582, saving model to model/best_model.keras\n",
      "417/417 - 20s - loss: 1.2990 - accuracy: 0.5087 - val_loss: 1.3858 - val_accuracy: 0.4700 - lr: 0.0010 - 20s/epoch - 48ms/step\n",
      "Epoch 25/100\n",
      "\n",
      "Epoch 25: val_loss improved from 1.38582 to 1.38533, saving model to model/best_model.keras\n",
      "417/417 - 20s - loss: 1.2884 - accuracy: 0.5106 - val_loss: 1.3853 - val_accuracy: 0.4783 - lr: 0.0010 - 20s/epoch - 48ms/step\n",
      "Epoch 26/100\n",
      "\n",
      "Epoch 26: val_loss improved from 1.38533 to 1.38277, saving model to model/best_model.keras\n",
      "417/417 - 20s - loss: 1.2739 - accuracy: 0.5163 - val_loss: 1.3828 - val_accuracy: 0.4814 - lr: 0.0010 - 20s/epoch - 48ms/step\n",
      "Epoch 27/100\n",
      "\n",
      "Epoch 27: val_loss improved from 1.38277 to 1.38006, saving model to model/best_model.keras\n",
      "417/417 - 20s - loss: 1.2707 - accuracy: 0.5168 - val_loss: 1.3801 - val_accuracy: 0.4817 - lr: 0.0010 - 20s/epoch - 48ms/step\n",
      "Epoch 28/100\n",
      "\n",
      "Epoch 28: val_loss did not improve from 1.38006\n",
      "417/417 - 20s - loss: 1.2619 - accuracy: 0.5220 - val_loss: 1.3962 - val_accuracy: 0.4784 - lr: 0.0010 - 20s/epoch - 47ms/step\n",
      "Epoch 29/100\n",
      "\n",
      "Epoch 29: val_loss improved from 1.38006 to 1.36942, saving model to model/best_model.keras\n",
      "417/417 - 20s - loss: 1.2531 - accuracy: 0.5216 - val_loss: 1.3694 - val_accuracy: 0.4868 - lr: 0.0010 - 20s/epoch - 48ms/step\n",
      "Epoch 30/100\n",
      "\n",
      "Epoch 30: val_loss did not improve from 1.36942\n",
      "417/417 - 20s - loss: 1.2475 - accuracy: 0.5279 - val_loss: 1.3745 - val_accuracy: 0.4849 - lr: 0.0010 - 20s/epoch - 47ms/step\n",
      "Epoch 31/100\n",
      "\n",
      "Epoch 31: val_loss improved from 1.36942 to 1.36868, saving model to model/best_model.keras\n",
      "417/417 - 20s - loss: 1.2420 - accuracy: 0.5308 - val_loss: 1.3687 - val_accuracy: 0.4883 - lr: 0.0010 - 20s/epoch - 48ms/step\n",
      "Epoch 32/100\n",
      "\n",
      "Epoch 32: val_loss did not improve from 1.36868\n",
      "417/417 - 20s - loss: 1.2305 - accuracy: 0.5345 - val_loss: 1.3760 - val_accuracy: 0.4802 - lr: 0.0010 - 20s/epoch - 47ms/step\n",
      "Epoch 33/100\n",
      "\n",
      "Epoch 33: val_loss did not improve from 1.36868\n",
      "417/417 - 20s - loss: 1.2276 - accuracy: 0.5340 - val_loss: 1.3806 - val_accuracy: 0.4790 - lr: 0.0010 - 20s/epoch - 47ms/step\n",
      "Epoch 34/100\n",
      "\n",
      "Epoch 34: val_loss improved from 1.36868 to 1.36582, saving model to model/best_model.keras\n",
      "417/417 - 20s - loss: 1.2181 - accuracy: 0.5400 - val_loss: 1.3658 - val_accuracy: 0.4870 - lr: 0.0010 - 20s/epoch - 48ms/step\n",
      "Epoch 35/100\n",
      "\n",
      "Epoch 35: val_loss did not improve from 1.36582\n",
      "417/417 - 20s - loss: 1.2059 - accuracy: 0.5420 - val_loss: 1.3726 - val_accuracy: 0.4867 - lr: 0.0010 - 20s/epoch - 47ms/step\n",
      "Epoch 36/100\n",
      "\n",
      "Epoch 36: val_loss did not improve from 1.36582\n",
      "417/417 - 20s - loss: 1.2007 - accuracy: 0.5452 - val_loss: 1.3738 - val_accuracy: 0.4816 - lr: 0.0010 - 20s/epoch - 47ms/step\n",
      "Epoch 37/100\n",
      "\n",
      "Epoch 37: val_loss improved from 1.36582 to 1.36191, saving model to model/best_model.keras\n",
      "417/417 - 20s - loss: 1.1927 - accuracy: 0.5466 - val_loss: 1.3619 - val_accuracy: 0.4939 - lr: 0.0010 - 20s/epoch - 48ms/step\n",
      "Epoch 38/100\n",
      "\n",
      "Epoch 38: val_loss did not improve from 1.36191\n",
      "417/417 - 20s - loss: 1.1920 - accuracy: 0.5466 - val_loss: 1.3641 - val_accuracy: 0.4862 - lr: 0.0010 - 20s/epoch - 47ms/step\n",
      "Epoch 39/100\n",
      "\n",
      "Epoch 39: val_loss did not improve from 1.36191\n",
      "417/417 - 20s - loss: 1.1833 - accuracy: 0.5556 - val_loss: 1.3665 - val_accuracy: 0.4886 - lr: 0.0010 - 20s/epoch - 47ms/step\n",
      "Epoch 40/100\n",
      "\n",
      "Epoch 40: val_loss did not improve from 1.36191\n",
      "417/417 - 20s - loss: 1.1713 - accuracy: 0.5572 - val_loss: 1.3880 - val_accuracy: 0.4834 - lr: 0.0010 - 20s/epoch - 47ms/step\n",
      "Epoch 41/100\n",
      "\n",
      "Epoch 41: val_loss improved from 1.36191 to 1.35935, saving model to model/best_model.keras\n",
      "417/417 - 20s - loss: 1.1022 - accuracy: 0.5875 - val_loss: 1.3594 - val_accuracy: 0.4970 - lr: 2.0000e-04 - 20s/epoch - 48ms/step\n",
      "Epoch 42/100\n",
      "\n",
      "Epoch 42: val_loss improved from 1.35935 to 1.35226, saving model to model/best_model.keras\n",
      "417/417 - 20s - loss: 1.0925 - accuracy: 0.5928 - val_loss: 1.3523 - val_accuracy: 0.5013 - lr: 2.0000e-04 - 20s/epoch - 48ms/step\n",
      "Epoch 43/100\n",
      "\n",
      "Epoch 43: val_loss did not improve from 1.35226\n",
      "417/417 - 20s - loss: 1.0811 - accuracy: 0.5948 - val_loss: 1.3533 - val_accuracy: 0.5015 - lr: 2.0000e-04 - 20s/epoch - 47ms/step\n",
      "Epoch 44/100\n",
      "\n",
      "Epoch 44: val_loss improved from 1.35226 to 1.35040, saving model to model/best_model.keras\n",
      "417/417 - 20s - loss: 1.0777 - accuracy: 0.5954 - val_loss: 1.3504 - val_accuracy: 0.5024 - lr: 2.0000e-04 - 20s/epoch - 48ms/step\n",
      "Epoch 45/100\n",
      "\n",
      "Epoch 45: val_loss did not improve from 1.35040\n",
      "417/417 - 20s - loss: 1.0735 - accuracy: 0.5977 - val_loss: 1.3517 - val_accuracy: 0.5066 - lr: 2.0000e-04 - 20s/epoch - 47ms/step\n",
      "Epoch 46/100\n",
      "\n",
      "Epoch 46: val_loss did not improve from 1.35040\n",
      "417/417 - 20s - loss: 1.0664 - accuracy: 0.6027 - val_loss: 1.3560 - val_accuracy: 0.4997 - lr: 2.0000e-04 - 20s/epoch - 47ms/step\n",
      "Epoch 47/100\n",
      "\n",
      "Epoch 47: val_loss did not improve from 1.35040\n",
      "417/417 - 20s - loss: 1.0623 - accuracy: 0.6042 - val_loss: 1.3527 - val_accuracy: 0.5076 - lr: 2.0000e-04 - 20s/epoch - 47ms/step\n",
      "Epoch 48/100\n",
      "\n",
      "Epoch 48: val_loss did not improve from 1.35040\n",
      "417/417 - 20s - loss: 1.0551 - accuracy: 0.6041 - val_loss: 1.3540 - val_accuracy: 0.5046 - lr: 1.0000e-04 - 20s/epoch - 47ms/step\n",
      "Epoch 49/100\n",
      "\n",
      "Epoch 49: val_loss improved from 1.35040 to 1.34993, saving model to model/best_model.keras\n",
      "417/417 - 20s - loss: 1.0573 - accuracy: 0.6088 - val_loss: 1.3499 - val_accuracy: 0.5039 - lr: 1.0000e-04 - 20s/epoch - 48ms/step\n",
      "Epoch 50/100\n",
      "\n",
      "Epoch 50: val_loss did not improve from 1.34993\n",
      "417/417 - 20s - loss: 1.0516 - accuracy: 0.6064 - val_loss: 1.3540 - val_accuracy: 0.5042 - lr: 1.0000e-04 - 20s/epoch - 47ms/step\n",
      "Epoch 51/100\n",
      "\n",
      "Epoch 51: val_loss did not improve from 1.34993\n",
      "417/417 - 20s - loss: 1.0500 - accuracy: 0.6078 - val_loss: 1.3528 - val_accuracy: 0.5057 - lr: 1.0000e-04 - 20s/epoch - 47ms/step\n",
      "Epoch 52/100\n",
      "\n",
      "Epoch 52: val_loss did not improve from 1.34993\n",
      "417/417 - 20s - loss: 1.0495 - accuracy: 0.6117 - val_loss: 1.3521 - val_accuracy: 0.5025 - lr: 1.0000e-04 - 20s/epoch - 47ms/step\n",
      "Epoch 53/100\n",
      "\n",
      "Epoch 53: val_loss did not improve from 1.34993\n",
      "417/417 - 20s - loss: 1.0467 - accuracy: 0.6096 - val_loss: 1.3544 - val_accuracy: 0.5046 - lr: 1.0000e-04 - 20s/epoch - 47ms/step\n",
      "Epoch 54/100\n",
      "\n",
      "Epoch 54: val_loss did not improve from 1.34993\n",
      "417/417 - 20s - loss: 1.0466 - accuracy: 0.6124 - val_loss: 1.3561 - val_accuracy: 0.5046 - lr: 1.0000e-04 - 20s/epoch - 47ms/step\n",
      "Epoch 55/100\n",
      "\n",
      "Epoch 55: val_loss did not improve from 1.34993\n",
      "417/417 - 20s - loss: 1.0409 - accuracy: 0.6137 - val_loss: 1.3545 - val_accuracy: 0.5033 - lr: 1.0000e-04 - 20s/epoch - 47ms/step\n",
      "Epoch 56/100\n",
      "\n",
      "Epoch 56: val_loss did not improve from 1.34993\n",
      "417/417 - 20s - loss: 1.0401 - accuracy: 0.6113 - val_loss: 1.3509 - val_accuracy: 0.5081 - lr: 1.0000e-04 - 20s/epoch - 47ms/step\n",
      "Epoch 57/100\n",
      "\n",
      "Epoch 57: val_loss did not improve from 1.34993\n",
      "417/417 - 20s - loss: 1.0346 - accuracy: 0.6152 - val_loss: 1.3583 - val_accuracy: 0.5037 - lr: 1.0000e-04 - 20s/epoch - 47ms/step\n",
      "Epoch 58/100\n",
      "\n",
      "Epoch 58: val_loss did not improve from 1.34993\n",
      "417/417 - 20s - loss: 1.0381 - accuracy: 0.6130 - val_loss: 1.3563 - val_accuracy: 0.5048 - lr: 1.0000e-04 - 20s/epoch - 47ms/step\n",
      "Epoch 59/100\n",
      "\n",
      "Epoch 59: val_loss did not improve from 1.34993\n",
      "417/417 - 20s - loss: 1.0288 - accuracy: 0.6186 - val_loss: 1.3560 - val_accuracy: 0.5096 - lr: 1.0000e-04 - 20s/epoch - 48ms/step\n",
      "Epoch 60/100\n",
      "\n",
      "Epoch 60: val_loss did not improve from 1.34993\n",
      "417/417 - 20s - loss: 1.0317 - accuracy: 0.6185 - val_loss: 1.3555 - val_accuracy: 0.5055 - lr: 1.0000e-04 - 20s/epoch - 48ms/step\n",
      "Epoch 61/100\n",
      "\n",
      "Epoch 61: val_loss did not improve from 1.34993\n",
      "417/417 - 20s - loss: 1.0291 - accuracy: 0.6150 - val_loss: 1.3534 - val_accuracy: 0.5100 - lr: 1.0000e-04 - 20s/epoch - 47ms/step\n",
      "Epoch 62/100\n",
      "\n",
      "Epoch 62: val_loss did not improve from 1.34993\n",
      "417/417 - 20s - loss: 1.0326 - accuracy: 0.6160 - val_loss: 1.3588 - val_accuracy: 0.5042 - lr: 1.0000e-04 - 20s/epoch - 47ms/step\n",
      "Epoch 63/100\n",
      "\n",
      "Epoch 63: val_loss did not improve from 1.34993\n",
      "417/417 - 20s - loss: 1.0260 - accuracy: 0.6186 - val_loss: 1.3506 - val_accuracy: 0.5058 - lr: 1.0000e-04 - 20s/epoch - 47ms/step\n",
      "Epoch 64/100\n",
      "\n",
      "Epoch 64: val_loss did not improve from 1.34993\n",
      "417/417 - 20s - loss: 1.0225 - accuracy: 0.6160 - val_loss: 1.3599 - val_accuracy: 0.5061 - lr: 1.0000e-04 - 20s/epoch - 47ms/step\n",
      "Epoch 65/100\n",
      "\n",
      "Epoch 65: val_loss did not improve from 1.34993\n",
      "417/417 - 20s - loss: 1.0247 - accuracy: 0.6188 - val_loss: 1.3564 - val_accuracy: 0.5067 - lr: 1.0000e-04 - 20s/epoch - 48ms/step\n",
      "Epoch 66/100\n",
      "\n",
      "Epoch 66: val_loss did not improve from 1.34993\n",
      "417/417 - 20s - loss: 1.0252 - accuracy: 0.6193 - val_loss: 1.3518 - val_accuracy: 0.5075 - lr: 1.0000e-04 - 20s/epoch - 48ms/step\n",
      "Epoch 67/100\n",
      "\n",
      "Epoch 67: val_loss did not improve from 1.34993\n",
      "417/417 - 20s - loss: 1.0177 - accuracy: 0.6219 - val_loss: 1.3530 - val_accuracy: 0.5057 - lr: 1.0000e-04 - 20s/epoch - 48ms/step\n",
      "Epoch 68/100\n",
      "\n",
      "Epoch 68: val_loss did not improve from 1.34993\n",
      "417/417 - 20s - loss: 1.0232 - accuracy: 0.6189 - val_loss: 1.3545 - val_accuracy: 0.5054 - lr: 1.0000e-04 - 20s/epoch - 47ms/step\n",
      "Epoch 69/100\n",
      "\n",
      "Epoch 69: val_loss did not improve from 1.34993\n",
      "417/417 - 20s - loss: 1.0166 - accuracy: 0.6215 - val_loss: 1.3588 - val_accuracy: 0.5060 - lr: 1.0000e-04 - 20s/epoch - 48ms/step\n",
      "Epoch 70/100\n",
      "\n",
      "Epoch 70: val_loss did not improve from 1.34993\n",
      "417/417 - 20s - loss: 1.0185 - accuracy: 0.6205 - val_loss: 1.3588 - val_accuracy: 0.5066 - lr: 1.0000e-04 - 20s/epoch - 47ms/step\n",
      "Epoch 71/100\n",
      "\n",
      "Epoch 71: val_loss did not improve from 1.34993\n",
      "417/417 - 20s - loss: 1.0157 - accuracy: 0.6221 - val_loss: 1.3584 - val_accuracy: 0.5043 - lr: 1.0000e-04 - 20s/epoch - 48ms/step\n",
      "Epoch 72/100\n",
      "\n",
      "Epoch 72: val_loss did not improve from 1.34993\n",
      "417/417 - 20s - loss: 1.0171 - accuracy: 0.6218 - val_loss: 1.3576 - val_accuracy: 0.5063 - lr: 1.0000e-04 - 20s/epoch - 48ms/step\n",
      "Epoch 73/100\n",
      "\n",
      "Epoch 73: val_loss did not improve from 1.34993\n",
      "417/417 - 20s - loss: 1.0123 - accuracy: 0.6245 - val_loss: 1.3592 - val_accuracy: 0.5076 - lr: 1.0000e-04 - 20s/epoch - 48ms/step\n",
      "Epoch 74/100\n",
      "\n",
      "Epoch 74: val_loss did not improve from 1.34993\n",
      "417/417 - 20s - loss: 1.0128 - accuracy: 0.6215 - val_loss: 1.3546 - val_accuracy: 0.5079 - lr: 1.0000e-04 - 20s/epoch - 47ms/step\n",
      "Epoch 75/100\n",
      "\n",
      "Epoch 75: val_loss did not improve from 1.34993\n",
      "417/417 - 20s - loss: 1.0147 - accuracy: 0.6205 - val_loss: 1.3561 - val_accuracy: 0.5097 - lr: 1.0000e-04 - 20s/epoch - 47ms/step\n",
      "Epoch 76/100\n",
      "\n",
      "Epoch 76: val_loss did not improve from 1.34993\n",
      "417/417 - 20s - loss: 1.0029 - accuracy: 0.6268 - val_loss: 1.3586 - val_accuracy: 0.5069 - lr: 1.0000e-04 - 20s/epoch - 47ms/step\n",
      "Epoch 77/100\n",
      "\n",
      "Epoch 77: val_loss did not improve from 1.34993\n",
      "417/417 - 20s - loss: 1.0056 - accuracy: 0.6266 - val_loss: 1.3598 - val_accuracy: 0.5079 - lr: 1.0000e-04 - 20s/epoch - 47ms/step\n",
      "Epoch 78/100\n",
      "\n",
      "Epoch 78: val_loss did not improve from 1.34993\n",
      "417/417 - 20s - loss: 1.0068 - accuracy: 0.6256 - val_loss: 1.3588 - val_accuracy: 0.5072 - lr: 1.0000e-04 - 20s/epoch - 47ms/step\n",
      "Epoch 79/100\n",
      "\n",
      "Epoch 79: val_loss did not improve from 1.34993\n",
      "417/417 - 20s - loss: 1.0042 - accuracy: 0.6231 - val_loss: 1.3560 - val_accuracy: 0.5099 - lr: 1.0000e-04 - 20s/epoch - 47ms/step\n",
      "Epoch 80/100\n",
      "\n",
      "Epoch 80: val_loss did not improve from 1.34993\n",
      "417/417 - 20s - loss: 0.9974 - accuracy: 0.6286 - val_loss: 1.3587 - val_accuracy: 0.5078 - lr: 1.0000e-04 - 20s/epoch - 47ms/step\n",
      "Epoch 81/100\n",
      "\n",
      "Epoch 81: val_loss did not improve from 1.34993\n",
      "417/417 - 20s - loss: 0.9974 - accuracy: 0.6305 - val_loss: 1.3578 - val_accuracy: 0.5081 - lr: 1.0000e-04 - 20s/epoch - 47ms/step\n",
      "Epoch 82/100\n",
      "\n",
      "Epoch 82: val_loss did not improve from 1.34993\n",
      "417/417 - 20s - loss: 0.9979 - accuracy: 0.6309 - val_loss: 1.3644 - val_accuracy: 0.5130 - lr: 1.0000e-04 - 20s/epoch - 47ms/step\n",
      "Epoch 83/100\n",
      "\n",
      "Epoch 83: val_loss did not improve from 1.34993\n",
      "417/417 - 20s - loss: 0.9954 - accuracy: 0.6303 - val_loss: 1.3627 - val_accuracy: 0.5111 - lr: 1.0000e-04 - 20s/epoch - 47ms/step\n",
      "Epoch 84/100\n",
      "\n",
      "Epoch 84: val_loss did not improve from 1.34993\n",
      "417/417 - 20s - loss: 0.9952 - accuracy: 0.6319 - val_loss: 1.3626 - val_accuracy: 0.5109 - lr: 1.0000e-04 - 20s/epoch - 47ms/step\n",
      "Epoch 85/100\n",
      "\n",
      "Epoch 85: val_loss did not improve from 1.34993\n",
      "417/417 - 20s - loss: 0.9972 - accuracy: 0.6296 - val_loss: 1.3584 - val_accuracy: 0.5088 - lr: 1.0000e-04 - 20s/epoch - 47ms/step\n",
      "Epoch 86/100\n",
      "\n",
      "Epoch 86: val_loss did not improve from 1.34993\n",
      "417/417 - 20s - loss: 0.9935 - accuracy: 0.6333 - val_loss: 1.3562 - val_accuracy: 0.5097 - lr: 1.0000e-04 - 20s/epoch - 47ms/step\n",
      "Epoch 87/100\n",
      "\n",
      "Epoch 87: val_loss did not improve from 1.34993\n",
      "417/417 - 20s - loss: 0.9938 - accuracy: 0.6282 - val_loss: 1.3633 - val_accuracy: 0.5103 - lr: 1.0000e-04 - 20s/epoch - 47ms/step\n",
      "Epoch 88/100\n",
      "\n",
      "Epoch 88: val_loss did not improve from 1.34993\n",
      "417/417 - 20s - loss: 0.9915 - accuracy: 0.6294 - val_loss: 1.3618 - val_accuracy: 0.5123 - lr: 1.0000e-04 - 20s/epoch - 47ms/step\n",
      "Epoch 89/100\n",
      "\n",
      "Epoch 89: val_loss did not improve from 1.34993\n",
      "417/417 - 20s - loss: 0.9851 - accuracy: 0.6346 - val_loss: 1.3593 - val_accuracy: 0.5112 - lr: 1.0000e-04 - 20s/epoch - 47ms/step\n",
      "Epoch 90/100\n",
      "\n",
      "Epoch 90: val_loss did not improve from 1.34993\n",
      "417/417 - 20s - loss: 0.9894 - accuracy: 0.6347 - val_loss: 1.3609 - val_accuracy: 0.5070 - lr: 1.0000e-04 - 20s/epoch - 47ms/step\n",
      "Epoch 91/100\n",
      "\n",
      "Epoch 91: val_loss did not improve from 1.34993\n",
      "417/417 - 20s - loss: 0.9845 - accuracy: 0.6330 - val_loss: 1.3644 - val_accuracy: 0.5087 - lr: 1.0000e-04 - 20s/epoch - 47ms/step\n",
      "Epoch 92/100\n",
      "\n",
      "Epoch 92: val_loss did not improve from 1.34993\n",
      "417/417 - 20s - loss: 0.9823 - accuracy: 0.6377 - val_loss: 1.3649 - val_accuracy: 0.5090 - lr: 1.0000e-04 - 20s/epoch - 47ms/step\n",
      "Epoch 93/100\n",
      "\n",
      "Epoch 93: val_loss did not improve from 1.34993\n",
      "417/417 - 20s - loss: 0.9842 - accuracy: 0.6362 - val_loss: 1.3634 - val_accuracy: 0.5087 - lr: 1.0000e-04 - 20s/epoch - 47ms/step\n",
      "Epoch 94/100\n",
      "\n",
      "Epoch 94: val_loss did not improve from 1.34993\n",
      "417/417 - 20s - loss: 0.9807 - accuracy: 0.6342 - val_loss: 1.3626 - val_accuracy: 0.5082 - lr: 1.0000e-04 - 20s/epoch - 47ms/step\n",
      "Epoch 95/100\n",
      "\n",
      "Epoch 95: val_loss did not improve from 1.34993\n",
      "417/417 - 20s - loss: 0.9886 - accuracy: 0.6323 - val_loss: 1.3669 - val_accuracy: 0.5103 - lr: 1.0000e-04 - 20s/epoch - 47ms/step\n",
      "Epoch 96/100\n",
      "\n",
      "Epoch 96: val_loss did not improve from 1.34993\n",
      "417/417 - 20s - loss: 0.9799 - accuracy: 0.6380 - val_loss: 1.3600 - val_accuracy: 0.5115 - lr: 1.0000e-04 - 20s/epoch - 47ms/step\n",
      "Epoch 97/100\n",
      "\n",
      "Epoch 97: val_loss did not improve from 1.34993\n",
      "417/417 - 20s - loss: 0.9806 - accuracy: 0.6348 - val_loss: 1.3656 - val_accuracy: 0.5109 - lr: 1.0000e-04 - 20s/epoch - 47ms/step\n",
      "Epoch 98/100\n",
      "\n",
      "Epoch 98: val_loss did not improve from 1.34993\n",
      "417/417 - 20s - loss: 0.9767 - accuracy: 0.6382 - val_loss: 1.3655 - val_accuracy: 0.5108 - lr: 1.0000e-04 - 20s/epoch - 47ms/step\n",
      "Epoch 99/100\n",
      "\n",
      "Epoch 99: val_loss did not improve from 1.34993\n",
      "417/417 - 20s - loss: 0.9780 - accuracy: 0.6369 - val_loss: 1.3643 - val_accuracy: 0.5099 - lr: 1.0000e-04 - 20s/epoch - 47ms/step\n",
      "Epoch 100/100\n",
      "\n",
      "Epoch 100: val_loss did not improve from 1.34993\n",
      "417/417 - 20s - loss: 0.9709 - accuracy: 0.6402 - val_loss: 1.3641 - val_accuracy: 0.5090 - lr: 1.0000e-04 - 20s/epoch - 47ms/step\n"
     ]
    }
   ],
   "execution_count": 14
  },
  {
   "metadata": {
    "ExecuteTime": {
     "end_time": "2025-05-16T09:18:28.091321Z",
     "start_time": "2025-05-16T09:18:21.244338Z"
    }
   },
   "cell_type": "code",
   "source": "print(model.evaluate(x_img_test, y_img_test, batch_size=BATCH_SIZE, steps=len(x_img_test) // BATCH_SIZE))",
   "id": "e8378bb692fe8168",
   "outputs": [
    {
     "name": "stdout",
     "output_type": "stream",
     "text": [
      "122/122 [==============================] - 5s 38ms/step - loss: 1.5435 - accuracy: 0.4794\n",
      "[1.5434716939926147, 0.47938013076782227]\n"
     ]
    }
   ],
   "execution_count": 15
  },
  {
   "metadata": {
    "ExecuteTime": {
     "end_time": "2025-05-16T09:18:33.088477Z",
     "start_time": "2025-05-16T09:18:28.430314Z"
    }
   },
   "cell_type": "code",
   "source": "print(model.evaluate(x_img_val, y_img_val, batch_size=BATCH_SIZE, steps=len(x_img_val) // BATCH_SIZE))",
   "id": "92ad6441f560acb8",
   "outputs": [
    {
     "name": "stdout",
     "output_type": "stream",
     "text": [
      "104/104 [==============================] - 4s 38ms/step - loss: 1.3646 - accuracy: 0.5089\n",
      "[1.3645586967468262, 0.508864164352417]\n"
     ]
    }
   ],
   "execution_count": 16
  },
  {
   "metadata": {
    "ExecuteTime": {
     "end_time": "2025-05-16T09:18:33.518361Z",
     "start_time": "2025-05-16T09:18:33.514118Z"
    }
   },
   "cell_type": "code",
   "source": [
    "def plot_and_save(metric_name, history, ylabel, filename):\n",
    "    plt.figure()\n",
    "    plt.plot(history.history[metric_name], label=f'Train {ylabel}')\n",
    "    if f'val_{metric_name}' in history.history:\n",
    "        plt.plot(history.history[f'val_{metric_name}'], label=f'Val {ylabel}')\n",
    "    plt.title(f'{ylabel} over Epochs')\n",
    "    plt.xlabel('Epochs')\n",
    "    plt.ylabel(ylabel)\n",
    "    plt.legend()\n",
    "    plt.grid(True)\n",
    "    plt.savefig(filename)\n",
    "    plt.close()"
   ],
   "id": "4701de1079b3e1e7",
   "outputs": [],
   "execution_count": 17
  },
  {
   "metadata": {
    "ExecuteTime": {
     "end_time": "2025-05-16T09:18:35.162265Z",
     "start_time": "2025-05-16T09:18:34.044735Z"
    }
   },
   "cell_type": "code",
   "source": [
    "plot_and_save('loss', history, 'Loss', 'image_loss_plot.png')\n",
    "plot_and_save('accuracy', history, 'Image Classification Accuracy', 'image_class_accuracy_plot.png')"
   ],
   "id": "e72c8ec4e0c84948",
   "outputs": [],
   "execution_count": 18
  },
  {
   "metadata": {
    "ExecuteTime": {
     "end_time": "2025-05-16T09:18:43.467930Z",
     "start_time": "2025-05-16T09:18:35.469471Z"
    }
   },
   "cell_type": "code",
   "source": [
    "predictions = model.predict(x_img_test)\n",
    "predictions = np.argmax(predictions, axis=1)\n",
    "\n",
    "classes = [x for x in os.listdir(TRAIN_IMAGE_PATH)]\n",
    "print(classes)"
   ],
   "id": "483fac29c2946451",
   "outputs": [
    {
     "name": "stdout",
     "output_type": "stream",
     "text": [
      "245/245 [==============================] - 7s 23ms/step\n",
      "['angry', 'happy', 'surprise', 'disgust', 'fear', 'sad', 'neutral']\n"
     ]
    }
   ],
   "execution_count": 19
  },
  {
   "metadata": {
    "ExecuteTime": {
     "end_time": "2025-05-16T09:18:44.703846Z",
     "start_time": "2025-05-16T09:18:43.784769Z"
    }
   },
   "cell_type": "code",
   "source": [
    "cm = confusion_matrix(y_img_test, predictions)\n",
    "\n",
    "plt.figure(figsize=(10, 8))  # Set the figure size if needed\n",
    "sns.heatmap(cm, annot=True, cmap='Blues', fmt='g')\n",
    "\n",
    "plt.title('Confusion Matrix Image', pad=20, fontsize=20, fontweight=\"bold\")\n",
    "plt.ylabel('Actual')\n",
    "plt.xlabel('Predicted')\n",
    "\n",
    "plt.xticks(ticks=range(len(classes)), labels=classes, rotation=45)\n",
    "plt.yticks(ticks=range(len(classes)), labels=classes, rotation=0)\n",
    "plt.savefig('confusion_matrix_img.png', dpi=300, bbox_inches='tight')\n",
    "plt.show()"
   ],
   "id": "38ec2a2c5d88f0d9",
   "outputs": [
    {
     "data": {
      "text/plain": [
       "<Figure size 1000x800 with 2 Axes>"
      ],
      "image/png": "[encoded data removed]"
     },
     "metadata": {},
     "output_type": "display_data"
    }
   ],
   "execution_count": 20
  },
  {
   "metadata": {
    "ExecuteTime": {
     "end_time": "2025-05-16T09:18:45.464817Z",
     "start_time": "2025-05-16T09:18:45.448063Z"
    }
   },
   "cell_type": "code",
   "source": "print(classification_report(predictions, y_img_test))",
   "id": "cf3645863f27d073",
   "outputs": [
    {
     "name": "stdout",
     "output_type": "stream",
     "text": [
      "              precision    recall  f1-score   support\n",
      "\n",
      "           0       0.36      0.39      0.37       968\n",
      "           1       0.63      0.80      0.70       785\n",
      "           2       0.29      0.36      0.32       838\n",
      "           3       0.58      0.55      0.56      1337\n",
      "           4       0.46      0.39      0.42      1454\n",
      "           5       0.41      0.37      0.39      1397\n",
      "           6       0.64      0.60      0.62      1052\n",
      "\n",
      "    accuracy                           0.48      7831\n",
      "   macro avg       0.48      0.49      0.48      7831\n",
      "weighted avg       0.48      0.48      0.48      7831\n",
      "\n"
     ]
    }
   ],
   "execution_count": 21
  },
  {
   "metadata": {
    "ExecuteTime": {
     "end_time": "2025-05-16T09:18:45.915692Z",
     "start_time": "2025-05-16T09:18:45.770192Z"
    }
   },
   "cell_type": "code",
   "source": "model.save('model_img_sc4t4.h5')",
   "id": "ec8cee1762f52ff5",
   "outputs": [
    {
     "name": "stderr",
     "output_type": "stream",
     "text": [
      "/usr/local/lib/python3.11/dist-packages/keras/src/engine/training.py:3103: UserWarning: You are saving your model as an HDF5 file via `model.save()`. This file format is considered legacy. We recommend using instead the native Keras format, e.g. `model.save('my_model.keras')`.\n",
      "  saving_api.save_model(\n"
     ]
    }
   ],
   "execution_count": 22
  },
  {
   "metadata": {
    "ExecuteTime": {
     "end_time": "2025-05-16T09:25:44.118944Z",
     "start_time": "2025-05-16T09:25:39.480123Z"
    }
   },
   "cell_type": "code",
   "source": "!zip -q -r run_kaggle.zip /kaggle/working/*.png /kaggle/working/*.h5",
   "id": "52012324545647ce",
   "outputs": [],
   "execution_count": 23
  },
  {
   "metadata": {},
   "cell_type": "code",
   "outputs": [],
   "execution_count": null,
   "source": "",
   "id": "6d1916930464d694"
  }
 ],
 "metadata": {
  "kernelspec": {
   "display_name": "Python 3",
   "language": "python",
   "name": "python3"
  },
  "language_info": {
   "codemirror_mode": {
    "name": "ipython",
    "version": 2
   },
   "file_extension": ".py",
   "mimetype": "text/x-python",
   "name": "python",
   "nbconvert_exporter": "python",
   "pygments_lexer": "ipython2",
   "version": "2.7.6"
  }
 },
 "nbformat": 4,
 "nbformat_minor": 5
}
