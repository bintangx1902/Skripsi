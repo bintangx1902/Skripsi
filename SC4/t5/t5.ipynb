{
 "cells": [
  {
   "cell_type": "code",
   "id": "initial_id",
   "metadata": {
    "collapsed": true,
    "ExecuteTime": {
     "end_time": "2025-05-29T13:23:37.115198Z",
     "start_time": "2025-05-29T13:23:33.570160Z"
    }
   },
   "source": [
    "import gc\n",
    "\n",
    "import seaborn as sns\n",
    "from matplotlib import pyplot as plt\n",
    "from sklearn.metrics import classification_report, confusion_matrix\n",
    "from sklearn.model_selection import train_test_split\n",
    "from sklearn.preprocessing import LabelEncoder\n",
    "\n",
    "from shared.local_path import *\n",
    "from shared.utils import *"
   ],
   "outputs": [],
   "execution_count": 1
  },
  {
   "metadata": {},
   "cell_type": "markdown",
   "source": "### Read Image Data",
   "id": "fb39eefea78185cf"
  },
  {
   "metadata": {
    "ExecuteTime": {
     "end_time": "2025-05-29T13:23:37.243172Z",
     "start_time": "2025-05-29T13:23:37.127201Z"
    }
   },
   "cell_type": "code",
   "source": [
    "filepath = []\n",
    "label = []\n",
    "\n",
    "i = 0\n",
    "for classes in os.listdir(TRAIN_IMAGE_PATH):\n",
    "    for file in os.listdir(os.path.join(TRAIN_IMAGE_PATH, classes)):\n",
    "        path = os.path.join(TRAIN_IMAGE_PATH, classes, file)\n",
    "        filepath.append(path)\n",
    "        label.append(classes)\n",
    "\n",
    "train_df = pd.DataFrame({\n",
    "    'filepath': filepath,\n",
    "    'label': label\n",
    "})\n",
    "\n",
    "del filepath, label\n",
    "\n",
    "print(train_df.shape)\n",
    "print(train_df['label'].unique())\n",
    "train_df.head()"
   ],
   "id": "c0c919652686485a",
   "outputs": [
    {
     "name": "stdout",
     "output_type": "stream",
     "text": [
      "(33479, 2)\n",
      "['angry' 'disgust' 'fear' 'happy' 'neutral' 'sad' 'surprise']\n"
     ]
    },
    {
     "data": {
      "text/plain": [
       "                                            filepath  label\n",
       "0  E:\\Skripsi\\data\\new_data\\train\\angry\\angry_0_1...  angry\n",
       "1  E:\\Skripsi\\data\\new_data\\train\\angry\\angry_0_1...  angry\n",
       "2  E:\\Skripsi\\data\\new_data\\train\\angry\\angry_0_1...  angry\n",
       "3  E:\\Skripsi\\data\\new_data\\train\\angry\\angry_0_1...  angry\n",
       "4  E:\\Skripsi\\data\\new_data\\train\\angry\\angry_0_1...  angry"
      ],
      "text/html": [
       "<div>\n",
       "<style scoped>\n",
       "    .dataframe tbody tr th:only-of-type {\n",
       "        vertical-align: middle;\n",
       "    }\n",
       "\n",
       "    .dataframe tbody tr th {\n",
       "        vertical-align: top;\n",
       "    }\n",
       "\n",
       "    .dataframe thead th {\n",
       "        text-align: right;\n",
       "    }\n",
       "</style>\n",
       "<table border=\"1\" class=\"dataframe\">\n",
       "  <thead>\n",
       "    <tr style=\"text-align: right;\">\n",
       "      <th></th>\n",
       "      <th>filepath</th>\n",
       "      <th>label</th>\n",
       "    </tr>\n",
       "  </thead>\n",
       "  <tbody>\n",
       "    <tr>\n",
       "      <th>0</th>\n",
       "      <td>E:\\Skripsi\\data\\new_data\\train\\angry\\angry_0_1...</td>\n",
       "      <td>angry</td>\n",
       "    </tr>\n",
       "    <tr>\n",
       "      <th>1</th>\n",
       "      <td>E:\\Skripsi\\data\\new_data\\train\\angry\\angry_0_1...</td>\n",
       "      <td>angry</td>\n",
       "    </tr>\n",
       "    <tr>\n",
       "      <th>2</th>\n",
       "      <td>E:\\Skripsi\\data\\new_data\\train\\angry\\angry_0_1...</td>\n",
       "      <td>angry</td>\n",
       "    </tr>\n",
       "    <tr>\n",
       "      <th>3</th>\n",
       "      <td>E:\\Skripsi\\data\\new_data\\train\\angry\\angry_0_1...</td>\n",
       "      <td>angry</td>\n",
       "    </tr>\n",
       "    <tr>\n",
       "      <th>4</th>\n",
       "      <td>E:\\Skripsi\\data\\new_data\\train\\angry\\angry_0_1...</td>\n",
       "      <td>angry</td>\n",
       "    </tr>\n",
       "  </tbody>\n",
       "</table>\n",
       "</div>"
      ]
     },
     "execution_count": 2,
     "metadata": {},
     "output_type": "execute_result"
    }
   ],
   "execution_count": 2
  },
  {
   "metadata": {
    "ExecuteTime": {
     "end_time": "2025-05-29T13:23:37.932237Z",
     "start_time": "2025-05-29T13:23:37.887239Z"
    }
   },
   "cell_type": "code",
   "source": [
    "filepath = []\n",
    "label = []\n",
    "\n",
    "i = 0\n",
    "for classes in os.listdir(TEST_IMAGE_PATH):\n",
    "    for file in os.listdir(os.path.join(TEST_IMAGE_PATH, classes)):\n",
    "        path = os.path.join(TEST_IMAGE_PATH, classes, file)\n",
    "        filepath.append(path)\n",
    "        label.append(classes)\n",
    "\n",
    "img_test_df = pd.DataFrame({\n",
    "    'filepath': filepath,\n",
    "    'label': label\n",
    "})\n",
    "\n",
    "del filepath, label\n",
    "\n",
    "print(img_test_df.shape)\n",
    "print(img_test_df['label'].unique())\n",
    "img_test_df.head()"
   ],
   "id": "c71041d0d4f41f26",
   "outputs": [
    {
     "name": "stdout",
     "output_type": "stream",
     "text": [
      "(7831, 2)\n",
      "['angry' 'disgust' 'fear' 'happy' 'neutral' 'sad' 'surprise']\n"
     ]
    },
    {
     "data": {
      "text/plain": [
       "                                           filepath  label\n",
       "0     E:\\Skripsi\\data\\new_data\\test\\angry\\Anger.jpg  angry\n",
       "1   E:\\Skripsi\\data\\new_data\\test\\angry\\Anger_1.jpg  angry\n",
       "2  E:\\Skripsi\\data\\new_data\\test\\angry\\Anger_10.jpg  angry\n",
       "3  E:\\Skripsi\\data\\new_data\\test\\angry\\Anger_11.jpg  angry\n",
       "4  E:\\Skripsi\\data\\new_data\\test\\angry\\Anger_12.jpg  angry"
      ],
      "text/html": [
       "<div>\n",
       "<style scoped>\n",
       "    .dataframe tbody tr th:only-of-type {\n",
       "        vertical-align: middle;\n",
       "    }\n",
       "\n",
       "    .dataframe tbody tr th {\n",
       "        vertical-align: top;\n",
       "    }\n",
       "\n",
       "    .dataframe thead th {\n",
       "        text-align: right;\n",
       "    }\n",
       "</style>\n",
       "<table border=\"1\" class=\"dataframe\">\n",
       "  <thead>\n",
       "    <tr style=\"text-align: right;\">\n",
       "      <th></th>\n",
       "      <th>filepath</th>\n",
       "      <th>label</th>\n",
       "    </tr>\n",
       "  </thead>\n",
       "  <tbody>\n",
       "    <tr>\n",
       "      <th>0</th>\n",
       "      <td>E:\\Skripsi\\data\\new_data\\test\\angry\\Anger.jpg</td>\n",
       "      <td>angry</td>\n",
       "    </tr>\n",
       "    <tr>\n",
       "      <th>1</th>\n",
       "      <td>E:\\Skripsi\\data\\new_data\\test\\angry\\Anger_1.jpg</td>\n",
       "      <td>angry</td>\n",
       "    </tr>\n",
       "    <tr>\n",
       "      <th>2</th>\n",
       "      <td>E:\\Skripsi\\data\\new_data\\test\\angry\\Anger_10.jpg</td>\n",
       "      <td>angry</td>\n",
       "    </tr>\n",
       "    <tr>\n",
       "      <th>3</th>\n",
       "      <td>E:\\Skripsi\\data\\new_data\\test\\angry\\Anger_11.jpg</td>\n",
       "      <td>angry</td>\n",
       "    </tr>\n",
       "    <tr>\n",
       "      <th>4</th>\n",
       "      <td>E:\\Skripsi\\data\\new_data\\test\\angry\\Anger_12.jpg</td>\n",
       "      <td>angry</td>\n",
       "    </tr>\n",
       "  </tbody>\n",
       "</table>\n",
       "</div>"
      ]
     },
     "execution_count": 3,
     "metadata": {},
     "output_type": "execute_result"
    }
   ],
   "execution_count": 3
  },
  {
   "metadata": {
    "ExecuteTime": {
     "end_time": "2025-05-29T13:23:38.121240Z",
     "start_time": "2025-05-29T13:23:38.106238Z"
    }
   },
   "cell_type": "code",
   "source": [
    "le = LabelEncoder()\n",
    "le.fit(train_df['label'])\n",
    "train_df['label_encoded'] = le.transform(train_df['label'])\n",
    "img_test_df['label_encoded'] = le.transform(img_test_df['label'])"
   ],
   "id": "92230c1bb52efd13",
   "outputs": [],
   "execution_count": 4
  },
  {
   "metadata": {},
   "cell_type": "markdown",
   "source": "## transform the filepath into image data",
   "id": "c6fec7d0746f0d0e"
  },
  {
   "metadata": {
    "ExecuteTime": {
     "end_time": "2025-05-29T13:24:06.280031Z",
     "start_time": "2025-05-29T13:23:38.298238Z"
    }
   },
   "cell_type": "code",
   "source": [
    "with tf.device('/GPU:0'):\n",
    "    train_df['data'] = train_df['filepath'].apply(\n",
    "        lambda x: preprocess_image(x, (100, 100), preprocess_function=tf.keras.applications.vgg19.preprocess_input, augment=True))\n",
    "    img_test_df['data'] = img_test_df['filepath'].apply(\n",
    "        lambda x: preprocess_image(x, (100, 100), preprocess_function=tf.keras.applications.vgg19.preprocess_input)\n",
    "    )\n"
   ],
   "id": "3ad405e920f8613f",
   "outputs": [],
   "execution_count": 5
  },
  {
   "metadata": {},
   "cell_type": "markdown",
   "source": "## Split and Shuffle Dataset into train, val, and test",
   "id": "82badffd9d6aeb00"
  },
  {
   "metadata": {
    "ExecuteTime": {
     "end_time": "2025-05-29T13:24:08.559360Z",
     "start_time": "2025-05-29T13:24:08.545361Z"
    }
   },
   "cell_type": "code",
   "source": [
    "# Image Data\n",
    "# train_df = train_df.sample(frac=1, random_state=19).reset_index(drop=True)\n",
    "train_df, img_val_df = train_test_split(train_df, test_size=.2, random_state=100, shuffle=True)"
   ],
   "id": "f93245b800fb8c2a",
   "outputs": [],
   "execution_count": 6
  },
  {
   "metadata": {},
   "cell_type": "markdown",
   "source": "## Downsampling with following least dataset amount",
   "id": "f9015cda1cda573d"
  },
  {
   "metadata": {
    "ExecuteTime": {
     "end_time": "2025-05-29T13:24:12.509929Z",
     "start_time": "2025-05-29T13:24:12.495932Z"
    }
   },
   "cell_type": "code",
   "source": [
    "# train_df, audio = downsample_df(train_df, audio)\n",
    "# img_val_df, aud_val_df = downsample_df(img_val_df, aud_val_df)\n",
    "# img_test_df, aud_test_df = downsample_df(img_test_df, aud_test_df)"
   ],
   "id": "6909a8372ec6e293",
   "outputs": [],
   "execution_count": 7
  },
  {
   "metadata": {
    "ExecuteTime": {
     "end_time": "2025-05-29T13:24:16.449692Z",
     "start_time": "2025-05-29T13:24:16.434693Z"
    }
   },
   "cell_type": "code",
   "source": [
    "# print(len(train_df))\n",
    "# print(len(img_val_df))\n",
    "# print(len(img_test_df))\n",
    "# \n",
    "# print(\"===============================\")\n",
    "# \n",
    "# print(len(audio))\n",
    "# print(len(aud_val_df))\n",
    "# print(len(aud_test_df))"
   ],
   "id": "eaa5c3fd8cfc20b5",
   "outputs": [],
   "execution_count": 8
  },
  {
   "metadata": {},
   "cell_type": "markdown",
   "source": "## Convert to Numpy",
   "id": "572b7d86cb7382e6"
  },
  {
   "metadata": {
    "ExecuteTime": {
     "end_time": "2025-05-29T13:24:20.390698Z",
     "start_time": "2025-05-29T13:24:20.375140Z"
    }
   },
   "cell_type": "code",
   "source": [
    "# # Audio Data\n",
    "# x_audio_train = np.stack(audio['data'].values)\n",
    "# y_audio_train = np.array(audio['label_encoded'].values)\n",
    "# \n",
    "# x_audio_val = np.stack(aud_val_df['data'].values)\n",
    "# y_audio_val = np.array(aud_val_df['label_encoded'].values)\n",
    "# \n",
    "# x_audio_test = np.stack(aud_test_df['data'].values)\n",
    "# y_audio_test = np.array(aud_test_df['label_encoded'].values)"
   ],
   "id": "f0d3c7a34f364d3c",
   "outputs": [],
   "execution_count": 9
  },
  {
   "metadata": {
    "ExecuteTime": {
     "end_time": "2025-05-29T13:24:24.298993Z",
     "start_time": "2025-05-29T13:24:24.283991Z"
    }
   },
   "cell_type": "code",
   "source": "train_df.data.iloc[1].shape",
   "id": "24750ee1bf16a239",
   "outputs": [
    {
     "data": {
      "text/plain": [
       "(100, 100, 3)"
      ]
     },
     "execution_count": 10,
     "metadata": {},
     "output_type": "execute_result"
    }
   ],
   "execution_count": 10
  },
  {
   "metadata": {
    "ExecuteTime": {
     "end_time": "2025-05-29T13:24:32.158461Z",
     "start_time": "2025-05-29T13:24:28.241394Z"
    }
   },
   "cell_type": "code",
   "source": [
    "x_img_train = np.stack(train_df['data'].values)\n",
    "y_img_train = np.array(train_df['label_encoded'].values)\n",
    "\n",
    "x_img_val = np.stack(img_val_df['data'].values)\n",
    "y_img_val = np.array(img_val_df['label_encoded'].values)\n",
    "\n",
    "x_img_test = np.stack(img_test_df['data'].values)\n",
    "y_img_test = np.array(img_test_df['label_encoded'].values)"
   ],
   "id": "2979bd91f67e17f",
   "outputs": [],
   "execution_count": 11
  },
  {
   "metadata": {
    "ExecuteTime": {
     "end_time": "2025-05-29T13:24:40.140985Z",
     "start_time": "2025-05-29T13:24:36.399096Z"
    }
   },
   "cell_type": "code",
   "source": "del train_df, img_val_df, img_test_df",
   "id": "d90c7a8bd1d5e7b2",
   "outputs": [],
   "execution_count": 12
  },
  {
   "metadata": {},
   "cell_type": "markdown",
   "source": [
    "# Modeling\n",
    "## Creating Model"
   ],
   "id": "fbcf6770a70c43d8"
  },
  {
   "metadata": {
    "ExecuteTime": {
     "end_time": "2025-05-29T13:24:41.116661Z",
     "start_time": "2025-05-29T13:24:40.172501Z"
    }
   },
   "cell_type": "code",
   "source": [
    "base = tf.keras.applications.VGG19(\n",
    "    include_top=False,\n",
    "    weights='imagenet',\n",
    "    input_shape=(100, 100, 3),\n",
    "    pooling=None\n",
    ")\n",
    "\n",
    "for layer in base.layers:\n",
    "    layer.trainable = False\n"
   ],
   "id": "3d8bcb8a27ee7d52",
   "outputs": [],
   "execution_count": 13
  },
  {
   "metadata": {
    "ExecuteTime": {
     "end_time": "2025-05-29T13:24:41.211583Z",
     "start_time": "2025-05-29T13:24:41.149222Z"
    }
   },
   "cell_type": "code",
   "source": [
    "input_image = tf.keras.Input(shape=(100, 100, 3), name='input_image')\n",
    "\n",
    "left = base(input_image)\n",
    "left = tf.keras.layers.GlobalMaxPooling2D()(left)\n",
    "# left = tf.keras.layers.Dense(512, activation='relu', kernel_regularizer=tf.keras.regularizers.l1_l2(0.01))(left)\n",
    "left = tf.keras.layers.Dense(512, activation='relu')(left)\n",
    "left = tf.keras.layers.Dense(512, activation='relu')(left)\n",
    "out1 = tf.keras.layers.Dense(7, activation='softmax', name='image_class')(left)\n",
    "\n",
    "model = tf.keras.models.Model(input_image, out1)"
   ],
   "id": "863a1e9547c3f104",
   "outputs": [],
   "execution_count": 14
  },
  {
   "metadata": {
    "ExecuteTime": {
     "end_time": "2025-05-29T13:24:41.798387Z",
     "start_time": "2025-05-29T13:24:41.228584Z"
    }
   },
   "cell_type": "code",
   "source": "plot_model(model, show_shapes=True, show_layer_names=True)",
   "id": "4443982ecae82513",
   "outputs": [
    {
     "data": {
      "image/png": "[encoded data removed]",
      "text/plain": [
       "<IPython.core.display.Image object>"
      ]
     },
     "execution_count": 15,
     "metadata": {},
     "output_type": "execute_result"
    }
   ],
   "execution_count": 15
  },
  {
   "metadata": {},
   "cell_type": "markdown",
   "source": "## Compile the model",
   "id": "27682b2fa80eba43"
  },
  {
   "metadata": {
    "ExecuteTime": {
     "end_time": "2025-05-29T13:24:41.845386Z",
     "start_time": "2025-05-29T13:24:41.831387Z"
    }
   },
   "cell_type": "code",
   "source": [
    "model.compile(\n",
    "    optimizer=tf.keras.optimizers.Nadam(learning_rate=1e-3),\n",
    "    loss=tf.keras.losses.SparseCategoricalCrossentropy(),\n",
    "    metrics='accuracy',\n",
    ")"
   ],
   "id": "354444500e93155b",
   "outputs": [],
   "execution_count": 16
  },
  {
   "metadata": {
    "ExecuteTime": {
     "end_time": "2025-05-29T13:24:42.064610Z",
     "start_time": "2025-05-29T13:24:41.877388Z"
    }
   },
   "cell_type": "code",
   "source": [
    "tf.keras.backend.clear_session()\n",
    "gc.collect()"
   ],
   "id": "ff82969e8406b315",
   "outputs": [
    {
     "data": {
      "text/plain": [
       "30"
      ]
     },
     "execution_count": 17,
     "metadata": {},
     "output_type": "execute_result"
    }
   ],
   "execution_count": 17
  },
  {
   "metadata": {
    "ExecuteTime": {
     "end_time": "2025-05-29T13:24:42.112123Z",
     "start_time": "2025-05-29T13:24:42.097610Z"
    }
   },
   "cell_type": "code",
   "source": [
    "early = tf.keras.callbacks.EarlyStopping(\n",
    "    monitor='val_loss',\n",
    "    restore_best_weights=True,\n",
    "    mode='min',\n",
    "    # start_from_epoch=2,\n",
    "    patience=5\n",
    ")\n",
    "\n",
    "checkpoint = tf.keras.callbacks.ModelCheckpoint(\n",
    "    filepath=os.path.join('model', 'best_model.keras'),\n",
    "    verbose=2,\n",
    "    save_best_only=True,\n",
    "    monitor='val_loss',\n",
    "    mode='min'\n",
    ")\n",
    "\n",
    "lr_scheduler = tf.keras.callbacks.ReduceLROnPlateau(monitor='val_loss',\n",
    "                                                    factor=0.1,\n",
    "                                                    min_lr=1e-6,\n",
    "                                                    patience=3,\n",
    "                                                    mode='min'\n",
    "                                                    )"
   ],
   "id": "a5616ca24295c6a1",
   "outputs": [],
   "execution_count": 18
  },
  {
   "metadata": {},
   "cell_type": "markdown",
   "source": "## Train the model",
   "id": "d406967db1f43d88"
  },
  {
   "metadata": {
    "ExecuteTime": {
     "end_time": "2025-05-29T13:24:42.239777Z",
     "start_time": "2025-05-29T13:24:42.129123Z"
    }
   },
   "cell_type": "code",
   "source": [
    "gc.collect()\n",
    "tf.keras.backend.clear_session()"
   ],
   "id": "24cd4a13d4df16d",
   "outputs": [],
   "execution_count": 19
  },
  {
   "metadata": {
    "ExecuteTime": {
     "end_time": "2025-05-29T14:13:15.430294Z",
     "start_time": "2025-05-29T13:24:42.271782Z"
    }
   },
   "cell_type": "code",
   "source": [
    "history = model.fit(\n",
    "    x=x_img_train,\n",
    "    y=y_img_train,\n",
    "    validation_data=(\n",
    "        x_img_val,\n",
    "        y_img_val\n",
    "    ),\n",
    "    callbacks=[lr_scheduler],\n",
    "    epochs=100,\n",
    "    batch_size=BATCH_SIZE,\n",
    "    steps_per_epoch=len(x_img_train) // BATCH_SIZE,\n",
    "    validation_steps=len(x_img_val) // BATCH_SIZE,\n",
    ")\n"
   ],
   "id": "74855c29b77614fb",
   "outputs": [
    {
     "name": "stdout",
     "output_type": "stream",
     "text": [
      "Epoch 1/100\n",
      "418/418 [==============================] - 40s 77ms/step - loss: 2.7128 - accuracy: 0.3131 - val_loss: 1.6977 - val_accuracy: 0.3570 - lr: 0.0010\n",
      "Epoch 2/100\n",
      "418/418 [==============================] - 30s 69ms/step - loss: 1.5040 - accuracy: 0.4286 - val_loss: 1.5803 - val_accuracy: 0.4017 - lr: 0.0010\n",
      "Epoch 3/100\n",
      "418/418 [==============================] - 29s 69ms/step - loss: 1.3303 - accuracy: 0.4972 - val_loss: 1.5685 - val_accuracy: 0.4130 - lr: 0.0010\n",
      "Epoch 4/100\n",
      "418/418 [==============================] - 29s 69ms/step - loss: 1.1753 - accuracy: 0.5651 - val_loss: 1.6208 - val_accuracy: 0.4217 - lr: 0.0010\n",
      "Epoch 5/100\n",
      "418/418 [==============================] - 29s 69ms/step - loss: 1.0355 - accuracy: 0.6221 - val_loss: 1.6968 - val_accuracy: 0.4192 - lr: 0.0010\n",
      "Epoch 6/100\n",
      "418/418 [==============================] - 29s 69ms/step - loss: 0.9022 - accuracy: 0.6689 - val_loss: 1.8014 - val_accuracy: 0.4228 - lr: 0.0010\n",
      "Epoch 7/100\n",
      "418/418 [==============================] - 29s 69ms/step - loss: 0.5390 - accuracy: 0.8245 - val_loss: 1.8093 - val_accuracy: 0.4485 - lr: 1.0000e-04\n",
      "Epoch 8/100\n",
      "418/418 [==============================] - 29s 69ms/step - loss: 0.4030 - accuracy: 0.8781 - val_loss: 1.9033 - val_accuracy: 0.4467 - lr: 1.0000e-04\n",
      "Epoch 9/100\n",
      "418/418 [==============================] - 29s 69ms/step - loss: 0.3342 - accuracy: 0.9043 - val_loss: 1.9966 - val_accuracy: 0.4468 - lr: 1.0000e-04\n",
      "Epoch 10/100\n",
      "418/418 [==============================] - 29s 69ms/step - loss: 0.2673 - accuracy: 0.9350 - val_loss: 2.0093 - val_accuracy: 0.4446 - lr: 1.0000e-05\n",
      "Epoch 11/100\n",
      "418/418 [==============================] - 29s 69ms/step - loss: 0.2556 - accuracy: 0.9392 - val_loss: 2.0227 - val_accuracy: 0.4453 - lr: 1.0000e-05\n",
      "Epoch 12/100\n",
      "418/418 [==============================] - 29s 70ms/step - loss: 0.2496 - accuracy: 0.9406 - val_loss: 2.0380 - val_accuracy: 0.4438 - lr: 1.0000e-05\n",
      "Epoch 13/100\n",
      "418/418 [==============================] - 29s 70ms/step - loss: 0.2416 - accuracy: 0.9442 - val_loss: 2.0395 - val_accuracy: 0.4437 - lr: 1.0000e-06\n",
      "Epoch 14/100\n",
      "418/418 [==============================] - 29s 69ms/step - loss: 0.2400 - accuracy: 0.9453 - val_loss: 2.0416 - val_accuracy: 0.4452 - lr: 1.0000e-06\n",
      "Epoch 15/100\n",
      "418/418 [==============================] - 29s 69ms/step - loss: 0.2399 - accuracy: 0.9449 - val_loss: 2.0433 - val_accuracy: 0.4449 - lr: 1.0000e-06\n",
      "Epoch 16/100\n",
      "418/418 [==============================] - 29s 69ms/step - loss: 0.2383 - accuracy: 0.9457 - val_loss: 2.0450 - val_accuracy: 0.4455 - lr: 1.0000e-06\n",
      "Epoch 17/100\n",
      "418/418 [==============================] - 29s 70ms/step - loss: 0.2374 - accuracy: 0.9457 - val_loss: 2.0470 - val_accuracy: 0.4449 - lr: 1.0000e-06\n",
      "Epoch 18/100\n",
      "418/418 [==============================] - 29s 69ms/step - loss: 0.2378 - accuracy: 0.9453 - val_loss: 2.0489 - val_accuracy: 0.4452 - lr: 1.0000e-06\n",
      "Epoch 19/100\n",
      "418/418 [==============================] - 29s 70ms/step - loss: 0.2350 - accuracy: 0.9463 - val_loss: 2.0508 - val_accuracy: 0.4447 - lr: 1.0000e-06\n",
      "Epoch 20/100\n",
      "418/418 [==============================] - 29s 70ms/step - loss: 0.2352 - accuracy: 0.9467 - val_loss: 2.0530 - val_accuracy: 0.4449 - lr: 1.0000e-06\n",
      "Epoch 21/100\n",
      "418/418 [==============================] - 29s 70ms/step - loss: 0.2348 - accuracy: 0.9462 - val_loss: 2.0548 - val_accuracy: 0.4447 - lr: 1.0000e-06\n",
      "Epoch 22/100\n",
      "418/418 [==============================] - 29s 70ms/step - loss: 0.2325 - accuracy: 0.9476 - val_loss: 2.0570 - val_accuracy: 0.4447 - lr: 1.0000e-06\n",
      "Epoch 23/100\n",
      "418/418 [==============================] - 29s 70ms/step - loss: 0.2333 - accuracy: 0.9465 - val_loss: 2.0589 - val_accuracy: 0.4446 - lr: 1.0000e-06\n",
      "Epoch 24/100\n",
      "418/418 [==============================] - 29s 70ms/step - loss: 0.2297 - accuracy: 0.9476 - val_loss: 2.0607 - val_accuracy: 0.4447 - lr: 1.0000e-06\n",
      "Epoch 25/100\n",
      "418/418 [==============================] - 29s 70ms/step - loss: 0.2304 - accuracy: 0.9478 - val_loss: 2.0625 - val_accuracy: 0.4446 - lr: 1.0000e-06\n",
      "Epoch 26/100\n",
      "418/418 [==============================] - 29s 70ms/step - loss: 0.2307 - accuracy: 0.9472 - val_loss: 2.0647 - val_accuracy: 0.4446 - lr: 1.0000e-06\n",
      "Epoch 27/100\n",
      "418/418 [==============================] - 29s 70ms/step - loss: 0.2287 - accuracy: 0.9485 - val_loss: 2.0663 - val_accuracy: 0.4446 - lr: 1.0000e-06\n",
      "Epoch 28/100\n",
      "418/418 [==============================] - 29s 70ms/step - loss: 0.2286 - accuracy: 0.9486 - val_loss: 2.0687 - val_accuracy: 0.4447 - lr: 1.0000e-06\n",
      "Epoch 29/100\n",
      "418/418 [==============================] - 29s 70ms/step - loss: 0.2267 - accuracy: 0.9488 - val_loss: 2.0699 - val_accuracy: 0.4446 - lr: 1.0000e-06\n",
      "Epoch 30/100\n",
      "418/418 [==============================] - 29s 69ms/step - loss: 0.2251 - accuracy: 0.9494 - val_loss: 2.0720 - val_accuracy: 0.4444 - lr: 1.0000e-06\n",
      "Epoch 31/100\n",
      "418/418 [==============================] - 29s 69ms/step - loss: 0.2261 - accuracy: 0.9489 - val_loss: 2.0740 - val_accuracy: 0.4447 - lr: 1.0000e-06\n",
      "Epoch 32/100\n",
      "418/418 [==============================] - 29s 70ms/step - loss: 0.2245 - accuracy: 0.9492 - val_loss: 2.0760 - val_accuracy: 0.4449 - lr: 1.0000e-06\n",
      "Epoch 33/100\n",
      "418/418 [==============================] - 29s 69ms/step - loss: 0.2228 - accuracy: 0.9504 - val_loss: 2.0780 - val_accuracy: 0.4449 - lr: 1.0000e-06\n",
      "Epoch 34/100\n",
      "418/418 [==============================] - 29s 70ms/step - loss: 0.2236 - accuracy: 0.9494 - val_loss: 2.0797 - val_accuracy: 0.4450 - lr: 1.0000e-06\n",
      "Epoch 35/100\n",
      "418/418 [==============================] - 29s 70ms/step - loss: 0.2212 - accuracy: 0.9509 - val_loss: 2.0816 - val_accuracy: 0.4453 - lr: 1.0000e-06\n",
      "Epoch 36/100\n",
      "418/418 [==============================] - 29s 70ms/step - loss: 0.2218 - accuracy: 0.9505 - val_loss: 2.0833 - val_accuracy: 0.4453 - lr: 1.0000e-06\n",
      "Epoch 37/100\n",
      "418/418 [==============================] - 29s 70ms/step - loss: 0.2208 - accuracy: 0.9507 - val_loss: 2.0849 - val_accuracy: 0.4450 - lr: 1.0000e-06\n",
      "Epoch 38/100\n",
      "418/418 [==============================] - 29s 70ms/step - loss: 0.2195 - accuracy: 0.9514 - val_loss: 2.0867 - val_accuracy: 0.4455 - lr: 1.0000e-06\n",
      "Epoch 39/100\n",
      "418/418 [==============================] - 29s 70ms/step - loss: 0.2195 - accuracy: 0.9509 - val_loss: 2.0886 - val_accuracy: 0.4450 - lr: 1.0000e-06\n",
      "Epoch 40/100\n",
      "418/418 [==============================] - 29s 70ms/step - loss: 0.2164 - accuracy: 0.9525 - val_loss: 2.0906 - val_accuracy: 0.4450 - lr: 1.0000e-06\n",
      "Epoch 41/100\n",
      "418/418 [==============================] - 29s 69ms/step - loss: 0.2189 - accuracy: 0.9516 - val_loss: 2.0919 - val_accuracy: 0.4455 - lr: 1.0000e-06\n",
      "Epoch 42/100\n",
      "418/418 [==============================] - 29s 70ms/step - loss: 0.2163 - accuracy: 0.9525 - val_loss: 2.0943 - val_accuracy: 0.4453 - lr: 1.0000e-06\n",
      "Epoch 43/100\n",
      "418/418 [==============================] - 29s 69ms/step - loss: 0.2138 - accuracy: 0.9534 - val_loss: 2.0961 - val_accuracy: 0.4446 - lr: 1.0000e-06\n",
      "Epoch 44/100\n",
      "418/418 [==============================] - 29s 70ms/step - loss: 0.2143 - accuracy: 0.9530 - val_loss: 2.0978 - val_accuracy: 0.4455 - lr: 1.0000e-06\n",
      "Epoch 45/100\n",
      "418/418 [==============================] - 29s 70ms/step - loss: 0.2144 - accuracy: 0.9528 - val_loss: 2.0997 - val_accuracy: 0.4452 - lr: 1.0000e-06\n",
      "Epoch 46/100\n",
      "418/418 [==============================] - 29s 69ms/step - loss: 0.2125 - accuracy: 0.9536 - val_loss: 2.1012 - val_accuracy: 0.4447 - lr: 1.0000e-06\n",
      "Epoch 47/100\n",
      "418/418 [==============================] - 29s 70ms/step - loss: 0.2128 - accuracy: 0.9528 - val_loss: 2.1034 - val_accuracy: 0.4456 - lr: 1.0000e-06\n",
      "Epoch 48/100\n",
      "418/418 [==============================] - 29s 70ms/step - loss: 0.2120 - accuracy: 0.9539 - val_loss: 2.1050 - val_accuracy: 0.4453 - lr: 1.0000e-06\n",
      "Epoch 49/100\n",
      "418/418 [==============================] - 29s 69ms/step - loss: 0.2101 - accuracy: 0.9542 - val_loss: 2.1071 - val_accuracy: 0.4456 - lr: 1.0000e-06\n",
      "Epoch 50/100\n",
      "418/418 [==============================] - 29s 69ms/step - loss: 0.2079 - accuracy: 0.9554 - val_loss: 2.1089 - val_accuracy: 0.4455 - lr: 1.0000e-06\n",
      "Epoch 51/100\n",
      "418/418 [==============================] - 29s 70ms/step - loss: 0.2108 - accuracy: 0.9536 - val_loss: 2.1108 - val_accuracy: 0.4459 - lr: 1.0000e-06\n",
      "Epoch 52/100\n",
      "418/418 [==============================] - 29s 69ms/step - loss: 0.2091 - accuracy: 0.9544 - val_loss: 2.1123 - val_accuracy: 0.4455 - lr: 1.0000e-06\n",
      "Epoch 53/100\n",
      "418/418 [==============================] - 29s 70ms/step - loss: 0.2061 - accuracy: 0.9561 - val_loss: 2.1147 - val_accuracy: 0.4450 - lr: 1.0000e-06\n",
      "Epoch 54/100\n",
      "418/418 [==============================] - 29s 70ms/step - loss: 0.2067 - accuracy: 0.9548 - val_loss: 2.1160 - val_accuracy: 0.4452 - lr: 1.0000e-06\n",
      "Epoch 55/100\n",
      "418/418 [==============================] - 29s 69ms/step - loss: 0.2069 - accuracy: 0.9554 - val_loss: 2.1181 - val_accuracy: 0.4449 - lr: 1.0000e-06\n",
      "Epoch 56/100\n",
      "418/418 [==============================] - 29s 70ms/step - loss: 0.2038 - accuracy: 0.9560 - val_loss: 2.1200 - val_accuracy: 0.4452 - lr: 1.0000e-06\n",
      "Epoch 57/100\n",
      "418/418 [==============================] - 29s 70ms/step - loss: 0.2045 - accuracy: 0.9564 - val_loss: 2.1218 - val_accuracy: 0.4455 - lr: 1.0000e-06\n",
      "Epoch 58/100\n",
      "418/418 [==============================] - 29s 69ms/step - loss: 0.2044 - accuracy: 0.9559 - val_loss: 2.1239 - val_accuracy: 0.4452 - lr: 1.0000e-06\n",
      "Epoch 59/100\n",
      "418/418 [==============================] - 29s 70ms/step - loss: 0.2016 - accuracy: 0.9559 - val_loss: 2.1252 - val_accuracy: 0.4452 - lr: 1.0000e-06\n",
      "Epoch 60/100\n",
      "418/418 [==============================] - 29s 69ms/step - loss: 0.2017 - accuracy: 0.9570 - val_loss: 2.1274 - val_accuracy: 0.4458 - lr: 1.0000e-06\n",
      "Epoch 61/100\n",
      "418/418 [==============================] - 29s 69ms/step - loss: 0.2021 - accuracy: 0.9571 - val_loss: 2.1293 - val_accuracy: 0.4458 - lr: 1.0000e-06\n",
      "Epoch 62/100\n",
      "418/418 [==============================] - 29s 69ms/step - loss: 0.2013 - accuracy: 0.9562 - val_loss: 2.1310 - val_accuracy: 0.4455 - lr: 1.0000e-06\n",
      "Epoch 63/100\n",
      "418/418 [==============================] - 29s 70ms/step - loss: 0.2001 - accuracy: 0.9566 - val_loss: 2.1327 - val_accuracy: 0.4458 - lr: 1.0000e-06\n",
      "Epoch 64/100\n",
      "418/418 [==============================] - 29s 70ms/step - loss: 0.1984 - accuracy: 0.9580 - val_loss: 2.1350 - val_accuracy: 0.4450 - lr: 1.0000e-06\n",
      "Epoch 65/100\n",
      "418/418 [==============================] - 29s 70ms/step - loss: 0.1981 - accuracy: 0.9578 - val_loss: 2.1362 - val_accuracy: 0.4453 - lr: 1.0000e-06\n",
      "Epoch 66/100\n",
      "418/418 [==============================] - 29s 70ms/step - loss: 0.1965 - accuracy: 0.9583 - val_loss: 2.1381 - val_accuracy: 0.4452 - lr: 1.0000e-06\n",
      "Epoch 67/100\n",
      "418/418 [==============================] - 29s 69ms/step - loss: 0.1979 - accuracy: 0.9579 - val_loss: 2.1404 - val_accuracy: 0.4446 - lr: 1.0000e-06\n",
      "Epoch 68/100\n",
      "418/418 [==============================] - 29s 69ms/step - loss: 0.1959 - accuracy: 0.9583 - val_loss: 2.1421 - val_accuracy: 0.4450 - lr: 1.0000e-06\n",
      "Epoch 69/100\n",
      "418/418 [==============================] - 29s 70ms/step - loss: 0.1957 - accuracy: 0.9589 - val_loss: 2.1439 - val_accuracy: 0.4453 - lr: 1.0000e-06\n",
      "Epoch 70/100\n",
      "418/418 [==============================] - 29s 69ms/step - loss: 0.1947 - accuracy: 0.9596 - val_loss: 2.1457 - val_accuracy: 0.4452 - lr: 1.0000e-06\n",
      "Epoch 71/100\n",
      "418/418 [==============================] - 29s 69ms/step - loss: 0.1924 - accuracy: 0.9603 - val_loss: 2.1480 - val_accuracy: 0.4449 - lr: 1.0000e-06\n",
      "Epoch 72/100\n",
      "418/418 [==============================] - 29s 70ms/step - loss: 0.1946 - accuracy: 0.9592 - val_loss: 2.1492 - val_accuracy: 0.4459 - lr: 1.0000e-06\n",
      "Epoch 73/100\n",
      "418/418 [==============================] - 29s 70ms/step - loss: 0.1922 - accuracy: 0.9601 - val_loss: 2.1514 - val_accuracy: 0.4450 - lr: 1.0000e-06\n",
      "Epoch 74/100\n",
      "418/418 [==============================] - 29s 69ms/step - loss: 0.1932 - accuracy: 0.9591 - val_loss: 2.1527 - val_accuracy: 0.4453 - lr: 1.0000e-06\n",
      "Epoch 75/100\n",
      "418/418 [==============================] - 29s 70ms/step - loss: 0.1884 - accuracy: 0.9620 - val_loss: 2.1550 - val_accuracy: 0.4456 - lr: 1.0000e-06\n",
      "Epoch 76/100\n",
      "418/418 [==============================] - 29s 70ms/step - loss: 0.1919 - accuracy: 0.9605 - val_loss: 2.1565 - val_accuracy: 0.4456 - lr: 1.0000e-06\n",
      "Epoch 77/100\n",
      "418/418 [==============================] - 29s 69ms/step - loss: 0.1871 - accuracy: 0.9622 - val_loss: 2.1587 - val_accuracy: 0.4455 - lr: 1.0000e-06\n",
      "Epoch 78/100\n",
      "418/418 [==============================] - 29s 70ms/step - loss: 0.1890 - accuracy: 0.9614 - val_loss: 2.1601 - val_accuracy: 0.4459 - lr: 1.0000e-06\n",
      "Epoch 79/100\n",
      "418/418 [==============================] - 29s 69ms/step - loss: 0.1887 - accuracy: 0.9611 - val_loss: 2.1618 - val_accuracy: 0.4458 - lr: 1.0000e-06\n",
      "Epoch 80/100\n",
      "418/418 [==============================] - 29s 69ms/step - loss: 0.1886 - accuracy: 0.9617 - val_loss: 2.1636 - val_accuracy: 0.4459 - lr: 1.0000e-06\n",
      "Epoch 81/100\n",
      "418/418 [==============================] - 29s 69ms/step - loss: 0.1854 - accuracy: 0.9628 - val_loss: 2.1654 - val_accuracy: 0.4459 - lr: 1.0000e-06\n",
      "Epoch 82/100\n",
      "418/418 [==============================] - 29s 69ms/step - loss: 0.1857 - accuracy: 0.9629 - val_loss: 2.1673 - val_accuracy: 0.4453 - lr: 1.0000e-06\n",
      "Epoch 83/100\n",
      "418/418 [==============================] - 29s 70ms/step - loss: 0.1857 - accuracy: 0.9622 - val_loss: 2.1692 - val_accuracy: 0.4455 - lr: 1.0000e-06\n",
      "Epoch 84/100\n",
      "418/418 [==============================] - 29s 69ms/step - loss: 0.1862 - accuracy: 0.9619 - val_loss: 2.1712 - val_accuracy: 0.4456 - lr: 1.0000e-06\n",
      "Epoch 85/100\n",
      "418/418 [==============================] - 29s 70ms/step - loss: 0.1809 - accuracy: 0.9644 - val_loss: 2.1727 - val_accuracy: 0.4453 - lr: 1.0000e-06\n",
      "Epoch 86/100\n",
      "418/418 [==============================] - 29s 70ms/step - loss: 0.1845 - accuracy: 0.9625 - val_loss: 2.1746 - val_accuracy: 0.4458 - lr: 1.0000e-06\n",
      "Epoch 87/100\n",
      "418/418 [==============================] - 29s 69ms/step - loss: 0.1821 - accuracy: 0.9644 - val_loss: 2.1765 - val_accuracy: 0.4455 - lr: 1.0000e-06\n",
      "Epoch 88/100\n",
      "418/418 [==============================] - 29s 70ms/step - loss: 0.1820 - accuracy: 0.9638 - val_loss: 2.1783 - val_accuracy: 0.4452 - lr: 1.0000e-06\n",
      "Epoch 89/100\n",
      "418/418 [==============================] - 29s 70ms/step - loss: 0.1799 - accuracy: 0.9649 - val_loss: 2.1802 - val_accuracy: 0.4450 - lr: 1.0000e-06\n",
      "Epoch 90/100\n",
      "418/418 [==============================] - 29s 70ms/step - loss: 0.1813 - accuracy: 0.9640 - val_loss: 2.1822 - val_accuracy: 0.4453 - lr: 1.0000e-06\n",
      "Epoch 91/100\n",
      "418/418 [==============================] - 29s 70ms/step - loss: 0.1800 - accuracy: 0.9648 - val_loss: 2.1841 - val_accuracy: 0.4453 - lr: 1.0000e-06\n",
      "Epoch 92/100\n",
      "418/418 [==============================] - 29s 70ms/step - loss: 0.1783 - accuracy: 0.9655 - val_loss: 2.1855 - val_accuracy: 0.4443 - lr: 1.0000e-06\n",
      "Epoch 93/100\n",
      "418/418 [==============================] - 29s 70ms/step - loss: 0.1783 - accuracy: 0.9660 - val_loss: 2.1876 - val_accuracy: 0.4453 - lr: 1.0000e-06\n",
      "Epoch 94/100\n",
      "418/418 [==============================] - 29s 70ms/step - loss: 0.1778 - accuracy: 0.9659 - val_loss: 2.1895 - val_accuracy: 0.4452 - lr: 1.0000e-06\n",
      "Epoch 95/100\n",
      "418/418 [==============================] - 29s 69ms/step - loss: 0.1770 - accuracy: 0.9655 - val_loss: 2.1912 - val_accuracy: 0.4452 - lr: 1.0000e-06\n",
      "Epoch 96/100\n",
      "418/418 [==============================] - 29s 69ms/step - loss: 0.1766 - accuracy: 0.9658 - val_loss: 2.1928 - val_accuracy: 0.4447 - lr: 1.0000e-06\n",
      "Epoch 97/100\n",
      "418/418 [==============================] - 28s 67ms/step - loss: 0.1765 - accuracy: 0.9659 - val_loss: 2.1950 - val_accuracy: 0.4453 - lr: 1.0000e-06\n",
      "Epoch 98/100\n",
      "418/418 [==============================] - 28s 67ms/step - loss: 0.1731 - accuracy: 0.9665 - val_loss: 2.1971 - val_accuracy: 0.4452 - lr: 1.0000e-06\n",
      "Epoch 99/100\n",
      "418/418 [==============================] - 28s 67ms/step - loss: 0.1751 - accuracy: 0.9670 - val_loss: 2.1982 - val_accuracy: 0.4446 - lr: 1.0000e-06\n",
      "Epoch 100/100\n",
      "418/418 [==============================] - 28s 67ms/step - loss: 0.1713 - accuracy: 0.9677 - val_loss: 2.2010 - val_accuracy: 0.4444 - lr: 1.0000e-06\n"
     ]
    }
   ],
   "execution_count": 20
  },
  {
   "metadata": {},
   "cell_type": "markdown",
   "source": "## Plot the training result",
   "id": "b6e3ca67d8210de7"
  },
  {
   "metadata": {
    "ExecuteTime": {
     "end_time": "2025-05-29T14:13:15.525702Z",
     "start_time": "2025-05-29T14:13:15.510699Z"
    }
   },
   "cell_type": "code",
   "source": [
    "def plot_and_save(metric_name, history, ylabel, filename):\n",
    "    plt.figure()\n",
    "    plt.plot(history.history[metric_name], label=f'Train {ylabel}')\n",
    "    if f'val_{metric_name}' in history.history:\n",
    "        plt.plot(history.history[f'val_{metric_name}'], label=f'Val {ylabel}')\n",
    "    plt.title(f'{ylabel} over Epochs')\n",
    "    plt.xlabel('Epochs')\n",
    "    plt.ylabel(ylabel)\n",
    "    plt.legend()\n",
    "    plt.grid(True)\n",
    "    plt.savefig(filename)\n",
    "    plt.close()"
   ],
   "id": "297a12447f1f4cf7",
   "outputs": [],
   "execution_count": 21
  },
  {
   "metadata": {
    "ExecuteTime": {
     "end_time": "2025-05-29T14:13:15.822286Z",
     "start_time": "2025-05-29T14:13:15.573699Z"
    }
   },
   "cell_type": "code",
   "source": [
    "plot_and_save('loss', history, 'Loss', 'image_loss_plot.png')\n",
    "plot_and_save('accuracy', history, 'Image Classification Accuracy', 'image_class_accuracy_plot.png')"
   ],
   "id": "2c29f9693cf4430f",
   "outputs": [],
   "execution_count": 22
  },
  {
   "metadata": {},
   "cell_type": "markdown",
   "source": [
    "# Evaluation\n",
    "## Using model.evaluate"
   ],
   "id": "d69e8944b9665c09"
  },
  {
   "metadata": {
    "ExecuteTime": {
     "end_time": "2025-05-29T14:13:16.199527Z",
     "start_time": "2025-05-29T14:13:15.854952Z"
    }
   },
   "cell_type": "code",
   "source": [
    "gc.collect()\n",
    "tf.keras.backend.clear_session()"
   ],
   "id": "7447f010f34f0a0f",
   "outputs": [],
   "execution_count": 23
  },
  {
   "metadata": {
    "ExecuteTime": {
     "end_time": "2025-05-29T14:13:22.157393Z",
     "start_time": "2025-05-29T14:13:16.231529Z"
    }
   },
   "cell_type": "code",
   "source": [
    "model.evaluate(x_img_val, y_img_val, batch_size=BATCH_SIZE, verbose=2,\n",
    "               steps=len(x_img_val) // BATCH_SIZE)"
   ],
   "id": "fdfa109b6729f034",
   "outputs": [
    {
     "name": "stdout",
     "output_type": "stream",
     "text": [
      "104/104 - 5s - loss: 2.2010 - accuracy: 0.4444 - 5s/epoch - 50ms/step\n"
     ]
    },
    {
     "data": {
      "text/plain": [
       "[2.2009730339050293, 0.4444110691547394]"
      ]
     },
     "execution_count": 24,
     "metadata": {},
     "output_type": "execute_result"
    }
   ],
   "execution_count": 24
  },
  {
   "metadata": {
    "ExecuteTime": {
     "end_time": "2025-05-29T14:13:29.651174Z",
     "start_time": "2025-05-29T14:13:22.189392Z"
    }
   },
   "cell_type": "code",
   "source": [
    "model.evaluate(x_img_test, y_img_test, batch_size=BATCH_SIZE, verbose=2,\n",
    "               steps=len(x_img_test) // BATCH_SIZE)"
   ],
   "id": "6cf558e75eeb3d1a",
   "outputs": [
    {
     "name": "stdout",
     "output_type": "stream",
     "text": [
      "122/122 - 6s - loss: 2.5601 - accuracy: 0.4091 - 6s/epoch - 50ms/step\n"
     ]
    },
    {
     "data": {
      "text/plain": [
       "[2.560077428817749, 0.40906763076782227]"
      ]
     },
     "execution_count": 25,
     "metadata": {},
     "output_type": "execute_result"
    }
   ],
   "execution_count": 25
  },
  {
   "metadata": {},
   "cell_type": "markdown",
   "source": "## Using confusion matrix",
   "id": "deccd111c42baff7"
  },
  {
   "metadata": {
    "ExecuteTime": {
     "end_time": "2025-05-29T14:13:38.018605Z",
     "start_time": "2025-05-29T14:13:29.748173Z"
    }
   },
   "cell_type": "code",
   "source": [
    "predictions = model.predict(x_img_test)\n",
    "predictions = np.argmax(predictions, axis=1)\n",
    "\n",
    "classes = [x for x in os.listdir(TRAIN_IMAGE_PATH)]\n",
    "print(classes)"
   ],
   "id": "80a7254d0983024b",
   "outputs": [
    {
     "name": "stdout",
     "output_type": "stream",
     "text": [
      "245/245 [==============================] - 8s 28ms/step\n",
      "['angry', 'disgust', 'fear', 'happy', 'neutral', 'sad', 'surprise']\n"
     ]
    }
   ],
   "execution_count": 26
  },
  {
   "metadata": {},
   "cell_type": "markdown",
   "source": "### Plot the confusion Matrix",
   "id": "76c0d5e73d6ab706"
  },
  {
   "metadata": {
    "ExecuteTime": {
     "end_time": "2025-05-29T14:13:38.426006Z",
     "start_time": "2025-05-29T14:13:38.065298Z"
    }
   },
   "cell_type": "code",
   "source": [
    "cm = confusion_matrix(y_img_test, predictions)\n",
    "plt.figure(figsize=(10, 8))  # Set the figure size if needed\n",
    "sns.heatmap(cm, annot=True, cmap='Blues', fmt='g')\n",
    "\n",
    "plt.title('Confusion Matrix Image', pad=20, fontsize=20, fontweight=\"bold\")\n",
    "plt.ylabel('Actual')\n",
    "plt.xlabel('Predicted')\n",
    "\n",
    "plt.xticks(ticks=range(len(classes)), labels=classes, rotation=45)\n",
    "plt.yticks(ticks=range(len(classes)), labels=classes, rotation=0)\n",
    "plt.savefig('confusion_matrix_image.png', dpi=300, bbox_inches='tight')\n",
    "plt.show()"
   ],
   "id": "68627362493f4158",
   "outputs": [
    {
     "data": {
      "text/plain": [
       "<Figure size 1000x800 with 2 Axes>"
      ],
      "image/png": "[encoded data removed]"
     },
     "metadata": {},
     "output_type": "display_data"
    }
   ],
   "execution_count": 27
  },
  {
   "metadata": {
    "ExecuteTime": {
     "end_time": "2025-05-29T14:13:38.458010Z",
     "start_time": "2025-05-29T14:13:38.443010Z"
    }
   },
   "cell_type": "code",
   "source": [
    "# plt.figure(figsize=(10, 8))  # Set the figure size if needed\n",
    "# sns.heatmap(audio_cm, annot=True, cmap='Blues', fmt='g')\n",
    "# \n",
    "# plt.title('Confusion Matrix Audio', pad=20, fontsize=20, fontweight=\"bold\")\n",
    "# plt.ylabel('Actual')\n",
    "# plt.xlabel('Predicted')\n",
    "# \n",
    "# plt.xticks(ticks=range(len(aud_classes)), labels=aud_classes, rotation=45)\n",
    "# plt.yticks(ticks=range(len(aud_classes)), labels=aud_classes, rotation=0)\n",
    "# plt.savefig('confusion_matrix_audio.png', dpi=300, bbox_inches='tight')\n",
    "# plt.show()"
   ],
   "id": "5fd12ac080d5045e",
   "outputs": [],
   "execution_count": 28
  },
  {
   "metadata": {
    "ExecuteTime": {
     "end_time": "2025-05-29T14:13:38.505009Z",
     "start_time": "2025-05-29T14:13:38.490011Z"
    }
   },
   "cell_type": "code",
   "source": "print(classification_report(y_img_test, predictions))",
   "id": "b22289e4687b1bff",
   "outputs": [
    {
     "name": "stdout",
     "output_type": "stream",
     "text": [
      "              precision    recall  f1-score   support\n",
      "\n",
      "           0       0.29      0.32      0.30      1025\n",
      "           1       0.74      0.53      0.62      1004\n",
      "           2       0.28      0.30      0.29      1043\n",
      "           3       0.46      0.48      0.47      1250\n",
      "           4       0.37      0.40      0.38      1252\n",
      "           5       0.32      0.32      0.32      1266\n",
      "           6       0.57      0.54      0.56       991\n",
      "\n",
      "    accuracy                           0.41      7831\n",
      "   macro avg       0.43      0.41      0.42      7831\n",
      "weighted avg       0.43      0.41      0.42      7831\n",
      "\n"
     ]
    }
   ],
   "execution_count": 29
  },
  {
   "metadata": {
    "ExecuteTime": {
     "end_time": "2025-05-29T14:13:38.553009Z",
     "start_time": "2025-05-29T14:13:38.538012Z"
    }
   },
   "cell_type": "code",
   "source": "# print(classification_report(y_audio_test, audio_class))",
   "id": "b963b32e30308ce1",
   "outputs": [],
   "execution_count": 30
  },
  {
   "metadata": {
    "ExecuteTime": {
     "end_time": "2025-05-29T14:13:38.926669Z",
     "start_time": "2025-05-29T14:13:38.570013Z"
    }
   },
   "cell_type": "code",
   "source": "model.save('model_sc4t5_img.h5')",
   "id": "31e448a351826986",
   "outputs": [],
   "execution_count": 31
  },
  {
   "metadata": {
    "ExecuteTime": {
     "end_time": "2025-05-29T14:13:38.973744Z",
     "start_time": "2025-05-29T14:13:38.958745Z"
    }
   },
   "cell_type": "code",
   "source": "",
   "id": "80e8432387c97808",
   "outputs": [],
   "execution_count": null
  }
 ],
 "metadata": {
  "kernelspec": {
   "display_name": "Python 3",
   "language": "python",
   "name": "python3"
  },
  "language_info": {
   "codemirror_mode": {
    "name": "ipython",
    "version": 2
   },
   "file_extension": ".py",
   "mimetype": "text/x-python",
   "name": "python",
   "nbconvert_exporter": "python",
   "pygments_lexer": "ipython2",
   "version": "2.7.6"
  }
 },
 "nbformat": 4,
 "nbformat_minor": 5
}
