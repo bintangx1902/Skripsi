{
 "cells": [
  {
   "cell_type": "code",
   "id": "initial_id",
   "metadata": {
    "collapsed": true,
    "ExecuteTime": {
     "end_time": "2025-05-28T14:49:19.068272Z",
     "start_time": "2025-05-28T14:49:16.028864Z"
    }
   },
   "source": [
    "import gc\n",
    "\n",
    "import seaborn as sns\n",
    "from matplotlib import pyplot as plt\n",
    "from sklearn.metrics import classification_report, confusion_matrix\n",
    "from sklearn.model_selection import train_test_split\n",
    "from sklearn.preprocessing import LabelEncoder\n",
    "\n",
    "from shared.local_path import *\n",
    "from shared.utils import *"
   ],
   "outputs": [],
   "execution_count": 1
  },
  {
   "metadata": {},
   "cell_type": "markdown",
   "source": "### Read Image Data",
   "id": "fb39eefea78185cf"
  },
  {
   "metadata": {
    "ExecuteTime": {
     "end_time": "2025-05-28T14:49:21.288011Z",
     "start_time": "2025-05-28T14:49:19.430087Z"
    }
   },
   "cell_type": "code",
   "source": [
    "filepath = []\n",
    "label = []\n",
    "\n",
    "i = 0\n",
    "for classes in os.listdir(TRAIN_IMAGE_PATH):\n",
    "    for file in os.listdir(os.path.join(TRAIN_IMAGE_PATH, classes)):\n",
    "        path = os.path.join(TRAIN_IMAGE_PATH, classes, file)\n",
    "        filepath.append(path)\n",
    "        label.append(classes)\n",
    "\n",
    "train_df = pd.DataFrame({\n",
    "    'filepath': filepath,\n",
    "    'label': label\n",
    "})\n",
    "\n",
    "del filepath, label\n",
    "\n",
    "print(train_df.shape)\n",
    "print(train_df['label'].unique())\n",
    "train_df.head()"
   ],
   "id": "c0c919652686485a",
   "outputs": [
    {
     "name": "stdout",
     "output_type": "stream",
     "text": [
      "(33479, 2)\n",
      "['angry' 'disgust' 'fear' 'happy' 'neutral' 'sad' 'surprise']\n"
     ]
    },
    {
     "data": {
      "text/plain": [
       "                                            filepath  label\n",
       "0  E:\\Skripsi\\data\\new_data\\train\\angry\\angry_0_1...  angry\n",
       "1  E:\\Skripsi\\data\\new_data\\train\\angry\\angry_0_1...  angry\n",
       "2  E:\\Skripsi\\data\\new_data\\train\\angry\\angry_0_1...  angry\n",
       "3  E:\\Skripsi\\data\\new_data\\train\\angry\\angry_0_1...  angry\n",
       "4  E:\\Skripsi\\data\\new_data\\train\\angry\\angry_0_1...  angry"
      ],
      "text/html": [
       "<div>\n",
       "<style scoped>\n",
       "    .dataframe tbody tr th:only-of-type {\n",
       "        vertical-align: middle;\n",
       "    }\n",
       "\n",
       "    .dataframe tbody tr th {\n",
       "        vertical-align: top;\n",
       "    }\n",
       "\n",
       "    .dataframe thead th {\n",
       "        text-align: right;\n",
       "    }\n",
       "</style>\n",
       "<table border=\"1\" class=\"dataframe\">\n",
       "  <thead>\n",
       "    <tr style=\"text-align: right;\">\n",
       "      <th></th>\n",
       "      <th>filepath</th>\n",
       "      <th>label</th>\n",
       "    </tr>\n",
       "  </thead>\n",
       "  <tbody>\n",
       "    <tr>\n",
       "      <th>0</th>\n",
       "      <td>E:\\Skripsi\\data\\new_data\\train\\angry\\angry_0_1...</td>\n",
       "      <td>angry</td>\n",
       "    </tr>\n",
       "    <tr>\n",
       "      <th>1</th>\n",
       "      <td>E:\\Skripsi\\data\\new_data\\train\\angry\\angry_0_1...</td>\n",
       "      <td>angry</td>\n",
       "    </tr>\n",
       "    <tr>\n",
       "      <th>2</th>\n",
       "      <td>E:\\Skripsi\\data\\new_data\\train\\angry\\angry_0_1...</td>\n",
       "      <td>angry</td>\n",
       "    </tr>\n",
       "    <tr>\n",
       "      <th>3</th>\n",
       "      <td>E:\\Skripsi\\data\\new_data\\train\\angry\\angry_0_1...</td>\n",
       "      <td>angry</td>\n",
       "    </tr>\n",
       "    <tr>\n",
       "      <th>4</th>\n",
       "      <td>E:\\Skripsi\\data\\new_data\\train\\angry\\angry_0_1...</td>\n",
       "      <td>angry</td>\n",
       "    </tr>\n",
       "  </tbody>\n",
       "</table>\n",
       "</div>"
      ]
     },
     "execution_count": 2,
     "metadata": {},
     "output_type": "execute_result"
    }
   ],
   "execution_count": 2
  },
  {
   "metadata": {
    "ExecuteTime": {
     "end_time": "2025-05-28T14:49:21.881497Z",
     "start_time": "2025-05-28T14:49:21.429813Z"
    }
   },
   "cell_type": "code",
   "source": [
    "filepath = []\n",
    "label = []\n",
    "\n",
    "i = 0\n",
    "for classes in os.listdir(TEST_IMAGE_PATH):\n",
    "    for file in os.listdir(os.path.join(TEST_IMAGE_PATH, classes)):\n",
    "        path = os.path.join(TEST_IMAGE_PATH, classes, file)\n",
    "        filepath.append(path)\n",
    "        label.append(classes)\n",
    "\n",
    "img_test_df = pd.DataFrame({\n",
    "    'filepath': filepath,\n",
    "    'label': label\n",
    "})\n",
    "\n",
    "del filepath, label\n",
    "\n",
    "print(img_test_df.shape)\n",
    "print(img_test_df['label'].unique())\n",
    "img_test_df.head()"
   ],
   "id": "c71041d0d4f41f26",
   "outputs": [
    {
     "name": "stdout",
     "output_type": "stream",
     "text": [
      "(7831, 2)\n",
      "['angry' 'disgust' 'fear' 'happy' 'neutral' 'sad' 'surprise']\n"
     ]
    },
    {
     "data": {
      "text/plain": [
       "                                           filepath  label\n",
       "0     E:\\Skripsi\\data\\new_data\\test\\angry\\Anger.jpg  angry\n",
       "1   E:\\Skripsi\\data\\new_data\\test\\angry\\Anger_1.jpg  angry\n",
       "2  E:\\Skripsi\\data\\new_data\\test\\angry\\Anger_10.jpg  angry\n",
       "3  E:\\Skripsi\\data\\new_data\\test\\angry\\Anger_11.jpg  angry\n",
       "4  E:\\Skripsi\\data\\new_data\\test\\angry\\Anger_12.jpg  angry"
      ],
      "text/html": [
       "<div>\n",
       "<style scoped>\n",
       "    .dataframe tbody tr th:only-of-type {\n",
       "        vertical-align: middle;\n",
       "    }\n",
       "\n",
       "    .dataframe tbody tr th {\n",
       "        vertical-align: top;\n",
       "    }\n",
       "\n",
       "    .dataframe thead th {\n",
       "        text-align: right;\n",
       "    }\n",
       "</style>\n",
       "<table border=\"1\" class=\"dataframe\">\n",
       "  <thead>\n",
       "    <tr style=\"text-align: right;\">\n",
       "      <th></th>\n",
       "      <th>filepath</th>\n",
       "      <th>label</th>\n",
       "    </tr>\n",
       "  </thead>\n",
       "  <tbody>\n",
       "    <tr>\n",
       "      <th>0</th>\n",
       "      <td>E:\\Skripsi\\data\\new_data\\test\\angry\\Anger.jpg</td>\n",
       "      <td>angry</td>\n",
       "    </tr>\n",
       "    <tr>\n",
       "      <th>1</th>\n",
       "      <td>E:\\Skripsi\\data\\new_data\\test\\angry\\Anger_1.jpg</td>\n",
       "      <td>angry</td>\n",
       "    </tr>\n",
       "    <tr>\n",
       "      <th>2</th>\n",
       "      <td>E:\\Skripsi\\data\\new_data\\test\\angry\\Anger_10.jpg</td>\n",
       "      <td>angry</td>\n",
       "    </tr>\n",
       "    <tr>\n",
       "      <th>3</th>\n",
       "      <td>E:\\Skripsi\\data\\new_data\\test\\angry\\Anger_11.jpg</td>\n",
       "      <td>angry</td>\n",
       "    </tr>\n",
       "    <tr>\n",
       "      <th>4</th>\n",
       "      <td>E:\\Skripsi\\data\\new_data\\test\\angry\\Anger_12.jpg</td>\n",
       "      <td>angry</td>\n",
       "    </tr>\n",
       "  </tbody>\n",
       "</table>\n",
       "</div>"
      ]
     },
     "execution_count": 3,
     "metadata": {},
     "output_type": "execute_result"
    }
   ],
   "execution_count": 3
  },
  {
   "metadata": {
    "ExecuteTime": {
     "end_time": "2025-05-28T14:49:21.976167Z",
     "start_time": "2025-05-28T14:49:21.962168Z"
    }
   },
   "cell_type": "code",
   "source": [
    "le = LabelEncoder()\n",
    "le.fit(train_df['label'])\n",
    "train_df['label_encoded'] = le.transform(train_df['label'])\n",
    "img_test_df['label_encoded'] = le.transform(img_test_df['label'])"
   ],
   "id": "92230c1bb52efd13",
   "outputs": [],
   "execution_count": 4
  },
  {
   "metadata": {},
   "cell_type": "markdown",
   "source": "## transform the filepath into image data",
   "id": "c6fec7d0746f0d0e"
  },
  {
   "metadata": {
    "ExecuteTime": {
     "end_time": "2025-05-28T14:49:49.243438Z",
     "start_time": "2025-05-28T14:49:22.039169Z"
    }
   },
   "cell_type": "code",
   "source": [
    "with tf.device('/GPU:0'):\n",
    "    train_df['data'] = train_df['filepath'].apply(\n",
    "        lambda x: preprocess_image(x, (100, 100), preprocess_function=tf.keras.applications.vgg19.preprocess_input))\n",
    "    img_test_df['data'] = img_test_df['filepath'].apply(\n",
    "        lambda x: preprocess_image(x, (100, 100), preprocess_function=tf.keras.applications.vgg19.preprocess_input)\n",
    "    )\n"
   ],
   "id": "3ad405e920f8613f",
   "outputs": [],
   "execution_count": 5
  },
  {
   "metadata": {},
   "cell_type": "markdown",
   "source": "## Split and Shuffle Dataset into train, val, and test",
   "id": "82badffd9d6aeb00"
  },
  {
   "metadata": {
    "ExecuteTime": {
     "end_time": "2025-05-28T14:49:53.788221Z",
     "start_time": "2025-05-28T14:49:53.773358Z"
    }
   },
   "cell_type": "code",
   "source": [
    "# Image Data\n",
    "# train_df = train_df.sample(frac=1, random_state=19).reset_index(drop=True)\n",
    "train_df, img_val_df = train_test_split(train_df, test_size=.2, random_state=100, shuffle=True)"
   ],
   "id": "f93245b800fb8c2a",
   "outputs": [],
   "execution_count": 6
  },
  {
   "metadata": {},
   "cell_type": "markdown",
   "source": "## Downsampling with following least dataset amount",
   "id": "f9015cda1cda573d"
  },
  {
   "metadata": {
    "ExecuteTime": {
     "end_time": "2025-05-28T14:49:57.751590Z",
     "start_time": "2025-05-28T14:49:57.736731Z"
    }
   },
   "cell_type": "code",
   "source": [
    "# train_df, audio = downsample_df(train_df, audio)\n",
    "# img_val_df, aud_val_df = downsample_df(img_val_df, aud_val_df)\n",
    "# img_test_df, aud_test_df = downsample_df(img_test_df, aud_test_df)"
   ],
   "id": "6909a8372ec6e293",
   "outputs": [],
   "execution_count": 7
  },
  {
   "metadata": {
    "ExecuteTime": {
     "end_time": "2025-05-28T14:50:01.699405Z",
     "start_time": "2025-05-28T14:50:01.684533Z"
    }
   },
   "cell_type": "code",
   "source": [
    "# print(len(train_df))\n",
    "# print(len(img_val_df))\n",
    "# print(len(img_test_df))\n",
    "# \n",
    "# print(\"===============================\")\n",
    "# \n",
    "# print(len(audio))\n",
    "# print(len(aud_val_df))\n",
    "# print(len(aud_test_df))"
   ],
   "id": "eaa5c3fd8cfc20b5",
   "outputs": [],
   "execution_count": 8
  },
  {
   "metadata": {},
   "cell_type": "markdown",
   "source": "## Convert to Numpy",
   "id": "572b7d86cb7382e6"
  },
  {
   "metadata": {
    "ExecuteTime": {
     "end_time": "2025-05-28T14:50:05.644469Z",
     "start_time": "2025-05-28T14:50:05.630079Z"
    }
   },
   "cell_type": "code",
   "source": [
    "# # Audio Data\n",
    "# x_audio_train = np.stack(audio['data'].values)\n",
    "# y_audio_train = np.array(audio['label_encoded'].values)\n",
    "# \n",
    "# x_audio_val = np.stack(aud_val_df['data'].values)\n",
    "# y_audio_val = np.array(aud_val_df['label_encoded'].values)\n",
    "# \n",
    "# x_audio_test = np.stack(aud_test_df['data'].values)\n",
    "# y_audio_test = np.array(aud_test_df['label_encoded'].values)"
   ],
   "id": "f0d3c7a34f364d3c",
   "outputs": [],
   "execution_count": 9
  },
  {
   "metadata": {
    "ExecuteTime": {
     "end_time": "2025-05-28T14:50:09.582583Z",
     "start_time": "2025-05-28T14:50:09.567585Z"
    }
   },
   "cell_type": "code",
   "source": "train_df.data.iloc[1].shape",
   "id": "24750ee1bf16a239",
   "outputs": [
    {
     "data": {
      "text/plain": [
       "(100, 100, 3)"
      ]
     },
     "execution_count": 10,
     "metadata": {},
     "output_type": "execute_result"
    }
   ],
   "execution_count": 10
  },
  {
   "metadata": {
    "ExecuteTime": {
     "end_time": "2025-05-28T14:50:16.629798Z",
     "start_time": "2025-05-28T14:50:13.536095Z"
    }
   },
   "cell_type": "code",
   "source": [
    "x_img_train = np.stack(train_df['data'].values)\n",
    "y_img_train = np.array(train_df['label_encoded'].values)\n",
    "\n",
    "x_img_val = np.stack(img_val_df['data'].values)\n",
    "y_img_val = np.array(img_val_df['label_encoded'].values)\n",
    "\n",
    "x_img_test = np.stack(img_test_df['data'].values)\n",
    "y_img_test = np.array(img_test_df['label_encoded'].values)"
   ],
   "id": "2979bd91f67e17f",
   "outputs": [],
   "execution_count": 11
  },
  {
   "metadata": {
    "ExecuteTime": {
     "end_time": "2025-05-28T14:50:23.773780Z",
     "start_time": "2025-05-28T14:50:20.626135Z"
    }
   },
   "cell_type": "code",
   "source": "del train_df, img_val_df, img_test_df",
   "id": "d90c7a8bd1d5e7b2",
   "outputs": [],
   "execution_count": 12
  },
  {
   "metadata": {},
   "cell_type": "markdown",
   "source": [
    "# Modeling\n",
    "## Creating Model"
   ],
   "id": "fbcf6770a70c43d8"
  },
  {
   "metadata": {
    "ExecuteTime": {
     "end_time": "2025-05-28T14:50:24.546208Z",
     "start_time": "2025-05-28T14:50:23.790786Z"
    }
   },
   "cell_type": "code",
   "source": [
    "base = tf.keras.applications.VGG19(\n",
    "    include_top=False,\n",
    "    weights='imagenet',\n",
    "    input_shape=(100, 100, 3),\n",
    "    pooling=None\n",
    ")\n",
    "\n",
    "for layer in base.layers:\n",
    "    layer.trainable = False\n"
   ],
   "id": "3d8bcb8a27ee7d52",
   "outputs": [],
   "execution_count": 13
  },
  {
   "metadata": {
    "ExecuteTime": {
     "end_time": "2025-05-28T14:50:24.639599Z",
     "start_time": "2025-05-28T14:50:24.578588Z"
    }
   },
   "cell_type": "code",
   "source": [
    "input_image = tf.keras.Input(shape=(100, 100, 3), name='input_image')\n",
    "\n",
    "left = base(input_image)\n",
    "left = tf.keras.layers.GlobalMaxPooling2D()(left)\n",
    "# left = tf.keras.layers.Dense(512, activation='relu', kernel_regularizer=tf.keras.regularizers.l1_l2(0.01))(left)\n",
    "left = tf.keras.layers.Dense(512, activation='relu')(left)\n",
    "left = tf.keras.layers.Dense(512, activation='relu')(left)\n",
    "out1 = tf.keras.layers.Dense(7, activation='softmax', name='image_class')(left)\n",
    "\n",
    "model = tf.keras.models.Model(input_image, out1)"
   ],
   "id": "863a1e9547c3f104",
   "outputs": [],
   "execution_count": 14
  },
  {
   "metadata": {
    "ExecuteTime": {
     "end_time": "2025-05-28T14:50:25.285550Z",
     "start_time": "2025-05-28T14:50:24.671654Z"
    }
   },
   "cell_type": "code",
   "source": "plot_model(model, show_shapes=True, show_layer_names=True)",
   "id": "4443982ecae82513",
   "outputs": [
    {
     "data": {
      "image/png": "[encoded data removed]",
      "text/plain": [
       "<IPython.core.display.Image object>"
      ]
     },
     "execution_count": 15,
     "metadata": {},
     "output_type": "execute_result"
    }
   ],
   "execution_count": 15
  },
  {
   "metadata": {},
   "cell_type": "markdown",
   "source": "## Compile the model",
   "id": "27682b2fa80eba43"
  },
  {
   "metadata": {
    "ExecuteTime": {
     "end_time": "2025-05-28T14:50:25.315874Z",
     "start_time": "2025-05-28T14:50:25.301709Z"
    }
   },
   "cell_type": "code",
   "source": [
    "model.compile(\n",
    "    optimizer=tf.keras.optimizers.Adamax(learning_rate=1e-3),\n",
    "    loss=tf.keras.losses.SparseCategoricalCrossentropy(),\n",
    "    metrics='accuracy',\n",
    ")"
   ],
   "id": "354444500e93155b",
   "outputs": [],
   "execution_count": 16
  },
  {
   "metadata": {
    "ExecuteTime": {
     "end_time": "2025-05-28T14:50:25.569469Z",
     "start_time": "2025-05-28T14:50:25.348879Z"
    }
   },
   "cell_type": "code",
   "source": [
    "tf.keras.backend.clear_session()\n",
    "gc.collect()"
   ],
   "id": "ff82969e8406b315",
   "outputs": [
    {
     "data": {
      "text/plain": [
       "162"
      ]
     },
     "execution_count": 17,
     "metadata": {},
     "output_type": "execute_result"
    }
   ],
   "execution_count": 17
  },
  {
   "metadata": {
    "ExecuteTime": {
     "end_time": "2025-05-28T14:50:25.600638Z",
     "start_time": "2025-05-28T14:50:25.585641Z"
    }
   },
   "cell_type": "code",
   "source": [
    "early = tf.keras.callbacks.EarlyStopping(\n",
    "    monitor='val_loss',\n",
    "    restore_best_weights=True,\n",
    "    mode='min',\n",
    "    # start_from_epoch=2,\n",
    "    patience=5\n",
    ")\n",
    "\n",
    "checkpoint = tf.keras.callbacks.ModelCheckpoint(\n",
    "    filepath=os.path.join('model', 'best_model.keras'),\n",
    "    verbose=2,\n",
    "    save_best_only=True,\n",
    "    monitor='val_loss',\n",
    "    mode='min'\n",
    ")\n",
    "\n",
    "lr_scheduler = tf.keras.callbacks.ReduceLROnPlateau(monitor='val_loss',\n",
    "                                                    factor=0.1,\n",
    "                                                    min_lr=1e-6,\n",
    "                                                    patience=3,\n",
    "                                                    mode='min'\n",
    "                                                    )"
   ],
   "id": "a5616ca24295c6a1",
   "outputs": [],
   "execution_count": 18
  },
  {
   "metadata": {},
   "cell_type": "markdown",
   "source": "## Train the model",
   "id": "d406967db1f43d88"
  },
  {
   "metadata": {
    "ExecuteTime": {
     "end_time": "2025-05-28T14:50:25.742880Z",
     "start_time": "2025-05-28T14:50:25.633423Z"
    }
   },
   "cell_type": "code",
   "source": [
    "gc.collect()\n",
    "tf.keras.backend.clear_session()"
   ],
   "id": "24cd4a13d4df16d",
   "outputs": [],
   "execution_count": 19
  },
  {
   "metadata": {
    "ExecuteTime": {
     "end_time": "2025-05-28T15:15:01.569407Z",
     "start_time": "2025-05-28T14:50:25.759884Z"
    }
   },
   "cell_type": "code",
   "source": [
    "history = model.fit(\n",
    "    x=x_img_train,\n",
    "    y=y_img_train,\n",
    "    validation_data=(\n",
    "        x_img_val,\n",
    "        y_img_val\n",
    "    ),\n",
    "    callbacks=[lr_scheduler],\n",
    "    epochs=50,\n",
    "    batch_size=BATCH_SIZE,\n",
    "    steps_per_epoch=len(x_img_train) // BATCH_SIZE,\n",
    "    validation_steps=len(x_img_val) // BATCH_SIZE,\n",
    ")\n"
   ],
   "id": "74855c29b77614fb",
   "outputs": [
    {
     "name": "stdout",
     "output_type": "stream",
     "text": [
      "Epoch 1/50\n",
      "418/418 [==============================] - 36s 70ms/step - loss: 2.9344 - accuracy: 0.3359 - val_loss: 1.8017 - val_accuracy: 0.3896 - lr: 0.0010\n",
      "Epoch 2/50\n",
      "418/418 [==============================] - 29s 68ms/step - loss: 1.5269 - accuracy: 0.4492 - val_loss: 1.6230 - val_accuracy: 0.4247 - lr: 0.0010\n",
      "Epoch 3/50\n",
      "418/418 [==============================] - 28s 67ms/step - loss: 1.2882 - accuracy: 0.5242 - val_loss: 1.5881 - val_accuracy: 0.4492 - lr: 0.0010\n",
      "Epoch 4/50\n",
      "418/418 [==============================] - 28s 68ms/step - loss: 1.1166 - accuracy: 0.5907 - val_loss: 1.5778 - val_accuracy: 0.4662 - lr: 0.0010\n",
      "Epoch 5/50\n",
      "418/418 [==============================] - 28s 68ms/step - loss: 0.9691 - accuracy: 0.6477 - val_loss: 1.5777 - val_accuracy: 0.4710 - lr: 0.0010\n",
      "Epoch 6/50\n",
      "418/418 [==============================] - 28s 68ms/step - loss: 0.8258 - accuracy: 0.7047 - val_loss: 1.6303 - val_accuracy: 0.4642 - lr: 0.0010\n",
      "Epoch 7/50\n",
      "418/418 [==============================] - 28s 67ms/step - loss: 0.6893 - accuracy: 0.7604 - val_loss: 1.6638 - val_accuracy: 0.4766 - lr: 0.0010\n",
      "Epoch 8/50\n",
      "418/418 [==============================] - 28s 67ms/step - loss: 0.4652 - accuracy: 0.8657 - val_loss: 1.6155 - val_accuracy: 0.4962 - lr: 1.0000e-04\n",
      "Epoch 9/50\n",
      "418/418 [==============================] - 28s 67ms/step - loss: 0.4150 - accuracy: 0.8832 - val_loss: 1.6430 - val_accuracy: 0.4920 - lr: 1.0000e-04\n",
      "Epoch 10/50\n",
      "418/418 [==============================] - 28s 68ms/step - loss: 0.3930 - accuracy: 0.8923 - val_loss: 1.6507 - val_accuracy: 0.4947 - lr: 1.0000e-04\n",
      "Epoch 11/50\n",
      "418/418 [==============================] - 28s 68ms/step - loss: 0.3602 - accuracy: 0.9088 - val_loss: 1.6546 - val_accuracy: 0.4931 - lr: 1.0000e-05\n",
      "Epoch 12/50\n",
      "418/418 [==============================] - 28s 67ms/step - loss: 0.3562 - accuracy: 0.9110 - val_loss: 1.6580 - val_accuracy: 0.4937 - lr: 1.0000e-05\n",
      "Epoch 13/50\n",
      "418/418 [==============================] - 28s 68ms/step - loss: 0.3521 - accuracy: 0.9119 - val_loss: 1.6593 - val_accuracy: 0.4937 - lr: 1.0000e-05\n",
      "Epoch 14/50\n",
      "418/418 [==============================] - 28s 68ms/step - loss: 0.3503 - accuracy: 0.9130 - val_loss: 1.6596 - val_accuracy: 0.4937 - lr: 1.0000e-06\n",
      "Epoch 15/50\n",
      "418/418 [==============================] - 28s 68ms/step - loss: 0.3489 - accuracy: 0.9123 - val_loss: 1.6597 - val_accuracy: 0.4943 - lr: 1.0000e-06\n",
      "Epoch 16/50\n",
      "418/418 [==============================] - 28s 68ms/step - loss: 0.3485 - accuracy: 0.9142 - val_loss: 1.6599 - val_accuracy: 0.4949 - lr: 1.0000e-06\n",
      "Epoch 17/50\n",
      "418/418 [==============================] - 28s 68ms/step - loss: 0.3483 - accuracy: 0.9137 - val_loss: 1.6602 - val_accuracy: 0.4950 - lr: 1.0000e-06\n",
      "Epoch 18/50\n",
      "418/418 [==============================] - 28s 68ms/step - loss: 0.3479 - accuracy: 0.9140 - val_loss: 1.6606 - val_accuracy: 0.4949 - lr: 1.0000e-06\n",
      "Epoch 19/50\n",
      "418/418 [==============================] - 28s 68ms/step - loss: 0.3469 - accuracy: 0.9141 - val_loss: 1.6608 - val_accuracy: 0.4944 - lr: 1.0000e-06\n",
      "Epoch 20/50\n",
      "418/418 [==============================] - 28s 68ms/step - loss: 0.3477 - accuracy: 0.9136 - val_loss: 1.6611 - val_accuracy: 0.4946 - lr: 1.0000e-06\n",
      "Epoch 21/50\n",
      "418/418 [==============================] - 28s 67ms/step - loss: 0.3481 - accuracy: 0.9137 - val_loss: 1.6611 - val_accuracy: 0.4949 - lr: 1.0000e-06\n",
      "Epoch 22/50\n",
      "418/418 [==============================] - 28s 68ms/step - loss: 0.3488 - accuracy: 0.9133 - val_loss: 1.6614 - val_accuracy: 0.4949 - lr: 1.0000e-06\n",
      "Epoch 23/50\n",
      "418/418 [==============================] - 28s 67ms/step - loss: 0.3453 - accuracy: 0.9151 - val_loss: 1.6618 - val_accuracy: 0.4943 - lr: 1.0000e-06\n",
      "Epoch 24/50\n",
      "418/418 [==============================] - 28s 67ms/step - loss: 0.3468 - accuracy: 0.9145 - val_loss: 1.6620 - val_accuracy: 0.4943 - lr: 1.0000e-06\n",
      "Epoch 25/50\n",
      "418/418 [==============================] - 28s 67ms/step - loss: 0.3456 - accuracy: 0.9146 - val_loss: 1.6622 - val_accuracy: 0.4950 - lr: 1.0000e-06\n",
      "Epoch 26/50\n",
      "418/418 [==============================] - 28s 67ms/step - loss: 0.3474 - accuracy: 0.9136 - val_loss: 1.6623 - val_accuracy: 0.4947 - lr: 1.0000e-06\n",
      "Epoch 27/50\n",
      "418/418 [==============================] - 28s 67ms/step - loss: 0.3462 - accuracy: 0.9146 - val_loss: 1.6626 - val_accuracy: 0.4952 - lr: 1.0000e-06\n",
      "Epoch 28/50\n",
      "418/418 [==============================] - 28s 67ms/step - loss: 0.3461 - accuracy: 0.9150 - val_loss: 1.6627 - val_accuracy: 0.4947 - lr: 1.0000e-06\n",
      "Epoch 29/50\n",
      "418/418 [==============================] - 28s 67ms/step - loss: 0.3449 - accuracy: 0.9150 - val_loss: 1.6630 - val_accuracy: 0.4944 - lr: 1.0000e-06\n",
      "Epoch 30/50\n",
      "418/418 [==============================] - 28s 67ms/step - loss: 0.3440 - accuracy: 0.9155 - val_loss: 1.6633 - val_accuracy: 0.4944 - lr: 1.0000e-06\n",
      "Epoch 31/50\n",
      "418/418 [==============================] - 28s 67ms/step - loss: 0.3466 - accuracy: 0.9143 - val_loss: 1.6634 - val_accuracy: 0.4947 - lr: 1.0000e-06\n",
      "Epoch 32/50\n",
      "418/418 [==============================] - 28s 66ms/step - loss: 0.3428 - accuracy: 0.9153 - val_loss: 1.6638 - val_accuracy: 0.4943 - lr: 1.0000e-06\n",
      "Epoch 33/50\n",
      "418/418 [==============================] - 29s 69ms/step - loss: 0.3454 - accuracy: 0.9152 - val_loss: 1.6639 - val_accuracy: 0.4950 - lr: 1.0000e-06\n",
      "Epoch 34/50\n",
      "418/418 [==============================] - 29s 68ms/step - loss: 0.3458 - accuracy: 0.9150 - val_loss: 1.6642 - val_accuracy: 0.4949 - lr: 1.0000e-06\n",
      "Epoch 35/50\n",
      "418/418 [==============================] - 28s 68ms/step - loss: 0.3417 - accuracy: 0.9159 - val_loss: 1.6643 - val_accuracy: 0.4949 - lr: 1.0000e-06\n",
      "Epoch 36/50\n",
      "418/418 [==============================] - 28s 67ms/step - loss: 0.3462 - accuracy: 0.9144 - val_loss: 1.6646 - val_accuracy: 0.4944 - lr: 1.0000e-06\n",
      "Epoch 37/50\n",
      "418/418 [==============================] - 28s 67ms/step - loss: 0.3435 - accuracy: 0.9153 - val_loss: 1.6649 - val_accuracy: 0.4949 - lr: 1.0000e-06\n",
      "Epoch 38/50\n",
      "418/418 [==============================] - 28s 68ms/step - loss: 0.3432 - accuracy: 0.9162 - val_loss: 1.6650 - val_accuracy: 0.4955 - lr: 1.0000e-06\n",
      "Epoch 39/50\n",
      "418/418 [==============================] - 33s 79ms/step - loss: 0.3440 - accuracy: 0.9149 - val_loss: 1.6653 - val_accuracy: 0.4946 - lr: 1.0000e-06\n",
      "Epoch 40/50\n",
      "418/418 [==============================] - 33s 78ms/step - loss: 0.3430 - accuracy: 0.9158 - val_loss: 1.6656 - val_accuracy: 0.4952 - lr: 1.0000e-06\n",
      "Epoch 41/50\n",
      "418/418 [==============================] - 33s 78ms/step - loss: 0.3412 - accuracy: 0.9162 - val_loss: 1.6658 - val_accuracy: 0.4950 - lr: 1.0000e-06\n",
      "Epoch 42/50\n",
      "418/418 [==============================] - 33s 78ms/step - loss: 0.3436 - accuracy: 0.9155 - val_loss: 1.6659 - val_accuracy: 0.4952 - lr: 1.0000e-06\n",
      "Epoch 43/50\n",
      "418/418 [==============================] - 33s 78ms/step - loss: 0.3442 - accuracy: 0.9150 - val_loss: 1.6661 - val_accuracy: 0.4950 - lr: 1.0000e-06\n",
      "Epoch 44/50\n",
      "418/418 [==============================] - 33s 78ms/step - loss: 0.3401 - accuracy: 0.9172 - val_loss: 1.6663 - val_accuracy: 0.4950 - lr: 1.0000e-06\n",
      "Epoch 45/50\n",
      "418/418 [==============================] - 33s 78ms/step - loss: 0.3424 - accuracy: 0.9159 - val_loss: 1.6665 - val_accuracy: 0.4950 - lr: 1.0000e-06\n",
      "Epoch 46/50\n",
      "418/418 [==============================] - 33s 78ms/step - loss: 0.3400 - accuracy: 0.9168 - val_loss: 1.6669 - val_accuracy: 0.4953 - lr: 1.0000e-06\n",
      "Epoch 47/50\n",
      "418/418 [==============================] - 33s 78ms/step - loss: 0.3427 - accuracy: 0.9155 - val_loss: 1.6670 - val_accuracy: 0.4947 - lr: 1.0000e-06\n",
      "Epoch 48/50\n",
      "418/418 [==============================] - 33s 78ms/step - loss: 0.3393 - accuracy: 0.9173 - val_loss: 1.6672 - val_accuracy: 0.4950 - lr: 1.0000e-06\n",
      "Epoch 49/50\n",
      "418/418 [==============================] - 33s 78ms/step - loss: 0.3416 - accuracy: 0.9165 - val_loss: 1.6674 - val_accuracy: 0.4949 - lr: 1.0000e-06\n",
      "Epoch 50/50\n",
      "418/418 [==============================] - 33s 79ms/step - loss: 0.3448 - accuracy: 0.9143 - val_loss: 1.6675 - val_accuracy: 0.4949 - lr: 1.0000e-06\n"
     ]
    }
   ],
   "execution_count": 20
  },
  {
   "metadata": {},
   "cell_type": "markdown",
   "source": "## Plot the training result",
   "id": "b6e3ca67d8210de7"
  },
  {
   "metadata": {
    "ExecuteTime": {
     "end_time": "2025-05-28T15:15:01.713316Z",
     "start_time": "2025-05-28T15:15:01.698317Z"
    }
   },
   "cell_type": "code",
   "source": [
    "def plot_and_save(metric_name, history, ylabel, filename):\n",
    "    plt.figure()\n",
    "    plt.plot(history.history[metric_name], label=f'Train {ylabel}')\n",
    "    if f'val_{metric_name}' in history.history:\n",
    "        plt.plot(history.history[f'val_{metric_name}'], label=f'Val {ylabel}')\n",
    "    plt.title(f'{ylabel} over Epochs')\n",
    "    plt.xlabel('Epochs')\n",
    "    plt.ylabel(ylabel)\n",
    "    plt.legend()\n",
    "    plt.grid(True)\n",
    "    plt.savefig(filename)\n",
    "    plt.close()"
   ],
   "id": "297a12447f1f4cf7",
   "outputs": [],
   "execution_count": 21
  },
  {
   "metadata": {
    "ExecuteTime": {
     "end_time": "2025-05-28T15:15:02.039959Z",
     "start_time": "2025-05-28T15:15:01.762318Z"
    }
   },
   "cell_type": "code",
   "source": [
    "plot_and_save('loss', history, 'Loss', 'image_loss_plot.png')\n",
    "plot_and_save('accuracy', history, 'Image Classification Accuracy', 'image_class_accuracy_plot.png')"
   ],
   "id": "2c29f9693cf4430f",
   "outputs": [],
   "execution_count": 22
  },
  {
   "metadata": {},
   "cell_type": "markdown",
   "source": [
    "# Evaluation\n",
    "## Using model.evaluate"
   ],
   "id": "d69e8944b9665c09"
  },
  {
   "metadata": {
    "ExecuteTime": {
     "end_time": "2025-05-28T15:15:02.585084Z",
     "start_time": "2025-05-28T15:15:02.072337Z"
    }
   },
   "cell_type": "code",
   "source": [
    "gc.collect()\n",
    "tf.keras.backend.clear_session()"
   ],
   "id": "7447f010f34f0a0f",
   "outputs": [],
   "execution_count": 23
  },
  {
   "metadata": {
    "ExecuteTime": {
     "end_time": "2025-05-28T15:15:09.855198Z",
     "start_time": "2025-05-28T15:15:02.617069Z"
    }
   },
   "cell_type": "code",
   "source": [
    "model.evaluate(x_img_val, y_img_val, batch_size=BATCH_SIZE, verbose=2,\n",
    "               steps=len(x_img_val) // BATCH_SIZE)"
   ],
   "id": "fdfa109b6729f034",
   "outputs": [
    {
     "name": "stdout",
     "output_type": "stream",
     "text": [
      "104/104 - 6s - loss: 1.6675 - accuracy: 0.4949 - 6s/epoch - 62ms/step\n"
     ]
    },
    {
     "data": {
      "text/plain": [
       "[1.6675320863723755, 0.49489182233810425]"
      ]
     },
     "execution_count": 24,
     "metadata": {},
     "output_type": "execute_result"
    }
   ],
   "execution_count": 24
  },
  {
   "metadata": {
    "ExecuteTime": {
     "end_time": "2025-05-28T15:15:19.367234Z",
     "start_time": "2025-05-28T15:15:09.907713Z"
    }
   },
   "cell_type": "code",
   "source": [
    "model.evaluate(x_img_test, y_img_test, batch_size=BATCH_SIZE, verbose=2,\n",
    "               steps=len(x_img_test) // BATCH_SIZE)"
   ],
   "id": "6cf558e75eeb3d1a",
   "outputs": [
    {
     "name": "stdout",
     "output_type": "stream",
     "text": [
      "122/122 - 7s - loss: 1.9390 - accuracy: 0.4535 - 7s/epoch - 61ms/step\n"
     ]
    },
    {
     "data": {
      "text/plain": [
       "[1.9390382766723633, 0.45350921154022217]"
      ]
     },
     "execution_count": 25,
     "metadata": {},
     "output_type": "execute_result"
    }
   ],
   "execution_count": 25
  },
  {
   "metadata": {},
   "cell_type": "markdown",
   "source": "## Using confusion matrix",
   "id": "deccd111c42baff7"
  },
  {
   "metadata": {
    "ExecuteTime": {
     "end_time": "2025-05-28T15:15:29.515670Z",
     "start_time": "2025-05-28T15:15:19.447238Z"
    }
   },
   "cell_type": "code",
   "source": [
    "predictions = model.predict(x_img_test)\n",
    "predictions = np.argmax(predictions, axis=1)\n",
    "\n",
    "classes = [x for x in os.listdir(TRAIN_IMAGE_PATH)]\n",
    "print(classes)"
   ],
   "id": "80a7254d0983024b",
   "outputs": [
    {
     "name": "stdout",
     "output_type": "stream",
     "text": [
      "245/245 [==============================] - 10s 34ms/step\n",
      "['angry', 'disgust', 'fear', 'happy', 'neutral', 'sad', 'surprise']\n"
     ]
    }
   ],
   "execution_count": 26
  },
  {
   "metadata": {},
   "cell_type": "markdown",
   "source": "### Plot the confusion Matrix",
   "id": "76c0d5e73d6ab706"
  },
  {
   "metadata": {
    "ExecuteTime": {
     "end_time": "2025-05-28T15:15:29.960074Z",
     "start_time": "2025-05-28T15:15:29.564026Z"
    }
   },
   "cell_type": "code",
   "source": [
    "cm = confusion_matrix(y_img_test, predictions)\n",
    "plt.figure(figsize=(10, 8))  # Set the figure size if needed\n",
    "sns.heatmap(cm, annot=True, cmap='Blues', fmt='g')\n",
    "\n",
    "plt.title('Confusion Matrix Image', pad=20, fontsize=20, fontweight=\"bold\")\n",
    "plt.ylabel('Actual')\n",
    "plt.xlabel('Predicted')\n",
    "\n",
    "plt.xticks(ticks=range(len(classes)), labels=classes, rotation=45)\n",
    "plt.yticks(ticks=range(len(classes)), labels=classes, rotation=0)\n",
    "plt.savefig('confusion_matrix_image.png', dpi=300, bbox_inches='tight')\n",
    "plt.show()"
   ],
   "id": "68627362493f4158",
   "outputs": [
    {
     "data": {
      "text/plain": [
       "<Figure size 1000x800 with 2 Axes>"
      ],
      "image/png": "[encoded data removed]"
     },
     "metadata": {},
     "output_type": "display_data"
    }
   ],
   "execution_count": 27
  },
  {
   "metadata": {
    "ExecuteTime": {
     "end_time": "2025-05-28T15:15:30.006072Z",
     "start_time": "2025-05-28T15:15:29.992073Z"
    }
   },
   "cell_type": "code",
   "source": [
    "# plt.figure(figsize=(10, 8))  # Set the figure size if needed\n",
    "# sns.heatmap(audio_cm, annot=True, cmap='Blues', fmt='g')\n",
    "# \n",
    "# plt.title('Confusion Matrix Audio', pad=20, fontsize=20, fontweight=\"bold\")\n",
    "# plt.ylabel('Actual')\n",
    "# plt.xlabel('Predicted')\n",
    "# \n",
    "# plt.xticks(ticks=range(len(aud_classes)), labels=aud_classes, rotation=45)\n",
    "# plt.yticks(ticks=range(len(aud_classes)), labels=aud_classes, rotation=0)\n",
    "# plt.savefig('confusion_matrix_audio.png', dpi=300, bbox_inches='tight')\n",
    "# plt.show()"
   ],
   "id": "5fd12ac080d5045e",
   "outputs": [],
   "execution_count": 28
  },
  {
   "metadata": {
    "ExecuteTime": {
     "end_time": "2025-05-28T15:15:30.053584Z",
     "start_time": "2025-05-28T15:15:30.038581Z"
    }
   },
   "cell_type": "code",
   "source": "print(classification_report(y_img_test, predictions))",
   "id": "b22289e4687b1bff",
   "outputs": [
    {
     "name": "stdout",
     "output_type": "stream",
     "text": [
      "              precision    recall  f1-score   support\n",
      "\n",
      "           0       0.34      0.37      0.35      1025\n",
      "           1       0.76      0.56      0.65      1004\n",
      "           2       0.35      0.35      0.35      1043\n",
      "           3       0.51      0.52      0.51      1250\n",
      "           4       0.42      0.46      0.44      1252\n",
      "           5       0.33      0.34      0.33      1266\n",
      "           6       0.60      0.60      0.60       991\n",
      "\n",
      "    accuracy                           0.45      7831\n",
      "   macro avg       0.47      0.46      0.46      7831\n",
      "weighted avg       0.47      0.45      0.46      7831\n",
      "\n"
     ]
    }
   ],
   "execution_count": 29
  },
  {
   "metadata": {
    "ExecuteTime": {
     "end_time": "2025-05-28T15:15:30.165146Z",
     "start_time": "2025-05-28T15:15:30.150148Z"
    }
   },
   "cell_type": "code",
   "source": "# print(classification_report(y_audio_test, audio_class))",
   "id": "b963b32e30308ce1",
   "outputs": [],
   "execution_count": 30
  },
  {
   "metadata": {
    "ExecuteTime": {
     "end_time": "2025-05-28T15:15:30.571759Z",
     "start_time": "2025-05-28T15:15:30.198147Z"
    }
   },
   "cell_type": "code",
   "source": "model.save('model_sc4t5_img.h5')",
   "id": "31e448a351826986",
   "outputs": [],
   "execution_count": 31
  }
 ],
 "metadata": {
  "kernelspec": {
   "display_name": "Python 3",
   "language": "python",
   "name": "python3"
  },
  "language_info": {
   "codemirror_mode": {
    "name": "ipython",
    "version": 2
   },
   "file_extension": ".py",
   "mimetype": "text/x-python",
   "name": "python",
   "nbconvert_exporter": "python",
   "pygments_lexer": "ipython2",
   "version": "2.7.6"
  }
 },
 "nbformat": 4,
 "nbformat_minor": 5
}
