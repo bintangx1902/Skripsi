{
 "cells": [
  {
   "cell_type": "code",
   "id": "initial_id",
   "metadata": {
    "collapsed": true,
    "ExecuteTime": {
     "end_time": "2025-07-05T13:53:06.504268Z",
     "start_time": "2025-07-05T13:53:03.299793Z"
    }
   },
   "source": [
    "import gc\n",
    "import cv2\n",
    "import seaborn as sns\n",
    "from matplotlib import pyplot as plt\n",
    "from sklearn.metrics import classification_report, confusion_matrix\n",
    "from sklearn.model_selection import train_test_split\n",
    "from sklearn.preprocessing import LabelEncoder\n",
    "\n",
    "from shared.local_path import *\n",
    "from shared.utils import *"
   ],
   "outputs": [],
   "execution_count": 1
  },
  {
   "metadata": {},
   "cell_type": "markdown",
   "source": "### Read Image Data",
   "id": "fb39eefea78185cf"
  },
  {
   "metadata": {
    "ExecuteTime": {
     "end_time": "2025-07-05T13:53:07.052817Z",
     "start_time": "2025-07-05T13:53:07.038361Z"
    }
   },
   "cell_type": "code",
   "source": [
    "TRAIN_IMAGE_PATH = R'E:\\Skripsi\\data\\temp\\new_lagi\\train'\n",
    "BATCH_SIZE = 8"
   ],
   "id": "a6d0e6db3a8f2f4f",
   "outputs": [],
   "execution_count": 2
  },
  {
   "metadata": {
    "ExecuteTime": {
     "end_time": "2025-07-05T13:53:07.099947Z",
     "start_time": "2025-07-05T13:53:07.070816Z"
    }
   },
   "cell_type": "code",
   "source": [
    "filepath = []\n",
    "label = []\n",
    "\n",
    "i = 0\n",
    "for classes in os.listdir(TRAIN_IMAGE_PATH):\n",
    "    for file in os.listdir(os.path.join(TRAIN_IMAGE_PATH, classes)):\n",
    "        path = os.path.join(TRAIN_IMAGE_PATH, classes, file)\n",
    "        filepath.append(path)\n",
    "        label.append(classes)\n",
    "\n",
    "train_df = pd.DataFrame({\n",
    "    'filepath': filepath,\n",
    "    'label': label\n",
    "})\n",
    "\n",
    "del filepath, label\n",
    "\n",
    "print(train_df.shape)\n",
    "print(train_df['label'].unique())\n",
    "train_df.head()"
   ],
   "id": "c0c919652686485a",
   "outputs": [
    {
     "name": "stdout",
     "output_type": "stream",
     "text": [
      "(175, 2)\n",
      "['angry' 'disgust' 'fear' 'happy' 'neutral' 'sad' 'surprise']\n"
     ]
    },
    {
     "data": {
      "text/plain": [
       "                                            filepath  label\n",
       "0   E:\\Skripsi\\data\\temp\\new_lagi\\train\\angry\\13.jpg  angry\n",
       "1   E:\\Skripsi\\data\\temp\\new_lagi\\train\\angry\\a.jpeg  angry\n",
       "2    E:\\Skripsi\\data\\temp\\new_lagi\\train\\angry\\a.jpg  angry\n",
       "3    E:\\Skripsi\\data\\temp\\new_lagi\\train\\angry\\a.png  angry\n",
       "4  E:\\Skripsi\\data\\temp\\new_lagi\\train\\angry\\a10.jpg  angry"
      ],
      "text/html": [
       "<div>\n",
       "<style scoped>\n",
       "    .dataframe tbody tr th:only-of-type {\n",
       "        vertical-align: middle;\n",
       "    }\n",
       "\n",
       "    .dataframe tbody tr th {\n",
       "        vertical-align: top;\n",
       "    }\n",
       "\n",
       "    .dataframe thead th {\n",
       "        text-align: right;\n",
       "    }\n",
       "</style>\n",
       "<table border=\"1\" class=\"dataframe\">\n",
       "  <thead>\n",
       "    <tr style=\"text-align: right;\">\n",
       "      <th></th>\n",
       "      <th>filepath</th>\n",
       "      <th>label</th>\n",
       "    </tr>\n",
       "  </thead>\n",
       "  <tbody>\n",
       "    <tr>\n",
       "      <th>0</th>\n",
       "      <td>E:\\Skripsi\\data\\temp\\new_lagi\\train\\angry\\13.jpg</td>\n",
       "      <td>angry</td>\n",
       "    </tr>\n",
       "    <tr>\n",
       "      <th>1</th>\n",
       "      <td>E:\\Skripsi\\data\\temp\\new_lagi\\train\\angry\\a.jpeg</td>\n",
       "      <td>angry</td>\n",
       "    </tr>\n",
       "    <tr>\n",
       "      <th>2</th>\n",
       "      <td>E:\\Skripsi\\data\\temp\\new_lagi\\train\\angry\\a.jpg</td>\n",
       "      <td>angry</td>\n",
       "    </tr>\n",
       "    <tr>\n",
       "      <th>3</th>\n",
       "      <td>E:\\Skripsi\\data\\temp\\new_lagi\\train\\angry\\a.png</td>\n",
       "      <td>angry</td>\n",
       "    </tr>\n",
       "    <tr>\n",
       "      <th>4</th>\n",
       "      <td>E:\\Skripsi\\data\\temp\\new_lagi\\train\\angry\\a10.jpg</td>\n",
       "      <td>angry</td>\n",
       "    </tr>\n",
       "  </tbody>\n",
       "</table>\n",
       "</div>"
      ]
     },
     "execution_count": 3,
     "metadata": {},
     "output_type": "execute_result"
    }
   ],
   "execution_count": 3
  },
  {
   "metadata": {
    "ExecuteTime": {
     "end_time": "2025-07-05T13:53:07.160917Z",
     "start_time": "2025-07-05T13:53:07.146919Z"
    }
   },
   "cell_type": "code",
   "source": [
    "# filepath = []\n",
    "# label = []\n",
    "# \n",
    "# i = 0\n",
    "# for classes in os.listdir(TEST_IMAGE_PATH):\n",
    "#     for file in os.listdir(os.path.join(TEST_IMAGE_PATH, classes)):\n",
    "#         path = os.path.join(TEST_IMAGE_PATH, classes, file)\n",
    "#         filepath.append(path)\n",
    "#         label.append(classes)\n",
    "# \n",
    "# img_test_df = pd.DataFrame({\n",
    "#     'filepath': filepath,\n",
    "#     'label': label\n",
    "# })\n",
    "# \n",
    "# del filepath, label\n",
    "# \n",
    "# print(img_test_df.shape)\n",
    "# print(img_test_df['label'].unique())\n",
    "# img_test_df.head()"
   ],
   "id": "c71041d0d4f41f26",
   "outputs": [],
   "execution_count": 4
  },
  {
   "metadata": {
    "ExecuteTime": {
     "end_time": "2025-07-05T13:53:07.223918Z",
     "start_time": "2025-07-05T13:53:07.208919Z"
    }
   },
   "cell_type": "code",
   "source": [
    "le = LabelEncoder()\n",
    "le.fit(train_df['label'])\n",
    "train_df['label_encoded'] = le.transform(train_df['label'])\n",
    "# img_test_df['label_encoded'] = le.transform(img_test_df['label'])"
   ],
   "id": "92230c1bb52efd13",
   "outputs": [],
   "execution_count": 5
  },
  {
   "metadata": {},
   "cell_type": "markdown",
   "source": "## transform the filepath into image data",
   "id": "c6fec7d0746f0d0e"
  },
  {
   "metadata": {
    "ExecuteTime": {
     "end_time": "2025-07-05T13:53:07.270691Z",
     "start_time": "2025-07-05T13:53:07.255855Z"
    }
   },
   "cell_type": "code",
   "source": [
    "def preprocess_image(img_path, dsize: tuple = (224, 224), normalize=False, augment=False, rescale: float = None,\n",
    "                     preprocess_function=None):\n",
    "    if preprocess_function is not None and not callable(preprocess_function):\n",
    "        raise ValueError(\"preprocess_function must be a callable function.\")\n",
    "\n",
    "    image = cv2.cvtColor(cv2.imread(img_path), cv2.COLOR_BGR2RGB)\n",
    "    image = cv2.resize(image, dsize=dsize)\n",
    "    if normalize and rescale is None:\n",
    "        mean = np.array([0.485, 0.456, 0.406])\n",
    "        std = np.array([0.229, 0.224, 0.225])\n",
    "        image = (image - mean) / std\n",
    "\n",
    "    if rescale is not None and not normalize:\n",
    "        image = np.array(image) * rescale\n",
    "\n",
    "    if augment:\n",
    "        # Choose one augmentation randomly\n",
    "        augmentations = ['flip_horizontal', 'flip_vertical', 'rotate', ]\n",
    "        chosen_aug = random.choice(augmentations)\n",
    "\n",
    "        if chosen_aug == 'flip_horizontal':\n",
    "            image = cv2.flip(image, 1)\n",
    "        elif chosen_aug == 'flip_vertical':\n",
    "            image = cv2.flip(image, 0)\n",
    "        elif chosen_aug == 'rotate':\n",
    "            # Random rotation between -30 and 30 degrees\n",
    "            angle = random.uniform(-30, 30)\n",
    "            h, w = image.shape[:2]\n",
    "            center = (w // 2, h // 2)\n",
    "            M = cv2.getRotationMatrix2D(center, angle, 1.0)\n",
    "            image = cv2.warpAffine(image, M, (w, h), borderMode=cv2.BORDER_REPLICATE)\n",
    "        elif chosen_aug == 'zoom':\n",
    "            # Random zoom between 0.8x and 1.2x\n",
    "            zoom_factor = random.uniform(0.8, 1.2)\n",
    "            h, w = image.shape[:2]\n",
    "            new_h, new_w = int(h * zoom_factor), int(w * zoom_factor)\n",
    "            if zoom_factor > 1.0:\n",
    "                # Zoom in: crop the center\n",
    "                resized = cv2.resize(image, (new_w, new_h), interpolation=cv2.INTER_LANCZOS4)\n",
    "                start_x = (new_w - w) // 2\n",
    "                start_y = (new_h - h) // 2\n",
    "                image = resized[start_y:start_y + h, start_x:start_x + w]\n",
    "            else:\n",
    "                # Zoom out: pad with replicated borders\n",
    "                resized = cv2.resize(image, (new_w, new_h), interpolation=cv2.INTER_LANCZOS4)\n",
    "                pad_x = (w - new_w) // 2\n",
    "                pad_y = (h - new_h) // 2\n",
    "                image = cv2.copyMakeBorder(resized, pad_y, pad_y, pad_x, pad_x,\n",
    "                                           cv2.BORDER_REPLICATE)\n",
    "\n",
    "    if preprocess_function is not None:\n",
    "        return np.array(preprocess_function(image))\n",
    "    return image"
   ],
   "id": "90474bc083e0470a",
   "outputs": [],
   "execution_count": 6
  },
  {
   "metadata": {
    "ExecuteTime": {
     "end_time": "2025-07-05T13:53:08.422684Z",
     "start_time": "2025-07-05T13:53:07.286822Z"
    }
   },
   "cell_type": "code",
   "source": [
    "with tf.device('/GPU:0'):\n",
    "    train_df['data'] = train_df['filepath'].apply(\n",
    "        lambda x: preprocess_image(x, preprocess_function=tf.keras.applications.vgg19.preprocess_input,\n",
    "                                   augment=True))\n",
    "    # img_test_df['data'] = img_test_df['filepath'].apply(\n",
    "    #     lambda x: preprocess_image(x, (100, 100), preprocess_function=tf.keras.applications.vgg19.preprocess_input)\n",
    "    # )\n"
   ],
   "id": "3ad405e920f8613f",
   "outputs": [],
   "execution_count": 7
  },
  {
   "metadata": {},
   "cell_type": "markdown",
   "source": "## Split and Shuffle Dataset into train, val, and test",
   "id": "82badffd9d6aeb00"
  },
  {
   "metadata": {
    "ExecuteTime": {
     "end_time": "2025-07-05T13:53:10.405934Z",
     "start_time": "2025-07-05T13:53:10.364943Z"
    }
   },
   "cell_type": "code",
   "source": [
    "# Image Data\n",
    "# train_df = train_df.sample(frac=1, random_state=19).reset_index(drop=True)\n",
    "train_df, img_val_df = train_test_split(train_df, test_size=.2, random_state=100, shuffle=True)"
   ],
   "id": "f93245b800fb8c2a",
   "outputs": [],
   "execution_count": 8
  },
  {
   "metadata": {},
   "cell_type": "markdown",
   "source": "## Downsampling with following least dataset amount",
   "id": "f9015cda1cda573d"
  },
  {
   "metadata": {
    "ExecuteTime": {
     "end_time": "2025-07-05T13:53:14.125256Z",
     "start_time": "2025-07-05T13:53:14.110373Z"
    }
   },
   "cell_type": "code",
   "source": [
    "# train_df, audio = downsample_df(train_df, audio)\n",
    "# img_val_df, aud_val_df = downsample_df(img_val_df, aud_val_df)\n",
    "# img_test_df, aud_test_df = downsample_df(img_test_df, aud_test_df)"
   ],
   "id": "6909a8372ec6e293",
   "outputs": [],
   "execution_count": 9
  },
  {
   "metadata": {
    "ExecuteTime": {
     "end_time": "2025-07-05T13:53:17.710451Z",
     "start_time": "2025-07-05T13:53:17.696329Z"
    }
   },
   "cell_type": "code",
   "source": [
    "# print(len(train_df))\n",
    "# print(len(img_val_df))\n",
    "# print(len(img_test_df))\n",
    "# \n",
    "# print(\"===============================\")\n",
    "# \n",
    "# print(len(audio))\n",
    "# print(len(aud_val_df))\n",
    "# print(len(aud_test_df))"
   ],
   "id": "eaa5c3fd8cfc20b5",
   "outputs": [],
   "execution_count": 10
  },
  {
   "metadata": {},
   "cell_type": "markdown",
   "source": "## Convert to Numpy",
   "id": "572b7d86cb7382e6"
  },
  {
   "metadata": {
    "ExecuteTime": {
     "end_time": "2025-07-05T13:53:21.218906Z",
     "start_time": "2025-07-05T13:53:21.203901Z"
    }
   },
   "cell_type": "code",
   "source": [
    "# # Audio Data\n",
    "# x_audio_train = np.stack(audio['data'].values)\n",
    "# y_audio_train = np.array(audio['label_encoded'].values)\n",
    "# \n",
    "# x_audio_val = np.stack(aud_val_df['data'].values)\n",
    "# y_audio_val = np.array(aud_val_df['label_encoded'].values)\n",
    "# \n",
    "# x_audio_test = np.stack(aud_test_df['data'].values)\n",
    "# y_audio_test = np.array(aud_test_df['label_encoded'].values)"
   ],
   "id": "f0d3c7a34f364d3c",
   "outputs": [],
   "execution_count": 11
  },
  {
   "metadata": {
    "ExecuteTime": {
     "end_time": "2025-07-05T13:53:24.845539Z",
     "start_time": "2025-07-05T13:53:24.831539Z"
    }
   },
   "cell_type": "code",
   "source": "train_df.data.iloc[1].shape",
   "id": "24750ee1bf16a239",
   "outputs": [
    {
     "data": {
      "text/plain": [
       "(224, 224, 3)"
      ]
     },
     "execution_count": 12,
     "metadata": {},
     "output_type": "execute_result"
    }
   ],
   "execution_count": 12
  },
  {
   "metadata": {
    "ExecuteTime": {
     "end_time": "2025-07-05T13:53:28.478327Z",
     "start_time": "2025-07-05T13:53:28.448119Z"
    }
   },
   "cell_type": "code",
   "source": [
    "x_img_train = np.stack(train_df['data'].values)\n",
    "y_img_train = np.array(train_df['label_encoded'].values)\n",
    "\n",
    "x_img_val = np.stack(img_val_df['data'].values)\n",
    "y_img_val = np.array(img_val_df['label_encoded'].values)\n",
    "\n",
    "# x_img_test = np.stack(img_test_df['data'].values)\n",
    "# y_img_test = np.array(img_test_df['label_encoded'].values)"
   ],
   "id": "2979bd91f67e17f",
   "outputs": [],
   "execution_count": 13
  },
  {
   "metadata": {
    "ExecuteTime": {
     "end_time": "2025-07-05T13:53:32.015663Z",
     "start_time": "2025-07-05T13:53:32.000655Z"
    }
   },
   "cell_type": "code",
   "source": "del train_df, img_val_df, # img_test_df",
   "id": "d90c7a8bd1d5e7b2",
   "outputs": [],
   "execution_count": 14
  },
  {
   "metadata": {},
   "cell_type": "markdown",
   "source": [
    "# Modeling\n",
    "## Creating Model"
   ],
   "id": "fbcf6770a70c43d8"
  },
  {
   "metadata": {
    "ExecuteTime": {
     "end_time": "2025-07-05T13:53:32.562530Z",
     "start_time": "2025-07-05T13:53:32.032663Z"
    }
   },
   "cell_type": "code",
   "source": [
    "base = tf.keras.applications.VGG19(\n",
    "    include_top=False,\n",
    "    weights='imagenet',\n",
    "    input_shape=(224, 224, 3),\n",
    "    pooling=None\n",
    ")\n",
    "\n",
    "for layer in base.layers:\n",
    "    layer.trainable = False\n"
   ],
   "id": "3d8bcb8a27ee7d52",
   "outputs": [],
   "execution_count": 15
  },
  {
   "metadata": {
    "ExecuteTime": {
     "end_time": "2025-07-05T13:58:31.000027Z",
     "start_time": "2025-07-05T13:58:30.922027Z"
    }
   },
   "cell_type": "code",
   "source": [
    "input_image = tf.keras.Input(shape=(224, 224, 3), name='input_image')\n",
    "\n",
    "left = base(input_image)\n",
    "left = tf.keras.layers.GlobalAveragePooling2D()(left)\n",
    "# left = tf.keras.layers.Dense(512, activation='relu', kernel_regularizer=tf.keras.regularizers.l1_l2(0.01))(left)\n",
    "# left = tf.keras.layers.Dense(512, activation='relu')(left)\n",
    "# left = tf.keras.layers.Dense(512, activation='relu')(left)\n",
    "out1 = tf.keras.layers.Dense(7, activation='softmax', name='image_class')(left)\n",
    "\n",
    "model = tf.keras.models.Model(input_image, out1)"
   ],
   "id": "863a1e9547c3f104",
   "outputs": [],
   "execution_count": 35
  },
  {
   "metadata": {
    "ExecuteTime": {
     "end_time": "2025-07-05T13:58:32.123286Z",
     "start_time": "2025-07-05T13:58:31.689287Z"
    }
   },
   "cell_type": "code",
   "source": "plot_model(model, show_shapes=True, show_layer_names=True)",
   "id": "4443982ecae82513",
   "outputs": [
    {
     "data": {
      "image/png": "[encoded data removed]",
      "text/plain": [
       "<IPython.core.display.Image object>"
      ]
     },
     "execution_count": 36,
     "metadata": {},
     "output_type": "execute_result"
    }
   ],
   "execution_count": 36
  },
  {
   "metadata": {},
   "cell_type": "markdown",
   "source": "## Compile the model",
   "id": "27682b2fa80eba43"
  },
  {
   "metadata": {
    "ExecuteTime": {
     "end_time": "2025-07-05T13:58:32.371998Z",
     "start_time": "2025-07-05T13:58:32.356999Z"
    }
   },
   "cell_type": "code",
   "source": [
    "model.compile(\n",
    "    optimizer=tf.keras.optimizers.Adam(learning_rate=1e-3),\n",
    "    loss=tf.keras.losses.SparseCategoricalCrossentropy(),\n",
    "    metrics='accuracy',\n",
    ")"
   ],
   "id": "354444500e93155b",
   "outputs": [],
   "execution_count": 37
  },
  {
   "metadata": {
    "ExecuteTime": {
     "end_time": "2025-07-05T13:58:32.699448Z",
     "start_time": "2025-07-05T13:58:32.562445Z"
    }
   },
   "cell_type": "code",
   "source": [
    "tf.keras.backend.clear_session()\n",
    "gc.collect()"
   ],
   "id": "ff82969e8406b315",
   "outputs": [
    {
     "data": {
      "text/plain": [
       "11076"
      ]
     },
     "execution_count": 38,
     "metadata": {},
     "output_type": "execute_result"
    }
   ],
   "execution_count": 38
  },
  {
   "metadata": {
    "ExecuteTime": {
     "end_time": "2025-07-05T13:58:32.855149Z",
     "start_time": "2025-07-05T13:58:32.841134Z"
    }
   },
   "cell_type": "code",
   "source": [
    "early = tf.keras.callbacks.EarlyStopping(\n",
    "    monitor='val_loss',\n",
    "    restore_best_weights=True,\n",
    "    mode='min',\n",
    "    # start_from_epoch=2,\n",
    "    patience=5\n",
    ")\n",
    "\n",
    "checkpoint = tf.keras.callbacks.ModelCheckpoint(\n",
    "    filepath=os.path.join('model', 'best_model.keras'),\n",
    "    verbose=2,\n",
    "    save_best_only=True,\n",
    "    monitor='val_loss',\n",
    "    mode='min'\n",
    ")\n",
    "\n",
    "lr_scheduler = tf.keras.callbacks.ReduceLROnPlateau(monitor='val_loss',\n",
    "                                                    factor=0.1,\n",
    "                                                    min_lr=1e-6,\n",
    "                                                    patience=3,\n",
    "                                                    mode='min'\n",
    "                                                    )"
   ],
   "id": "a5616ca24295c6a1",
   "outputs": [],
   "execution_count": 39
  },
  {
   "metadata": {},
   "cell_type": "markdown",
   "source": "## Train the model",
   "id": "d406967db1f43d88"
  },
  {
   "metadata": {
    "ExecuteTime": {
     "end_time": "2025-07-05T13:58:33.305414Z",
     "start_time": "2025-07-05T13:58:33.187515Z"
    }
   },
   "cell_type": "code",
   "source": [
    "gc.collect()\n",
    "tf.keras.backend.clear_session()"
   ],
   "id": "24cd4a13d4df16d",
   "outputs": [],
   "execution_count": 40
  },
  {
   "metadata": {
    "ExecuteTime": {
     "end_time": "2025-07-05T13:59:54.254790Z",
     "start_time": "2025-07-05T13:58:33.371415Z"
    }
   },
   "cell_type": "code",
   "source": [
    "history = model.fit(\n",
    "    x=x_img_train,\n",
    "    y=y_img_train,\n",
    "    validation_data=(\n",
    "        x_img_val,\n",
    "        y_img_val\n",
    "    ),\n",
    "    callbacks=[lr_scheduler],\n",
    "    epochs=100,\n",
    "    batch_size=BATCH_SIZE,\n",
    "    steps_per_epoch=len(x_img_train) // BATCH_SIZE,\n",
    "    validation_steps=len(x_img_val) // BATCH_SIZE,\n",
    ")\n"
   ],
   "id": "74855c29b77614fb",
   "outputs": [
    {
     "name": "stdout",
     "output_type": "stream",
     "text": [
      "Epoch 1/100\n",
      "17/17 [==============================] - 2s 56ms/step - loss: 3.9749 - accuracy: 0.1324 - val_loss: 2.8613 - val_accuracy: 0.2500 - lr: 0.0010\n",
      "Epoch 2/100\n",
      "17/17 [==============================] - 1s 48ms/step - loss: 2.8537 - accuracy: 0.1515 - val_loss: 2.4287 - val_accuracy: 0.2812 - lr: 0.0010\n",
      "Epoch 3/100\n",
      "17/17 [==============================] - 1s 47ms/step - loss: 2.1202 - accuracy: 0.2424 - val_loss: 2.3281 - val_accuracy: 0.2500 - lr: 0.0010\n",
      "Epoch 4/100\n",
      "17/17 [==============================] - 1s 50ms/step - loss: 1.7088 - accuracy: 0.4015 - val_loss: 2.1520 - val_accuracy: 0.3750 - lr: 0.0010\n",
      "Epoch 5/100\n",
      "17/17 [==============================] - 1s 47ms/step - loss: 1.4148 - accuracy: 0.4848 - val_loss: 2.0395 - val_accuracy: 0.4062 - lr: 0.0010\n",
      "Epoch 6/100\n",
      "17/17 [==============================] - 1s 46ms/step - loss: 1.1086 - accuracy: 0.6136 - val_loss: 2.0370 - val_accuracy: 0.3750 - lr: 0.0010\n",
      "Epoch 7/100\n",
      "17/17 [==============================] - 1s 46ms/step - loss: 1.0540 - accuracy: 0.6288 - val_loss: 2.0650 - val_accuracy: 0.4062 - lr: 0.0010\n",
      "Epoch 8/100\n",
      "17/17 [==============================] - 1s 48ms/step - loss: 0.7652 - accuracy: 0.7727 - val_loss: 1.9321 - val_accuracy: 0.3750 - lr: 0.0010\n",
      "Epoch 9/100\n",
      "17/17 [==============================] - 1s 48ms/step - loss: 0.7597 - accuracy: 0.7273 - val_loss: 1.9890 - val_accuracy: 0.4062 - lr: 0.0010\n",
      "Epoch 10/100\n",
      "17/17 [==============================] - 1s 46ms/step - loss: 0.5069 - accuracy: 0.8788 - val_loss: 1.9501 - val_accuracy: 0.4375 - lr: 0.0010\n",
      "Epoch 11/100\n",
      "17/17 [==============================] - 1s 46ms/step - loss: 0.5253 - accuracy: 0.8864 - val_loss: 1.9547 - val_accuracy: 0.4062 - lr: 0.0010\n",
      "Epoch 12/100\n",
      "17/17 [==============================] - 1s 46ms/step - loss: 0.5007 - accuracy: 0.8939 - val_loss: 1.9526 - val_accuracy: 0.4062 - lr: 1.0000e-04\n",
      "Epoch 13/100\n",
      "17/17 [==============================] - 1s 48ms/step - loss: 0.4848 - accuracy: 0.9167 - val_loss: 1.9513 - val_accuracy: 0.4062 - lr: 1.0000e-04\n",
      "Epoch 14/100\n",
      "17/17 [==============================] - 1s 46ms/step - loss: 0.4108 - accuracy: 0.9394 - val_loss: 1.9474 - val_accuracy: 0.4062 - lr: 1.0000e-04\n",
      "Epoch 15/100\n",
      "17/17 [==============================] - 1s 46ms/step - loss: 0.4354 - accuracy: 0.9242 - val_loss: 1.9471 - val_accuracy: 0.4062 - lr: 1.0000e-05\n",
      "Epoch 16/100\n",
      "17/17 [==============================] - 1s 50ms/step - loss: 0.4796 - accuracy: 0.9091 - val_loss: 1.9468 - val_accuracy: 0.4062 - lr: 1.0000e-05\n",
      "Epoch 17/100\n",
      "17/17 [==============================] - 1s 48ms/step - loss: 0.4638 - accuracy: 0.9167 - val_loss: 1.9466 - val_accuracy: 0.4062 - lr: 1.0000e-05\n",
      "Epoch 18/100\n",
      "17/17 [==============================] - 1s 52ms/step - loss: 0.4318 - accuracy: 0.9242 - val_loss: 1.9466 - val_accuracy: 0.4062 - lr: 1.0000e-06\n",
      "Epoch 19/100\n",
      "17/17 [==============================] - 1s 48ms/step - loss: 0.4419 - accuracy: 0.9191 - val_loss: 1.9466 - val_accuracy: 0.4062 - lr: 1.0000e-06\n",
      "Epoch 20/100\n",
      "17/17 [==============================] - 1s 57ms/step - loss: 0.4663 - accuracy: 0.9167 - val_loss: 1.9465 - val_accuracy: 0.4062 - lr: 1.0000e-06\n",
      "Epoch 21/100\n",
      "17/17 [==============================] - 1s 47ms/step - loss: 0.4156 - accuracy: 0.9318 - val_loss: 1.9465 - val_accuracy: 0.4375 - lr: 1.0000e-06\n",
      "Epoch 22/100\n",
      "17/17 [==============================] - 1s 47ms/step - loss: 0.4731 - accuracy: 0.9091 - val_loss: 1.9466 - val_accuracy: 0.4375 - lr: 1.0000e-06\n",
      "Epoch 23/100\n",
      "17/17 [==============================] - 1s 46ms/step - loss: 0.4599 - accuracy: 0.9394 - val_loss: 1.9465 - val_accuracy: 0.4375 - lr: 1.0000e-06\n",
      "Epoch 24/100\n",
      "17/17 [==============================] - 1s 47ms/step - loss: 0.4121 - accuracy: 0.9015 - val_loss: 1.9465 - val_accuracy: 0.4375 - lr: 1.0000e-06\n",
      "Epoch 25/100\n",
      "17/17 [==============================] - 1s 47ms/step - loss: 0.4890 - accuracy: 0.9091 - val_loss: 1.9464 - val_accuracy: 0.4375 - lr: 1.0000e-06\n",
      "Epoch 26/100\n",
      "17/17 [==============================] - 1s 46ms/step - loss: 0.4178 - accuracy: 0.9394 - val_loss: 1.9464 - val_accuracy: 0.4375 - lr: 1.0000e-06\n",
      "Epoch 27/100\n",
      "17/17 [==============================] - 1s 47ms/step - loss: 0.4574 - accuracy: 0.9167 - val_loss: 1.9464 - val_accuracy: 0.4375 - lr: 1.0000e-06\n",
      "Epoch 28/100\n",
      "17/17 [==============================] - 1s 46ms/step - loss: 0.4306 - accuracy: 0.9242 - val_loss: 1.9464 - val_accuracy: 0.4375 - lr: 1.0000e-06\n",
      "Epoch 29/100\n",
      "17/17 [==============================] - 1s 47ms/step - loss: 0.4497 - accuracy: 0.9394 - val_loss: 1.9464 - val_accuracy: 0.4375 - lr: 1.0000e-06\n",
      "Epoch 30/100\n",
      "17/17 [==============================] - 1s 47ms/step - loss: 0.4010 - accuracy: 0.9318 - val_loss: 1.9463 - val_accuracy: 0.4375 - lr: 1.0000e-06\n",
      "Epoch 31/100\n",
      "17/17 [==============================] - 1s 47ms/step - loss: 0.4633 - accuracy: 0.9091 - val_loss: 1.9463 - val_accuracy: 0.4375 - lr: 1.0000e-06\n",
      "Epoch 32/100\n",
      "17/17 [==============================] - 1s 47ms/step - loss: 0.4265 - accuracy: 0.9242 - val_loss: 1.9463 - val_accuracy: 0.4375 - lr: 1.0000e-06\n",
      "Epoch 33/100\n",
      "17/17 [==============================] - 1s 47ms/step - loss: 0.4804 - accuracy: 0.9167 - val_loss: 1.9462 - val_accuracy: 0.4375 - lr: 1.0000e-06\n",
      "Epoch 34/100\n",
      "17/17 [==============================] - 1s 46ms/step - loss: 0.4211 - accuracy: 0.9242 - val_loss: 1.9463 - val_accuracy: 0.4375 - lr: 1.0000e-06\n",
      "Epoch 35/100\n",
      "17/17 [==============================] - 1s 47ms/step - loss: 0.4602 - accuracy: 0.9167 - val_loss: 1.9462 - val_accuracy: 0.4375 - lr: 1.0000e-06\n",
      "Epoch 36/100\n",
      "17/17 [==============================] - 1s 46ms/step - loss: 0.4558 - accuracy: 0.9167 - val_loss: 1.9461 - val_accuracy: 0.4375 - lr: 1.0000e-06\n",
      "Epoch 37/100\n",
      "17/17 [==============================] - 1s 48ms/step - loss: 0.4501 - accuracy: 0.9191 - val_loss: 1.9462 - val_accuracy: 0.4375 - lr: 1.0000e-06\n",
      "Epoch 38/100\n",
      "17/17 [==============================] - 1s 50ms/step - loss: 0.4480 - accuracy: 0.9242 - val_loss: 1.9462 - val_accuracy: 0.4375 - lr: 1.0000e-06\n",
      "Epoch 39/100\n",
      "17/17 [==============================] - 1s 46ms/step - loss: 0.4439 - accuracy: 0.9318 - val_loss: 1.9461 - val_accuracy: 0.4375 - lr: 1.0000e-06\n",
      "Epoch 40/100\n",
      "17/17 [==============================] - 1s 47ms/step - loss: 0.4476 - accuracy: 0.9015 - val_loss: 1.9462 - val_accuracy: 0.4375 - lr: 1.0000e-06\n",
      "Epoch 41/100\n",
      "17/17 [==============================] - 1s 47ms/step - loss: 0.4514 - accuracy: 0.9318 - val_loss: 1.9460 - val_accuracy: 0.4375 - lr: 1.0000e-06\n",
      "Epoch 42/100\n",
      "17/17 [==============================] - 1s 48ms/step - loss: 0.3932 - accuracy: 0.9242 - val_loss: 1.9461 - val_accuracy: 0.4375 - lr: 1.0000e-06\n",
      "Epoch 43/100\n",
      "17/17 [==============================] - 1s 48ms/step - loss: 0.5045 - accuracy: 0.9318 - val_loss: 1.9460 - val_accuracy: 0.4375 - lr: 1.0000e-06\n",
      "Epoch 44/100\n",
      "17/17 [==============================] - 1s 50ms/step - loss: 0.4341 - accuracy: 0.8939 - val_loss: 1.9460 - val_accuracy: 0.4375 - lr: 1.0000e-06\n",
      "Epoch 45/100\n",
      "17/17 [==============================] - 1s 49ms/step - loss: 0.3978 - accuracy: 0.9394 - val_loss: 1.9460 - val_accuracy: 0.4375 - lr: 1.0000e-06\n",
      "Epoch 46/100\n",
      "17/17 [==============================] - 1s 47ms/step - loss: 0.5217 - accuracy: 0.9015 - val_loss: 1.9459 - val_accuracy: 0.4375 - lr: 1.0000e-06\n",
      "Epoch 47/100\n",
      "17/17 [==============================] - 1s 46ms/step - loss: 0.3737 - accuracy: 0.9621 - val_loss: 1.9459 - val_accuracy: 0.4375 - lr: 1.0000e-06\n",
      "Epoch 48/100\n",
      "17/17 [==============================] - 1s 48ms/step - loss: 0.4775 - accuracy: 0.8788 - val_loss: 1.9459 - val_accuracy: 0.4375 - lr: 1.0000e-06\n",
      "Epoch 49/100\n",
      "17/17 [==============================] - 1s 47ms/step - loss: 0.4177 - accuracy: 0.9545 - val_loss: 1.9459 - val_accuracy: 0.4375 - lr: 1.0000e-06\n",
      "Epoch 50/100\n",
      "17/17 [==============================] - 1s 47ms/step - loss: 0.4732 - accuracy: 0.9015 - val_loss: 1.9459 - val_accuracy: 0.4375 - lr: 1.0000e-06\n",
      "Epoch 51/100\n",
      "17/17 [==============================] - 1s 47ms/step - loss: 0.4216 - accuracy: 0.9318 - val_loss: 1.9459 - val_accuracy: 0.4375 - lr: 1.0000e-06\n",
      "Epoch 52/100\n",
      "17/17 [==============================] - 1s 48ms/step - loss: 0.4537 - accuracy: 0.9015 - val_loss: 1.9459 - val_accuracy: 0.4375 - lr: 1.0000e-06\n",
      "Epoch 53/100\n",
      "17/17 [==============================] - 1s 52ms/step - loss: 0.4391 - accuracy: 0.9394 - val_loss: 1.9459 - val_accuracy: 0.4375 - lr: 1.0000e-06\n",
      "Epoch 54/100\n",
      "17/17 [==============================] - 1s 48ms/step - loss: 0.4451 - accuracy: 0.9167 - val_loss: 1.9459 - val_accuracy: 0.4375 - lr: 1.0000e-06\n",
      "Epoch 55/100\n",
      "17/17 [==============================] - 1s 52ms/step - loss: 0.4515 - accuracy: 0.9191 - val_loss: 1.9459 - val_accuracy: 0.4375 - lr: 1.0000e-06\n",
      "Epoch 56/100\n",
      "17/17 [==============================] - 1s 53ms/step - loss: 0.4437 - accuracy: 0.9167 - val_loss: 1.9458 - val_accuracy: 0.4375 - lr: 1.0000e-06\n",
      "Epoch 57/100\n",
      "17/17 [==============================] - 1s 49ms/step - loss: 0.4635 - accuracy: 0.9242 - val_loss: 1.9458 - val_accuracy: 0.4375 - lr: 1.0000e-06\n",
      "Epoch 58/100\n",
      "17/17 [==============================] - 1s 49ms/step - loss: 0.3848 - accuracy: 0.9394 - val_loss: 1.9458 - val_accuracy: 0.4375 - lr: 1.0000e-06\n",
      "Epoch 59/100\n",
      "17/17 [==============================] - 1s 48ms/step - loss: 0.4942 - accuracy: 0.9091 - val_loss: 1.9457 - val_accuracy: 0.4375 - lr: 1.0000e-06\n",
      "Epoch 60/100\n",
      "17/17 [==============================] - 1s 49ms/step - loss: 0.4447 - accuracy: 0.9091 - val_loss: 1.9457 - val_accuracy: 0.4375 - lr: 1.0000e-06\n",
      "Epoch 61/100\n",
      "17/17 [==============================] - 1s 49ms/step - loss: 0.4592 - accuracy: 0.9091 - val_loss: 1.9456 - val_accuracy: 0.4375 - lr: 1.0000e-06\n",
      "Epoch 62/100\n",
      "17/17 [==============================] - 1s 47ms/step - loss: 0.3585 - accuracy: 0.9697 - val_loss: 1.9456 - val_accuracy: 0.4375 - lr: 1.0000e-06\n",
      "Epoch 63/100\n",
      "17/17 [==============================] - 1s 47ms/step - loss: 0.4671 - accuracy: 0.9091 - val_loss: 1.9456 - val_accuracy: 0.4375 - lr: 1.0000e-06\n",
      "Epoch 64/100\n",
      "17/17 [==============================] - 1s 46ms/step - loss: 0.4679 - accuracy: 0.9242 - val_loss: 1.9456 - val_accuracy: 0.4375 - lr: 1.0000e-06\n",
      "Epoch 65/100\n",
      "17/17 [==============================] - 1s 46ms/step - loss: 0.4466 - accuracy: 0.8939 - val_loss: 1.9456 - val_accuracy: 0.4375 - lr: 1.0000e-06\n",
      "Epoch 66/100\n",
      "17/17 [==============================] - 1s 46ms/step - loss: 0.4617 - accuracy: 0.9242 - val_loss: 1.9456 - val_accuracy: 0.4375 - lr: 1.0000e-06\n",
      "Epoch 67/100\n",
      "17/17 [==============================] - 1s 46ms/step - loss: 0.4298 - accuracy: 0.9091 - val_loss: 1.9456 - val_accuracy: 0.4375 - lr: 1.0000e-06\n",
      "Epoch 68/100\n",
      "17/17 [==============================] - 1s 46ms/step - loss: 0.4154 - accuracy: 0.9545 - val_loss: 1.9455 - val_accuracy: 0.4375 - lr: 1.0000e-06\n",
      "Epoch 69/100\n",
      "17/17 [==============================] - 1s 46ms/step - loss: 0.4601 - accuracy: 0.9015 - val_loss: 1.9455 - val_accuracy: 0.4375 - lr: 1.0000e-06\n",
      "Epoch 70/100\n",
      "17/17 [==============================] - 1s 46ms/step - loss: 0.4242 - accuracy: 0.9318 - val_loss: 1.9455 - val_accuracy: 0.4375 - lr: 1.0000e-06\n",
      "Epoch 71/100\n",
      "17/17 [==============================] - 1s 46ms/step - loss: 0.4482 - accuracy: 0.9242 - val_loss: 1.9454 - val_accuracy: 0.4375 - lr: 1.0000e-06\n",
      "Epoch 72/100\n",
      "17/17 [==============================] - 1s 46ms/step - loss: 0.4413 - accuracy: 0.9167 - val_loss: 1.9453 - val_accuracy: 0.4375 - lr: 1.0000e-06\n",
      "Epoch 73/100\n",
      "17/17 [==============================] - 1s 50ms/step - loss: 0.4484 - accuracy: 0.9191 - val_loss: 1.9454 - val_accuracy: 0.4375 - lr: 1.0000e-06\n",
      "Epoch 74/100\n",
      "17/17 [==============================] - 1s 47ms/step - loss: 0.4281 - accuracy: 0.9318 - val_loss: 1.9453 - val_accuracy: 0.4375 - lr: 1.0000e-06\n",
      "Epoch 75/100\n",
      "17/17 [==============================] - 1s 46ms/step - loss: 0.4438 - accuracy: 0.9091 - val_loss: 1.9452 - val_accuracy: 0.4375 - lr: 1.0000e-06\n",
      "Epoch 76/100\n",
      "17/17 [==============================] - 1s 46ms/step - loss: 0.4597 - accuracy: 0.9167 - val_loss: 1.9452 - val_accuracy: 0.4375 - lr: 1.0000e-06\n",
      "Epoch 77/100\n",
      "17/17 [==============================] - 1s 46ms/step - loss: 0.4373 - accuracy: 0.9242 - val_loss: 1.9452 - val_accuracy: 0.4375 - lr: 1.0000e-06\n",
      "Epoch 78/100\n",
      "17/17 [==============================] - 1s 45ms/step - loss: 0.4434 - accuracy: 0.9242 - val_loss: 1.9453 - val_accuracy: 0.4375 - lr: 1.0000e-06\n",
      "Epoch 79/100\n",
      "17/17 [==============================] - 1s 47ms/step - loss: 0.3838 - accuracy: 0.9470 - val_loss: 1.9451 - val_accuracy: 0.4375 - lr: 1.0000e-06\n",
      "Epoch 80/100\n",
      "17/17 [==============================] - 1s 48ms/step - loss: 0.4766 - accuracy: 0.9091 - val_loss: 1.9451 - val_accuracy: 0.4375 - lr: 1.0000e-06\n",
      "Epoch 81/100\n",
      "17/17 [==============================] - 1s 49ms/step - loss: 0.4649 - accuracy: 0.9091 - val_loss: 1.9452 - val_accuracy: 0.4375 - lr: 1.0000e-06\n",
      "Epoch 82/100\n",
      "17/17 [==============================] - 1s 48ms/step - loss: 0.4807 - accuracy: 0.9167 - val_loss: 1.9451 - val_accuracy: 0.4375 - lr: 1.0000e-06\n",
      "Epoch 83/100\n",
      "17/17 [==============================] - 1s 46ms/step - loss: 0.3587 - accuracy: 0.9394 - val_loss: 1.9451 - val_accuracy: 0.4375 - lr: 1.0000e-06\n",
      "Epoch 84/100\n",
      "17/17 [==============================] - 1s 47ms/step - loss: 0.4792 - accuracy: 0.9091 - val_loss: 1.9450 - val_accuracy: 0.4375 - lr: 1.0000e-06\n",
      "Epoch 85/100\n",
      "17/17 [==============================] - 1s 46ms/step - loss: 0.3932 - accuracy: 0.9394 - val_loss: 1.9450 - val_accuracy: 0.4375 - lr: 1.0000e-06\n",
      "Epoch 86/100\n",
      "17/17 [==============================] - 1s 46ms/step - loss: 0.4444 - accuracy: 0.9167 - val_loss: 1.9450 - val_accuracy: 0.4375 - lr: 1.0000e-06\n",
      "Epoch 87/100\n",
      "17/17 [==============================] - 1s 46ms/step - loss: 0.4915 - accuracy: 0.8939 - val_loss: 1.9449 - val_accuracy: 0.4375 - lr: 1.0000e-06\n",
      "Epoch 88/100\n",
      "17/17 [==============================] - 1s 47ms/step - loss: 0.4193 - accuracy: 0.9394 - val_loss: 1.9450 - val_accuracy: 0.4375 - lr: 1.0000e-06\n",
      "Epoch 89/100\n",
      "17/17 [==============================] - 1s 49ms/step - loss: 0.4474 - accuracy: 0.9167 - val_loss: 1.9450 - val_accuracy: 0.4375 - lr: 1.0000e-06\n",
      "Epoch 90/100\n",
      "17/17 [==============================] - 1s 48ms/step - loss: 0.4285 - accuracy: 0.9242 - val_loss: 1.9449 - val_accuracy: 0.4375 - lr: 1.0000e-06\n",
      "Epoch 91/100\n",
      "17/17 [==============================] - 1s 50ms/step - loss: 0.4325 - accuracy: 0.9191 - val_loss: 1.9448 - val_accuracy: 0.4375 - lr: 1.0000e-06\n",
      "Epoch 92/100\n",
      "17/17 [==============================] - 1s 49ms/step - loss: 0.4415 - accuracy: 0.9242 - val_loss: 1.9448 - val_accuracy: 0.4375 - lr: 1.0000e-06\n",
      "Epoch 93/100\n",
      "17/17 [==============================] - 1s 46ms/step - loss: 0.4204 - accuracy: 0.9318 - val_loss: 1.9448 - val_accuracy: 0.4375 - lr: 1.0000e-06\n",
      "Epoch 94/100\n",
      "17/17 [==============================] - 1s 46ms/step - loss: 0.4913 - accuracy: 0.8939 - val_loss: 1.9447 - val_accuracy: 0.4375 - lr: 1.0000e-06\n",
      "Epoch 95/100\n",
      "17/17 [==============================] - 1s 46ms/step - loss: 0.4226 - accuracy: 0.9394 - val_loss: 1.9448 - val_accuracy: 0.4375 - lr: 1.0000e-06\n",
      "Epoch 96/100\n",
      "17/17 [==============================] - 1s 47ms/step - loss: 0.4440 - accuracy: 0.9167 - val_loss: 1.9447 - val_accuracy: 0.4375 - lr: 1.0000e-06\n",
      "Epoch 97/100\n",
      "17/17 [==============================] - 1s 48ms/step - loss: 0.4661 - accuracy: 0.9015 - val_loss: 1.9448 - val_accuracy: 0.4375 - lr: 1.0000e-06\n",
      "Epoch 98/100\n",
      "17/17 [==============================] - 1s 49ms/step - loss: 0.4025 - accuracy: 0.9318 - val_loss: 1.9447 - val_accuracy: 0.4375 - lr: 1.0000e-06\n",
      "Epoch 99/100\n",
      "17/17 [==============================] - 1s 47ms/step - loss: 0.4451 - accuracy: 0.9242 - val_loss: 1.9447 - val_accuracy: 0.4375 - lr: 1.0000e-06\n",
      "Epoch 100/100\n",
      "17/17 [==============================] - 1s 46ms/step - loss: 0.4358 - accuracy: 0.9318 - val_loss: 1.9447 - val_accuracy: 0.4375 - lr: 1.0000e-06\n"
     ]
    }
   ],
   "execution_count": 41
  },
  {
   "metadata": {},
   "cell_type": "markdown",
   "source": "## Plot the training result",
   "id": "b6e3ca67d8210de7"
  },
  {
   "metadata": {
    "ExecuteTime": {
     "end_time": "2025-07-05T13:59:54.301790Z",
     "start_time": "2025-07-05T13:59:54.287792Z"
    }
   },
   "cell_type": "code",
   "source": [
    "def plot_and_save(metric_name, history, ylabel, filename):\n",
    "    plt.figure()\n",
    "    plt.plot(history.history[metric_name], label=f'Train {ylabel}')\n",
    "    if f'val_{metric_name}' in history.history:\n",
    "        plt.plot(history.history[f'val_{metric_name}'], label=f'Val {ylabel}')\n",
    "    plt.title(f'{ylabel} over Epochs')\n",
    "    plt.xlabel('Epochs')\n",
    "    plt.ylabel(ylabel)\n",
    "    plt.legend()\n",
    "    plt.grid(True)\n",
    "    plt.savefig(filename)\n",
    "    plt.close()"
   ],
   "id": "297a12447f1f4cf7",
   "outputs": [],
   "execution_count": 42
  },
  {
   "metadata": {
    "ExecuteTime": {
     "end_time": "2025-07-05T13:59:54.488298Z",
     "start_time": "2025-07-05T13:59:54.333794Z"
    }
   },
   "cell_type": "code",
   "source": [
    "plot_and_save('loss', history, 'Loss', 'image_loss_plot.png')\n",
    "plot_and_save('accuracy', history, 'Image Classification Accuracy', 'image_class_accuracy_plot.png')"
   ],
   "id": "2c29f9693cf4430f",
   "outputs": [],
   "execution_count": 43
  },
  {
   "metadata": {},
   "cell_type": "markdown",
   "source": [
    "# Evaluation\n",
    "## Using model.evaluate"
   ],
   "id": "d69e8944b9665c09"
  },
  {
   "metadata": {
    "ExecuteTime": {
     "end_time": "2025-07-05T13:59:54.658662Z",
     "start_time": "2025-07-05T13:59:54.504623Z"
    }
   },
   "cell_type": "code",
   "source": [
    "gc.collect()\n",
    "tf.keras.backend.clear_session()"
   ],
   "id": "7447f010f34f0a0f",
   "outputs": [],
   "execution_count": 44
  },
  {
   "metadata": {
    "ExecuteTime": {
     "end_time": "2025-07-05T13:59:54.924081Z",
     "start_time": "2025-07-05T13:59:54.675430Z"
    }
   },
   "cell_type": "code",
   "source": [
    "model.evaluate(x_img_val, y_img_val, batch_size=BATCH_SIZE, verbose=2,\n",
    "               steps=len(x_img_val) // BATCH_SIZE)"
   ],
   "id": "fdfa109b6729f034",
   "outputs": [
    {
     "name": "stdout",
     "output_type": "stream",
     "text": [
      "4/4 - 0s - loss: 1.9447 - accuracy: 0.4375 - 198ms/epoch - 49ms/step\n"
     ]
    },
    {
     "data": {
      "text/plain": [
       "[1.9446958303451538, 0.4375]"
      ]
     },
     "execution_count": 45,
     "metadata": {},
     "output_type": "execute_result"
    }
   ],
   "execution_count": 45
  },
  {
   "metadata": {
    "ExecuteTime": {
     "end_time": "2025-07-05T13:59:54.970135Z",
     "start_time": "2025-07-05T13:59:54.955695Z"
    }
   },
   "cell_type": "code",
   "source": [
    "# model.evaluate(x_img_test, y_img_test, batch_size=BATCH_SIZE, verbose=2,\n",
    "#                steps=len(x_img_test) // BATCH_SIZE)"
   ],
   "id": "6cf558e75eeb3d1a",
   "outputs": [],
   "execution_count": 46
  },
  {
   "metadata": {},
   "cell_type": "markdown",
   "source": "## Using confusion matrix",
   "id": "deccd111c42baff7"
  },
  {
   "metadata": {
    "ExecuteTime": {
     "end_time": "2025-07-05T13:59:55.236542Z",
     "start_time": "2025-07-05T13:59:54.986718Z"
    }
   },
   "cell_type": "code",
   "source": [
    "predictions = model.predict(x_img_val)\n",
    "predictions = np.argmax(predictions, axis=1)\n",
    "\n",
    "classes = [x for x in os.listdir(TRAIN_IMAGE_PATH)]\n",
    "print(classes)"
   ],
   "id": "80a7254d0983024b",
   "outputs": [
    {
     "name": "stdout",
     "output_type": "stream",
     "text": [
      "2/2 [==============================] - 0s 108ms/step\n",
      "['angry', 'disgust', 'fear', 'happy', 'neutral', 'sad', 'surprise']\n"
     ]
    }
   ],
   "execution_count": 47
  },
  {
   "metadata": {},
   "cell_type": "markdown",
   "source": "### Plot the confusion Matrix",
   "id": "76c0d5e73d6ab706"
  },
  {
   "metadata": {
    "ExecuteTime": {
     "end_time": "2025-07-05T13:59:55.612760Z",
     "start_time": "2025-07-05T13:59:55.253733Z"
    }
   },
   "cell_type": "code",
   "source": [
    "cm = confusion_matrix(y_img_val, predictions)\n",
    "plt.figure(figsize=(10, 8))  # Set the figure size if needed\n",
    "sns.heatmap(cm, annot=True, cmap='Blues', fmt='g')\n",
    "\n",
    "plt.title('Confusion Matrix Image', pad=20, fontsize=20, fontweight=\"bold\")\n",
    "plt.ylabel('Actual')\n",
    "plt.xlabel('Predicted')\n",
    "\n",
    "plt.xticks(ticks=range(len(classes)), labels=classes, rotation=45)\n",
    "plt.yticks(ticks=range(len(classes)), labels=classes, rotation=0)\n",
    "plt.savefig('confusion_matrix_image.png', dpi=300, bbox_inches='tight')\n",
    "plt.show()"
   ],
   "id": "68627362493f4158",
   "outputs": [
    {
     "data": {
      "text/plain": [
       "<Figure size 1000x800 with 2 Axes>"
      ],
      "image/png": "[encoded data removed]"
     },
     "metadata": {},
     "output_type": "display_data"
    }
   ],
   "execution_count": 48
  },
  {
   "metadata": {
    "ExecuteTime": {
     "end_time": "2025-07-05T13:59:55.659740Z",
     "start_time": "2025-07-05T13:59:55.646231Z"
    }
   },
   "cell_type": "code",
   "source": [
    "# plt.figure(figsize=(10, 8))  # Set the figure size if needed\n",
    "# sns.heatmap(audio_cm, annot=True, cmap='Blues', fmt='g')\n",
    "# \n",
    "# plt.title('Confusion Matrix Audio', pad=20, fontsize=20, fontweight=\"bold\")\n",
    "# plt.ylabel('Actual')\n",
    "# plt.xlabel('Predicted')\n",
    "# \n",
    "# plt.xticks(ticks=range(len(aud_classes)), labels=aud_classes, rotation=45)\n",
    "# plt.yticks(ticks=range(len(aud_classes)), labels=aud_classes, rotation=0)\n",
    "# plt.savefig('confusion_matrix_audio.png', dpi=300, bbox_inches='tight')\n",
    "# plt.show()"
   ],
   "id": "5fd12ac080d5045e",
   "outputs": [],
   "execution_count": 49
  },
  {
   "metadata": {
    "ExecuteTime": {
     "end_time": "2025-07-05T13:59:55.690878Z",
     "start_time": "2025-07-05T13:59:55.677755Z"
    }
   },
   "cell_type": "code",
   "source": "print(classification_report(y_img_val, predictions))",
   "id": "b22289e4687b1bff",
   "outputs": [
    {
     "name": "stdout",
     "output_type": "stream",
     "text": [
      "              precision    recall  f1-score   support\n",
      "\n",
      "           0       0.17      0.25      0.20         4\n",
      "           1       0.50      0.29      0.36         7\n",
      "           2       0.33      0.50      0.40         4\n",
      "           3       0.50      0.50      0.50         6\n",
      "           4       0.50      0.80      0.62         5\n",
      "           5       1.00      0.14      0.25         7\n",
      "           6       0.25      0.50      0.33         2\n",
      "\n",
      "    accuracy                           0.40        35\n",
      "   macro avg       0.46      0.43      0.38        35\n",
      "weighted avg       0.53      0.40      0.38        35\n",
      "\n"
     ]
    }
   ],
   "execution_count": 50
  },
  {
   "metadata": {
    "ExecuteTime": {
     "end_time": "2025-07-05T13:59:55.738435Z",
     "start_time": "2025-07-05T13:59:55.723928Z"
    }
   },
   "cell_type": "code",
   "source": "# print(classification_report(y_audio_test, audio_class))",
   "id": "b963b32e30308ce1",
   "outputs": [],
   "execution_count": 51
  },
  {
   "metadata": {
    "ExecuteTime": {
     "end_time": "2025-07-05T13:55:11.442140Z",
     "start_time": "2025-07-05T13:55:09.376083Z"
    }
   },
   "cell_type": "code",
   "source": "model.save('model_sc4t5_img.h5')",
   "id": "31e448a351826986",
   "outputs": [],
   "execution_count": 33
  },
  {
   "metadata": {
    "ExecuteTime": {
     "end_time": "2025-07-05T13:55:11.488132Z",
     "start_time": "2025-07-05T13:55:11.473966Z"
    }
   },
   "cell_type": "code",
   "source": "",
   "id": "80e8432387c97808",
   "outputs": [],
   "execution_count": null
  }
 ],
 "metadata": {
  "kernelspec": {
   "display_name": "Python 3",
   "language": "python",
   "name": "python3"
  },
  "language_info": {
   "codemirror_mode": {
    "name": "ipython",
    "version": 2
   },
   "file_extension": ".py",
   "mimetype": "text/x-python",
   "name": "python",
   "nbconvert_exporter": "python",
   "pygments_lexer": "ipython2",
   "version": "2.7.6"
  }
 },
 "nbformat": 4,
 "nbformat_minor": 5
}
