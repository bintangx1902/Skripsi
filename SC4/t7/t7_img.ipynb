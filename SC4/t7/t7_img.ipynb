{
 "cells": [
  {
   "cell_type": "code",
   "id": "initial_id",
   "metadata": {
    "collapsed": true,
    "ExecuteTime": {
     "end_time": "2025-07-06T12:53:38.044540Z",
     "start_time": "2025-07-06T12:53:36.027888Z"
    }
   },
   "source": [
    "import gc\n",
    "import cv2\n",
    "import seaborn as sns\n",
    "from matplotlib import pyplot as plt\n",
    "from sklearn.metrics import classification_report, confusion_matrix\n",
    "from sklearn.model_selection import train_test_split\n",
    "from sklearn.preprocessing import LabelEncoder\n",
    "\n",
    "from shared.local_path import *\n",
    "from shared.utils import *"
   ],
   "outputs": [],
   "execution_count": 1
  },
  {
   "metadata": {},
   "cell_type": "markdown",
   "source": "### Read Image Data",
   "id": "fb39eefea78185cf"
  },
  {
   "metadata": {
    "ExecuteTime": {
     "end_time": "2025-07-06T12:53:38.497375Z",
     "start_time": "2025-07-06T12:53:38.482866Z"
    }
   },
   "cell_type": "code",
   "source": [
    "TRAIN_IMAGE_PATH = R'E:\\Skripsi\\data\\temp\\new_lagi\\train'\n",
    "BATCH_SIZE = 8"
   ],
   "id": "a6d0e6db3a8f2f4f",
   "outputs": [],
   "execution_count": 2
  },
  {
   "metadata": {
    "ExecuteTime": {
     "end_time": "2025-07-06T12:53:38.528491Z",
     "start_time": "2025-07-06T12:53:38.513982Z"
    }
   },
   "cell_type": "code",
   "source": [
    "filepath = []\n",
    "label = []\n",
    "\n",
    "i = 0\n",
    "for classes in os.listdir(TRAIN_IMAGE_PATH):\n",
    "    for file in os.listdir(os.path.join(TRAIN_IMAGE_PATH, classes)):\n",
    "        path = os.path.join(TRAIN_IMAGE_PATH, classes, file)\n",
    "        filepath.append(path)\n",
    "        label.append(classes)\n",
    "\n",
    "train_df = pd.DataFrame({\n",
    "    'filepath': filepath,\n",
    "    'label': label\n",
    "})\n",
    "\n",
    "del filepath, label\n",
    "\n",
    "print(train_df.shape)\n",
    "print(train_df['label'].unique())\n",
    "train_df.head()"
   ],
   "id": "c0c919652686485a",
   "outputs": [
    {
     "name": "stdout",
     "output_type": "stream",
     "text": [
      "(175, 2)\n",
      "['angry' 'disgust' 'fear' 'happy' 'neutral' 'sad' 'surprise']\n"
     ]
    },
    {
     "data": {
      "text/plain": [
       "                                            filepath  label\n",
       "0   E:\\Skripsi\\data\\temp\\new_lagi\\train\\angry\\13.jpg  angry\n",
       "1   E:\\Skripsi\\data\\temp\\new_lagi\\train\\angry\\a.jpeg  angry\n",
       "2    E:\\Skripsi\\data\\temp\\new_lagi\\train\\angry\\a.jpg  angry\n",
       "3    E:\\Skripsi\\data\\temp\\new_lagi\\train\\angry\\a.png  angry\n",
       "4  E:\\Skripsi\\data\\temp\\new_lagi\\train\\angry\\a10.jpg  angry"
      ],
      "text/html": [
       "<div>\n",
       "<style scoped>\n",
       "    .dataframe tbody tr th:only-of-type {\n",
       "        vertical-align: middle;\n",
       "    }\n",
       "\n",
       "    .dataframe tbody tr th {\n",
       "        vertical-align: top;\n",
       "    }\n",
       "\n",
       "    .dataframe thead th {\n",
       "        text-align: right;\n",
       "    }\n",
       "</style>\n",
       "<table border=\"1\" class=\"dataframe\">\n",
       "  <thead>\n",
       "    <tr style=\"text-align: right;\">\n",
       "      <th></th>\n",
       "      <th>filepath</th>\n",
       "      <th>label</th>\n",
       "    </tr>\n",
       "  </thead>\n",
       "  <tbody>\n",
       "    <tr>\n",
       "      <th>0</th>\n",
       "      <td>E:\\Skripsi\\data\\temp\\new_lagi\\train\\angry\\13.jpg</td>\n",
       "      <td>angry</td>\n",
       "    </tr>\n",
       "    <tr>\n",
       "      <th>1</th>\n",
       "      <td>E:\\Skripsi\\data\\temp\\new_lagi\\train\\angry\\a.jpeg</td>\n",
       "      <td>angry</td>\n",
       "    </tr>\n",
       "    <tr>\n",
       "      <th>2</th>\n",
       "      <td>E:\\Skripsi\\data\\temp\\new_lagi\\train\\angry\\a.jpg</td>\n",
       "      <td>angry</td>\n",
       "    </tr>\n",
       "    <tr>\n",
       "      <th>3</th>\n",
       "      <td>E:\\Skripsi\\data\\temp\\new_lagi\\train\\angry\\a.png</td>\n",
       "      <td>angry</td>\n",
       "    </tr>\n",
       "    <tr>\n",
       "      <th>4</th>\n",
       "      <td>E:\\Skripsi\\data\\temp\\new_lagi\\train\\angry\\a10.jpg</td>\n",
       "      <td>angry</td>\n",
       "    </tr>\n",
       "  </tbody>\n",
       "</table>\n",
       "</div>"
      ]
     },
     "execution_count": 3,
     "metadata": {},
     "output_type": "execute_result"
    }
   ],
   "execution_count": 3
  },
  {
   "metadata": {
    "ExecuteTime": {
     "end_time": "2025-07-06T12:53:38.591695Z",
     "start_time": "2025-07-06T12:53:38.576719Z"
    }
   },
   "cell_type": "code",
   "source": [
    "# filepath = []\n",
    "# label = []\n",
    "# \n",
    "# i = 0\n",
    "# for classes in os.listdir(TEST_IMAGE_PATH):\n",
    "#     for file in os.listdir(os.path.join(TEST_IMAGE_PATH, classes)):\n",
    "#         path = os.path.join(TEST_IMAGE_PATH, classes, file)\n",
    "#         filepath.append(path)\n",
    "#         label.append(classes)\n",
    "# \n",
    "# img_test_df = pd.DataFrame({\n",
    "#     'filepath': filepath,\n",
    "#     'label': label\n",
    "# })\n",
    "# \n",
    "# del filepath, label\n",
    "# \n",
    "# print(img_test_df.shape)\n",
    "# print(img_test_df['label'].unique())\n",
    "# img_test_df.head()"
   ],
   "id": "c71041d0d4f41f26",
   "outputs": [],
   "execution_count": 4
  },
  {
   "metadata": {
    "ExecuteTime": {
     "end_time": "2025-07-06T12:53:38.654516Z",
     "start_time": "2025-07-06T12:53:38.639691Z"
    }
   },
   "cell_type": "code",
   "source": [
    "le = LabelEncoder()\n",
    "le.fit(train_df['label'])\n",
    "train_df['label_encoded'] = le.transform(train_df['label'])\n",
    "# img_test_df['label_encoded'] = le.transform(img_test_df['label'])"
   ],
   "id": "92230c1bb52efd13",
   "outputs": [],
   "execution_count": 5
  },
  {
   "metadata": {},
   "cell_type": "markdown",
   "source": "## transform the filepath into image data",
   "id": "c6fec7d0746f0d0e"
  },
  {
   "metadata": {
    "ExecuteTime": {
     "end_time": "2025-07-06T12:53:38.717433Z",
     "start_time": "2025-07-06T12:53:38.702928Z"
    }
   },
   "cell_type": "code",
   "source": [
    "def preprocess_image(img_path, dsize: tuple = (224, 224), normalize=False, augment=False, rescale: float = None,\n",
    "                     preprocess_function=None):\n",
    "    if preprocess_function is not None and not callable(preprocess_function):\n",
    "        raise ValueError(\"preprocess_function must be a callable function.\")\n",
    "\n",
    "    image = cv2.cvtColor(cv2.imread(img_path), cv2.COLOR_BGR2RGB)\n",
    "    image = cv2.resize(image, dsize=dsize)\n",
    "    if normalize and rescale is None:\n",
    "        mean = np.array([0.485, 0.456, 0.406])\n",
    "        std = np.array([0.229, 0.224, 0.225])\n",
    "        image = (image - mean) / std\n",
    "\n",
    "    if rescale is not None and not normalize:\n",
    "        image = np.array(image) * rescale\n",
    "\n",
    "    if augment:\n",
    "        # Choose one augmentation randomly\n",
    "        augmentations = ['flip_horizontal', 'flip_vertical', 'rotate', ]\n",
    "        chosen_aug = random.choice(augmentations)\n",
    "\n",
    "        if chosen_aug == 'flip_horizontal':\n",
    "            image = cv2.flip(image, 1)\n",
    "        elif chosen_aug == 'flip_vertical':\n",
    "            image = cv2.flip(image, 0)\n",
    "        elif chosen_aug == 'rotate':\n",
    "            # Random rotation between -30 and 30 degrees\n",
    "            angle = random.uniform(-30, 30)\n",
    "            h, w = image.shape[:2]\n",
    "            center = (w // 2, h // 2)\n",
    "            M = cv2.getRotationMatrix2D(center, angle, 1.0)\n",
    "            image = cv2.warpAffine(image, M, (w, h), borderMode=cv2.BORDER_REPLICATE)\n",
    "        elif chosen_aug == 'zoom':\n",
    "            # Random zoom between 0.8x and 1.2x\n",
    "            zoom_factor = random.uniform(0.8, 1.2)\n",
    "            h, w = image.shape[:2]\n",
    "            new_h, new_w = int(h * zoom_factor), int(w * zoom_factor)\n",
    "            if zoom_factor > 1.0:\n",
    "                # Zoom in: crop the center\n",
    "                resized = cv2.resize(image, (new_w, new_h), interpolation=cv2.INTER_LANCZOS4)\n",
    "                start_x = (new_w - w) // 2\n",
    "                start_y = (new_h - h) // 2\n",
    "                image = resized[start_y:start_y + h, start_x:start_x + w]\n",
    "            else:\n",
    "                # Zoom out: pad with replicated borders\n",
    "                resized = cv2.resize(image, (new_w, new_h), interpolation=cv2.INTER_LANCZOS4)\n",
    "                pad_x = (w - new_w) // 2\n",
    "                pad_y = (h - new_h) // 2\n",
    "                image = cv2.copyMakeBorder(resized, pad_y, pad_y, pad_x, pad_x,\n",
    "                                           cv2.BORDER_REPLICATE)\n",
    "\n",
    "    if preprocess_function is not None:\n",
    "        return np.array(preprocess_function(image))\n",
    "    return image"
   ],
   "id": "90474bc083e0470a",
   "outputs": [],
   "execution_count": 6
  },
  {
   "metadata": {
    "ExecuteTime": {
     "end_time": "2025-07-06T12:53:39.300444Z",
     "start_time": "2025-07-06T12:53:38.749225Z"
    }
   },
   "cell_type": "code",
   "source": [
    "with tf.device('/GPU:0'):\n",
    "    train_df['data'] = train_df['filepath'].apply(\n",
    "        lambda x: preprocess_image(x, preprocess_function=tf.keras.applications.vgg19.preprocess_input,\n",
    "                                   augment=True))\n",
    "    # img_test_df['data'] = img_test_df['filepath'].apply(\n",
    "    #     lambda x: preprocess_image(x, (100, 100), preprocess_function=tf.keras.applications.vgg19.preprocess_input)\n",
    "    # )\n"
   ],
   "id": "3ad405e920f8613f",
   "outputs": [],
   "execution_count": 7
  },
  {
   "metadata": {},
   "cell_type": "markdown",
   "source": "## Split and Shuffle Dataset into train, val, and test",
   "id": "82badffd9d6aeb00"
  },
  {
   "metadata": {
    "ExecuteTime": {
     "end_time": "2025-07-06T12:53:41.320694Z",
     "start_time": "2025-07-06T12:53:41.306451Z"
    }
   },
   "cell_type": "code",
   "source": [
    "# Image Data\n",
    "# train_df = train_df.sample(frac=1, random_state=19).reset_index(drop=True)\n",
    "train_df, img_val_df = train_test_split(train_df, test_size=.2, random_state=100, shuffle=True)"
   ],
   "id": "f93245b800fb8c2a",
   "outputs": [],
   "execution_count": 8
  },
  {
   "metadata": {},
   "cell_type": "markdown",
   "source": "## Downsampling with following least dataset amount",
   "id": "f9015cda1cda573d"
  },
  {
   "metadata": {
    "ExecuteTime": {
     "end_time": "2025-07-06T12:53:45.361444Z",
     "start_time": "2025-07-06T12:53:45.346671Z"
    }
   },
   "cell_type": "code",
   "source": [
    "# train_df, audio = downsample_df(train_df, audio)\n",
    "# img_val_df, aud_val_df = downsample_df(img_val_df, aud_val_df)\n",
    "# img_test_df, aud_test_df = downsample_df(img_test_df, aud_test_df)"
   ],
   "id": "6909a8372ec6e293",
   "outputs": [],
   "execution_count": 9
  },
  {
   "metadata": {
    "ExecuteTime": {
     "end_time": "2025-07-06T12:53:49.379589Z",
     "start_time": "2025-07-06T12:53:49.364767Z"
    }
   },
   "cell_type": "code",
   "source": [
    "# print(len(train_df))\n",
    "# print(len(img_val_df))\n",
    "# print(len(img_test_df))\n",
    "# \n",
    "# print(\"===============================\")\n",
    "# \n",
    "# print(len(audio))\n",
    "# print(len(aud_val_df))\n",
    "# print(len(aud_test_df))"
   ],
   "id": "eaa5c3fd8cfc20b5",
   "outputs": [],
   "execution_count": 10
  },
  {
   "metadata": {},
   "cell_type": "markdown",
   "source": "## Convert to Numpy",
   "id": "572b7d86cb7382e6"
  },
  {
   "metadata": {
    "ExecuteTime": {
     "end_time": "2025-07-06T12:53:53.429831Z",
     "start_time": "2025-07-06T12:53:53.415317Z"
    }
   },
   "cell_type": "code",
   "source": [
    "# # Audio Data\n",
    "# x_audio_train = np.stack(audio['data'].values)\n",
    "# y_audio_train = np.array(audio['label_encoded'].values)\n",
    "# \n",
    "# x_audio_val = np.stack(aud_val_df['data'].values)\n",
    "# y_audio_val = np.array(aud_val_df['label_encoded'].values)\n",
    "# \n",
    "# x_audio_test = np.stack(aud_test_df['data'].values)\n",
    "# y_audio_test = np.array(aud_test_df['label_encoded'].values)"
   ],
   "id": "f0d3c7a34f364d3c",
   "outputs": [],
   "execution_count": 11
  },
  {
   "metadata": {
    "ExecuteTime": {
     "end_time": "2025-07-06T12:53:57.455771Z",
     "start_time": "2025-07-06T12:53:57.441024Z"
    }
   },
   "cell_type": "code",
   "source": "train_df.data.iloc[1].shape",
   "id": "24750ee1bf16a239",
   "outputs": [
    {
     "data": {
      "text/plain": [
       "(224, 224, 3)"
      ]
     },
     "execution_count": 12,
     "metadata": {},
     "output_type": "execute_result"
    }
   ],
   "execution_count": 12
  },
  {
   "metadata": {
    "ExecuteTime": {
     "end_time": "2025-07-06T12:54:01.502933Z",
     "start_time": "2025-07-06T12:54:01.472594Z"
    }
   },
   "cell_type": "code",
   "source": [
    "x_img_train = np.stack(train_df['data'].values)\n",
    "y_img_train = np.array(train_df['label_encoded'].values)\n",
    "\n",
    "x_img_val = np.stack(img_val_df['data'].values)\n",
    "y_img_val = np.array(img_val_df['label_encoded'].values)\n",
    "\n",
    "# x_img_test = np.stack(img_test_df['data'].values)\n",
    "# y_img_test = np.array(img_test_df['label_encoded'].values)"
   ],
   "id": "2979bd91f67e17f",
   "outputs": [],
   "execution_count": 13
  },
  {
   "metadata": {
    "ExecuteTime": {
     "end_time": "2025-07-06T12:54:05.549332Z",
     "start_time": "2025-07-06T12:54:05.534286Z"
    }
   },
   "cell_type": "code",
   "source": "del train_df, img_val_df, # img_test_df",
   "id": "d90c7a8bd1d5e7b2",
   "outputs": [],
   "execution_count": 14
  },
  {
   "metadata": {},
   "cell_type": "markdown",
   "source": [
    "# Modeling\n",
    "## Creating Model"
   ],
   "id": "fbcf6770a70c43d8"
  },
  {
   "metadata": {
    "ExecuteTime": {
     "end_time": "2025-07-06T12:54:06.159318Z",
     "start_time": "2025-07-06T12:54:05.566346Z"
    }
   },
   "cell_type": "code",
   "source": [
    "base = tf.keras.applications.VGG19(\n",
    "    include_top=False,\n",
    "    weights='imagenet',\n",
    "    input_shape=(224, 224, 3),\n",
    "    pooling=None\n",
    ")\n",
    "\n",
    "for layer in base.layers:\n",
    "    layer.trainable = False\n"
   ],
   "id": "3d8bcb8a27ee7d52",
   "outputs": [],
   "execution_count": 15
  },
  {
   "metadata": {
    "ExecuteTime": {
     "end_time": "2025-07-06T12:54:06.252789Z",
     "start_time": "2025-07-06T12:54:06.191138Z"
    }
   },
   "cell_type": "code",
   "source": [
    "input_image = tf.keras.Input(shape=(224, 224, 3), name='input_image')\n",
    "\n",
    "left = base(input_image)\n",
    "left = tf.keras.layers.GlobalAveragePooling2D()(left)\n",
    "# left = tf.keras.layers.Dense(512, activation='relu', kernel_regularizer=tf.keras.regularizers.l1_l2(0.01))(left)\n",
    "left = tf.keras.layers.Dense(512, activation='relu')(left)\n",
    "# left = tf.keras.layers.Dense(512, activation='relu')(left)\n",
    "out1 = tf.keras.layers.Dense(7, activation='softmax', name='image_class')(left)\n",
    "\n",
    "model = tf.keras.models.Model(input_image, out1)"
   ],
   "id": "863a1e9547c3f104",
   "outputs": [],
   "execution_count": 16
  },
  {
   "metadata": {
    "ExecuteTime": {
     "end_time": "2025-07-06T12:54:06.656354Z",
     "start_time": "2025-07-06T12:54:06.285321Z"
    }
   },
   "cell_type": "code",
   "source": "plot_model(model, show_shapes=True, show_layer_names=True)",
   "id": "4443982ecae82513",
   "outputs": [
    {
     "data": {
      "image/png": "[encoded data removed]",
      "text/plain": [
       "<IPython.core.display.Image object>"
      ]
     },
     "execution_count": 17,
     "metadata": {},
     "output_type": "execute_result"
    }
   ],
   "execution_count": 17
  },
  {
   "metadata": {},
   "cell_type": "markdown",
   "source": "## Compile the model",
   "id": "27682b2fa80eba43"
  },
  {
   "metadata": {
    "ExecuteTime": {
     "end_time": "2025-07-06T12:54:06.703957Z",
     "start_time": "2025-07-06T12:54:06.688888Z"
    }
   },
   "cell_type": "code",
   "source": [
    "model.compile(\n",
    "    optimizer=tf.keras.optimizers.Adam(learning_rate=1e-3),\n",
    "    loss=tf.keras.losses.SparseCategoricalCrossentropy(),\n",
    "    metrics='accuracy',\n",
    ")"
   ],
   "id": "354444500e93155b",
   "outputs": [],
   "execution_count": 18
  },
  {
   "metadata": {
    "ExecuteTime": {
     "end_time": "2025-07-06T12:54:06.876036Z",
     "start_time": "2025-07-06T12:54:06.752093Z"
    }
   },
   "cell_type": "code",
   "source": [
    "tf.keras.backend.clear_session()\n",
    "gc.collect()"
   ],
   "id": "ff82969e8406b315",
   "outputs": [
    {
     "data": {
      "text/plain": [
       "111"
      ]
     },
     "execution_count": 19,
     "metadata": {},
     "output_type": "execute_result"
    }
   ],
   "execution_count": 19
  },
  {
   "metadata": {
    "ExecuteTime": {
     "end_time": "2025-07-06T12:54:06.908099Z",
     "start_time": "2025-07-06T12:54:06.893055Z"
    }
   },
   "cell_type": "code",
   "source": [
    "early = tf.keras.callbacks.EarlyStopping(\n",
    "    monitor='val_loss',\n",
    "    restore_best_weights=True,\n",
    "    mode='min',\n",
    "    # start_from_epoch=2,\n",
    "    patience=5\n",
    ")\n",
    "\n",
    "checkpoint = tf.keras.callbacks.ModelCheckpoint(\n",
    "    filepath=os.path.join('model', 'best_model.keras'),\n",
    "    verbose=2,\n",
    "    save_best_only=True,\n",
    "    monitor='val_loss',\n",
    "    mode='min'\n",
    ")\n",
    "\n",
    "lr_scheduler = tf.keras.callbacks.ReduceLROnPlateau(monitor='val_loss',\n",
    "                                                    factor=0.1,\n",
    "                                                    min_lr=1e-6,\n",
    "                                                    patience=3,\n",
    "                                                    mode='min'\n",
    "                                                    )"
   ],
   "id": "a5616ca24295c6a1",
   "outputs": [],
   "execution_count": 20
  },
  {
   "metadata": {},
   "cell_type": "markdown",
   "source": "## Train the model",
   "id": "d406967db1f43d88"
  },
  {
   "metadata": {
    "ExecuteTime": {
     "end_time": "2025-07-06T12:54:07.048858Z",
     "start_time": "2025-07-06T12:54:06.940282Z"
    }
   },
   "cell_type": "code",
   "source": [
    "gc.collect()\n",
    "tf.keras.backend.clear_session()"
   ],
   "id": "24cd4a13d4df16d",
   "outputs": [],
   "execution_count": 21
  },
  {
   "metadata": {
    "ExecuteTime": {
     "end_time": "2025-07-06T12:54:54.905150Z",
     "start_time": "2025-07-06T12:54:07.081084Z"
    }
   },
   "cell_type": "code",
   "source": [
    "history = model.fit(\n",
    "    x=x_img_train,\n",
    "    y=y_img_train,\n",
    "    validation_data=(\n",
    "        x_img_val,\n",
    "        y_img_val\n",
    "    ),\n",
    "    callbacks=[lr_scheduler],\n",
    "    epochs=50,\n",
    "    batch_size=BATCH_SIZE,\n",
    "    steps_per_epoch=len(x_img_train) // BATCH_SIZE,\n",
    "    validation_steps=len(x_img_val) // BATCH_SIZE,\n",
    ")\n"
   ],
   "id": "74855c29b77614fb",
   "outputs": [
    {
     "name": "stdout",
     "output_type": "stream",
     "text": [
      "Epoch 1/50\n",
      "17/17 [==============================] - 5s 60ms/step - loss: 3.2158 - accuracy: 0.1618 - val_loss: 2.7246 - val_accuracy: 0.1562 - lr: 0.0010\n",
      "Epoch 2/50\n",
      "17/17 [==============================] - 2s 50ms/step - loss: 0.8228 - accuracy: 0.6970 - val_loss: 2.2304 - val_accuracy: 0.4062 - lr: 0.0010\n",
      "Epoch 3/50\n",
      "17/17 [==============================] - 1s 50ms/step - loss: 0.3105 - accuracy: 0.9242 - val_loss: 2.2448 - val_accuracy: 0.4062 - lr: 0.0010\n",
      "Epoch 4/50\n",
      "17/17 [==============================] - 1s 52ms/step - loss: 0.1351 - accuracy: 0.9848 - val_loss: 2.1872 - val_accuracy: 0.4062 - lr: 0.0010\n",
      "Epoch 5/50\n",
      "17/17 [==============================] - 1s 49ms/step - loss: 0.0707 - accuracy: 1.0000 - val_loss: 2.3167 - val_accuracy: 0.3438 - lr: 0.0010\n",
      "Epoch 6/50\n",
      "17/17 [==============================] - 1s 49ms/step - loss: 0.0348 - accuracy: 1.0000 - val_loss: 2.3365 - val_accuracy: 0.3750 - lr: 0.0010\n",
      "Epoch 7/50\n",
      "17/17 [==============================] - 1s 49ms/step - loss: 0.0251 - accuracy: 1.0000 - val_loss: 2.3199 - val_accuracy: 0.3750 - lr: 0.0010\n",
      "Epoch 8/50\n",
      "17/17 [==============================] - 1s 49ms/step - loss: 0.0277 - accuracy: 1.0000 - val_loss: 2.3239 - val_accuracy: 0.3750 - lr: 1.0000e-04\n",
      "Epoch 9/50\n",
      "17/17 [==============================] - 1s 49ms/step - loss: 0.0255 - accuracy: 1.0000 - val_loss: 2.3293 - val_accuracy: 0.3750 - lr: 1.0000e-04\n",
      "Epoch 10/50\n",
      "17/17 [==============================] - 1s 50ms/step - loss: 0.0190 - accuracy: 1.0000 - val_loss: 2.3335 - val_accuracy: 0.3750 - lr: 1.0000e-04\n",
      "Epoch 11/50\n",
      "17/17 [==============================] - 1s 52ms/step - loss: 0.0237 - accuracy: 1.0000 - val_loss: 2.3340 - val_accuracy: 0.3750 - lr: 1.0000e-05\n",
      "Epoch 12/50\n",
      "17/17 [==============================] - 1s 52ms/step - loss: 0.0220 - accuracy: 1.0000 - val_loss: 2.3346 - val_accuracy: 0.3750 - lr: 1.0000e-05\n",
      "Epoch 13/50\n",
      "17/17 [==============================] - 1s 52ms/step - loss: 0.0216 - accuracy: 1.0000 - val_loss: 2.3351 - val_accuracy: 0.3750 - lr: 1.0000e-05\n",
      "Epoch 14/50\n",
      "17/17 [==============================] - 1s 54ms/step - loss: 0.0213 - accuracy: 1.0000 - val_loss: 2.3352 - val_accuracy: 0.3750 - lr: 1.0000e-06\n",
      "Epoch 15/50\n",
      "17/17 [==============================] - 1s 53ms/step - loss: 0.0222 - accuracy: 1.0000 - val_loss: 2.3352 - val_accuracy: 0.3750 - lr: 1.0000e-06\n",
      "Epoch 16/50\n",
      "17/17 [==============================] - 1s 54ms/step - loss: 0.0215 - accuracy: 1.0000 - val_loss: 2.3353 - val_accuracy: 0.3750 - lr: 1.0000e-06\n",
      "Epoch 17/50\n",
      "17/17 [==============================] - 1s 53ms/step - loss: 0.0210 - accuracy: 1.0000 - val_loss: 2.3353 - val_accuracy: 0.3750 - lr: 1.0000e-06\n",
      "Epoch 18/50\n",
      "17/17 [==============================] - 1s 56ms/step - loss: 0.0226 - accuracy: 1.0000 - val_loss: 2.3354 - val_accuracy: 0.3750 - lr: 1.0000e-06\n",
      "Epoch 19/50\n",
      "17/17 [==============================] - 1s 51ms/step - loss: 0.0222 - accuracy: 1.0000 - val_loss: 2.3354 - val_accuracy: 0.3750 - lr: 1.0000e-06\n",
      "Epoch 20/50\n",
      "17/17 [==============================] - 1s 50ms/step - loss: 0.0185 - accuracy: 1.0000 - val_loss: 2.3355 - val_accuracy: 0.3750 - lr: 1.0000e-06\n",
      "Epoch 21/50\n",
      "17/17 [==============================] - 1s 50ms/step - loss: 0.0245 - accuracy: 1.0000 - val_loss: 2.3355 - val_accuracy: 0.3750 - lr: 1.0000e-06\n",
      "Epoch 22/50\n",
      "17/17 [==============================] - 1s 50ms/step - loss: 0.0230 - accuracy: 1.0000 - val_loss: 2.3356 - val_accuracy: 0.3750 - lr: 1.0000e-06\n",
      "Epoch 23/50\n",
      "17/17 [==============================] - 1s 49ms/step - loss: 0.0212 - accuracy: 1.0000 - val_loss: 2.3357 - val_accuracy: 0.3750 - lr: 1.0000e-06\n",
      "Epoch 24/50\n",
      "17/17 [==============================] - 1s 50ms/step - loss: 0.0190 - accuracy: 1.0000 - val_loss: 2.3358 - val_accuracy: 0.3750 - lr: 1.0000e-06\n",
      "Epoch 25/50\n",
      "17/17 [==============================] - 1s 49ms/step - loss: 0.0251 - accuracy: 1.0000 - val_loss: 2.3358 - val_accuracy: 0.3750 - lr: 1.0000e-06\n",
      "Epoch 26/50\n",
      "17/17 [==============================] - 1s 49ms/step - loss: 0.0197 - accuracy: 1.0000 - val_loss: 2.3358 - val_accuracy: 0.3750 - lr: 1.0000e-06\n",
      "Epoch 27/50\n",
      "17/17 [==============================] - 1s 50ms/step - loss: 0.0210 - accuracy: 1.0000 - val_loss: 2.3359 - val_accuracy: 0.3750 - lr: 1.0000e-06\n",
      "Epoch 28/50\n",
      "17/17 [==============================] - 1s 52ms/step - loss: 0.0231 - accuracy: 1.0000 - val_loss: 2.3361 - val_accuracy: 0.3750 - lr: 1.0000e-06\n",
      "Epoch 29/50\n",
      "17/17 [==============================] - 1s 52ms/step - loss: 0.0198 - accuracy: 1.0000 - val_loss: 2.3361 - val_accuracy: 0.3750 - lr: 1.0000e-06\n",
      "Epoch 30/50\n",
      "17/17 [==============================] - 1s 50ms/step - loss: 0.0235 - accuracy: 1.0000 - val_loss: 2.3362 - val_accuracy: 0.3750 - lr: 1.0000e-06\n",
      "Epoch 31/50\n",
      "17/17 [==============================] - 1s 51ms/step - loss: 0.0208 - accuracy: 1.0000 - val_loss: 2.3363 - val_accuracy: 0.3750 - lr: 1.0000e-06\n",
      "Epoch 32/50\n",
      "17/17 [==============================] - 1s 50ms/step - loss: 0.0214 - accuracy: 1.0000 - val_loss: 2.3364 - val_accuracy: 0.3750 - lr: 1.0000e-06\n",
      "Epoch 33/50\n",
      "17/17 [==============================] - 1s 50ms/step - loss: 0.0220 - accuracy: 1.0000 - val_loss: 2.3365 - val_accuracy: 0.3750 - lr: 1.0000e-06\n",
      "Epoch 34/50\n",
      "17/17 [==============================] - 1s 49ms/step - loss: 0.0213 - accuracy: 1.0000 - val_loss: 2.3365 - val_accuracy: 0.3750 - lr: 1.0000e-06\n",
      "Epoch 35/50\n",
      "17/17 [==============================] - 1s 49ms/step - loss: 0.0223 - accuracy: 1.0000 - val_loss: 2.3366 - val_accuracy: 0.3750 - lr: 1.0000e-06\n",
      "Epoch 36/50\n",
      "17/17 [==============================] - 1s 49ms/step - loss: 0.0218 - accuracy: 1.0000 - val_loss: 2.3367 - val_accuracy: 0.3750 - lr: 1.0000e-06\n",
      "Epoch 37/50\n",
      "17/17 [==============================] - 1s 50ms/step - loss: 0.0215 - accuracy: 1.0000 - val_loss: 2.3368 - val_accuracy: 0.3750 - lr: 1.0000e-06\n",
      "Epoch 38/50\n",
      "17/17 [==============================] - 1s 50ms/step - loss: 0.0205 - accuracy: 1.0000 - val_loss: 2.3368 - val_accuracy: 0.3750 - lr: 1.0000e-06\n",
      "Epoch 39/50\n",
      "17/17 [==============================] - 1s 50ms/step - loss: 0.0230 - accuracy: 1.0000 - val_loss: 2.3369 - val_accuracy: 0.3750 - lr: 1.0000e-06\n",
      "Epoch 40/50\n",
      "17/17 [==============================] - 1s 50ms/step - loss: 0.0197 - accuracy: 1.0000 - val_loss: 2.3371 - val_accuracy: 0.3750 - lr: 1.0000e-06\n",
      "Epoch 41/50\n",
      "17/17 [==============================] - 1s 49ms/step - loss: 0.0237 - accuracy: 1.0000 - val_loss: 2.3371 - val_accuracy: 0.3750 - lr: 1.0000e-06\n",
      "Epoch 42/50\n",
      "17/17 [==============================] - 1s 50ms/step - loss: 0.0193 - accuracy: 1.0000 - val_loss: 2.3371 - val_accuracy: 0.3750 - lr: 1.0000e-06\n",
      "Epoch 43/50\n",
      "17/17 [==============================] - 1s 51ms/step - loss: 0.0234 - accuracy: 1.0000 - val_loss: 2.3373 - val_accuracy: 0.3750 - lr: 1.0000e-06\n",
      "Epoch 44/50\n",
      "17/17 [==============================] - 1s 58ms/step - loss: 0.0218 - accuracy: 1.0000 - val_loss: 2.3373 - val_accuracy: 0.3750 - lr: 1.0000e-06\n",
      "Epoch 45/50\n",
      "17/17 [==============================] - 1s 49ms/step - loss: 0.0215 - accuracy: 1.0000 - val_loss: 2.3375 - val_accuracy: 0.3750 - lr: 1.0000e-06\n",
      "Epoch 46/50\n",
      "17/17 [==============================] - 1s 49ms/step - loss: 0.0218 - accuracy: 1.0000 - val_loss: 2.3376 - val_accuracy: 0.3750 - lr: 1.0000e-06\n",
      "Epoch 47/50\n",
      "17/17 [==============================] - 1s 49ms/step - loss: 0.0203 - accuracy: 1.0000 - val_loss: 2.3377 - val_accuracy: 0.3750 - lr: 1.0000e-06\n",
      "Epoch 48/50\n",
      "17/17 [==============================] - 1s 49ms/step - loss: 0.0229 - accuracy: 1.0000 - val_loss: 2.3377 - val_accuracy: 0.3750 - lr: 1.0000e-06\n",
      "Epoch 49/50\n",
      "17/17 [==============================] - 1s 49ms/step - loss: 0.0211 - accuracy: 1.0000 - val_loss: 2.3379 - val_accuracy: 0.3750 - lr: 1.0000e-06\n",
      "Epoch 50/50\n",
      "17/17 [==============================] - 1s 50ms/step - loss: 0.0210 - accuracy: 1.0000 - val_loss: 2.3380 - val_accuracy: 0.3750 - lr: 1.0000e-06\n"
     ]
    }
   ],
   "execution_count": 22
  },
  {
   "metadata": {},
   "cell_type": "markdown",
   "source": "## Plot the training result",
   "id": "b6e3ca67d8210de7"
  },
  {
   "metadata": {
    "ExecuteTime": {
     "end_time": "2025-07-06T12:54:54.952336Z",
     "start_time": "2025-07-06T12:54:54.937322Z"
    }
   },
   "cell_type": "code",
   "source": [
    "def plot_and_save(metric_name, history, ylabel, filename):\n",
    "    plt.figure()\n",
    "    plt.plot(history.history[metric_name], label=f'Train {ylabel}')\n",
    "    if f'val_{metric_name}' in history.history:\n",
    "        plt.plot(history.history[f'val_{metric_name}'], label=f'Val {ylabel}')\n",
    "    plt.title(f'{ylabel} over Epochs')\n",
    "    plt.xlabel('Epochs')\n",
    "    plt.ylabel(ylabel)\n",
    "    plt.legend()\n",
    "    plt.grid(True)\n",
    "    plt.savefig(filename)\n",
    "    plt.show()\n",
    "    plt.close()"
   ],
   "id": "297a12447f1f4cf7",
   "outputs": [],
   "execution_count": 23
  },
  {
   "metadata": {
    "ExecuteTime": {
     "end_time": "2025-07-06T12:54:55.265601Z",
     "start_time": "2025-07-06T12:54:54.984151Z"
    }
   },
   "cell_type": "code",
   "source": [
    "plot_and_save('loss', history, 'Loss', 'image_loss_plot.png')\n",
    "plot_and_save('accuracy', history, 'Image Classification Accuracy', 'image_class_accuracy_plot.png')"
   ],
   "id": "2c29f9693cf4430f",
   "outputs": [
    {
     "data": {
      "text/plain": [
       "<Figure size 640x480 with 1 Axes>"
      ],
      "image/png": "[encoded data removed]"
     },
     "metadata": {},
     "output_type": "display_data"
    },
    {
     "data": {
      "text/plain": [
       "<Figure size 640x480 with 1 Axes>"
      ],
      "image/png": "[encoded data removed]"
     },
     "metadata": {},
     "output_type": "display_data"
    }
   ],
   "execution_count": 24
  },
  {
   "metadata": {},
   "cell_type": "markdown",
   "source": [
    "# Evaluation\n",
    "## Using model.evaluate"
   ],
   "id": "d69e8944b9665c09"
  },
  {
   "metadata": {
    "ExecuteTime": {
     "end_time": "2025-07-06T12:54:55.422235Z",
     "start_time": "2025-07-06T12:54:55.297636Z"
    }
   },
   "cell_type": "code",
   "source": [
    "gc.collect()\n",
    "tf.keras.backend.clear_session()"
   ],
   "id": "7447f010f34f0a0f",
   "outputs": [],
   "execution_count": 25
  },
  {
   "metadata": {
    "ExecuteTime": {
     "end_time": "2025-07-06T12:54:55.687168Z",
     "start_time": "2025-07-06T12:54:55.438747Z"
    }
   },
   "cell_type": "code",
   "source": [
    "model.evaluate(x_img_val, y_img_val, batch_size=BATCH_SIZE, verbose=2,\n",
    "               steps=len(x_img_val) // BATCH_SIZE)"
   ],
   "id": "fdfa109b6729f034",
   "outputs": [
    {
     "name": "stdout",
     "output_type": "stream",
     "text": [
      "4/4 - 0s - loss: 2.3380 - accuracy: 0.3750 - 198ms/epoch - 50ms/step\n"
     ]
    },
    {
     "data": {
      "text/plain": [
       "[2.3380227088928223, 0.375]"
      ]
     },
     "execution_count": 26,
     "metadata": {},
     "output_type": "execute_result"
    }
   ],
   "execution_count": 26
  },
  {
   "metadata": {
    "ExecuteTime": {
     "end_time": "2025-07-06T12:54:55.733318Z",
     "start_time": "2025-07-06T12:54:55.718669Z"
    }
   },
   "cell_type": "code",
   "source": [
    "# model.evaluate(x_img_test, y_img_test, batch_size=BATCH_SIZE, verbose=2,\n",
    "#                steps=len(x_img_test) // BATCH_SIZE)"
   ],
   "id": "6cf558e75eeb3d1a",
   "outputs": [],
   "execution_count": 27
  },
  {
   "metadata": {},
   "cell_type": "markdown",
   "source": "## Using confusion matrix",
   "id": "deccd111c42baff7"
  },
  {
   "metadata": {
    "ExecuteTime": {
     "end_time": "2025-07-06T12:55:00.866711Z",
     "start_time": "2025-07-06T12:54:55.764670Z"
    }
   },
   "cell_type": "code",
   "source": [
    "predictions = model.predict(x_img_val)\n",
    "predictions = np.argmax(predictions, axis=1)\n",
    "\n",
    "classes = [x for x in os.listdir(TRAIN_IMAGE_PATH)]\n",
    "print(classes)"
   ],
   "id": "80a7254d0983024b",
   "outputs": [
    {
     "name": "stdout",
     "output_type": "stream",
     "text": [
      "2/2 [==============================] - 5s 1s/step\n",
      "['angry', 'disgust', 'fear', 'happy', 'neutral', 'sad', 'surprise']\n"
     ]
    }
   ],
   "execution_count": 28
  },
  {
   "metadata": {},
   "cell_type": "markdown",
   "source": "### Plot the confusion Matrix",
   "id": "76c0d5e73d6ab706"
  },
  {
   "metadata": {
    "ExecuteTime": {
     "end_time": "2025-07-06T12:55:01.243901Z",
     "start_time": "2025-07-06T12:55:00.899175Z"
    }
   },
   "cell_type": "code",
   "source": [
    "cm = confusion_matrix(y_img_val, predictions)\n",
    "plt.figure(figsize=(10, 8))  # Set the figure size if needed\n",
    "sns.heatmap(cm, annot=True, cmap='Blues', fmt='g')\n",
    "\n",
    "plt.title('Confusion Matrix Image', pad=20, fontsize=20, fontweight=\"bold\")\n",
    "plt.ylabel('Actual')\n",
    "plt.xlabel('Predicted')\n",
    "\n",
    "plt.xticks(ticks=range(len(classes)), labels=classes, rotation=45)\n",
    "plt.yticks(ticks=range(len(classes)), labels=classes, rotation=0)\n",
    "plt.savefig('confusion_matrix_image.png', dpi=300, bbox_inches='tight')\n",
    "plt.show()"
   ],
   "id": "68627362493f4158",
   "outputs": [
    {
     "data": {
      "text/plain": [
       "<Figure size 1000x800 with 2 Axes>"
      ],
      "image/png": "[encoded data removed]"
     },
     "metadata": {},
     "output_type": "display_data"
    }
   ],
   "execution_count": 29
  },
  {
   "metadata": {
    "ExecuteTime": {
     "end_time": "2025-07-06T12:55:01.291137Z",
     "start_time": "2025-07-06T12:55:01.276416Z"
    }
   },
   "cell_type": "code",
   "source": [
    "# plt.figure(figsize=(10, 8))  # Set the figure size if needed\n",
    "# sns.heatmap(audio_cm, annot=True, cmap='Blues', fmt='g')\n",
    "# \n",
    "# plt.title('Confusion Matrix Audio', pad=20, fontsize=20, fontweight=\"bold\")\n",
    "# plt.ylabel('Actual')\n",
    "# plt.xlabel('Predicted')\n",
    "# \n",
    "# plt.xticks(ticks=range(len(aud_classes)), labels=aud_classes, rotation=45)\n",
    "# plt.yticks(ticks=range(len(aud_classes)), labels=aud_classes, rotation=0)\n",
    "# plt.savefig('confusion_matrix_audio.png', dpi=300, bbox_inches='tight')\n",
    "# plt.show()"
   ],
   "id": "5fd12ac080d5045e",
   "outputs": [],
   "execution_count": 30
  },
  {
   "metadata": {
    "ExecuteTime": {
     "end_time": "2025-07-06T12:55:01.337983Z",
     "start_time": "2025-07-06T12:55:01.323472Z"
    }
   },
   "cell_type": "code",
   "source": "print(classification_report(y_img_val, predictions))",
   "id": "b22289e4687b1bff",
   "outputs": [
    {
     "name": "stdout",
     "output_type": "stream",
     "text": [
      "              precision    recall  f1-score   support\n",
      "\n",
      "           0       0.40      0.50      0.44         4\n",
      "           1       0.33      0.43      0.38         7\n",
      "           2       0.25      0.25      0.25         4\n",
      "           3       0.60      0.50      0.55         6\n",
      "           4       0.60      0.60      0.60         5\n",
      "           5       0.33      0.14      0.20         7\n",
      "           6       0.00      0.00      0.00         2\n",
      "\n",
      "    accuracy                           0.37        35\n",
      "   macro avg       0.36      0.35      0.34        35\n",
      "weighted avg       0.40      0.37      0.37        35\n",
      "\n"
     ]
    }
   ],
   "execution_count": 31
  },
  {
   "metadata": {
    "ExecuteTime": {
     "end_time": "2025-07-06T12:55:01.385029Z",
     "start_time": "2025-07-06T12:55:01.370015Z"
    }
   },
   "cell_type": "code",
   "source": "# print(classification_report(y_audio_test, audio_class))",
   "id": "b963b32e30308ce1",
   "outputs": [],
   "execution_count": 32
  },
  {
   "metadata": {
    "ExecuteTime": {
     "end_time": "2025-07-06T12:55:01.509704Z",
     "start_time": "2025-07-06T12:55:01.416487Z"
    }
   },
   "cell_type": "code",
   "source": "model.save('model_sc4t5_img.h5')",
   "id": "31e448a351826986",
   "outputs": [],
   "execution_count": 33
  },
  {
   "metadata": {
    "ExecuteTime": {
     "end_time": "2025-07-06T12:55:01.556884Z",
     "start_time": "2025-07-06T12:55:01.542374Z"
    }
   },
   "cell_type": "code",
   "source": "",
   "id": "80e8432387c97808",
   "outputs": [],
   "execution_count": null
  }
 ],
 "metadata": {
  "kernelspec": {
   "display_name": "Python 3",
   "language": "python",
   "name": "python3"
  },
  "language_info": {
   "codemirror_mode": {
    "name": "ipython",
    "version": 2
   },
   "file_extension": ".py",
   "mimetype": "text/x-python",
   "name": "python",
   "nbconvert_exporter": "python",
   "pygments_lexer": "ipython2",
   "version": "2.7.6"
  }
 },
 "nbformat": 4,
 "nbformat_minor": 5
}
