{
 "cells": [
  {
   "cell_type": "code",
   "id": "initial_id",
   "metadata": {
    "collapsed": true,
    "ExecuteTime": {
     "end_time": "2025-05-14T05:13:41.037267Z",
     "start_time": "2025-05-14T05:13:40.295104Z"
    }
   },
   "source": [
    "import os\n",
    "import numpy as np\n",
    "import soundfile as sf\n",
    "from audiomentations import Compose, AddGaussianNoise, TimeStretch, PitchShift, Shift\n",
    "from shared.ubuntu_path import *"
   ],
   "outputs": [],
   "execution_count": 1
  },
  {
   "metadata": {
    "ExecuteTime": {
     "end_time": "2025-05-14T05:13:41.209513Z",
     "start_time": "2025-05-14T05:13:41.204311Z"
    }
   },
   "cell_type": "code",
   "source": [
    "main_dir = os.path.join(AUDIO_PATH, 'surprise')\n",
    "save_dir = os.path.join(BASE_DATA_PATH, 'output')\n",
    "os.makedirs(save_dir, exist_ok=True)"
   ],
   "id": "775b66c221341256",
   "outputs": [],
   "execution_count": 2
  },
  {
   "metadata": {
    "ExecuteTime": {
     "end_time": "2025-05-14T05:13:41.266922Z",
     "start_time": "2025-05-14T05:13:41.259680Z"
    }
   },
   "cell_type": "code",
   "source": [
    "augment = Compose([\n",
    "    AddGaussianNoise(min_amplitude=0.001, max_amplitude=0.015, p=0.8),\n",
    "    TimeStretch(min_rate=0.9, max_rate=1.1, p=0.5),\n",
    "    PitchShift(min_semitones=-2, max_semitones=2, p=0.5),\n",
    "    Shift(min_shift=-0.2, max_shift=0.2, p=0.5)\n",
    "])"
   ],
   "id": "aba159868bd992a0",
   "outputs": [],
   "execution_count": 3
  },
  {
   "metadata": {
    "ExecuteTime": {
     "end_time": "2025-05-14T05:15:31.357688Z",
     "start_time": "2025-05-14T05:13:42.328344Z"
    }
   },
   "cell_type": "code",
   "source": [
    "for file in os.listdir(main_dir):\n",
    "    if file.endswith(\".wav\"):\n",
    "        file_path = os.path.join(main_dir, file)\n",
    "        samples, sample_rate = sf.read(file_path)\n",
    "\n",
    "        is_multichannel = samples.ndim == 2\n",
    "        if is_multichannel:\n",
    "            samples = samples.T  # (channels, samples)\n",
    "\n",
    "        for i in range(2):  # generate 6 augmentations\n",
    "            augmented = augment(samples=samples, sample_rate=sample_rate)\n",
    "\n",
    "            if is_multichannel:\n",
    "                augmented = augmented.T  # back to (samples, channels)\n",
    "\n",
    "            save_path = os.path.join(save_dir, f\"{os.path.splitext(file)[0]}_aug{i}.wav\")\n",
    "            sf.write(save_path, augmented, sample_rate)\n"
   ],
   "id": "e7cd324eea132db5",
   "outputs": [
    {
     "name": "stderr",
     "output_type": "stream",
     "text": [
      "/home/bintang/Desktop/Skripsi/venv/lib/python3.10/site-packages/audiomentations/core/transforms_interface.py:107: UserWarning: Warning: input samples dtype is np.float64. Converting to np.float32\n",
      "  warnings.warn(\n"
     ]
    }
   ],
   "execution_count": 4
  },
  {
   "metadata": {},
   "cell_type": "code",
   "outputs": [],
   "execution_count": null,
   "source": "",
   "id": "4c8bcb94209ae2e9"
  }
 ],
 "metadata": {
  "kernelspec": {
   "display_name": "Python 3",
   "language": "python",
   "name": "python3"
  },
  "language_info": {
   "codemirror_mode": {
    "name": "ipython",
    "version": 2
   },
   "file_extension": ".py",
   "mimetype": "text/x-python",
   "name": "python",
   "nbconvert_exporter": "python",
   "pygments_lexer": "ipython2",
   "version": "2.7.6"
  }
 },
 "nbformat": 4,
 "nbformat_minor": 5
}
