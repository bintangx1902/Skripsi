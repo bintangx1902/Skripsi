{
 "cells": [
  {
   "cell_type": "code",
   "id": "initial_id",
   "metadata": {
    "collapsed": true,
    "ExecuteTime": {
     "end_time": "2025-05-16T03:49:39.150414Z",
     "start_time": "2025-05-16T03:49:39.142060Z"
    }
   },
   "source": [
    "import os\n",
    "import random\n",
    "import shutil\n",
    "\n",
    "from shared.ubuntu_path import *"
   ],
   "outputs": [],
   "execution_count": 4
  },
  {
   "metadata": {
    "ExecuteTime": {
     "end_time": "2025-05-16T03:51:24.507872Z",
     "start_time": "2025-05-16T03:51:24.502090Z"
    }
   },
   "cell_type": "code",
   "source": [
    "source_folder = os.path.join(TEST_IMAGE_PATH, 'happy')\n",
    "temp_folder = os.path.join(BASE_DATA_PATH, 'output')\n",
    "desired_count = 1250"
   ],
   "id": "f26a9ac407ef6528",
   "outputs": [],
   "execution_count": 9
  },
  {
   "metadata": {
    "ExecuteTime": {
     "end_time": "2025-05-16T03:51:25.229364Z",
     "start_time": "2025-05-16T03:51:25.187394Z"
    }
   },
   "cell_type": "code",
   "source": [
    "# Get a list of all image files in the folder\n",
    "all_images = os.listdir(source_folder)\n",
    "total_images = len(all_images)\n",
    "\n",
    "# Make sure the temp folder exists\n",
    "os.makedirs(temp_folder, exist_ok=True)\n",
    "\n",
    "# Sanity check\n",
    "if total_images <= desired_count:\n",
    "    print(\"No downsampling needed. Total images are less than or equal to the desired count.\")\n",
    "else:\n",
    "    # Randomly select images to keep\n",
    "    images_to_keep = set(random.sample(all_images, desired_count))\n",
    "\n",
    "    # Move images that are not selected to the temp folder\n",
    "    moved_count = 0\n",
    "    for image_name in all_images:\n",
    "        if image_name not in images_to_keep:\n",
    "            src_path = os.path.join(source_folder, image_name)\n",
    "            dst_path = os.path.join(temp_folder, image_name)\n",
    "            shutil.move(src_path, dst_path)\n",
    "            moved_count += 1\n",
    "\n",
    "    print(f\"Moved {moved_count} images to {temp_folder}. {desired_count} images remain in the original folder.\")"
   ],
   "id": "4cb679b1fe9ef75b",
   "outputs": [
    {
     "name": "stdout",
     "output_type": "stream",
     "text": [
      "Moved 543 images to /home/bintang/Desktop/Skripsi/data/output. 1250 images remain in the original folder.\n"
     ]
    }
   ],
   "execution_count": 10
  },
  {
   "metadata": {},
   "cell_type": "code",
   "outputs": [],
   "execution_count": null,
   "source": "",
   "id": "fccecbfe543bf432"
  }
 ],
 "metadata": {
  "kernelspec": {
   "display_name": "Python 3",
   "language": "python",
   "name": "python3"
  },
  "language_info": {
   "codemirror_mode": {
    "name": "ipython",
    "version": 2
   },
   "file_extension": ".py",
   "mimetype": "text/x-python",
   "name": "python",
   "nbconvert_exporter": "python",
   "pygments_lexer": "ipython2",
   "version": "2.7.6"
  }
 },
 "nbformat": 4,
 "nbformat_minor": 5
}
