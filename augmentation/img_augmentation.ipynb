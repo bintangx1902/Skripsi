{
 "cells": [
  {
   "cell_type": "code",
   "id": "initial_id",
   "metadata": {
    "collapsed": true,
    "ExecuteTime": {
     "end_time": "2025-05-16T03:33:28.802063Z",
     "start_time": "2025-05-16T03:33:24.761365Z"
    }
   },
   "source": [
    "import tensorflow as tf\n",
    "import os\n",
    "import cv2 as cv\n",
    "from shared.ubuntu_path import *"
   ],
   "outputs": [
    {
     "name": "stderr",
     "output_type": "stream",
     "text": [
      "2025-05-16 10:33:24.774470: I tensorflow/core/platform/cpu_feature_guard.cc:193] This TensorFlow binary is optimized with oneAPI Deep Neural Network Library (oneDNN) to use the following CPU instructions in performance-critical operations:  AVX2 AVX_VNNI FMA\n",
      "To enable them in other operations, rebuild TensorFlow with the appropriate compiler flags.\n",
      "2025-05-16 10:33:25.128768: I tensorflow/core/util/util.cc:169] oneDNN custom operations are on. You may see slightly different numerical results due to floating-point round-off errors from different computation orders. To turn them off, set the environment variable `TF_ENABLE_ONEDNN_OPTS=0`.\n",
      "2025-05-16 10:33:25.142382: W tensorflow/stream_executor/platform/default/dso_loader.cc:64] Could not load dynamic library 'libcudart.so.11.0'; dlerror: libcudart.so.11.0: cannot open shared object file: No such file or directory\n",
      "2025-05-16 10:33:25.142443: I tensorflow/stream_executor/cuda/cudart_stub.cc:29] Ignore above cudart dlerror if you do not have a GPU set up on your machine.\n",
      "2025-05-16 10:33:25.230205: E tensorflow/stream_executor/cuda/cuda_blas.cc:2981] Unable to register cuBLAS factory: Attempting to register factory for plugin cuBLAS when one has already been registered\n",
      "2025-05-16 10:33:26.717837: W tensorflow/stream_executor/platform/default/dso_loader.cc:64] Could not load dynamic library 'libnvinfer.so.7'; dlerror: libnvinfer.so.7: cannot open shared object file: No such file or directory\n",
      "2025-05-16 10:33:26.717913: W tensorflow/stream_executor/platform/default/dso_loader.cc:64] Could not load dynamic library 'libnvinfer_plugin.so.7'; dlerror: libnvinfer_plugin.so.7: cannot open shared object file: No such file or directory\n",
      "2025-05-16 10:33:26.717920: W tensorflow/compiler/tf2tensorrt/utils/py_utils.cc:38] TF-TRT Warning: Cannot dlopen some TensorRT libraries. If you would like to use Nvidia GPU with TensorRT, please make sure the missing libraries mentioned above are installed properly.\n"
     ]
    }
   ],
   "execution_count": 1
  },
  {
   "cell_type": "code",
   "source": [
    "aug = tf.keras.preprocessing.image.ImageDataGenerator(\n",
    "    rotation_range=90,\n",
    "    fill_mode=\"reflect\",\n",
    "    # zoom_range=.3,\n",
    "    shear_range=.3,\n",
    "    horizontal_flip=True,\n",
    "    vertical_flip=True,\n",
    "    rescale=1 / 255.\n",
    ")"
   ],
   "metadata": {
    "collapsed": false,
    "ExecuteTime": {
     "end_time": "2025-05-16T03:33:28.923386Z",
     "start_time": "2025-05-16T03:33:28.917164Z"
    }
   },
   "id": "22436c968265a50e",
   "outputs": [],
   "execution_count": 2
  },
  {
   "cell_type": "code",
   "source": [
    "# img = keras.utils.load_img(r'C:\\a-dev\\a_study\\dataset\\Dataset\\Data Sawi Ada Hama\\1.png')\n",
    "# x = keras.utils.img_to_array(img)\n",
    "# \n",
    "# x = x.reshape((1,) + x.shape)"
   ],
   "metadata": {
    "collapsed": false,
    "ExecuteTime": {
     "end_time": "2025-05-16T03:33:28.982554Z",
     "start_time": "2025-05-16T03:33:28.977417Z"
    }
   },
   "id": "ce172f8ec699c05c",
   "outputs": [],
   "execution_count": 3
  },
  {
   "cell_type": "code",
   "source": [
    "# i = 0\n",
    "# for bat in aug.flow(x, batch_size=1, save_to_dir='E:\\PEN', save_prefix='ada hama', save_format='jpg'):\n",
    "#     i += 1\n",
    "#     if i >= 3:\n",
    "#         break"
   ],
   "metadata": {
    "collapsed": false,
    "ExecuteTime": {
     "end_time": "2025-05-16T03:33:29.099361Z",
     "start_time": "2025-05-16T03:33:29.090093Z"
    }
   },
   "id": "696db6e9c86294e3",
   "outputs": [],
   "execution_count": 4
  },
  {
   "metadata": {
    "ExecuteTime": {
     "end_time": "2025-05-16T04:03:08.877107Z",
     "start_time": "2025-05-16T04:03:08.871453Z"
    }
   },
   "cell_type": "code",
   "source": [
    "main_dir = os.path.join(TEST_IMAGE_PATH, 'disgust')\n",
    "save_dir = os.path.join(BASE_DATA_PATH, 'output')"
   ],
   "id": "df5dd67607e6d514",
   "outputs": [],
   "execution_count": 26
  },
  {
   "cell_type": "code",
   "source": [
    "# for classes in os.listdir(main_dir):\n",
    "#     in_class = os.path.join(main_dir, classes)\n",
    "#     if not os.path.exists(os.path.join(save_dir, classes)):\n",
    "#         os.makedirs(os.path.join(save_dir, classes), exist_ok=True)\n",
    "#     target_dir = os.path.join(save_dir, classes)\n",
    "#     for i in os.listdir(in_class):\n",
    "#         img_path = os.path.join(in_class, i)\n",
    "#         img = tf.keras.utils.load_img(img_path)\n",
    "#         x = tf.keras.utils.img_to_array(img)\n",
    "#\n",
    "#         x = x.reshape((1,) + x.shape)\n",
    "#         i = 0\n",
    "#\n",
    "#         for bat in aug.flow(x, batch_size=1, save_to_dir=target_dir, save_prefix=f\"{classes}_\", save_format='jpg'):\n",
    "#             i += 1\n",
    "#             if i >= 200:\n",
    "#                 break"
   ],
   "metadata": {
    "collapsed": false,
    "ExecuteTime": {
     "end_time": "2025-05-16T03:33:29.349325Z",
     "start_time": "2025-05-16T03:33:29.335857Z"
    }
   },
   "id": "6d3f162ad8e025a9",
   "outputs": [],
   "execution_count": 6
  },
  {
   "cell_type": "code",
   "source": [
    "for file in os.listdir(main_dir):\n",
    "    img_path = os.path.join(main_dir, file)\n",
    "    img = tf.keras.utils.load_img(img_path)\n",
    "    x = tf.keras.preprocessing.image.img_to_array(img)\n",
    "\n",
    "    x = x.reshape((1,) + x.shape)\n",
    "    i = 0\n",
    "\n",
    "    for bat in aug.flow(x, batch_size=1, save_to_dir=save_dir, save_format='jpg', save_prefix='disgust'):\n",
    "        if i > 5:\n",
    "            break\n",
    "        i += 1\n"
   ],
   "metadata": {
    "collapsed": false,
    "ExecuteTime": {
     "end_time": "2025-05-16T04:03:35.136111Z",
     "start_time": "2025-05-16T04:03:33.567673Z"
    }
   },
   "id": "296b2bbfb5eeb961",
   "outputs": [],
   "execution_count": 27
  },
  {
   "metadata": {
    "ExecuteTime": {
     "end_time": "2025-05-16T03:56:37.380006Z",
     "start_time": "2025-05-16T03:56:36.778015Z"
    }
   },
   "cell_type": "code",
   "source": [
    "i = 0\n",
    "for file in os.listdir(main_dir):\n",
    "    img_path = os.path.join(main_dir, file)\n",
    "    img = tf.keras.utils.load_img(img_path)\n",
    "    x = tf.keras.preprocessing.image.img_to_array(img)\n",
    "\n",
    "    x = x.reshape((1,) + x.shape)\n",
    "    j = 0\n",
    "    for bat in aug.flow(x, batch_size=1, save_to_dir=save_dir, save_format='jpg', save_prefix='surprise'):\n",
    "        j += 1\n",
    "        if j > 1:\n",
    "            break\n",
    "\n",
    "    i += 1\n",
    "    if i > 70:\n",
    "        break\n"
   ],
   "id": "1a0af91a5b3069a0",
   "outputs": [],
   "execution_count": 22
  },
  {
   "metadata": {
    "ExecuteTime": {
     "end_time": "2025-05-08T13:22:57.914601Z",
     "start_time": "2025-05-08T13:22:57.899736Z"
    }
   },
   "cell_type": "code",
   "source": "",
   "id": "8501ded929903584",
   "outputs": [],
   "execution_count": null
  }
 ],
 "metadata": {
  "kernelspec": {
   "display_name": "Python 3",
   "language": "python",
   "name": "python3"
  },
  "language_info": {
   "codemirror_mode": {
    "name": "ipython",
    "version": 2
   },
   "file_extension": ".py",
   "mimetype": "text/x-python",
   "name": "python",
   "nbconvert_exporter": "python",
   "pygments_lexer": "ipython2",
   "version": "2.7.6"
  }
 },
 "nbformat": 4,
 "nbformat_minor": 5
}
