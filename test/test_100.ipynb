{
 "cells": [
  {
   "cell_type": "code",
   "id": "initial_id",
   "metadata": {
    "collapsed": true,
    "ExecuteTime": {
     "end_time": "2025-05-25T08:58:33.512364Z",
     "start_time": "2025-05-25T08:58:31.473278Z"
    }
   },
   "source": [
    "import gc\n",
    "\n",
    "import seaborn as sns\n",
    "from matplotlib import pyplot as plt\n",
    "from sklearn.metrics import classification_report, confusion_matrix\n",
    "from sklearn.model_selection import train_test_split\n",
    "from sklearn.preprocessing import LabelEncoder\n",
    "\n",
    "from shared.local_path import *\n",
    "from shared.utils import *"
   ],
   "outputs": [],
   "execution_count": 1
  },
  {
   "metadata": {
    "ExecuteTime": {
     "end_time": "2025-05-25T08:58:33.859205Z",
     "start_time": "2025-05-25T08:58:33.844696Z"
    }
   },
   "cell_type": "code",
   "source": "TRAIN_IMAGE_PATH = r'E:\\Skripsi\\data\\temp\\train'",
   "id": "48a87681b144c7f8",
   "outputs": [],
   "execution_count": 2
  },
  {
   "metadata": {
    "ExecuteTime": {
     "end_time": "2025-05-25T08:58:33.986226Z",
     "start_time": "2025-05-25T08:58:33.875642Z"
    }
   },
   "cell_type": "code",
   "source": [
    "filepath = []\n",
    "label = []\n",
    "\n",
    "i = 0\n",
    "for classes in os.listdir(TRAIN_IMAGE_PATH):\n",
    "    for file in os.listdir(os.path.join(TRAIN_IMAGE_PATH, classes)):\n",
    "        path = os.path.join(TRAIN_IMAGE_PATH, classes, file)\n",
    "        filepath.append(path)\n",
    "        label.append(classes)\n",
    "\n",
    "train_df = pd.DataFrame({\n",
    "    'filepath': filepath,\n",
    "    'label': label\n",
    "})\n",
    "\n",
    "del filepath, label\n",
    "\n",
    "print(train_df.shape)\n",
    "print(train_df['label'].unique())\n",
    "train_df.head()"
   ],
   "id": "c527c410d3406a20",
   "outputs": [
    {
     "name": "stdout",
     "output_type": "stream",
     "text": [
      "(28709, 2)\n",
      "['angry' 'disgust' 'fear' 'happy' 'neutral' 'sad' 'surprise']\n"
     ]
    },
    {
     "data": {
      "text/plain": [
       "                                            filepath  label\n",
       "0  E:\\Skripsi\\data\\temp\\train\\angry\\Training_1011...  angry\n",
       "1  E:\\Skripsi\\data\\temp\\train\\angry\\Training_1012...  angry\n",
       "2  E:\\Skripsi\\data\\temp\\train\\angry\\Training_1013...  angry\n",
       "3  E:\\Skripsi\\data\\temp\\train\\angry\\Training_1016...  angry\n",
       "4  E:\\Skripsi\\data\\temp\\train\\angry\\Training_1021...  angry"
      ],
      "text/html": [
       "<div>\n",
       "<style scoped>\n",
       "    .dataframe tbody tr th:only-of-type {\n",
       "        vertical-align: middle;\n",
       "    }\n",
       "\n",
       "    .dataframe tbody tr th {\n",
       "        vertical-align: top;\n",
       "    }\n",
       "\n",
       "    .dataframe thead th {\n",
       "        text-align: right;\n",
       "    }\n",
       "</style>\n",
       "<table border=\"1\" class=\"dataframe\">\n",
       "  <thead>\n",
       "    <tr style=\"text-align: right;\">\n",
       "      <th></th>\n",
       "      <th>filepath</th>\n",
       "      <th>label</th>\n",
       "    </tr>\n",
       "  </thead>\n",
       "  <tbody>\n",
       "    <tr>\n",
       "      <th>0</th>\n",
       "      <td>E:\\Skripsi\\data\\temp\\train\\angry\\Training_1011...</td>\n",
       "      <td>angry</td>\n",
       "    </tr>\n",
       "    <tr>\n",
       "      <th>1</th>\n",
       "      <td>E:\\Skripsi\\data\\temp\\train\\angry\\Training_1012...</td>\n",
       "      <td>angry</td>\n",
       "    </tr>\n",
       "    <tr>\n",
       "      <th>2</th>\n",
       "      <td>E:\\Skripsi\\data\\temp\\train\\angry\\Training_1013...</td>\n",
       "      <td>angry</td>\n",
       "    </tr>\n",
       "    <tr>\n",
       "      <th>3</th>\n",
       "      <td>E:\\Skripsi\\data\\temp\\train\\angry\\Training_1016...</td>\n",
       "      <td>angry</td>\n",
       "    </tr>\n",
       "    <tr>\n",
       "      <th>4</th>\n",
       "      <td>E:\\Skripsi\\data\\temp\\train\\angry\\Training_1021...</td>\n",
       "      <td>angry</td>\n",
       "    </tr>\n",
       "  </tbody>\n",
       "</table>\n",
       "</div>"
      ]
     },
     "execution_count": 3,
     "metadata": {},
     "output_type": "execute_result"
    }
   ],
   "execution_count": 3
  },
  {
   "metadata": {
    "ExecuteTime": {
     "end_time": "2025-05-25T08:58:34.143546Z",
     "start_time": "2025-05-25T08:58:34.128541Z"
    }
   },
   "cell_type": "code",
   "source": [
    "le = LabelEncoder()\n",
    "le.fit(train_df['label'])\n",
    "train_df['label_encoded'] = le.transform(train_df['label'])"
   ],
   "id": "31335edde829ed5a",
   "outputs": [],
   "execution_count": 4
  },
  {
   "metadata": {
    "ExecuteTime": {
     "end_time": "2025-05-25T08:58:42.435660Z",
     "start_time": "2025-05-25T08:58:34.190566Z"
    }
   },
   "cell_type": "code",
   "source": [
    "with tf.device('/GPU:0'):\n",
    "    train_df['data'] = train_df['filepath'].apply(\n",
    "        lambda x: preprocess_image2(x, (100, 100), rescale=1/255., augment=True))\n"
   ],
   "id": "207b57975fa2cf91",
   "outputs": [],
   "execution_count": 5
  },
  {
   "metadata": {
    "ExecuteTime": {
     "end_time": "2025-05-25T08:58:43.622757Z",
     "start_time": "2025-05-25T08:58:43.607764Z"
    }
   },
   "cell_type": "code",
   "source": "(train_df.label_encoded.value_counts())",
   "id": "802a84242f7a25df",
   "outputs": [
    {
     "data": {
      "text/plain": [
       "label_encoded\n",
       "3    7215\n",
       "4    4965\n",
       "5    4830\n",
       "2    4097\n",
       "0    3995\n",
       "6    3171\n",
       "1     436\n",
       "Name: count, dtype: int64"
      ]
     },
     "execution_count": 6,
     "metadata": {},
     "output_type": "execute_result"
    }
   ],
   "execution_count": 6
  },
  {
   "metadata": {
    "ExecuteTime": {
     "end_time": "2025-05-25T08:58:44.272732Z",
     "start_time": "2025-05-25T08:58:44.258220Z"
    }
   },
   "cell_type": "code",
   "source": [
    "# Image Data\n",
    "# train_df = train_df.sample(frac=1, random_state=19).reset_index(drop=True)\n",
    "train_df, img_val_df = train_test_split(train_df, test_size=.2, random_state=100, shuffle=True)"
   ],
   "id": "535fde6574d1c769",
   "outputs": [],
   "execution_count": 7
  },
  {
   "metadata": {
    "ExecuteTime": {
     "end_time": "2025-05-25T08:58:47.460499Z",
     "start_time": "2025-05-25T08:58:46.589546Z"
    }
   },
   "cell_type": "code",
   "source": [
    "x_img_train = np.stack(train_df['data'].values)\n",
    "y_img_train = np.array(train_df['label_encoded'].values)\n",
    "\n",
    "x_img_val = np.stack(img_val_df['data'].values)\n",
    "y_img_val = np.array(img_val_df['label_encoded'].values)"
   ],
   "id": "6d38d5355286b935",
   "outputs": [],
   "execution_count": 8
  },
  {
   "metadata": {
    "ExecuteTime": {
     "end_time": "2025-05-25T08:58:53.828953Z",
     "start_time": "2025-05-25T08:58:52.086800Z"
    }
   },
   "cell_type": "code",
   "source": "del train_df, img_val_df",
   "id": "954e083d703295f7",
   "outputs": [],
   "execution_count": 9
  },
  {
   "metadata": {
    "ExecuteTime": {
     "end_time": "2025-05-25T08:58:54.597307Z",
     "start_time": "2025-05-25T08:58:53.845150Z"
    }
   },
   "cell_type": "code",
   "source": [
    "base = tf.keras.applications.vgg19.VGG19(\n",
    "    include_top=False,\n",
    "    weights=\"imagenet\",\n",
    "    input_shape=(100, 100, 3),\n",
    "    pooling='max'\n",
    ")\n",
    "\n",
    "for layer in base.layers:\n",
    "    layer.trainable = False\n"
   ],
   "id": "66246aa6f48949c5",
   "outputs": [],
   "execution_count": 10
  },
  {
   "metadata": {
    "ExecuteTime": {
     "end_time": "2025-05-25T08:58:54.660841Z",
     "start_time": "2025-05-25T08:58:54.613839Z"
    }
   },
   "cell_type": "code",
   "source": [
    "input_image = tf.keras.Input(shape=(100, 100, 3), name='input_image')\n",
    "\n",
    "left = base(input_image)\n",
    "# left = tf.keras.layers.Dropout(.5)(left)\n",
    "# left = tf.keras.layers.BatchNormalization(axis=-1, momentum=0.99, epsilon=0.001, name='batch_norm_x')(left)\n",
    "# left = tf.keras.layers.BatchNormalization()(left)\n",
    "left = tf.keras.layers.Dense(512, activation='relu')(left)\n",
    "# left = tf.keras.layers.BatchNormalization()(left)\n",
    "# left = tf.keras.layers.Dense(64, activation='relu')(left)\n",
    "# left = tf.keras.layers.Dense(512, activation='relu', kernel_regularizer=tf.keras.regularizers.l2(l=0.016),\n",
    "#                              activity_regularizer=tf.keras.regularizers.l1(0.006),\n",
    "#                              bias_regularizer=tf.keras.regularizers.l1(0.006),\n",
    "#                              )(left)\n",
    "out1 = tf.keras.layers.Dense(7, activation='softmax', name='image_class')(left)\n",
    "\n",
    "model = tf.keras.models.Model(input_image, out1)"
   ],
   "id": "50a5d40eec6c874d",
   "outputs": [],
   "execution_count": 11
  },
  {
   "metadata": {
    "ExecuteTime": {
     "end_time": "2025-05-25T08:58:55.244724Z",
     "start_time": "2025-05-25T08:58:54.677843Z"
    }
   },
   "cell_type": "code",
   "source": "plot_model(model, show_shapes=True, show_layer_names=True)",
   "id": "889933189d4e94f3",
   "outputs": [
    {
     "data": {
      "image/png": "[encoded data removed]",
      "text/plain": [
       "<IPython.core.display.Image object>"
      ]
     },
     "execution_count": 12,
     "metadata": {},
     "output_type": "execute_result"
    }
   ],
   "execution_count": 12
  },
  {
   "metadata": {
    "ExecuteTime": {
     "end_time": "2025-05-25T08:58:55.292759Z",
     "start_time": "2025-05-25T08:58:55.277727Z"
    }
   },
   "cell_type": "code",
   "source": "x_img_train[0].shape",
   "id": "4bbe4c0faab4643f",
   "outputs": [
    {
     "data": {
      "text/plain": [
       "(100, 100, 3)"
      ]
     },
     "execution_count": 13,
     "metadata": {},
     "output_type": "execute_result"
    }
   ],
   "execution_count": 13
  },
  {
   "metadata": {
    "ExecuteTime": {
     "end_time": "2025-05-25T08:58:55.340767Z",
     "start_time": "2025-05-25T08:58:55.325763Z"
    }
   },
   "cell_type": "code",
   "source": [
    "model.compile(\n",
    "    optimizer=tf.keras.optimizers.Adamax(learning_rate=1e-3),\n",
    "    loss=tf.keras.losses.SparseCategoricalCrossentropy(),\n",
    "    metrics='accuracy',\n",
    ")"
   ],
   "id": "e97ea850e36c5b91",
   "outputs": [],
   "execution_count": 14
  },
  {
   "metadata": {
    "ExecuteTime": {
     "end_time": "2025-05-25T08:58:55.528462Z",
     "start_time": "2025-05-25T08:58:55.372730Z"
    }
   },
   "cell_type": "code",
   "source": [
    "tf.keras.backend.clear_session()\n",
    "gc.collect()\n",
    "\n",
    "early = tf.keras.callbacks.EarlyStopping(\n",
    "    monitor='val_loss',\n",
    "    restore_best_weights=True,\n",
    "    mode='min',\n",
    "    # start_from_epoch=2,\n",
    "    patience=5\n",
    ")\n",
    "\n",
    "checkpoint = tf.keras.callbacks.ModelCheckpoint(\n",
    "    filepath=os.path.join('model', 'best_model.keras'),\n",
    "    verbose=2,\n",
    "    save_best_only=True,\n",
    "    monitor='val_loss',\n",
    "    mode='min'\n",
    ")\n",
    "\n",
    "lr_scheduler = tf.keras.callbacks.ReduceLROnPlateau(monitor='val_loss',\n",
    "                                                    factor=0.1,\n",
    "                                                    min_lr=1e-6,\n",
    "                                                    patience=3,\n",
    "                                                    mode='min'\n",
    "                                                    )"
   ],
   "id": "501e63216f1d43fa",
   "outputs": [],
   "execution_count": 15
  },
  {
   "metadata": {
    "ExecuteTime": {
     "end_time": "2025-05-25T09:19:20.097756Z",
     "start_time": "2025-05-25T08:58:55.560039Z"
    }
   },
   "cell_type": "code",
   "source": [
    "history = model.fit(\n",
    "    x=x_img_train,\n",
    "    y=y_img_train,\n",
    "    validation_data=(\n",
    "        x_img_val,\n",
    "        y_img_val\n",
    "    ),\n",
    "    callbacks=[lr_scheduler],\n",
    "    epochs=50,\n",
    "    batch_size=BATCH_SIZE,\n",
    "    steps_per_epoch=len(x_img_train) // BATCH_SIZE,\n",
    "    validation_steps=len(x_img_val) // BATCH_SIZE,\n",
    ")\n"
   ],
   "id": "8204e5e16b2fffff",
   "outputs": [
    {
     "name": "stdout",
     "output_type": "stream",
     "text": [
      "Epoch 1/50\n",
      "358/358 [==============================] - 32s 70ms/step - loss: 1.6021 - accuracy: 0.3716 - val_loss: 1.5424 - val_accuracy: 0.3915 - lr: 0.0010\n",
      "Epoch 2/50\n",
      "358/358 [==============================] - 26s 67ms/step - loss: 1.5001 - accuracy: 0.4222 - val_loss: 1.5087 - val_accuracy: 0.4159 - lr: 0.0010\n",
      "Epoch 3/50\n",
      "358/358 [==============================] - 24s 68ms/step - loss: 1.4700 - accuracy: 0.4386 - val_loss: 1.4706 - val_accuracy: 0.4371 - lr: 0.0010\n",
      "Epoch 4/50\n",
      "358/358 [==============================] - 24s 67ms/step - loss: 1.4400 - accuracy: 0.4462 - val_loss: 1.4861 - val_accuracy: 0.4338 - lr: 0.0010\n",
      "Epoch 5/50\n",
      "358/358 [==============================] - 24s 67ms/step - loss: 1.4283 - accuracy: 0.4496 - val_loss: 1.4947 - val_accuracy: 0.4229 - lr: 0.0010\n",
      "Epoch 6/50\n",
      "358/358 [==============================] - 24s 68ms/step - loss: 1.4064 - accuracy: 0.4612 - val_loss: 1.4558 - val_accuracy: 0.4417 - lr: 0.0010\n",
      "Epoch 7/50\n",
      "358/358 [==============================] - 24s 68ms/step - loss: 1.3943 - accuracy: 0.4662 - val_loss: 1.4550 - val_accuracy: 0.4338 - lr: 0.0010\n",
      "Epoch 8/50\n",
      "358/358 [==============================] - 24s 68ms/step - loss: 1.3810 - accuracy: 0.4680 - val_loss: 1.4297 - val_accuracy: 0.4475 - lr: 0.0010\n",
      "Epoch 9/50\n",
      "358/358 [==============================] - 24s 68ms/step - loss: 1.3658 - accuracy: 0.4783 - val_loss: 1.4457 - val_accuracy: 0.4342 - lr: 0.0010\n",
      "Epoch 10/50\n",
      "358/358 [==============================] - 24s 68ms/step - loss: 1.3519 - accuracy: 0.4851 - val_loss: 1.4367 - val_accuracy: 0.4487 - lr: 0.0010\n",
      "Epoch 11/50\n",
      "358/358 [==============================] - 24s 67ms/step - loss: 1.3377 - accuracy: 0.4881 - val_loss: 1.4324 - val_accuracy: 0.4540 - lr: 0.0010\n",
      "Epoch 12/50\n",
      "358/358 [==============================] - 24s 68ms/step - loss: 1.2950 - accuracy: 0.5099 - val_loss: 1.4096 - val_accuracy: 0.4612 - lr: 1.0000e-04\n",
      "Epoch 13/50\n",
      "358/358 [==============================] - 24s 67ms/step - loss: 1.2896 - accuracy: 0.5144 - val_loss: 1.4099 - val_accuracy: 0.4628 - lr: 1.0000e-04\n",
      "Epoch 14/50\n",
      "358/358 [==============================] - 24s 68ms/step - loss: 1.2859 - accuracy: 0.5149 - val_loss: 1.4110 - val_accuracy: 0.4598 - lr: 1.0000e-04\n",
      "Epoch 15/50\n",
      "358/358 [==============================] - 24s 68ms/step - loss: 1.2872 - accuracy: 0.5148 - val_loss: 1.4097 - val_accuracy: 0.4649 - lr: 1.0000e-04\n",
      "Epoch 16/50\n",
      "358/358 [==============================] - 24s 68ms/step - loss: 1.2766 - accuracy: 0.5207 - val_loss: 1.4073 - val_accuracy: 0.4633 - lr: 1.0000e-05\n",
      "Epoch 17/50\n",
      "358/358 [==============================] - 24s 68ms/step - loss: 1.2789 - accuracy: 0.5198 - val_loss: 1.4075 - val_accuracy: 0.4631 - lr: 1.0000e-05\n",
      "Epoch 18/50\n",
      "358/358 [==============================] - 24s 68ms/step - loss: 1.2770 - accuracy: 0.5213 - val_loss: 1.4075 - val_accuracy: 0.4659 - lr: 1.0000e-05\n",
      "Epoch 19/50\n",
      "358/358 [==============================] - 24s 68ms/step - loss: 1.2756 - accuracy: 0.5210 - val_loss: 1.4073 - val_accuracy: 0.4631 - lr: 1.0000e-05\n",
      "Epoch 20/50\n",
      "358/358 [==============================] - 24s 68ms/step - loss: 1.2803 - accuracy: 0.5196 - val_loss: 1.4073 - val_accuracy: 0.4630 - lr: 1.0000e-06\n",
      "Epoch 21/50\n",
      "358/358 [==============================] - 24s 68ms/step - loss: 1.2744 - accuracy: 0.5221 - val_loss: 1.4072 - val_accuracy: 0.4631 - lr: 1.0000e-06\n",
      "Epoch 22/50\n",
      "358/358 [==============================] - 24s 68ms/step - loss: 1.2764 - accuracy: 0.5218 - val_loss: 1.4072 - val_accuracy: 0.4630 - lr: 1.0000e-06\n",
      "Epoch 23/50\n",
      "358/358 [==============================] - 24s 68ms/step - loss: 1.2737 - accuracy: 0.5225 - val_loss: 1.4073 - val_accuracy: 0.4628 - lr: 1.0000e-06\n",
      "Epoch 24/50\n",
      "358/358 [==============================] - 24s 68ms/step - loss: 1.2774 - accuracy: 0.5208 - val_loss: 1.4072 - val_accuracy: 0.4630 - lr: 1.0000e-06\n",
      "Epoch 25/50\n",
      "358/358 [==============================] - 24s 68ms/step - loss: 1.2800 - accuracy: 0.5176 - val_loss: 1.4073 - val_accuracy: 0.4631 - lr: 1.0000e-06\n",
      "Epoch 26/50\n",
      "358/358 [==============================] - 24s 68ms/step - loss: 1.2745 - accuracy: 0.5235 - val_loss: 1.4073 - val_accuracy: 0.4631 - lr: 1.0000e-06\n",
      "Epoch 27/50\n",
      "358/358 [==============================] - 24s 68ms/step - loss: 1.2775 - accuracy: 0.5208 - val_loss: 1.4072 - val_accuracy: 0.4630 - lr: 1.0000e-06\n",
      "Epoch 28/50\n",
      "358/358 [==============================] - 24s 68ms/step - loss: 1.2732 - accuracy: 0.5229 - val_loss: 1.4072 - val_accuracy: 0.4630 - lr: 1.0000e-06\n",
      "Epoch 29/50\n",
      "358/358 [==============================] - 24s 68ms/step - loss: 1.2776 - accuracy: 0.5199 - val_loss: 1.4072 - val_accuracy: 0.4631 - lr: 1.0000e-06\n",
      "Epoch 30/50\n",
      "358/358 [==============================] - 24s 68ms/step - loss: 1.2752 - accuracy: 0.5216 - val_loss: 1.4073 - val_accuracy: 0.4635 - lr: 1.0000e-06\n",
      "Epoch 31/50\n",
      "358/358 [==============================] - 24s 68ms/step - loss: 1.2780 - accuracy: 0.5206 - val_loss: 1.4072 - val_accuracy: 0.4637 - lr: 1.0000e-06\n",
      "Epoch 32/50\n",
      "358/358 [==============================] - 24s 68ms/step - loss: 1.2769 - accuracy: 0.5222 - val_loss: 1.4072 - val_accuracy: 0.4630 - lr: 1.0000e-06\n",
      "Epoch 33/50\n",
      "358/358 [==============================] - 24s 68ms/step - loss: 1.2725 - accuracy: 0.5230 - val_loss: 1.4072 - val_accuracy: 0.4633 - lr: 1.0000e-06\n",
      "Epoch 34/50\n",
      "358/358 [==============================] - 24s 68ms/step - loss: 1.2787 - accuracy: 0.5206 - val_loss: 1.4072 - val_accuracy: 0.4633 - lr: 1.0000e-06\n",
      "Epoch 35/50\n",
      "358/358 [==============================] - 24s 68ms/step - loss: 1.2738 - accuracy: 0.5228 - val_loss: 1.4072 - val_accuracy: 0.4637 - lr: 1.0000e-06\n",
      "Epoch 36/50\n",
      "358/358 [==============================] - 24s 68ms/step - loss: 1.2771 - accuracy: 0.5212 - val_loss: 1.4072 - val_accuracy: 0.4635 - lr: 1.0000e-06\n",
      "Epoch 37/50\n",
      "358/358 [==============================] - 24s 68ms/step - loss: 1.2764 - accuracy: 0.5208 - val_loss: 1.4072 - val_accuracy: 0.4628 - lr: 1.0000e-06\n",
      "Epoch 38/50\n",
      "358/358 [==============================] - 24s 68ms/step - loss: 1.2759 - accuracy: 0.5223 - val_loss: 1.4072 - val_accuracy: 0.4630 - lr: 1.0000e-06\n",
      "Epoch 39/50\n",
      "358/358 [==============================] - 24s 68ms/step - loss: 1.2765 - accuracy: 0.5201 - val_loss: 1.4073 - val_accuracy: 0.4640 - lr: 1.0000e-06\n",
      "Epoch 40/50\n",
      "358/358 [==============================] - 24s 68ms/step - loss: 1.2746 - accuracy: 0.5233 - val_loss: 1.4072 - val_accuracy: 0.4633 - lr: 1.0000e-06\n",
      "Epoch 41/50\n",
      "358/358 [==============================] - 24s 68ms/step - loss: 1.2753 - accuracy: 0.5214 - val_loss: 1.4072 - val_accuracy: 0.4633 - lr: 1.0000e-06\n",
      "Epoch 42/50\n",
      "358/358 [==============================] - 24s 68ms/step - loss: 1.2753 - accuracy: 0.5219 - val_loss: 1.4072 - val_accuracy: 0.4637 - lr: 1.0000e-06\n",
      "Epoch 43/50\n",
      "358/358 [==============================] - 24s 68ms/step - loss: 1.2770 - accuracy: 0.5200 - val_loss: 1.4072 - val_accuracy: 0.4631 - lr: 1.0000e-06\n",
      "Epoch 44/50\n",
      "358/358 [==============================] - 24s 68ms/step - loss: 1.2750 - accuracy: 0.5224 - val_loss: 1.4072 - val_accuracy: 0.4635 - lr: 1.0000e-06\n",
      "Epoch 45/50\n",
      "358/358 [==============================] - 24s 68ms/step - loss: 1.2753 - accuracy: 0.5226 - val_loss: 1.4072 - val_accuracy: 0.4635 - lr: 1.0000e-06\n",
      "Epoch 46/50\n",
      "358/358 [==============================] - 24s 68ms/step - loss: 1.2825 - accuracy: 0.5171 - val_loss: 1.4072 - val_accuracy: 0.4630 - lr: 1.0000e-06\n",
      "Epoch 47/50\n",
      "358/358 [==============================] - 24s 68ms/step - loss: 1.2749 - accuracy: 0.5241 - val_loss: 1.4072 - val_accuracy: 0.4638 - lr: 1.0000e-06\n",
      "Epoch 48/50\n",
      "358/358 [==============================] - 24s 68ms/step - loss: 1.2726 - accuracy: 0.5209 - val_loss: 1.4072 - val_accuracy: 0.4633 - lr: 1.0000e-06\n",
      "Epoch 49/50\n",
      "358/358 [==============================] - 24s 68ms/step - loss: 1.2757 - accuracy: 0.5217 - val_loss: 1.4072 - val_accuracy: 0.4637 - lr: 1.0000e-06\n",
      "Epoch 50/50\n",
      "358/358 [==============================] - 24s 68ms/step - loss: 1.2740 - accuracy: 0.5223 - val_loss: 1.4072 - val_accuracy: 0.4637 - lr: 1.0000e-06\n"
     ]
    }
   ],
   "execution_count": 16
  },
  {
   "metadata": {
    "ExecuteTime": {
     "end_time": "2025-05-25T09:19:20.159926Z",
     "start_time": "2025-05-25T09:19:20.144927Z"
    }
   },
   "cell_type": "code",
   "source": [
    "def plot_and_save(metric_name, history, ylabel, filename):\n",
    "    plt.figure()\n",
    "    plt.plot(history.history[metric_name], label=f'Train {ylabel}')\n",
    "    if f'val_{metric_name}' in history.history:\n",
    "        plt.plot(history.history[f'val_{metric_name}'], label=f'Val {ylabel}')\n",
    "    plt.title(f'{ylabel} over Epochs')\n",
    "    plt.xlabel('Epochs')\n",
    "    plt.ylabel(ylabel)\n",
    "    plt.legend()\n",
    "    plt.grid(True)\n",
    "    plt.savefig(filename)\n",
    "    plt.close()"
   ],
   "id": "f828582938a15124",
   "outputs": [],
   "execution_count": 17
  },
  {
   "metadata": {
    "ExecuteTime": {
     "end_time": "2025-05-25T09:19:20.409715Z",
     "start_time": "2025-05-25T09:19:20.191928Z"
    }
   },
   "cell_type": "code",
   "source": [
    "plot_and_save('loss', history, 'Loss', 'image_loss_plot.png')\n",
    "plot_and_save('accuracy', history, 'Image Classification Accuracy', 'image_class_accuracy_plot.png')"
   ],
   "id": "f181cf598a288905",
   "outputs": [],
   "execution_count": 18
  },
  {
   "metadata": {
    "ExecuteTime": {
     "end_time": "2025-05-25T09:19:25.260163Z",
     "start_time": "2025-05-25T09:19:20.425230Z"
    }
   },
   "cell_type": "code",
   "source": [
    "model.evaluate(x_img_val, y_img_val, batch_size=BATCH_SIZE, verbose=2,\n",
    "               steps=len(x_img_val) // BATCH_SIZE)"
   ],
   "id": "ff524f87511e0837",
   "outputs": [
    {
     "name": "stdout",
     "output_type": "stream",
     "text": [
      "89/89 - 5s - loss: 1.4072 - accuracy: 0.4637 - 5s/epoch - 51ms/step\n"
     ]
    },
    {
     "data": {
      "text/plain": [
       "[1.4071853160858154, 0.46365872025489807]"
      ]
     },
     "execution_count": 19,
     "metadata": {},
     "output_type": "execute_result"
    }
   ],
   "execution_count": 19
  },
  {
   "metadata": {
    "ExecuteTime": {
     "end_time": "2025-05-25T09:19:31.934488Z",
     "start_time": "2025-05-25T09:19:25.291986Z"
    }
   },
   "cell_type": "code",
   "source": [
    "predictions = model.predict(x_img_val)\n",
    "predictions = np.argmax(predictions, axis=1)\n",
    "\n",
    "classes = [x for x in os.listdir(TRAIN_IMAGE_PATH)]\n",
    "print(classes)"
   ],
   "id": "3e08439cf5625864",
   "outputs": [
    {
     "name": "stdout",
     "output_type": "stream",
     "text": [
      "180/180 [==============================] - 6s 29ms/step\n",
      "['angry', 'disgust', 'fear', 'happy', 'neutral', 'sad', 'surprise']\n"
     ]
    }
   ],
   "execution_count": 20
  },
  {
   "metadata": {
    "ExecuteTime": {
     "end_time": "2025-05-25T09:19:32.314243Z",
     "start_time": "2025-05-25T09:19:31.951489Z"
    }
   },
   "cell_type": "code",
   "source": [
    "cm = confusion_matrix(y_img_val, predictions)\n",
    "plt.figure(figsize=(10, 8))  # Set the figure size if needed\n",
    "sns.heatmap(cm, annot=True, cmap='Blues', fmt='g')\n",
    "\n",
    "plt.title('Confusion Matrix Image', pad=20, fontsize=20, fontweight=\"bold\")\n",
    "plt.ylabel('Actual')\n",
    "plt.xlabel('Predicted')\n",
    "\n",
    "plt.xticks(ticks=range(len(classes)), labels=classes, rotation=45)\n",
    "plt.yticks(ticks=range(len(classes)), labels=classes, rotation=0)\n",
    "plt.savefig('confusion_matrix_image.png', dpi=300, bbox_inches='tight')\n",
    "plt.show()"
   ],
   "id": "693adb34705e161",
   "outputs": [
    {
     "data": {
      "text/plain": [
       "<Figure size 1000x800 with 2 Axes>"
      ],
      "image/png": "[encoded data removed]"
     },
     "metadata": {},
     "output_type": "display_data"
    }
   ],
   "execution_count": 21
  },
  {
   "metadata": {
    "ExecuteTime": {
     "end_time": "2025-05-25T09:19:32.361256Z",
     "start_time": "2025-05-25T09:19:32.346255Z"
    }
   },
   "cell_type": "code",
   "source": "print(classification_report(y_img_val, predictions))",
   "id": "8b5c840f09457bfa",
   "outputs": [
    {
     "name": "stdout",
     "output_type": "stream",
     "text": [
      "              precision    recall  f1-score   support\n",
      "\n",
      "           0       0.40      0.32      0.35       815\n",
      "           1       0.50      0.03      0.05        69\n",
      "           2       0.39      0.26      0.32       813\n",
      "           3       0.56      0.70      0.62      1470\n",
      "           4       0.40      0.42      0.41       978\n",
      "           5       0.36      0.38      0.37       973\n",
      "           6       0.59      0.60      0.60       624\n",
      "\n",
      "    accuracy                           0.46      5742\n",
      "   macro avg       0.46      0.39      0.39      5742\n",
      "weighted avg       0.45      0.46      0.45      5742\n",
      "\n"
     ]
    }
   ],
   "execution_count": 22
  },
  {
   "metadata": {
    "ExecuteTime": {
     "end_time": "2025-05-25T09:19:32.408255Z",
     "start_time": "2025-05-25T09:19:32.393258Z"
    }
   },
   "cell_type": "code",
   "source": "",
   "id": "9f56254043f4621d",
   "outputs": [],
   "execution_count": null
  }
 ],
 "metadata": {
  "kernelspec": {
   "display_name": "Python 3",
   "language": "python",
   "name": "python3"
  },
  "language_info": {
   "codemirror_mode": {
    "name": "ipython",
    "version": 2
   },
   "file_extension": ".py",
   "mimetype": "text/x-python",
   "name": "python",
   "nbconvert_exporter": "python",
   "pygments_lexer": "ipython2",
   "version": "2.7.6"
  }
 },
 "nbformat": 4,
 "nbformat_minor": 5
}
