{
 "cells": [
  {
   "cell_type": "code",
   "id": "initial_id",
   "metadata": {
    "collapsed": true,
    "ExecuteTime": {
     "end_time": "2025-05-12T14:03:51.317520Z",
     "start_time": "2025-05-12T14:03:49.059547Z"
    }
   },
   "source": [
    "import gc\n",
    "import os\n",
    "import numpy as np\n",
    "import pandas as pd\n",
    "import seaborn as sns\n",
    "import tensorflow as tf\n",
    "\n",
    "from shared.utils import *\n",
    "from shared.local_path import *\n",
    "\n",
    "from collections import Counter\n",
    "from matplotlib import pyplot as plt\n",
    "from sklearn.preprocessing import LabelEncoder\n",
    "from sklearn.model_selection import train_test_split\n",
    "from sklearn.metrics import confusion_matrix, classification_report"
   ],
   "outputs": [],
   "execution_count": 1
  },
  {
   "metadata": {},
   "cell_type": "markdown",
   "source": [
    "# Data Preprocessing\n",
    "## Audio Data"
   ],
   "id": "4b20bbe3d3dddd27"
  },
  {
   "metadata": {
    "ExecuteTime": {
     "end_time": "2025-05-12T14:03:53.546588Z",
     "start_time": "2025-05-12T14:03:51.873347Z"
    }
   },
   "cell_type": "code",
   "source": [
    "label = []\n",
    "filepath = []\n",
    "\n",
    "for classes in os.listdir(AUDIO_PATH):\n",
    "    for file in os.listdir(os.path.join(AUDIO_PATH, classes)):\n",
    "        file_path = os.path.join(AUDIO_PATH, classes, file)\n",
    "\n",
    "        filepath.append(file_path)\n",
    "        label.append(classes)\n",
    "\n",
    "audio = pd.DataFrame({\n",
    "    'filepath': filepath,\n",
    "    'label': label,\n",
    "})\n",
    "\n",
    "del filepath, label\n",
    "\n",
    "audio.head()"
   ],
   "id": "f3e71c396eec1afc",
   "outputs": [
    {
     "data": {
      "text/plain": [
       "                                            filepath  label\n",
       "0  E:\\\\Skripsi\\data\\audio\\angry\\03-01-05-01-01-01...  angry\n",
       "1  E:\\\\Skripsi\\data\\audio\\angry\\03-01-05-01-01-01...  angry\n",
       "2  E:\\\\Skripsi\\data\\audio\\angry\\03-01-05-01-01-01...  angry\n",
       "3  E:\\\\Skripsi\\data\\audio\\angry\\03-01-05-01-01-01...  angry\n",
       "4  E:\\\\Skripsi\\data\\audio\\angry\\03-01-05-01-01-01...  angry"
      ],
      "text/html": [
       "<div>\n",
       "<style scoped>\n",
       "    .dataframe tbody tr th:only-of-type {\n",
       "        vertical-align: middle;\n",
       "    }\n",
       "\n",
       "    .dataframe tbody tr th {\n",
       "        vertical-align: top;\n",
       "    }\n",
       "\n",
       "    .dataframe thead th {\n",
       "        text-align: right;\n",
       "    }\n",
       "</style>\n",
       "<table border=\"1\" class=\"dataframe\">\n",
       "  <thead>\n",
       "    <tr style=\"text-align: right;\">\n",
       "      <th></th>\n",
       "      <th>filepath</th>\n",
       "      <th>label</th>\n",
       "    </tr>\n",
       "  </thead>\n",
       "  <tbody>\n",
       "    <tr>\n",
       "      <th>0</th>\n",
       "      <td>E:\\\\Skripsi\\data\\audio\\angry\\03-01-05-01-01-01...</td>\n",
       "      <td>angry</td>\n",
       "    </tr>\n",
       "    <tr>\n",
       "      <th>1</th>\n",
       "      <td>E:\\\\Skripsi\\data\\audio\\angry\\03-01-05-01-01-01...</td>\n",
       "      <td>angry</td>\n",
       "    </tr>\n",
       "    <tr>\n",
       "      <th>2</th>\n",
       "      <td>E:\\\\Skripsi\\data\\audio\\angry\\03-01-05-01-01-01...</td>\n",
       "      <td>angry</td>\n",
       "    </tr>\n",
       "    <tr>\n",
       "      <th>3</th>\n",
       "      <td>E:\\\\Skripsi\\data\\audio\\angry\\03-01-05-01-01-01...</td>\n",
       "      <td>angry</td>\n",
       "    </tr>\n",
       "    <tr>\n",
       "      <th>4</th>\n",
       "      <td>E:\\\\Skripsi\\data\\audio\\angry\\03-01-05-01-01-01...</td>\n",
       "      <td>angry</td>\n",
       "    </tr>\n",
       "  </tbody>\n",
       "</table>\n",
       "</div>"
      ]
     },
     "execution_count": 2,
     "metadata": {},
     "output_type": "execute_result"
    }
   ],
   "execution_count": 2
  },
  {
   "metadata": {
    "ExecuteTime": {
     "end_time": "2025-05-12T14:03:53.624584Z",
     "start_time": "2025-05-12T14:03:53.609584Z"
    }
   },
   "cell_type": "code",
   "source": [
    "le = LabelEncoder()\n",
    "le.fit(audio['label'])\n",
    "audio['label_encoded'] = le.transform(audio['label'])\n",
    "num_classes = len(le.classes_)"
   ],
   "id": "195a58bd108d4f6c",
   "outputs": [],
   "execution_count": 3
  },
  {
   "metadata": {
    "ExecuteTime": {
     "end_time": "2025-05-12T14:08:52.059872Z",
     "start_time": "2025-05-12T14:03:53.673096Z"
    }
   },
   "cell_type": "code",
   "source": [
    "with tf.device('/GPU:0'):\n",
    "    audio['data'] = audio.filepath.apply(preprocess_audio)\n",
    "    audio = audio.sample(frac=1).reset_index(drop=True)"
   ],
   "id": "45cc66bad3799c06",
   "outputs": [
    {
     "name": "stderr",
     "output_type": "stream",
     "text": [
      "C:\\ProgramData\\miniconda3\\envs\\tf\\lib\\site-packages\\librosa\\core\\spectrum.py:266: UserWarning: n_fft=2048 is too large for input signal of length=96\n",
      "  warnings.warn(\n",
      "C:\\ProgramData\\miniconda3\\envs\\tf\\lib\\site-packages\\librosa\\core\\spectrum.py:266: UserWarning: n_fft=2048 is too large for input signal of length=1152\n",
      "  warnings.warn(\n",
      "C:\\ProgramData\\miniconda3\\envs\\tf\\lib\\site-packages\\librosa\\core\\spectrum.py:266: UserWarning: n_fft=2048 is too large for input signal of length=1472\n",
      "  warnings.warn(\n",
      "C:\\ProgramData\\miniconda3\\envs\\tf\\lib\\site-packages\\librosa\\core\\spectrum.py:266: UserWarning: n_fft=2048 is too large for input signal of length=1056\n",
      "  warnings.warn(\n",
      "C:\\ProgramData\\miniconda3\\envs\\tf\\lib\\site-packages\\librosa\\core\\spectrum.py:266: UserWarning: n_fft=2048 is too large for input signal of length=1792\n",
      "  warnings.warn(\n",
      "C:\\ProgramData\\miniconda3\\envs\\tf\\lib\\site-packages\\librosa\\core\\spectrum.py:266: UserWarning: n_fft=2048 is too large for input signal of length=320\n",
      "  warnings.warn(\n",
      "C:\\ProgramData\\miniconda3\\envs\\tf\\lib\\site-packages\\librosa\\core\\spectrum.py:266: UserWarning: n_fft=2048 is too large for input signal of length=1280\n",
      "  warnings.warn(\n",
      "C:\\ProgramData\\miniconda3\\envs\\tf\\lib\\site-packages\\librosa\\core\\spectrum.py:266: UserWarning: n_fft=2048 is too large for input signal of length=608\n",
      "  warnings.warn(\n",
      "C:\\ProgramData\\miniconda3\\envs\\tf\\lib\\site-packages\\librosa\\core\\spectrum.py:266: UserWarning: n_fft=2048 is too large for input signal of length=1920\n",
      "  warnings.warn(\n",
      "C:\\ProgramData\\miniconda3\\envs\\tf\\lib\\site-packages\\librosa\\core\\spectrum.py:266: UserWarning: n_fft=2048 is too large for input signal of length=1824\n",
      "  warnings.warn(\n",
      "C:\\ProgramData\\miniconda3\\envs\\tf\\lib\\site-packages\\librosa\\core\\spectrum.py:266: UserWarning: n_fft=2048 is too large for input signal of length=1664\n",
      "  warnings.warn(\n",
      "C:\\ProgramData\\miniconda3\\envs\\tf\\lib\\site-packages\\librosa\\core\\spectrum.py:266: UserWarning: n_fft=2048 is too large for input signal of length=1216\n",
      "  warnings.warn(\n",
      "C:\\ProgramData\\miniconda3\\envs\\tf\\lib\\site-packages\\librosa\\core\\spectrum.py:266: UserWarning: n_fft=2048 is too large for input signal of length=448\n",
      "  warnings.warn(\n",
      "C:\\ProgramData\\miniconda3\\envs\\tf\\lib\\site-packages\\librosa\\core\\spectrum.py:266: UserWarning: n_fft=2048 is too large for input signal of length=800\n",
      "  warnings.warn(\n",
      "C:\\ProgramData\\miniconda3\\envs\\tf\\lib\\site-packages\\librosa\\core\\spectrum.py:266: UserWarning: n_fft=2048 is too large for input signal of length=1952\n",
      "  warnings.warn(\n",
      "C:\\ProgramData\\miniconda3\\envs\\tf\\lib\\site-packages\\librosa\\core\\spectrum.py:266: UserWarning: n_fft=2048 is too large for input signal of length=192\n",
      "  warnings.warn(\n",
      "C:\\ProgramData\\miniconda3\\envs\\tf\\lib\\site-packages\\librosa\\core\\spectrum.py:266: UserWarning: n_fft=2048 is too large for input signal of length=544\n",
      "  warnings.warn(\n",
      "C:\\ProgramData\\miniconda3\\envs\\tf\\lib\\site-packages\\librosa\\core\\spectrum.py:266: UserWarning: n_fft=2048 is too large for input signal of length=1888\n",
      "  warnings.warn(\n",
      "C:\\ProgramData\\miniconda3\\envs\\tf\\lib\\site-packages\\librosa\\core\\spectrum.py:266: UserWarning: n_fft=2048 is too large for input signal of length=576\n",
      "  warnings.warn(\n"
     ]
    }
   ],
   "execution_count": 4
  },
  {
   "metadata": {
    "ExecuteTime": {
     "end_time": "2025-05-12T14:09:04.520924Z",
     "start_time": "2025-05-12T14:08:53.230501Z"
    }
   },
   "cell_type": "code",
   "source": [
    "x_audio = np.stack(audio['data'].values)\n",
    "y_audio = audio['label_encoded'].values\n",
    "print(x_audio.shape)\n",
    "del audio"
   ],
   "id": "bd2f2634a84b17ab",
   "outputs": [
    {
     "name": "stdout",
     "output_type": "stream",
     "text": [
      "(27406, 128, 110, 3)\n"
     ]
    }
   ],
   "execution_count": 5
  },
  {
   "metadata": {
    "ExecuteTime": {
     "end_time": "2025-05-12T14:09:07.250509Z",
     "start_time": "2025-05-12T14:09:04.584821Z"
    }
   },
   "cell_type": "code",
   "source": [
    "x_audio_train, x_temp, y_audio_train, y_temp = train_test_split(\n",
    "    x_audio, y_audio, test_size=0.3, random_state=100,\n",
    ")\n",
    "\n",
    "x_audio_val, x_audio_test, y_audio_val, y_audio_test = train_test_split(\n",
    "    x_temp, y_temp, test_size=0.5, random_state=222,\n",
    ")\n",
    "\n",
    "del x_audio, y_audio\n",
    "print(x_audio_train.shape)\n",
    "print(x_audio_train.shape[0] == len(y_audio_train))"
   ],
   "id": "69eaf9fb0aefc64a",
   "outputs": [
    {
     "name": "stdout",
     "output_type": "stream",
     "text": [
      "(19184, 128, 110, 3)\n",
      "True\n"
     ]
    }
   ],
   "execution_count": 6
  },
  {
   "metadata": {},
   "cell_type": "markdown",
   "source": "## Image Data",
   "id": "f96e3f9b1a7b0506"
  },
  {
   "metadata": {
    "ExecuteTime": {
     "end_time": "2025-05-12T14:09:10.130427Z",
     "start_time": "2025-05-12T14:09:07.425537Z"
    }
   },
   "cell_type": "code",
   "source": [
    "filepath = []\n",
    "label = []\n",
    "\n",
    "i = 0\n",
    "for classes in os.listdir(TRAIN_IMAGE_PATH):\n",
    "    for file in os.listdir(os.path.join(TRAIN_IMAGE_PATH, classes)):\n",
    "        path = os.path.join(TRAIN_IMAGE_PATH, classes, file)\n",
    "        filepath.append(path)\n",
    "        label.append(classes)\n",
    "\n",
    "train_df = pd.DataFrame({\n",
    "    'filepath': filepath,\n",
    "    'label': label\n",
    "})\n",
    "\n",
    "del filepath, label\n",
    "\n",
    "print(train_df.shape)\n",
    "print(train_df['label'].unique())\n",
    "train_df.head()"
   ],
   "id": "bac82ac90b17499d",
   "outputs": [
    {
     "name": "stdout",
     "output_type": "stream",
     "text": [
      "(33228, 2)\n",
      "['angry' 'disgust' 'fear' 'happy' 'neutral' 'sad' 'surprise']\n"
     ]
    },
    {
     "data": {
      "text/plain": [
       "                                            filepath  label\n",
       "0  E:\\\\Skripsi\\data\\new_data\\train\\angry\\angry_0_...  angry\n",
       "1  E:\\\\Skripsi\\data\\new_data\\train\\angry\\angry_0_...  angry\n",
       "2  E:\\\\Skripsi\\data\\new_data\\train\\angry\\angry_0_...  angry\n",
       "3  E:\\\\Skripsi\\data\\new_data\\train\\angry\\angry_0_...  angry\n",
       "4  E:\\\\Skripsi\\data\\new_data\\train\\angry\\angry_0_...  angry"
      ],
      "text/html": [
       "<div>\n",
       "<style scoped>\n",
       "    .dataframe tbody tr th:only-of-type {\n",
       "        vertical-align: middle;\n",
       "    }\n",
       "\n",
       "    .dataframe tbody tr th {\n",
       "        vertical-align: top;\n",
       "    }\n",
       "\n",
       "    .dataframe thead th {\n",
       "        text-align: right;\n",
       "    }\n",
       "</style>\n",
       "<table border=\"1\" class=\"dataframe\">\n",
       "  <thead>\n",
       "    <tr style=\"text-align: right;\">\n",
       "      <th></th>\n",
       "      <th>filepath</th>\n",
       "      <th>label</th>\n",
       "    </tr>\n",
       "  </thead>\n",
       "  <tbody>\n",
       "    <tr>\n",
       "      <th>0</th>\n",
       "      <td>E:\\\\Skripsi\\data\\new_data\\train\\angry\\angry_0_...</td>\n",
       "      <td>angry</td>\n",
       "    </tr>\n",
       "    <tr>\n",
       "      <th>1</th>\n",
       "      <td>E:\\\\Skripsi\\data\\new_data\\train\\angry\\angry_0_...</td>\n",
       "      <td>angry</td>\n",
       "    </tr>\n",
       "    <tr>\n",
       "      <th>2</th>\n",
       "      <td>E:\\\\Skripsi\\data\\new_data\\train\\angry\\angry_0_...</td>\n",
       "      <td>angry</td>\n",
       "    </tr>\n",
       "    <tr>\n",
       "      <th>3</th>\n",
       "      <td>E:\\\\Skripsi\\data\\new_data\\train\\angry\\angry_0_...</td>\n",
       "      <td>angry</td>\n",
       "    </tr>\n",
       "    <tr>\n",
       "      <th>4</th>\n",
       "      <td>E:\\\\Skripsi\\data\\new_data\\train\\angry\\angry_0_...</td>\n",
       "      <td>angry</td>\n",
       "    </tr>\n",
       "  </tbody>\n",
       "</table>\n",
       "</div>"
      ]
     },
     "execution_count": 7,
     "metadata": {},
     "output_type": "execute_result"
    }
   ],
   "execution_count": 7
  },
  {
   "metadata": {
    "ExecuteTime": {
     "end_time": "2025-05-12T14:09:10.768310Z",
     "start_time": "2025-05-12T14:09:10.207614Z"
    }
   },
   "cell_type": "code",
   "source": [
    "filepath = []\n",
    "label = []\n",
    "\n",
    "i = 0\n",
    "for classes in os.listdir(TEST_IMAGE_PATH):\n",
    "    for file in os.listdir(os.path.join(TEST_IMAGE_PATH, classes)):\n",
    "        path = os.path.join(TEST_IMAGE_PATH, classes, file)\n",
    "        filepath.append(path)\n",
    "        label.append(classes)\n",
    "\n",
    "img_test_df = pd.DataFrame({\n",
    "    'filepath': filepath,\n",
    "    'label': label\n",
    "})\n",
    "\n",
    "del filepath, label\n",
    "\n",
    "print(img_test_df.shape)\n",
    "print(img_test_df['label'].unique())\n",
    "img_test_df.head()"
   ],
   "id": "607de7ed67dc4fdb",
   "outputs": [
    {
     "name": "stdout",
     "output_type": "stream",
     "text": [
      "(7311, 2)\n",
      "['angry' 'disgust' 'fear' 'happy' 'neutral' 'sad' 'surprise']\n"
     ]
    },
    {
     "data": {
      "text/plain": [
       "                                            filepath  label\n",
       "0     E:\\\\Skripsi\\data\\new_data\\test\\angry\\Anger.jpg  angry\n",
       "1   E:\\\\Skripsi\\data\\new_data\\test\\angry\\Anger_1.jpg  angry\n",
       "2  E:\\\\Skripsi\\data\\new_data\\test\\angry\\Anger_10.jpg  angry\n",
       "3  E:\\\\Skripsi\\data\\new_data\\test\\angry\\Anger_11.jpg  angry\n",
       "4  E:\\\\Skripsi\\data\\new_data\\test\\angry\\Anger_12.jpg  angry"
      ],
      "text/html": [
       "<div>\n",
       "<style scoped>\n",
       "    .dataframe tbody tr th:only-of-type {\n",
       "        vertical-align: middle;\n",
       "    }\n",
       "\n",
       "    .dataframe tbody tr th {\n",
       "        vertical-align: top;\n",
       "    }\n",
       "\n",
       "    .dataframe thead th {\n",
       "        text-align: right;\n",
       "    }\n",
       "</style>\n",
       "<table border=\"1\" class=\"dataframe\">\n",
       "  <thead>\n",
       "    <tr style=\"text-align: right;\">\n",
       "      <th></th>\n",
       "      <th>filepath</th>\n",
       "      <th>label</th>\n",
       "    </tr>\n",
       "  </thead>\n",
       "  <tbody>\n",
       "    <tr>\n",
       "      <th>0</th>\n",
       "      <td>E:\\\\Skripsi\\data\\new_data\\test\\angry\\Anger.jpg</td>\n",
       "      <td>angry</td>\n",
       "    </tr>\n",
       "    <tr>\n",
       "      <th>1</th>\n",
       "      <td>E:\\\\Skripsi\\data\\new_data\\test\\angry\\Anger_1.jpg</td>\n",
       "      <td>angry</td>\n",
       "    </tr>\n",
       "    <tr>\n",
       "      <th>2</th>\n",
       "      <td>E:\\\\Skripsi\\data\\new_data\\test\\angry\\Anger_10.jpg</td>\n",
       "      <td>angry</td>\n",
       "    </tr>\n",
       "    <tr>\n",
       "      <th>3</th>\n",
       "      <td>E:\\\\Skripsi\\data\\new_data\\test\\angry\\Anger_11.jpg</td>\n",
       "      <td>angry</td>\n",
       "    </tr>\n",
       "    <tr>\n",
       "      <th>4</th>\n",
       "      <td>E:\\\\Skripsi\\data\\new_data\\test\\angry\\Anger_12.jpg</td>\n",
       "      <td>angry</td>\n",
       "    </tr>\n",
       "  </tbody>\n",
       "</table>\n",
       "</div>"
      ]
     },
     "execution_count": 8,
     "metadata": {},
     "output_type": "execute_result"
    }
   ],
   "execution_count": 8
  },
  {
   "metadata": {
    "ExecuteTime": {
     "end_time": "2025-05-12T14:09:10.893113Z",
     "start_time": "2025-05-12T14:09:10.864113Z"
    }
   },
   "cell_type": "code",
   "source": [
    "le = LabelEncoder()\n",
    "le.fit(train_df['label'])\n",
    "train_df['label_encoded'] = le.transform(train_df['label'])\n",
    "img_test_df['label_encoded'] = le.transform(img_test_df['label'])"
   ],
   "id": "446da6aa9b162ef5",
   "outputs": [],
   "execution_count": 9
  },
  {
   "metadata": {
    "ExecuteTime": {
     "end_time": "2025-05-12T14:09:32.230090Z",
     "start_time": "2025-05-12T14:09:10.989073Z"
    }
   },
   "cell_type": "code",
   "source": [
    "with tf.device('/GPU:0'):\n",
    "    train_df['data'] = train_df['filepath'].apply(lambda x: preprocess_image(x, (100, 100)))\n",
    "    img_test_df['data'] = img_test_df['filepath'].apply(lambda x: preprocess_image(x, (100, 100)))\n",
    "\n",
    "train_df.shape"
   ],
   "id": "f862871c148b1517",
   "outputs": [
    {
     "data": {
      "text/plain": [
       "(33228, 4)"
      ]
     },
     "execution_count": 10,
     "metadata": {},
     "output_type": "execute_result"
    }
   ],
   "execution_count": 10
  },
  {
   "metadata": {
    "ExecuteTime": {
     "end_time": "2025-05-12T14:09:37.532703Z",
     "start_time": "2025-05-12T14:09:36.743203Z"
    }
   },
   "cell_type": "code",
   "source": [
    "x_img = np.stack(train_df['data'].values)\n",
    "y_img = train_df['label_encoded'].values\n",
    "\n",
    "x_img_test = np.stack(img_test_df['data'].values)\n",
    "y_img_test = img_test_df['label_encoded'].values\n",
    "\n",
    "del train_df, img_test_df\n",
    "\n",
    "x_img_train, x_img_val, y_img_train, y_img_val = train_test_split(x_img, y_img, test_size=0.3, random_state=100,\n",
    "                                                                  shuffle=True, stratify=y_img)\n",
    "del x_img, y_img"
   ],
   "id": "895496cdbeae1471",
   "outputs": [],
   "execution_count": 11
  },
  {
   "metadata": {
    "ExecuteTime": {
     "end_time": "2025-05-12T14:09:37.580214Z",
     "start_time": "2025-05-12T14:09:37.566216Z"
    }
   },
   "cell_type": "code",
   "source": [
    "import numpy as np\n",
    "from collections import Counter\n",
    "\n",
    "def independent_stratified_downsample(x_img, x_audio, y_img, y_audio):\n",
    "    \"\"\"\n",
    "    Downsamples image and audio datasets independently to match total number of samples\n",
    "    while keeping all classes in both datasets.\n",
    "\n",
    "    Returns:\n",
    "        Tuple of (x_img_ds, x_audio_ds, y_img_ds, y_audio_ds)\n",
    "    \"\"\"\n",
    "    # Hitung distribusi kelas\n",
    "    class_counts_img = Counter(y_img)\n",
    "    class_counts_audio = Counter(y_audio)\n",
    "\n",
    "    # Tentukan jumlah minimum per kelas untuk masing-masing dataset\n",
    "    min_count_img = min(class_counts_img.values())\n",
    "    min_count_audio = min(class_counts_audio.values())\n",
    "\n",
    "    # Lakukan downsampling dengan stratifikasi untuk setiap dataset secara terpisah\n",
    "    selected_indices_img = []\n",
    "    for cls in class_counts_img:\n",
    "        idx = np.where(y_img == cls)[0]\n",
    "        np.random.shuffle(idx)\n",
    "        selected_indices_img.extend(idx[:min_count_img])\n",
    "\n",
    "    selected_indices_audio = []\n",
    "    for cls in class_counts_audio:\n",
    "        idx = np.where(y_audio == cls)[0]\n",
    "        np.random.shuffle(idx)\n",
    "        selected_indices_audio.extend(idx[:min_count_audio])\n",
    "\n",
    "    # Sesuaikan jumlah total sampel agar seimbang antara image dan audio\n",
    "    total_samples = min(len(selected_indices_img), len(selected_indices_audio))\n",
    "    selected_indices_img = np.array(selected_indices_img)[:total_samples]\n",
    "    selected_indices_audio = np.array(selected_indices_audio)[:total_samples]\n",
    "\n",
    "    # Ambil data akhir\n",
    "    x_img_ds = x_img[selected_indices_img]\n",
    "    y_img_ds = y_img[selected_indices_img]\n",
    "    x_audio_ds = x_audio[selected_indices_audio]\n",
    "    y_audio_ds = y_audio[selected_indices_audio]\n",
    "\n",
    "    return x_img_ds, x_audio_ds, y_img_ds, y_audio_ds\n",
    "\n",
    "import numpy as np\n",
    "from collections import Counter\n",
    "\n",
    "def global_downsample_preserve_classes(x_img, x_audio, y_img, y_audio):\n",
    "    \"\"\"\n",
    "    Randomly downsample the larger dataset to match the smaller one,\n",
    "    ensuring that all original classes remain present.\n",
    "\n",
    "    Returns:\n",
    "        x_img_ds, x_audio_ds, y_img_ds, y_audio_ds\n",
    "    \"\"\"\n",
    "    # Tentukan dataset yang lebih kecil\n",
    "    n_img = len(y_img)\n",
    "    n_audio = len(y_audio)\n",
    "    target_samples = min(n_img, n_audio)\n",
    "\n",
    "    def downsample(x, y, target_size):\n",
    "        # Ulangi hingga mendapatkan subset yang masih mencakup semua kelas\n",
    "        classes = set(y)\n",
    "        while True:\n",
    "            indices = np.random.choice(len(y), size=target_size, replace=False)\n",
    "            y_subset = y[indices]\n",
    "            if set(y_subset) == classes:\n",
    "                return x[indices], y[indices]\n",
    "\n",
    "    if n_img > n_audio:\n",
    "        x_img_ds, y_img_ds = downsample(x_img, y_img, target_samples)\n",
    "        x_audio_ds, y_audio_ds = x_audio, y_audio\n",
    "    else:\n",
    "        x_audio_ds, y_audio_ds = downsample(x_audio, y_audio, target_samples)\n",
    "        x_img_ds, y_img_ds = x_img, y_img\n",
    "\n",
    "    return x_img_ds, x_audio_ds, y_img_ds, y_audio_ds\n",
    "\n"
   ],
   "id": "d3a3d9624c82a063",
   "outputs": [],
   "execution_count": 12
  },
  {
   "metadata": {
    "ExecuteTime": {
     "end_time": "2025-05-12T14:09:37.864015Z",
     "start_time": "2025-05-12T14:09:37.615214Z"
    }
   },
   "cell_type": "code",
   "source": [
    "x_img_train, x_audio_train, y_img_train, y_audio_train = global_downsample_preserve_classes(\n",
    "    x_img_train, x_audio_train, y_img_train, y_audio_train\n",
    ")\n",
    "\n",
    "min_samples_val = min(len(y_img_val), len(y_audio_val))\n",
    "x_img_val, x_audio_val, y_img_val, y_audio_val = global_downsample_preserve_classes(\n",
    "    x_img_val, x_audio_val, y_img_val, y_audio_val\n",
    ")\n",
    "\n",
    "min_samples_test = min(len(y_img_test), len(y_audio_test))\n",
    "x_img_test, x_audio_test, y_img_test, y_audio_test = global_downsample_preserve_classes(\n",
    "    x_img_test, x_audio_test, y_img_test, y_audio_test\n",
    ")\n",
    "\n",
    "print(\"Downsampled training shape:\", x_img_train.shape)\n",
    "print(\"Training labels distribution:\", Counter(y_img_train))"
   ],
   "id": "501002f1b52bb78f",
   "outputs": [
    {
     "name": "stdout",
     "output_type": "stream",
     "text": [
      "Downsampled training shape: (19184, 100, 100, 3)\n",
      "Training labels distribution: Counter({4: 2881, 5: 2827, 3: 2760, 6: 2738, 0: 2702, 2: 2677, 1: 2599})\n"
     ]
    }
   ],
   "execution_count": 13
  },
  {
   "metadata": {
    "ExecuteTime": {
     "end_time": "2025-05-12T14:09:37.911013Z",
     "start_time": "2025-05-12T14:09:37.897018Z"
    }
   },
   "cell_type": "code",
   "source": [
    "lb_img = Counter(y_img_test)\n",
    "sorted_lb_img = dict(sorted(lb_img.items())) \n",
    "print(sorted_lb_img)"
   ],
   "id": "876ebddca9472055",
   "outputs": [
    {
     "name": "stdout",
     "output_type": "stream",
     "text": [
      "{0: 556, 1: 69, 2: 613, 3: 983, 4: 705, 5: 701, 6: 484}\n"
     ]
    }
   ],
   "execution_count": 14
  },
  {
   "metadata": {
    "ExecuteTime": {
     "end_time": "2025-05-12T14:09:37.972529Z",
     "start_time": "2025-05-12T14:09:37.958531Z"
    }
   },
   "cell_type": "code",
   "source": [
    "lb_audio = Counter(y_audio_test)\n",
    "sorted_lb_audio = dict(sorted(lb_audio.items()))\n",
    "print(sorted_lb_audio)"
   ],
   "id": "95b3b877c4ea70dc",
   "outputs": [
    {
     "name": "stdout",
     "output_type": "stream",
     "text": [
      "{0: 619, 1: 89, 2: 712, 3: 620, 4: 638, 5: 540, 6: 653, 7: 240}\n"
     ]
    }
   ],
   "execution_count": 15
  },
  {
   "metadata": {
    "ExecuteTime": {
     "end_time": "2025-05-12T14:09:38.034543Z",
     "start_time": "2025-05-12T14:09:38.020546Z"
    }
   },
   "cell_type": "code",
   "source": "len(y_img_test) == len(y_audio_test)",
   "id": "9ef761f1a057f7ed",
   "outputs": [
    {
     "data": {
      "text/plain": [
       "True"
      ]
     },
     "execution_count": 16,
     "metadata": {},
     "output_type": "execute_result"
    }
   ],
   "execution_count": 16
  },
  {
   "metadata": {
    "ExecuteTime": {
     "end_time": "2025-05-12T14:09:38.082056Z",
     "start_time": "2025-05-12T14:09:38.067058Z"
    }
   },
   "cell_type": "code",
   "source": "len(y_img_train) == len(y_audio_train)",
   "id": "cc0f6a7c3a8ff85d",
   "outputs": [
    {
     "data": {
      "text/plain": [
       "True"
      ]
     },
     "execution_count": 17,
     "metadata": {},
     "output_type": "execute_result"
    }
   ],
   "execution_count": 17
  },
  {
   "metadata": {
    "ExecuteTime": {
     "end_time": "2025-05-12T14:09:38.130120Z",
     "start_time": "2025-05-12T14:09:38.115021Z"
    }
   },
   "cell_type": "code",
   "source": [
    "lb_img = Counter(y_img_train)\n",
    "sorted_lb_img = dict(sorted(lb_img.items())) \n",
    "print(sorted_lb_img)\n",
    "\n",
    "lb_audio = Counter(y_audio_train)\n",
    "sorted_lb_audio = dict(sorted(lb_audio.items()))\n",
    "print(sorted_lb_audio)"
   ],
   "id": "86c6523971e3dc23",
   "outputs": [
    {
     "name": "stdout",
     "output_type": "stream",
     "text": [
      "{0: 2702, 1: 2599, 2: 2677, 3: 2760, 4: 2881, 5: 2827, 6: 2738}\n",
      "{0: 3041, 1: 402, 2: 3092, 3: 2996, 4: 2946, 5: 2619, 6: 3023, 7: 1065}\n"
     ]
    }
   ],
   "execution_count": 18
  },
  {
   "metadata": {
    "ExecuteTime": {
     "end_time": "2025-05-12T14:09:38.176841Z",
     "start_time": "2025-05-12T14:09:38.161842Z"
    }
   },
   "cell_type": "code",
   "source": [
    "lb_img = Counter(y_img_val)\n",
    "sorted_lb_img = dict(sorted(lb_img.items())) \n",
    "print(sorted_lb_img)\n",
    "\n",
    "lb_audio = Counter(y_audio_val)\n",
    "sorted_lb_audio = dict(sorted(lb_audio.items()))\n",
    "print(sorted_lb_audio)"
   ],
   "id": "b867295ca4308001",
   "outputs": [
    {
     "name": "stdout",
     "output_type": "stream",
     "text": [
      "{0: 586, 1: 573, 2: 579, 3: 597, 4: 623, 5: 577, 6: 576}\n",
      "{0: 668, 1: 84, 2: 687, 3: 647, 4: 594, 5: 539, 6: 656, 7: 236}\n"
     ]
    }
   ],
   "execution_count": 19
  },
  {
   "metadata": {
    "ExecuteTime": {
     "end_time": "2025-05-12T14:09:38.223756Z",
     "start_time": "2025-05-12T14:09:38.209757Z"
    }
   },
   "cell_type": "code",
   "source": "",
   "id": "5346b5f95d9a42e5",
   "outputs": [],
   "execution_count": null
  }
 ],
 "metadata": {
  "kernelspec": {
   "display_name": "Python 3",
   "language": "python",
   "name": "python3"
  },
  "language_info": {
   "codemirror_mode": {
    "name": "ipython",
    "version": 2
   },
   "file_extension": ".py",
   "mimetype": "text/x-python",
   "name": "python",
   "nbconvert_exporter": "python",
   "pygments_lexer": "ipython2",
   "version": "2.7.6"
  }
 },
 "nbformat": 4,
 "nbformat_minor": 5
}
