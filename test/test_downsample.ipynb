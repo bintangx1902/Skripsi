{
 "cells": [
  {
   "cell_type": "code",
   "id": "initial_id",
   "metadata": {
    "collapsed": true,
    "ExecuteTime": {
     "end_time": "2025-05-14T03:31:38.285168Z",
     "start_time": "2025-05-14T03:31:38.280172Z"
    }
   },
   "source": [
    "import os\n",
    "import pandas as pd\n",
    "\n",
    "from shared.ubuntu_path import *\n",
    "from shared.utils import *\n",
    "\n",
    "from sklearn.model_selection import train_test_split\n",
    "from sklearn.preprocessing import LabelEncoder"
   ],
   "outputs": [],
   "execution_count": 6
  },
  {
   "metadata": {
    "ExecuteTime": {
     "end_time": "2025-05-14T03:16:04.503892Z",
     "start_time": "2025-05-14T03:16:04.435608Z"
    }
   },
   "cell_type": "code",
   "source": [
    "label = []\n",
    "filepath = []\n",
    "\n",
    "for classes in os.listdir(AUDIO_PATH):\n",
    "    for file in os.listdir(os.path.join(AUDIO_PATH, classes)):\n",
    "        file_path = os.path.join(AUDIO_PATH, classes, file)\n",
    "\n",
    "        filepath.append(file_path)\n",
    "        label.append(classes)\n",
    "\n",
    "audio = pd.DataFrame({\n",
    "    'filepath': filepath,\n",
    "    'label': label,\n",
    "})\n",
    "\n",
    "del filepath, label\n",
    "\n",
    "audio.head()"
   ],
   "id": "cb83f08f0187337",
   "outputs": [
    {
     "data": {
      "text/plain": [
       "                                            filepath label\n",
       "0  /home/bintang/Desktop/Skripsi/data/audio/sad/1...   sad\n",
       "1  /home/bintang/Desktop/Skripsi/data/audio/sad/0...   sad\n",
       "2  /home/bintang/Desktop/Skripsi/data/audio/sad/1...   sad\n",
       "3  /home/bintang/Desktop/Skripsi/data/audio/sad/1...   sad\n",
       "4  /home/bintang/Desktop/Skripsi/data/audio/sad/1...   sad"
      ],
      "text/html": [
       "<div>\n",
       "<style scoped>\n",
       "    .dataframe tbody tr th:only-of-type {\n",
       "        vertical-align: middle;\n",
       "    }\n",
       "\n",
       "    .dataframe tbody tr th {\n",
       "        vertical-align: top;\n",
       "    }\n",
       "\n",
       "    .dataframe thead th {\n",
       "        text-align: right;\n",
       "    }\n",
       "</style>\n",
       "<table border=\"1\" class=\"dataframe\">\n",
       "  <thead>\n",
       "    <tr style=\"text-align: right;\">\n",
       "      <th></th>\n",
       "      <th>filepath</th>\n",
       "      <th>label</th>\n",
       "    </tr>\n",
       "  </thead>\n",
       "  <tbody>\n",
       "    <tr>\n",
       "      <th>0</th>\n",
       "      <td>/home/bintang/Desktop/Skripsi/data/audio/sad/1...</td>\n",
       "      <td>sad</td>\n",
       "    </tr>\n",
       "    <tr>\n",
       "      <th>1</th>\n",
       "      <td>/home/bintang/Desktop/Skripsi/data/audio/sad/0...</td>\n",
       "      <td>sad</td>\n",
       "    </tr>\n",
       "    <tr>\n",
       "      <th>2</th>\n",
       "      <td>/home/bintang/Desktop/Skripsi/data/audio/sad/1...</td>\n",
       "      <td>sad</td>\n",
       "    </tr>\n",
       "    <tr>\n",
       "      <th>3</th>\n",
       "      <td>/home/bintang/Desktop/Skripsi/data/audio/sad/1...</td>\n",
       "      <td>sad</td>\n",
       "    </tr>\n",
       "    <tr>\n",
       "      <th>4</th>\n",
       "      <td>/home/bintang/Desktop/Skripsi/data/audio/sad/1...</td>\n",
       "      <td>sad</td>\n",
       "    </tr>\n",
       "  </tbody>\n",
       "</table>\n",
       "</div>"
      ]
     },
     "execution_count": 2,
     "metadata": {},
     "output_type": "execute_result"
    }
   ],
   "execution_count": 2
  },
  {
   "metadata": {
    "ExecuteTime": {
     "end_time": "2025-05-14T03:31:40.713306Z",
     "start_time": "2025-05-14T03:31:40.700583Z"
    }
   },
   "cell_type": "code",
   "source": [
    "le = LabelEncoder()\n",
    "le.fit(audio['label'])\n",
    "audio['label_encoded'] = le.transform(audio['label'])\n",
    "num_classes = len(le.classes_)"
   ],
   "id": "ed9221047682bf81",
   "outputs": [],
   "execution_count": 7
  },
  {
   "metadata": {
    "ExecuteTime": {
     "end_time": "2025-05-14T03:26:45.438410Z",
     "start_time": "2025-05-14T03:16:04.611780Z"
    }
   },
   "cell_type": "code",
   "source": [
    "with tf.device('/GPU:0'):\n",
    "    audio['data'] = audio.filepath.apply(preprocess_audio)\n",
    "    audio = audio.sample(frac=1).reset_index(drop=True)"
   ],
   "id": "47f93ac162b5195a",
   "outputs": [
    {
     "name": "stderr",
     "output_type": "stream",
     "text": [
      "2025-05-14 10:16:04.617011: W tensorflow/stream_executor/platform/default/dso_loader.cc:64] Could not load dynamic library 'libcuda.so.1'; dlerror: libcuda.so.1: cannot open shared object file: No such file or directory; LD_LIBRARY_PATH: /home/bintang/Desktop/Skripsi/venv/lib/python3.10/site-packages/cv2/../../lib64:\n",
      "2025-05-14 10:16:04.617064: W tensorflow/stream_executor/cuda/cuda_driver.cc:263] failed call to cuInit: UNKNOWN ERROR (303)\n",
      "2025-05-14 10:16:04.617103: I tensorflow/stream_executor/cuda/cuda_diagnostics.cc:156] kernel driver does not appear to be running on this host (bintang): /proc/driver/nvidia/version does not exist\n",
      "2025-05-14 10:16:04.617503: I tensorflow/core/platform/cpu_feature_guard.cc:193] This TensorFlow binary is optimized with oneAPI Deep Neural Network Library (oneDNN) to use the following CPU instructions in performance-critical operations:  AVX2 AVX_VNNI FMA\n",
      "To enable them in other operations, rebuild TensorFlow with the appropriate compiler flags.\n",
      "/home/bintang/Desktop/Skripsi/venv/lib/python3.10/site-packages/librosa/core/spectrum.py:266: UserWarning: n_fft=2048 is too large for input signal of length=96\n",
      "  warnings.warn(\n",
      "/home/bintang/Desktop/Skripsi/venv/lib/python3.10/site-packages/librosa/core/spectrum.py:266: UserWarning: n_fft=2048 is too large for input signal of length=1152\n",
      "  warnings.warn(\n",
      "/home/bintang/Desktop/Skripsi/venv/lib/python3.10/site-packages/librosa/core/spectrum.py:266: UserWarning: n_fft=2048 is too large for input signal of length=544\n",
      "  warnings.warn(\n",
      "/home/bintang/Desktop/Skripsi/venv/lib/python3.10/site-packages/librosa/core/spectrum.py:266: UserWarning: n_fft=2048 is too large for input signal of length=1888\n",
      "  warnings.warn(\n",
      "/home/bintang/Desktop/Skripsi/venv/lib/python3.10/site-packages/librosa/core/spectrum.py:266: UserWarning: n_fft=2048 is too large for input signal of length=1952\n",
      "  warnings.warn(\n",
      "/home/bintang/Desktop/Skripsi/venv/lib/python3.10/site-packages/librosa/core/spectrum.py:266: UserWarning: n_fft=2048 is too large for input signal of length=192\n",
      "  warnings.warn(\n",
      "/home/bintang/Desktop/Skripsi/venv/lib/python3.10/site-packages/librosa/core/spectrum.py:266: UserWarning: n_fft=2048 is too large for input signal of length=1472\n",
      "  warnings.warn(\n",
      "/home/bintang/Desktop/Skripsi/venv/lib/python3.10/site-packages/librosa/core/spectrum.py:266: UserWarning: n_fft=2048 is too large for input signal of length=1824\n",
      "  warnings.warn(\n",
      "/home/bintang/Desktop/Skripsi/venv/lib/python3.10/site-packages/librosa/core/spectrum.py:266: UserWarning: n_fft=2048 is too large for input signal of length=576\n",
      "  warnings.warn(\n",
      "/home/bintang/Desktop/Skripsi/venv/lib/python3.10/site-packages/librosa/core/spectrum.py:266: UserWarning: n_fft=2048 is too large for input signal of length=1792\n",
      "  warnings.warn(\n",
      "/home/bintang/Desktop/Skripsi/venv/lib/python3.10/site-packages/librosa/core/spectrum.py:266: UserWarning: n_fft=2048 is too large for input signal of length=1280\n",
      "  warnings.warn(\n",
      "/home/bintang/Desktop/Skripsi/venv/lib/python3.10/site-packages/librosa/core/spectrum.py:266: UserWarning: n_fft=2048 is too large for input signal of length=608\n",
      "  warnings.warn(\n",
      "/home/bintang/Desktop/Skripsi/venv/lib/python3.10/site-packages/librosa/core/spectrum.py:266: UserWarning: n_fft=2048 is too large for input signal of length=1056\n",
      "  warnings.warn(\n",
      "/home/bintang/Desktop/Skripsi/venv/lib/python3.10/site-packages/librosa/core/spectrum.py:266: UserWarning: n_fft=2048 is too large for input signal of length=320\n",
      "  warnings.warn(\n",
      "/home/bintang/Desktop/Skripsi/venv/lib/python3.10/site-packages/librosa/core/spectrum.py:266: UserWarning: n_fft=2048 is too large for input signal of length=800\n",
      "  warnings.warn(\n",
      "/home/bintang/Desktop/Skripsi/venv/lib/python3.10/site-packages/librosa/core/spectrum.py:266: UserWarning: n_fft=2048 is too large for input signal of length=448\n",
      "  warnings.warn(\n",
      "/home/bintang/Desktop/Skripsi/venv/lib/python3.10/site-packages/librosa/core/spectrum.py:266: UserWarning: n_fft=2048 is too large for input signal of length=1216\n",
      "  warnings.warn(\n",
      "/home/bintang/Desktop/Skripsi/venv/lib/python3.10/site-packages/librosa/core/spectrum.py:266: UserWarning: n_fft=2048 is too large for input signal of length=1664\n",
      "  warnings.warn(\n",
      "/home/bintang/Desktop/Skripsi/venv/lib/python3.10/site-packages/librosa/core/spectrum.py:266: UserWarning: n_fft=2048 is too large for input signal of length=1920\n",
      "  warnings.warn(\n"
     ]
    }
   ],
   "execution_count": 3
  },
  {
   "metadata": {
    "jupyter": {
     "is_executing": true
    },
    "ExecuteTime": {
     "end_time": "2025-05-14T03:44:35.573228794Z",
     "start_time": "2025-05-14T03:31:45.755442Z"
    }
   },
   "cell_type": "code",
   "source": [
    "x_audio_train = np.stack(audio['data'].values)\n",
    "y_audio_train = audio['label_encoded'].values\n",
    "print(x_audio_train.shape)\n",
    "del audio"
   ],
   "id": "215c6ab62ee9f7e0",
   "outputs": [],
   "execution_count": null
  },
  {
   "metadata": {},
   "cell_type": "code",
   "outputs": [],
   "execution_count": null,
   "source": [
    "_, x_temp, _, y_temp = train_test_split(\n",
    "    x_audio_train, y_audio_train, test_size=0.4, random_state=100, shuffle=True, stratify=y_audio_train\n",
    ")\n",
    "del _\n",
    "x_audio_val, x_audio_test, y_audio_val, y_audio_test = train_test_split(\n",
    "    x_temp, y_temp, test_size=0.5, random_state=222, stratify=y_temp\n",
    ")\n",
    "\n",
    "del x_temp, y_temp\n",
    "print(x_audio_train.shape[0] == len(y_audio_train))"
   ],
   "id": "dbe55c1116444c0d"
  },
  {
   "metadata": {},
   "cell_type": "code",
   "outputs": [],
   "execution_count": null,
   "source": [
    "print(x_audio_train.shape)\n",
    "print(x_audio_val.shape)\n",
    "print(x_audio_test.shape)"
   ],
   "id": "69ce7292fdf252c7"
  },
  {
   "metadata": {},
   "cell_type": "code",
   "outputs": [],
   "execution_count": null,
   "source": [
    "filepath = []\n",
    "label = []\n",
    "\n",
    "i = 0\n",
    "for classes in os.listdir(TRAIN_IMAGE_PATH):\n",
    "    for file in os.listdir(os.path.join(TRAIN_IMAGE_PATH, classes)):\n",
    "        path = os.path.join(TRAIN_IMAGE_PATH, classes, file)\n",
    "        filepath.append(path)\n",
    "        label.append(classes)\n",
    "\n",
    "train_df = pd.DataFrame({\n",
    "    'filepath': filepath,\n",
    "    'label': label\n",
    "})\n",
    "\n",
    "del filepath, label\n",
    "\n",
    "print(train_df.shape)\n",
    "print(train_df['label'].unique())\n",
    "train_df.head()"
   ],
   "id": "836cae70fa000f0f"
  },
  {
   "metadata": {},
   "cell_type": "code",
   "outputs": [],
   "execution_count": null,
   "source": [
    "filepath = []\n",
    "label = []\n",
    "\n",
    "i = 0\n",
    "for classes in os.listdir(TEST_IMAGE_PATH):\n",
    "    for file in os.listdir(os.path.join(TEST_IMAGE_PATH, classes)):\n",
    "        path = os.path.join(TEST_IMAGE_PATH, classes, file)\n",
    "        filepath.append(path)\n",
    "        label.append(classes)\n",
    "\n",
    "img_test_df = pd.DataFrame({\n",
    "    'filepath': filepath,\n",
    "    'label': label\n",
    "})\n",
    "\n",
    "del filepath, label\n",
    "\n",
    "print(img_test_df.shape)\n",
    "print(img_test_df['label'].unique())\n",
    "img_test_df.head()"
   ],
   "id": "68913b236a955b00"
  },
  {
   "metadata": {},
   "cell_type": "code",
   "outputs": [],
   "execution_count": null,
   "source": [
    "le = LabelEncoder()\n",
    "le.fit(train_df['label'])\n",
    "train_df['label_encoded'] = le.transform(train_df['label'])\n",
    "img_test_df['label_encoded'] = le.transform(img_test_df['label'])"
   ],
   "id": "4cfe7d64b3bba58"
  },
  {
   "metadata": {},
   "cell_type": "code",
   "outputs": [],
   "execution_count": null,
   "source": "",
   "id": "3ac2432859895ece"
  }
 ],
 "metadata": {
  "kernelspec": {
   "display_name": "Python 3",
   "language": "python",
   "name": "python3"
  },
  "language_info": {
   "codemirror_mode": {
    "name": "ipython",
    "version": 2
   },
   "file_extension": ".py",
   "mimetype": "text/x-python",
   "name": "python",
   "nbconvert_exporter": "python",
   "pygments_lexer": "ipython2",
   "version": "2.7.6"
  }
 },
 "nbformat": 4,
 "nbformat_minor": 5
}
